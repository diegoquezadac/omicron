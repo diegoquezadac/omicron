{
 "cells": [
  {
   "cell_type": "markdown",
   "metadata": {
    "cell_id": "00000-0e86ab0a-dd90-415a-9cd6-7ab762df3224",
    "deepnote_cell_type": "markdown",
    "id": "L5rfZ_hYaQ1Z"
   },
   "source": [
    "<center><img src=\"http://www.exalumnos.usm.cl/wp-content/uploads/2015/06/Isotipo-Negro.gif\" title=\"Title text\" width=\"30%\" /></center>\n",
    "\n",
    "<hr style=\"height:2px;border:none\"/>\n",
    "<h1 align='center'> INF-398 Aprendizaje Automático </h1>\n",
    "\n",
    "<H3 align='center'> Tarea/Taller 1 </H3>\n",
    "<hr style=\"height:2px;border:none\"/>\n"
   ]
  },
  {
   "cell_type": "markdown",
   "metadata": {
    "cell_id": "00001-02ad3a1f-65c2-4c14-b952-c09390b428ba",
    "deepnote_cell_type": "markdown",
    "id": "HZ2x2ppMfRfu"
   },
   "source": [
    "# Temas"
   ]
  },
  {
   "cell_type": "markdown",
   "metadata": {
    "cell_id": "00002-bd6f7bbb-f2a4-4940-892b-49d79c804586",
    "deepnote_cell_type": "markdown",
    "id": "ylwudRXniRBW"
   },
   "source": [
    "* Clasificadores Discriminativos Clásicos\n",
    "* Clasificadores Generativos Clásicos\n",
    "* Evaluación de Clasificadores\n"
   ]
  },
  {
   "cell_type": "markdown",
   "metadata": {
    "cell_id": "00003-794da08e-c763-4d51-919d-151d2ac4a55b",
    "deepnote_cell_type": "markdown",
    "id": "HvdvEYzKw3RL"
   },
   "source": [
    "# Reglas & Formalidades\n",
    "\n",
    "* Pueden trabajar en equipos de 2 a 3 personas. \n",
    "* Los equipos deben ser inscritos antes del 24 Septiembre.\n",
    "* Pueden reusar código visto en clases y/o recolectar código/ideas de otros sitios, mencionando al autor y entregando un link a la fuente. \n",
    "* Si resulta necesaria, la intervención de personas ajenas al grupo (e.g. experto) debe ser declarada y justificada.\n",
    "* Tener roles dentro del equipo está bien, pero al final del proceso, cada miembro debe entender y estar en condiciones de exponer todo el trabajo realizado. \n"
   ]
  },
  {
   "cell_type": "markdown",
   "metadata": {
    "cell_id": "00004-35275a94-e3fd-4eae-9efc-509de0f7a3a7",
    "deepnote_cell_type": "markdown",
    "id": "RjXyIFcChiWu"
   },
   "source": [
    "## Entregables \n",
    "\n"
   ]
  },
  {
   "cell_type": "markdown",
   "metadata": {
    "cell_id": "00005-ced1288c-9dd1-4edd-8cb1-11d3f4f12432",
    "deepnote_cell_type": "markdown",
    "id": "D_BqodqziX7J"
   },
   "source": [
    "\n",
    "> * **Video:** Se debe preparar un video explicativo de **15 a 20 minutos** donde se describe la metodología utilizada, los resultados obtenidos y las conclusiones de la experiencia. \n",
    "\n",
    "> * **Código:** Se debe enviar un jupyter notebook con el código utilizado, de modo que sea posible **reproducir los resultados** presentados. Como alternativa, se puede entregar un link Github con el código fuente, incluyendo instrucciones precisas para ejecutar los experimentos. En cualquier caso (notebook o repo) el código debe estar ordenado y seccionado apropiadamente.\n",
    "\n",
    "> * **Conformidad Ética:** Se debe incluir una breve declaración ética en que se indique que el trabajo que se está enviando es un trabajo original, desarollado por los autores en conformidad con todas reglas antes mencionadas. Se debe también mencionar brevemente cuál fue la contribución de cada miembro del equipo. La declaración puede ser parte del notebook o estar en un archivo dentro del repo.\n",
    "\n",
    "> * **Defensa en vivo (video-conferencia):** El día de clases agendado para la discusión del taller, se seleccionarán aleatoriamente algunos equipos que presentarán oralmente su trabajo ante el curso. Los autores serán evaluados considerando la discusión y debate que generen entre sus pares. Los puntos obtenidos (positivos o negativos) se sumarán a la nota final de taller."
   ]
  },
  {
   "cell_type": "markdown",
   "metadata": {
    "cell_id": "00006-71114754-e925-44f8-a59a-2aa6df0bc650",
    "deepnote_cell_type": "markdown",
    "id": "CqQpB2uohlP5"
   },
   "source": [
    "## Fechas"
   ]
  },
  {
   "cell_type": "markdown",
   "metadata": {
    "cell_id": "00007-a70b5613-7dcb-475f-b228-f76325f63016",
    "deepnote_cell_type": "markdown",
    "id": "8opRqEcUibfI"
   },
   "source": [
    "> * Defensas: 15 de Octubre, horario de clases.\n",
    "> * Fecha de entrega de vídeo: 16 de Octubre 23:59 Hrs. (1 días después de encuentro).\n",
    "> * Fecha de entrega de Jupyter (notebook): 15 de Octubre 08:00 (se pueden hacer actualizaciones hasta el 16 de Octubre 23:59 Hrs.). \n",
    "\n"
   ]
  },
  {
   "cell_type": "markdown",
   "metadata": {
    "cell_id": "00008-550b5685-9d3c-4470-80e7-519744d9b974",
    "deepnote_cell_type": "markdown",
    "id": "8SqC2y5Vig2c"
   },
   "source": [
    "# Instrucciones"
   ]
  },
  {
   "cell_type": "markdown",
   "metadata": {
    "cell_id": "00009-73ed4436-c498-48a1-98ea-fe25524cc768",
    "deepnote_cell_type": "markdown",
    "id": "p-rhWdS_yyvG"
   },
   "source": [
    "La tarea se divide en dos secciones:\n",
    "\n",
    "\n",
    "\n",
    "> **1. Pregunta de Investigación**. Para esta parte, los autores deben elegir una hipótesis de investigación y diseñar un procedimiento experimental que permita reunir evidencia en contra o a favor de la misma. Es legítimo tomar una posición *a-priori* en base a lo que han aprendido en el curso, pero es importante analizar críticamente los resultados sin descartar hipótesis alternativas. \n",
    "\n",
    "> La metodología debe incluir al menos 3 datasets, de los cuales al menos 2 deben ser reales. Es deseable también que incluyan experimentos controlados sobre dataset sintéticos o semi-sintéticos no triviales diseñados por ustedes. Por ejemplo, para demostrar que un método logra ignorar variables irrelevantes se podrían crear variables \"fake\" manualmente. Experimentos de este último tipo que se basen en un dataset real contarán como realizados sobre \"dataset reales\".\n",
    "\n",
    "> Si no es relevante para la pregunta de investigación y en honor al tiempo, no es necesario llevar a cabo un análisis exploratorio detallado sobre cada dataset utilizado.\n",
    "\n",
    ">  **2. Desafío Kaggle**. Para esta parte, los autores enfrentarán un desafío en la plataforma Kaggle y serán calificados en base a su posición en el tablero de resultados y el puntaje obtenido.\n",
    "\n",
    "\n",
    "\n"
   ]
  },
  {
   "cell_type": "markdown",
   "metadata": {
    "cell_id": "00010-c9930dad-6d0a-4bd5-86e7-97fb3df29d86",
    "deepnote_cell_type": "markdown",
    "id": "_d7yADwXq0yb"
   },
   "source": [
    "<hr style=\"height:2px;border:none\"/>\n"
   ]
  },
  {
   "cell_type": "markdown",
   "metadata": {
    "cell_id": "00011-5ae5385f-f93c-4869-a1e7-a6e136ce5153",
    "deepnote_cell_type": "markdown",
    "id": "_uIArKuIj89d"
   },
   "source": [
    "# Parte 1. Pregunta de Investigación"
   ]
  },
  {
   "cell_type": "markdown",
   "metadata": {
    "cell_id": "00012-98abf4c1-11bd-4aea-a750-9d5469ffe52e",
    "deepnote_cell_type": "markdown"
   },
   "source": [
    "## Hipótesis Label Noise"
   ]
  },
  {
   "cell_type": "markdown",
   "metadata": {
    "cell_id": "00013-fc685551-cd09-4a81-a9a3-35a78554d748",
    "deepnote_cell_type": "markdown"
   },
   "source": [
    "Un clasificador de tipo generativo es extremadamente sensible a errores de etiquetación, es decir aún si un porcentaje pequeño (< 10%) de las etiquetas de entrenamiento está corrupta, su desempeño se deteriora significativamente (> 10% de acccuracy)."
   ]
  },
  {
   "cell_type": "markdown",
   "metadata": {
    "cell_id": "00014-e6f6abef-3efa-48b4-b8c7-20f919145af4",
    "deepnote_cell_type": "markdown",
    "tags": []
   },
   "source": [
    "## Metodología\n",
    "\n",
    "El procedimiento experimental que nos permitirá reunir evidencia para poner a prueba la hipótesis descrita anteriormente queda expresado en el siguiente **diagrama de flujo**"
   ]
  },
  {
   "cell_type": "markdown",
   "metadata": {
    "cell_id": "00015-1508578b-1f2d-4ad2-8123-154f10d32100",
    "deepnote_cell_type": "markdown",
    "tags": []
   },
   "source": [
    "<p align=\"center\">\n",
    "  <img src=\"./images/diagrama.png\" />\n",
    "</p>"
   ]
  },
  {
   "cell_type": "markdown",
   "metadata": {
    "cell_id": "00016-a5cecbbd-e9c5-41a0-8a8a-62ed276dcd1d",
    "deepnote_cell_type": "markdown"
   },
   "source": [
    "En cada iteración se guarda en un arreglo el valor $d_{ij} = e_{ij}^{c} - e_{ij} = a_{ij} - a^c_{ij}$ (denotando por $a$ al accuracy) para conformar una **muestra** de las diferencias de error de los clasificadores generativos aplicados a un dataset correcto y uno corrupto. "
   ]
  },
  {
   "cell_type": "markdown",
   "metadata": {
    "cell_id": "00018-47912ec3-29b5-44ef-b27b-038e4c5683ac",
    "deepnote_cell_type": "markdown",
    "tags": []
   },
   "source": [
    "### Test de hipótesis"
   ]
  },
  {
   "cell_type": "markdown",
   "metadata": {
    "cell_id": "00018-49efcb78-ca15-4646-b4d6-4009b0fb6f7b",
    "deepnote_cell_type": "markdown",
    "tags": []
   },
   "source": [
    "Las **hipótesis** a considerar serán las siguientes:\n",
    "  \n",
    "$$\n",
    "H_0: \\mu_{d} = 10\n",
    "$$\n",
    "$$\n",
    "H_1: \\mu_{d} < 10\n",
    "$$\n",
    "\n",
    "Se realizará el número suficiente de experimentos para aplicar el **teorema central del límite** y reemplazar la varianza poblacional por la varianza muestral.\n",
    "\n",
    "Se plantea el siguiente **estadístico de prueba** asumiendo que $\\overline{X_{d}}$ sigue una distribución normal:\n",
    "\n",
    "$$\n",
    "Z = \\frac{\\overline{X_{d}}-10}{s_{d}/\\sqrt{m}} \\approx N(0,1) \\text{  Si } H_0 \\text{ es verdadera }\n",
    "$$\n",
    "donde m es el número total de experimentos. \n",
    " \n",
    "Para aceptar o rechazar la hipótesis se usará un **nivel de significancia** $\\alpha = 0.05$. A continuación el esquema de decisión:  \n",
    "\n",
    "$$\n",
    "\\text{Regla de decisión}=\n",
    "\\begin{cases}\n",
    "\\text{rechazar } H_0 \\text{ si} & P(Z \\leq \\frac{\\overline{X_d}-10}{s/\\sqrt{m}}) < 0.05 \\\\ \n",
    "\\text{aceptar } H_0 \\text{ si} & P(Z \\leq \\frac{\\overline{X_d}-10}{s/\\sqrt{m}}) \\geq 0.05\n",
    "\\end{cases}\n",
    "$$\n",
    "\n",
    "\n",
    "Notar que $P(Z \\leq \\frac{\\overline{X_d}-10}{s/\\sqrt{m}})$ indica la probabilidad de que el estadístico de prueba sea al menos tan contradictorio a $H_0$ como el valor calculado desde la muestra. Es por esto, que cuando esta probabilidad es menor a 0.05 estamos en presencia de una muestra muy rara asumiendo $H_0$ como verdadero, por lo que la presencia de la muestra solo se puede explicar si $H_0$ es falsa."
   ]
  },
  {
   "cell_type": "markdown",
   "metadata": {
    "cell_id": "00019-8091b28d-9c13-4f60-9476-95a9146d1b7c",
    "deepnote_cell_type": "markdown"
   },
   "source": [
    "## Simulación computacional"
   ]
  },
  {
   "cell_type": "markdown",
   "metadata": {
    "cell_id": "00020-06ea44b0-bed1-47d7-8ff5-c1be285f3632",
    "deepnote_cell_type": "markdown"
   },
   "source": [
    "### Importación librerías"
   ]
  },
  {
   "cell_type": "code",
   "execution_count": 20,
   "metadata": {
    "cell_id": "00021-419089a8-d1be-4c11-b287-111251656739",
    "deepnote_cell_type": "code",
    "deepnote_to_be_reexecuted": false,
    "execution_millis": 1494,
    "execution_start": 1635218429176,
    "source_hash": "efb930ee",
    "tags": []
   },
   "outputs": [],
   "source": [
    "import numpy as np\n",
    "import matplotlib.pyplot as plt\n",
    "import pandas as pd\n",
    "import sklearn as skl\n",
    "from sklearn.datasets import load_digits\n",
    "from sklearn.model_selection import train_test_split\n",
    "from sklearn.naive_bayes import GaussianNB\n",
    "from scipy.stats import norm"
   ]
  },
  {
   "cell_type": "markdown",
   "metadata": {
    "cell_id": "00022-b2de58fc-d50a-448e-8418-6a685ac45e70",
    "deepnote_cell_type": "text-cell-h3",
    "is_collapsed": false,
    "tags": []
   },
   "source": [
    "### Generación de muestra"
   ]
  },
  {
   "cell_type": "code",
   "execution_count": 24,
   "metadata": {
    "cell_id": "00023-03bfa047-35b0-4cc2-bf96-552a6ea46fec",
    "deepnote_cell_type": "code",
    "deepnote_to_be_reexecuted": false,
    "execution_millis": 19,
    "execution_start": 1635209407229,
    "source_hash": "46a58f4d",
    "tags": []
   },
   "outputs": [],
   "source": [
    "def corrupt_labels(y, categories, corrupt_percentage):\n",
    "    \n",
    "    n = len(y)\n",
    "\n",
    "    # Define the number of labels to corrupt\n",
    "    number_labels_to_corrupt = np.floor(n * corrupt_percentage)\n",
    "\n",
    "    # Define the list that keeps track of indexes that have already been corrupted\n",
    "    corrupted_labels_index = list()\n",
    "\n",
    "    # Define the variable that keeps track of corrupted labels\n",
    "    number_corrupted_labels = 0\n",
    "\n",
    "    # Corrupt number_labels_to_corrupt labels\n",
    "    while(number_corrupted_labels < number_labels_to_corrupt):\n",
    "        \n",
    "        index_to_corrupt = np.random.randint(0,n)\n",
    "\n",
    "        # If label with index index_to_corrupt has not been corrupted, corrupt it\n",
    "        if(index_to_corrupt not in corrupted_labels_index):\n",
    "\n",
    "            # Define the possible labels to corrupt the current one\n",
    "            possibles_labels = np.array(categories, copy=True) #categories.copy()\n",
    "            possibles_labels = possibles_labels[possibles_labels != y[index_to_corrupt]]\n",
    "\n",
    "            # Take a random label from possibles labels\n",
    "            new_label_index = np.random.randint(0, len(possibles_labels))\n",
    "\n",
    "            # Corrupt\n",
    "            y[index_to_corrupt] = possibles_labels[new_label_index]\n",
    "\n",
    "            # Update state variables\n",
    "            corrupted_labels_index.append(index_to_corrupt)\n",
    "            number_corrupted_labels = number_corrupted_labels + 1\n",
    "\n",
    "    # Return the corrupted y\n",
    "    return y\n",
    "\n",
    "def accuracy_variation(X, y, categories, test_size, corrupt_percentage):\n",
    "    \n",
    "    # Create train and test sets\n",
    "    X_train, X_test, y_train, y_test = train_test_split(X, y, test_size=test_size)\n",
    "    \n",
    "    # Train the model with the original labels and calculate the accuracy\n",
    "    model_original = GaussianNB()\n",
    "    model_original.fit(X_train, y_train)\n",
    "    accuracy_original = model_original.score(X_test, y_test) \n",
    "    \n",
    "    # Corrupt 10% of the labels\n",
    "    y_train_corrupted = corrupt_labels(y_train, categories, corrupt_percentage)\n",
    "    \n",
    "    # Train the model with the corrupted labels and calculate the accuracy\n",
    "    model_corrupted = GaussianNB()\n",
    "    model_corrupted.fit(X_train, y_train_corrupted)\n",
    "    accuracy_corrupted = model_corrupted.score(X_test, y_test) \n",
    "    \n",
    "    # Return the accuracy decrease (or the error increase)\n",
    "    return accuracy_original - accuracy_corrupted\n",
    "\n",
    "def create_sample_data(n, corrupt_percentage):\n",
    "    \n",
    "    # Set seed for reproducibility\n",
    "    np.random.seed(1010101)\n",
    "    \n",
    "    # Import datasets\n",
    "    fetal_health = pd.read_csv('./datasets/fetal_health.csv')\n",
    "    wheat_seeds = pd.read_csv('./datasets/wheat-seeds.csv')\n",
    "    heart_failure = pd.read_csv('./datasets/heart_failure_clinical_records_dataset.csv')\n",
    "    digits = load_digits()\n",
    "    \n",
    "    # Define X and y for every dataset\n",
    "    data = {\n",
    "            'fetal_health': (fetal_health[fetal_health.columns[:-1]].copy(), np.array(fetal_health[fetal_health.columns[-1]].copy())),\n",
    "            'wheat_seeds': (wheat_seeds[wheat_seeds.columns[:-1]].copy(), np.array(wheat_seeds[wheat_seeds.columns[-1]].copy())),\n",
    "            'heart_failure': (heart_failure[heart_failure.columns[:-1]], np.array(heart_failure[heart_failure.columns[-1]].copy())),\n",
    "            'digits': (digits['data'], digits['target'])\n",
    "           }\n",
    "    \n",
    "    # Create sample data for every dataset\n",
    "    sample = {'fetal_health': [], 'wheat_seeds': [], 'heart_failure': [], 'digits': []}\n",
    "    \n",
    "    for dataset, values in data.items():\n",
    "        X,y = values\n",
    "        categories = np.unique(y)\n",
    "        \n",
    "        for i in range(n):\n",
    "            \n",
    "            # Calculate accuracy variation\n",
    "            sample[dataset].append(accuracy_variation(X, y, categories, 0.2, corrupt_percentage))\n",
    "\n",
    "    return sample"
   ]
  },
  {
   "cell_type": "markdown",
   "metadata": {
    "cell_id": "00024-e0d2377f-cfbf-4aaf-ac17-41e071136afe",
    "deepnote_cell_type": "markdown"
   },
   "source": [
    "### Validación hipotesis"
   ]
  },
  {
   "cell_type": "code",
   "execution_count": 25,
   "metadata": {
    "cell_id": "00025-276f1100-b847-4471-8809-14b9406e4fbf",
    "deepnote_cell_type": "code",
    "deepnote_to_be_reexecuted": false,
    "execution_millis": 18,
    "execution_start": 1635209407249,
    "source_hash": "feaaf30"
   },
   "outputs": [],
   "source": [
    "def test_hypothesis(n, alpha, corrupt_percentage=0.1):\n",
    "    \n",
    "    validations = []\n",
    "    \n",
    "    # Set seed for reproducibility\n",
    "    np.random.seed(1010101)\n",
    "    \n",
    "    # Generate a sample of n accuracy variations (accuracy_original - accuracy_corrupted) for each dataset\n",
    "    sample = create_sample_data(n, corrupt_percentage)\n",
    "    \n",
    "    # For each data set, test the hypothesis\n",
    "    for dataset, values in sample.items():\n",
    "        \n",
    "        # Calculate mean and std sample estimators\n",
    "        x,s = np.mean(values), np.std(values, ddof=1)\n",
    "        \n",
    "        # Calculate test statistic\n",
    "        Z = (x - 0.1) / (s / np.sqrt(n)) #  Z = (x - 0.1) / (s / np.sqrt(len(values)))\n",
    "        \n",
    "        # Calculate P-value\n",
    "        P = norm.cdf(Z)\n",
    "        \n",
    "        # Append validations results\n",
    "        validations.append( [dataset, P >= alpha, P, x] )\n",
    "    \n",
    "    return pd.DataFrame(validations, columns = [\"Dataset\", \"Test result\", \"P value\", \"Sample mean accuracy variation\"])"
   ]
  },
  {
   "cell_type": "code",
   "execution_count": 26,
   "metadata": {
    "cell_id": "00026-4cada4a4-7731-41b5-bc04-6bf78f0150a6",
    "deepnote_cell_type": "code",
    "deepnote_to_be_reexecuted": false,
    "execution_millis": 7660,
    "execution_start": 1635209407273,
    "source_hash": "c5e3a72e"
   },
   "outputs": [
    {
     "name": "stdout",
     "output_type": "stream",
     "text": [
      "         Dataset  Test result        P value  Sample mean accuracy variation\n",
      "0   fetal_health        False   0.000000e+00                        0.030775\n",
      "1    wheat_seeds        False  4.324679e-294                       -0.001667\n",
      "2  heart_failure        False  8.941065e-178                        0.006333\n",
      "3         digits         True   1.000000e+00                        0.173194\n"
     ]
    }
   ],
   "source": [
    "print(test_hypothesis(100, 0.05, 0.1)) # 10% of corruption"
   ]
  },
  {
   "cell_type": "code",
   "execution_count": 27,
   "metadata": {
    "cell_id": "00027-3fb8c149-ed9f-47e4-8cd2-8d8ceaa60964",
    "deepnote_cell_type": "code",
    "deepnote_to_be_reexecuted": false,
    "execution_millis": 11520,
    "execution_start": 1635209414921,
    "source_hash": "de5d48a8",
    "tags": []
   },
   "outputs": [
    {
     "name": "stdout",
     "output_type": "stream",
     "text": [
      "         Dataset  Test result  P value  Sample mean accuracy variation\n",
      "0   fetal_health         True      1.0                        0.192394\n",
      "1    wheat_seeds         True      1.0                        0.256190\n",
      "2  heart_failure         True      1.0                        0.450833\n",
      "3         digits         True      1.0                        0.552722\n"
     ]
    }
   ],
   "source": [
    "print(test_hypothesis(100, 0.05, 0.6)) # 60% of corruption"
   ]
  },
  {
   "cell_type": "markdown",
   "metadata": {
    "cell_id": "00028-51a70b54-4fa7-4233-92bd-25e54b2ab36b",
    "deepnote_cell_type": "markdown"
   },
   "source": [
    "## Verificación supuestos"
   ]
  },
  {
   "cell_type": "markdown",
   "metadata": {
    "cell_id": "00029-236d181b-208e-43df-aad2-e5e459cad4c1",
    "deepnote_cell_type": "markdown"
   },
   "source": [
    "Para que nuestra metodología sea válida, es necesario verificar el supuesto de normalidad considerado en el test de hipótesis. Recordar que se consideró que las diferencias de error de los clasificadores generativos aplicados a un dataset correcto y uno corrupto se distribuían normalmente."
   ]
  },
  {
   "cell_type": "code",
   "execution_count": 9,
   "metadata": {
    "cell_id": "00030-e8d5b45d-7c9a-4f34-91bd-9c2257a1dfb5",
    "deepnote_cell_type": "code",
    "deepnote_to_be_reexecuted": false,
    "execution_millis": 8,
    "execution_start": 1635209426445,
    "source_hash": "db039ef9"
   },
   "outputs": [],
   "source": [
    "from scipy.stats import normaltest"
   ]
  },
  {
   "cell_type": "code",
   "execution_count": 15,
   "metadata": {
    "cell_id": "00031-cde13c2b-7505-40ae-9df1-2bf5e42c0b5b",
    "deepnote_cell_type": "code",
    "deepnote_to_be_reexecuted": false,
    "execution_millis": 15309,
    "execution_start": 1635209426462,
    "source_hash": "413ea0a0"
   },
   "outputs": [],
   "source": [
    "sample = create_sample_data(100, 0.1)"
   ]
  },
  {
   "cell_type": "code",
   "execution_count": 16,
   "metadata": {
    "cell_id": "00032-0e0bf004-6d7b-47e2-90cb-d7c229ebefbd",
    "deepnote_cell_type": "code",
    "deepnote_to_be_reexecuted": false,
    "execution_millis": 1891,
    "execution_start": 1635209441771,
    "source_hash": "611a4d16"
   },
   "outputs": [
    {
     "data": {
      "image/png": "[encoded data removed]",
      "text/plain": [
       "<Figure size 1080x360 with 4 Axes>"
      ]
     },
     "metadata": {
      "needs_background": "light"
     },
     "output_type": "display_data"
    }
   ],
   "source": [
    "fig, axs = plt.subplots(1, 4, sharey=False, tight_layout=True, figsize=(15,5))\n",
    "n_bins = 50\n",
    "\n",
    "axs[0].hist(sample['fetal_health'], bins=n_bins)\n",
    "axs[0].set_title(\"Fetal Health\")\n",
    "\n",
    "axs[1].hist(sample['wheat_seeds'], bins=n_bins)\n",
    "axs[1].set_title(\"Wheat Seeds\")\n",
    "\n",
    "axs[2].hist(sample['heart_failure'], bins=n_bins)\n",
    "axs[2].set_title(\"Heart Failure\")\n",
    "\n",
    "axs[3].hist(sample['digits'], bins=n_bins)\n",
    "axs[3].set_title(\"Digits\")\n",
    "\n",
    "plt.show()"
   ]
  },
  {
   "cell_type": "code",
   "execution_count": 18,
   "metadata": {
    "cell_id": "00033-5af6a0b6-1843-4064-92c9-998bb822b780",
    "deepnote_cell_type": "code",
    "deepnote_to_be_reexecuted": false,
    "execution_millis": 127,
    "execution_start": 1635209443539,
    "source_hash": "f89f2879"
   },
   "outputs": [],
   "source": [
    "def normality_test(datasets):\n",
    "    for dataset in datasets:\n",
    "        print(f\"Dataset: {dataset}\")\n",
    "        data = sample[dataset]\n",
    "        stat, p = normaltest(data)\n",
    "        print('Statistics=%.3f, p=%.3f' % (stat, p))\n",
    "\n",
    "        alpha = 0.05\n",
    "        if p >= alpha:\n",
    "            print('Sample looks Gaussian (fail to reject H0)')\n",
    "        else:\n",
    "            print('Sample does not look Gaussian (reject H0)')\n",
    "\n",
    "        print(' ')"
   ]
  },
  {
   "cell_type": "code",
   "execution_count": 19,
   "metadata": {},
   "outputs": [
    {
     "name": "stdout",
     "output_type": "stream",
     "text": [
      "Dataset: fetal_health\n",
      "Statistics=5.335, p=0.069\n",
      "Sample looks Gaussian (fail to reject H0)\n",
      " \n",
      "Dataset: wheat_seeds\n",
      "Statistics=0.217, p=0.897\n",
      "Sample looks Gaussian (fail to reject H0)\n",
      " \n",
      "Dataset: heart_failure\n",
      "Statistics=3.159, p=0.206\n",
      "Sample looks Gaussian (fail to reject H0)\n",
      " \n",
      "Dataset: digits\n",
      "Statistics=3.449, p=0.178\n",
      "Sample looks Gaussian (fail to reject H0)\n",
      " \n"
     ]
    }
   ],
   "source": [
    "normality_test(sample.keys())"
   ]
  },
  {
   "cell_type": "markdown",
   "metadata": {
    "cell_id": "00034-db4843b8-5828-4581-a90e-e96f970d650d",
    "deepnote_cell_type": "markdown",
    "tags": []
   },
   "source": [
    "## Conclusiones"
   ]
  },
  {
   "cell_type": "markdown",
   "metadata": {
    "cell_id": "00035-a746f258-1ef6-47dd-b08f-d69db146253f",
    "deepnote_cell_type": "markdown"
   },
   "source": [
    "1. Al entrenar el clasificador Gaussian Naive Bayes en un dataset tabular en donde un 10% de las etiquetas han sido corrompidas el accuracy no no altera significativamente. \n",
    "2. $H_0$ se rechaza para datasets tabulares pues el promedio muestral de la variación del accuracy es extremadamente improbable considerando $H_0$ como verdadero.\n",
    "3. $H_0$ se considera aún plausible en el reconocido dataset Iris. Creemos que el error inducido al modificar un 10% de las etiquetas es mayor que en los otros datasets debido a la representación de las imágenes como un conjunto de pixeles sin considerar su información espacial."
   ]
  },
  {
   "cell_type": "markdown",
   "metadata": {
    "cell_id": "00036-a21275b4-2af5-418a-80b5-a72fa0d9cf12",
    "deepnote_cell_type": "markdown",
    "tags": []
   },
   "source": [
    "# Parte 2. Desafío"
   ]
  },
  {
   "cell_type": "markdown",
   "metadata": {
    "cell_id": "00037-ae1705e7-8a4e-4fa6-b153-d17c759264f2",
    "deepnote_cell_type": "markdown",
    "tags": []
   },
   "source": [
    "## Modelos base"
   ]
  },
  {
   "cell_type": "code",
   "execution_count": 10,
   "metadata": {
    "cell_id": "00037-2f79d495-d9c6-41f4-84b0-98de7c8447d0",
    "deepnote_cell_type": "code",
    "deepnote_to_be_reexecuted": false,
    "execution_millis": 194,
    "execution_start": 1635218679851,
    "source_hash": "739d7560",
    "tags": []
   },
   "outputs": [],
   "source": [
    "from sklearn import preprocessing\n",
    "from sklearn.preprocessing import StandardScaler\n",
    "from sklearn.pipeline import make_pipeline\n",
    "from sklearn.model_selection import train_test_split\n",
    "from sklearn.linear_model import LogisticRegression\n",
    "from sklearn.linear_model import SGDClassifier\n",
    "from sklearn.ensemble import RandomForestClassifier\n",
    "from sklearn.neighbors import KNeighborsClassifier\n",
    "from sklearn.neural_network import MLPClassifier\n",
    "from sklearn import tree\n",
    "from sklearn import svm"
   ]
  },
  {
   "cell_type": "code",
   "execution_count": 28,
   "metadata": {
    "cell_id": "00038-8e1bec92-ed12-414e-a606-964887519f30",
    "deepnote_cell_type": "code",
    "deepnote_to_be_reexecuted": false,
    "execution_millis": 952,
    "execution_start": 1635212050785,
    "source_hash": "12d23359",
    "tags": []
   },
   "outputs": [],
   "source": [
    "train = pd.read_csv(\"./datasets/ferramenta_competition_train.csv\")\n",
    "X_test = pd.read_csv(\"./datasets/ferramenta_competition_test_without_labels.csv\")\n",
    "features = train.columns[4:] # just working with the image"
   ]
  },
  {
   "cell_type": "code",
   "execution_count": 29,
   "metadata": {
    "cell_id": "00040-ce81972d-9f59-4b96-bf15-0a1650623a9a",
    "deepnote_cell_type": "code",
    "deepnote_to_be_reexecuted": false,
    "execution_millis": 41,
    "execution_start": 1635212051738,
    "source_hash": "d608b041",
    "tags": []
   },
   "outputs": [],
   "source": [
    "X, y = train[features], train['class']\n",
    "X_train, X_val, y_train, y_val = train_test_split(X, y, test_size=0.2)"
   ]
  },
  {
   "cell_type": "markdown",
   "metadata": {
    "cell_id": "00041-b36fddcd-7364-4d51-8a10-788622b06898",
    "deepnote_cell_type": "markdown",
    "tags": []
   },
   "source": [
    "### Regresión logistíca"
   ]
  },
  {
   "cell_type": "code",
   "execution_count": 13,
   "metadata": {
    "cell_id": "00043-d3f6b8fb-9bb1-4c44-9757-30573a02e217",
    "deepnote_cell_type": "code",
    "deepnote_to_be_reexecuted": false,
    "execution_millis": 4104,
    "execution_start": 1635211570566,
    "source_hash": "17424b86",
    "tags": []
   },
   "outputs": [
    {
     "data": {
      "text/plain": [
       "Pipeline(steps=[('standardscaler', StandardScaler()),\n",
       "                ('logisticregression', LogisticRegression(max_iter=1000))])"
      ]
     },
     "execution_count": 13,
     "metadata": {},
     "output_type": "execute_result"
    }
   ],
   "source": [
    "pipe_regression = make_pipeline(StandardScaler(), LogisticRegression(max_iter = 1000))\n",
    "pipe_regression.fit(X_train, y_train) "
   ]
  },
  {
   "cell_type": "code",
   "execution_count": 14,
   "metadata": {
    "cell_id": "00043-413798e5-6a06-4b43-9c1c-5fed061b87b8",
    "deepnote_cell_type": "code",
    "deepnote_to_be_reexecuted": false,
    "execution_millis": 46,
    "execution_start": 1635211574683,
    "source_hash": "4de560e7",
    "tags": []
   },
   "outputs": [
    {
     "data": {
      "text/plain": [
       "0.7980198019801981"
      ]
     },
     "execution_count": 14,
     "metadata": {},
     "output_type": "execute_result"
    }
   ],
   "source": [
    "pipe_regression.score(X_val, y_val)"
   ]
  },
  {
   "cell_type": "markdown",
   "metadata": {
    "cell_id": "00041-fd3dc444-cd91-4a7e-b98f-f03622b8ead5",
    "deepnote_cell_type": "markdown",
    "tags": []
   },
   "source": [
    "### Árbol de decisión"
   ]
  },
  {
   "cell_type": "code",
   "execution_count": 15,
   "metadata": {
    "cell_id": "00045-4e558fdf-64a8-41ea-a89e-275e0c3b32bb",
    "deepnote_cell_type": "code",
    "deepnote_to_be_reexecuted": false,
    "execution_millis": 627,
    "execution_start": 1635211791087,
    "source_hash": "e5435a47",
    "tags": []
   },
   "outputs": [
    {
     "data": {
      "text/plain": [
       "Pipeline(steps=[('standardscaler', StandardScaler()),\n",
       "                ('decisiontreeclassifier', DecisionTreeClassifier())])"
      ]
     },
     "execution_count": 15,
     "metadata": {},
     "output_type": "execute_result"
    }
   ],
   "source": [
    "pipe_tree = make_pipeline(StandardScaler(), tree.DecisionTreeClassifier())\n",
    "pipe_tree.fit(X_train, y_train) "
   ]
  },
  {
   "cell_type": "code",
   "execution_count": 16,
   "metadata": {
    "cell_id": "00046-0158ad6f-60a3-4fd3-8d10-9eefbb740afa",
    "deepnote_cell_type": "code",
    "deepnote_to_be_reexecuted": false,
    "execution_millis": 13,
    "execution_start": 1635211814930,
    "source_hash": "ed97562f",
    "tags": []
   },
   "outputs": [
    {
     "data": {
      "text/plain": [
       "0.6059405940594059"
      ]
     },
     "execution_count": 16,
     "metadata": {},
     "output_type": "execute_result"
    }
   ],
   "source": [
    "pipe_tree.score(X_val, y_val)"
   ]
  },
  {
   "cell_type": "markdown",
   "metadata": {
    "cell_id": "00045-b5580f2e-2caf-4d18-9033-9f3b17de6122",
    "deepnote_cell_type": "markdown",
    "tags": []
   },
   "source": [
    "### SVM"
   ]
  },
  {
   "cell_type": "code",
   "execution_count": 17,
   "metadata": {
    "cell_id": "00048-33fd120e-c8ec-4d58-b328-a90c490e7f84",
    "deepnote_cell_type": "code",
    "deepnote_to_be_reexecuted": false,
    "execution_millis": 1046,
    "execution_start": 1635211716886,
    "source_hash": "aeb75ddc",
    "tags": []
   },
   "outputs": [
    {
     "data": {
      "text/plain": [
       "Pipeline(steps=[('standardscaler', StandardScaler()), ('svc', SVC())])"
      ]
     },
     "execution_count": 17,
     "metadata": {},
     "output_type": "execute_result"
    }
   ],
   "source": [
    "pipe_svm = make_pipeline(StandardScaler(), svm.SVC())\n",
    "pipe_svm.fit(X_train, y_train) "
   ]
  },
  {
   "cell_type": "code",
   "execution_count": 18,
   "metadata": {
    "cell_id": "00049-4d78fdec-9c3b-443e-ad01-39a2ca0c985d",
    "deepnote_cell_type": "code",
    "deepnote_to_be_reexecuted": false,
    "execution_millis": 593,
    "execution_start": 1635211740877,
    "source_hash": "3ff3bd33",
    "tags": []
   },
   "outputs": [
    {
     "data": {
      "text/plain": [
       "0.8178217821782178"
      ]
     },
     "execution_count": 18,
     "metadata": {},
     "output_type": "execute_result"
    }
   ],
   "source": [
    "pipe_svm.score(X_val, y_val)"
   ]
  },
  {
   "cell_type": "markdown",
   "metadata": {
    "cell_id": "00053-e63af936-ae82-4279-b1c9-cb85829bacd1",
    "deepnote_cell_type": "markdown",
    "tags": []
   },
   "source": [
    "## NLP Preproccesing"
   ]
  },
  {
   "cell_type": "code",
   "execution_count": 19,
   "metadata": {
    "cell_id": "00054-fa9e7b54-e0f1-463b-8ff2-6d6ef70288b4",
    "deepnote_cell_type": "code",
    "deepnote_to_be_reexecuted": false,
    "execution_millis": 7,
    "execution_start": 1635220845924,
    "source_hash": "b5093e13",
    "tags": []
   },
   "outputs": [],
   "source": [
    "import spacy\n",
    "from sklearn.feature_extraction.text import CountVectorizer\n",
    "from sklearn.feature_extraction.text import HashingVectorizer\n",
    "from sklearn.feature_extraction.text import TfidfVectorizer\n",
    "from sklearn.model_selection import RandomizedSearchCV\n",
    "from sklearn.model_selection import GridSearchCV\n",
    "from sklearn.model_selection import RepeatedStratifiedKFold\n",
    "from sklearn.linear_model import LogisticRegressionCV\n",
    "from sklearn.ensemble import GradientBoostingClassifier\n",
    "from scipy.stats import uniform\n",
    "from scipy.stats import loguniform"
   ]
  },
  {
   "cell_type": "code",
   "execution_count": 20,
   "metadata": {
    "cell_id": "00052-d6b8603c-a755-4869-9cf7-d6d1fc3c494c",
    "deepnote_cell_type": "code",
    "deepnote_to_be_reexecuted": false,
    "execution_millis": 9700,
    "execution_start": 1635218568807,
    "source_hash": "fa9f2302",
    "tags": []
   },
   "outputs": [],
   "source": [
    "#!python -m spacy download it_core_news_sm"
   ]
  },
  {
   "cell_type": "code",
   "execution_count": 21,
   "metadata": {
    "cell_id": "00056-145c51fd-32d1-45c7-a367-ecfb372242af",
    "deepnote_cell_type": "code",
    "deepnote_to_be_reexecuted": false,
    "execution_millis": 2843,
    "execution_start": 1635218588550,
    "source_hash": "db6ddae5",
    "tags": []
   },
   "outputs": [],
   "source": [
    "it = spacy.load(\"it_core_news_sm\")"
   ]
  },
  {
   "cell_type": "code",
   "execution_count": 22,
   "metadata": {
    "cell_id": "00057-46dafc1c-fa9d-4849-93ec-522e60e7a83c",
    "deepnote_cell_type": "code",
    "deepnote_to_be_reexecuted": false,
    "execution_millis": 1,
    "execution_start": 1635218515541,
    "source_hash": "707e396e",
    "tags": []
   },
   "outputs": [],
   "source": [
    "title = train['title'].values\n",
    "description = train['description'].values"
   ]
  },
  {
   "cell_type": "code",
   "execution_count": 23,
   "metadata": {
    "cell_id": "00055-7dee2d1b-9711-46ea-b7bb-f954bf90f2dd",
    "deepnote_cell_type": "code",
    "deepnote_to_be_reexecuted": false,
    "execution_millis": 1,
    "execution_start": 1635218601649,
    "source_hash": "191e27e2",
    "tags": []
   },
   "outputs": [],
   "source": [
    "def tokenize_through_lemma(it, text):\n",
    "    tokens_to_return = []\n",
    "    tokens = it(text) #spacy tokens\n",
    "    for token in tokens:\n",
    "        if token.is_stop:\n",
    "            continue\n",
    "        elif token.like_num:\n",
    "            continue\n",
    "        elif token.is_space or token.is_punct:\n",
    "            continue\n",
    "        else:\n",
    "            tokens_to_return.append(token.lemma_)\n",
    "    return tokens_to_return"
   ]
  },
  {
   "cell_type": "code",
   "execution_count": 24,
   "metadata": {
    "cell_id": "00056-e2925d27-90bd-427e-b617-52f38f64c618",
    "deepnote_cell_type": "code",
    "deepnote_to_be_reexecuted": false,
    "execution_millis": 42191,
    "execution_start": 1635218601654,
    "source_hash": "5acf5e96",
    "tags": []
   },
   "outputs": [],
   "source": [
    "title_lemmatizated = list(map(lambda text: tokenize_through_lemma(it, text), title))\n",
    "description_lemmatizated = list(map(lambda text: tokenize_through_lemma(it, text), description))"
   ]
  },
  {
   "cell_type": "code",
   "execution_count": 25,
   "metadata": {
    "cell_id": "00056-cbb3389f-a58c-4671-b671-3492b71c301c",
    "deepnote_cell_type": "code",
    "deepnote_to_be_reexecuted": false,
    "execution_millis": 1,
    "execution_start": 1635218643887,
    "source_hash": "f70f3be5",
    "tags": []
   },
   "outputs": [],
   "source": [
    "title_lemmatizated_string = list(map(lambda text: ' '.join(text), title_lemmatizated))\n",
    "description_lemmatizated_string = list(map(lambda text: ' '.join(text), description_lemmatizated))"
   ]
  },
  {
   "cell_type": "code",
   "execution_count": 28,
   "metadata": {
    "cell_id": "00063-fc476e3c-ce2c-4c55-a95b-f0db854606a9",
    "deepnote_cell_type": "code",
    "deepnote_to_be_reexecuted": false,
    "execution_millis": 8,
    "execution_start": 1635220895301,
    "source_hash": "2ec559dd",
    "tags": []
   },
   "outputs": [],
   "source": [
    "def test_vectorizer(titles_vectorized, description_vectorized, model=\"LR\"):\n",
    "\n",
    "    train = pd.read_csv(\"ferramenta_competition_train.csv\")\n",
    "    X_test = pd.read_csv(\"ferramenta_competition_test_without_labels.csv\")\n",
    "    features = train.columns[4:] # just working with the image\n",
    "    X, y = train[features], train['class']\n",
    "    \n",
    "    df_titles = pd.DataFrame(titles_vectorized)\n",
    "    df_description = pd.DataFrame(description_vectorized)\n",
    "    text = pd.concat( [df_titles, df_description], axis=1, ignore_index=True)\n",
    "\n",
    "    X_with_title = pd.concat( [X, df_titles, df_description], axis=1, ignore_index=True)\n",
    "    X_train_with_title, X_val_with_title, y_train, y_val = train_test_split(X_with_title, y, test_size=0.2, stratify=y)\n",
    "\n",
    "    if(model == \"SVM\"):\n",
    "        classifier = svm.SVC()\n",
    "        classifier.fit(X_train_with_title, y_train)\n",
    "        return classifier.score(X_val_with_title, y_val)\n",
    "    \n",
    "    if(model == \"LR\"):\n",
    "        #pipe = make_pipeline(StandardScaler(),LogisticRegression(max_iter=120, C=100, penalty='l2', solver='liblinear'))\n",
    "        #pipe.fit(X_train_with_title,y_train)\n",
    "        #return pipe.score(X_val_with_title, y_val)\n",
    "\n",
    "        classifier = LogisticRegression(max_iter=120, C=100, penalty='l2', solver='liblinear')\n",
    "        classifier.fit(X_train_with_title,y_train)\n",
    "        return classifier.score(X_val_with_title, y_val)\n",
    "    \n",
    "    if(model == \"DT\"):\n",
    "        classifier = tree.DecisionTreeClassifier()\n",
    "        classifier.fit(X_train_with_title, y_train)\n",
    "        return classifier.score(X_val_with_title, y_val)\n",
    "\n",
    "    if(model == \"SGD\"):\n",
    "        classifier = SGDClassifier(penalty=\"l2\", max_iter=1000)\n",
    "        classifier.fit(X_train_with_title, y_train)\n",
    "        return classifier.score(X_val_with_title, y_val)\n",
    "    \n",
    "    if(model == 'KNN'):\n",
    "        classifier = KNeighborsClassifier(n_neighbors=20)\n",
    "        classifier.fit(X_train_with_title, y_train)\n",
    "        return classifier.score(X_val_with_title, y_val)\n",
    "    \n",
    "    if(model == 'NN'):\n",
    "        classifier = MLPClassifier(solver='adam', activation='logistic', max_iter=500, alpha=1e-4,hidden_layer_sizes=(10, 120))\n",
    "        classifier.fit(X_train_with_title, y_train)\n",
    "        return classifier.score(X_val_with_title, y_val)\n",
    "    \n",
    "    if(model == 'RF'):\n",
    "        classifier = RandomForestClassifier(n_estimators=1400,min_samples_split=2, min_samples_leaf=1, max_features='auto',max_depth=40, bootstrap=False)\n",
    "        classifier.fit(X_train_with_title, y_train)\n",
    "        return classifier.score(X_val_with_title, y_val)"
   ]
  },
  {
   "cell_type": "code",
   "execution_count": 29,
   "metadata": {
    "cell_id": "00058-a19f8227-a099-460e-a62b-4fdcb0de42b3",
    "deepnote_cell_type": "code",
    "deepnote_to_be_reexecuted": false,
    "execution_millis": 29,
    "execution_start": 1635218981542,
    "source_hash": "543dc5ed",
    "tags": []
   },
   "outputs": [
    {
     "name": "stdout",
     "output_type": "stream",
     "text": [
      "0.9702970297029703\n",
      "0.9544554455445544\n",
      "0.9643564356435643\n",
      "0.9584158415841584\n",
      "0.9643564356435643\n",
      "0.9544554455445544\n",
      "0.9663366336633663\n",
      "0.9504950495049505\n",
      "0.9683168316831683\n",
      "0.9643564356435643\n",
      "0.9643564356435643\n",
      "0.9603960396039604\n",
      "0.9504950495049505\n",
      "0.9663366336633663\n",
      "0.9564356435643564\n",
      "0.9504950495049505\n",
      "0.9702970297029703\n",
      "0.9722772277227723\n",
      "0.9544554455445544\n",
      "0.9623762376237623\n",
      "0.9611881188118812\n"
     ]
    }
   ],
   "source": [
    "# Count Vectorizer\n",
    "vectorizer_title = CountVectorizer(binary=True)\n",
    "vectorizer_title.fit(title_lemmatizated_string)\n",
    "X_CountVectorizer_title = vectorizer_title.transform(title_lemmatizated_string).toarray()\n",
    "    \n",
    "vectorizer_description = CountVectorizer(binary=True)\n",
    "vectorizer_description.fit(description_lemmatizated_string)\n",
    "X_CountVectorizer_description = vectorizer_description.transform(description_lemmatizated_string).toarray()\n",
    "\n",
    "scores = []\n",
    "for i in range(20):\n",
    "    score = test_vectorizer(X_CountVectorizer_title, X_CountVectorizer_description,  model=\"LR\")\n",
    "    scores.append(score)\n",
    "    print(test_vectorizer(X_CountVectorizer_title, X_CountVectorizer_description,  model=\"LR\"))\n",
    "print(np.mean(scores))"
   ]
  },
  {
   "cell_type": "code",
   "execution_count": null,
   "metadata": {
    "cell_id": "00060-73407ed0-698c-4038-ba90-a4ef18d58ed1",
    "deepnote_cell_type": "code",
    "deepnote_to_be_reexecuted": false,
    "execution_millis": 111,
    "execution_start": 1635220731936,
    "source_hash": "146becc7",
    "tags": []
   },
   "outputs": [],
   "source": [
    "# TfidVectorizer\n",
    "vectorizer_title = TfidfVectorizer(use_idf=False, sublinear_tf=True)\n",
    "vectorizer_title.fit(title_lemmatizated_string)\n",
    "X_TfidVectorizer_title = vectorizer_title.transform(title_lemmatizated_string).toarray()\n",
    "\n",
    "vectorizer_description = TfidfVectorizer(use_idf=False, sublinear_tf=True)\n",
    "vectorizer_description.fit(description_lemmatizated_string)\n",
    "X_TfidVectorizer_description = vectorizer_description.transform(description_lemmatizated_string).toarray()\n",
    "\n",
    "for i in range(10):\n",
    "    print(test_vectorizer(X_TfidVectorizer_title, X_TfidVectorizer_description,  model=\"LR\"))"
   ]
  },
  {
   "cell_type": "code",
   "execution_count": null,
   "metadata": {},
   "outputs": [],
   "source": [
    "def predict_test(model, vectorizer_title, vectorizer_description):\n",
    "\n",
    "    X_test = pd.read_csv(\"./datasets/ferramenta_competition_test_without_labels.csv\")\n",
    "    features = X_test.columns[3:]\n",
    "    X = X_test[features]\n",
    "    \n",
    "    title = X_test['title'].values\n",
    "    description = X_test['description'].values\n",
    "    \n",
    "    title_lemmatizated = list(map(lambda text: tokenize_through_lemma(it, text), title))\n",
    "    description_lemmatizated = list(map(lambda text: tokenize_through_lemma(it, text), description))\n",
    "    \n",
    "    title_lemmatizated_string = list(map(lambda text: ' '.join(text), title_lemmatizated))\n",
    "    description_lemmatizated_string = list(map(lambda text: ' '.join(text), description_lemmatizated))\n",
    "\n",
    "    titles_vectorized = vectorizer_title.transform(title_lemmatizated_string).toarray()\n",
    "\n",
    "    description_vectorized = vectorizer_description.transform(description_lemmatizated_string).toarray()\n",
    "    \n",
    "    df_titles = pd.DataFrame(titles_vectorized)\n",
    "    df_description = pd.DataFrame(description_vectorized)\n",
    "\n",
    "    X_with_title = pd.concat( [X, df_titles, df_description], axis=1, ignore_index=True)\n",
    "    \n",
    "    \n",
    "    return pd.concat( [pd.DataFrame(X_test['image']), pd.DataFrame(model.predict(X_with_title))], axis=1, ignore_index=True )"
   ]
  },
  {
   "cell_type": "code",
   "execution_count": null,
   "metadata": {},
   "outputs": [],
   "source": [
    "#model = test_vectorizer(X_CountVectorizer_title, X_CountVectorizer_description,  model=\"LR\")[0]"
   ]
  },
  {
   "cell_type": "code",
   "execution_count": null,
   "metadata": {},
   "outputs": [],
   "source": [
    "#pred = predict_test(model, vectorizer_title, vectorizer_description)"
   ]
  },
  {
   "cell_type": "code",
   "execution_count": null,
   "metadata": {},
   "outputs": [],
   "source": [
    "#pred.rename(columns={0: 'image', 1: 'class'}, inplace=True)"
   ]
  },
  {
   "cell_type": "code",
   "execution_count": null,
   "metadata": {},
   "outputs": [],
   "source": [
    "#pred.to_csv(\"submission.csv\", index=False)"
   ]
  }
 ],
 "metadata": {
  "colab": {
   "collapsed_sections": [],
   "name": "[ANN]Taller1_INF398_2021-II.ipynb",
   "provenance": [],
   "toc_visible": true
  },
  "deepnote": {
   "is_reactive": false
  },
  "deepnote_execution_queue": [],
  "deepnote_notebook_id": "239b7999-ce92-484a-ad2c-3a9e7d5b9ed7",
  "kernelspec": {
   "display_name": "Python 3",
   "language": "python",
   "name": "python3"
  },
  "language_info": {
   "codemirror_mode": {
    "name": "ipython",
    "version": 3
   },
   "file_extension": ".py",
   "mimetype": "text/x-python",
   "name": "python",
   "nbconvert_exporter": "python",
   "pygments_lexer": "ipython3",
   "version": "3.8.8"
  }
 },
 "nbformat": 4,
 "nbformat_minor": 1
}
