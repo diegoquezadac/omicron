{
 "cells": [
  {
   "cell_type": "markdown",
   "metadata": {
    "cell_id": "00000-0e86ab0a-dd90-415a-9cd6-7ab762df3224",
    "deepnote_cell_type": "markdown",
    "id": "L5rfZ_hYaQ1Z"
   },
   "source": [
    "<center><img src=\"http://www.exalumnos.usm.cl/wp-content/uploads/2015/06/Isotipo-Negro.gif\" title=\"Title text\" width=\"30%\" /></center>\n",
    "\n",
    "<hr style=\"height:2px;border:none\"/>\n",
    "<h1 align='center'> INF-398 Aprendizaje Automático </h1>\n",
    "\n",
    "<H3 align='center'> Tarea/Taller 1 </H3>\n",
    "<hr style=\"height:2px;border:none\"/>\n"
   ]
  },
  {
   "cell_type": "markdown",
   "metadata": {
    "cell_id": "00001-02ad3a1f-65c2-4c14-b952-c09390b428ba",
    "deepnote_cell_type": "markdown",
    "id": "HZ2x2ppMfRfu"
   },
   "source": [
    "# Temas"
   ]
  },
  {
   "cell_type": "markdown",
   "metadata": {
    "cell_id": "00002-bd6f7bbb-f2a4-4940-892b-49d79c804586",
    "deepnote_cell_type": "markdown",
    "id": "ylwudRXniRBW"
   },
   "source": [
    "* Clasificadores Discriminativos Clásicos\n",
    "* Clasificadores Generativos Clásicos\n",
    "* Evaluación de Clasificadores\n"
   ]
  },
  {
   "cell_type": "markdown",
   "metadata": {
    "cell_id": "00003-794da08e-c763-4d51-919d-151d2ac4a55b",
    "deepnote_cell_type": "markdown",
    "id": "HvdvEYzKw3RL"
   },
   "source": [
    "# Reglas & Formalidades\n",
    "\n",
    "* Pueden trabajar en equipos de 2 a 3 personas. \n",
    "* Los equipos deben ser inscritos antes del 24 Septiembre.\n",
    "* Pueden reusar código visto en clases y/o recolectar código/ideas de otros sitios, mencionando al autor y entregando un link a la fuente. \n",
    "* Si resulta necesaria, la intervención de personas ajenas al grupo (e.g. experto) debe ser declarada y justificada.\n",
    "* Tener roles dentro del equipo está bien, pero al final del proceso, cada miembro debe entender y estar en condiciones de exponer todo el trabajo realizado. \n"
   ]
  },
  {
   "cell_type": "markdown",
   "metadata": {},
   "source": [
    "# Integrantes\n",
    "\n",
    "1. Fernanda Avendaño\n",
    "2. Diego Quezada\n",
    "3. Kevin Reyes"
   ]
  },
  {
   "cell_type": "markdown",
   "metadata": {
    "cell_id": "00004-35275a94-e3fd-4eae-9efc-509de0f7a3a7",
    "deepnote_cell_type": "markdown",
    "id": "RjXyIFcChiWu"
   },
   "source": [
    "## Entregables "
   ]
  },
  {
   "cell_type": "markdown",
   "metadata": {
    "cell_id": "00005-ced1288c-9dd1-4edd-8cb1-11d3f4f12432",
    "deepnote_cell_type": "markdown",
    "id": "D_BqodqziX7J"
   },
   "source": [
    "\n",
    "> * **Video:** Se debe preparar un video explicativo de **15 a 20 minutos** donde se describe la metodología utilizada, los resultados obtenidos y las conclusiones de la experiencia. \n",
    "\n",
    "> * **Código:** Se debe enviar un jupyter notebook con el código utilizado, de modo que sea posible **reproducir los resultados** presentados. Como alternativa, se puede entregar un link Github con el código fuente, incluyendo instrucciones precisas para ejecutar los experimentos. En cualquier caso (notebook o repo) el código debe estar ordenado y seccionado apropiadamente.\n",
    "\n",
    "> * **Conformidad Ética:** Se debe incluir una breve declaración ética en que se indique que el trabajo que se está enviando es un trabajo original, desarollado por los autores en conformidad con todas reglas antes mencionadas. Se debe también mencionar brevemente cuál fue la contribución de cada miembro del equipo. La declaración puede ser parte del notebook o estar en un archivo dentro del repo.\n",
    "\n",
    "> * **Defensa en vivo (video-conferencia):** El día de clases agendado para la discusión del taller, se seleccionarán aleatoriamente algunos equipos que presentarán oralmente su trabajo ante el curso. Los autores serán evaluados considerando la discusión y debate que generen entre sus pares. Los puntos obtenidos (positivos o negativos) se sumarán a la nota final de taller."
   ]
  },
  {
   "cell_type": "markdown",
   "metadata": {
    "cell_id": "00006-71114754-e925-44f8-a59a-2aa6df0bc650",
    "deepnote_cell_type": "markdown",
    "id": "CqQpB2uohlP5"
   },
   "source": [
    "## Fechas"
   ]
  },
  {
   "cell_type": "markdown",
   "metadata": {
    "cell_id": "00007-a70b5613-7dcb-475f-b228-f76325f63016",
    "deepnote_cell_type": "markdown",
    "id": "8opRqEcUibfI"
   },
   "source": [
    "> * Defensas: 15 de Octubre, horario de clases.\n",
    "> * Fecha de entrega de vídeo: 16 de Octubre 23:59 Hrs. (1 días después de encuentro).\n",
    "> * Fecha de entrega de Jupyter (notebook): 15 de Octubre 08:00 (se pueden hacer actualizaciones hasta el 16 de Octubre 23:59 Hrs.). \n",
    "\n"
   ]
  },
  {
   "cell_type": "markdown",
   "metadata": {
    "cell_id": "00008-550b5685-9d3c-4470-80e7-519744d9b974",
    "deepnote_cell_type": "markdown",
    "id": "8SqC2y5Vig2c"
   },
   "source": [
    "# Instrucciones"
   ]
  },
  {
   "cell_type": "markdown",
   "metadata": {
    "cell_id": "00009-73ed4436-c498-48a1-98ea-fe25524cc768",
    "deepnote_cell_type": "markdown",
    "id": "p-rhWdS_yyvG"
   },
   "source": [
    "La tarea se divide en dos secciones:\n",
    "\n",
    "\n",
    "\n",
    "> **1. Pregunta de Investigación**. Para esta parte, los autores deben elegir una hipótesis de investigación y diseñar un procedimiento experimental que permita reunir evidencia en contra o a favor de la misma. Es legítimo tomar una posición *a-priori* en base a lo que han aprendido en el curso, pero es importante analizar críticamente los resultados sin descartar hipótesis alternativas. \n",
    "\n",
    "> La metodología debe incluir al menos 3 datasets, de los cuales al menos 2 deben ser reales. Es deseable también que incluyan experimentos controlados sobre dataset sintéticos o semi-sintéticos no triviales diseñados por ustedes. Por ejemplo, para demostrar que un método logra ignorar variables irrelevantes se podrían crear variables \"fake\" manualmente. Experimentos de este último tipo que se basen en un dataset real contarán como realizados sobre \"dataset reales\".\n",
    "\n",
    "> Si no es relevante para la pregunta de investigación y en honor al tiempo, no es necesario llevar a cabo un análisis exploratorio detallado sobre cada dataset utilizado.\n",
    "\n",
    ">  **2. Desafío Kaggle**. Para esta parte, los autores enfrentarán un desafío en la plataforma Kaggle y serán calificados en base a su posición en el tablero de resultados y el puntaje obtenido.\n",
    "\n",
    "\n",
    "\n"
   ]
  },
  {
   "cell_type": "markdown",
   "metadata": {
    "cell_id": "00010-c9930dad-6d0a-4bd5-86e7-97fb3df29d86",
    "deepnote_cell_type": "markdown",
    "id": "_d7yADwXq0yb"
   },
   "source": [
    "<hr style=\"height:2px;border:none\"/>\n"
   ]
  },
  {
   "cell_type": "markdown",
   "metadata": {
    "cell_id": "00011-5ae5385f-f93c-4869-a1e7-a6e136ce5153",
    "deepnote_cell_type": "markdown",
    "id": "_uIArKuIj89d"
   },
   "source": [
    "# Parte 1. Pregunta de Investigación"
   ]
  },
  {
   "cell_type": "markdown",
   "metadata": {
    "cell_id": "00012-98abf4c1-11bd-4aea-a750-9d5469ffe52e",
    "deepnote_cell_type": "markdown"
   },
   "source": [
    "## Introducción"
   ]
  },
  {
   "cell_type": "markdown",
   "metadata": {},
   "source": [
    "### Label noise"
   ]
  },
  {
   "cell_type": "markdown",
   "metadata": {},
   "source": [
    "El label noise es el problema asociado a etiquetar incorrectamente datos. Este problema es de especial interés en Machine Learning debido a que los modelos supervisados aprenden de los datos de entrenamiento, por lo que, si los datos son demasiado ruidosos el aprendizaje resultará en un modelo impreciso. Label noise tiene una gran importancia práctica debido a que es de esperarse que los datasets contengan todo tipo de ruido, entre ellos, los asociados a etiquetas incorrectas."
   ]
  },
  {
   "cell_type": "markdown",
   "metadata": {},
   "source": [
    "### Hipótesis"
   ]
  },
  {
   "cell_type": "markdown",
   "metadata": {
    "cell_id": "00013-fc685551-cd09-4a81-a9a3-35a78554d748",
    "deepnote_cell_type": "markdown"
   },
   "source": [
    "Un clasificador de tipo generativo es extremadamente sensible a errores de etiquetación, es decir aún si un porcentaje pequeño (< 10%) de las etiquetas de entrenamiento está corrupta, su desempeño se deteriora significativamente (> 10% de acccuracy)."
   ]
  },
  {
   "cell_type": "markdown",
   "metadata": {
    "cell_id": "00014-e6f6abef-3efa-48b4-b8c7-20f919145af4",
    "deepnote_cell_type": "markdown",
    "tags": []
   },
   "source": [
    "## Metodología\n",
    "\n",
    "El procedimiento experimental que nos permitirá reunir evidencia para poner a prueba la hipótesis descrita anteriormente queda expresado en el siguiente **diagrama de flujo**"
   ]
  },
  {
   "cell_type": "markdown",
   "metadata": {
    "cell_id": "00015-1508578b-1f2d-4ad2-8123-154f10d32100",
    "deepnote_cell_type": "markdown",
    "tags": []
   },
   "source": [
    "<p align=\"center\">\n",
    "  <img src=\"./images/diagrama.png\" />\n",
    "</p>"
   ]
  },
  {
   "cell_type": "markdown",
   "metadata": {
    "cell_id": "00016-a5cecbbd-e9c5-41a0-8a8a-62ed276dcd1d",
    "deepnote_cell_type": "markdown"
   },
   "source": [
    "En cada iteración se guarda en un arreglo el valor $d_{ij} = e_{ij}^{c} - e_{ij} = a_{ij} - a^c_{ij}$ (denotando por $a$ al accuracy) para conformar una **muestra** de las diferencias de error de los clasificadores generativos aplicados a un dataset correcto y uno corrupto. "
   ]
  },
  {
   "cell_type": "markdown",
   "metadata": {
    "cell_id": "00018-47912ec3-29b5-44ef-b27b-038e4c5683ac",
    "deepnote_cell_type": "markdown",
    "tags": []
   },
   "source": [
    "### Test de hipótesis"
   ]
  },
  {
   "cell_type": "markdown",
   "metadata": {
    "cell_id": "00018-49efcb78-ca15-4646-b4d6-4009b0fb6f7b",
    "deepnote_cell_type": "markdown",
    "tags": []
   },
   "source": [
    "Las **hipótesis** a considerar serán las siguientes:\n",
    "  \n",
    "$$\n",
    "H_0: \\mu_{d} = 10\n",
    "$$\n",
    "$$\n",
    "H_1: \\mu_{d} < 10\n",
    "$$\n",
    "\n",
    "\n",
    "Se realizará el número suficiente de experimentos para aplicar el **teorema central del límite** y reemplazar la varianza poblacional por la varianza muestral.\n",
    "\n",
    "Se plantea el siguiente **estadístico de prueba** asumiendo que $\\overline{X_{d}}$ sigue una distribución normal:\n",
    "\n",
    "$$\n",
    "Z = \\frac{\\overline{X_{d}}-10}{s_{d}/\\sqrt{m}} \\approx N(0,1) \\text{  Si } H_0 \\text{ es verdadera }\n",
    "$$\n",
    "donde m es el número total de experimentos. \n",
    " \n",
    "Para aceptar o rechazar la hipótesis se usará un **nivel de significancia** $\\alpha = 0.05$. A continuación el esquema de decisión:  \n",
    "\n",
    "$$\n",
    "\\text{Regla de decisión}=\n",
    "\\begin{cases}\n",
    "\\text{Rechazar } H_0 \\text{ si} & P(Z \\leq \\frac{\\overline{X_d}-10}{s/\\sqrt{m}}) < 0.05 \\\\ \n",
    "\\text{Aceptar } H_0 \\text{ si} & P(Z \\leq \\frac{\\overline{X_d}-10}{s/\\sqrt{m}}) \\geq 0.05\n",
    "\\end{cases}\n",
    "$$\n",
    "\n",
    "\n",
    "Notar que $P(Z \\leq \\frac{\\overline{X_d}-10}{s/\\sqrt{m}})$ indica la probabilidad de que el estadístico de prueba sea al menos tan contradictorio a $H_0$ como el valor calculado desde la muestra. Es por esto, que cuando esta probabilidad es menor a 0.05 estamos en presencia de una muestra muy rara asumiendo $H_0$ como verdadero, por lo que la presencia de la muestra solo se puede explicar si $H_0$ es falsa."
   ]
  },
  {
   "cell_type": "markdown",
   "metadata": {
    "cell_id": "00019-8091b28d-9c13-4f60-9476-95a9146d1b7c",
    "deepnote_cell_type": "markdown"
   },
   "source": [
    "## Simulación computacional"
   ]
  },
  {
   "cell_type": "markdown",
   "metadata": {
    "cell_id": "00020-06ea44b0-bed1-47d7-8ff5-c1be285f3632",
    "deepnote_cell_type": "markdown"
   },
   "source": [
    "### Importación librerías"
   ]
  },
  {
   "cell_type": "code",
   "execution_count": 2,
   "metadata": {
    "cell_id": "00021-419089a8-d1be-4c11-b287-111251656739",
    "deepnote_cell_type": "code",
    "deepnote_to_be_reexecuted": false,
    "execution_millis": 1494,
    "execution_start": 1635218429176,
    "source_hash": "efb930ee",
    "tags": []
   },
   "outputs": [],
   "source": [
    "import numpy as np\n",
    "import matplotlib.pyplot as plt\n",
    "import pandas as pd\n",
    "import sklearn as skl\n",
    "from sklearn.datasets import load_digits\n",
    "from sklearn.model_selection import train_test_split\n",
    "from sklearn.naive_bayes import GaussianNB\n",
    "from scipy.stats import norm"
   ]
  },
  {
   "cell_type": "markdown",
   "metadata": {},
   "source": [
    "### Datasets"
   ]
  },
  {
   "cell_type": "markdown",
   "metadata": {},
   "source": [
    "Trabajaremos con los siguientes cuatros datasets:\n",
    "\n",
    "1. [Fetal Health](https://archive.ics.uci.edu/ml/datasets/cardiotocography): Este conjunto de datos contiene 2126 registros de 23 características extraídas de exámenes de cardiotocograma. Se busca predecir la salud de los fetos como normal, sospechosa o patológica.\n",
    "2. [Wheat Seeds](https://archive.ics.uci.edu/ml/datasets/seeds): Este conjunto de datos contiene 210 mediciones de 7 propiedades geométricas de granos pertenecientes a tres variedades diferentes de trigo. Se busca predecir el tipo de trigo.\n",
    "3. [Heart Failure](https://archive.ics.uci.edu/ml/datasets/Heart+failure+clinical+records): Este conjunto de datos contiene los registros médicos de 299 pacientes que tuvieron insuficiencia cardíaca, recopilados durante su período de seguimiento, donde cada perfil de paciente tiene 13 características clínicas. Se busca predecir, en pos de prevenir, el fallecimiento de pacientes.\n",
    "4. [MNIST](https://www.kaggle.com/c/digit-recognizer/data): Este conjunto de datos contiene 1797 registros que mediante 64 caracteristicas (pixeles) describen imágenes de dígitos escritos a mano en blanco y negro. Se busca predecir el dígito escrito a mano."
   ]
  },
  {
   "cell_type": "code",
   "execution_count": 2,
   "metadata": {},
   "outputs": [],
   "source": [
    "fetal_health = pd.read_csv('./datasets/fetal_health.csv')\n",
    "wheat_seeds = pd.read_csv('./datasets/wheat-seeds.csv')\n",
    "heart_failure = pd.read_csv('./datasets/heart_failure_clinical_records_dataset.csv')\n",
    "digits = load_digits()"
   ]
  },
  {
   "cell_type": "markdown",
   "metadata": {},
   "source": [
    "### Modelo\n",
    "\n",
    "Utilizaremos el modelo [Gaussian Naive Bayes](https://scikit-learn.org/stable/modules/generated/sklearn.naive_bayes.GaussianNB.html#sklearn.naive_bayes.GaussianNB) estándar de Sckit Learn para nuestra investigación."
   ]
  },
  {
   "cell_type": "markdown",
   "metadata": {
    "cell_id": "00022-b2de58fc-d50a-448e-8418-6a685ac45e70",
    "deepnote_cell_type": "text-cell-h3",
    "is_collapsed": false,
    "tags": []
   },
   "source": [
    "### Generación de muestra"
   ]
  },
  {
   "cell_type": "code",
   "execution_count": 3,
   "metadata": {
    "cell_id": "00023-03bfa047-35b0-4cc2-bf96-552a6ea46fec",
    "deepnote_cell_type": "code",
    "deepnote_to_be_reexecuted": false,
    "execution_millis": 19,
    "execution_start": 1635209407229,
    "source_hash": "46a58f4d",
    "tags": []
   },
   "outputs": [],
   "source": [
    "def corrupt_labels(y, categories, corrupt_percentage):\n",
    "    \n",
    "    n = len(y)\n",
    "    \n",
    "    # Define the number of labels to corrupt\n",
    "    number_labels_to_corrupt = np.floor(n * corrupt_percentage)\n",
    "\n",
    "    # Define the list that keeps track of indexes that have already been corrupted\n",
    "    corrupted_labels_index = list()\n",
    "\n",
    "    # Define the variable that keeps track of corrupted labels\n",
    "    number_corrupted_labels = 0\n",
    "\n",
    "    # Corrupt number_labels_to_corrupt labels\n",
    "    while(number_corrupted_labels < number_labels_to_corrupt):\n",
    "        \n",
    "        index_to_corrupt = np.random.randint(0,n)\n",
    "\n",
    "        # If label with index index_to_corrupt has not been corrupted, corrupt it\n",
    "        if(index_to_corrupt not in corrupted_labels_index):\n",
    "\n",
    "            # Define the possible labels to corrupt the current one\n",
    "            possibles_labels = np.array(categories, copy=True) #categories.copy()\n",
    "            possibles_labels = possibles_labels[possibles_labels != y[index_to_corrupt]]\n",
    "\n",
    "            # Take a random label from possibles labels\n",
    "            new_label_index = np.random.randint(0, len(possibles_labels))\n",
    "\n",
    "            # Corrupt\n",
    "            y[index_to_corrupt] = possibles_labels[new_label_index]\n",
    "\n",
    "            # Update state variables\n",
    "            corrupted_labels_index.append(index_to_corrupt)\n",
    "            number_corrupted_labels = number_corrupted_labels + 1\n",
    "\n",
    "    # Return the corrupted y\n",
    "    return y\n",
    "\n",
    "def accuracy_variation(X, y, categories, test_size, corrupt_percentage):\n",
    "    \n",
    "    # Create train and test sets with a fixed seed\n",
    "    X_train, X_test, y_train, y_test = train_test_split(X, y, test_size=test_size, random_state=1)\n",
    "    \n",
    "    # Train the model with the original labels and calculate the accuracy\n",
    "    model_original = GaussianNB()\n",
    "    model_original.fit(X_train, y_train)\n",
    "    accuracy_original = model_original.score(X_test, y_test) \n",
    "    \n",
    "    # Corrupt 10% of the labels\n",
    "    y_train_corrupted = corrupt_labels(y_train, categories, corrupt_percentage)\n",
    "    \n",
    "    # Train the model with the corrupted labels and calculate the accuracy\n",
    "    model_corrupted = GaussianNB()\n",
    "    model_corrupted.fit(X_train, y_train_corrupted)\n",
    "    accuracy_corrupted = model_corrupted.score(X_test, y_test) \n",
    "    \n",
    "    # Return the accuracy decrease (or the error increase)\n",
    "    return accuracy_original - accuracy_corrupted\n",
    "\n",
    "def create_sample_data(n, corrupt_percentage):\n",
    "    \n",
    "    # Import datasets\n",
    "    fetal_health = pd.read_csv('./datasets/fetal_health.csv')\n",
    "    wheat_seeds = pd.read_csv('./datasets/wheat-seeds.csv')\n",
    "    heart_failure = pd.read_csv('./datasets/heart_failure_clinical_records_dataset.csv')\n",
    "    digits = load_digits()\n",
    "    \n",
    "    # Define X and y for every dataset\n",
    "    data = {\n",
    "            'fetal_health': (fetal_health[fetal_health.columns[:-1]].copy(), np.array(fetal_health[fetal_health.columns[-1]].copy())),\n",
    "            'wheat_seeds': (wheat_seeds[wheat_seeds.columns[:-1]].copy(), np.array(wheat_seeds[wheat_seeds.columns[-1]].copy())),\n",
    "            'heart_failure': (heart_failure[heart_failure.columns[:-1]], np.array(heart_failure[heart_failure.columns[-1]].copy())),\n",
    "            'digits': (digits['data'], digits['target'])\n",
    "           }\n",
    "    \n",
    "    # Create sample data for every dataset\n",
    "    sample = {'fetal_health': [], 'wheat_seeds': [], 'heart_failure': [], 'digits': []}\n",
    "    \n",
    "    for dataset, values in data.items():\n",
    "        X,y = values\n",
    "        categories = np.unique(y)\n",
    "        \n",
    "        for i in range(n):\n",
    "            \n",
    "            # Calculate accuracy variation\n",
    "            sample[dataset].append(accuracy_variation(X, y, categories, 0.2, corrupt_percentage))\n",
    "\n",
    "    return sample"
   ]
  },
  {
   "cell_type": "markdown",
   "metadata": {
    "cell_id": "00024-e0d2377f-cfbf-4aaf-ac17-41e071136afe",
    "deepnote_cell_type": "markdown"
   },
   "source": [
    "### Validación hipotesis"
   ]
  },
  {
   "cell_type": "code",
   "execution_count": 4,
   "metadata": {
    "cell_id": "00025-276f1100-b847-4471-8809-14b9406e4fbf",
    "deepnote_cell_type": "code",
    "deepnote_to_be_reexecuted": false,
    "execution_millis": 18,
    "execution_start": 1635209407249,
    "source_hash": "feaaf30"
   },
   "outputs": [],
   "source": [
    "def test_hypothesis(n, alpha, corrupt_percentage=0.1):\n",
    "    \n",
    "    validations = []\n",
    "    \n",
    "    # Generate a sample of n accuracy variations (accuracy_original - accuracy_corrupted) for each dataset\n",
    "    sample = create_sample_data(n, corrupt_percentage)\n",
    "    \n",
    "    # For each data set, test the hypothesis\n",
    "    for dataset, values in sample.items():\n",
    "        \n",
    "        # Calculate mean and std sample estimators\n",
    "        x,s = np.mean(values), np.std(values, ddof=1)\n",
    "        \n",
    "        # Calculate test statistic\n",
    "        Z = (x - 0.1) / (s / np.sqrt(n)) #  Z = (x - 0.1) / (s / np.sqrt(len(values)))\n",
    "        \n",
    "        # Calculate P value\n",
    "        P = norm.cdf(Z)\n",
    "        \n",
    "        # Append validations results\n",
    "        validations.append( [dataset, P >= alpha, P, x] )\n",
    "    \n",
    "    return pd.DataFrame(validations, columns = [\"Dataset\", \"Test result\", \"P value\", \"Sample mean accuracy variation\"])"
   ]
  },
  {
   "cell_type": "code",
   "execution_count": 5,
   "metadata": {
    "cell_id": "00026-4cada4a4-7731-41b5-bc04-6bf78f0150a6",
    "deepnote_cell_type": "code",
    "deepnote_to_be_reexecuted": false,
    "execution_millis": 7660,
    "execution_start": 1635209407273,
    "source_hash": "c5e3a72e"
   },
   "outputs": [
    {
     "name": "stdout",
     "output_type": "stream",
     "text": [
      "         Dataset  Test result        P value  Sample mean accuracy variation\n",
      "0   fetal_health        False   0.000000e+00                        0.028310\n",
      "1    wheat_seeds        False  8.130538e-170                        0.038571\n",
      "2  heart_failure        False   3.286733e-95                        0.039333\n",
      "3         digits         True   1.000000e+00                        0.172472\n"
     ]
    }
   ],
   "source": [
    "print(test_hypothesis(100, 0.05, 0.1)) # 10% of corruption"
   ]
  },
  {
   "cell_type": "code",
   "execution_count": 6,
   "metadata": {
    "cell_id": "00027-3fb8c149-ed9f-47e4-8cd2-8d8ceaa60964",
    "deepnote_cell_type": "code",
    "deepnote_to_be_reexecuted": false,
    "execution_millis": 11520,
    "execution_start": 1635209414921,
    "source_hash": "de5d48a8",
    "tags": []
   },
   "outputs": [
    {
     "name": "stdout",
     "output_type": "stream",
     "text": [
      "         Dataset  Test result  P value  Sample mean accuracy variation\n",
      "0   fetal_health         True      1.0                        0.198991\n",
      "1    wheat_seeds         True      1.0                        0.275238\n",
      "2  heart_failure         True      1.0                        0.618667\n",
      "3         digits         True      1.0                        0.541194\n"
     ]
    }
   ],
   "source": [
    "print(test_hypothesis(100, 0.05, 0.6)) # 60% of corruption"
   ]
  },
  {
   "cell_type": "markdown",
   "metadata": {},
   "source": [
    "Notar que si bien los resultados de los test de hipótesis varían debido a la estocasticidad de la muestra generada computacionalmente, generalmente el test resulta exitoso para todos los datasets."
   ]
  },
  {
   "cell_type": "markdown",
   "metadata": {
    "cell_id": "00028-51a70b54-4fa7-4233-92bd-25e54b2ab36b",
    "deepnote_cell_type": "markdown"
   },
   "source": [
    "## Verificación supuestos"
   ]
  },
  {
   "cell_type": "markdown",
   "metadata": {
    "cell_id": "00029-236d181b-208e-43df-aad2-e5e459cad4c1",
    "deepnote_cell_type": "markdown"
   },
   "source": [
    "Para que nuestra metodología sea válida, es necesario verificar el supuesto de normalidad considerado en el test de hipótesis. Recordar que se consideró que las diferencias de error de los clasificadores generativos aplicados a un dataset correcto y uno corrupto se distribuían normalmente."
   ]
  },
  {
   "cell_type": "markdown",
   "metadata": {},
   "source": [
    "### Método gráfico"
   ]
  },
  {
   "cell_type": "code",
   "execution_count": 7,
   "metadata": {
    "cell_id": "00031-cde13c2b-7505-40ae-9df1-2bf5e42c0b5b",
    "deepnote_cell_type": "code",
    "deepnote_to_be_reexecuted": false,
    "execution_millis": 15309,
    "execution_start": 1635209426462,
    "source_hash": "413ea0a0"
   },
   "outputs": [],
   "source": [
    "sample = create_sample_data(100, 0.1)"
   ]
  },
  {
   "cell_type": "code",
   "execution_count": 8,
   "metadata": {
    "cell_id": "00032-0e0bf004-6d7b-47e2-90cb-d7c229ebefbd",
    "deepnote_cell_type": "code",
    "deepnote_to_be_reexecuted": false,
    "execution_millis": 1891,
    "execution_start": 1635209441771,
    "source_hash": "611a4d16"
   },
   "outputs": [
    {
     "data": {
      "image/png": "[encoded data removed]",
      "text/plain": [
       "<Figure size 1080x360 with 4 Axes>"
      ]
     },
     "metadata": {
      "needs_background": "light"
     },
     "output_type": "display_data"
    }
   ],
   "source": [
    "fig, axs = plt.subplots(1, 4, sharey=False, tight_layout=True, figsize=(15,5))\n",
    "n_bins = 50\n",
    "\n",
    "axs[0].hist(sample['fetal_health'], bins=n_bins)\n",
    "axs[0].set_title(\"Fetal Health\")\n",
    "\n",
    "axs[1].hist(sample['wheat_seeds'], bins=n_bins)\n",
    "axs[1].set_title(\"Wheat Seeds\")\n",
    "\n",
    "axs[2].hist(sample['heart_failure'], bins=n_bins)\n",
    "axs[2].set_title(\"Heart Failure\")\n",
    "\n",
    "axs[3].hist(sample['digits'], bins=n_bins)\n",
    "axs[3].set_title(\"Digits\")\n",
    "\n",
    "plt.show()"
   ]
  },
  {
   "cell_type": "markdown",
   "metadata": {},
   "source": [
    "### Test de normalidad"
   ]
  },
  {
   "cell_type": "markdown",
   "metadata": {},
   "source": [
    "El siguiente test de hipótesis plantea como hipótesis nula que la data proviene de una distribución normal. Está basado en el trabajo realizado por [D’Agostino, R. B. (1971)](https://www.jstor.org/stable/2334522) y [D’Agostino, R. and Pearson, E. S. (1973)](https://www.jstor.org/stable/2335012?origin=crossref)."
   ]
  },
  {
   "cell_type": "code",
   "execution_count": 9,
   "metadata": {
    "cell_id": "00030-e8d5b45d-7c9a-4f34-91bd-9c2257a1dfb5",
    "deepnote_cell_type": "code",
    "deepnote_to_be_reexecuted": false,
    "execution_millis": 8,
    "execution_start": 1635209426445,
    "source_hash": "db039ef9"
   },
   "outputs": [],
   "source": [
    "from scipy.stats import normaltest"
   ]
  },
  {
   "cell_type": "code",
   "execution_count": 10,
   "metadata": {
    "cell_id": "00033-5af6a0b6-1843-4064-92c9-998bb822b780",
    "deepnote_cell_type": "code",
    "deepnote_to_be_reexecuted": false,
    "execution_millis": 127,
    "execution_start": 1635209443539,
    "source_hash": "f89f2879"
   },
   "outputs": [],
   "source": [
    "def normality_test(datasets):\n",
    "    for dataset in datasets:\n",
    "        print(f\"Dataset: {dataset}\")\n",
    "        data = sample[dataset]\n",
    "        stat, p = normaltest(data)\n",
    "        print('Statistics=%.3f, p=%.3f' % (stat, p))\n",
    "\n",
    "        alpha = 0.05\n",
    "        if p >= alpha:\n",
    "            print('Sample looks Gaussian (fail to reject H0)')\n",
    "        else:\n",
    "            print('Sample does not look Gaussian (reject H0)')\n",
    "\n",
    "        print(' ')"
   ]
  },
  {
   "cell_type": "code",
   "execution_count": 11,
   "metadata": {},
   "outputs": [
    {
     "name": "stdout",
     "output_type": "stream",
     "text": [
      "Dataset: fetal_health\n",
      "Statistics=1.955, p=0.376\n",
      "Sample looks Gaussian (fail to reject H0)\n",
      " \n",
      "Dataset: wheat_seeds\n",
      "Statistics=1.394, p=0.498\n",
      "Sample looks Gaussian (fail to reject H0)\n",
      " \n",
      "Dataset: heart_failure\n",
      "Statistics=5.135, p=0.077\n",
      "Sample looks Gaussian (fail to reject H0)\n",
      " \n",
      "Dataset: digits\n",
      "Statistics=4.256, p=0.119\n",
      "Sample looks Gaussian (fail to reject H0)\n",
      " \n"
     ]
    }
   ],
   "source": [
    "normality_test(sample.keys())"
   ]
  },
  {
   "cell_type": "markdown",
   "metadata": {
    "cell_id": "00034-db4843b8-5828-4581-a90e-e96f970d650d",
    "deepnote_cell_type": "markdown",
    "tags": []
   },
   "source": [
    "## Conclusiones"
   ]
  },
  {
   "cell_type": "raw",
   "metadata": {
    "cell_id": "00035-a746f258-1ef6-47dd-b08f-d69db146253f",
    "deepnote_cell_type": "markdown"
   },
   "source": [
    "1. Al entrenar el clasificador Gaussian Naive Bayes en un dataset tabular en donde un 10% de las etiquetas han sido corrompidas el accuracy no se altera significativamente. \n",
    "2. $H_0$ se rechaza para datasets tabulares pues el promedio muestral de la variación del accuracy es extremadamente improbable considerando $H_0$ como verdadero.\n",
    "3. $H_0$ se considera aún plausible en el reconocido dataset MNIST. Creemos que el error inducido al modificar un 10% de las etiquetas es mayor que en los otros datasets debido a la representación de las imágenes como un conjunto de pixeles sin considerar su información espacial."
   ]
  },
  {
   "cell_type": "markdown",
   "metadata": {
    "cell_id": "00036-a21275b4-2af5-418a-80b5-a72fa0d9cf12",
    "deepnote_cell_type": "markdown",
    "tags": []
   },
   "source": [
    "# Parte 2. Desafío"
   ]
  },
  {
   "cell_type": "code",
   "execution_count": 12,
   "metadata": {
    "cell_id": "00052-d6b8603c-a755-4869-9cf7-d6d1fc3c494c",
    "deepnote_cell_type": "code",
    "deepnote_to_be_reexecuted": false,
    "execution_millis": 9700,
    "execution_start": 1635218568807,
    "source_hash": "fa9f2302",
    "tags": []
   },
   "outputs": [],
   "source": [
    "# !python -m spacy download it_core_news_sm"
   ]
  },
  {
   "cell_type": "code",
   "execution_count": 13,
   "metadata": {
    "cell_id": "00037-2f79d495-d9c6-41f4-84b0-98de7c8447d0",
    "deepnote_cell_type": "code",
    "deepnote_to_be_reexecuted": false,
    "execution_millis": 194,
    "execution_start": 1635218679851,
    "source_hash": "739d7560",
    "tags": []
   },
   "outputs": [],
   "source": [
    "import spacy\n",
    "import time\n",
    "from sklearn import tree\n",
    "from sklearn import svm\n",
    "from sklearn import preprocessing\n",
    "\n",
    "from sklearn.preprocessing import StandardScaler\n",
    "from sklearn.model_selection import train_test_split\n",
    "from sklearn.linear_model import LogisticRegression\n",
    "from sklearn.tree import DecisionTreeClassifier\n",
    "from sklearn.linear_model import SGDClassifier\n",
    "from sklearn.ensemble import RandomForestClassifier\n",
    "from sklearn.neighbors import KNeighborsClassifier\n",
    "from sklearn.neural_network import MLPClassifier\n",
    "from sklearn.feature_extraction.text import CountVectorizer\n",
    "from sklearn.feature_extraction.text import TfidfVectorizer\n",
    "\n",
    "from sklearn.model_selection import RepeatedStratifiedKFold\n",
    "from sklearn.model_selection import RandomizedSearchCV\n",
    "from scipy.stats import loguniform"
   ]
  },
  {
   "cell_type": "code",
   "execution_count": 5,
   "metadata": {
    "cell_id": "00038-8e1bec92-ed12-414e-a606-964887519f30",
    "deepnote_cell_type": "code",
    "deepnote_to_be_reexecuted": false,
    "execution_millis": 952,
    "execution_start": 1635212050785,
    "source_hash": "12d23359",
    "tags": []
   },
   "outputs": [],
   "source": [
    "# Import datasets\n",
    "train = pd.read_csv(\"./datasets/ferramenta_competition_train.csv\")\n",
    "X_test = pd.read_csv(\"./datasets/ferramenta_competition_test_without_labels.csv\")\n"
   ]
  },
  {
   "cell_type": "code",
   "execution_count": 4,
   "metadata": {},
   "outputs": [],
   "source": [
    "# Just select image attributes\n",
    "features = train.columns[4:]"
   ]
  },
  {
   "cell_type": "markdown",
   "metadata": {
    "cell_id": "00053-e63af936-ae82-4279-b1c9-cb85829bacd1",
    "deepnote_cell_type": "markdown",
    "tags": []
   },
   "source": [
    "## Preprocesamiento de Texto"
   ]
  },
  {
   "cell_type": "code",
   "execution_count": 16,
   "metadata": {
    "cell_id": "00056-145c51fd-32d1-45c7-a367-ecfb372242af",
    "deepnote_cell_type": "code",
    "deepnote_to_be_reexecuted": false,
    "execution_millis": 2843,
    "execution_start": 1635218588550,
    "source_hash": "db6ddae5",
    "tags": []
   },
   "outputs": [],
   "source": [
    "# SpaCy trained pipelines for Italian language\n",
    "it = spacy.load(\"it_core_news_sm\")"
   ]
  },
  {
   "cell_type": "code",
   "execution_count": 17,
   "metadata": {
    "cell_id": "00057-46dafc1c-fa9d-4849-93ec-522e60e7a83c",
    "deepnote_cell_type": "code",
    "deepnote_to_be_reexecuted": false,
    "execution_millis": 1,
    "execution_start": 1635218515541,
    "source_hash": "707e396e",
    "tags": []
   },
   "outputs": [],
   "source": [
    "# List with the values of the title and description column\n",
    "titles = train['title'].values\n",
    "descriptions = train['description'].values"
   ]
  },
  {
   "cell_type": "code",
   "execution_count": 18,
   "metadata": {
    "cell_id": "00055-7dee2d1b-9711-46ea-b7bb-f954bf90f2dd",
    "deepnote_cell_type": "code",
    "deepnote_to_be_reexecuted": false,
    "execution_millis": 1,
    "execution_start": 1635218601649,
    "source_hash": "191e27e2",
    "tags": []
   },
   "outputs": [],
   "source": [
    "# Reducing the number of words in a text using the lemmatization approach \n",
    "def lemmatization(it, text):\n",
    "    tokens_to_return = []\n",
    "    tokens = it(text) #spacy tokens\n",
    "    for token in tokens:\n",
    "        #Is the token a stop word?\n",
    "        if token.is_stop:\n",
    "            continue\n",
    "        #Is the token a number?\n",
    "        elif token.like_num:\n",
    "            continue\n",
    "        #Is the token a whitespace caracter or punctuations?\n",
    "        elif token.is_space or token.is_punct:\n",
    "            continue\n",
    "        #We add the word of interest to a list in its lemmatizated form\n",
    "        else:\n",
    "            tokens_to_return.append(token.lemma_)\n",
    "    return tokens_to_return"
   ]
  },
  {
   "cell_type": "code",
   "execution_count": 19,
   "metadata": {
    "cell_id": "00056-e2925d27-90bd-427e-b617-52f38f64c618",
    "deepnote_cell_type": "code",
    "deepnote_to_be_reexecuted": false,
    "execution_millis": 42191,
    "execution_start": 1635218601654,
    "source_hash": "5acf5e96",
    "tags": []
   },
   "outputs": [],
   "source": [
    "# Each word in the title and description is preprocessed with the lemmatization approach\n",
    "titles_lemmatizated = list(map(lambda text: lemmatization(it, text), titles))\n",
    "descriptions_lemmatizated = list(map(lambda text: lemmatization(it, text), descriptions))"
   ]
  },
  {
   "cell_type": "code",
   "execution_count": 20,
   "metadata": {
    "cell_id": "00056-cbb3389f-a58c-4671-b671-3492b71c301c",
    "deepnote_cell_type": "code",
    "deepnote_to_be_reexecuted": false,
    "execution_millis": 1,
    "execution_start": 1635218643887,
    "source_hash": "f70f3be5",
    "tags": []
   },
   "outputs": [],
   "source": [
    "# Obtain the list of titles or descriptions with their lemmatized words\n",
    "titles_lemmatizated_string = list(map(lambda text: ' '.join(text), titles_lemmatizated))\n",
    "descriptions_lemmatizated_string = list(map(lambda text: ' '.join(text), descriptions_lemmatizated))"
   ]
  },
  {
   "cell_type": "code",
   "execution_count": 21,
   "metadata": {},
   "outputs": [],
   "source": [
    "# Use Count Vectorizer or Tfidf vectorizer to transform the words of the text into their vector representation in order to train itvectorizer_title = CountVectorizer()\n",
    "def vectorizer(data, vectorizer=\"CV\", ngram_range=(1,1)):\n",
    "    if (vectorizer==\"CV\"):\n",
    "        \n",
    "        data_vectorizer = CountVectorizer(binary=True, ngram_range=ngram_range)\n",
    "        data_vectorizer.fit(data)\n",
    "        data_transformed = data_vectorizer.transform(data).toarray()\n",
    "\n",
    "        return data_vectorizer, data_transformed\n",
    "        \n",
    "    if (vectorizer==\"Tfidf\"):\n",
    "        \n",
    "        data_vectorizer = TfidfVectorizer(use_idf=False, sublinear_tf=True)\n",
    "        data_vectorizer.fit(data)\n",
    "        data_transformed = data_vectorizer.transform(data).toarray()\n",
    "\n",
    "        return data_vectorizer, data_transformed\n",
    "    \n",
    "    return None"
   ]
  },
  {
   "cell_type": "markdown",
   "metadata": {},
   "source": [
    "En la siguiente gráfica se visualiza la distribución del largo de los títulos y de las descripciones antes y luego de ser lematizados:"
   ]
  },
  {
   "cell_type": "code",
   "execution_count": 22,
   "metadata": {},
   "outputs": [
    {
     "data": {
      "image/png": "[encoded data removed]",
      "text/plain": [
       "<Figure size 1080x360 with 2 Axes>"
      ]
     },
     "metadata": {
      "needs_background": "light"
     },
     "output_type": "display_data"
    }
   ],
   "source": [
    "fig, axs = plt.subplots(1, 2, sharey=False, tight_layout=True, figsize=(15,5))\n",
    "n_bins = 50\n",
    "\n",
    "axs[0].hist([len(title) for title in titles], bins=n_bins)\n",
    "axs[0].set_title(\"Distribución largo títulos no Lemmatizados\")\n",
    "\n",
    "axs[1].hist ( [len(title_lemmatizated) for title_lemmatizated in titles_lemmatizated], bins=n_bins)\n",
    "axs[1].set_title(\"Distribución largo títulos Lemmatizados\")\n",
    "\n",
    "plt.show()"
   ]
  },
  {
   "cell_type": "code",
   "execution_count": 23,
   "metadata": {},
   "outputs": [
    {
     "data": {
      "image/png": "[encoded data removed]",
      "text/plain": [
       "<Figure size 1080x360 with 2 Axes>"
      ]
     },
     "metadata": {
      "needs_background": "light"
     },
     "output_type": "display_data"
    }
   ],
   "source": [
    "fig, axs = plt.subplots(1, 2, sharey=False, tight_layout=True, figsize=(15,5))\n",
    "n_bins = 50\n",
    "\n",
    "axs[0].hist([len(description) for description in descriptions], bins=n_bins)\n",
    "axs[0].set_title(\"Distribución largo descripciones no Lemmatizados\")\n",
    "\n",
    "axs[1].hist ( [len(description_lemmatizated) for description_lemmatizated in descriptions_lemmatizated], bins=n_bins)\n",
    "axs[1].set_title(\"Distribución largo descripciones Lemmatizados\")\n",
    "\n",
    "plt.show()"
   ]
  },
  {
   "cell_type": "markdown",
   "metadata": {},
   "source": [
    "> La distribución de los largos en ambos casos mantiene su forma, sin embargo, ahora son menores."
   ]
  },
  {
   "cell_type": "markdown",
   "metadata": {},
   "source": [
    "Revisemos las implicancias en el **largo del vocabulario del título** debido a la lemmatization:"
   ]
  },
  {
   "cell_type": "code",
   "execution_count": 24,
   "metadata": {},
   "outputs": [],
   "source": [
    "vocabulary_titles = vectorizer(list(titles), vectorizer=\"CV\")[0].vocabulary_\n",
    "vocabulary_titles_lemmatizated = vectorizer(titles_lemmatizated_string, vectorizer=\"CV\")[0].vocabulary_"
   ]
  },
  {
   "cell_type": "code",
   "execution_count": 25,
   "metadata": {},
   "outputs": [
    {
     "name": "stdout",
     "output_type": "stream",
     "text": [
      "No lemmatizado: 4274\n",
      "Lemmatizatdo : 3026\n"
     ]
    }
   ],
   "source": [
    "print(f\"No lemmatizado: {len(vocabulary_titles)}\\nLemmatizatdo : {len(vocabulary_titles_lemmatizated)}\")"
   ]
  },
  {
   "cell_type": "code",
   "execution_count": 26,
   "metadata": {},
   "outputs": [
    {
     "name": "stdout",
     "output_type": "stream",
     "text": [
      "El vocabulario de títulos disminuyó un 0.29199812821712684%\n"
     ]
    }
   ],
   "source": [
    "print(f\"El vocabulario de títulos disminuyó un {(len(vocabulary_titles) - len(vocabulary_titles_lemmatizated)) / len(vocabulary_titles)}%\")"
   ]
  },
  {
   "cell_type": "markdown",
   "metadata": {},
   "source": [
    "Revisemos las implicancias en el **largo del vocabulario de las descripciones** debido a la lemmatization:"
   ]
  },
  {
   "cell_type": "code",
   "execution_count": 27,
   "metadata": {},
   "outputs": [],
   "source": [
    "vocabulary_descriptions = vectorizer(list(descriptions), vectorizer=\"CV\")[0].vocabulary_\n",
    "vocabulary_descriptions_lemmatizated = vectorizer(descriptions_lemmatizated_string, vectorizer=\"CV\")[0].vocabulary_"
   ]
  },
  {
   "cell_type": "code",
   "execution_count": 28,
   "metadata": {},
   "outputs": [
    {
     "name": "stdout",
     "output_type": "stream",
     "text": [
      "No lemmatizado: 5284\n",
      "Lemmatizatdo : 3770\n"
     ]
    }
   ],
   "source": [
    "print(f\"No lemmatizado: {len(vocabulary_descriptions)}\\nLemmatizatdo : {len(vocabulary_descriptions_lemmatizated)}\")"
   ]
  },
  {
   "cell_type": "code",
   "execution_count": 29,
   "metadata": {},
   "outputs": [
    {
     "name": "stdout",
     "output_type": "stream",
     "text": [
      "El vocabulario de descripciones disminuyó un 0.2865253595760787%\n"
     ]
    }
   ],
   "source": [
    "print(f\"El vocabulario de descripciones disminuyó un {(len(vocabulary_descriptions) - len(vocabulary_descriptions_lemmatizated)) / len(vocabulary_descriptions)}%\")"
   ]
  },
  {
   "cell_type": "markdown",
   "metadata": {},
   "source": [
    "Finalmente, utilizamos Count Vectorizer para representar los títulos y las descripciones como vectores numéricos que posteriormente serán utilizados para el entrenamiento de modelos:"
   ]
  },
  {
   "cell_type": "code",
   "execution_count": 30,
   "metadata": {},
   "outputs": [],
   "source": [
    "titles_vectorizer, titles_vectorized = vectorizer(titles_lemmatizated_string, vectorizer=\"CV\")\n",
    "descriptions_vectorizer, descriptions_vectorized = vectorizer(descriptions_lemmatizated_string, vectorizer=\"CV\")"
   ]
  },
  {
   "cell_type": "markdown",
   "metadata": {},
   "source": [
    "## Selección de modelo"
   ]
  },
  {
   "cell_type": "markdown",
   "metadata": {},
   "source": [
    "La función ``train_model`` permite entrenar distintos modelos para predecir la categoría de cada publicación en función del título, la descripción y la imagen."
   ]
  },
  {
   "cell_type": "code",
   "execution_count": 31,
   "metadata": {
    "cell_id": "00063-fc476e3c-ce2c-4c55-a95b-f0db854606a9",
    "deepnote_cell_type": "code",
    "deepnote_to_be_reexecuted": false,
    "execution_millis": 8,
    "execution_start": 1635220895301,
    "source_hash": "2ec559dd",
    "tags": []
   },
   "outputs": [],
   "source": [
    "# Train a model with the vectorized data\n",
    "def train_model(titles_vectorized, descriptions_vectorized, model=\"LR\", params=None, image=True):\n",
    "    \n",
    "    # Import train data\n",
    "    train = pd.read_csv(\"datasets/ferramenta_competition_train.csv\")\n",
    "    \n",
    "    # Concatenate title, description and image features in a dataframe\n",
    "    df_titles = pd.DataFrame(titles_vectorized)\n",
    "    df_description = pd.DataFrame(descriptions_vectorized)\n",
    "    text = pd.concat( [df_titles, df_description], axis=1, ignore_index=True)\n",
    "    image_features = train.columns[4:]\n",
    "    X_image, y = train[image_features], train['class']\n",
    "    \n",
    "    # Check whether or not take into account the image features\n",
    "    if(image):\n",
    "        X = pd.concat( [X_image, df_titles, df_description], axis=1, ignore_index=True)\n",
    "    else:\n",
    "        X = pd.concat( [df_titles, df_description], axis=1, ignore_index=True)\n",
    "    \n",
    "    # Create train and validation sets\n",
    "    X_train, X_val, y_train, y_val = train_test_split(X, y, test_size=0.2, stratify=y, random_state=1)\n",
    "\n",
    "    # Train a SVM model.\n",
    "    if(model == \"SVM\"):\n",
    "        classifier = svm.SVC()\n",
    "        classifier.fit(X_train, y_train)\n",
    "        return classifier, classifier.score(X_val, y_val)\n",
    "    \n",
    "    # Train a logistic regression model.\n",
    "    if(model == \"LR\"):\n",
    "        if(params):\n",
    "            classifier = LogisticRegression(**params)\n",
    "        else:\n",
    "            classifier = LogisticRegression(max_iter=1000)\n",
    "        classifier.fit(X_train,y_train)\n",
    "        return classifier, classifier.score(X_val, y_val)\n",
    "    \n",
    "    # Train a decision tree model.\n",
    "    if(model == \"DT\"):\n",
    "        classifier = DecisionTreeClassifier()\n",
    "        classifier.fit(X_train, y_train)\n",
    "        return classifier, classifier.score(X_val, y_val)\n",
    "\n",
    "    # Train a SGD model.\n",
    "    if(model == \"SGD\"):\n",
    "        classifier = SGDClassifier(penalty=\"l2\", max_iter=1000)\n",
    "        classifier.fit(X_train, y_train)\n",
    "        return classifier, classifier.score(X_val, y_val)\n",
    "    \n",
    "    # Train a KNeighbors model.\n",
    "    if(model == 'KNN'):\n",
    "        classifier = KNeighborsClassifier(n_neighbors=20)\n",
    "        classifier.fit(X_train, y_train)\n",
    "        return classifier, classifier.score(X_val, y_val)\n",
    "    \n",
    "    # Train a MLP model.\n",
    "    if(model == 'NN'):\n",
    "        classifier = MLPClassifier(solver='adam', activation='logistic', max_iter=500, alpha=1e-4,hidden_layer_sizes=(10, 120))\n",
    "        classifier.fit(X_train, y_train)\n",
    "        return classifier, classifier.score(X_val, y_val)\n",
    "    \n",
    "    # Train a random forest model.\n",
    "    if(model == 'RF'):\n",
    "        classifier = RandomForestClassifier(n_estimators=1400,min_samples_split=2, min_samples_leaf=1, max_features='auto',max_depth=40, bootstrap=False)\n",
    "        classifier.fit(X_train, y_train)\n",
    "        return classifier, classifier.score(X_val, y_val)"
   ]
  },
  {
   "cell_type": "markdown",
   "metadata": {},
   "source": [
    "Sabemos que el entrenamiento y las inferencias serán más rápidas si utilizamos los datos lemmatizados, sin embargo, aún no sabemos si esto tiene una repercusión en el accuracy de los modelos:"
   ]
  },
  {
   "cell_type": "code",
   "execution_count": 32,
   "metadata": {},
   "outputs": [
    {
     "name": "stdout",
     "output_type": "stream",
     "text": [
      "LR accuracy: 0.9504950495049505\n",
      "Seconds: 26.138532638549805\n"
     ]
    }
   ],
   "source": [
    "# Without Lemmatization\n",
    "titles_vectorizer, titles_vectorized = vectorizer(titles, vectorizer=\"CV\")\n",
    "descriptions_vectorizer, descriptions_vectorized = vectorizer(descriptions, vectorizer=\"CV\")\n",
    "\n",
    "model = \"LR\"\n",
    "start_time = time.time()\n",
    "accuracy = train_model(titles_vectorized, descriptions_vectorized, model=model)[1]\n",
    "print(f\"{model} accuracy: {accuracy}\")\n",
    "print(f\"Seconds: {(time.time() - start_time)}\")"
   ]
  },
  {
   "cell_type": "code",
   "execution_count": 33,
   "metadata": {},
   "outputs": [
    {
     "name": "stdout",
     "output_type": "stream",
     "text": [
      "LR accuracy: 0.9564356435643564\n",
      "Seconds: 18.6306471824646\n"
     ]
    }
   ],
   "source": [
    "# With Lemmatization\n",
    "titles_vectorizer, titles_vectorized = vectorizer(titles_lemmatizated_string, vectorizer=\"CV\")\n",
    "descriptions_vectorizer, descriptions_vectorized = vectorizer(descriptions_lemmatizated_string, vectorizer=\"CV\")\n",
    "\n",
    "model = \"LR\"\n",
    "start_time = time.time()\n",
    "accuracy = train_model(titles_vectorized, descriptions_vectorized, model=model)[1]\n",
    "print(f\"{model} accuracy: {accuracy}\")\n",
    "print(f\"Seconds: {(time.time() - start_time)}\")"
   ]
  },
  {
   "cell_type": "markdown",
   "metadata": {},
   "source": [
    "> Observamos un pequeño aumento en el accuracy además de un menor tiempo de computación debido a un vocabulario de menor tamaño. Utilizar Lemmatization es una alternativa atractiva en contraste a la de trabajar directamente con la data cruda."
   ]
  },
  {
   "cell_type": "markdown",
   "metadata": {},
   "source": [
    "A continuación entrenaremos distintos modelos para medir someramente su capacidad de ajustar los datos considerando todos los datos y luego considerando solo el título y la descripción de los productos:"
   ]
  },
  {
   "cell_type": "code",
   "execution_count": 34,
   "metadata": {},
   "outputs": [],
   "source": [
    "def test_default_models(image):\n",
    "    models = [\"SVM\", \"LR\", \"DT\", \"SGD\", \"KNN\", \"NN\", \"RF\"]\n",
    "    for model in models:\n",
    "        accuracy = train_model(titles_vectorized, descriptions_vectorized, model=model, image=image)[1]\n",
    "        print(f\"{model} - {accuracy}\")"
   ]
  },
  {
   "cell_type": "code",
   "execution_count": 35,
   "metadata": {},
   "outputs": [
    {
     "name": "stdout",
     "output_type": "stream",
     "text": [
      "SVM - 0.9366336633663367\n",
      "LR - 0.9564356435643564\n",
      "DT - 0.8297029702970297\n",
      "SGD - 0.9504950495049505\n",
      "KNN - 0.7742574257425743\n",
      "NN - 0.9465346534653465\n",
      "RF - 0.9247524752475248\n"
     ]
    }
   ],
   "source": [
    "test_default_models(True)"
   ]
  },
  {
   "cell_type": "code",
   "execution_count": 36,
   "metadata": {},
   "outputs": [
    {
     "name": "stdout",
     "output_type": "stream",
     "text": [
      "SVM - 0.9188118811881189\n",
      "LR - 0.9524752475247524\n",
      "DT - 0.9148514851485149\n",
      "SGD - 0.9603960396039604\n",
      "KNN - 0.699009900990099\n",
      "NN - 0.9425742574257425\n",
      "RF - 0.9485148514851485\n"
     ]
    }
   ],
   "source": [
    "test_default_models(False)"
   ]
  },
  {
   "cell_type": "markdown",
   "metadata": {},
   "source": [
    "> Por lo general, el modelo Regresión logística se desempeña mejor."
   ]
  },
  {
   "cell_type": "markdown",
   "metadata": {},
   "source": [
    "Finalmente, ajustaremos los parámetros del modelo de regresión logística utilizando la función [Randomized Search CV](https://scikit-learn.org/stable/modules/generated/sklearn.model_selection.RandomizedSearchCV.html):"
   ]
  },
  {
   "cell_type": "code",
   "execution_count": 37,
   "metadata": {},
   "outputs": [],
   "source": [
    "def search_best_parameters():\n",
    "    \n",
    "    # Import train data\n",
    "    train = pd.read_csv(\"datasets/ferramenta_competition_train.csv\")\n",
    "    \n",
    "    # Concatenate title, description and image features in a dataframe\n",
    "    df_titles = pd.DataFrame(titles_vectorized)\n",
    "    df_description = pd.DataFrame(descriptions_vectorized)\n",
    "    text = pd.concat( [df_titles, df_description], axis=1, ignore_index=True)\n",
    "    image_features = train.columns[4:]\n",
    "    X_image, y = train[image_features], train['class']\n",
    "    \n",
    "    # Without image data!\n",
    "    X = pd.concat( [df_titles, df_description], axis=1, ignore_index=True)\n",
    "    \n",
    "    # Define search parameters\n",
    "    model = LogisticRegression()\n",
    "    cv = RepeatedStratifiedKFold(n_splits=10, n_repeats=3, random_state=1) # 10, 3\n",
    "    space = dict()\n",
    "    space['solver'] = ['newton-cg', 'lbfgs', 'liblinear']\n",
    "    space['penalty'] = ['none', 'l1', 'l2', 'elasticnet']\n",
    "    space['C'] = loguniform(1e-5, 100)\n",
    "    \n",
    "    # Search the best parameters\n",
    "    search = RandomizedSearchCV(model, space, n_iter=500, scoring='accuracy', n_jobs=-1, cv=cv, random_state=1)\n",
    "    result = search.fit(X, y)\n",
    "    \n",
    "    print('Best Score: %s' % result.best_score_)\n",
    "    print('Best Hyperparameters: %s' % result.best_params_)"
   ]
  },
  {
   "cell_type": "markdown",
   "metadata": {},
   "source": [
    "Código extraido desde: https://machinelearningmastery.com/hyperparameter-optimization-with-random-search-and-grid-search/"
   ]
  },
  {
   "cell_type": "code",
   "execution_count": 38,
   "metadata": {},
   "outputs": [],
   "source": [
    "# Esto toma bastante tiempo de computación\n",
    "#search_best_parameters()"
   ]
  },
  {
   "cell_type": "code",
   "execution_count": 39,
   "metadata": {},
   "outputs": [],
   "source": [
    "# Resultado de la búsqueda de hiperparámetros aleatorizada\n",
    "params = {'max_iter': 120, 'C': 100, 'penalty': 'l2', 'solver': 'liblinear'}"
   ]
  },
  {
   "cell_type": "markdown",
   "metadata": {},
   "source": [
    "Finalmente, entrenamos el modelo de regresión logística con los parámetros óptimos y generamos el archivo de submission:"
   ]
  },
  {
   "cell_type": "code",
   "execution_count": 40,
   "metadata": {},
   "outputs": [],
   "source": [
    "model, accuracy = train_model(titles_vectorized, descriptions_vectorized, model=\"LR\", params=params)"
   ]
  },
  {
   "cell_type": "code",
   "execution_count": 41,
   "metadata": {},
   "outputs": [],
   "source": [
    "# Execute the entire pipeline and create submission file\n",
    "def submission(model, title_vectorizer, description_vectorizer):\n",
    "\n",
    "    X_test = pd.read_csv(\"./datasets/ferramenta_competition_test_without_labels.csv\")\n",
    "    image_features = X_test.columns[3:]\n",
    "    \n",
    "    titles = X_test['title'].values\n",
    "    descriptions = X_test['description'].values\n",
    "    \n",
    "    titles_lemmatizated = list(map(lambda text: lemmatization(it, text), titles))\n",
    "    descriptions_lemmatizated = list(map(lambda text: lemmatization(it, text), descriptions))\n",
    "    \n",
    "    titles_lemmatizated_string = list(map(lambda text: ' '.join(text), titles_lemmatizated))\n",
    "    descriptions_lemmatizated_string = list(map(lambda text: ' '.join(text), descriptions_lemmatizated))\n",
    "    \n",
    "    titles_vectorized = title_vectorizer.transform(titles_lemmatizated_string).toarray()\n",
    "    descriptions_vectorized = description_vectorizer.transform(descriptions_lemmatizated_string).toarray()\n",
    "    \n",
    "    df_titles = pd.DataFrame(titles_vectorized)\n",
    "    df_descriptions = pd.DataFrame(descriptions_vectorized)\n",
    "\n",
    "    X = pd.concat( [X_test[image_features], df_titles, df_descriptions], axis=1, ignore_index=True)\n",
    "    predictions = model.predict(X)\n",
    "    df_submission = pd.concat( [pd.DataFrame(X_test['image']), pd.DataFrame(predictions)], axis=1, ignore_index=True )\n",
    "    \n",
    "    df_submission.rename(columns={0: 'image', 1: 'class'}, inplace=True)\n",
    "    \n",
    "    return df_submission"
   ]
  },
  {
   "cell_type": "code",
   "execution_count": 42,
   "metadata": {},
   "outputs": [],
   "source": [
    "df_submission = submission(model, titles_vectorizer, descriptions_vectorizer)"
   ]
  },
  {
   "cell_type": "code",
   "execution_count": 43,
   "metadata": {},
   "outputs": [],
   "source": [
    "#df_submission.to_csv(\"submission5-29-10.csv\", index=False)"
   ]
  },
  {
   "cell_type": "markdown",
   "metadata": {},
   "source": [
    "## Conclusiones\n"
   ]
  },
  {
   "cell_type": "markdown",
   "metadata": {},
   "source": [
    "1. A pesar de su simplicidad, el modelo con mejor accuracy es la regresión logística.\n",
    "2. Si bien el uso de lemmatization en este problema no implica una importante mejora en accuracy, sí permite un menor costo computacional a la hora de entrenar y predecir debido a que se utiliza una menor cantidad de features.\n",
    "3. Los hiperparámetros del vectorizador influyen tan fuertemente en el accuracy como los del modelo.\n",
    "4. Mediante la plataforma Kaggle pudimos darnos cuenta que tuvimos un mayor accuracy al realizar el entrenamiento de datos excluyendo los features asociados a las imágenes."
   ]
  },
  {
   "cell_type": "markdown",
   "metadata": {},
   "source": [
    "# Contribución por integrante"
   ]
  },
  {
   "cell_type": "markdown",
   "metadata": {},
   "source": [
    "1. Fernanda Avendaño: Desarrollo del código para el test de hipótesis. Procesamiento de NLP y búsqueda de un modelo adecuado para el desafío de Kaggle. Verificación de los supuestos de normalidad en la pregunta de investigación. Generación de visualizaciones.\n",
    "2. Diego Quezada: Desarrollo del código para el test de hipótesis. Procesamiento de NLP y búsqueda de un modelo adecuado para el desafío de Kaggle. Organización del notebook en general, en especial del código y su correspondiente documentación. Búsqueda de hiperparámetros para el modelo de regresión logística mediante Grid Search. \n",
    "3. Kevin Reyes: Búsqueda de datasets apropiados para el desarrollo de la pregunta de investigación además del Planteamiento de la metodología a desarrollar mediante un diagrama de flujo y el correpondiente test de hipótesis. Planteamiento de modelos base para el desafío de Kaggle."
   ]
  }
 ],
 "metadata": {
  "colab": {
   "collapsed_sections": [],
   "name": "[ANN]Taller1_INF398_2021-II.ipynb",
   "provenance": [],
   "toc_visible": true
  },
  "deepnote": {
   "is_reactive": false
  },
  "deepnote_execution_queue": [],
  "deepnote_notebook_id": "239b7999-ce92-484a-ad2c-3a9e7d5b9ed7",
  "kernelspec": {
   "display_name": "Python 3 (ipykernel)",
   "language": "python",
   "name": "python3"
  },
  "language_info": {
   "codemirror_mode": {
    "name": "ipython",
    "version": 3
   },
   "file_extension": ".py",
   "mimetype": "text/x-python",
   "name": "python",
   "nbconvert_exporter": "python",
   "pygments_lexer": "ipython3",
   "version": "3.9.7"
  }
 },
 "nbformat": 4,
 "nbformat_minor": 1
}
