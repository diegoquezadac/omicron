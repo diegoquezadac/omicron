{
 "cells": [
  {
   "cell_type": "markdown",
   "metadata": {
    "id": "L5rfZ_hYaQ1Z"
   },
   "source": [
    "<center><img src=\"http://www.exalumnos.usm.cl/wp-content/uploads/2015/06/Isotipo-Negro.gif\" title=\"Title text\" width=\"30%\" /></center>\n",
    "\n",
    "<hr style=\"height:2px;border:none\"/>\n",
    "<h1 align='center'> INF-398 Aprendizaje Automático </h1>\n",
    "\n",
    "<H3 align='center'> Tarea/Taller 3 </H3>\n",
    "<hr style=\"height:2px;border:none\"/>\n",
    "\n"
   ]
  },
  {
   "cell_type": "markdown",
   "metadata": {
    "id": "3hHigypDURhb"
   },
   "source": [
    "# Reglas & Formalidades\n",
    "\n",
    "* Pueden trabajar en equipos de 2 a 3 personas. \n",
    "* Los equipos deben ser inscritos antes del 10 de Noviembre.\n",
    "* Pueden reusar código visto en clases y/o recolectar código/ideas de otros sitios, mencionando al autor y entregando un link a la fuente. \n",
    "* Si resulta necesaria, la intervención de personas ajenas al grupo (e.g. experto) debe ser declarada y justificada.\n",
    "* Tener roles dentro del equipo está bien, pero al final del proceso, cada miembro debe entender y estar en condiciones de exponer todo el trabajo realizado. "
   ]
  },
  {
   "cell_type": "markdown",
   "metadata": {
    "id": "CQeZ0_M7Ucf-"
   },
   "source": [
    "# Entregables \n",
    "\n"
   ]
  },
  {
   "cell_type": "markdown",
   "metadata": {
    "id": "_DOvGvOZUZYV"
   },
   "source": [
    "\n",
    "> * **Video:** Se debe preparar un video explicativo de **12 a 15 minutos** donde se describe la metodología utilizada, los resultados obtenidos y las conclusiones de la experiencia. \n",
    "\n",
    "> * **Código:** Se debe enviar un jupyter notebook con el código utilizado, de modo que sea posible **reproducir los resultados** presentados. Como alternativa, se puede entregar un link Github con el código fuente, incluyendo instrucciones precisas para ejecutar los experimentos. En cualquier caso (notebook o repo) el código debe estar ordenado y seccionado apropiadamente.\n",
    "\n",
    "> * **Conformidad Ética:** Se debe incluir una breve declaración ética en que se indique que el trabajo que se está enviando es un trabajo original, desarollado por los autores en conformidad con todas reglas antes mencionadas. Se debe también mencionar brevemente cuál fue la contribución de cada miembro del equipo. La declaración puede ser parte del notebook o estar en un archivo dentro del repo.\n",
    "\n",
    "> * **Defensa en vivo (video-conferencia):** El día de clases agendado para la discusión del taller, se seleccionarán aleatoriamente algunos equipos que presentarán oralmente su trabajo ante el curso. Los autores serán evaluados considerando la discusión y debate que generen entre sus pares. Los puntos obtenidos (positivos o negativos) se sumarán a la nota final de taller."
   ]
  },
  {
   "cell_type": "markdown",
   "metadata": {
    "id": "gNyRw2PdUgaA"
   },
   "source": [
    "# Fechas"
   ]
  },
  {
   "cell_type": "markdown",
   "metadata": {
    "id": "-lmzliloUhux"
   },
   "source": [
    "> * Defensas: 23 de Diciembre 12:00 hrs.\n",
    "> * Fecha de entrega de vídeo: 23 de Diciembre 12:00 Hrs.\n",
    "> * Fecha de entrega de Jupyter (notebook): 23 de Diciembre 12:00 hrs.\n"
   ]
  },
  {
   "cell_type": "markdown",
   "metadata": {
    "id": "Mro0DvciPO8t"
   },
   "source": [
    "# Desafío Kaggle \n",
    "\n",
    "A medida que nuestro conocimiento sobre la microbiota progresa, resulta cada vez más claro que estos ecosistemas tienen un rol fundamental en el correcto funcionamiento del organismo, desarrollando funciones homeostáticas que condicionan nuestra salud. Por ejemplo, se ha demostrado que la microbiota tiene un rol clave en la aparición de enfermedades como la diabetes tipo 2 y la obesidad. También se ha documentado ampliamente su rol en la formación de algunos cánceres y la respectiva respuesta del organismo al tratamiento. Más recientemente, la conexión de la microbiota intestinal con el sistema nervioso central (a través del nervio vago) también ha permitido relacionarla con trastornos como el autismo, la ansiedad, la depresión y la dependencia alcohólica.\n",
    "  \n",
    "Todo lo anterior sugiere que la composición de la microbiota podría ser utilizada predictor de diferentes enfermedades. La introducción de las técnicas de secuenciación masiva del ADN ha supuesto una verdadera revolución en esta linea de investigación, permitiendo obtener los perfiles de composición de una comunidad microbial con altísima resolución. Desafortundamente, el uso de estos datos para descubrir biomarcadores y predecir enfermedades está lejos de ser sencillo en buena parte por el altísimo número de predictores posibles (d) y el reducido número de muestras (n) de los que suele disponerse en un estudio clínico. \n",
    "\n",
    "Para acceder a loss detalles del desafío ingrese al siguiente link: https://www.kaggle.com/c/simbiontes/overview\n",
    "\n"
   ]
  },
  {
   "cell_type": "markdown",
   "metadata": {
    "id": "VVzSTfeQkrBl"
   },
   "source": [
    "## 1. Importación de librerías"
   ]
  },
  {
   "cell_type": "code",
   "execution_count": 1,
   "metadata": {},
   "outputs": [],
   "source": [
    "# Fundamentals\n",
    "import re\n",
    "import pandas as pd\n",
    "import numpy as np\n",
    "import itertools"
   ]
  },
  {
   "cell_type": "code",
   "execution_count": 2,
   "metadata": {},
   "outputs": [],
   "source": [
    "# Visualization\n",
    "import matplotlib.pyplot as plt\n",
    "import seaborn as sns\n",
    "import plotly.express as px\n",
    "import plotly.graph_objects as go\n",
    "from plotly.subplots import make_subplots"
   ]
  },
  {
   "cell_type": "code",
   "execution_count": 3,
   "metadata": {},
   "outputs": [],
   "source": [
    "# Sklearn\n",
    "from sklearn.preprocessing import StandardScaler\n",
    "from sklearn.preprocessing import Normalizer\n",
    "from sklearn.compose import ColumnTransformer\n",
    "from sklearn.feature_selection import VarianceThreshold\n",
    "from sklearn.decomposition import PCA\n",
    "from sklearn.model_selection import train_test_split\n",
    "from sklearn import svm\n",
    "from sklearn.multiclass import OneVsRestClassifier\n",
    "from sklearn.ensemble import RandomForestClassifier\n",
    "from sklearn.tree import DecisionTreeClassifier\n",
    "from sklearn.neighbors import KNeighborsClassifier"
   ]
  },
  {
   "cell_type": "code",
   "execution_count": 4,
   "metadata": {},
   "outputs": [],
   "source": [
    "# tensorflow\n",
    "from tensorflow.keras.metrics import AUC"
   ]
  },
  {
   "cell_type": "code",
   "execution_count": 5,
   "metadata": {},
   "outputs": [],
   "source": [
    "# Otras librerías\n",
    "# pip install xgboost\n",
    "from xgboost import XGBClassifier"
   ]
  },
  {
   "cell_type": "markdown",
   "metadata": {},
   "source": [
    "## 2. Descripción conjuntos de datos"
   ]
  },
  {
   "cell_type": "markdown",
   "metadata": {},
   "source": [
    "En el presente desafío se utilizan dos conjuntos de datos:\n",
    "\n",
    "1. Bio medical data abundance: Indica la **presencia porcentual** que representa cada especie de microorganismos respecto al total de especies observadas en el individuo; esto constituye el **perfil microbiómico porcentual**. Además indica la patología presente, el sexo, el país y el nombre del estudio.\n",
    "2. Bio medical data marker: Indica la **presencia** de cada cepa específica; esto constituye el **perfil microbiómico binario**. Además indica la patología presente, el sexo, el país y el nombre del estudio."
   ]
  },
  {
   "cell_type": "code",
   "execution_count": 6,
   "metadata": {},
   "outputs": [],
   "source": [
    "# Import train and test sets\n",
    "train_abundance = pd.read_csv(\"./datasets/biomedata_train_abundance.csv\")\n",
    "train_marker = pd.read_csv(\"./datasets/biomedata_train_marker.csv\")\n",
    "test_abundance = pd.read_csv(\"./datasets/biomedata_test_abundance.csv\")\n",
    "test_marker = pd.read_csv(\"./datasets/biomedata_test_marker.csv\")"
   ]
  },
  {
   "cell_type": "markdown",
   "metadata": {},
   "source": [
    "Es evidente que el número de features es mayor a la cantidad de datos disponibles en todos los conjuntos de datos."
   ]
  },
  {
   "cell_type": "markdown",
   "metadata": {},
   "source": [
    "## 3. Exploración de datos"
   ]
  },
  {
   "cell_type": "markdown",
   "metadata": {},
   "source": [
    "Comencemos nuestra exploración visualizando algunos datos de los conjuntos de entrenamientos asociados a cada conjunto de datos descrito en la sección anterior:"
   ]
  },
  {
   "cell_type": "code",
   "execution_count": 7,
   "metadata": {},
   "outputs": [
    {
     "data": {
      "text/html": [
       "<div>\n",
       "<style scoped>\n",
       "    .dataframe tbody tr th:only-of-type {\n",
       "        vertical-align: middle;\n",
       "    }\n",
       "\n",
       "    .dataframe tbody tr th {\n",
       "        vertical-align: top;\n",
       "    }\n",
       "\n",
       "    .dataframe thead th {\n",
       "        text-align: right;\n",
       "    }\n",
       "</style>\n",
       "<table border=\"1\" class=\"dataframe\">\n",
       "  <thead>\n",
       "    <tr style=\"text-align: right;\">\n",
       "      <th></th>\n",
       "      <th>Unnamed: 0</th>\n",
       "      <th>Cirrhosis</th>\n",
       "      <th>code_study</th>\n",
       "      <th>country</th>\n",
       "      <th>gender</th>\n",
       "      <th>gi|103485498|ref|NC_008048.1|:c103928-103680</th>\n",
       "      <th>gi|104773257|ref|NC_008054.1|:116729-117526</th>\n",
       "      <th>gi|104773257|ref|NC_008054.1|:1737697-1738332</th>\n",
       "      <th>gi|104773257|ref|NC_008054.1|:266275-267207</th>\n",
       "      <th>gi|104773257|ref|NC_008054.1|:294312-294563</th>\n",
       "      <th>...</th>\n",
       "      <th>gi|89892746|ref|NC_007907.1|:c3938880-3937900</th>\n",
       "      <th>gi|90581188|ref|NZ_AAOJ01000014.1|:76701-76972</th>\n",
       "      <th>gi|91774356|ref|NC_007947.1|:c416906-416292</th>\n",
       "      <th>gi|92112136|ref|NC_007963.1|:485202-485741</th>\n",
       "      <th>gi|92115633|ref|NC_007964.1|:c3043219-3042695</th>\n",
       "      <th>gi|93004831|ref|NC_007969.1|:1110067-1110642</th>\n",
       "      <th>gi|93004831|ref|NC_007969.1|:1986617-1987513</th>\n",
       "      <th>gi|94502223|ref|NZ_AANL01000001.1|:c8848-8444</th>\n",
       "      <th>gi|94676460|ref|NC_007984.1|:c601098-600646</th>\n",
       "      <th>gi|94991497|ref|NC_008023.1|:148294-148941</th>\n",
       "    </tr>\n",
       "  </thead>\n",
       "  <tbody>\n",
       "    <tr>\n",
       "      <th>0</th>\n",
       "      <td>0</td>\n",
       "      <td>1.0</td>\n",
       "      <td>Quin_gut_liver_cirrhosis</td>\n",
       "      <td>china</td>\n",
       "      <td>female</td>\n",
       "      <td>0.0</td>\n",
       "      <td>0</td>\n",
       "      <td>0</td>\n",
       "      <td>0</td>\n",
       "      <td>0</td>\n",
       "      <td>...</td>\n",
       "      <td>NaN</td>\n",
       "      <td>NaN</td>\n",
       "      <td>NaN</td>\n",
       "      <td>NaN</td>\n",
       "      <td>NaN</td>\n",
       "      <td>NaN</td>\n",
       "      <td>NaN</td>\n",
       "      <td>NaN</td>\n",
       "      <td>NaN</td>\n",
       "      <td>NaN</td>\n",
       "    </tr>\n",
       "    <tr>\n",
       "      <th>1</th>\n",
       "      <td>1</td>\n",
       "      <td>0.0</td>\n",
       "      <td>Quin_gut_liver_cirrhosis</td>\n",
       "      <td>china</td>\n",
       "      <td>male</td>\n",
       "      <td>0.0</td>\n",
       "      <td>0</td>\n",
       "      <td>0</td>\n",
       "      <td>0</td>\n",
       "      <td>0</td>\n",
       "      <td>...</td>\n",
       "      <td>NaN</td>\n",
       "      <td>NaN</td>\n",
       "      <td>NaN</td>\n",
       "      <td>NaN</td>\n",
       "      <td>NaN</td>\n",
       "      <td>NaN</td>\n",
       "      <td>NaN</td>\n",
       "      <td>NaN</td>\n",
       "      <td>NaN</td>\n",
       "      <td>NaN</td>\n",
       "    </tr>\n",
       "    <tr>\n",
       "      <th>2</th>\n",
       "      <td>2</td>\n",
       "      <td>0.0</td>\n",
       "      <td>Quin_gut_liver_cirrhosis</td>\n",
       "      <td>china</td>\n",
       "      <td>male</td>\n",
       "      <td>0.0</td>\n",
       "      <td>0</td>\n",
       "      <td>0</td>\n",
       "      <td>0</td>\n",
       "      <td>0</td>\n",
       "      <td>...</td>\n",
       "      <td>NaN</td>\n",
       "      <td>NaN</td>\n",
       "      <td>NaN</td>\n",
       "      <td>NaN</td>\n",
       "      <td>NaN</td>\n",
       "      <td>NaN</td>\n",
       "      <td>NaN</td>\n",
       "      <td>NaN</td>\n",
       "      <td>NaN</td>\n",
       "      <td>NaN</td>\n",
       "    </tr>\n",
       "    <tr>\n",
       "      <th>3</th>\n",
       "      <td>3</td>\n",
       "      <td>0.0</td>\n",
       "      <td>Quin_gut_liver_cirrhosis</td>\n",
       "      <td>china</td>\n",
       "      <td>female</td>\n",
       "      <td>0.0</td>\n",
       "      <td>0</td>\n",
       "      <td>0</td>\n",
       "      <td>0</td>\n",
       "      <td>0</td>\n",
       "      <td>...</td>\n",
       "      <td>NaN</td>\n",
       "      <td>NaN</td>\n",
       "      <td>NaN</td>\n",
       "      <td>NaN</td>\n",
       "      <td>NaN</td>\n",
       "      <td>NaN</td>\n",
       "      <td>NaN</td>\n",
       "      <td>NaN</td>\n",
       "      <td>NaN</td>\n",
       "      <td>NaN</td>\n",
       "    </tr>\n",
       "    <tr>\n",
       "      <th>4</th>\n",
       "      <td>4</td>\n",
       "      <td>1.0</td>\n",
       "      <td>Quin_gut_liver_cirrhosis</td>\n",
       "      <td>china</td>\n",
       "      <td>male</td>\n",
       "      <td>0.0</td>\n",
       "      <td>0</td>\n",
       "      <td>0</td>\n",
       "      <td>0</td>\n",
       "      <td>0</td>\n",
       "      <td>...</td>\n",
       "      <td>NaN</td>\n",
       "      <td>NaN</td>\n",
       "      <td>NaN</td>\n",
       "      <td>NaN</td>\n",
       "      <td>NaN</td>\n",
       "      <td>NaN</td>\n",
       "      <td>NaN</td>\n",
       "      <td>NaN</td>\n",
       "      <td>NaN</td>\n",
       "      <td>NaN</td>\n",
       "    </tr>\n",
       "    <tr>\n",
       "      <th>5</th>\n",
       "      <td>5</td>\n",
       "      <td>1.0</td>\n",
       "      <td>Quin_gut_liver_cirrhosis</td>\n",
       "      <td>china</td>\n",
       "      <td>male</td>\n",
       "      <td>0.0</td>\n",
       "      <td>0</td>\n",
       "      <td>0</td>\n",
       "      <td>0</td>\n",
       "      <td>0</td>\n",
       "      <td>...</td>\n",
       "      <td>NaN</td>\n",
       "      <td>NaN</td>\n",
       "      <td>NaN</td>\n",
       "      <td>NaN</td>\n",
       "      <td>NaN</td>\n",
       "      <td>NaN</td>\n",
       "      <td>NaN</td>\n",
       "      <td>NaN</td>\n",
       "      <td>NaN</td>\n",
       "      <td>NaN</td>\n",
       "    </tr>\n",
       "    <tr>\n",
       "      <th>6</th>\n",
       "      <td>6</td>\n",
       "      <td>1.0</td>\n",
       "      <td>Quin_gut_liver_cirrhosis</td>\n",
       "      <td>china</td>\n",
       "      <td>male</td>\n",
       "      <td>0.0</td>\n",
       "      <td>0</td>\n",
       "      <td>0</td>\n",
       "      <td>0</td>\n",
       "      <td>0</td>\n",
       "      <td>...</td>\n",
       "      <td>NaN</td>\n",
       "      <td>NaN</td>\n",
       "      <td>NaN</td>\n",
       "      <td>NaN</td>\n",
       "      <td>NaN</td>\n",
       "      <td>NaN</td>\n",
       "      <td>NaN</td>\n",
       "      <td>NaN</td>\n",
       "      <td>NaN</td>\n",
       "      <td>NaN</td>\n",
       "    </tr>\n",
       "    <tr>\n",
       "      <th>7</th>\n",
       "      <td>7</td>\n",
       "      <td>1.0</td>\n",
       "      <td>Quin_gut_liver_cirrhosis</td>\n",
       "      <td>china</td>\n",
       "      <td>female</td>\n",
       "      <td>0.0</td>\n",
       "      <td>0</td>\n",
       "      <td>0</td>\n",
       "      <td>0</td>\n",
       "      <td>0</td>\n",
       "      <td>...</td>\n",
       "      <td>NaN</td>\n",
       "      <td>NaN</td>\n",
       "      <td>NaN</td>\n",
       "      <td>NaN</td>\n",
       "      <td>NaN</td>\n",
       "      <td>NaN</td>\n",
       "      <td>NaN</td>\n",
       "      <td>NaN</td>\n",
       "      <td>NaN</td>\n",
       "      <td>NaN</td>\n",
       "    </tr>\n",
       "    <tr>\n",
       "      <th>8</th>\n",
       "      <td>8</td>\n",
       "      <td>1.0</td>\n",
       "      <td>Quin_gut_liver_cirrhosis</td>\n",
       "      <td>china</td>\n",
       "      <td>male</td>\n",
       "      <td>0.0</td>\n",
       "      <td>1</td>\n",
       "      <td>1</td>\n",
       "      <td>1</td>\n",
       "      <td>1</td>\n",
       "      <td>...</td>\n",
       "      <td>NaN</td>\n",
       "      <td>NaN</td>\n",
       "      <td>NaN</td>\n",
       "      <td>NaN</td>\n",
       "      <td>NaN</td>\n",
       "      <td>NaN</td>\n",
       "      <td>NaN</td>\n",
       "      <td>NaN</td>\n",
       "      <td>NaN</td>\n",
       "      <td>NaN</td>\n",
       "    </tr>\n",
       "    <tr>\n",
       "      <th>9</th>\n",
       "      <td>9</td>\n",
       "      <td>0.0</td>\n",
       "      <td>Quin_gut_liver_cirrhosis</td>\n",
       "      <td>china</td>\n",
       "      <td>female</td>\n",
       "      <td>0.0</td>\n",
       "      <td>0</td>\n",
       "      <td>0</td>\n",
       "      <td>0</td>\n",
       "      <td>0</td>\n",
       "      <td>...</td>\n",
       "      <td>NaN</td>\n",
       "      <td>NaN</td>\n",
       "      <td>NaN</td>\n",
       "      <td>NaN</td>\n",
       "      <td>NaN</td>\n",
       "      <td>NaN</td>\n",
       "      <td>NaN</td>\n",
       "      <td>NaN</td>\n",
       "      <td>NaN</td>\n",
       "      <td>NaN</td>\n",
       "    </tr>\n",
       "  </tbody>\n",
       "</table>\n",
       "<p>10 rows × 153953 columns</p>\n",
       "</div>"
      ],
      "text/plain": [
       "   Unnamed: 0  Cirrhosis                code_study country  gender  \\\n",
       "0           0        1.0  Quin_gut_liver_cirrhosis   china  female   \n",
       "1           1        0.0  Quin_gut_liver_cirrhosis   china    male   \n",
       "2           2        0.0  Quin_gut_liver_cirrhosis   china    male   \n",
       "3           3        0.0  Quin_gut_liver_cirrhosis   china  female   \n",
       "4           4        1.0  Quin_gut_liver_cirrhosis   china    male   \n",
       "5           5        1.0  Quin_gut_liver_cirrhosis   china    male   \n",
       "6           6        1.0  Quin_gut_liver_cirrhosis   china    male   \n",
       "7           7        1.0  Quin_gut_liver_cirrhosis   china  female   \n",
       "8           8        1.0  Quin_gut_liver_cirrhosis   china    male   \n",
       "9           9        0.0  Quin_gut_liver_cirrhosis   china  female   \n",
       "\n",
       "   gi|103485498|ref|NC_008048.1|:c103928-103680  \\\n",
       "0                                           0.0   \n",
       "1                                           0.0   \n",
       "2                                           0.0   \n",
       "3                                           0.0   \n",
       "4                                           0.0   \n",
       "5                                           0.0   \n",
       "6                                           0.0   \n",
       "7                                           0.0   \n",
       "8                                           0.0   \n",
       "9                                           0.0   \n",
       "\n",
       "   gi|104773257|ref|NC_008054.1|:116729-117526  \\\n",
       "0                                            0   \n",
       "1                                            0   \n",
       "2                                            0   \n",
       "3                                            0   \n",
       "4                                            0   \n",
       "5                                            0   \n",
       "6                                            0   \n",
       "7                                            0   \n",
       "8                                            1   \n",
       "9                                            0   \n",
       "\n",
       "   gi|104773257|ref|NC_008054.1|:1737697-1738332  \\\n",
       "0                                              0   \n",
       "1                                              0   \n",
       "2                                              0   \n",
       "3                                              0   \n",
       "4                                              0   \n",
       "5                                              0   \n",
       "6                                              0   \n",
       "7                                              0   \n",
       "8                                              1   \n",
       "9                                              0   \n",
       "\n",
       "   gi|104773257|ref|NC_008054.1|:266275-267207  \\\n",
       "0                                            0   \n",
       "1                                            0   \n",
       "2                                            0   \n",
       "3                                            0   \n",
       "4                                            0   \n",
       "5                                            0   \n",
       "6                                            0   \n",
       "7                                            0   \n",
       "8                                            1   \n",
       "9                                            0   \n",
       "\n",
       "   gi|104773257|ref|NC_008054.1|:294312-294563  ...  \\\n",
       "0                                            0  ...   \n",
       "1                                            0  ...   \n",
       "2                                            0  ...   \n",
       "3                                            0  ...   \n",
       "4                                            0  ...   \n",
       "5                                            0  ...   \n",
       "6                                            0  ...   \n",
       "7                                            0  ...   \n",
       "8                                            1  ...   \n",
       "9                                            0  ...   \n",
       "\n",
       "   gi|89892746|ref|NC_007907.1|:c3938880-3937900  \\\n",
       "0                                            NaN   \n",
       "1                                            NaN   \n",
       "2                                            NaN   \n",
       "3                                            NaN   \n",
       "4                                            NaN   \n",
       "5                                            NaN   \n",
       "6                                            NaN   \n",
       "7                                            NaN   \n",
       "8                                            NaN   \n",
       "9                                            NaN   \n",
       "\n",
       "   gi|90581188|ref|NZ_AAOJ01000014.1|:76701-76972  \\\n",
       "0                                             NaN   \n",
       "1                                             NaN   \n",
       "2                                             NaN   \n",
       "3                                             NaN   \n",
       "4                                             NaN   \n",
       "5                                             NaN   \n",
       "6                                             NaN   \n",
       "7                                             NaN   \n",
       "8                                             NaN   \n",
       "9                                             NaN   \n",
       "\n",
       "   gi|91774356|ref|NC_007947.1|:c416906-416292  \\\n",
       "0                                          NaN   \n",
       "1                                          NaN   \n",
       "2                                          NaN   \n",
       "3                                          NaN   \n",
       "4                                          NaN   \n",
       "5                                          NaN   \n",
       "6                                          NaN   \n",
       "7                                          NaN   \n",
       "8                                          NaN   \n",
       "9                                          NaN   \n",
       "\n",
       "   gi|92112136|ref|NC_007963.1|:485202-485741  \\\n",
       "0                                         NaN   \n",
       "1                                         NaN   \n",
       "2                                         NaN   \n",
       "3                                         NaN   \n",
       "4                                         NaN   \n",
       "5                                         NaN   \n",
       "6                                         NaN   \n",
       "7                                         NaN   \n",
       "8                                         NaN   \n",
       "9                                         NaN   \n",
       "\n",
       "   gi|92115633|ref|NC_007964.1|:c3043219-3042695  \\\n",
       "0                                            NaN   \n",
       "1                                            NaN   \n",
       "2                                            NaN   \n",
       "3                                            NaN   \n",
       "4                                            NaN   \n",
       "5                                            NaN   \n",
       "6                                            NaN   \n",
       "7                                            NaN   \n",
       "8                                            NaN   \n",
       "9                                            NaN   \n",
       "\n",
       "   gi|93004831|ref|NC_007969.1|:1110067-1110642  \\\n",
       "0                                           NaN   \n",
       "1                                           NaN   \n",
       "2                                           NaN   \n",
       "3                                           NaN   \n",
       "4                                           NaN   \n",
       "5                                           NaN   \n",
       "6                                           NaN   \n",
       "7                                           NaN   \n",
       "8                                           NaN   \n",
       "9                                           NaN   \n",
       "\n",
       "   gi|93004831|ref|NC_007969.1|:1986617-1987513  \\\n",
       "0                                           NaN   \n",
       "1                                           NaN   \n",
       "2                                           NaN   \n",
       "3                                           NaN   \n",
       "4                                           NaN   \n",
       "5                                           NaN   \n",
       "6                                           NaN   \n",
       "7                                           NaN   \n",
       "8                                           NaN   \n",
       "9                                           NaN   \n",
       "\n",
       "   gi|94502223|ref|NZ_AANL01000001.1|:c8848-8444  \\\n",
       "0                                            NaN   \n",
       "1                                            NaN   \n",
       "2                                            NaN   \n",
       "3                                            NaN   \n",
       "4                                            NaN   \n",
       "5                                            NaN   \n",
       "6                                            NaN   \n",
       "7                                            NaN   \n",
       "8                                            NaN   \n",
       "9                                            NaN   \n",
       "\n",
       "   gi|94676460|ref|NC_007984.1|:c601098-600646  \\\n",
       "0                                          NaN   \n",
       "1                                          NaN   \n",
       "2                                          NaN   \n",
       "3                                          NaN   \n",
       "4                                          NaN   \n",
       "5                                          NaN   \n",
       "6                                          NaN   \n",
       "7                                          NaN   \n",
       "8                                          NaN   \n",
       "9                                          NaN   \n",
       "\n",
       "   gi|94991497|ref|NC_008023.1|:148294-148941  \n",
       "0                                         NaN  \n",
       "1                                         NaN  \n",
       "2                                         NaN  \n",
       "3                                         NaN  \n",
       "4                                         NaN  \n",
       "5                                         NaN  \n",
       "6                                         NaN  \n",
       "7                                         NaN  \n",
       "8                                         NaN  \n",
       "9                                         NaN  \n",
       "\n",
       "[10 rows x 153953 columns]"
      ]
     },
     "execution_count": 7,
     "metadata": {},
     "output_type": "execute_result"
    }
   ],
   "source": [
    "train_marker.head(10)"
   ]
  },
  {
   "cell_type": "code",
   "execution_count": 8,
   "metadata": {},
   "outputs": [
    {
     "data": {
      "text/html": [
       "<div>\n",
       "<style scoped>\n",
       "    .dataframe tbody tr th:only-of-type {\n",
       "        vertical-align: middle;\n",
       "    }\n",
       "\n",
       "    .dataframe tbody tr th {\n",
       "        vertical-align: top;\n",
       "    }\n",
       "\n",
       "    .dataframe thead th {\n",
       "        text-align: right;\n",
       "    }\n",
       "</style>\n",
       "<table border=\"1\" class=\"dataframe\">\n",
       "  <thead>\n",
       "    <tr style=\"text-align: right;\">\n",
       "      <th></th>\n",
       "      <th>Unnamed: 0</th>\n",
       "      <th>Cirrhosis</th>\n",
       "      <th>code_study</th>\n",
       "      <th>country</th>\n",
       "      <th>gender</th>\n",
       "      <th>k__Archaea|p__Euryarchaeota|c__Methanobacteria|o__Methanobacteriales|f__Methanobacteriaceae|g__Methanobrevibacter|s__Methanobrevibacter_smithii</th>\n",
       "      <th>k__Archaea|p__Euryarchaeota|c__Methanobacteria|o__Methanobacteriales|f__Methanobacteriaceae|g__Methanobrevibacter|s__Methanobrevibacter_unclassified</th>\n",
       "      <th>k__Archaea|p__Euryarchaeota|c__Methanobacteria|o__Methanobacteriales|f__Methanobacteriaceae|g__Methanosphaera|s__Methanosphaera_stadtmanae</th>\n",
       "      <th>k__Archaea|p__Euryarchaeota|c__Methanococci|o__Methanococcales|f__Methanocaldococcaceae|g__Methanocaldococcaceae_unclassified</th>\n",
       "      <th>k__Bacteria|p__Acidobacteria|c__Acidobacteriia|o__Acidobacteriales|f__Acidobacteriaceae|g__Granulicella|s__Granulicella_unclassified</th>\n",
       "      <th>...</th>\n",
       "      <th>k__Bacteria|p__Proteobacteria|c__Gammaproteobacteria|o__Pseudomonadales|f__Pseudomonadaceae|g__Pseudomonas|s__Pseudomonas_fragi</th>\n",
       "      <th>k__Bacteria|p__Proteobacteria|c__Gammaproteobacteria|o__Vibrionales|f__Vibrionaceae|g__Vibrio|s__Vibrio_furnissii</th>\n",
       "      <th>k__Bacteria|p__Proteobacteria|c__Gammaproteobacteria|o__Vibrionales|f__Vibrionaceae|g__Vibrio|s__Vibrio_kanaloae</th>\n",
       "      <th>k__Bacteria|p__Proteobacteria|c__Gammaproteobacteria|o__Xanthomonadales|f__Xanthomonadaceae|g__Pseudoxanthomonas|s__Pseudoxanthomonas_unclassified</th>\n",
       "      <th>k__Bacteria|p__Proteobacteria|c__Gammaproteobacteria|o__Xanthomonadales|f__Xanthomonadaceae|g__Rhodanobacter|s__Rhodanobacter_unclassified</th>\n",
       "      <th>k__Bacteria|p__Proteobacteria|c__Gammaproteobacteria|o__Xanthomonadales|f__Xanthomonadaceae|g__Xanthomonas|s__Xanthomonas_axonopodis</th>\n",
       "      <th>k__Bacteria|p__Proteobacteria|c__Gammaproteobacteria|o__Xanthomonadales|f__Xanthomonadaceae|g__Xanthomonas|s__Xanthomonas_citri</th>\n",
       "      <th>k__Bacteria|p__Proteobacteria|c__Gammaproteobacteria|o__Xanthomonadales|f__Xanthomonadaceae|g__Xanthomonas|s__Xanthomonas_fuscans</th>\n",
       "      <th>k__Bacteria|p__Spirochaetes|c__Spirochaetia|o__Spirochaetales|f__Brachyspiraceae|g__Brachyspira|s__Brachyspira_pilosicoli</th>\n",
       "      <th>k__Bacteria|p__Tenericutes|c__Mollicutes|o__Mycoplasmatales|f__Mycoplasmataceae|g__Mycoplasma|s__Mycoplasma_bovis</th>\n",
       "    </tr>\n",
       "  </thead>\n",
       "  <tbody>\n",
       "    <tr>\n",
       "      <th>0</th>\n",
       "      <td>0</td>\n",
       "      <td>1.0</td>\n",
       "      <td>Quin_gut_liver_cirrhosis</td>\n",
       "      <td>china</td>\n",
       "      <td>female</td>\n",
       "      <td>0.02959</td>\n",
       "      <td>0.00955</td>\n",
       "      <td>0.0</td>\n",
       "      <td>0.0</td>\n",
       "      <td>0.0</td>\n",
       "      <td>...</td>\n",
       "      <td>NaN</td>\n",
       "      <td>NaN</td>\n",
       "      <td>NaN</td>\n",
       "      <td>NaN</td>\n",
       "      <td>NaN</td>\n",
       "      <td>NaN</td>\n",
       "      <td>NaN</td>\n",
       "      <td>NaN</td>\n",
       "      <td>NaN</td>\n",
       "      <td>NaN</td>\n",
       "    </tr>\n",
       "    <tr>\n",
       "      <th>1</th>\n",
       "      <td>1</td>\n",
       "      <td>0.0</td>\n",
       "      <td>Quin_gut_liver_cirrhosis</td>\n",
       "      <td>china</td>\n",
       "      <td>male</td>\n",
       "      <td>0.00000</td>\n",
       "      <td>0.00000</td>\n",
       "      <td>0.0</td>\n",
       "      <td>0.0</td>\n",
       "      <td>0.0</td>\n",
       "      <td>...</td>\n",
       "      <td>NaN</td>\n",
       "      <td>NaN</td>\n",
       "      <td>NaN</td>\n",
       "      <td>NaN</td>\n",
       "      <td>NaN</td>\n",
       "      <td>NaN</td>\n",
       "      <td>NaN</td>\n",
       "      <td>NaN</td>\n",
       "      <td>NaN</td>\n",
       "      <td>NaN</td>\n",
       "    </tr>\n",
       "    <tr>\n",
       "      <th>2</th>\n",
       "      <td>2</td>\n",
       "      <td>0.0</td>\n",
       "      <td>Quin_gut_liver_cirrhosis</td>\n",
       "      <td>china</td>\n",
       "      <td>male</td>\n",
       "      <td>0.00000</td>\n",
       "      <td>0.00000</td>\n",
       "      <td>0.0</td>\n",
       "      <td>0.0</td>\n",
       "      <td>0.0</td>\n",
       "      <td>...</td>\n",
       "      <td>NaN</td>\n",
       "      <td>NaN</td>\n",
       "      <td>NaN</td>\n",
       "      <td>NaN</td>\n",
       "      <td>NaN</td>\n",
       "      <td>NaN</td>\n",
       "      <td>NaN</td>\n",
       "      <td>NaN</td>\n",
       "      <td>NaN</td>\n",
       "      <td>NaN</td>\n",
       "    </tr>\n",
       "    <tr>\n",
       "      <th>3</th>\n",
       "      <td>3</td>\n",
       "      <td>0.0</td>\n",
       "      <td>Quin_gut_liver_cirrhosis</td>\n",
       "      <td>china</td>\n",
       "      <td>female</td>\n",
       "      <td>0.29306</td>\n",
       "      <td>0.00000</td>\n",
       "      <td>0.0</td>\n",
       "      <td>0.0</td>\n",
       "      <td>0.0</td>\n",
       "      <td>...</td>\n",
       "      <td>NaN</td>\n",
       "      <td>NaN</td>\n",
       "      <td>NaN</td>\n",
       "      <td>NaN</td>\n",
       "      <td>NaN</td>\n",
       "      <td>NaN</td>\n",
       "      <td>NaN</td>\n",
       "      <td>NaN</td>\n",
       "      <td>NaN</td>\n",
       "      <td>NaN</td>\n",
       "    </tr>\n",
       "    <tr>\n",
       "      <th>4</th>\n",
       "      <td>4</td>\n",
       "      <td>1.0</td>\n",
       "      <td>Quin_gut_liver_cirrhosis</td>\n",
       "      <td>china</td>\n",
       "      <td>male</td>\n",
       "      <td>0.00000</td>\n",
       "      <td>0.00000</td>\n",
       "      <td>0.0</td>\n",
       "      <td>0.0</td>\n",
       "      <td>0.0</td>\n",
       "      <td>...</td>\n",
       "      <td>NaN</td>\n",
       "      <td>NaN</td>\n",
       "      <td>NaN</td>\n",
       "      <td>NaN</td>\n",
       "      <td>NaN</td>\n",
       "      <td>NaN</td>\n",
       "      <td>NaN</td>\n",
       "      <td>NaN</td>\n",
       "      <td>NaN</td>\n",
       "      <td>NaN</td>\n",
       "    </tr>\n",
       "    <tr>\n",
       "      <th>5</th>\n",
       "      <td>5</td>\n",
       "      <td>1.0</td>\n",
       "      <td>Quin_gut_liver_cirrhosis</td>\n",
       "      <td>china</td>\n",
       "      <td>male</td>\n",
       "      <td>0.00000</td>\n",
       "      <td>0.00000</td>\n",
       "      <td>0.0</td>\n",
       "      <td>0.0</td>\n",
       "      <td>0.0</td>\n",
       "      <td>...</td>\n",
       "      <td>NaN</td>\n",
       "      <td>NaN</td>\n",
       "      <td>NaN</td>\n",
       "      <td>NaN</td>\n",
       "      <td>NaN</td>\n",
       "      <td>NaN</td>\n",
       "      <td>NaN</td>\n",
       "      <td>NaN</td>\n",
       "      <td>NaN</td>\n",
       "      <td>NaN</td>\n",
       "    </tr>\n",
       "    <tr>\n",
       "      <th>6</th>\n",
       "      <td>6</td>\n",
       "      <td>1.0</td>\n",
       "      <td>Quin_gut_liver_cirrhosis</td>\n",
       "      <td>china</td>\n",
       "      <td>male</td>\n",
       "      <td>1.35651</td>\n",
       "      <td>0.00000</td>\n",
       "      <td>0.0</td>\n",
       "      <td>0.0</td>\n",
       "      <td>0.0</td>\n",
       "      <td>...</td>\n",
       "      <td>NaN</td>\n",
       "      <td>NaN</td>\n",
       "      <td>NaN</td>\n",
       "      <td>NaN</td>\n",
       "      <td>NaN</td>\n",
       "      <td>NaN</td>\n",
       "      <td>NaN</td>\n",
       "      <td>NaN</td>\n",
       "      <td>NaN</td>\n",
       "      <td>NaN</td>\n",
       "    </tr>\n",
       "    <tr>\n",
       "      <th>7</th>\n",
       "      <td>7</td>\n",
       "      <td>1.0</td>\n",
       "      <td>Quin_gut_liver_cirrhosis</td>\n",
       "      <td>china</td>\n",
       "      <td>female</td>\n",
       "      <td>0.00000</td>\n",
       "      <td>0.00000</td>\n",
       "      <td>0.0</td>\n",
       "      <td>0.0</td>\n",
       "      <td>0.0</td>\n",
       "      <td>...</td>\n",
       "      <td>NaN</td>\n",
       "      <td>NaN</td>\n",
       "      <td>NaN</td>\n",
       "      <td>NaN</td>\n",
       "      <td>NaN</td>\n",
       "      <td>NaN</td>\n",
       "      <td>NaN</td>\n",
       "      <td>NaN</td>\n",
       "      <td>NaN</td>\n",
       "      <td>NaN</td>\n",
       "    </tr>\n",
       "    <tr>\n",
       "      <th>8</th>\n",
       "      <td>8</td>\n",
       "      <td>1.0</td>\n",
       "      <td>Quin_gut_liver_cirrhosis</td>\n",
       "      <td>china</td>\n",
       "      <td>male</td>\n",
       "      <td>0.00000</td>\n",
       "      <td>0.00000</td>\n",
       "      <td>0.0</td>\n",
       "      <td>0.0</td>\n",
       "      <td>0.0</td>\n",
       "      <td>...</td>\n",
       "      <td>NaN</td>\n",
       "      <td>NaN</td>\n",
       "      <td>NaN</td>\n",
       "      <td>NaN</td>\n",
       "      <td>NaN</td>\n",
       "      <td>NaN</td>\n",
       "      <td>NaN</td>\n",
       "      <td>NaN</td>\n",
       "      <td>NaN</td>\n",
       "      <td>NaN</td>\n",
       "    </tr>\n",
       "    <tr>\n",
       "      <th>9</th>\n",
       "      <td>9</td>\n",
       "      <td>0.0</td>\n",
       "      <td>Quin_gut_liver_cirrhosis</td>\n",
       "      <td>china</td>\n",
       "      <td>female</td>\n",
       "      <td>0.00000</td>\n",
       "      <td>0.00000</td>\n",
       "      <td>0.0</td>\n",
       "      <td>0.0</td>\n",
       "      <td>0.0</td>\n",
       "      <td>...</td>\n",
       "      <td>NaN</td>\n",
       "      <td>NaN</td>\n",
       "      <td>NaN</td>\n",
       "      <td>NaN</td>\n",
       "      <td>NaN</td>\n",
       "      <td>NaN</td>\n",
       "      <td>NaN</td>\n",
       "      <td>NaN</td>\n",
       "      <td>NaN</td>\n",
       "      <td>NaN</td>\n",
       "    </tr>\n",
       "  </tbody>\n",
       "</table>\n",
       "<p>10 rows × 717 columns</p>\n",
       "</div>"
      ],
      "text/plain": [
       "   Unnamed: 0  Cirrhosis                code_study country  gender  \\\n",
       "0           0        1.0  Quin_gut_liver_cirrhosis   china  female   \n",
       "1           1        0.0  Quin_gut_liver_cirrhosis   china    male   \n",
       "2           2        0.0  Quin_gut_liver_cirrhosis   china    male   \n",
       "3           3        0.0  Quin_gut_liver_cirrhosis   china  female   \n",
       "4           4        1.0  Quin_gut_liver_cirrhosis   china    male   \n",
       "5           5        1.0  Quin_gut_liver_cirrhosis   china    male   \n",
       "6           6        1.0  Quin_gut_liver_cirrhosis   china    male   \n",
       "7           7        1.0  Quin_gut_liver_cirrhosis   china  female   \n",
       "8           8        1.0  Quin_gut_liver_cirrhosis   china    male   \n",
       "9           9        0.0  Quin_gut_liver_cirrhosis   china  female   \n",
       "\n",
       "   k__Archaea|p__Euryarchaeota|c__Methanobacteria|o__Methanobacteriales|f__Methanobacteriaceae|g__Methanobrevibacter|s__Methanobrevibacter_smithii  \\\n",
       "0                                            0.02959                                                                                                 \n",
       "1                                            0.00000                                                                                                 \n",
       "2                                            0.00000                                                                                                 \n",
       "3                                            0.29306                                                                                                 \n",
       "4                                            0.00000                                                                                                 \n",
       "5                                            0.00000                                                                                                 \n",
       "6                                            1.35651                                                                                                 \n",
       "7                                            0.00000                                                                                                 \n",
       "8                                            0.00000                                                                                                 \n",
       "9                                            0.00000                                                                                                 \n",
       "\n",
       "   k__Archaea|p__Euryarchaeota|c__Methanobacteria|o__Methanobacteriales|f__Methanobacteriaceae|g__Methanobrevibacter|s__Methanobrevibacter_unclassified  \\\n",
       "0                                            0.00955                                                                                                      \n",
       "1                                            0.00000                                                                                                      \n",
       "2                                            0.00000                                                                                                      \n",
       "3                                            0.00000                                                                                                      \n",
       "4                                            0.00000                                                                                                      \n",
       "5                                            0.00000                                                                                                      \n",
       "6                                            0.00000                                                                                                      \n",
       "7                                            0.00000                                                                                                      \n",
       "8                                            0.00000                                                                                                      \n",
       "9                                            0.00000                                                                                                      \n",
       "\n",
       "   k__Archaea|p__Euryarchaeota|c__Methanobacteria|o__Methanobacteriales|f__Methanobacteriaceae|g__Methanosphaera|s__Methanosphaera_stadtmanae  \\\n",
       "0                                                0.0                                                                                            \n",
       "1                                                0.0                                                                                            \n",
       "2                                                0.0                                                                                            \n",
       "3                                                0.0                                                                                            \n",
       "4                                                0.0                                                                                            \n",
       "5                                                0.0                                                                                            \n",
       "6                                                0.0                                                                                            \n",
       "7                                                0.0                                                                                            \n",
       "8                                                0.0                                                                                            \n",
       "9                                                0.0                                                                                            \n",
       "\n",
       "   k__Archaea|p__Euryarchaeota|c__Methanococci|o__Methanococcales|f__Methanocaldococcaceae|g__Methanocaldococcaceae_unclassified  \\\n",
       "0                                                0.0                                                                               \n",
       "1                                                0.0                                                                               \n",
       "2                                                0.0                                                                               \n",
       "3                                                0.0                                                                               \n",
       "4                                                0.0                                                                               \n",
       "5                                                0.0                                                                               \n",
       "6                                                0.0                                                                               \n",
       "7                                                0.0                                                                               \n",
       "8                                                0.0                                                                               \n",
       "9                                                0.0                                                                               \n",
       "\n",
       "   k__Bacteria|p__Acidobacteria|c__Acidobacteriia|o__Acidobacteriales|f__Acidobacteriaceae|g__Granulicella|s__Granulicella_unclassified  \\\n",
       "0                                                0.0                                                                                      \n",
       "1                                                0.0                                                                                      \n",
       "2                                                0.0                                                                                      \n",
       "3                                                0.0                                                                                      \n",
       "4                                                0.0                                                                                      \n",
       "5                                                0.0                                                                                      \n",
       "6                                                0.0                                                                                      \n",
       "7                                                0.0                                                                                      \n",
       "8                                                0.0                                                                                      \n",
       "9                                                0.0                                                                                      \n",
       "\n",
       "   ...  \\\n",
       "0  ...   \n",
       "1  ...   \n",
       "2  ...   \n",
       "3  ...   \n",
       "4  ...   \n",
       "5  ...   \n",
       "6  ...   \n",
       "7  ...   \n",
       "8  ...   \n",
       "9  ...   \n",
       "\n",
       "   k__Bacteria|p__Proteobacteria|c__Gammaproteobacteria|o__Pseudomonadales|f__Pseudomonadaceae|g__Pseudomonas|s__Pseudomonas_fragi  \\\n",
       "0                                                NaN                                                                                 \n",
       "1                                                NaN                                                                                 \n",
       "2                                                NaN                                                                                 \n",
       "3                                                NaN                                                                                 \n",
       "4                                                NaN                                                                                 \n",
       "5                                                NaN                                                                                 \n",
       "6                                                NaN                                                                                 \n",
       "7                                                NaN                                                                                 \n",
       "8                                                NaN                                                                                 \n",
       "9                                                NaN                                                                                 \n",
       "\n",
       "   k__Bacteria|p__Proteobacteria|c__Gammaproteobacteria|o__Vibrionales|f__Vibrionaceae|g__Vibrio|s__Vibrio_furnissii  \\\n",
       "0                                                NaN                                                                   \n",
       "1                                                NaN                                                                   \n",
       "2                                                NaN                                                                   \n",
       "3                                                NaN                                                                   \n",
       "4                                                NaN                                                                   \n",
       "5                                                NaN                                                                   \n",
       "6                                                NaN                                                                   \n",
       "7                                                NaN                                                                   \n",
       "8                                                NaN                                                                   \n",
       "9                                                NaN                                                                   \n",
       "\n",
       "   k__Bacteria|p__Proteobacteria|c__Gammaproteobacteria|o__Vibrionales|f__Vibrionaceae|g__Vibrio|s__Vibrio_kanaloae  \\\n",
       "0                                                NaN                                                                  \n",
       "1                                                NaN                                                                  \n",
       "2                                                NaN                                                                  \n",
       "3                                                NaN                                                                  \n",
       "4                                                NaN                                                                  \n",
       "5                                                NaN                                                                  \n",
       "6                                                NaN                                                                  \n",
       "7                                                NaN                                                                  \n",
       "8                                                NaN                                                                  \n",
       "9                                                NaN                                                                  \n",
       "\n",
       "   k__Bacteria|p__Proteobacteria|c__Gammaproteobacteria|o__Xanthomonadales|f__Xanthomonadaceae|g__Pseudoxanthomonas|s__Pseudoxanthomonas_unclassified  \\\n",
       "0                                                NaN                                                                                                    \n",
       "1                                                NaN                                                                                                    \n",
       "2                                                NaN                                                                                                    \n",
       "3                                                NaN                                                                                                    \n",
       "4                                                NaN                                                                                                    \n",
       "5                                                NaN                                                                                                    \n",
       "6                                                NaN                                                                                                    \n",
       "7                                                NaN                                                                                                    \n",
       "8                                                NaN                                                                                                    \n",
       "9                                                NaN                                                                                                    \n",
       "\n",
       "   k__Bacteria|p__Proteobacteria|c__Gammaproteobacteria|o__Xanthomonadales|f__Xanthomonadaceae|g__Rhodanobacter|s__Rhodanobacter_unclassified  \\\n",
       "0                                                NaN                                                                                            \n",
       "1                                                NaN                                                                                            \n",
       "2                                                NaN                                                                                            \n",
       "3                                                NaN                                                                                            \n",
       "4                                                NaN                                                                                            \n",
       "5                                                NaN                                                                                            \n",
       "6                                                NaN                                                                                            \n",
       "7                                                NaN                                                                                            \n",
       "8                                                NaN                                                                                            \n",
       "9                                                NaN                                                                                            \n",
       "\n",
       "   k__Bacteria|p__Proteobacteria|c__Gammaproteobacteria|o__Xanthomonadales|f__Xanthomonadaceae|g__Xanthomonas|s__Xanthomonas_axonopodis  \\\n",
       "0                                                NaN                                                                                      \n",
       "1                                                NaN                                                                                      \n",
       "2                                                NaN                                                                                      \n",
       "3                                                NaN                                                                                      \n",
       "4                                                NaN                                                                                      \n",
       "5                                                NaN                                                                                      \n",
       "6                                                NaN                                                                                      \n",
       "7                                                NaN                                                                                      \n",
       "8                                                NaN                                                                                      \n",
       "9                                                NaN                                                                                      \n",
       "\n",
       "   k__Bacteria|p__Proteobacteria|c__Gammaproteobacteria|o__Xanthomonadales|f__Xanthomonadaceae|g__Xanthomonas|s__Xanthomonas_citri  \\\n",
       "0                                                NaN                                                                                 \n",
       "1                                                NaN                                                                                 \n",
       "2                                                NaN                                                                                 \n",
       "3                                                NaN                                                                                 \n",
       "4                                                NaN                                                                                 \n",
       "5                                                NaN                                                                                 \n",
       "6                                                NaN                                                                                 \n",
       "7                                                NaN                                                                                 \n",
       "8                                                NaN                                                                                 \n",
       "9                                                NaN                                                                                 \n",
       "\n",
       "   k__Bacteria|p__Proteobacteria|c__Gammaproteobacteria|o__Xanthomonadales|f__Xanthomonadaceae|g__Xanthomonas|s__Xanthomonas_fuscans  \\\n",
       "0                                                NaN                                                                                   \n",
       "1                                                NaN                                                                                   \n",
       "2                                                NaN                                                                                   \n",
       "3                                                NaN                                                                                   \n",
       "4                                                NaN                                                                                   \n",
       "5                                                NaN                                                                                   \n",
       "6                                                NaN                                                                                   \n",
       "7                                                NaN                                                                                   \n",
       "8                                                NaN                                                                                   \n",
       "9                                                NaN                                                                                   \n",
       "\n",
       "   k__Bacteria|p__Spirochaetes|c__Spirochaetia|o__Spirochaetales|f__Brachyspiraceae|g__Brachyspira|s__Brachyspira_pilosicoli  \\\n",
       "0                                                NaN                                                                           \n",
       "1                                                NaN                                                                           \n",
       "2                                                NaN                                                                           \n",
       "3                                                NaN                                                                           \n",
       "4                                                NaN                                                                           \n",
       "5                                                NaN                                                                           \n",
       "6                                                NaN                                                                           \n",
       "7                                                NaN                                                                           \n",
       "8                                                NaN                                                                           \n",
       "9                                                NaN                                                                           \n",
       "\n",
       "   k__Bacteria|p__Tenericutes|c__Mollicutes|o__Mycoplasmatales|f__Mycoplasmataceae|g__Mycoplasma|s__Mycoplasma_bovis  \n",
       "0                                                NaN                                                                  \n",
       "1                                                NaN                                                                  \n",
       "2                                                NaN                                                                  \n",
       "3                                                NaN                                                                  \n",
       "4                                                NaN                                                                  \n",
       "5                                                NaN                                                                  \n",
       "6                                                NaN                                                                  \n",
       "7                                                NaN                                                                  \n",
       "8                                                NaN                                                                  \n",
       "9                                                NaN                                                                  \n",
       "\n",
       "[10 rows x 717 columns]"
      ]
     },
     "execution_count": 8,
     "metadata": {},
     "output_type": "execute_result"
    }
   ],
   "source": [
    "train_abundance.head(10)"
   ]
  },
  {
   "cell_type": "markdown",
   "metadata": {},
   "source": [
    "Analicemos brevemente el tamaño de los diferentes conjuntos de datos:"
   ]
  },
  {
   "cell_type": "code",
   "execution_count": 117,
   "metadata": {},
   "outputs": [
    {
     "data": {
      "text/plain": [
       "(621, 717)"
      ]
     },
     "execution_count": 117,
     "metadata": {},
     "output_type": "execute_result"
    }
   ],
   "source": [
    "train_abundance.shape"
   ]
  },
  {
   "cell_type": "code",
   "execution_count": 118,
   "metadata": {},
   "outputs": [
    {
     "data": {
      "text/plain": [
       "(208, 714)"
      ]
     },
     "execution_count": 118,
     "metadata": {},
     "output_type": "execute_result"
    }
   ],
   "source": [
    "test_abundance.shape"
   ]
  },
  {
   "cell_type": "code",
   "execution_count": 119,
   "metadata": {},
   "outputs": [
    {
     "data": {
      "text/plain": [
       "(621, 153953)"
      ]
     },
     "execution_count": 119,
     "metadata": {},
     "output_type": "execute_result"
    }
   ],
   "source": [
    "train_marker.shape"
   ]
  },
  {
   "cell_type": "code",
   "execution_count": 120,
   "metadata": {},
   "outputs": [
    {
     "data": {
      "text/plain": [
       "(208, 153950)"
      ]
     },
     "execution_count": 120,
     "metadata": {},
     "output_type": "execute_result"
    }
   ],
   "source": [
    "test_marker.shape"
   ]
  },
  {
   "cell_type": "markdown",
   "metadata": {},
   "source": [
    "Identifiquemos los distintos estudios:"
   ]
  },
  {
   "cell_type": "code",
   "execution_count": 178,
   "metadata": {},
   "outputs": [
    {
     "data": {
      "text/plain": [
       "array(['Quin_gut_liver_cirrhosis', 'Chatelier_gut_obesity',\n",
       "       't2dmeta_short', 't2dmeta_long'], dtype=object)"
      ]
     },
     "execution_count": 178,
     "metadata": {},
     "output_type": "execute_result"
    }
   ],
   "source": [
    "train_marker[\"code_study\"].unique()"
   ]
  },
  {
   "cell_type": "code",
   "execution_count": 182,
   "metadata": {},
   "outputs": [
    {
     "data": {
      "text/plain": [
       "array(['Quin_gut_liver_cirrhosis', 'Chatelier_gut_obesity',\n",
       "       't2dmeta_short', 't2dmeta_long'], dtype=object)"
      ]
     },
     "execution_count": 182,
     "metadata": {},
     "output_type": "execute_result"
    }
   ],
   "source": [
    "train_abundance[\"code_study\"].unique()"
   ]
  },
  {
   "cell_type": "markdown",
   "metadata": {},
   "source": [
    "Es evidente que el estudio ``Quin_gut_ilver_cirrhosis`` y ``Chatelier_gut_obesity`` buscan evaluar la condición de Cirrosis y Obesidad respectivamente. ¿Pero qué hay sobre los estudios ``t2dmeta_short`` y ``t2dmeta_long``?:"
   ]
  },
  {
   "cell_type": "code",
   "execution_count": 12,
   "metadata": {},
   "outputs": [
    {
     "data": {
      "text/plain": [
       "array([nan])"
      ]
     },
     "execution_count": 12,
     "metadata": {},
     "output_type": "execute_result"
    }
   ],
   "source": [
    "train_marker[train_marker[\"code_study\"] == \"t2dmeta_short\"][\"Obesity\"].unique()"
   ]
  },
  {
   "cell_type": "code",
   "execution_count": 13,
   "metadata": {},
   "outputs": [
    {
     "data": {
      "text/plain": [
       "array([nan])"
      ]
     },
     "execution_count": 13,
     "metadata": {},
     "output_type": "execute_result"
    }
   ],
   "source": [
    "train_marker[train_marker[\"code_study\"] == \"t2dmeta_short\"][\"Cirrhosis\"].unique()"
   ]
  },
  {
   "cell_type": "code",
   "execution_count": 11,
   "metadata": {},
   "outputs": [
    {
     "data": {
      "text/plain": [
       "array([0., 1.])"
      ]
     },
     "execution_count": 11,
     "metadata": {},
     "output_type": "execute_result"
    }
   ],
   "source": [
    "train_marker[train_marker[\"code_study\"] == \"t2dmeta_short\"][\"Diabetes\"].unique()"
   ]
  },
  {
   "cell_type": "code",
   "execution_count": 14,
   "metadata": {},
   "outputs": [
    {
     "data": {
      "text/plain": [
       "array([nan])"
      ]
     },
     "execution_count": 14,
     "metadata": {},
     "output_type": "execute_result"
    }
   ],
   "source": [
    "train_marker[train_marker[\"code_study\"] == \"t2dmeta_long\"][\"Obesity\"].unique()"
   ]
  },
  {
   "cell_type": "code",
   "execution_count": 15,
   "metadata": {},
   "outputs": [
    {
     "data": {
      "text/plain": [
       "array([nan])"
      ]
     },
     "execution_count": 15,
     "metadata": {},
     "output_type": "execute_result"
    }
   ],
   "source": [
    "train_marker[train_marker[\"code_study\"] == \"t2dmeta_long\"][\"Cirrhosis\"].unique()"
   ]
  },
  {
   "cell_type": "code",
   "execution_count": 16,
   "metadata": {},
   "outputs": [
    {
     "data": {
      "text/plain": [
       "array([0., 1.])"
      ]
     },
     "execution_count": 16,
     "metadata": {},
     "output_type": "execute_result"
    }
   ],
   "source": [
    "train_marker[train_marker[\"code_study\"] == \"t2dmeta_long\"][\"Diabetes\"].unique()"
   ]
  },
  {
   "cell_type": "markdown",
   "metadata": {},
   "source": [
    "> Ambos estudios buscan medir la diabetes."
   ]
  },
  {
   "cell_type": "markdown",
   "metadata": {},
   "source": [
    "A continuación, exploremos la proporción de los features categóricos asociados a los individiuos utilizando el conjunto de datos ``train_marker`` y ``test_marker``:\n",
    "> Es importante notar que para estos gráficos en particular los resultados no varían si se utiliza el conjunto de datos ``train_abundance`` pues se trata de exactamente los mismos individuos."
   ]
  },
  {
   "cell_type": "code",
   "execution_count": 81,
   "metadata": {},
   "outputs": [],
   "source": [
    "def plot_pie(data,features,subtitles,title=\"\"):\n",
    "    fig = make_subplots(rows=1,\n",
    "                        cols=3,\n",
    "                        specs=[[{\"type\": \"pie\"}, {\"type\": \"pie\"},{\"type\": \"pie\"}]],\n",
    "                        vertical_spacing=0,horizontal_spacing=0.2)\n",
    "    fig.add_trace(go.Pie(title=subtitles[0],labels=data[features[0]].unique(),values=data[features[0]].value_counts().values),row=1,col=1)\n",
    "    fig.add_trace(go.Pie(title=subtitles[1],labels=data[features[1]].unique(),values=data[features[1]].value_counts().values),row=1,col=2)\n",
    "    fig.add_trace(go.Pie(title=subtitles[2],labels=data[features[2]].unique(),values=data[features[2]].value_counts().values),row=1,col=3)\n",
    "    fig.update_layout(\n",
    "        title=title,\n",
    "        autosize=False,\n",
    "        width=1000,\n",
    "        height=400)\n",
    "    fig.show()"
   ]
  },
  {
   "cell_type": "code",
   "execution_count": 82,
   "metadata": {},
   "outputs": [
    {
     "data": {
      "application/vnd.plotly.v1+json": {
       "config": {
        "plotlyServerURL": "https://plot.ly"
       },
       "data": [
        {
         "domain": {
          "x": [
           0,
           0.19999999999999998
          ],
          "y": [
           0,
           1
          ]
         },
         "labels": [
          "female",
          "male",
          "-"
         ],
         "title": {
          "text": "Género"
         },
         "type": "pie",
         "values": [
          254,
          189,
          178
         ]
        },
        {
         "domain": {
          "x": [
           0.4,
           0.6
          ],
          "y": [
           0,
           1
          ]
         },
         "labels": [
          "china",
          "denmark"
         ],
         "title": {
          "text": "País"
         },
         "type": "pie",
         "values": [
          432,
          189
         ]
        },
        {
         "domain": {
          "x": [
           0.8,
           1
          ],
          "y": [
           0,
           1
          ]
         },
         "labels": [
          "Quin_gut_liver_cirrhosis",
          "Chatelier_gut_obesity",
          "t2dmeta_short",
          "t2dmeta_long"
         ],
         "title": {
          "text": "Estudio"
         },
         "type": "pie",
         "values": [
          206,
          189,
          174,
          52
         ]
        }
       ],
       "layout": {
        "autosize": false,
        "height": 400,
        "template": {
         "data": {
          "bar": [
           {
            "error_x": {
             "color": "#2a3f5f"
            },
            "error_y": {
             "color": "#2a3f5f"
            },
            "marker": {
             "line": {
              "color": "#E5ECF6",
              "width": 0.5
             },
             "pattern": {
              "fillmode": "overlay",
              "size": 10,
              "solidity": 0.2
             }
            },
            "type": "bar"
           }
          ],
          "barpolar": [
           {
            "marker": {
             "line": {
              "color": "#E5ECF6",
              "width": 0.5
             },
             "pattern": {
              "fillmode": "overlay",
              "size": 10,
              "solidity": 0.2
             }
            },
            "type": "barpolar"
           }
          ],
          "carpet": [
           {
            "aaxis": {
             "endlinecolor": "#2a3f5f",
             "gridcolor": "white",
             "linecolor": "white",
             "minorgridcolor": "white",
             "startlinecolor": "#2a3f5f"
            },
            "baxis": {
             "endlinecolor": "#2a3f5f",
             "gridcolor": "white",
             "linecolor": "white",
             "minorgridcolor": "white",
             "startlinecolor": "#2a3f5f"
            },
            "type": "carpet"
           }
          ],
          "choropleth": [
           {
            "colorbar": {
             "outlinewidth": 0,
             "ticks": ""
            },
            "type": "choropleth"
           }
          ],
          "contour": [
           {
            "colorbar": {
             "outlinewidth": 0,
             "ticks": ""
            },
            "colorscale": [
             [
              0,
              "#0d0887"
             ],
             [
              0.1111111111111111,
              "#46039f"
             ],
             [
              0.2222222222222222,
              "#7201a8"
             ],
             [
              0.3333333333333333,
              "#9c179e"
             ],
             [
              0.4444444444444444,
              "#bd3786"
             ],
             [
              0.5555555555555556,
              "#d8576b"
             ],
             [
              0.6666666666666666,
              "#ed7953"
             ],
             [
              0.7777777777777778,
              "#fb9f3a"
             ],
             [
              0.8888888888888888,
              "#fdca26"
             ],
             [
              1,
              "#f0f921"
             ]
            ],
            "type": "contour"
           }
          ],
          "contourcarpet": [
           {
            "colorbar": {
             "outlinewidth": 0,
             "ticks": ""
            },
            "type": "contourcarpet"
           }
          ],
          "heatmap": [
           {
            "colorbar": {
             "outlinewidth": 0,
             "ticks": ""
            },
            "colorscale": [
             [
              0,
              "#0d0887"
             ],
             [
              0.1111111111111111,
              "#46039f"
             ],
             [
              0.2222222222222222,
              "#7201a8"
             ],
             [
              0.3333333333333333,
              "#9c179e"
             ],
             [
              0.4444444444444444,
              "#bd3786"
             ],
             [
              0.5555555555555556,
              "#d8576b"
             ],
             [
              0.6666666666666666,
              "#ed7953"
             ],
             [
              0.7777777777777778,
              "#fb9f3a"
             ],
             [
              0.8888888888888888,
              "#fdca26"
             ],
             [
              1,
              "#f0f921"
             ]
            ],
            "type": "heatmap"
           }
          ],
          "heatmapgl": [
           {
            "colorbar": {
             "outlinewidth": 0,
             "ticks": ""
            },
            "colorscale": [
             [
              0,
              "#0d0887"
             ],
             [
              0.1111111111111111,
              "#46039f"
             ],
             [
              0.2222222222222222,
              "#7201a8"
             ],
             [
              0.3333333333333333,
              "#9c179e"
             ],
             [
              0.4444444444444444,
              "#bd3786"
             ],
             [
              0.5555555555555556,
              "#d8576b"
             ],
             [
              0.6666666666666666,
              "#ed7953"
             ],
             [
              0.7777777777777778,
              "#fb9f3a"
             ],
             [
              0.8888888888888888,
              "#fdca26"
             ],
             [
              1,
              "#f0f921"
             ]
            ],
            "type": "heatmapgl"
           }
          ],
          "histogram": [
           {
            "marker": {
             "pattern": {
              "fillmode": "overlay",
              "size": 10,
              "solidity": 0.2
             }
            },
            "type": "histogram"
           }
          ],
          "histogram2d": [
           {
            "colorbar": {
             "outlinewidth": 0,
             "ticks": ""
            },
            "colorscale": [
             [
              0,
              "#0d0887"
             ],
             [
              0.1111111111111111,
              "#46039f"
             ],
             [
              0.2222222222222222,
              "#7201a8"
             ],
             [
              0.3333333333333333,
              "#9c179e"
             ],
             [
              0.4444444444444444,
              "#bd3786"
             ],
             [
              0.5555555555555556,
              "#d8576b"
             ],
             [
              0.6666666666666666,
              "#ed7953"
             ],
             [
              0.7777777777777778,
              "#fb9f3a"
             ],
             [
              0.8888888888888888,
              "#fdca26"
             ],
             [
              1,
              "#f0f921"
             ]
            ],
            "type": "histogram2d"
           }
          ],
          "histogram2dcontour": [
           {
            "colorbar": {
             "outlinewidth": 0,
             "ticks": ""
            },
            "colorscale": [
             [
              0,
              "#0d0887"
             ],
             [
              0.1111111111111111,
              "#46039f"
             ],
             [
              0.2222222222222222,
              "#7201a8"
             ],
             [
              0.3333333333333333,
              "#9c179e"
             ],
             [
              0.4444444444444444,
              "#bd3786"
             ],
             [
              0.5555555555555556,
              "#d8576b"
             ],
             [
              0.6666666666666666,
              "#ed7953"
             ],
             [
              0.7777777777777778,
              "#fb9f3a"
             ],
             [
              0.8888888888888888,
              "#fdca26"
             ],
             [
              1,
              "#f0f921"
             ]
            ],
            "type": "histogram2dcontour"
           }
          ],
          "mesh3d": [
           {
            "colorbar": {
             "outlinewidth": 0,
             "ticks": ""
            },
            "type": "mesh3d"
           }
          ],
          "parcoords": [
           {
            "line": {
             "colorbar": {
              "outlinewidth": 0,
              "ticks": ""
             }
            },
            "type": "parcoords"
           }
          ],
          "pie": [
           {
            "automargin": true,
            "type": "pie"
           }
          ],
          "scatter": [
           {
            "marker": {
             "colorbar": {
              "outlinewidth": 0,
              "ticks": ""
             }
            },
            "type": "scatter"
           }
          ],
          "scatter3d": [
           {
            "line": {
             "colorbar": {
              "outlinewidth": 0,
              "ticks": ""
             }
            },
            "marker": {
             "colorbar": {
              "outlinewidth": 0,
              "ticks": ""
             }
            },
            "type": "scatter3d"
           }
          ],
          "scattercarpet": [
           {
            "marker": {
             "colorbar": {
              "outlinewidth": 0,
              "ticks": ""
             }
            },
            "type": "scattercarpet"
           }
          ],
          "scattergeo": [
           {
            "marker": {
             "colorbar": {
              "outlinewidth": 0,
              "ticks": ""
             }
            },
            "type": "scattergeo"
           }
          ],
          "scattergl": [
           {
            "marker": {
             "colorbar": {
              "outlinewidth": 0,
              "ticks": ""
             }
            },
            "type": "scattergl"
           }
          ],
          "scattermapbox": [
           {
            "marker": {
             "colorbar": {
              "outlinewidth": 0,
              "ticks": ""
             }
            },
            "type": "scattermapbox"
           }
          ],
          "scatterpolar": [
           {
            "marker": {
             "colorbar": {
              "outlinewidth": 0,
              "ticks": ""
             }
            },
            "type": "scatterpolar"
           }
          ],
          "scatterpolargl": [
           {
            "marker": {
             "colorbar": {
              "outlinewidth": 0,
              "ticks": ""
             }
            },
            "type": "scatterpolargl"
           }
          ],
          "scatterternary": [
           {
            "marker": {
             "colorbar": {
              "outlinewidth": 0,
              "ticks": ""
             }
            },
            "type": "scatterternary"
           }
          ],
          "surface": [
           {
            "colorbar": {
             "outlinewidth": 0,
             "ticks": ""
            },
            "colorscale": [
             [
              0,
              "#0d0887"
             ],
             [
              0.1111111111111111,
              "#46039f"
             ],
             [
              0.2222222222222222,
              "#7201a8"
             ],
             [
              0.3333333333333333,
              "#9c179e"
             ],
             [
              0.4444444444444444,
              "#bd3786"
             ],
             [
              0.5555555555555556,
              "#d8576b"
             ],
             [
              0.6666666666666666,
              "#ed7953"
             ],
             [
              0.7777777777777778,
              "#fb9f3a"
             ],
             [
              0.8888888888888888,
              "#fdca26"
             ],
             [
              1,
              "#f0f921"
             ]
            ],
            "type": "surface"
           }
          ],
          "table": [
           {
            "cells": {
             "fill": {
              "color": "#EBF0F8"
             },
             "line": {
              "color": "white"
             }
            },
            "header": {
             "fill": {
              "color": "#C8D4E3"
             },
             "line": {
              "color": "white"
             }
            },
            "type": "table"
           }
          ]
         },
         "layout": {
          "annotationdefaults": {
           "arrowcolor": "#2a3f5f",
           "arrowhead": 0,
           "arrowwidth": 1
          },
          "autotypenumbers": "strict",
          "coloraxis": {
           "colorbar": {
            "outlinewidth": 0,
            "ticks": ""
           }
          },
          "colorscale": {
           "diverging": [
            [
             0,
             "#8e0152"
            ],
            [
             0.1,
             "#c51b7d"
            ],
            [
             0.2,
             "#de77ae"
            ],
            [
             0.3,
             "#f1b6da"
            ],
            [
             0.4,
             "#fde0ef"
            ],
            [
             0.5,
             "#f7f7f7"
            ],
            [
             0.6,
             "#e6f5d0"
            ],
            [
             0.7,
             "#b8e186"
            ],
            [
             0.8,
             "#7fbc41"
            ],
            [
             0.9,
             "#4d9221"
            ],
            [
             1,
             "#276419"
            ]
           ],
           "sequential": [
            [
             0,
             "#0d0887"
            ],
            [
             0.1111111111111111,
             "#46039f"
            ],
            [
             0.2222222222222222,
             "#7201a8"
            ],
            [
             0.3333333333333333,
             "#9c179e"
            ],
            [
             0.4444444444444444,
             "#bd3786"
            ],
            [
             0.5555555555555556,
             "#d8576b"
            ],
            [
             0.6666666666666666,
             "#ed7953"
            ],
            [
             0.7777777777777778,
             "#fb9f3a"
            ],
            [
             0.8888888888888888,
             "#fdca26"
            ],
            [
             1,
             "#f0f921"
            ]
           ],
           "sequentialminus": [
            [
             0,
             "#0d0887"
            ],
            [
             0.1111111111111111,
             "#46039f"
            ],
            [
             0.2222222222222222,
             "#7201a8"
            ],
            [
             0.3333333333333333,
             "#9c179e"
            ],
            [
             0.4444444444444444,
             "#bd3786"
            ],
            [
             0.5555555555555556,
             "#d8576b"
            ],
            [
             0.6666666666666666,
             "#ed7953"
            ],
            [
             0.7777777777777778,
             "#fb9f3a"
            ],
            [
             0.8888888888888888,
             "#fdca26"
            ],
            [
             1,
             "#f0f921"
            ]
           ]
          },
          "colorway": [
           "#636efa",
           "#EF553B",
           "#00cc96",
           "#ab63fa",
           "#FFA15A",
           "#19d3f3",
           "#FF6692",
           "#B6E880",
           "#FF97FF",
           "#FECB52"
          ],
          "font": {
           "color": "#2a3f5f"
          },
          "geo": {
           "bgcolor": "white",
           "lakecolor": "white",
           "landcolor": "#E5ECF6",
           "showlakes": true,
           "showland": true,
           "subunitcolor": "white"
          },
          "hoverlabel": {
           "align": "left"
          },
          "hovermode": "closest",
          "mapbox": {
           "style": "light"
          },
          "paper_bgcolor": "white",
          "plot_bgcolor": "#E5ECF6",
          "polar": {
           "angularaxis": {
            "gridcolor": "white",
            "linecolor": "white",
            "ticks": ""
           },
           "bgcolor": "#E5ECF6",
           "radialaxis": {
            "gridcolor": "white",
            "linecolor": "white",
            "ticks": ""
           }
          },
          "scene": {
           "xaxis": {
            "backgroundcolor": "#E5ECF6",
            "gridcolor": "white",
            "gridwidth": 2,
            "linecolor": "white",
            "showbackground": true,
            "ticks": "",
            "zerolinecolor": "white"
           },
           "yaxis": {
            "backgroundcolor": "#E5ECF6",
            "gridcolor": "white",
            "gridwidth": 2,
            "linecolor": "white",
            "showbackground": true,
            "ticks": "",
            "zerolinecolor": "white"
           },
           "zaxis": {
            "backgroundcolor": "#E5ECF6",
            "gridcolor": "white",
            "gridwidth": 2,
            "linecolor": "white",
            "showbackground": true,
            "ticks": "",
            "zerolinecolor": "white"
           }
          },
          "shapedefaults": {
           "line": {
            "color": "#2a3f5f"
           }
          },
          "ternary": {
           "aaxis": {
            "gridcolor": "white",
            "linecolor": "white",
            "ticks": ""
           },
           "baxis": {
            "gridcolor": "white",
            "linecolor": "white",
            "ticks": ""
           },
           "bgcolor": "#E5ECF6",
           "caxis": {
            "gridcolor": "white",
            "linecolor": "white",
            "ticks": ""
           }
          },
          "title": {
           "x": 0.05
          },
          "xaxis": {
           "automargin": true,
           "gridcolor": "white",
           "linecolor": "white",
           "ticks": "",
           "title": {
            "standoff": 15
           },
           "zerolinecolor": "white",
           "zerolinewidth": 2
          },
          "yaxis": {
           "automargin": true,
           "gridcolor": "white",
           "linecolor": "white",
           "ticks": "",
           "title": {
            "standoff": 15
           },
           "zerolinecolor": "white",
           "zerolinewidth": 2
          }
         }
        },
        "title": {
         "text": "Atributos de individuos en conjunto de entrenamiento"
        },
        "width": 1000
       }
      },
      "text/html": [
       "<div>                            <div id=\"5cb17ab5-0667-494e-9903-071a62df6e2e\" class=\"plotly-graph-div\" style=\"height:400px; width:1000px;\"></div>            <script type=\"text/javascript\">                require([\"plotly\"], function(Plotly) {                    window.PLOTLYENV=window.PLOTLYENV || {};                                    if (document.getElementById(\"5cb17ab5-0667-494e-9903-071a62df6e2e\")) {                    Plotly.newPlot(                        \"5cb17ab5-0667-494e-9903-071a62df6e2e\",                        [{\"domain\":{\"x\":[0.0,0.19999999999999998],\"y\":[0.0,1.0]},\"labels\":[\"female\",\"male\",\"-\"],\"title\":{\"text\":\"G\\u00e9nero\"},\"type\":\"pie\",\"values\":[254,189,178]},{\"domain\":{\"x\":[0.4,0.6],\"y\":[0.0,1.0]},\"labels\":[\"china\",\"denmark\"],\"title\":{\"text\":\"Pa\\u00eds\"},\"type\":\"pie\",\"values\":[432,189]},{\"domain\":{\"x\":[0.8,1.0],\"y\":[0.0,1.0]},\"labels\":[\"Quin_gut_liver_cirrhosis\",\"Chatelier_gut_obesity\",\"t2dmeta_short\",\"t2dmeta_long\"],\"title\":{\"text\":\"Estudio\"},\"type\":\"pie\",\"values\":[206,189,174,52]}],                        {\"autosize\":false,\"height\":400,\"template\":{\"data\":{\"bar\":[{\"error_x\":{\"color\":\"#2a3f5f\"},\"error_y\":{\"color\":\"#2a3f5f\"},\"marker\":{\"line\":{\"color\":\"#E5ECF6\",\"width\":0.5},\"pattern\":{\"fillmode\":\"overlay\",\"size\":10,\"solidity\":0.2}},\"type\":\"bar\"}],\"barpolar\":[{\"marker\":{\"line\":{\"color\":\"#E5ECF6\",\"width\":0.5},\"pattern\":{\"fillmode\":\"overlay\",\"size\":10,\"solidity\":0.2}},\"type\":\"barpolar\"}],\"carpet\":[{\"aaxis\":{\"endlinecolor\":\"#2a3f5f\",\"gridcolor\":\"white\",\"linecolor\":\"white\",\"minorgridcolor\":\"white\",\"startlinecolor\":\"#2a3f5f\"},\"baxis\":{\"endlinecolor\":\"#2a3f5f\",\"gridcolor\":\"white\",\"linecolor\":\"white\",\"minorgridcolor\":\"white\",\"startlinecolor\":\"#2a3f5f\"},\"type\":\"carpet\"}],\"choropleth\":[{\"colorbar\":{\"outlinewidth\":0,\"ticks\":\"\"},\"type\":\"choropleth\"}],\"contour\":[{\"colorbar\":{\"outlinewidth\":0,\"ticks\":\"\"},\"colorscale\":[[0.0,\"#0d0887\"],[0.1111111111111111,\"#46039f\"],[0.2222222222222222,\"#7201a8\"],[0.3333333333333333,\"#9c179e\"],[0.4444444444444444,\"#bd3786\"],[0.5555555555555556,\"#d8576b\"],[0.6666666666666666,\"#ed7953\"],[0.7777777777777778,\"#fb9f3a\"],[0.8888888888888888,\"#fdca26\"],[1.0,\"#f0f921\"]],\"type\":\"contour\"}],\"contourcarpet\":[{\"colorbar\":{\"outlinewidth\":0,\"ticks\":\"\"},\"type\":\"contourcarpet\"}],\"heatmap\":[{\"colorbar\":{\"outlinewidth\":0,\"ticks\":\"\"},\"colorscale\":[[0.0,\"#0d0887\"],[0.1111111111111111,\"#46039f\"],[0.2222222222222222,\"#7201a8\"],[0.3333333333333333,\"#9c179e\"],[0.4444444444444444,\"#bd3786\"],[0.5555555555555556,\"#d8576b\"],[0.6666666666666666,\"#ed7953\"],[0.7777777777777778,\"#fb9f3a\"],[0.8888888888888888,\"#fdca26\"],[1.0,\"#f0f921\"]],\"type\":\"heatmap\"}],\"heatmapgl\":[{\"colorbar\":{\"outlinewidth\":0,\"ticks\":\"\"},\"colorscale\":[[0.0,\"#0d0887\"],[0.1111111111111111,\"#46039f\"],[0.2222222222222222,\"#7201a8\"],[0.3333333333333333,\"#9c179e\"],[0.4444444444444444,\"#bd3786\"],[0.5555555555555556,\"#d8576b\"],[0.6666666666666666,\"#ed7953\"],[0.7777777777777778,\"#fb9f3a\"],[0.8888888888888888,\"#fdca26\"],[1.0,\"#f0f921\"]],\"type\":\"heatmapgl\"}],\"histogram\":[{\"marker\":{\"pattern\":{\"fillmode\":\"overlay\",\"size\":10,\"solidity\":0.2}},\"type\":\"histogram\"}],\"histogram2d\":[{\"colorbar\":{\"outlinewidth\":0,\"ticks\":\"\"},\"colorscale\":[[0.0,\"#0d0887\"],[0.1111111111111111,\"#46039f\"],[0.2222222222222222,\"#7201a8\"],[0.3333333333333333,\"#9c179e\"],[0.4444444444444444,\"#bd3786\"],[0.5555555555555556,\"#d8576b\"],[0.6666666666666666,\"#ed7953\"],[0.7777777777777778,\"#fb9f3a\"],[0.8888888888888888,\"#fdca26\"],[1.0,\"#f0f921\"]],\"type\":\"histogram2d\"}],\"histogram2dcontour\":[{\"colorbar\":{\"outlinewidth\":0,\"ticks\":\"\"},\"colorscale\":[[0.0,\"#0d0887\"],[0.1111111111111111,\"#46039f\"],[0.2222222222222222,\"#7201a8\"],[0.3333333333333333,\"#9c179e\"],[0.4444444444444444,\"#bd3786\"],[0.5555555555555556,\"#d8576b\"],[0.6666666666666666,\"#ed7953\"],[0.7777777777777778,\"#fb9f3a\"],[0.8888888888888888,\"#fdca26\"],[1.0,\"#f0f921\"]],\"type\":\"histogram2dcontour\"}],\"mesh3d\":[{\"colorbar\":{\"outlinewidth\":0,\"ticks\":\"\"},\"type\":\"mesh3d\"}],\"parcoords\":[{\"line\":{\"colorbar\":{\"outlinewidth\":0,\"ticks\":\"\"}},\"type\":\"parcoords\"}],\"pie\":[{\"automargin\":true,\"type\":\"pie\"}],\"scatter\":[{\"marker\":{\"colorbar\":{\"outlinewidth\":0,\"ticks\":\"\"}},\"type\":\"scatter\"}],\"scatter3d\":[{\"line\":{\"colorbar\":{\"outlinewidth\":0,\"ticks\":\"\"}},\"marker\":{\"colorbar\":{\"outlinewidth\":0,\"ticks\":\"\"}},\"type\":\"scatter3d\"}],\"scattercarpet\":[{\"marker\":{\"colorbar\":{\"outlinewidth\":0,\"ticks\":\"\"}},\"type\":\"scattercarpet\"}],\"scattergeo\":[{\"marker\":{\"colorbar\":{\"outlinewidth\":0,\"ticks\":\"\"}},\"type\":\"scattergeo\"}],\"scattergl\":[{\"marker\":{\"colorbar\":{\"outlinewidth\":0,\"ticks\":\"\"}},\"type\":\"scattergl\"}],\"scattermapbox\":[{\"marker\":{\"colorbar\":{\"outlinewidth\":0,\"ticks\":\"\"}},\"type\":\"scattermapbox\"}],\"scatterpolar\":[{\"marker\":{\"colorbar\":{\"outlinewidth\":0,\"ticks\":\"\"}},\"type\":\"scatterpolar\"}],\"scatterpolargl\":[{\"marker\":{\"colorbar\":{\"outlinewidth\":0,\"ticks\":\"\"}},\"type\":\"scatterpolargl\"}],\"scatterternary\":[{\"marker\":{\"colorbar\":{\"outlinewidth\":0,\"ticks\":\"\"}},\"type\":\"scatterternary\"}],\"surface\":[{\"colorbar\":{\"outlinewidth\":0,\"ticks\":\"\"},\"colorscale\":[[0.0,\"#0d0887\"],[0.1111111111111111,\"#46039f\"],[0.2222222222222222,\"#7201a8\"],[0.3333333333333333,\"#9c179e\"],[0.4444444444444444,\"#bd3786\"],[0.5555555555555556,\"#d8576b\"],[0.6666666666666666,\"#ed7953\"],[0.7777777777777778,\"#fb9f3a\"],[0.8888888888888888,\"#fdca26\"],[1.0,\"#f0f921\"]],\"type\":\"surface\"}],\"table\":[{\"cells\":{\"fill\":{\"color\":\"#EBF0F8\"},\"line\":{\"color\":\"white\"}},\"header\":{\"fill\":{\"color\":\"#C8D4E3\"},\"line\":{\"color\":\"white\"}},\"type\":\"table\"}]},\"layout\":{\"annotationdefaults\":{\"arrowcolor\":\"#2a3f5f\",\"arrowhead\":0,\"arrowwidth\":1},\"autotypenumbers\":\"strict\",\"coloraxis\":{\"colorbar\":{\"outlinewidth\":0,\"ticks\":\"\"}},\"colorscale\":{\"diverging\":[[0,\"#8e0152\"],[0.1,\"#c51b7d\"],[0.2,\"#de77ae\"],[0.3,\"#f1b6da\"],[0.4,\"#fde0ef\"],[0.5,\"#f7f7f7\"],[0.6,\"#e6f5d0\"],[0.7,\"#b8e186\"],[0.8,\"#7fbc41\"],[0.9,\"#4d9221\"],[1,\"#276419\"]],\"sequential\":[[0.0,\"#0d0887\"],[0.1111111111111111,\"#46039f\"],[0.2222222222222222,\"#7201a8\"],[0.3333333333333333,\"#9c179e\"],[0.4444444444444444,\"#bd3786\"],[0.5555555555555556,\"#d8576b\"],[0.6666666666666666,\"#ed7953\"],[0.7777777777777778,\"#fb9f3a\"],[0.8888888888888888,\"#fdca26\"],[1.0,\"#f0f921\"]],\"sequentialminus\":[[0.0,\"#0d0887\"],[0.1111111111111111,\"#46039f\"],[0.2222222222222222,\"#7201a8\"],[0.3333333333333333,\"#9c179e\"],[0.4444444444444444,\"#bd3786\"],[0.5555555555555556,\"#d8576b\"],[0.6666666666666666,\"#ed7953\"],[0.7777777777777778,\"#fb9f3a\"],[0.8888888888888888,\"#fdca26\"],[1.0,\"#f0f921\"]]},\"colorway\":[\"#636efa\",\"#EF553B\",\"#00cc96\",\"#ab63fa\",\"#FFA15A\",\"#19d3f3\",\"#FF6692\",\"#B6E880\",\"#FF97FF\",\"#FECB52\"],\"font\":{\"color\":\"#2a3f5f\"},\"geo\":{\"bgcolor\":\"white\",\"lakecolor\":\"white\",\"landcolor\":\"#E5ECF6\",\"showlakes\":true,\"showland\":true,\"subunitcolor\":\"white\"},\"hoverlabel\":{\"align\":\"left\"},\"hovermode\":\"closest\",\"mapbox\":{\"style\":\"light\"},\"paper_bgcolor\":\"white\",\"plot_bgcolor\":\"#E5ECF6\",\"polar\":{\"angularaxis\":{\"gridcolor\":\"white\",\"linecolor\":\"white\",\"ticks\":\"\"},\"bgcolor\":\"#E5ECF6\",\"radialaxis\":{\"gridcolor\":\"white\",\"linecolor\":\"white\",\"ticks\":\"\"}},\"scene\":{\"xaxis\":{\"backgroundcolor\":\"#E5ECF6\",\"gridcolor\":\"white\",\"gridwidth\":2,\"linecolor\":\"white\",\"showbackground\":true,\"ticks\":\"\",\"zerolinecolor\":\"white\"},\"yaxis\":{\"backgroundcolor\":\"#E5ECF6\",\"gridcolor\":\"white\",\"gridwidth\":2,\"linecolor\":\"white\",\"showbackground\":true,\"ticks\":\"\",\"zerolinecolor\":\"white\"},\"zaxis\":{\"backgroundcolor\":\"#E5ECF6\",\"gridcolor\":\"white\",\"gridwidth\":2,\"linecolor\":\"white\",\"showbackground\":true,\"ticks\":\"\",\"zerolinecolor\":\"white\"}},\"shapedefaults\":{\"line\":{\"color\":\"#2a3f5f\"}},\"ternary\":{\"aaxis\":{\"gridcolor\":\"white\",\"linecolor\":\"white\",\"ticks\":\"\"},\"baxis\":{\"gridcolor\":\"white\",\"linecolor\":\"white\",\"ticks\":\"\"},\"bgcolor\":\"#E5ECF6\",\"caxis\":{\"gridcolor\":\"white\",\"linecolor\":\"white\",\"ticks\":\"\"}},\"title\":{\"x\":0.05},\"xaxis\":{\"automargin\":true,\"gridcolor\":\"white\",\"linecolor\":\"white\",\"ticks\":\"\",\"title\":{\"standoff\":15},\"zerolinecolor\":\"white\",\"zerolinewidth\":2},\"yaxis\":{\"automargin\":true,\"gridcolor\":\"white\",\"linecolor\":\"white\",\"ticks\":\"\",\"title\":{\"standoff\":15},\"zerolinecolor\":\"white\",\"zerolinewidth\":2}}},\"title\":{\"text\":\"Atributos de individuos en conjunto de entrenamiento\"},\"width\":1000},                        {\"responsive\": true}                    ).then(function(){\n",
       "                            \n",
       "var gd = document.getElementById('5cb17ab5-0667-494e-9903-071a62df6e2e');\n",
       "var x = new MutationObserver(function (mutations, observer) {{\n",
       "        var display = window.getComputedStyle(gd).display;\n",
       "        if (!display || display === 'none') {{\n",
       "            console.log([gd, 'removed!']);\n",
       "            Plotly.purge(gd);\n",
       "            observer.disconnect();\n",
       "        }}\n",
       "}});\n",
       "\n",
       "// Listen for the removal of the full notebook cells\n",
       "var notebookContainer = gd.closest('#notebook-container');\n",
       "if (notebookContainer) {{\n",
       "    x.observe(notebookContainer, {childList: true});\n",
       "}}\n",
       "\n",
       "// Listen for the clearing of the current output cell\n",
       "var outputEl = gd.closest('.output');\n",
       "if (outputEl) {{\n",
       "    x.observe(outputEl, {childList: true});\n",
       "}}\n",
       "\n",
       "                        })                };                });            </script>        </div>"
      ]
     },
     "metadata": {},
     "output_type": "display_data"
    }
   ],
   "source": [
    "plot_pie(train_marker,[\"gender\",\"country\",\"code_study\"],[\"Género\",\"País\",\"Estudio\"],title=\"Atributos de individuos en conjunto de entrenamiento\")"
   ]
  },
  {
   "cell_type": "markdown",
   "metadata": {},
   "source": [
    "Analicemos si estas proporciones se cumplen también en el conjuntos de datos de prueba:"
   ]
  },
  {
   "cell_type": "code",
   "execution_count": 83,
   "metadata": {},
   "outputs": [
    {
     "data": {
      "application/vnd.plotly.v1+json": {
       "config": {
        "plotlyServerURL": "https://plot.ly"
       },
       "data": [
        {
         "domain": {
          "x": [
           0,
           0.19999999999999998
          ],
          "y": [
           0,
           1
          ]
         },
         "labels": [
          "female",
          "male",
          "-"
         ],
         "title": {
          "text": "Género"
         },
         "type": "pie",
         "values": [
          88,
          64,
          56
         ]
        },
        {
         "domain": {
          "x": [
           0.4,
           0.6
          ],
          "y": [
           0,
           1
          ]
         },
         "labels": [
          "china",
          "denmark"
         ],
         "title": {
          "text": "País"
         },
         "type": "pie",
         "values": [
          144,
          64
         ]
        },
        {
         "domain": {
          "x": [
           0.8,
           1
          ],
          "y": [
           0,
           1
          ]
         },
         "labels": [
          "Quin_gut_liver_cirrhosis",
          "Chatelier_gut_obesity",
          "t2dmeta_long",
          "t2dmeta_short"
         ],
         "title": {
          "text": "Estudio"
         },
         "type": "pie",
         "values": [
          65,
          64,
          58,
          21
         ]
        }
       ],
       "layout": {
        "autosize": false,
        "height": 400,
        "template": {
         "data": {
          "bar": [
           {
            "error_x": {
             "color": "#2a3f5f"
            },
            "error_y": {
             "color": "#2a3f5f"
            },
            "marker": {
             "line": {
              "color": "#E5ECF6",
              "width": 0.5
             },
             "pattern": {
              "fillmode": "overlay",
              "size": 10,
              "solidity": 0.2
             }
            },
            "type": "bar"
           }
          ],
          "barpolar": [
           {
            "marker": {
             "line": {
              "color": "#E5ECF6",
              "width": 0.5
             },
             "pattern": {
              "fillmode": "overlay",
              "size": 10,
              "solidity": 0.2
             }
            },
            "type": "barpolar"
           }
          ],
          "carpet": [
           {
            "aaxis": {
             "endlinecolor": "#2a3f5f",
             "gridcolor": "white",
             "linecolor": "white",
             "minorgridcolor": "white",
             "startlinecolor": "#2a3f5f"
            },
            "baxis": {
             "endlinecolor": "#2a3f5f",
             "gridcolor": "white",
             "linecolor": "white",
             "minorgridcolor": "white",
             "startlinecolor": "#2a3f5f"
            },
            "type": "carpet"
           }
          ],
          "choropleth": [
           {
            "colorbar": {
             "outlinewidth": 0,
             "ticks": ""
            },
            "type": "choropleth"
           }
          ],
          "contour": [
           {
            "colorbar": {
             "outlinewidth": 0,
             "ticks": ""
            },
            "colorscale": [
             [
              0,
              "#0d0887"
             ],
             [
              0.1111111111111111,
              "#46039f"
             ],
             [
              0.2222222222222222,
              "#7201a8"
             ],
             [
              0.3333333333333333,
              "#9c179e"
             ],
             [
              0.4444444444444444,
              "#bd3786"
             ],
             [
              0.5555555555555556,
              "#d8576b"
             ],
             [
              0.6666666666666666,
              "#ed7953"
             ],
             [
              0.7777777777777778,
              "#fb9f3a"
             ],
             [
              0.8888888888888888,
              "#fdca26"
             ],
             [
              1,
              "#f0f921"
             ]
            ],
            "type": "contour"
           }
          ],
          "contourcarpet": [
           {
            "colorbar": {
             "outlinewidth": 0,
             "ticks": ""
            },
            "type": "contourcarpet"
           }
          ],
          "heatmap": [
           {
            "colorbar": {
             "outlinewidth": 0,
             "ticks": ""
            },
            "colorscale": [
             [
              0,
              "#0d0887"
             ],
             [
              0.1111111111111111,
              "#46039f"
             ],
             [
              0.2222222222222222,
              "#7201a8"
             ],
             [
              0.3333333333333333,
              "#9c179e"
             ],
             [
              0.4444444444444444,
              "#bd3786"
             ],
             [
              0.5555555555555556,
              "#d8576b"
             ],
             [
              0.6666666666666666,
              "#ed7953"
             ],
             [
              0.7777777777777778,
              "#fb9f3a"
             ],
             [
              0.8888888888888888,
              "#fdca26"
             ],
             [
              1,
              "#f0f921"
             ]
            ],
            "type": "heatmap"
           }
          ],
          "heatmapgl": [
           {
            "colorbar": {
             "outlinewidth": 0,
             "ticks": ""
            },
            "colorscale": [
             [
              0,
              "#0d0887"
             ],
             [
              0.1111111111111111,
              "#46039f"
             ],
             [
              0.2222222222222222,
              "#7201a8"
             ],
             [
              0.3333333333333333,
              "#9c179e"
             ],
             [
              0.4444444444444444,
              "#bd3786"
             ],
             [
              0.5555555555555556,
              "#d8576b"
             ],
             [
              0.6666666666666666,
              "#ed7953"
             ],
             [
              0.7777777777777778,
              "#fb9f3a"
             ],
             [
              0.8888888888888888,
              "#fdca26"
             ],
             [
              1,
              "#f0f921"
             ]
            ],
            "type": "heatmapgl"
           }
          ],
          "histogram": [
           {
            "marker": {
             "pattern": {
              "fillmode": "overlay",
              "size": 10,
              "solidity": 0.2
             }
            },
            "type": "histogram"
           }
          ],
          "histogram2d": [
           {
            "colorbar": {
             "outlinewidth": 0,
             "ticks": ""
            },
            "colorscale": [
             [
              0,
              "#0d0887"
             ],
             [
              0.1111111111111111,
              "#46039f"
             ],
             [
              0.2222222222222222,
              "#7201a8"
             ],
             [
              0.3333333333333333,
              "#9c179e"
             ],
             [
              0.4444444444444444,
              "#bd3786"
             ],
             [
              0.5555555555555556,
              "#d8576b"
             ],
             [
              0.6666666666666666,
              "#ed7953"
             ],
             [
              0.7777777777777778,
              "#fb9f3a"
             ],
             [
              0.8888888888888888,
              "#fdca26"
             ],
             [
              1,
              "#f0f921"
             ]
            ],
            "type": "histogram2d"
           }
          ],
          "histogram2dcontour": [
           {
            "colorbar": {
             "outlinewidth": 0,
             "ticks": ""
            },
            "colorscale": [
             [
              0,
              "#0d0887"
             ],
             [
              0.1111111111111111,
              "#46039f"
             ],
             [
              0.2222222222222222,
              "#7201a8"
             ],
             [
              0.3333333333333333,
              "#9c179e"
             ],
             [
              0.4444444444444444,
              "#bd3786"
             ],
             [
              0.5555555555555556,
              "#d8576b"
             ],
             [
              0.6666666666666666,
              "#ed7953"
             ],
             [
              0.7777777777777778,
              "#fb9f3a"
             ],
             [
              0.8888888888888888,
              "#fdca26"
             ],
             [
              1,
              "#f0f921"
             ]
            ],
            "type": "histogram2dcontour"
           }
          ],
          "mesh3d": [
           {
            "colorbar": {
             "outlinewidth": 0,
             "ticks": ""
            },
            "type": "mesh3d"
           }
          ],
          "parcoords": [
           {
            "line": {
             "colorbar": {
              "outlinewidth": 0,
              "ticks": ""
             }
            },
            "type": "parcoords"
           }
          ],
          "pie": [
           {
            "automargin": true,
            "type": "pie"
           }
          ],
          "scatter": [
           {
            "marker": {
             "colorbar": {
              "outlinewidth": 0,
              "ticks": ""
             }
            },
            "type": "scatter"
           }
          ],
          "scatter3d": [
           {
            "line": {
             "colorbar": {
              "outlinewidth": 0,
              "ticks": ""
             }
            },
            "marker": {
             "colorbar": {
              "outlinewidth": 0,
              "ticks": ""
             }
            },
            "type": "scatter3d"
           }
          ],
          "scattercarpet": [
           {
            "marker": {
             "colorbar": {
              "outlinewidth": 0,
              "ticks": ""
             }
            },
            "type": "scattercarpet"
           }
          ],
          "scattergeo": [
           {
            "marker": {
             "colorbar": {
              "outlinewidth": 0,
              "ticks": ""
             }
            },
            "type": "scattergeo"
           }
          ],
          "scattergl": [
           {
            "marker": {
             "colorbar": {
              "outlinewidth": 0,
              "ticks": ""
             }
            },
            "type": "scattergl"
           }
          ],
          "scattermapbox": [
           {
            "marker": {
             "colorbar": {
              "outlinewidth": 0,
              "ticks": ""
             }
            },
            "type": "scattermapbox"
           }
          ],
          "scatterpolar": [
           {
            "marker": {
             "colorbar": {
              "outlinewidth": 0,
              "ticks": ""
             }
            },
            "type": "scatterpolar"
           }
          ],
          "scatterpolargl": [
           {
            "marker": {
             "colorbar": {
              "outlinewidth": 0,
              "ticks": ""
             }
            },
            "type": "scatterpolargl"
           }
          ],
          "scatterternary": [
           {
            "marker": {
             "colorbar": {
              "outlinewidth": 0,
              "ticks": ""
             }
            },
            "type": "scatterternary"
           }
          ],
          "surface": [
           {
            "colorbar": {
             "outlinewidth": 0,
             "ticks": ""
            },
            "colorscale": [
             [
              0,
              "#0d0887"
             ],
             [
              0.1111111111111111,
              "#46039f"
             ],
             [
              0.2222222222222222,
              "#7201a8"
             ],
             [
              0.3333333333333333,
              "#9c179e"
             ],
             [
              0.4444444444444444,
              "#bd3786"
             ],
             [
              0.5555555555555556,
              "#d8576b"
             ],
             [
              0.6666666666666666,
              "#ed7953"
             ],
             [
              0.7777777777777778,
              "#fb9f3a"
             ],
             [
              0.8888888888888888,
              "#fdca26"
             ],
             [
              1,
              "#f0f921"
             ]
            ],
            "type": "surface"
           }
          ],
          "table": [
           {
            "cells": {
             "fill": {
              "color": "#EBF0F8"
             },
             "line": {
              "color": "white"
             }
            },
            "header": {
             "fill": {
              "color": "#C8D4E3"
             },
             "line": {
              "color": "white"
             }
            },
            "type": "table"
           }
          ]
         },
         "layout": {
          "annotationdefaults": {
           "arrowcolor": "#2a3f5f",
           "arrowhead": 0,
           "arrowwidth": 1
          },
          "autotypenumbers": "strict",
          "coloraxis": {
           "colorbar": {
            "outlinewidth": 0,
            "ticks": ""
           }
          },
          "colorscale": {
           "diverging": [
            [
             0,
             "#8e0152"
            ],
            [
             0.1,
             "#c51b7d"
            ],
            [
             0.2,
             "#de77ae"
            ],
            [
             0.3,
             "#f1b6da"
            ],
            [
             0.4,
             "#fde0ef"
            ],
            [
             0.5,
             "#f7f7f7"
            ],
            [
             0.6,
             "#e6f5d0"
            ],
            [
             0.7,
             "#b8e186"
            ],
            [
             0.8,
             "#7fbc41"
            ],
            [
             0.9,
             "#4d9221"
            ],
            [
             1,
             "#276419"
            ]
           ],
           "sequential": [
            [
             0,
             "#0d0887"
            ],
            [
             0.1111111111111111,
             "#46039f"
            ],
            [
             0.2222222222222222,
             "#7201a8"
            ],
            [
             0.3333333333333333,
             "#9c179e"
            ],
            [
             0.4444444444444444,
             "#bd3786"
            ],
            [
             0.5555555555555556,
             "#d8576b"
            ],
            [
             0.6666666666666666,
             "#ed7953"
            ],
            [
             0.7777777777777778,
             "#fb9f3a"
            ],
            [
             0.8888888888888888,
             "#fdca26"
            ],
            [
             1,
             "#f0f921"
            ]
           ],
           "sequentialminus": [
            [
             0,
             "#0d0887"
            ],
            [
             0.1111111111111111,
             "#46039f"
            ],
            [
             0.2222222222222222,
             "#7201a8"
            ],
            [
             0.3333333333333333,
             "#9c179e"
            ],
            [
             0.4444444444444444,
             "#bd3786"
            ],
            [
             0.5555555555555556,
             "#d8576b"
            ],
            [
             0.6666666666666666,
             "#ed7953"
            ],
            [
             0.7777777777777778,
             "#fb9f3a"
            ],
            [
             0.8888888888888888,
             "#fdca26"
            ],
            [
             1,
             "#f0f921"
            ]
           ]
          },
          "colorway": [
           "#636efa",
           "#EF553B",
           "#00cc96",
           "#ab63fa",
           "#FFA15A",
           "#19d3f3",
           "#FF6692",
           "#B6E880",
           "#FF97FF",
           "#FECB52"
          ],
          "font": {
           "color": "#2a3f5f"
          },
          "geo": {
           "bgcolor": "white",
           "lakecolor": "white",
           "landcolor": "#E5ECF6",
           "showlakes": true,
           "showland": true,
           "subunitcolor": "white"
          },
          "hoverlabel": {
           "align": "left"
          },
          "hovermode": "closest",
          "mapbox": {
           "style": "light"
          },
          "paper_bgcolor": "white",
          "plot_bgcolor": "#E5ECF6",
          "polar": {
           "angularaxis": {
            "gridcolor": "white",
            "linecolor": "white",
            "ticks": ""
           },
           "bgcolor": "#E5ECF6",
           "radialaxis": {
            "gridcolor": "white",
            "linecolor": "white",
            "ticks": ""
           }
          },
          "scene": {
           "xaxis": {
            "backgroundcolor": "#E5ECF6",
            "gridcolor": "white",
            "gridwidth": 2,
            "linecolor": "white",
            "showbackground": true,
            "ticks": "",
            "zerolinecolor": "white"
           },
           "yaxis": {
            "backgroundcolor": "#E5ECF6",
            "gridcolor": "white",
            "gridwidth": 2,
            "linecolor": "white",
            "showbackground": true,
            "ticks": "",
            "zerolinecolor": "white"
           },
           "zaxis": {
            "backgroundcolor": "#E5ECF6",
            "gridcolor": "white",
            "gridwidth": 2,
            "linecolor": "white",
            "showbackground": true,
            "ticks": "",
            "zerolinecolor": "white"
           }
          },
          "shapedefaults": {
           "line": {
            "color": "#2a3f5f"
           }
          },
          "ternary": {
           "aaxis": {
            "gridcolor": "white",
            "linecolor": "white",
            "ticks": ""
           },
           "baxis": {
            "gridcolor": "white",
            "linecolor": "white",
            "ticks": ""
           },
           "bgcolor": "#E5ECF6",
           "caxis": {
            "gridcolor": "white",
            "linecolor": "white",
            "ticks": ""
           }
          },
          "title": {
           "x": 0.05
          },
          "xaxis": {
           "automargin": true,
           "gridcolor": "white",
           "linecolor": "white",
           "ticks": "",
           "title": {
            "standoff": 15
           },
           "zerolinecolor": "white",
           "zerolinewidth": 2
          },
          "yaxis": {
           "automargin": true,
           "gridcolor": "white",
           "linecolor": "white",
           "ticks": "",
           "title": {
            "standoff": 15
           },
           "zerolinecolor": "white",
           "zerolinewidth": 2
          }
         }
        },
        "title": {
         "text": "Atributos de individuos en conjunto de prueba"
        },
        "width": 1000
       }
      },
      "text/html": [
       "<div>                            <div id=\"7341cfac-57c1-4a3d-a628-065ba0685f0b\" class=\"plotly-graph-div\" style=\"height:400px; width:1000px;\"></div>            <script type=\"text/javascript\">                require([\"plotly\"], function(Plotly) {                    window.PLOTLYENV=window.PLOTLYENV || {};                                    if (document.getElementById(\"7341cfac-57c1-4a3d-a628-065ba0685f0b\")) {                    Plotly.newPlot(                        \"7341cfac-57c1-4a3d-a628-065ba0685f0b\",                        [{\"domain\":{\"x\":[0.0,0.19999999999999998],\"y\":[0.0,1.0]},\"labels\":[\"female\",\"male\",\"-\"],\"title\":{\"text\":\"G\\u00e9nero\"},\"type\":\"pie\",\"values\":[88,64,56]},{\"domain\":{\"x\":[0.4,0.6],\"y\":[0.0,1.0]},\"labels\":[\"china\",\"denmark\"],\"title\":{\"text\":\"Pa\\u00eds\"},\"type\":\"pie\",\"values\":[144,64]},{\"domain\":{\"x\":[0.8,1.0],\"y\":[0.0,1.0]},\"labels\":[\"Quin_gut_liver_cirrhosis\",\"Chatelier_gut_obesity\",\"t2dmeta_long\",\"t2dmeta_short\"],\"title\":{\"text\":\"Estudio\"},\"type\":\"pie\",\"values\":[65,64,58,21]}],                        {\"autosize\":false,\"height\":400,\"template\":{\"data\":{\"bar\":[{\"error_x\":{\"color\":\"#2a3f5f\"},\"error_y\":{\"color\":\"#2a3f5f\"},\"marker\":{\"line\":{\"color\":\"#E5ECF6\",\"width\":0.5},\"pattern\":{\"fillmode\":\"overlay\",\"size\":10,\"solidity\":0.2}},\"type\":\"bar\"}],\"barpolar\":[{\"marker\":{\"line\":{\"color\":\"#E5ECF6\",\"width\":0.5},\"pattern\":{\"fillmode\":\"overlay\",\"size\":10,\"solidity\":0.2}},\"type\":\"barpolar\"}],\"carpet\":[{\"aaxis\":{\"endlinecolor\":\"#2a3f5f\",\"gridcolor\":\"white\",\"linecolor\":\"white\",\"minorgridcolor\":\"white\",\"startlinecolor\":\"#2a3f5f\"},\"baxis\":{\"endlinecolor\":\"#2a3f5f\",\"gridcolor\":\"white\",\"linecolor\":\"white\",\"minorgridcolor\":\"white\",\"startlinecolor\":\"#2a3f5f\"},\"type\":\"carpet\"}],\"choropleth\":[{\"colorbar\":{\"outlinewidth\":0,\"ticks\":\"\"},\"type\":\"choropleth\"}],\"contour\":[{\"colorbar\":{\"outlinewidth\":0,\"ticks\":\"\"},\"colorscale\":[[0.0,\"#0d0887\"],[0.1111111111111111,\"#46039f\"],[0.2222222222222222,\"#7201a8\"],[0.3333333333333333,\"#9c179e\"],[0.4444444444444444,\"#bd3786\"],[0.5555555555555556,\"#d8576b\"],[0.6666666666666666,\"#ed7953\"],[0.7777777777777778,\"#fb9f3a\"],[0.8888888888888888,\"#fdca26\"],[1.0,\"#f0f921\"]],\"type\":\"contour\"}],\"contourcarpet\":[{\"colorbar\":{\"outlinewidth\":0,\"ticks\":\"\"},\"type\":\"contourcarpet\"}],\"heatmap\":[{\"colorbar\":{\"outlinewidth\":0,\"ticks\":\"\"},\"colorscale\":[[0.0,\"#0d0887\"],[0.1111111111111111,\"#46039f\"],[0.2222222222222222,\"#7201a8\"],[0.3333333333333333,\"#9c179e\"],[0.4444444444444444,\"#bd3786\"],[0.5555555555555556,\"#d8576b\"],[0.6666666666666666,\"#ed7953\"],[0.7777777777777778,\"#fb9f3a\"],[0.8888888888888888,\"#fdca26\"],[1.0,\"#f0f921\"]],\"type\":\"heatmap\"}],\"heatmapgl\":[{\"colorbar\":{\"outlinewidth\":0,\"ticks\":\"\"},\"colorscale\":[[0.0,\"#0d0887\"],[0.1111111111111111,\"#46039f\"],[0.2222222222222222,\"#7201a8\"],[0.3333333333333333,\"#9c179e\"],[0.4444444444444444,\"#bd3786\"],[0.5555555555555556,\"#d8576b\"],[0.6666666666666666,\"#ed7953\"],[0.7777777777777778,\"#fb9f3a\"],[0.8888888888888888,\"#fdca26\"],[1.0,\"#f0f921\"]],\"type\":\"heatmapgl\"}],\"histogram\":[{\"marker\":{\"pattern\":{\"fillmode\":\"overlay\",\"size\":10,\"solidity\":0.2}},\"type\":\"histogram\"}],\"histogram2d\":[{\"colorbar\":{\"outlinewidth\":0,\"ticks\":\"\"},\"colorscale\":[[0.0,\"#0d0887\"],[0.1111111111111111,\"#46039f\"],[0.2222222222222222,\"#7201a8\"],[0.3333333333333333,\"#9c179e\"],[0.4444444444444444,\"#bd3786\"],[0.5555555555555556,\"#d8576b\"],[0.6666666666666666,\"#ed7953\"],[0.7777777777777778,\"#fb9f3a\"],[0.8888888888888888,\"#fdca26\"],[1.0,\"#f0f921\"]],\"type\":\"histogram2d\"}],\"histogram2dcontour\":[{\"colorbar\":{\"outlinewidth\":0,\"ticks\":\"\"},\"colorscale\":[[0.0,\"#0d0887\"],[0.1111111111111111,\"#46039f\"],[0.2222222222222222,\"#7201a8\"],[0.3333333333333333,\"#9c179e\"],[0.4444444444444444,\"#bd3786\"],[0.5555555555555556,\"#d8576b\"],[0.6666666666666666,\"#ed7953\"],[0.7777777777777778,\"#fb9f3a\"],[0.8888888888888888,\"#fdca26\"],[1.0,\"#f0f921\"]],\"type\":\"histogram2dcontour\"}],\"mesh3d\":[{\"colorbar\":{\"outlinewidth\":0,\"ticks\":\"\"},\"type\":\"mesh3d\"}],\"parcoords\":[{\"line\":{\"colorbar\":{\"outlinewidth\":0,\"ticks\":\"\"}},\"type\":\"parcoords\"}],\"pie\":[{\"automargin\":true,\"type\":\"pie\"}],\"scatter\":[{\"marker\":{\"colorbar\":{\"outlinewidth\":0,\"ticks\":\"\"}},\"type\":\"scatter\"}],\"scatter3d\":[{\"line\":{\"colorbar\":{\"outlinewidth\":0,\"ticks\":\"\"}},\"marker\":{\"colorbar\":{\"outlinewidth\":0,\"ticks\":\"\"}},\"type\":\"scatter3d\"}],\"scattercarpet\":[{\"marker\":{\"colorbar\":{\"outlinewidth\":0,\"ticks\":\"\"}},\"type\":\"scattercarpet\"}],\"scattergeo\":[{\"marker\":{\"colorbar\":{\"outlinewidth\":0,\"ticks\":\"\"}},\"type\":\"scattergeo\"}],\"scattergl\":[{\"marker\":{\"colorbar\":{\"outlinewidth\":0,\"ticks\":\"\"}},\"type\":\"scattergl\"}],\"scattermapbox\":[{\"marker\":{\"colorbar\":{\"outlinewidth\":0,\"ticks\":\"\"}},\"type\":\"scattermapbox\"}],\"scatterpolar\":[{\"marker\":{\"colorbar\":{\"outlinewidth\":0,\"ticks\":\"\"}},\"type\":\"scatterpolar\"}],\"scatterpolargl\":[{\"marker\":{\"colorbar\":{\"outlinewidth\":0,\"ticks\":\"\"}},\"type\":\"scatterpolargl\"}],\"scatterternary\":[{\"marker\":{\"colorbar\":{\"outlinewidth\":0,\"ticks\":\"\"}},\"type\":\"scatterternary\"}],\"surface\":[{\"colorbar\":{\"outlinewidth\":0,\"ticks\":\"\"},\"colorscale\":[[0.0,\"#0d0887\"],[0.1111111111111111,\"#46039f\"],[0.2222222222222222,\"#7201a8\"],[0.3333333333333333,\"#9c179e\"],[0.4444444444444444,\"#bd3786\"],[0.5555555555555556,\"#d8576b\"],[0.6666666666666666,\"#ed7953\"],[0.7777777777777778,\"#fb9f3a\"],[0.8888888888888888,\"#fdca26\"],[1.0,\"#f0f921\"]],\"type\":\"surface\"}],\"table\":[{\"cells\":{\"fill\":{\"color\":\"#EBF0F8\"},\"line\":{\"color\":\"white\"}},\"header\":{\"fill\":{\"color\":\"#C8D4E3\"},\"line\":{\"color\":\"white\"}},\"type\":\"table\"}]},\"layout\":{\"annotationdefaults\":{\"arrowcolor\":\"#2a3f5f\",\"arrowhead\":0,\"arrowwidth\":1},\"autotypenumbers\":\"strict\",\"coloraxis\":{\"colorbar\":{\"outlinewidth\":0,\"ticks\":\"\"}},\"colorscale\":{\"diverging\":[[0,\"#8e0152\"],[0.1,\"#c51b7d\"],[0.2,\"#de77ae\"],[0.3,\"#f1b6da\"],[0.4,\"#fde0ef\"],[0.5,\"#f7f7f7\"],[0.6,\"#e6f5d0\"],[0.7,\"#b8e186\"],[0.8,\"#7fbc41\"],[0.9,\"#4d9221\"],[1,\"#276419\"]],\"sequential\":[[0.0,\"#0d0887\"],[0.1111111111111111,\"#46039f\"],[0.2222222222222222,\"#7201a8\"],[0.3333333333333333,\"#9c179e\"],[0.4444444444444444,\"#bd3786\"],[0.5555555555555556,\"#d8576b\"],[0.6666666666666666,\"#ed7953\"],[0.7777777777777778,\"#fb9f3a\"],[0.8888888888888888,\"#fdca26\"],[1.0,\"#f0f921\"]],\"sequentialminus\":[[0.0,\"#0d0887\"],[0.1111111111111111,\"#46039f\"],[0.2222222222222222,\"#7201a8\"],[0.3333333333333333,\"#9c179e\"],[0.4444444444444444,\"#bd3786\"],[0.5555555555555556,\"#d8576b\"],[0.6666666666666666,\"#ed7953\"],[0.7777777777777778,\"#fb9f3a\"],[0.8888888888888888,\"#fdca26\"],[1.0,\"#f0f921\"]]},\"colorway\":[\"#636efa\",\"#EF553B\",\"#00cc96\",\"#ab63fa\",\"#FFA15A\",\"#19d3f3\",\"#FF6692\",\"#B6E880\",\"#FF97FF\",\"#FECB52\"],\"font\":{\"color\":\"#2a3f5f\"},\"geo\":{\"bgcolor\":\"white\",\"lakecolor\":\"white\",\"landcolor\":\"#E5ECF6\",\"showlakes\":true,\"showland\":true,\"subunitcolor\":\"white\"},\"hoverlabel\":{\"align\":\"left\"},\"hovermode\":\"closest\",\"mapbox\":{\"style\":\"light\"},\"paper_bgcolor\":\"white\",\"plot_bgcolor\":\"#E5ECF6\",\"polar\":{\"angularaxis\":{\"gridcolor\":\"white\",\"linecolor\":\"white\",\"ticks\":\"\"},\"bgcolor\":\"#E5ECF6\",\"radialaxis\":{\"gridcolor\":\"white\",\"linecolor\":\"white\",\"ticks\":\"\"}},\"scene\":{\"xaxis\":{\"backgroundcolor\":\"#E5ECF6\",\"gridcolor\":\"white\",\"gridwidth\":2,\"linecolor\":\"white\",\"showbackground\":true,\"ticks\":\"\",\"zerolinecolor\":\"white\"},\"yaxis\":{\"backgroundcolor\":\"#E5ECF6\",\"gridcolor\":\"white\",\"gridwidth\":2,\"linecolor\":\"white\",\"showbackground\":true,\"ticks\":\"\",\"zerolinecolor\":\"white\"},\"zaxis\":{\"backgroundcolor\":\"#E5ECF6\",\"gridcolor\":\"white\",\"gridwidth\":2,\"linecolor\":\"white\",\"showbackground\":true,\"ticks\":\"\",\"zerolinecolor\":\"white\"}},\"shapedefaults\":{\"line\":{\"color\":\"#2a3f5f\"}},\"ternary\":{\"aaxis\":{\"gridcolor\":\"white\",\"linecolor\":\"white\",\"ticks\":\"\"},\"baxis\":{\"gridcolor\":\"white\",\"linecolor\":\"white\",\"ticks\":\"\"},\"bgcolor\":\"#E5ECF6\",\"caxis\":{\"gridcolor\":\"white\",\"linecolor\":\"white\",\"ticks\":\"\"}},\"title\":{\"x\":0.05},\"xaxis\":{\"automargin\":true,\"gridcolor\":\"white\",\"linecolor\":\"white\",\"ticks\":\"\",\"title\":{\"standoff\":15},\"zerolinecolor\":\"white\",\"zerolinewidth\":2},\"yaxis\":{\"automargin\":true,\"gridcolor\":\"white\",\"linecolor\":\"white\",\"ticks\":\"\",\"title\":{\"standoff\":15},\"zerolinecolor\":\"white\",\"zerolinewidth\":2}}},\"title\":{\"text\":\"Atributos de individuos en conjunto de prueba\"},\"width\":1000},                        {\"responsive\": true}                    ).then(function(){\n",
       "                            \n",
       "var gd = document.getElementById('7341cfac-57c1-4a3d-a628-065ba0685f0b');\n",
       "var x = new MutationObserver(function (mutations, observer) {{\n",
       "        var display = window.getComputedStyle(gd).display;\n",
       "        if (!display || display === 'none') {{\n",
       "            console.log([gd, 'removed!']);\n",
       "            Plotly.purge(gd);\n",
       "            observer.disconnect();\n",
       "        }}\n",
       "}});\n",
       "\n",
       "// Listen for the removal of the full notebook cells\n",
       "var notebookContainer = gd.closest('#notebook-container');\n",
       "if (notebookContainer) {{\n",
       "    x.observe(notebookContainer, {childList: true});\n",
       "}}\n",
       "\n",
       "// Listen for the clearing of the current output cell\n",
       "var outputEl = gd.closest('.output');\n",
       "if (outputEl) {{\n",
       "    x.observe(outputEl, {childList: true});\n",
       "}}\n",
       "\n",
       "                        })                };                });            </script>        </div>"
      ]
     },
     "metadata": {},
     "output_type": "display_data"
    }
   ],
   "source": [
    "plot_pie(test_marker,[\"gender\",\"country\",\"code_study\"],[\"Género\",\"País\",\"Estudio\"],title=\"Atributos de individuos en conjunto de prueba\")"
   ]
  },
  {
   "cell_type": "markdown",
   "metadata": {},
   "source": [
    "Analicemos ahora brevemente los mismos atributos según estudio:"
   ]
  },
  {
   "cell_type": "code",
   "execution_count": 42,
   "metadata": {},
   "outputs": [],
   "source": [
    "def plot_pie_by_study(data,feature,subtitles,title=\"\"):\n",
    "    fig = make_subplots(rows=2,\n",
    "                        cols=2,\n",
    "                        specs=[[{\"type\": \"pie\"}, {\"type\": \"pie\"}],[{\"type\": \"pie\"},{\"type\": \"pie\"}]],\n",
    "                        vertical_spacing=0.2,horizontal_spacing=0.2)\n",
    "    fig.add_trace(go.Pie(title=subtitles[0],labels=data[data[\"code_study\"] == \"Quin_gut_liver_cirrhosis\"][feature].unique(),values=data[data[\"code_study\"] == \"Quin_gut_liver_cirrhosis\"][feature].value_counts().values),row=1,col=1)\n",
    "    fig.add_trace(go.Pie(title=subtitles[1],labels=data[data[\"code_study\"] == \"Chatelier_gut_obesity\"][feature].unique(),values=data[data[\"code_study\"] == \"Chatelier_gut_obesity\"][feature].value_counts().values),row=1,col=2)\n",
    "    fig.add_trace(go.Pie(title=subtitles[2],labels=data[data[\"code_study\"] == \"t2dmeta_short\"][feature].unique(),values=data[data[\"code_study\"] == \"t2dmeta_short\"][feature].value_counts().values),row=2,col=1)\n",
    "    fig.add_trace(go.Pie(title=subtitles[3],labels=data[data[\"code_study\"] == \"t2dmeta_long\"][feature].unique(),values=data[data[\"code_study\"] == \"t2dmeta_long\"][feature].value_counts().values),row=2,col=2)\n",
    "    fig.update_layout(\n",
    "        title=title,\n",
    "        autosize=False,\n",
    "        width=1000,\n",
    "        height=600)\n",
    "    fig.show()"
   ]
  },
  {
   "cell_type": "code",
   "execution_count": 43,
   "metadata": {},
   "outputs": [
    {
     "data": {
      "application/vnd.plotly.v1+json": {
       "config": {
        "plotlyServerURL": "https://plot.ly"
       },
       "data": [
        {
         "domain": {
          "x": [
           0,
           0.4
          ],
          "y": [
           0.6000000000000001,
           1
          ]
         },
         "labels": [
          "female",
          "male"
         ],
         "title": {
          "text": "Quin_gut_liver_cirrhosis"
         },
         "type": "pie",
         "values": [
          115,
          59
         ]
        },
        {
         "domain": {
          "x": [
           0.6000000000000001,
           1
          ],
          "y": [
           0.6000000000000001,
           1
          ]
         },
         "labels": [
          "-"
         ],
         "title": {
          "text": "Chatelier_gut_obesity"
         },
         "type": "pie",
         "values": [
          189
         ]
        },
        {
         "domain": {
          "x": [
           0,
           0.4
          ],
          "y": [
           0,
           0.4
          ]
         },
         "labels": [
          "male",
          "female"
         ],
         "title": {
          "text": "t2dmeta_short"
         },
         "type": "pie",
         "values": [
          28,
          24
         ]
        },
        {
         "domain": {
          "x": [
           0.6000000000000001,
           1
          ],
          "y": [
           0,
           0.4
          ]
         },
         "labels": [
          "female",
          "male"
         ],
         "title": {
          "text": "t2dmeta_long"
         },
         "type": "pie",
         "values": [
          115,
          91
         ]
        }
       ],
       "layout": {
        "autosize": false,
        "height": 600,
        "template": {
         "data": {
          "bar": [
           {
            "error_x": {
             "color": "#2a3f5f"
            },
            "error_y": {
             "color": "#2a3f5f"
            },
            "marker": {
             "line": {
              "color": "#E5ECF6",
              "width": 0.5
             },
             "pattern": {
              "fillmode": "overlay",
              "size": 10,
              "solidity": 0.2
             }
            },
            "type": "bar"
           }
          ],
          "barpolar": [
           {
            "marker": {
             "line": {
              "color": "#E5ECF6",
              "width": 0.5
             },
             "pattern": {
              "fillmode": "overlay",
              "size": 10,
              "solidity": 0.2
             }
            },
            "type": "barpolar"
           }
          ],
          "carpet": [
           {
            "aaxis": {
             "endlinecolor": "#2a3f5f",
             "gridcolor": "white",
             "linecolor": "white",
             "minorgridcolor": "white",
             "startlinecolor": "#2a3f5f"
            },
            "baxis": {
             "endlinecolor": "#2a3f5f",
             "gridcolor": "white",
             "linecolor": "white",
             "minorgridcolor": "white",
             "startlinecolor": "#2a3f5f"
            },
            "type": "carpet"
           }
          ],
          "choropleth": [
           {
            "colorbar": {
             "outlinewidth": 0,
             "ticks": ""
            },
            "type": "choropleth"
           }
          ],
          "contour": [
           {
            "colorbar": {
             "outlinewidth": 0,
             "ticks": ""
            },
            "colorscale": [
             [
              0,
              "#0d0887"
             ],
             [
              0.1111111111111111,
              "#46039f"
             ],
             [
              0.2222222222222222,
              "#7201a8"
             ],
             [
              0.3333333333333333,
              "#9c179e"
             ],
             [
              0.4444444444444444,
              "#bd3786"
             ],
             [
              0.5555555555555556,
              "#d8576b"
             ],
             [
              0.6666666666666666,
              "#ed7953"
             ],
             [
              0.7777777777777778,
              "#fb9f3a"
             ],
             [
              0.8888888888888888,
              "#fdca26"
             ],
             [
              1,
              "#f0f921"
             ]
            ],
            "type": "contour"
           }
          ],
          "contourcarpet": [
           {
            "colorbar": {
             "outlinewidth": 0,
             "ticks": ""
            },
            "type": "contourcarpet"
           }
          ],
          "heatmap": [
           {
            "colorbar": {
             "outlinewidth": 0,
             "ticks": ""
            },
            "colorscale": [
             [
              0,
              "#0d0887"
             ],
             [
              0.1111111111111111,
              "#46039f"
             ],
             [
              0.2222222222222222,
              "#7201a8"
             ],
             [
              0.3333333333333333,
              "#9c179e"
             ],
             [
              0.4444444444444444,
              "#bd3786"
             ],
             [
              0.5555555555555556,
              "#d8576b"
             ],
             [
              0.6666666666666666,
              "#ed7953"
             ],
             [
              0.7777777777777778,
              "#fb9f3a"
             ],
             [
              0.8888888888888888,
              "#fdca26"
             ],
             [
              1,
              "#f0f921"
             ]
            ],
            "type": "heatmap"
           }
          ],
          "heatmapgl": [
           {
            "colorbar": {
             "outlinewidth": 0,
             "ticks": ""
            },
            "colorscale": [
             [
              0,
              "#0d0887"
             ],
             [
              0.1111111111111111,
              "#46039f"
             ],
             [
              0.2222222222222222,
              "#7201a8"
             ],
             [
              0.3333333333333333,
              "#9c179e"
             ],
             [
              0.4444444444444444,
              "#bd3786"
             ],
             [
              0.5555555555555556,
              "#d8576b"
             ],
             [
              0.6666666666666666,
              "#ed7953"
             ],
             [
              0.7777777777777778,
              "#fb9f3a"
             ],
             [
              0.8888888888888888,
              "#fdca26"
             ],
             [
              1,
              "#f0f921"
             ]
            ],
            "type": "heatmapgl"
           }
          ],
          "histogram": [
           {
            "marker": {
             "pattern": {
              "fillmode": "overlay",
              "size": 10,
              "solidity": 0.2
             }
            },
            "type": "histogram"
           }
          ],
          "histogram2d": [
           {
            "colorbar": {
             "outlinewidth": 0,
             "ticks": ""
            },
            "colorscale": [
             [
              0,
              "#0d0887"
             ],
             [
              0.1111111111111111,
              "#46039f"
             ],
             [
              0.2222222222222222,
              "#7201a8"
             ],
             [
              0.3333333333333333,
              "#9c179e"
             ],
             [
              0.4444444444444444,
              "#bd3786"
             ],
             [
              0.5555555555555556,
              "#d8576b"
             ],
             [
              0.6666666666666666,
              "#ed7953"
             ],
             [
              0.7777777777777778,
              "#fb9f3a"
             ],
             [
              0.8888888888888888,
              "#fdca26"
             ],
             [
              1,
              "#f0f921"
             ]
            ],
            "type": "histogram2d"
           }
          ],
          "histogram2dcontour": [
           {
            "colorbar": {
             "outlinewidth": 0,
             "ticks": ""
            },
            "colorscale": [
             [
              0,
              "#0d0887"
             ],
             [
              0.1111111111111111,
              "#46039f"
             ],
             [
              0.2222222222222222,
              "#7201a8"
             ],
             [
              0.3333333333333333,
              "#9c179e"
             ],
             [
              0.4444444444444444,
              "#bd3786"
             ],
             [
              0.5555555555555556,
              "#d8576b"
             ],
             [
              0.6666666666666666,
              "#ed7953"
             ],
             [
              0.7777777777777778,
              "#fb9f3a"
             ],
             [
              0.8888888888888888,
              "#fdca26"
             ],
             [
              1,
              "#f0f921"
             ]
            ],
            "type": "histogram2dcontour"
           }
          ],
          "mesh3d": [
           {
            "colorbar": {
             "outlinewidth": 0,
             "ticks": ""
            },
            "type": "mesh3d"
           }
          ],
          "parcoords": [
           {
            "line": {
             "colorbar": {
              "outlinewidth": 0,
              "ticks": ""
             }
            },
            "type": "parcoords"
           }
          ],
          "pie": [
           {
            "automargin": true,
            "type": "pie"
           }
          ],
          "scatter": [
           {
            "marker": {
             "colorbar": {
              "outlinewidth": 0,
              "ticks": ""
             }
            },
            "type": "scatter"
           }
          ],
          "scatter3d": [
           {
            "line": {
             "colorbar": {
              "outlinewidth": 0,
              "ticks": ""
             }
            },
            "marker": {
             "colorbar": {
              "outlinewidth": 0,
              "ticks": ""
             }
            },
            "type": "scatter3d"
           }
          ],
          "scattercarpet": [
           {
            "marker": {
             "colorbar": {
              "outlinewidth": 0,
              "ticks": ""
             }
            },
            "type": "scattercarpet"
           }
          ],
          "scattergeo": [
           {
            "marker": {
             "colorbar": {
              "outlinewidth": 0,
              "ticks": ""
             }
            },
            "type": "scattergeo"
           }
          ],
          "scattergl": [
           {
            "marker": {
             "colorbar": {
              "outlinewidth": 0,
              "ticks": ""
             }
            },
            "type": "scattergl"
           }
          ],
          "scattermapbox": [
           {
            "marker": {
             "colorbar": {
              "outlinewidth": 0,
              "ticks": ""
             }
            },
            "type": "scattermapbox"
           }
          ],
          "scatterpolar": [
           {
            "marker": {
             "colorbar": {
              "outlinewidth": 0,
              "ticks": ""
             }
            },
            "type": "scatterpolar"
           }
          ],
          "scatterpolargl": [
           {
            "marker": {
             "colorbar": {
              "outlinewidth": 0,
              "ticks": ""
             }
            },
            "type": "scatterpolargl"
           }
          ],
          "scatterternary": [
           {
            "marker": {
             "colorbar": {
              "outlinewidth": 0,
              "ticks": ""
             }
            },
            "type": "scatterternary"
           }
          ],
          "surface": [
           {
            "colorbar": {
             "outlinewidth": 0,
             "ticks": ""
            },
            "colorscale": [
             [
              0,
              "#0d0887"
             ],
             [
              0.1111111111111111,
              "#46039f"
             ],
             [
              0.2222222222222222,
              "#7201a8"
             ],
             [
              0.3333333333333333,
              "#9c179e"
             ],
             [
              0.4444444444444444,
              "#bd3786"
             ],
             [
              0.5555555555555556,
              "#d8576b"
             ],
             [
              0.6666666666666666,
              "#ed7953"
             ],
             [
              0.7777777777777778,
              "#fb9f3a"
             ],
             [
              0.8888888888888888,
              "#fdca26"
             ],
             [
              1,
              "#f0f921"
             ]
            ],
            "type": "surface"
           }
          ],
          "table": [
           {
            "cells": {
             "fill": {
              "color": "#EBF0F8"
             },
             "line": {
              "color": "white"
             }
            },
            "header": {
             "fill": {
              "color": "#C8D4E3"
             },
             "line": {
              "color": "white"
             }
            },
            "type": "table"
           }
          ]
         },
         "layout": {
          "annotationdefaults": {
           "arrowcolor": "#2a3f5f",
           "arrowhead": 0,
           "arrowwidth": 1
          },
          "autotypenumbers": "strict",
          "coloraxis": {
           "colorbar": {
            "outlinewidth": 0,
            "ticks": ""
           }
          },
          "colorscale": {
           "diverging": [
            [
             0,
             "#8e0152"
            ],
            [
             0.1,
             "#c51b7d"
            ],
            [
             0.2,
             "#de77ae"
            ],
            [
             0.3,
             "#f1b6da"
            ],
            [
             0.4,
             "#fde0ef"
            ],
            [
             0.5,
             "#f7f7f7"
            ],
            [
             0.6,
             "#e6f5d0"
            ],
            [
             0.7,
             "#b8e186"
            ],
            [
             0.8,
             "#7fbc41"
            ],
            [
             0.9,
             "#4d9221"
            ],
            [
             1,
             "#276419"
            ]
           ],
           "sequential": [
            [
             0,
             "#0d0887"
            ],
            [
             0.1111111111111111,
             "#46039f"
            ],
            [
             0.2222222222222222,
             "#7201a8"
            ],
            [
             0.3333333333333333,
             "#9c179e"
            ],
            [
             0.4444444444444444,
             "#bd3786"
            ],
            [
             0.5555555555555556,
             "#d8576b"
            ],
            [
             0.6666666666666666,
             "#ed7953"
            ],
            [
             0.7777777777777778,
             "#fb9f3a"
            ],
            [
             0.8888888888888888,
             "#fdca26"
            ],
            [
             1,
             "#f0f921"
            ]
           ],
           "sequentialminus": [
            [
             0,
             "#0d0887"
            ],
            [
             0.1111111111111111,
             "#46039f"
            ],
            [
             0.2222222222222222,
             "#7201a8"
            ],
            [
             0.3333333333333333,
             "#9c179e"
            ],
            [
             0.4444444444444444,
             "#bd3786"
            ],
            [
             0.5555555555555556,
             "#d8576b"
            ],
            [
             0.6666666666666666,
             "#ed7953"
            ],
            [
             0.7777777777777778,
             "#fb9f3a"
            ],
            [
             0.8888888888888888,
             "#fdca26"
            ],
            [
             1,
             "#f0f921"
            ]
           ]
          },
          "colorway": [
           "#636efa",
           "#EF553B",
           "#00cc96",
           "#ab63fa",
           "#FFA15A",
           "#19d3f3",
           "#FF6692",
           "#B6E880",
           "#FF97FF",
           "#FECB52"
          ],
          "font": {
           "color": "#2a3f5f"
          },
          "geo": {
           "bgcolor": "white",
           "lakecolor": "white",
           "landcolor": "#E5ECF6",
           "showlakes": true,
           "showland": true,
           "subunitcolor": "white"
          },
          "hoverlabel": {
           "align": "left"
          },
          "hovermode": "closest",
          "mapbox": {
           "style": "light"
          },
          "paper_bgcolor": "white",
          "plot_bgcolor": "#E5ECF6",
          "polar": {
           "angularaxis": {
            "gridcolor": "white",
            "linecolor": "white",
            "ticks": ""
           },
           "bgcolor": "#E5ECF6",
           "radialaxis": {
            "gridcolor": "white",
            "linecolor": "white",
            "ticks": ""
           }
          },
          "scene": {
           "xaxis": {
            "backgroundcolor": "#E5ECF6",
            "gridcolor": "white",
            "gridwidth": 2,
            "linecolor": "white",
            "showbackground": true,
            "ticks": "",
            "zerolinecolor": "white"
           },
           "yaxis": {
            "backgroundcolor": "#E5ECF6",
            "gridcolor": "white",
            "gridwidth": 2,
            "linecolor": "white",
            "showbackground": true,
            "ticks": "",
            "zerolinecolor": "white"
           },
           "zaxis": {
            "backgroundcolor": "#E5ECF6",
            "gridcolor": "white",
            "gridwidth": 2,
            "linecolor": "white",
            "showbackground": true,
            "ticks": "",
            "zerolinecolor": "white"
           }
          },
          "shapedefaults": {
           "line": {
            "color": "#2a3f5f"
           }
          },
          "ternary": {
           "aaxis": {
            "gridcolor": "white",
            "linecolor": "white",
            "ticks": ""
           },
           "baxis": {
            "gridcolor": "white",
            "linecolor": "white",
            "ticks": ""
           },
           "bgcolor": "#E5ECF6",
           "caxis": {
            "gridcolor": "white",
            "linecolor": "white",
            "ticks": ""
           }
          },
          "title": {
           "x": 0.05
          },
          "xaxis": {
           "automargin": true,
           "gridcolor": "white",
           "linecolor": "white",
           "ticks": "",
           "title": {
            "standoff": 15
           },
           "zerolinecolor": "white",
           "zerolinewidth": 2
          },
          "yaxis": {
           "automargin": true,
           "gridcolor": "white",
           "linecolor": "white",
           "ticks": "",
           "title": {
            "standoff": 15
           },
           "zerolinecolor": "white",
           "zerolinewidth": 2
          }
         }
        },
        "title": {
         "text": "Distribución de género por estudio"
        },
        "width": 1000
       }
      },
      "text/html": [
       "<div>                            <div id=\"b1f302e8-cdfc-482d-8ae7-2d5676cfa775\" class=\"plotly-graph-div\" style=\"height:600px; width:1000px;\"></div>            <script type=\"text/javascript\">                require([\"plotly\"], function(Plotly) {                    window.PLOTLYENV=window.PLOTLYENV || {};                                    if (document.getElementById(\"b1f302e8-cdfc-482d-8ae7-2d5676cfa775\")) {                    Plotly.newPlot(                        \"b1f302e8-cdfc-482d-8ae7-2d5676cfa775\",                        [{\"domain\":{\"x\":[0.0,0.4],\"y\":[0.6000000000000001,1.0]},\"labels\":[\"female\",\"male\"],\"title\":{\"text\":\"Quin_gut_liver_cirrhosis\"},\"type\":\"pie\",\"values\":[115,59]},{\"domain\":{\"x\":[0.6000000000000001,1.0],\"y\":[0.6000000000000001,1.0]},\"labels\":[\"-\"],\"title\":{\"text\":\"Chatelier_gut_obesity\"},\"type\":\"pie\",\"values\":[189]},{\"domain\":{\"x\":[0.0,0.4],\"y\":[0.0,0.4]},\"labels\":[\"male\",\"female\"],\"title\":{\"text\":\"t2dmeta_short\"},\"type\":\"pie\",\"values\":[28,24]},{\"domain\":{\"x\":[0.6000000000000001,1.0],\"y\":[0.0,0.4]},\"labels\":[\"female\",\"male\"],\"title\":{\"text\":\"t2dmeta_long\"},\"type\":\"pie\",\"values\":[115,91]}],                        {\"autosize\":false,\"height\":600,\"template\":{\"data\":{\"bar\":[{\"error_x\":{\"color\":\"#2a3f5f\"},\"error_y\":{\"color\":\"#2a3f5f\"},\"marker\":{\"line\":{\"color\":\"#E5ECF6\",\"width\":0.5},\"pattern\":{\"fillmode\":\"overlay\",\"size\":10,\"solidity\":0.2}},\"type\":\"bar\"}],\"barpolar\":[{\"marker\":{\"line\":{\"color\":\"#E5ECF6\",\"width\":0.5},\"pattern\":{\"fillmode\":\"overlay\",\"size\":10,\"solidity\":0.2}},\"type\":\"barpolar\"}],\"carpet\":[{\"aaxis\":{\"endlinecolor\":\"#2a3f5f\",\"gridcolor\":\"white\",\"linecolor\":\"white\",\"minorgridcolor\":\"white\",\"startlinecolor\":\"#2a3f5f\"},\"baxis\":{\"endlinecolor\":\"#2a3f5f\",\"gridcolor\":\"white\",\"linecolor\":\"white\",\"minorgridcolor\":\"white\",\"startlinecolor\":\"#2a3f5f\"},\"type\":\"carpet\"}],\"choropleth\":[{\"colorbar\":{\"outlinewidth\":0,\"ticks\":\"\"},\"type\":\"choropleth\"}],\"contour\":[{\"colorbar\":{\"outlinewidth\":0,\"ticks\":\"\"},\"colorscale\":[[0.0,\"#0d0887\"],[0.1111111111111111,\"#46039f\"],[0.2222222222222222,\"#7201a8\"],[0.3333333333333333,\"#9c179e\"],[0.4444444444444444,\"#bd3786\"],[0.5555555555555556,\"#d8576b\"],[0.6666666666666666,\"#ed7953\"],[0.7777777777777778,\"#fb9f3a\"],[0.8888888888888888,\"#fdca26\"],[1.0,\"#f0f921\"]],\"type\":\"contour\"}],\"contourcarpet\":[{\"colorbar\":{\"outlinewidth\":0,\"ticks\":\"\"},\"type\":\"contourcarpet\"}],\"heatmap\":[{\"colorbar\":{\"outlinewidth\":0,\"ticks\":\"\"},\"colorscale\":[[0.0,\"#0d0887\"],[0.1111111111111111,\"#46039f\"],[0.2222222222222222,\"#7201a8\"],[0.3333333333333333,\"#9c179e\"],[0.4444444444444444,\"#bd3786\"],[0.5555555555555556,\"#d8576b\"],[0.6666666666666666,\"#ed7953\"],[0.7777777777777778,\"#fb9f3a\"],[0.8888888888888888,\"#fdca26\"],[1.0,\"#f0f921\"]],\"type\":\"heatmap\"}],\"heatmapgl\":[{\"colorbar\":{\"outlinewidth\":0,\"ticks\":\"\"},\"colorscale\":[[0.0,\"#0d0887\"],[0.1111111111111111,\"#46039f\"],[0.2222222222222222,\"#7201a8\"],[0.3333333333333333,\"#9c179e\"],[0.4444444444444444,\"#bd3786\"],[0.5555555555555556,\"#d8576b\"],[0.6666666666666666,\"#ed7953\"],[0.7777777777777778,\"#fb9f3a\"],[0.8888888888888888,\"#fdca26\"],[1.0,\"#f0f921\"]],\"type\":\"heatmapgl\"}],\"histogram\":[{\"marker\":{\"pattern\":{\"fillmode\":\"overlay\",\"size\":10,\"solidity\":0.2}},\"type\":\"histogram\"}],\"histogram2d\":[{\"colorbar\":{\"outlinewidth\":0,\"ticks\":\"\"},\"colorscale\":[[0.0,\"#0d0887\"],[0.1111111111111111,\"#46039f\"],[0.2222222222222222,\"#7201a8\"],[0.3333333333333333,\"#9c179e\"],[0.4444444444444444,\"#bd3786\"],[0.5555555555555556,\"#d8576b\"],[0.6666666666666666,\"#ed7953\"],[0.7777777777777778,\"#fb9f3a\"],[0.8888888888888888,\"#fdca26\"],[1.0,\"#f0f921\"]],\"type\":\"histogram2d\"}],\"histogram2dcontour\":[{\"colorbar\":{\"outlinewidth\":0,\"ticks\":\"\"},\"colorscale\":[[0.0,\"#0d0887\"],[0.1111111111111111,\"#46039f\"],[0.2222222222222222,\"#7201a8\"],[0.3333333333333333,\"#9c179e\"],[0.4444444444444444,\"#bd3786\"],[0.5555555555555556,\"#d8576b\"],[0.6666666666666666,\"#ed7953\"],[0.7777777777777778,\"#fb9f3a\"],[0.8888888888888888,\"#fdca26\"],[1.0,\"#f0f921\"]],\"type\":\"histogram2dcontour\"}],\"mesh3d\":[{\"colorbar\":{\"outlinewidth\":0,\"ticks\":\"\"},\"type\":\"mesh3d\"}],\"parcoords\":[{\"line\":{\"colorbar\":{\"outlinewidth\":0,\"ticks\":\"\"}},\"type\":\"parcoords\"}],\"pie\":[{\"automargin\":true,\"type\":\"pie\"}],\"scatter\":[{\"marker\":{\"colorbar\":{\"outlinewidth\":0,\"ticks\":\"\"}},\"type\":\"scatter\"}],\"scatter3d\":[{\"line\":{\"colorbar\":{\"outlinewidth\":0,\"ticks\":\"\"}},\"marker\":{\"colorbar\":{\"outlinewidth\":0,\"ticks\":\"\"}},\"type\":\"scatter3d\"}],\"scattercarpet\":[{\"marker\":{\"colorbar\":{\"outlinewidth\":0,\"ticks\":\"\"}},\"type\":\"scattercarpet\"}],\"scattergeo\":[{\"marker\":{\"colorbar\":{\"outlinewidth\":0,\"ticks\":\"\"}},\"type\":\"scattergeo\"}],\"scattergl\":[{\"marker\":{\"colorbar\":{\"outlinewidth\":0,\"ticks\":\"\"}},\"type\":\"scattergl\"}],\"scattermapbox\":[{\"marker\":{\"colorbar\":{\"outlinewidth\":0,\"ticks\":\"\"}},\"type\":\"scattermapbox\"}],\"scatterpolar\":[{\"marker\":{\"colorbar\":{\"outlinewidth\":0,\"ticks\":\"\"}},\"type\":\"scatterpolar\"}],\"scatterpolargl\":[{\"marker\":{\"colorbar\":{\"outlinewidth\":0,\"ticks\":\"\"}},\"type\":\"scatterpolargl\"}],\"scatterternary\":[{\"marker\":{\"colorbar\":{\"outlinewidth\":0,\"ticks\":\"\"}},\"type\":\"scatterternary\"}],\"surface\":[{\"colorbar\":{\"outlinewidth\":0,\"ticks\":\"\"},\"colorscale\":[[0.0,\"#0d0887\"],[0.1111111111111111,\"#46039f\"],[0.2222222222222222,\"#7201a8\"],[0.3333333333333333,\"#9c179e\"],[0.4444444444444444,\"#bd3786\"],[0.5555555555555556,\"#d8576b\"],[0.6666666666666666,\"#ed7953\"],[0.7777777777777778,\"#fb9f3a\"],[0.8888888888888888,\"#fdca26\"],[1.0,\"#f0f921\"]],\"type\":\"surface\"}],\"table\":[{\"cells\":{\"fill\":{\"color\":\"#EBF0F8\"},\"line\":{\"color\":\"white\"}},\"header\":{\"fill\":{\"color\":\"#C8D4E3\"},\"line\":{\"color\":\"white\"}},\"type\":\"table\"}]},\"layout\":{\"annotationdefaults\":{\"arrowcolor\":\"#2a3f5f\",\"arrowhead\":0,\"arrowwidth\":1},\"autotypenumbers\":\"strict\",\"coloraxis\":{\"colorbar\":{\"outlinewidth\":0,\"ticks\":\"\"}},\"colorscale\":{\"diverging\":[[0,\"#8e0152\"],[0.1,\"#c51b7d\"],[0.2,\"#de77ae\"],[0.3,\"#f1b6da\"],[0.4,\"#fde0ef\"],[0.5,\"#f7f7f7\"],[0.6,\"#e6f5d0\"],[0.7,\"#b8e186\"],[0.8,\"#7fbc41\"],[0.9,\"#4d9221\"],[1,\"#276419\"]],\"sequential\":[[0.0,\"#0d0887\"],[0.1111111111111111,\"#46039f\"],[0.2222222222222222,\"#7201a8\"],[0.3333333333333333,\"#9c179e\"],[0.4444444444444444,\"#bd3786\"],[0.5555555555555556,\"#d8576b\"],[0.6666666666666666,\"#ed7953\"],[0.7777777777777778,\"#fb9f3a\"],[0.8888888888888888,\"#fdca26\"],[1.0,\"#f0f921\"]],\"sequentialminus\":[[0.0,\"#0d0887\"],[0.1111111111111111,\"#46039f\"],[0.2222222222222222,\"#7201a8\"],[0.3333333333333333,\"#9c179e\"],[0.4444444444444444,\"#bd3786\"],[0.5555555555555556,\"#d8576b\"],[0.6666666666666666,\"#ed7953\"],[0.7777777777777778,\"#fb9f3a\"],[0.8888888888888888,\"#fdca26\"],[1.0,\"#f0f921\"]]},\"colorway\":[\"#636efa\",\"#EF553B\",\"#00cc96\",\"#ab63fa\",\"#FFA15A\",\"#19d3f3\",\"#FF6692\",\"#B6E880\",\"#FF97FF\",\"#FECB52\"],\"font\":{\"color\":\"#2a3f5f\"},\"geo\":{\"bgcolor\":\"white\",\"lakecolor\":\"white\",\"landcolor\":\"#E5ECF6\",\"showlakes\":true,\"showland\":true,\"subunitcolor\":\"white\"},\"hoverlabel\":{\"align\":\"left\"},\"hovermode\":\"closest\",\"mapbox\":{\"style\":\"light\"},\"paper_bgcolor\":\"white\",\"plot_bgcolor\":\"#E5ECF6\",\"polar\":{\"angularaxis\":{\"gridcolor\":\"white\",\"linecolor\":\"white\",\"ticks\":\"\"},\"bgcolor\":\"#E5ECF6\",\"radialaxis\":{\"gridcolor\":\"white\",\"linecolor\":\"white\",\"ticks\":\"\"}},\"scene\":{\"xaxis\":{\"backgroundcolor\":\"#E5ECF6\",\"gridcolor\":\"white\",\"gridwidth\":2,\"linecolor\":\"white\",\"showbackground\":true,\"ticks\":\"\",\"zerolinecolor\":\"white\"},\"yaxis\":{\"backgroundcolor\":\"#E5ECF6\",\"gridcolor\":\"white\",\"gridwidth\":2,\"linecolor\":\"white\",\"showbackground\":true,\"ticks\":\"\",\"zerolinecolor\":\"white\"},\"zaxis\":{\"backgroundcolor\":\"#E5ECF6\",\"gridcolor\":\"white\",\"gridwidth\":2,\"linecolor\":\"white\",\"showbackground\":true,\"ticks\":\"\",\"zerolinecolor\":\"white\"}},\"shapedefaults\":{\"line\":{\"color\":\"#2a3f5f\"}},\"ternary\":{\"aaxis\":{\"gridcolor\":\"white\",\"linecolor\":\"white\",\"ticks\":\"\"},\"baxis\":{\"gridcolor\":\"white\",\"linecolor\":\"white\",\"ticks\":\"\"},\"bgcolor\":\"#E5ECF6\",\"caxis\":{\"gridcolor\":\"white\",\"linecolor\":\"white\",\"ticks\":\"\"}},\"title\":{\"x\":0.05},\"xaxis\":{\"automargin\":true,\"gridcolor\":\"white\",\"linecolor\":\"white\",\"ticks\":\"\",\"title\":{\"standoff\":15},\"zerolinecolor\":\"white\",\"zerolinewidth\":2},\"yaxis\":{\"automargin\":true,\"gridcolor\":\"white\",\"linecolor\":\"white\",\"ticks\":\"\",\"title\":{\"standoff\":15},\"zerolinecolor\":\"white\",\"zerolinewidth\":2}}},\"title\":{\"text\":\"Distribuci\\u00f3n de g\\u00e9nero por estudio\"},\"width\":1000},                        {\"responsive\": true}                    ).then(function(){\n",
       "                            \n",
       "var gd = document.getElementById('b1f302e8-cdfc-482d-8ae7-2d5676cfa775');\n",
       "var x = new MutationObserver(function (mutations, observer) {{\n",
       "        var display = window.getComputedStyle(gd).display;\n",
       "        if (!display || display === 'none') {{\n",
       "            console.log([gd, 'removed!']);\n",
       "            Plotly.purge(gd);\n",
       "            observer.disconnect();\n",
       "        }}\n",
       "}});\n",
       "\n",
       "// Listen for the removal of the full notebook cells\n",
       "var notebookContainer = gd.closest('#notebook-container');\n",
       "if (notebookContainer) {{\n",
       "    x.observe(notebookContainer, {childList: true});\n",
       "}}\n",
       "\n",
       "// Listen for the clearing of the current output cell\n",
       "var outputEl = gd.closest('.output');\n",
       "if (outputEl) {{\n",
       "    x.observe(outputEl, {childList: true});\n",
       "}}\n",
       "\n",
       "                        })                };                });            </script>        </div>"
      ]
     },
     "metadata": {},
     "output_type": "display_data"
    }
   ],
   "source": [
    "plot_pie_by_study(train_marker,\"gender\",[\"Quin_gut_liver_cirrhosis\",\"Chatelier_gut_obesity\",\"t2dmeta_short\",\"t2dmeta_long\"], title=\"Distribución de género por estudio\")"
   ]
  },
  {
   "cell_type": "code",
   "execution_count": 44,
   "metadata": {},
   "outputs": [
    {
     "data": {
      "application/vnd.plotly.v1+json": {
       "config": {
        "plotlyServerURL": "https://plot.ly"
       },
       "data": [
        {
         "domain": {
          "x": [
           0,
           0.4
          ],
          "y": [
           0.6000000000000001,
           1
          ]
         },
         "labels": [
          "china"
         ],
         "title": {
          "text": "Quin_gut_liver_cirrhosis"
         },
         "type": "pie",
         "values": [
          174
         ]
        },
        {
         "domain": {
          "x": [
           0.6000000000000001,
           1
          ],
          "y": [
           0.6000000000000001,
           1
          ]
         },
         "labels": [
          "denmark"
         ],
         "title": {
          "text": "Chatelier_gut_obesity"
         },
         "type": "pie",
         "values": [
          189
         ]
        },
        {
         "domain": {
          "x": [
           0,
           0.4
          ],
          "y": [
           0,
           0.4
          ]
         },
         "labels": [
          "china"
         ],
         "title": {
          "text": "t2dmeta_short"
         },
         "type": "pie",
         "values": [
          52
         ]
        },
        {
         "domain": {
          "x": [
           0.6000000000000001,
           1
          ],
          "y": [
           0,
           0.4
          ]
         },
         "labels": [
          "china"
         ],
         "title": {
          "text": "t2dmeta_long"
         },
         "type": "pie",
         "values": [
          206
         ]
        }
       ],
       "layout": {
        "autosize": false,
        "height": 600,
        "template": {
         "data": {
          "bar": [
           {
            "error_x": {
             "color": "#2a3f5f"
            },
            "error_y": {
             "color": "#2a3f5f"
            },
            "marker": {
             "line": {
              "color": "#E5ECF6",
              "width": 0.5
             },
             "pattern": {
              "fillmode": "overlay",
              "size": 10,
              "solidity": 0.2
             }
            },
            "type": "bar"
           }
          ],
          "barpolar": [
           {
            "marker": {
             "line": {
              "color": "#E5ECF6",
              "width": 0.5
             },
             "pattern": {
              "fillmode": "overlay",
              "size": 10,
              "solidity": 0.2
             }
            },
            "type": "barpolar"
           }
          ],
          "carpet": [
           {
            "aaxis": {
             "endlinecolor": "#2a3f5f",
             "gridcolor": "white",
             "linecolor": "white",
             "minorgridcolor": "white",
             "startlinecolor": "#2a3f5f"
            },
            "baxis": {
             "endlinecolor": "#2a3f5f",
             "gridcolor": "white",
             "linecolor": "white",
             "minorgridcolor": "white",
             "startlinecolor": "#2a3f5f"
            },
            "type": "carpet"
           }
          ],
          "choropleth": [
           {
            "colorbar": {
             "outlinewidth": 0,
             "ticks": ""
            },
            "type": "choropleth"
           }
          ],
          "contour": [
           {
            "colorbar": {
             "outlinewidth": 0,
             "ticks": ""
            },
            "colorscale": [
             [
              0,
              "#0d0887"
             ],
             [
              0.1111111111111111,
              "#46039f"
             ],
             [
              0.2222222222222222,
              "#7201a8"
             ],
             [
              0.3333333333333333,
              "#9c179e"
             ],
             [
              0.4444444444444444,
              "#bd3786"
             ],
             [
              0.5555555555555556,
              "#d8576b"
             ],
             [
              0.6666666666666666,
              "#ed7953"
             ],
             [
              0.7777777777777778,
              "#fb9f3a"
             ],
             [
              0.8888888888888888,
              "#fdca26"
             ],
             [
              1,
              "#f0f921"
             ]
            ],
            "type": "contour"
           }
          ],
          "contourcarpet": [
           {
            "colorbar": {
             "outlinewidth": 0,
             "ticks": ""
            },
            "type": "contourcarpet"
           }
          ],
          "heatmap": [
           {
            "colorbar": {
             "outlinewidth": 0,
             "ticks": ""
            },
            "colorscale": [
             [
              0,
              "#0d0887"
             ],
             [
              0.1111111111111111,
              "#46039f"
             ],
             [
              0.2222222222222222,
              "#7201a8"
             ],
             [
              0.3333333333333333,
              "#9c179e"
             ],
             [
              0.4444444444444444,
              "#bd3786"
             ],
             [
              0.5555555555555556,
              "#d8576b"
             ],
             [
              0.6666666666666666,
              "#ed7953"
             ],
             [
              0.7777777777777778,
              "#fb9f3a"
             ],
             [
              0.8888888888888888,
              "#fdca26"
             ],
             [
              1,
              "#f0f921"
             ]
            ],
            "type": "heatmap"
           }
          ],
          "heatmapgl": [
           {
            "colorbar": {
             "outlinewidth": 0,
             "ticks": ""
            },
            "colorscale": [
             [
              0,
              "#0d0887"
             ],
             [
              0.1111111111111111,
              "#46039f"
             ],
             [
              0.2222222222222222,
              "#7201a8"
             ],
             [
              0.3333333333333333,
              "#9c179e"
             ],
             [
              0.4444444444444444,
              "#bd3786"
             ],
             [
              0.5555555555555556,
              "#d8576b"
             ],
             [
              0.6666666666666666,
              "#ed7953"
             ],
             [
              0.7777777777777778,
              "#fb9f3a"
             ],
             [
              0.8888888888888888,
              "#fdca26"
             ],
             [
              1,
              "#f0f921"
             ]
            ],
            "type": "heatmapgl"
           }
          ],
          "histogram": [
           {
            "marker": {
             "pattern": {
              "fillmode": "overlay",
              "size": 10,
              "solidity": 0.2
             }
            },
            "type": "histogram"
           }
          ],
          "histogram2d": [
           {
            "colorbar": {
             "outlinewidth": 0,
             "ticks": ""
            },
            "colorscale": [
             [
              0,
              "#0d0887"
             ],
             [
              0.1111111111111111,
              "#46039f"
             ],
             [
              0.2222222222222222,
              "#7201a8"
             ],
             [
              0.3333333333333333,
              "#9c179e"
             ],
             [
              0.4444444444444444,
              "#bd3786"
             ],
             [
              0.5555555555555556,
              "#d8576b"
             ],
             [
              0.6666666666666666,
              "#ed7953"
             ],
             [
              0.7777777777777778,
              "#fb9f3a"
             ],
             [
              0.8888888888888888,
              "#fdca26"
             ],
             [
              1,
              "#f0f921"
             ]
            ],
            "type": "histogram2d"
           }
          ],
          "histogram2dcontour": [
           {
            "colorbar": {
             "outlinewidth": 0,
             "ticks": ""
            },
            "colorscale": [
             [
              0,
              "#0d0887"
             ],
             [
              0.1111111111111111,
              "#46039f"
             ],
             [
              0.2222222222222222,
              "#7201a8"
             ],
             [
              0.3333333333333333,
              "#9c179e"
             ],
             [
              0.4444444444444444,
              "#bd3786"
             ],
             [
              0.5555555555555556,
              "#d8576b"
             ],
             [
              0.6666666666666666,
              "#ed7953"
             ],
             [
              0.7777777777777778,
              "#fb9f3a"
             ],
             [
              0.8888888888888888,
              "#fdca26"
             ],
             [
              1,
              "#f0f921"
             ]
            ],
            "type": "histogram2dcontour"
           }
          ],
          "mesh3d": [
           {
            "colorbar": {
             "outlinewidth": 0,
             "ticks": ""
            },
            "type": "mesh3d"
           }
          ],
          "parcoords": [
           {
            "line": {
             "colorbar": {
              "outlinewidth": 0,
              "ticks": ""
             }
            },
            "type": "parcoords"
           }
          ],
          "pie": [
           {
            "automargin": true,
            "type": "pie"
           }
          ],
          "scatter": [
           {
            "marker": {
             "colorbar": {
              "outlinewidth": 0,
              "ticks": ""
             }
            },
            "type": "scatter"
           }
          ],
          "scatter3d": [
           {
            "line": {
             "colorbar": {
              "outlinewidth": 0,
              "ticks": ""
             }
            },
            "marker": {
             "colorbar": {
              "outlinewidth": 0,
              "ticks": ""
             }
            },
            "type": "scatter3d"
           }
          ],
          "scattercarpet": [
           {
            "marker": {
             "colorbar": {
              "outlinewidth": 0,
              "ticks": ""
             }
            },
            "type": "scattercarpet"
           }
          ],
          "scattergeo": [
           {
            "marker": {
             "colorbar": {
              "outlinewidth": 0,
              "ticks": ""
             }
            },
            "type": "scattergeo"
           }
          ],
          "scattergl": [
           {
            "marker": {
             "colorbar": {
              "outlinewidth": 0,
              "ticks": ""
             }
            },
            "type": "scattergl"
           }
          ],
          "scattermapbox": [
           {
            "marker": {
             "colorbar": {
              "outlinewidth": 0,
              "ticks": ""
             }
            },
            "type": "scattermapbox"
           }
          ],
          "scatterpolar": [
           {
            "marker": {
             "colorbar": {
              "outlinewidth": 0,
              "ticks": ""
             }
            },
            "type": "scatterpolar"
           }
          ],
          "scatterpolargl": [
           {
            "marker": {
             "colorbar": {
              "outlinewidth": 0,
              "ticks": ""
             }
            },
            "type": "scatterpolargl"
           }
          ],
          "scatterternary": [
           {
            "marker": {
             "colorbar": {
              "outlinewidth": 0,
              "ticks": ""
             }
            },
            "type": "scatterternary"
           }
          ],
          "surface": [
           {
            "colorbar": {
             "outlinewidth": 0,
             "ticks": ""
            },
            "colorscale": [
             [
              0,
              "#0d0887"
             ],
             [
              0.1111111111111111,
              "#46039f"
             ],
             [
              0.2222222222222222,
              "#7201a8"
             ],
             [
              0.3333333333333333,
              "#9c179e"
             ],
             [
              0.4444444444444444,
              "#bd3786"
             ],
             [
              0.5555555555555556,
              "#d8576b"
             ],
             [
              0.6666666666666666,
              "#ed7953"
             ],
             [
              0.7777777777777778,
              "#fb9f3a"
             ],
             [
              0.8888888888888888,
              "#fdca26"
             ],
             [
              1,
              "#f0f921"
             ]
            ],
            "type": "surface"
           }
          ],
          "table": [
           {
            "cells": {
             "fill": {
              "color": "#EBF0F8"
             },
             "line": {
              "color": "white"
             }
            },
            "header": {
             "fill": {
              "color": "#C8D4E3"
             },
             "line": {
              "color": "white"
             }
            },
            "type": "table"
           }
          ]
         },
         "layout": {
          "annotationdefaults": {
           "arrowcolor": "#2a3f5f",
           "arrowhead": 0,
           "arrowwidth": 1
          },
          "autotypenumbers": "strict",
          "coloraxis": {
           "colorbar": {
            "outlinewidth": 0,
            "ticks": ""
           }
          },
          "colorscale": {
           "diverging": [
            [
             0,
             "#8e0152"
            ],
            [
             0.1,
             "#c51b7d"
            ],
            [
             0.2,
             "#de77ae"
            ],
            [
             0.3,
             "#f1b6da"
            ],
            [
             0.4,
             "#fde0ef"
            ],
            [
             0.5,
             "#f7f7f7"
            ],
            [
             0.6,
             "#e6f5d0"
            ],
            [
             0.7,
             "#b8e186"
            ],
            [
             0.8,
             "#7fbc41"
            ],
            [
             0.9,
             "#4d9221"
            ],
            [
             1,
             "#276419"
            ]
           ],
           "sequential": [
            [
             0,
             "#0d0887"
            ],
            [
             0.1111111111111111,
             "#46039f"
            ],
            [
             0.2222222222222222,
             "#7201a8"
            ],
            [
             0.3333333333333333,
             "#9c179e"
            ],
            [
             0.4444444444444444,
             "#bd3786"
            ],
            [
             0.5555555555555556,
             "#d8576b"
            ],
            [
             0.6666666666666666,
             "#ed7953"
            ],
            [
             0.7777777777777778,
             "#fb9f3a"
            ],
            [
             0.8888888888888888,
             "#fdca26"
            ],
            [
             1,
             "#f0f921"
            ]
           ],
           "sequentialminus": [
            [
             0,
             "#0d0887"
            ],
            [
             0.1111111111111111,
             "#46039f"
            ],
            [
             0.2222222222222222,
             "#7201a8"
            ],
            [
             0.3333333333333333,
             "#9c179e"
            ],
            [
             0.4444444444444444,
             "#bd3786"
            ],
            [
             0.5555555555555556,
             "#d8576b"
            ],
            [
             0.6666666666666666,
             "#ed7953"
            ],
            [
             0.7777777777777778,
             "#fb9f3a"
            ],
            [
             0.8888888888888888,
             "#fdca26"
            ],
            [
             1,
             "#f0f921"
            ]
           ]
          },
          "colorway": [
           "#636efa",
           "#EF553B",
           "#00cc96",
           "#ab63fa",
           "#FFA15A",
           "#19d3f3",
           "#FF6692",
           "#B6E880",
           "#FF97FF",
           "#FECB52"
          ],
          "font": {
           "color": "#2a3f5f"
          },
          "geo": {
           "bgcolor": "white",
           "lakecolor": "white",
           "landcolor": "#E5ECF6",
           "showlakes": true,
           "showland": true,
           "subunitcolor": "white"
          },
          "hoverlabel": {
           "align": "left"
          },
          "hovermode": "closest",
          "mapbox": {
           "style": "light"
          },
          "paper_bgcolor": "white",
          "plot_bgcolor": "#E5ECF6",
          "polar": {
           "angularaxis": {
            "gridcolor": "white",
            "linecolor": "white",
            "ticks": ""
           },
           "bgcolor": "#E5ECF6",
           "radialaxis": {
            "gridcolor": "white",
            "linecolor": "white",
            "ticks": ""
           }
          },
          "scene": {
           "xaxis": {
            "backgroundcolor": "#E5ECF6",
            "gridcolor": "white",
            "gridwidth": 2,
            "linecolor": "white",
            "showbackground": true,
            "ticks": "",
            "zerolinecolor": "white"
           },
           "yaxis": {
            "backgroundcolor": "#E5ECF6",
            "gridcolor": "white",
            "gridwidth": 2,
            "linecolor": "white",
            "showbackground": true,
            "ticks": "",
            "zerolinecolor": "white"
           },
           "zaxis": {
            "backgroundcolor": "#E5ECF6",
            "gridcolor": "white",
            "gridwidth": 2,
            "linecolor": "white",
            "showbackground": true,
            "ticks": "",
            "zerolinecolor": "white"
           }
          },
          "shapedefaults": {
           "line": {
            "color": "#2a3f5f"
           }
          },
          "ternary": {
           "aaxis": {
            "gridcolor": "white",
            "linecolor": "white",
            "ticks": ""
           },
           "baxis": {
            "gridcolor": "white",
            "linecolor": "white",
            "ticks": ""
           },
           "bgcolor": "#E5ECF6",
           "caxis": {
            "gridcolor": "white",
            "linecolor": "white",
            "ticks": ""
           }
          },
          "title": {
           "x": 0.05
          },
          "xaxis": {
           "automargin": true,
           "gridcolor": "white",
           "linecolor": "white",
           "ticks": "",
           "title": {
            "standoff": 15
           },
           "zerolinecolor": "white",
           "zerolinewidth": 2
          },
          "yaxis": {
           "automargin": true,
           "gridcolor": "white",
           "linecolor": "white",
           "ticks": "",
           "title": {
            "standoff": 15
           },
           "zerolinecolor": "white",
           "zerolinewidth": 2
          }
         }
        },
        "title": {
         "text": "Distribución de género por estudio"
        },
        "width": 1000
       }
      },
      "text/html": [
       "<div>                            <div id=\"f38786b6-3bcd-4cf0-b6d0-9030bbda22c4\" class=\"plotly-graph-div\" style=\"height:600px; width:1000px;\"></div>            <script type=\"text/javascript\">                require([\"plotly\"], function(Plotly) {                    window.PLOTLYENV=window.PLOTLYENV || {};                                    if (document.getElementById(\"f38786b6-3bcd-4cf0-b6d0-9030bbda22c4\")) {                    Plotly.newPlot(                        \"f38786b6-3bcd-4cf0-b6d0-9030bbda22c4\",                        [{\"domain\":{\"x\":[0.0,0.4],\"y\":[0.6000000000000001,1.0]},\"labels\":[\"china\"],\"title\":{\"text\":\"Quin_gut_liver_cirrhosis\"},\"type\":\"pie\",\"values\":[174]},{\"domain\":{\"x\":[0.6000000000000001,1.0],\"y\":[0.6000000000000001,1.0]},\"labels\":[\"denmark\"],\"title\":{\"text\":\"Chatelier_gut_obesity\"},\"type\":\"pie\",\"values\":[189]},{\"domain\":{\"x\":[0.0,0.4],\"y\":[0.0,0.4]},\"labels\":[\"china\"],\"title\":{\"text\":\"t2dmeta_short\"},\"type\":\"pie\",\"values\":[52]},{\"domain\":{\"x\":[0.6000000000000001,1.0],\"y\":[0.0,0.4]},\"labels\":[\"china\"],\"title\":{\"text\":\"t2dmeta_long\"},\"type\":\"pie\",\"values\":[206]}],                        {\"autosize\":false,\"height\":600,\"template\":{\"data\":{\"bar\":[{\"error_x\":{\"color\":\"#2a3f5f\"},\"error_y\":{\"color\":\"#2a3f5f\"},\"marker\":{\"line\":{\"color\":\"#E5ECF6\",\"width\":0.5},\"pattern\":{\"fillmode\":\"overlay\",\"size\":10,\"solidity\":0.2}},\"type\":\"bar\"}],\"barpolar\":[{\"marker\":{\"line\":{\"color\":\"#E5ECF6\",\"width\":0.5},\"pattern\":{\"fillmode\":\"overlay\",\"size\":10,\"solidity\":0.2}},\"type\":\"barpolar\"}],\"carpet\":[{\"aaxis\":{\"endlinecolor\":\"#2a3f5f\",\"gridcolor\":\"white\",\"linecolor\":\"white\",\"minorgridcolor\":\"white\",\"startlinecolor\":\"#2a3f5f\"},\"baxis\":{\"endlinecolor\":\"#2a3f5f\",\"gridcolor\":\"white\",\"linecolor\":\"white\",\"minorgridcolor\":\"white\",\"startlinecolor\":\"#2a3f5f\"},\"type\":\"carpet\"}],\"choropleth\":[{\"colorbar\":{\"outlinewidth\":0,\"ticks\":\"\"},\"type\":\"choropleth\"}],\"contour\":[{\"colorbar\":{\"outlinewidth\":0,\"ticks\":\"\"},\"colorscale\":[[0.0,\"#0d0887\"],[0.1111111111111111,\"#46039f\"],[0.2222222222222222,\"#7201a8\"],[0.3333333333333333,\"#9c179e\"],[0.4444444444444444,\"#bd3786\"],[0.5555555555555556,\"#d8576b\"],[0.6666666666666666,\"#ed7953\"],[0.7777777777777778,\"#fb9f3a\"],[0.8888888888888888,\"#fdca26\"],[1.0,\"#f0f921\"]],\"type\":\"contour\"}],\"contourcarpet\":[{\"colorbar\":{\"outlinewidth\":0,\"ticks\":\"\"},\"type\":\"contourcarpet\"}],\"heatmap\":[{\"colorbar\":{\"outlinewidth\":0,\"ticks\":\"\"},\"colorscale\":[[0.0,\"#0d0887\"],[0.1111111111111111,\"#46039f\"],[0.2222222222222222,\"#7201a8\"],[0.3333333333333333,\"#9c179e\"],[0.4444444444444444,\"#bd3786\"],[0.5555555555555556,\"#d8576b\"],[0.6666666666666666,\"#ed7953\"],[0.7777777777777778,\"#fb9f3a\"],[0.8888888888888888,\"#fdca26\"],[1.0,\"#f0f921\"]],\"type\":\"heatmap\"}],\"heatmapgl\":[{\"colorbar\":{\"outlinewidth\":0,\"ticks\":\"\"},\"colorscale\":[[0.0,\"#0d0887\"],[0.1111111111111111,\"#46039f\"],[0.2222222222222222,\"#7201a8\"],[0.3333333333333333,\"#9c179e\"],[0.4444444444444444,\"#bd3786\"],[0.5555555555555556,\"#d8576b\"],[0.6666666666666666,\"#ed7953\"],[0.7777777777777778,\"#fb9f3a\"],[0.8888888888888888,\"#fdca26\"],[1.0,\"#f0f921\"]],\"type\":\"heatmapgl\"}],\"histogram\":[{\"marker\":{\"pattern\":{\"fillmode\":\"overlay\",\"size\":10,\"solidity\":0.2}},\"type\":\"histogram\"}],\"histogram2d\":[{\"colorbar\":{\"outlinewidth\":0,\"ticks\":\"\"},\"colorscale\":[[0.0,\"#0d0887\"],[0.1111111111111111,\"#46039f\"],[0.2222222222222222,\"#7201a8\"],[0.3333333333333333,\"#9c179e\"],[0.4444444444444444,\"#bd3786\"],[0.5555555555555556,\"#d8576b\"],[0.6666666666666666,\"#ed7953\"],[0.7777777777777778,\"#fb9f3a\"],[0.8888888888888888,\"#fdca26\"],[1.0,\"#f0f921\"]],\"type\":\"histogram2d\"}],\"histogram2dcontour\":[{\"colorbar\":{\"outlinewidth\":0,\"ticks\":\"\"},\"colorscale\":[[0.0,\"#0d0887\"],[0.1111111111111111,\"#46039f\"],[0.2222222222222222,\"#7201a8\"],[0.3333333333333333,\"#9c179e\"],[0.4444444444444444,\"#bd3786\"],[0.5555555555555556,\"#d8576b\"],[0.6666666666666666,\"#ed7953\"],[0.7777777777777778,\"#fb9f3a\"],[0.8888888888888888,\"#fdca26\"],[1.0,\"#f0f921\"]],\"type\":\"histogram2dcontour\"}],\"mesh3d\":[{\"colorbar\":{\"outlinewidth\":0,\"ticks\":\"\"},\"type\":\"mesh3d\"}],\"parcoords\":[{\"line\":{\"colorbar\":{\"outlinewidth\":0,\"ticks\":\"\"}},\"type\":\"parcoords\"}],\"pie\":[{\"automargin\":true,\"type\":\"pie\"}],\"scatter\":[{\"marker\":{\"colorbar\":{\"outlinewidth\":0,\"ticks\":\"\"}},\"type\":\"scatter\"}],\"scatter3d\":[{\"line\":{\"colorbar\":{\"outlinewidth\":0,\"ticks\":\"\"}},\"marker\":{\"colorbar\":{\"outlinewidth\":0,\"ticks\":\"\"}},\"type\":\"scatter3d\"}],\"scattercarpet\":[{\"marker\":{\"colorbar\":{\"outlinewidth\":0,\"ticks\":\"\"}},\"type\":\"scattercarpet\"}],\"scattergeo\":[{\"marker\":{\"colorbar\":{\"outlinewidth\":0,\"ticks\":\"\"}},\"type\":\"scattergeo\"}],\"scattergl\":[{\"marker\":{\"colorbar\":{\"outlinewidth\":0,\"ticks\":\"\"}},\"type\":\"scattergl\"}],\"scattermapbox\":[{\"marker\":{\"colorbar\":{\"outlinewidth\":0,\"ticks\":\"\"}},\"type\":\"scattermapbox\"}],\"scatterpolar\":[{\"marker\":{\"colorbar\":{\"outlinewidth\":0,\"ticks\":\"\"}},\"type\":\"scatterpolar\"}],\"scatterpolargl\":[{\"marker\":{\"colorbar\":{\"outlinewidth\":0,\"ticks\":\"\"}},\"type\":\"scatterpolargl\"}],\"scatterternary\":[{\"marker\":{\"colorbar\":{\"outlinewidth\":0,\"ticks\":\"\"}},\"type\":\"scatterternary\"}],\"surface\":[{\"colorbar\":{\"outlinewidth\":0,\"ticks\":\"\"},\"colorscale\":[[0.0,\"#0d0887\"],[0.1111111111111111,\"#46039f\"],[0.2222222222222222,\"#7201a8\"],[0.3333333333333333,\"#9c179e\"],[0.4444444444444444,\"#bd3786\"],[0.5555555555555556,\"#d8576b\"],[0.6666666666666666,\"#ed7953\"],[0.7777777777777778,\"#fb9f3a\"],[0.8888888888888888,\"#fdca26\"],[1.0,\"#f0f921\"]],\"type\":\"surface\"}],\"table\":[{\"cells\":{\"fill\":{\"color\":\"#EBF0F8\"},\"line\":{\"color\":\"white\"}},\"header\":{\"fill\":{\"color\":\"#C8D4E3\"},\"line\":{\"color\":\"white\"}},\"type\":\"table\"}]},\"layout\":{\"annotationdefaults\":{\"arrowcolor\":\"#2a3f5f\",\"arrowhead\":0,\"arrowwidth\":1},\"autotypenumbers\":\"strict\",\"coloraxis\":{\"colorbar\":{\"outlinewidth\":0,\"ticks\":\"\"}},\"colorscale\":{\"diverging\":[[0,\"#8e0152\"],[0.1,\"#c51b7d\"],[0.2,\"#de77ae\"],[0.3,\"#f1b6da\"],[0.4,\"#fde0ef\"],[0.5,\"#f7f7f7\"],[0.6,\"#e6f5d0\"],[0.7,\"#b8e186\"],[0.8,\"#7fbc41\"],[0.9,\"#4d9221\"],[1,\"#276419\"]],\"sequential\":[[0.0,\"#0d0887\"],[0.1111111111111111,\"#46039f\"],[0.2222222222222222,\"#7201a8\"],[0.3333333333333333,\"#9c179e\"],[0.4444444444444444,\"#bd3786\"],[0.5555555555555556,\"#d8576b\"],[0.6666666666666666,\"#ed7953\"],[0.7777777777777778,\"#fb9f3a\"],[0.8888888888888888,\"#fdca26\"],[1.0,\"#f0f921\"]],\"sequentialminus\":[[0.0,\"#0d0887\"],[0.1111111111111111,\"#46039f\"],[0.2222222222222222,\"#7201a8\"],[0.3333333333333333,\"#9c179e\"],[0.4444444444444444,\"#bd3786\"],[0.5555555555555556,\"#d8576b\"],[0.6666666666666666,\"#ed7953\"],[0.7777777777777778,\"#fb9f3a\"],[0.8888888888888888,\"#fdca26\"],[1.0,\"#f0f921\"]]},\"colorway\":[\"#636efa\",\"#EF553B\",\"#00cc96\",\"#ab63fa\",\"#FFA15A\",\"#19d3f3\",\"#FF6692\",\"#B6E880\",\"#FF97FF\",\"#FECB52\"],\"font\":{\"color\":\"#2a3f5f\"},\"geo\":{\"bgcolor\":\"white\",\"lakecolor\":\"white\",\"landcolor\":\"#E5ECF6\",\"showlakes\":true,\"showland\":true,\"subunitcolor\":\"white\"},\"hoverlabel\":{\"align\":\"left\"},\"hovermode\":\"closest\",\"mapbox\":{\"style\":\"light\"},\"paper_bgcolor\":\"white\",\"plot_bgcolor\":\"#E5ECF6\",\"polar\":{\"angularaxis\":{\"gridcolor\":\"white\",\"linecolor\":\"white\",\"ticks\":\"\"},\"bgcolor\":\"#E5ECF6\",\"radialaxis\":{\"gridcolor\":\"white\",\"linecolor\":\"white\",\"ticks\":\"\"}},\"scene\":{\"xaxis\":{\"backgroundcolor\":\"#E5ECF6\",\"gridcolor\":\"white\",\"gridwidth\":2,\"linecolor\":\"white\",\"showbackground\":true,\"ticks\":\"\",\"zerolinecolor\":\"white\"},\"yaxis\":{\"backgroundcolor\":\"#E5ECF6\",\"gridcolor\":\"white\",\"gridwidth\":2,\"linecolor\":\"white\",\"showbackground\":true,\"ticks\":\"\",\"zerolinecolor\":\"white\"},\"zaxis\":{\"backgroundcolor\":\"#E5ECF6\",\"gridcolor\":\"white\",\"gridwidth\":2,\"linecolor\":\"white\",\"showbackground\":true,\"ticks\":\"\",\"zerolinecolor\":\"white\"}},\"shapedefaults\":{\"line\":{\"color\":\"#2a3f5f\"}},\"ternary\":{\"aaxis\":{\"gridcolor\":\"white\",\"linecolor\":\"white\",\"ticks\":\"\"},\"baxis\":{\"gridcolor\":\"white\",\"linecolor\":\"white\",\"ticks\":\"\"},\"bgcolor\":\"#E5ECF6\",\"caxis\":{\"gridcolor\":\"white\",\"linecolor\":\"white\",\"ticks\":\"\"}},\"title\":{\"x\":0.05},\"xaxis\":{\"automargin\":true,\"gridcolor\":\"white\",\"linecolor\":\"white\",\"ticks\":\"\",\"title\":{\"standoff\":15},\"zerolinecolor\":\"white\",\"zerolinewidth\":2},\"yaxis\":{\"automargin\":true,\"gridcolor\":\"white\",\"linecolor\":\"white\",\"ticks\":\"\",\"title\":{\"standoff\":15},\"zerolinecolor\":\"white\",\"zerolinewidth\":2}}},\"title\":{\"text\":\"Distribuci\\u00f3n de g\\u00e9nero por estudio\"},\"width\":1000},                        {\"responsive\": true}                    ).then(function(){\n",
       "                            \n",
       "var gd = document.getElementById('f38786b6-3bcd-4cf0-b6d0-9030bbda22c4');\n",
       "var x = new MutationObserver(function (mutations, observer) {{\n",
       "        var display = window.getComputedStyle(gd).display;\n",
       "        if (!display || display === 'none') {{\n",
       "            console.log([gd, 'removed!']);\n",
       "            Plotly.purge(gd);\n",
       "            observer.disconnect();\n",
       "        }}\n",
       "}});\n",
       "\n",
       "// Listen for the removal of the full notebook cells\n",
       "var notebookContainer = gd.closest('#notebook-container');\n",
       "if (notebookContainer) {{\n",
       "    x.observe(notebookContainer, {childList: true});\n",
       "}}\n",
       "\n",
       "// Listen for the clearing of the current output cell\n",
       "var outputEl = gd.closest('.output');\n",
       "if (outputEl) {{\n",
       "    x.observe(outputEl, {childList: true});\n",
       "}}\n",
       "\n",
       "                        })                };                });            </script>        </div>"
      ]
     },
     "metadata": {},
     "output_type": "display_data"
    }
   ],
   "source": [
    "plot_pie_by_study(train_marker,\"country\",[\"Quin_gut_liver_cirrhosis\",\"Chatelier_gut_obesity\",\"t2dmeta_short\",\"t2dmeta_long\"], title=\"Distribución de género por estudio\")"
   ]
  },
  {
   "cell_type": "markdown",
   "metadata": {},
   "source": [
    "## 4 Preprocesamiento de datos"
   ]
  },
  {
   "cell_type": "markdown",
   "metadata": {},
   "source": [
    "### 4.1 Data Cleaning"
   ]
  },
  {
   "cell_type": "code",
   "execution_count": 12,
   "metadata": {},
   "outputs": [],
   "source": [
    "def data_merge(abundance,marker):\n",
    "  dataset = pd.concat([abundance, marker], axis=1, join='inner')\n",
    "  dataset = dataset.loc[:,~dataset.columns.duplicated()]\n",
    "  return dataset"
   ]
  },
  {
   "cell_type": "code",
   "execution_count": 96,
   "metadata": {},
   "outputs": [],
   "source": [
    "def preprocessing(dataset,name,test=False):\n",
    "  dataset = dataset.fillna(0)\n",
    "\n",
    "  ohe_gender = pd.get_dummies(dataset.gender, prefix='gender')\n",
    "  dataset[\"gender_-\"] = ohe_gender[\"gender_-\"]\n",
    "  dataset[\"gender_male\"] = ohe_gender[\"gender_male\"]\n",
    "  dataset[\"gender_female\"] = ohe_gender[\"gender_female\"]\n",
    "  ohe_country = pd.get_dummies(dataset.country, prefix='country')\n",
    "  dataset[\"country_china\"] = ohe_country[\"country_china\"]\n",
    "  dataset[\"country_denmark\"] = ohe_country[\"country_denmark\"]\n",
    "  \n",
    "  dataset = dataset.apply(lambda x: pd.to_numeric(x, errors='coerce')).fillna(0)\n",
    "  dataset = dataset.drop(columns=[\"gender\",\"code_study\",\"country\"])\n",
    "  \n",
    "  if test:\n",
    "    dataset = dataset.drop(columns=[\"Unnamed: 0\",'Cirrhosis','Obesity','Diabetes'])\n",
    "    return dataset\n",
    "\n",
    "  Y = dataset[['Cirrhosis','Obesity','Diabetes']]\n",
    "  dataset = dataset.drop(columns=['Unnamed: 0','Cirrhosis','Obesity','Diabetes'])\n",
    "  \n",
    "  return dataset, Y"
   ]
  },
  {
   "cell_type": "markdown",
   "metadata": {},
   "source": [
    "### 4.2 Normalization"
   ]
  },
  {
   "cell_type": "code",
   "execution_count": 15,
   "metadata": {},
   "outputs": [],
   "source": [
    "def get_normalizer(dataset):\n",
    "  scaler = StandardScaler()\n",
    "  return scaler.fit(dataset)"
   ]
  },
  {
   "cell_type": "markdown",
   "metadata": {},
   "source": [
    "### 4.3 Other attribute engineering tools"
   ]
  },
  {
   "cell_type": "markdown",
   "metadata": {},
   "source": [
    "El método **VarianceThreshold** fue utilizado he introdujo mejoras al modelo eliminando aquellas variables con muy poca varianza, es decir, bajo aporte de información al modelo."
   ]
  },
  {
   "cell_type": "code",
   "execution_count": 16,
   "metadata": {},
   "outputs": [],
   "source": [
    "def getter_delete_low_variance(dataset,umbral=0):\n",
    "  return VarianceThreshold(threshold=umbral).fit(dataset)"
   ]
  },
  {
   "cell_type": "markdown",
   "metadata": {},
   "source": [
    "## 5. Model evaluation"
   ]
  },
  {
   "cell_type": "markdown",
   "metadata": {},
   "source": [
    "Función para evaluar el modelo en el error de validación y de entrenamiento (se utilizó para verificar sobre ajuste). Además, genera el submit para kaggle en caso de que se le indique:"
   ]
  },
  {
   "cell_type": "code",
   "execution_count": 17,
   "metadata": {},
   "outputs": [],
   "source": [
    "def evaluar_modelo(X_train,y_train,model,X_val=None,y_val=None,X_test=None,test=None,params=dict(),submit=False,X=None,Y=None):\n",
    "  if submit:\n",
    "    modelo = OneVsRestClassifier(model(**params))\n",
    "    X_train = X\n",
    "    y_train = Y\n",
    "    modelo = modelo.fit(X_train, y_train)\n",
    "    y_pred = modelo.predict(X_test)\n",
    "    test_submit = test\n",
    "    test_submit['Cirrhosis'] = y_pred[:,0]\n",
    "    test_submit['Obesity'] = y_pred[:,1]\n",
    "    test_submit['Diabetes'] = y_pred[:,2]\n",
    "    test_submit = test_submit.rename(columns = {\"Unnamed: 0\": \"Id\"})\n",
    "    test_submit = test_submit[['Id','Cirrhosis','Obesity','Diabetes']]\n",
    "    test_submit.to_csv(\"./submissions/submission-to-kaggle.csv\", index=False)\n",
    "    return modelo\n",
    "  else:\n",
    "    modelo = OneVsRestClassifier(model(**params))\n",
    "    modelo = modelo.fit(X_train, y_train)\n",
    "    y_pred = modelo.predict(X_val)\n",
    "    y_pred_train = modelo.predict(X_train)\n",
    "    auc = AUC(multi_label=True, thresholds=[0, 0.5])\n",
    "    print(f'MAUC validación: {auc(y_val, y_pred)}')\n",
    "    print(f'MAUC entrenamiento: {auc(y_train, y_pred_train)}')\n",
    "    return modelo"
   ]
  },
  {
   "cell_type": "markdown",
   "metadata": {},
   "source": [
    "## 6. Pipeline manual"
   ]
  },
  {
   "cell_type": "code",
   "execution_count": 144,
   "metadata": {},
   "outputs": [],
   "source": [
    "# parametros\n",
    "lv=True\n",
    "umbral=0\n",
    "pca = True\n",
    "# Si está en true no se consideran las columnas gender y country\n",
    "best_result = True"
   ]
  },
  {
   "cell_type": "code",
   "execution_count": 19,
   "metadata": {},
   "outputs": [],
   "source": [
    "train_dm = data_merge(train_abundance,train_marker)\n",
    "test_dm = data_merge(test_abundance,test_marker)"
   ]
  },
  {
   "cell_type": "code",
   "execution_count": 97,
   "metadata": {},
   "outputs": [],
   "source": [
    "X_train_pp, Y_train = preprocessing(train_dm,\"train_dm\")\n",
    "X_test_pp = preprocessing(test_dm,\"test_dm\",test=True)"
   ]
  },
  {
   "cell_type": "code",
   "execution_count": 143,
   "metadata": {},
   "outputs": [
    {
     "name": "stdout",
     "output_type": "stream",
     "text": [
      "antes:\n",
      "(621, 154661)\n",
      "despues:\n",
      "(621, 146670)\n"
     ]
    }
   ],
   "source": [
    "if lv:\n",
    "  print(\"antes:\")\n",
    "  print(X_train_pp.shape)\n",
    "  if best_result:\n",
    "    X_train_br = X_train_pp.drop(columns=[\"gender_-\",\"gender_male\",\"gender_female\",\"country_china\",\"country_denmark\"])\n",
    "    X_test_br = X_test_pp.drop(columns=[\"gender_-\",\"gender_male\",\"gender_female\",\"country_china\",\"country_denmark\"])\n",
    "    low_var = getter_delete_low_variance(X_train_br,umbral=0)\n",
    "    X_train_lv = low_var.transform(X_train_br)\n",
    "    X_test_lv = low_var.transform(X_test_br)\n",
    "  else:\n",
    "    low_var = getter_delete_low_variance(X_train_pp,umbral=0)\n",
    "    X_train_lv = low_var.transform(X_train_pp)\n",
    "    X_test_lv = low_var.transform(X_test_pp)\n",
    "    \n",
    "  X_train_lv_df = pd.DataFrame(data=X_train_lv[0:,0:],\n",
    "                index=[i for i in range(X_train_lv.shape[0])],\n",
    "                columns=['f'+str(i) for i in range(X_train_lv.shape[1])])\n",
    "  X_test_lv_df = pd.DataFrame(data=X_test_lv[0:,0:],\n",
    "                  index=[i for i in range(X_test_lv.shape[0])],\n",
    "                  columns=['f'+str(i) for i in range(X_test_lv.shape[1])])\n",
    "  print(\"despues:\")\n",
    "  print(X_train_lv.shape)"
   ]
  },
  {
   "cell_type": "code",
   "execution_count": 145,
   "metadata": {},
   "outputs": [],
   "source": [
    "if lv:\n",
    "  normalizer = get_normalizer(X_train_lv_df)\n",
    "  X_train_norm = normalizer.transform(X_train_lv_df)\n",
    "  X_test_norm = normalizer.transform(X_test_lv_df)\n",
    "else:\n",
    "  normalizer = get_normalizer(X_train_pp)\n",
    "  X_train_norm = normalizer.transform(X_train_pp)\n",
    "  X_test_norm = normalizer.transform(X_test_pp)\n",
    "\n",
    "#Y_train = pd.read_csv(cache_dir+\"Y_train.csv\")"
   ]
  },
  {
   "cell_type": "code",
   "execution_count": 146,
   "metadata": {},
   "outputs": [],
   "source": [
    "pca = PCA(n_components=(25))\n",
    "pca.fit(X_train_norm)\n",
    "X_train_pca = pca.transform(X_train_norm)\n",
    "X_test_pca = pca.transform(X_test_norm)"
   ]
  },
  {
   "cell_type": "code",
   "execution_count": 147,
   "metadata": {},
   "outputs": [],
   "source": [
    "if pca:\n",
    "  X_train, X_val, y_train, y_val = train_test_split(X_train_pca, Y_train,test_size=0.3,random_state=42)\n",
    "else:\n",
    "  X_train, X_val, y_train, y_val = train_test_split(X_train_norm, Y_train,test_size=0.3,random_state=42)"
   ]
  },
  {
   "cell_type": "markdown",
   "metadata": {},
   "source": [
    "## 7. Mejor resultado"
   ]
  },
  {
   "cell_type": "code",
   "execution_count": 148,
   "metadata": {},
   "outputs": [
    {
     "name": "stdout",
     "output_type": "stream",
     "text": [
      "Comienza evaluación de modelo\n",
      "MAUC validación: 0.8755908012390137\n",
      "MAUC entrenamiento: 0.8964021801948547\n",
      "OneVsRestClassifier(estimator=SVC(C=1, class_weight='balanced', gamma=1,\n",
      "                                  kernel='linear'))\n"
     ]
    }
   ],
   "source": [
    "# Usando PCA con 25 componentes y umbral 0 en lv, sin utilizar gender, code_study y country\n",
    "params = {\"kernel\":'linear', \"gamma\":1, \"C\":1,\"class_weight\":\"balanced\"}\n",
    "print(\"Comienza evaluación de modelo\")\n",
    "print(evaluar_modelo(X_train,y_train,model=svm.SVC,X_val=X_val,\n",
    "                     y_val=y_val,X_test=X_test_pca,params=params,\n",
    "                     test=test_dm,submit=False,X=X_train_pca,Y=Y_train))"
   ]
  },
  {
   "cell_type": "markdown",
   "metadata": {},
   "source": [
    "## 8. Pruebas de hiperparámetros"
   ]
  },
  {
   "cell_type": "code",
   "execution_count": 31,
   "metadata": {},
   "outputs": [
    {
     "name": "stdout",
     "output_type": "stream",
     "text": [
      "###########################################################\n",
      "Probando hiperparámetros: n_comp: 12,umbral: 0\n",
      "###########################################################\n",
      "-----------------------------------\n",
      "Evaluando modelo: svc\n",
      "Con los siguientes parámetros: {'kernel': 'linear', 'gamma': 'auto', 'C': 0.1, 'class_weight': 'balanced'}\n",
      "MAUC validación: 0.8693209290504456\n",
      "MAUC entrenamiento: 0.8725808262825012\n",
      "-----------------------------------\n",
      "-----------------------------------\n",
      "Evaluando modelo: svc\n",
      "Con los siguientes parámetros: {'kernel': 'linear', 'gamma': 'auto', 'C': 1.0, 'class_weight': 'balanced'}\n",
      "MAUC validación: 0.8693209290504456\n",
      "MAUC entrenamiento: 0.8725808262825012\n",
      "-----------------------------------\n",
      "-----------------------------------\n",
      "Evaluando modelo: svc\n",
      "Con los siguientes parámetros: {'kernel': 'linear', 'gamma': 0.2, 'C': 0.1, 'class_weight': 'balanced'}\n",
      "MAUC validación: 0.8693209290504456\n",
      "MAUC entrenamiento: 0.8725808262825012\n",
      "-----------------------------------\n",
      "-----------------------------------\n",
      "Evaluando modelo: svc\n",
      "Con los siguientes parámetros: {'kernel': 'linear', 'gamma': 0.2, 'C': 1.0, 'class_weight': 'balanced'}\n",
      "MAUC validación: 0.8693209290504456\n",
      "MAUC entrenamiento: 0.8725808262825012\n",
      "-----------------------------------\n",
      "-----------------------------------\n",
      "Evaluando modelo: svc\n",
      "Con los siguientes parámetros: {'kernel': 'linear', 'gamma': 0.7, 'C': 0.1, 'class_weight': 'balanced'}\n",
      "MAUC validación: 0.8693209290504456\n",
      "MAUC entrenamiento: 0.8725808262825012\n",
      "-----------------------------------\n",
      "-----------------------------------\n",
      "Evaluando modelo: svc\n",
      "Con los siguientes parámetros: {'kernel': 'linear', 'gamma': 0.7, 'C': 1.0, 'class_weight': 'balanced'}\n",
      "MAUC validación: 0.8693209290504456\n",
      "MAUC entrenamiento: 0.8725808262825012\n",
      "-----------------------------------\n",
      "-----------------------------------\n",
      "Evaluando modelo: svc\n",
      "Con los siguientes parámetros: {'kernel': 'linear', 'gamma': 1, 'C': 0.1, 'class_weight': 'balanced'}\n",
      "MAUC validación: 0.8693209290504456\n",
      "MAUC entrenamiento: 0.8725808262825012\n",
      "-----------------------------------\n",
      "-----------------------------------\n",
      "Evaluando modelo: svc\n",
      "Con los siguientes parámetros: {'kernel': 'linear', 'gamma': 1, 'C': 1.0, 'class_weight': 'balanced'}\n",
      "MAUC validación: 0.8693209290504456\n",
      "MAUC entrenamiento: 0.8725808262825012\n",
      "-----------------------------------\n",
      "-----------------------------------\n",
      "Evaluando modelo: svc\n",
      "Con los siguientes parámetros: {'kernel': 'poly', 'gamma': 'auto', 'C': 0.1, 'class_weight': 'balanced'}\n",
      "MAUC validación: 0.7686917781829834\n",
      "MAUC entrenamiento: 0.9317566752433777\n",
      "-----------------------------------\n",
      "-----------------------------------\n",
      "Evaluando modelo: svc\n",
      "Con los siguientes parámetros: {'kernel': 'poly', 'gamma': 'auto', 'C': 1.0, 'class_weight': 'balanced'}\n",
      "MAUC validación: 0.7686917781829834\n",
      "MAUC entrenamiento: 0.9317566752433777\n",
      "-----------------------------------\n",
      "-----------------------------------\n",
      "Evaluando modelo: svc\n",
      "Con los siguientes parámetros: {'kernel': 'poly', 'gamma': 0.2, 'C': 0.1, 'class_weight': 'balanced'}\n",
      "MAUC validación: 0.7686917781829834\n",
      "MAUC entrenamiento: 0.9317566752433777\n",
      "-----------------------------------\n",
      "-----------------------------------\n",
      "Evaluando modelo: svc\n",
      "Con los siguientes parámetros: {'kernel': 'poly', 'gamma': 0.2, 'C': 1.0, 'class_weight': 'balanced'}\n",
      "MAUC validación: 0.7686917781829834\n",
      "MAUC entrenamiento: 0.9317566752433777\n",
      "-----------------------------------\n",
      "-----------------------------------\n",
      "Evaluando modelo: svc\n",
      "Con los siguientes parámetros: {'kernel': 'poly', 'gamma': 0.7, 'C': 0.1, 'class_weight': 'balanced'}\n",
      "MAUC validación: 0.7686917781829834\n",
      "MAUC entrenamiento: 0.9317566752433777\n",
      "-----------------------------------\n",
      "-----------------------------------\n",
      "Evaluando modelo: svc\n",
      "Con los siguientes parámetros: {'kernel': 'poly', 'gamma': 0.7, 'C': 1.0, 'class_weight': 'balanced'}\n",
      "MAUC validación: 0.7686917781829834\n",
      "MAUC entrenamiento: 0.9317566752433777\n",
      "-----------------------------------\n",
      "-----------------------------------\n",
      "Evaluando modelo: svc\n",
      "Con los siguientes parámetros: {'kernel': 'poly', 'gamma': 1, 'C': 0.1, 'class_weight': 'balanced'}\n",
      "MAUC validación: 0.7686917781829834\n",
      "MAUC entrenamiento: 0.9317566752433777\n",
      "-----------------------------------\n",
      "-----------------------------------\n",
      "Evaluando modelo: svc\n",
      "Con los siguientes parámetros: {'kernel': 'poly', 'gamma': 1, 'C': 1.0, 'class_weight': 'balanced'}\n",
      "MAUC validación: 0.7686917781829834\n",
      "MAUC entrenamiento: 0.9317566752433777\n",
      "-----------------------------------\n",
      "-----------------------------------\n",
      "Evaluando modelo: svc\n",
      "Con los siguientes parámetros: {'kernel': 'sigmoid', 'gamma': 'auto', 'C': 0.1, 'class_weight': 'balanced'}\n",
      "MAUC validación: 0.7820079326629639\n",
      "MAUC entrenamiento: 0.7264847755432129\n",
      "-----------------------------------\n",
      "-----------------------------------\n",
      "Evaluando modelo: svc\n",
      "Con los siguientes parámetros: {'kernel': 'sigmoid', 'gamma': 'auto', 'C': 1.0, 'class_weight': 'balanced'}\n",
      "MAUC validación: 0.7570748329162598\n",
      "MAUC entrenamiento: 0.7067610621452332\n",
      "-----------------------------------\n",
      "-----------------------------------\n",
      "Evaluando modelo: svc\n",
      "Con los siguientes parámetros: {'kernel': 'sigmoid', 'gamma': 0.2, 'C': 0.1, 'class_weight': 'balanced'}\n",
      "MAUC validación: 0.7582810521125793\n",
      "MAUC entrenamiento: 0.7130840420722961\n",
      "-----------------------------------\n",
      "-----------------------------------\n",
      "Evaluando modelo: svc\n",
      "Con los siguientes parámetros: {'kernel': 'sigmoid', 'gamma': 0.2, 'C': 1.0, 'class_weight': 'balanced'}\n",
      "MAUC validación: 0.7343223690986633\n",
      "MAUC entrenamiento: 0.6911793351173401\n",
      "-----------------------------------\n",
      "-----------------------------------\n",
      "Evaluando modelo: svc\n",
      "Con los siguientes parámetros: {'kernel': 'sigmoid', 'gamma': 0.7, 'C': 0.1, 'class_weight': 'balanced'}\n",
      "MAUC validación: 0.7463462352752686\n",
      "MAUC entrenamiento: 0.7203494906425476\n",
      "-----------------------------------\n",
      "-----------------------------------\n",
      "Evaluando modelo: svc\n",
      "Con los siguientes parámetros: {'kernel': 'sigmoid', 'gamma': 0.7, 'C': 1.0, 'class_weight': 'balanced'}\n",
      "MAUC validación: 0.7229321002960205\n",
      "MAUC entrenamiento: 0.6948726773262024\n",
      "-----------------------------------\n",
      "-----------------------------------\n",
      "Evaluando modelo: svc\n",
      "Con los siguientes parámetros: {'kernel': 'sigmoid', 'gamma': 1, 'C': 0.1, 'class_weight': 'balanced'}\n",
      "MAUC validación: 0.7463462352752686\n",
      "MAUC entrenamiento: 0.7206875681877136\n",
      "-----------------------------------\n",
      "-----------------------------------\n",
      "Evaluando modelo: svc\n",
      "Con los siguientes parámetros: {'kernel': 'sigmoid', 'gamma': 1, 'C': 1.0, 'class_weight': 'balanced'}\n",
      "MAUC validación: 0.7240214347839355\n",
      "MAUC entrenamiento: 0.6931824088096619\n",
      "-----------------------------------\n",
      "-----------------------------------\n",
      "Evaluando modelo: forest\n",
      "Con los siguientes parámetros: {'max_depth': 3, 'n_estimators': 10, 'class_weight': 'balanced'}\n",
      "MAUC validación: 0.8462457060813904\n",
      "MAUC entrenamiento: 0.8740847706794739\n",
      "-----------------------------------\n",
      "-----------------------------------\n",
      "Evaluando modelo: forest\n",
      "Con los siguientes parámetros: {'max_depth': 3, 'n_estimators': 50, 'class_weight': 'balanced'}\n",
      "MAUC validación: 0.8564121127128601\n",
      "MAUC entrenamiento: 0.8815512657165527\n",
      "-----------------------------------\n",
      "-----------------------------------\n",
      "Evaluando modelo: forest\n",
      "Con los siguientes parámetros: {'max_depth': 3, 'n_estimators': 100, 'class_weight': 'balanced'}\n",
      "MAUC validación: 0.8586294054985046\n",
      "MAUC entrenamiento: 0.8773760795593262\n",
      "-----------------------------------\n",
      "-----------------------------------\n",
      "Evaluando modelo: forest\n",
      "Con los siguientes parámetros: {'max_depth': 3, 'n_estimators': 150, 'class_weight': 'balanced'}\n",
      "MAUC validación: 0.852551281452179\n",
      "MAUC entrenamiento: 0.8774324059486389\n",
      "-----------------------------------\n",
      "-----------------------------------\n",
      "Evaluando modelo: forest\n",
      "Con los siguientes parámetros: {'max_depth': 3, 'n_estimators': 200, 'class_weight': 'balanced'}\n",
      "MAUC validación: 0.8589741587638855\n",
      "MAUC entrenamiento: 0.8804984092712402\n",
      "-----------------------------------\n",
      "-----------------------------------\n",
      "Evaluando modelo: forest\n",
      "Con los siguientes parámetros: {'max_depth': 5, 'n_estimators': 10, 'class_weight': 'balanced'}\n",
      "MAUC validación: 0.8118459582328796\n",
      "MAUC entrenamiento: 0.9012443423271179\n",
      "-----------------------------------\n",
      "-----------------------------------\n",
      "Evaluando modelo: forest\n",
      "Con los siguientes parámetros: {'max_depth': 5, 'n_estimators': 50, 'class_weight': 'balanced'}\n"
     ]
    },
    {
     "name": "stdout",
     "output_type": "stream",
     "text": [
      "MAUC validación: 0.8392705917358398\n",
      "MAUC entrenamiento: 0.9136271476745605\n",
      "-----------------------------------\n",
      "-----------------------------------\n",
      "Evaluando modelo: forest\n",
      "Con los siguientes parámetros: {'max_depth': 5, 'n_estimators': 100, 'class_weight': 'balanced'}\n",
      "MAUC validación: 0.8257970213890076\n",
      "MAUC entrenamiento: 0.913668155670166\n",
      "-----------------------------------\n",
      "-----------------------------------\n",
      "Evaluando modelo: forest\n",
      "Con los siguientes parámetros: {'max_depth': 5, 'n_estimators': 150, 'class_weight': 'balanced'}\n",
      "MAUC validación: 0.8591362833976746\n",
      "MAUC entrenamiento: 0.9217672944068909\n",
      "-----------------------------------\n",
      "-----------------------------------\n",
      "Evaluando modelo: forest\n",
      "Con los siguientes parámetros: {'max_depth': 5, 'n_estimators': 200, 'class_weight': 'balanced'}\n",
      "MAUC validación: 0.8434364199638367\n",
      "MAUC entrenamiento: 0.9165536761283875\n",
      "-----------------------------------\n",
      "-----------------------------------\n",
      "Evaluando modelo: forest\n",
      "Con los siguientes parámetros: {'max_depth': 7, 'n_estimators': 10, 'class_weight': 'balanced'}\n",
      "MAUC validación: 0.8078339695930481\n",
      "MAUC entrenamiento: 0.9084579348564148\n",
      "-----------------------------------\n",
      "-----------------------------------\n",
      "Evaluando modelo: forest\n",
      "Con los siguientes parámetros: {'max_depth': 7, 'n_estimators': 50, 'class_weight': 'balanced'}\n",
      "MAUC validación: 0.7963960766792297\n",
      "MAUC entrenamiento: 0.9270095229148865\n",
      "-----------------------------------\n",
      "-----------------------------------\n",
      "Evaluando modelo: forest\n",
      "Con los siguientes parámetros: {'max_depth': 7, 'n_estimators': 100, 'class_weight': 'balanced'}\n",
      "MAUC validación: 0.8086177706718445\n",
      "MAUC entrenamiento: 0.9329155087471008\n",
      "-----------------------------------\n",
      "-----------------------------------\n",
      "Evaluando modelo: forest\n",
      "Con los siguientes parámetros: {'max_depth': 7, 'n_estimators': 150, 'class_weight': 'balanced'}\n",
      "MAUC validación: 0.80544513463974\n",
      "MAUC entrenamiento: 0.9309700131416321\n",
      "-----------------------------------\n",
      "-----------------------------------\n",
      "Evaluando modelo: forest\n",
      "Con los siguientes parámetros: {'max_depth': 7, 'n_estimators': 200, 'class_weight': 'balanced'}\n",
      "MAUC validación: 0.8170461058616638\n",
      "MAUC entrenamiento: 0.9356454014778137\n",
      "-----------------------------------\n",
      "-----------------------------------\n",
      "Evaluando modelo: knn\n",
      "Con los siguientes parámetros: {'n_neighbors': 3}\n",
      "MAUC validación: 0.7954416275024414\n",
      "MAUC entrenamiento: 0.8488218188285828\n",
      "-----------------------------------\n",
      "-----------------------------------\n",
      "Evaluando modelo: knn\n",
      "Con los siguientes parámetros: {'n_neighbors': 5}\n",
      "MAUC validación: 0.7880941033363342\n",
      "MAUC entrenamiento: 0.8084209561347961\n",
      "-----------------------------------\n",
      "-----------------------------------\n",
      "Evaluando modelo: knn\n",
      "Con los siguientes parámetros: {'n_neighbors': 7}\n",
      "MAUC validación: 0.7874720692634583\n",
      "MAUC entrenamiento: 0.7949467301368713\n",
      "-----------------------------------\n",
      "-----------------------------------\n",
      "Evaluando modelo: tree\n",
      "Con los siguientes parámetros: {'max_depth': 3, 'class_weight': 'balanced'}\n",
      "MAUC validación: 0.8376050591468811\n",
      "MAUC entrenamiento: 0.8552078604698181\n",
      "-----------------------------------\n",
      "-----------------------------------\n",
      "Evaluando modelo: tree\n",
      "Con los siguientes parámetros: {'max_depth': 5, 'class_weight': 'balanced'}\n",
      "MAUC validación: 0.8178644776344299\n",
      "MAUC entrenamiento: 0.8961412906646729\n",
      "-----------------------------------\n",
      "-----------------------------------\n",
      "Evaluando modelo: tree\n",
      "Con los siguientes parámetros: {'max_depth': 7, 'class_weight': 'balanced'}\n",
      "MAUC validación: 0.7928895950317383\n",
      "MAUC entrenamiento: 0.9116747975349426\n",
      "-----------------------------------\n",
      "###########################################################\n",
      "Probando hiperparámetros: n_comp: 25,umbral: 0\n",
      "###########################################################\n",
      "-----------------------------------\n",
      "Evaluando modelo: svc\n",
      "Con los siguientes parámetros: {'kernel': 'linear', 'gamma': 'auto', 'C': 0.1, 'class_weight': 'balanced'}\n",
      "MAUC validación: 0.8710980415344238\n",
      "MAUC entrenamiento: 0.8969655632972717\n",
      "-----------------------------------\n",
      "-----------------------------------\n",
      "Evaluando modelo: svc\n",
      "Con los siguientes parámetros: {'kernel': 'linear', 'gamma': 'auto', 'C': 1.0, 'class_weight': 'balanced'}\n",
      "MAUC validación: 0.8772709965705872\n",
      "MAUC entrenamiento: 0.898496150970459\n",
      "-----------------------------------\n",
      "-----------------------------------\n",
      "Evaluando modelo: svc\n",
      "Con los siguientes parámetros: {'kernel': 'linear', 'gamma': 0.2, 'C': 0.1, 'class_weight': 'balanced'}\n",
      "MAUC validación: 0.8710980415344238\n",
      "MAUC entrenamiento: 0.8969655632972717\n",
      "-----------------------------------\n",
      "-----------------------------------\n",
      "Evaluando modelo: svc\n",
      "Con los siguientes parámetros: {'kernel': 'linear', 'gamma': 0.2, 'C': 1.0, 'class_weight': 'balanced'}\n",
      "MAUC validación: 0.8772709965705872\n",
      "MAUC entrenamiento: 0.898496150970459\n",
      "-----------------------------------\n",
      "-----------------------------------\n",
      "Evaluando modelo: svc\n",
      "Con los siguientes parámetros: {'kernel': 'linear', 'gamma': 0.7, 'C': 0.1, 'class_weight': 'balanced'}\n",
      "MAUC validación: 0.8710980415344238\n",
      "MAUC entrenamiento: 0.8969655632972717\n",
      "-----------------------------------\n",
      "-----------------------------------\n",
      "Evaluando modelo: svc\n",
      "Con los siguientes parámetros: {'kernel': 'linear', 'gamma': 0.7, 'C': 1.0, 'class_weight': 'balanced'}\n",
      "MAUC validación: 0.8772709965705872\n",
      "MAUC entrenamiento: 0.898496150970459\n",
      "-----------------------------------\n",
      "-----------------------------------\n",
      "Evaluando modelo: svc\n",
      "Con los siguientes parámetros: {'kernel': 'linear', 'gamma': 1, 'C': 0.1, 'class_weight': 'balanced'}\n",
      "MAUC validación: 0.8710980415344238\n",
      "MAUC entrenamiento: 0.8969655632972717\n",
      "-----------------------------------\n",
      "-----------------------------------\n",
      "Evaluando modelo: svc\n",
      "Con los siguientes parámetros: {'kernel': 'linear', 'gamma': 1, 'C': 1.0, 'class_weight': 'balanced'}\n",
      "MAUC validación: 0.8772709965705872\n",
      "MAUC entrenamiento: 0.898496150970459\n",
      "-----------------------------------\n",
      "-----------------------------------\n",
      "Evaluando modelo: svc\n",
      "Con los siguientes parámetros: {'kernel': 'poly', 'gamma': 'auto', 'C': 0.1, 'class_weight': 'balanced'}\n",
      "MAUC validación: 0.744843065738678\n",
      "MAUC entrenamiento: 0.9260655045509338\n",
      "-----------------------------------\n",
      "-----------------------------------\n",
      "Evaluando modelo: svc\n",
      "Con los siguientes parámetros: {'kernel': 'poly', 'gamma': 'auto', 'C': 1.0, 'class_weight': 'balanced'}\n",
      "MAUC validación: 0.744843065738678\n",
      "MAUC entrenamiento: 0.9260655045509338\n",
      "-----------------------------------\n",
      "-----------------------------------\n",
      "Evaluando modelo: svc\n",
      "Con los siguientes parámetros: {'kernel': 'poly', 'gamma': 0.2, 'C': 0.1, 'class_weight': 'balanced'}\n",
      "MAUC validación: 0.744843065738678\n",
      "MAUC entrenamiento: 0.9260655045509338\n",
      "-----------------------------------\n",
      "-----------------------------------\n",
      "Evaluando modelo: svc\n",
      "Con los siguientes parámetros: {'kernel': 'poly', 'gamma': 0.2, 'C': 1.0, 'class_weight': 'balanced'}\n",
      "MAUC validación: 0.744843065738678\n",
      "MAUC entrenamiento: 0.9260655045509338\n",
      "-----------------------------------\n",
      "-----------------------------------\n",
      "Evaluando modelo: svc\n",
      "Con los siguientes parámetros: {'kernel': 'poly', 'gamma': 0.7, 'C': 0.1, 'class_weight': 'balanced'}\n",
      "MAUC validación: 0.744843065738678\n",
      "MAUC entrenamiento: 0.9260655045509338\n",
      "-----------------------------------\n",
      "-----------------------------------\n",
      "Evaluando modelo: svc\n",
      "Con los siguientes parámetros: {'kernel': 'poly', 'gamma': 0.7, 'C': 1.0, 'class_weight': 'balanced'}\n",
      "MAUC validación: 0.744843065738678\n",
      "MAUC entrenamiento: 0.9260655045509338\n",
      "-----------------------------------\n",
      "-----------------------------------\n",
      "Evaluando modelo: svc\n",
      "Con los siguientes parámetros: {'kernel': 'poly', 'gamma': 1, 'C': 0.1, 'class_weight': 'balanced'}\n",
      "MAUC validación: 0.744843065738678\n",
      "MAUC entrenamiento: 0.9260655045509338\n",
      "-----------------------------------\n",
      "-----------------------------------\n",
      "Evaluando modelo: svc\n",
      "Con los siguientes parámetros: {'kernel': 'poly', 'gamma': 1, 'C': 1.0, 'class_weight': 'balanced'}\n",
      "MAUC validación: 0.744843065738678\n",
      "MAUC entrenamiento: 0.9260655045509338\n",
      "-----------------------------------\n",
      "-----------------------------------\n",
      "Evaluando modelo: svc\n",
      "Con los siguientes parámetros: {'kernel': 'sigmoid', 'gamma': 'auto', 'C': 0.1, 'class_weight': 'balanced'}\n",
      "MAUC validación: 0.7932667136192322\n",
      "MAUC entrenamiento: 0.7509450316429138\n",
      "-----------------------------------\n",
      "-----------------------------------\n",
      "Evaluando modelo: svc\n",
      "Con los siguientes parámetros: {'kernel': 'sigmoid', 'gamma': 'auto', 'C': 1.0, 'class_weight': 'balanced'}\n"
     ]
    },
    {
     "name": "stdout",
     "output_type": "stream",
     "text": [
      "MAUC validación: 0.7692591547966003\n",
      "MAUC entrenamiento: 0.7286181449890137\n",
      "-----------------------------------\n",
      "-----------------------------------\n",
      "Evaluando modelo: svc\n",
      "Con los siguientes parámetros: {'kernel': 'sigmoid', 'gamma': 0.2, 'C': 0.1, 'class_weight': 'balanced'}\n",
      "MAUC validación: 0.7942037582397461\n",
      "MAUC entrenamiento: 0.7533068656921387\n",
      "-----------------------------------\n",
      "-----------------------------------\n",
      "Evaluando modelo: svc\n",
      "Con los siguientes parámetros: {'kernel': 'sigmoid', 'gamma': 0.2, 'C': 1.0, 'class_weight': 'balanced'}\n",
      "MAUC validación: 0.7565944194793701\n",
      "MAUC entrenamiento: 0.7222256660461426\n",
      "-----------------------------------\n",
      "-----------------------------------\n",
      "Evaluando modelo: svc\n",
      "Con los siguientes parámetros: {'kernel': 'sigmoid', 'gamma': 0.7, 'C': 0.1, 'class_weight': 'balanced'}\n",
      "MAUC validación: 0.8097606301307678\n",
      "MAUC entrenamiento: 0.7616086602210999\n",
      "-----------------------------------\n",
      "-----------------------------------\n",
      "Evaluando modelo: svc\n",
      "Con los siguientes parámetros: {'kernel': 'sigmoid', 'gamma': 0.7, 'C': 1.0, 'class_weight': 'balanced'}\n",
      "MAUC validación: 0.7511770725250244\n",
      "MAUC entrenamiento: 0.7189216613769531\n",
      "-----------------------------------\n",
      "-----------------------------------\n",
      "Evaluando modelo: svc\n",
      "Con los siguientes parámetros: {'kernel': 'sigmoid', 'gamma': 1, 'C': 0.1, 'class_weight': 'balanced'}\n",
      "MAUC validación: 0.8038169741630554\n",
      "MAUC entrenamiento: 0.7581253051757812\n",
      "-----------------------------------\n",
      "-----------------------------------\n",
      "Evaluando modelo: svc\n",
      "Con los siguientes parámetros: {'kernel': 'sigmoid', 'gamma': 1, 'C': 1.0, 'class_weight': 'balanced'}\n",
      "MAUC validación: 0.7489984035491943\n",
      "MAUC entrenamiento: 0.7266470789909363\n",
      "-----------------------------------\n",
      "-----------------------------------\n",
      "Evaluando modelo: forest\n",
      "Con los siguientes parámetros: {'max_depth': 3, 'n_estimators': 10, 'class_weight': 'balanced'}\n",
      "MAUC validación: 0.8242203593254089\n",
      "MAUC entrenamiento: 0.8731064200401306\n",
      "-----------------------------------\n",
      "-----------------------------------\n",
      "Evaluando modelo: forest\n",
      "Con los siguientes parámetros: {'max_depth': 3, 'n_estimators': 50, 'class_weight': 'balanced'}\n",
      "MAUC validación: 0.8356196880340576\n",
      "MAUC entrenamiento: 0.8969626426696777\n",
      "-----------------------------------\n",
      "-----------------------------------\n",
      "Evaluando modelo: forest\n",
      "Con los siguientes parámetros: {'max_depth': 3, 'n_estimators': 100, 'class_weight': 'balanced'}\n",
      "MAUC validación: 0.8487111926078796\n",
      "MAUC entrenamiento: 0.9012158513069153\n",
      "-----------------------------------\n",
      "-----------------------------------\n",
      "Evaluando modelo: forest\n",
      "Con los siguientes parámetros: {'max_depth': 3, 'n_estimators': 150, 'class_weight': 'balanced'}\n",
      "MAUC validación: 0.8555338978767395\n",
      "MAUC entrenamiento: 0.898463249206543\n",
      "-----------------------------------\n",
      "-----------------------------------\n",
      "Evaluando modelo: forest\n",
      "Con los siguientes parámetros: {'max_depth': 3, 'n_estimators': 200, 'class_weight': 'balanced'}\n",
      "MAUC validación: 0.8531160950660706\n",
      "MAUC entrenamiento: 0.9002016186714172\n",
      "-----------------------------------\n",
      "-----------------------------------\n",
      "Evaluando modelo: forest\n",
      "Con los siguientes parámetros: {'max_depth': 5, 'n_estimators': 10, 'class_weight': 'balanced'}\n",
      "MAUC validación: 0.8267907500267029\n",
      "MAUC entrenamiento: 0.9127454161643982\n",
      "-----------------------------------\n",
      "-----------------------------------\n",
      "Evaluando modelo: forest\n",
      "Con los siguientes parámetros: {'max_depth': 5, 'n_estimators': 50, 'class_weight': 'balanced'}\n",
      "MAUC validación: 0.8308138847351074\n",
      "MAUC entrenamiento: 0.9276399612426758\n",
      "-----------------------------------\n",
      "-----------------------------------\n",
      "Evaluando modelo: forest\n",
      "Con los siguientes parámetros: {'max_depth': 5, 'n_estimators': 100, 'class_weight': 'balanced'}\n",
      "MAUC validación: 0.8268672823905945\n",
      "MAUC entrenamiento: 0.9268069863319397\n",
      "-----------------------------------\n",
      "-----------------------------------\n",
      "Evaluando modelo: forest\n",
      "Con los siguientes parámetros: {'max_depth': 5, 'n_estimators': 150, 'class_weight': 'balanced'}\n",
      "MAUC validación: 0.8220998644828796\n",
      "MAUC entrenamiento: 0.9250483512878418\n",
      "-----------------------------------\n",
      "-----------------------------------\n",
      "Evaluando modelo: forest\n",
      "Con los siguientes parámetros: {'max_depth': 5, 'n_estimators': 200, 'class_weight': 'balanced'}\n",
      "MAUC validación: 0.8215742111206055\n",
      "MAUC entrenamiento: 0.923126757144928\n",
      "-----------------------------------\n",
      "-----------------------------------\n",
      "Evaluando modelo: forest\n",
      "Con los siguientes parámetros: {'max_depth': 7, 'n_estimators': 10, 'class_weight': 'balanced'}\n",
      "MAUC validación: 0.7754231095314026\n",
      "MAUC entrenamiento: 0.9165875911712646\n",
      "-----------------------------------\n",
      "-----------------------------------\n",
      "Evaluando modelo: forest\n",
      "Con los siguientes parámetros: {'max_depth': 7, 'n_estimators': 50, 'class_weight': 'balanced'}\n",
      "MAUC validación: 0.8158137798309326\n",
      "MAUC entrenamiento: 0.9372221827507019\n",
      "-----------------------------------\n",
      "-----------------------------------\n",
      "Evaluando modelo: forest\n",
      "Con los siguientes parámetros: {'max_depth': 7, 'n_estimators': 100, 'class_weight': 'balanced'}\n",
      "MAUC validación: 0.8006576895713806\n",
      "MAUC entrenamiento: 0.9314098954200745\n",
      "-----------------------------------\n",
      "-----------------------------------\n",
      "Evaluando modelo: forest\n",
      "Con los siguientes parámetros: {'max_depth': 7, 'n_estimators': 150, 'class_weight': 'balanced'}\n",
      "MAUC validación: 0.8063730597496033\n",
      "MAUC entrenamiento: 0.9349867701530457\n",
      "-----------------------------------\n",
      "-----------------------------------\n",
      "Evaluando modelo: forest\n",
      "Con los siguientes parámetros: {'max_depth': 7, 'n_estimators': 200, 'class_weight': 'balanced'}\n",
      "MAUC validación: 0.8141987919807434\n",
      "MAUC entrenamiento: 0.9365150928497314\n",
      "-----------------------------------\n",
      "-----------------------------------\n",
      "Evaluando modelo: knn\n",
      "Con los siguientes parámetros: {'n_neighbors': 3}\n",
      "MAUC validación: 0.7975823283195496\n",
      "MAUC entrenamiento: 0.856555700302124\n",
      "-----------------------------------\n",
      "-----------------------------------\n",
      "Evaluando modelo: knn\n",
      "Con los siguientes parámetros: {'n_neighbors': 5}\n",
      "MAUC validación: 0.8011768460273743\n",
      "MAUC entrenamiento: 0.8333731293678284\n",
      "-----------------------------------\n",
      "-----------------------------------\n",
      "Evaluando modelo: knn\n",
      "Con los siguientes parámetros: {'n_neighbors': 7}\n",
      "MAUC validación: 0.7880286574363708\n",
      "MAUC entrenamiento: 0.8058746457099915\n",
      "-----------------------------------\n",
      "-----------------------------------\n",
      "Evaluando modelo: tree\n",
      "Con los siguientes parámetros: {'max_depth': 3, 'class_weight': 'balanced'}\n",
      "MAUC validación: 0.828345775604248\n",
      "MAUC entrenamiento: 0.8665413856506348\n",
      "-----------------------------------\n",
      "-----------------------------------\n",
      "Evaluando modelo: tree\n",
      "Con los siguientes parámetros: {'max_depth': 5, 'class_weight': 'balanced'}\n",
      "MAUC validación: 0.8423084616661072\n",
      "MAUC entrenamiento: 0.9047029614448547\n",
      "-----------------------------------\n",
      "-----------------------------------\n",
      "Evaluando modelo: tree\n",
      "Con los siguientes parámetros: {'max_depth': 7, 'class_weight': 'balanced'}\n",
      "MAUC validación: 0.8313682079315186\n",
      "MAUC entrenamiento: 0.9311139583587646\n",
      "-----------------------------------\n",
      "###########################################################\n",
      "Probando hiperparámetros: n_comp: 150,umbral: 0\n",
      "###########################################################\n",
      "-----------------------------------\n",
      "Evaluando modelo: svc\n",
      "Con los siguientes parámetros: {'kernel': 'linear', 'gamma': 'auto', 'C': 0.1, 'class_weight': 'balanced'}\n",
      "MAUC validación: 0.7494774460792542\n",
      "MAUC entrenamiento: 0.9264326095581055\n",
      "-----------------------------------\n",
      "-----------------------------------\n",
      "Evaluando modelo: svc\n",
      "Con los siguientes parámetros: {'kernel': 'linear', 'gamma': 'auto', 'C': 1.0, 'class_weight': 'balanced'}\n",
      "MAUC validación: 0.7494774460792542\n",
      "MAUC entrenamiento: 0.9264326095581055\n",
      "-----------------------------------\n",
      "-----------------------------------\n",
      "Evaluando modelo: svc\n",
      "Con los siguientes parámetros: {'kernel': 'linear', 'gamma': 0.2, 'C': 0.1, 'class_weight': 'balanced'}\n",
      "MAUC validación: 0.7494774460792542\n",
      "MAUC entrenamiento: 0.9264326095581055\n",
      "-----------------------------------\n",
      "-----------------------------------\n",
      "Evaluando modelo: svc\n",
      "Con los siguientes parámetros: {'kernel': 'linear', 'gamma': 0.2, 'C': 1.0, 'class_weight': 'balanced'}\n"
     ]
    },
    {
     "name": "stdout",
     "output_type": "stream",
     "text": [
      "MAUC validación: 0.7494774460792542\n",
      "MAUC entrenamiento: 0.9264326095581055\n",
      "-----------------------------------\n",
      "-----------------------------------\n",
      "Evaluando modelo: svc\n",
      "Con los siguientes parámetros: {'kernel': 'linear', 'gamma': 0.7, 'C': 0.1, 'class_weight': 'balanced'}\n",
      "MAUC validación: 0.7494774460792542\n",
      "MAUC entrenamiento: 0.9264326095581055\n",
      "-----------------------------------\n",
      "-----------------------------------\n",
      "Evaluando modelo: svc\n",
      "Con los siguientes parámetros: {'kernel': 'linear', 'gamma': 0.7, 'C': 1.0, 'class_weight': 'balanced'}\n",
      "MAUC validación: 0.7494774460792542\n",
      "MAUC entrenamiento: 0.9264326095581055\n",
      "-----------------------------------\n",
      "-----------------------------------\n",
      "Evaluando modelo: svc\n",
      "Con los siguientes parámetros: {'kernel': 'linear', 'gamma': 1, 'C': 0.1, 'class_weight': 'balanced'}\n",
      "MAUC validación: 0.7494774460792542\n",
      "MAUC entrenamiento: 0.9264326095581055\n",
      "-----------------------------------\n",
      "-----------------------------------\n",
      "Evaluando modelo: svc\n",
      "Con los siguientes parámetros: {'kernel': 'linear', 'gamma': 1, 'C': 1.0, 'class_weight': 'balanced'}\n",
      "MAUC validación: 0.7494774460792542\n",
      "MAUC entrenamiento: 0.9264326095581055\n",
      "-----------------------------------\n",
      "-----------------------------------\n",
      "Evaluando modelo: svc\n",
      "Con los siguientes parámetros: {'kernel': 'poly', 'gamma': 'auto', 'C': 0.1, 'class_weight': 'balanced'}\n",
      "MAUC validación: 0.6969878673553467\n",
      "MAUC entrenamiento: 0.9111902117729187\n",
      "-----------------------------------\n",
      "-----------------------------------\n",
      "Evaluando modelo: svc\n",
      "Con los siguientes parámetros: {'kernel': 'poly', 'gamma': 'auto', 'C': 1.0, 'class_weight': 'balanced'}\n",
      "MAUC validación: 0.6969878673553467\n",
      "MAUC entrenamiento: 0.9111902117729187\n",
      "-----------------------------------\n",
      "-----------------------------------\n",
      "Evaluando modelo: svc\n",
      "Con los siguientes parámetros: {'kernel': 'poly', 'gamma': 0.2, 'C': 0.1, 'class_weight': 'balanced'}\n",
      "MAUC validación: 0.6969878673553467\n",
      "MAUC entrenamiento: 0.9111902117729187\n",
      "-----------------------------------\n",
      "-----------------------------------\n",
      "Evaluando modelo: svc\n",
      "Con los siguientes parámetros: {'kernel': 'poly', 'gamma': 0.2, 'C': 1.0, 'class_weight': 'balanced'}\n",
      "MAUC validación: 0.6969878673553467\n",
      "MAUC entrenamiento: 0.9111902117729187\n",
      "-----------------------------------\n",
      "-----------------------------------\n",
      "Evaluando modelo: svc\n",
      "Con los siguientes parámetros: {'kernel': 'poly', 'gamma': 0.7, 'C': 0.1, 'class_weight': 'balanced'}\n",
      "MAUC validación: 0.6969878673553467\n",
      "MAUC entrenamiento: 0.9111902117729187\n",
      "-----------------------------------\n",
      "-----------------------------------\n",
      "Evaluando modelo: svc\n",
      "Con los siguientes parámetros: {'kernel': 'poly', 'gamma': 0.7, 'C': 1.0, 'class_weight': 'balanced'}\n",
      "MAUC validación: 0.6969878673553467\n",
      "MAUC entrenamiento: 0.9111902117729187\n",
      "-----------------------------------\n",
      "-----------------------------------\n",
      "Evaluando modelo: svc\n",
      "Con los siguientes parámetros: {'kernel': 'poly', 'gamma': 1, 'C': 0.1, 'class_weight': 'balanced'}\n",
      "MAUC validación: 0.6969878673553467\n",
      "MAUC entrenamiento: 0.9111902117729187\n",
      "-----------------------------------\n",
      "-----------------------------------\n",
      "Evaluando modelo: svc\n",
      "Con los siguientes parámetros: {'kernel': 'poly', 'gamma': 1, 'C': 1.0, 'class_weight': 'balanced'}\n",
      "MAUC validación: 0.6969878673553467\n",
      "MAUC entrenamiento: 0.9111902117729187\n",
      "-----------------------------------\n",
      "-----------------------------------\n",
      "Evaluando modelo: svc\n",
      "Con los siguientes parámetros: {'kernel': 'sigmoid', 'gamma': 'auto', 'C': 0.1, 'class_weight': 'balanced'}\n",
      "MAUC validación: 0.7952374815940857\n",
      "MAUC entrenamiento: 0.7397200465202332\n",
      "-----------------------------------\n",
      "-----------------------------------\n",
      "Evaluando modelo: svc\n",
      "Con los siguientes parámetros: {'kernel': 'sigmoid', 'gamma': 'auto', 'C': 1.0, 'class_weight': 'balanced'}\n",
      "MAUC validación: 0.8005585670471191\n",
      "MAUC entrenamiento: 0.7312746644020081\n",
      "-----------------------------------\n",
      "-----------------------------------\n",
      "Evaluando modelo: svc\n",
      "Con los siguientes parámetros: {'kernel': 'sigmoid', 'gamma': 0.2, 'C': 0.1, 'class_weight': 'balanced'}\n",
      "MAUC validación: 0.8014213442802429\n",
      "MAUC entrenamiento: 0.7436363101005554\n",
      "-----------------------------------\n",
      "-----------------------------------\n",
      "Evaluando modelo: svc\n",
      "Con los siguientes parámetros: {'kernel': 'sigmoid', 'gamma': 0.2, 'C': 1.0, 'class_weight': 'balanced'}\n",
      "MAUC validación: 0.7954397201538086\n",
      "MAUC entrenamiento: 0.7406170964241028\n",
      "-----------------------------------\n",
      "-----------------------------------\n",
      "Evaluando modelo: svc\n",
      "Con los siguientes parámetros: {'kernel': 'sigmoid', 'gamma': 0.7, 'C': 0.1, 'class_weight': 'balanced'}\n",
      "MAUC validación: 0.8210459351539612\n",
      "MAUC entrenamiento: 0.7488493919372559\n",
      "-----------------------------------\n",
      "-----------------------------------\n",
      "Evaluando modelo: svc\n",
      "Con los siguientes parámetros: {'kernel': 'sigmoid', 'gamma': 0.7, 'C': 1.0, 'class_weight': 'balanced'}\n",
      "MAUC validación: 0.8037559390068054\n",
      "MAUC entrenamiento: 0.7443609833717346\n",
      "-----------------------------------\n",
      "-----------------------------------\n",
      "Evaluando modelo: svc\n",
      "Con los siguientes parámetros: {'kernel': 'sigmoid', 'gamma': 1, 'C': 0.1, 'class_weight': 'balanced'}\n",
      "MAUC validación: 0.8166009783744812\n",
      "MAUC entrenamiento: 0.746135950088501\n",
      "-----------------------------------\n",
      "-----------------------------------\n",
      "Evaluando modelo: svc\n",
      "Con los siguientes parámetros: {'kernel': 'sigmoid', 'gamma': 1, 'C': 1.0, 'class_weight': 'balanced'}\n",
      "MAUC validación: 0.7841957211494446\n",
      "MAUC entrenamiento: 0.744968593120575\n",
      "-----------------------------------\n",
      "-----------------------------------\n",
      "Evaluando modelo: forest\n",
      "Con los siguientes parámetros: {'max_depth': 3, 'n_estimators': 10, 'class_weight': 'balanced'}\n",
      "MAUC validación: 0.7739505767822266\n",
      "MAUC entrenamiento: 0.8720720410346985\n",
      "-----------------------------------\n",
      "-----------------------------------\n",
      "Evaluando modelo: forest\n",
      "Con los siguientes parámetros: {'max_depth': 3, 'n_estimators': 50, 'class_weight': 'balanced'}\n",
      "MAUC validación: 0.8227687478065491\n",
      "MAUC entrenamiento: 0.9071493148803711\n",
      "-----------------------------------\n",
      "-----------------------------------\n",
      "Evaluando modelo: forest\n",
      "Con los siguientes parámetros: {'max_depth': 3, 'n_estimators': 100, 'class_weight': 'balanced'}\n",
      "MAUC validación: 0.7940360903739929\n",
      "MAUC entrenamiento: 0.8975915908813477\n",
      "-----------------------------------\n",
      "-----------------------------------\n",
      "Evaluando modelo: forest\n",
      "Con los siguientes parámetros: {'max_depth': 3, 'n_estimators': 150, 'class_weight': 'balanced'}\n",
      "MAUC validación: 0.7933862209320068\n",
      "MAUC entrenamiento: 0.9020602107048035\n",
      "-----------------------------------\n",
      "-----------------------------------\n",
      "Evaluando modelo: forest\n",
      "Con los siguientes parámetros: {'max_depth': 3, 'n_estimators': 200, 'class_weight': 'balanced'}\n",
      "MAUC validación: 0.7866973280906677\n",
      "MAUC entrenamiento: 0.8984925150871277\n",
      "-----------------------------------\n",
      "-----------------------------------\n",
      "Evaluando modelo: forest\n",
      "Con los siguientes parámetros: {'max_depth': 5, 'n_estimators': 10, 'class_weight': 'balanced'}\n",
      "MAUC validación: 0.7341279983520508\n",
      "MAUC entrenamiento: 0.8920448422431946\n",
      "-----------------------------------\n",
      "-----------------------------------\n",
      "Evaluando modelo: forest\n",
      "Con los siguientes parámetros: {'max_depth': 5, 'n_estimators': 50, 'class_weight': 'balanced'}\n",
      "MAUC validación: 0.7221336960792542\n",
      "MAUC entrenamiento: 0.8996527791023254\n",
      "-----------------------------------\n",
      "-----------------------------------\n",
      "Evaluando modelo: forest\n",
      "Con los siguientes parámetros: {'max_depth': 5, 'n_estimators': 100, 'class_weight': 'balanced'}\n",
      "MAUC validación: 0.7328155636787415\n",
      "MAUC entrenamiento: 0.9017589688301086\n",
      "-----------------------------------\n",
      "-----------------------------------\n",
      "Evaluando modelo: forest\n",
      "Con los siguientes parámetros: {'max_depth': 5, 'n_estimators': 150, 'class_weight': 'balanced'}\n",
      "MAUC validación: 0.7524526119232178\n",
      "MAUC entrenamiento: 0.9133558869361877\n",
      "-----------------------------------\n",
      "-----------------------------------\n",
      "Evaluando modelo: forest\n",
      "Con los siguientes parámetros: {'max_depth': 5, 'n_estimators': 200, 'class_weight': 'balanced'}\n",
      "MAUC validación: 0.7341632843017578\n",
      "MAUC entrenamiento: 0.9075002074241638\n",
      "-----------------------------------\n",
      "-----------------------------------\n",
      "Evaluando modelo: forest\n",
      "Con los siguientes parámetros: {'max_depth': 7, 'n_estimators': 10, 'class_weight': 'balanced'}\n",
      "MAUC validación: 0.6678612232208252\n",
      "MAUC entrenamiento: 0.8805773854255676\n",
      "-----------------------------------\n",
      "-----------------------------------\n",
      "Evaluando modelo: forest\n",
      "Con los siguientes parámetros: {'max_depth': 7, 'n_estimators': 50, 'class_weight': 'balanced'}\n"
     ]
    },
    {
     "name": "stdout",
     "output_type": "stream",
     "text": [
      "MAUC validación: 0.6777704358100891\n",
      "MAUC entrenamiento: 0.9008355140686035\n",
      "-----------------------------------\n",
      "-----------------------------------\n",
      "Evaluando modelo: forest\n",
      "Con los siguientes parámetros: {'max_depth': 7, 'n_estimators': 100, 'class_weight': 'balanced'}\n",
      "MAUC validación: 0.6820124983787537\n",
      "MAUC entrenamiento: 0.9063951373100281\n",
      "-----------------------------------\n",
      "-----------------------------------\n",
      "Evaluando modelo: forest\n",
      "Con los siguientes parámetros: {'max_depth': 7, 'n_estimators': 150, 'class_weight': 'balanced'}\n",
      "MAUC validación: 0.6640100479125977\n",
      "MAUC entrenamiento: 0.899656355381012\n",
      "-----------------------------------\n",
      "-----------------------------------\n",
      "Evaluando modelo: forest\n",
      "Con los siguientes parámetros: {'max_depth': 7, 'n_estimators': 200, 'class_weight': 'balanced'}\n",
      "MAUC validación: 0.6667613983154297\n",
      "MAUC entrenamiento: 0.9007296562194824\n",
      "-----------------------------------\n",
      "-----------------------------------\n",
      "Evaluando modelo: knn\n",
      "Con los siguientes parámetros: {'n_neighbors': 3}\n",
      "MAUC validación: 0.68479984998703\n",
      "MAUC entrenamiento: 0.7902467250823975\n",
      "-----------------------------------\n",
      "-----------------------------------\n",
      "Evaluando modelo: knn\n",
      "Con los siguientes parámetros: {'n_neighbors': 5}\n",
      "MAUC validación: 0.6959600448608398\n",
      "MAUC entrenamiento: 0.7511716485023499\n",
      "-----------------------------------\n",
      "-----------------------------------\n",
      "Evaluando modelo: knn\n",
      "Con los siguientes parámetros: {'n_neighbors': 7}\n",
      "MAUC validación: 0.6621330976486206\n",
      "MAUC entrenamiento: 0.7178452014923096\n",
      "-----------------------------------\n",
      "-----------------------------------\n",
      "Evaluando modelo: tree\n",
      "Con los siguientes parámetros: {'max_depth': 3, 'class_weight': 'balanced'}\n",
      "MAUC validación: 0.8401936888694763\n",
      "MAUC entrenamiento: 0.8731802105903625\n",
      "-----------------------------------\n",
      "-----------------------------------\n",
      "Evaluando modelo: tree\n",
      "Con los siguientes parámetros: {'max_depth': 5, 'class_weight': 'balanced'}\n",
      "MAUC validación: 0.7939946055412292\n",
      "MAUC entrenamiento: 0.90278559923172\n",
      "-----------------------------------\n",
      "-----------------------------------\n",
      "Evaluando modelo: tree\n",
      "Con los siguientes parámetros: {'max_depth': 7, 'class_weight': 'balanced'}\n",
      "MAUC validación: 0.7916937470436096\n",
      "MAUC entrenamiento: 0.918924868106842\n",
      "-----------------------------------\n",
      "###########################################################\n",
      "Probando hiperparámetros: n_comp: 600,umbral: 0\n",
      "###########################################################\n",
      "-----------------------------------\n",
      "Evaluando modelo: svc\n",
      "Con los siguientes parámetros: {'kernel': 'linear', 'gamma': 'auto', 'C': 0.1, 'class_weight': 'balanced'}\n",
      "MAUC validación: 0.8095375895500183\n",
      "MAUC entrenamiento: 0.9455177187919617\n",
      "-----------------------------------\n",
      "-----------------------------------\n",
      "Evaluando modelo: svc\n",
      "Con los siguientes parámetros: {'kernel': 'linear', 'gamma': 'auto', 'C': 1.0, 'class_weight': 'balanced'}\n",
      "MAUC validación: 0.8095375895500183\n",
      "MAUC entrenamiento: 0.9455177187919617\n",
      "-----------------------------------\n",
      "-----------------------------------\n",
      "Evaluando modelo: svc\n",
      "Con los siguientes parámetros: {'kernel': 'linear', 'gamma': 0.2, 'C': 0.1, 'class_weight': 'balanced'}\n",
      "MAUC validación: 0.8095375895500183\n",
      "MAUC entrenamiento: 0.9455177187919617\n",
      "-----------------------------------\n",
      "-----------------------------------\n",
      "Evaluando modelo: svc\n",
      "Con los siguientes parámetros: {'kernel': 'linear', 'gamma': 0.2, 'C': 1.0, 'class_weight': 'balanced'}\n",
      "MAUC validación: 0.8095375895500183\n",
      "MAUC entrenamiento: 0.9455177187919617\n",
      "-----------------------------------\n",
      "-----------------------------------\n",
      "Evaluando modelo: svc\n",
      "Con los siguientes parámetros: {'kernel': 'linear', 'gamma': 0.7, 'C': 0.1, 'class_weight': 'balanced'}\n",
      "MAUC validación: 0.8095375895500183\n",
      "MAUC entrenamiento: 0.9455177187919617\n",
      "-----------------------------------\n",
      "-----------------------------------\n",
      "Evaluando modelo: svc\n",
      "Con los siguientes parámetros: {'kernel': 'linear', 'gamma': 0.7, 'C': 1.0, 'class_weight': 'balanced'}\n",
      "MAUC validación: 0.8095375895500183\n",
      "MAUC entrenamiento: 0.9455177187919617\n",
      "-----------------------------------\n",
      "-----------------------------------\n",
      "Evaluando modelo: svc\n",
      "Con los siguientes parámetros: {'kernel': 'linear', 'gamma': 1, 'C': 0.1, 'class_weight': 'balanced'}\n",
      "MAUC validación: 0.8095375895500183\n",
      "MAUC entrenamiento: 0.9455177187919617\n",
      "-----------------------------------\n",
      "-----------------------------------\n",
      "Evaluando modelo: svc\n",
      "Con los siguientes parámetros: {'kernel': 'linear', 'gamma': 1, 'C': 1.0, 'class_weight': 'balanced'}\n",
      "MAUC validación: 0.8095375895500183\n",
      "MAUC entrenamiento: 0.9455177187919617\n",
      "-----------------------------------\n",
      "-----------------------------------\n",
      "Evaluando modelo: svc\n",
      "Con los siguientes parámetros: {'kernel': 'poly', 'gamma': 'auto', 'C': 0.1, 'class_weight': 'balanced'}\n",
      "MAUC validación: 0.5\n",
      "MAUC entrenamiento: 0.8531022667884827\n",
      "-----------------------------------\n",
      "-----------------------------------\n",
      "Evaluando modelo: svc\n",
      "Con los siguientes parámetros: {'kernel': 'poly', 'gamma': 'auto', 'C': 1.0, 'class_weight': 'balanced'}\n",
      "MAUC validación: 0.5\n",
      "MAUC entrenamiento: 0.8531022667884827\n",
      "-----------------------------------\n",
      "-----------------------------------\n",
      "Evaluando modelo: svc\n",
      "Con los siguientes parámetros: {'kernel': 'poly', 'gamma': 0.2, 'C': 0.1, 'class_weight': 'balanced'}\n",
      "MAUC validación: 0.5\n",
      "MAUC entrenamiento: 0.8531022667884827\n",
      "-----------------------------------\n",
      "-----------------------------------\n",
      "Evaluando modelo: svc\n",
      "Con los siguientes parámetros: {'kernel': 'poly', 'gamma': 0.2, 'C': 1.0, 'class_weight': 'balanced'}\n",
      "MAUC validación: 0.5\n",
      "MAUC entrenamiento: 0.8531022667884827\n",
      "-----------------------------------\n",
      "-----------------------------------\n",
      "Evaluando modelo: svc\n",
      "Con los siguientes parámetros: {'kernel': 'poly', 'gamma': 0.7, 'C': 0.1, 'class_weight': 'balanced'}\n",
      "MAUC validación: 0.5\n",
      "MAUC entrenamiento: 0.8531022667884827\n",
      "-----------------------------------\n",
      "-----------------------------------\n",
      "Evaluando modelo: svc\n",
      "Con los siguientes parámetros: {'kernel': 'poly', 'gamma': 0.7, 'C': 1.0, 'class_weight': 'balanced'}\n",
      "MAUC validación: 0.5\n",
      "MAUC entrenamiento: 0.8531022667884827\n",
      "-----------------------------------\n",
      "-----------------------------------\n",
      "Evaluando modelo: svc\n",
      "Con los siguientes parámetros: {'kernel': 'poly', 'gamma': 1, 'C': 0.1, 'class_weight': 'balanced'}\n",
      "MAUC validación: 0.5\n",
      "MAUC entrenamiento: 0.8531022667884827\n",
      "-----------------------------------\n",
      "-----------------------------------\n",
      "Evaluando modelo: svc\n",
      "Con los siguientes parámetros: {'kernel': 'poly', 'gamma': 1, 'C': 1.0, 'class_weight': 'balanced'}\n",
      "MAUC validación: 0.5\n",
      "MAUC entrenamiento: 0.8531022667884827\n",
      "-----------------------------------\n",
      "-----------------------------------\n",
      "Evaluando modelo: svc\n",
      "Con los siguientes parámetros: {'kernel': 'sigmoid', 'gamma': 'auto', 'C': 0.1, 'class_weight': 'balanced'}\n",
      "MAUC validación: 0.8213335871696472\n",
      "MAUC entrenamiento: 0.7784643769264221\n",
      "-----------------------------------\n",
      "-----------------------------------\n",
      "Evaluando modelo: svc\n",
      "Con los siguientes parámetros: {'kernel': 'sigmoid', 'gamma': 'auto', 'C': 1.0, 'class_weight': 'balanced'}\n",
      "MAUC validación: 0.7885848879814148\n",
      "MAUC entrenamiento: 0.7506111264228821\n",
      "-----------------------------------\n",
      "-----------------------------------\n",
      "Evaluando modelo: svc\n",
      "Con los siguientes parámetros: {'kernel': 'sigmoid', 'gamma': 0.2, 'C': 0.1, 'class_weight': 'balanced'}\n",
      "MAUC validación: 0.8148722648620605\n",
      "MAUC entrenamiento: 0.7717636227607727\n",
      "-----------------------------------\n",
      "-----------------------------------\n",
      "Evaluando modelo: svc\n",
      "Con los siguientes parámetros: {'kernel': 'sigmoid', 'gamma': 0.2, 'C': 1.0, 'class_weight': 'balanced'}\n",
      "MAUC validación: 0.7906951904296875\n",
      "MAUC entrenamiento: 0.7395510077476501\n",
      "-----------------------------------\n",
      "-----------------------------------\n",
      "Evaluando modelo: svc\n",
      "Con los siguientes parámetros: {'kernel': 'sigmoid', 'gamma': 0.7, 'C': 0.1, 'class_weight': 'balanced'}\n",
      "MAUC validación: 0.8427371978759766\n",
      "MAUC entrenamiento: 0.7783719897270203\n",
      "-----------------------------------\n",
      "-----------------------------------\n",
      "Evaluando modelo: svc\n",
      "Con los siguientes parámetros: {'kernel': 'sigmoid', 'gamma': 0.7, 'C': 1.0, 'class_weight': 'balanced'}\n",
      "MAUC validación: 0.810228168964386\n",
      "MAUC entrenamiento: 0.7661439776420593\n",
      "-----------------------------------\n",
      "-----------------------------------\n",
      "Evaluando modelo: svc\n",
      "Con los siguientes parámetros: {'kernel': 'sigmoid', 'gamma': 1, 'C': 0.1, 'class_weight': 'balanced'}\n"
     ]
    },
    {
     "name": "stdout",
     "output_type": "stream",
     "text": [
      "MAUC validación: 0.8421924710273743\n",
      "MAUC entrenamiento: 0.7791733145713806\n",
      "-----------------------------------\n",
      "-----------------------------------\n",
      "Evaluando modelo: svc\n",
      "Con los siguientes parámetros: {'kernel': 'sigmoid', 'gamma': 1, 'C': 1.0, 'class_weight': 'balanced'}\n",
      "MAUC validación: 0.810228168964386\n",
      "MAUC entrenamiento: 0.7664820551872253\n",
      "-----------------------------------\n",
      "-----------------------------------\n",
      "Evaluando modelo: forest\n",
      "Con los siguientes parámetros: {'max_depth': 3, 'n_estimators': 10, 'class_weight': 'balanced'}\n",
      "MAUC validación: 0.7186665534973145\n",
      "MAUC entrenamiento: 0.8408300280570984\n",
      "-----------------------------------\n",
      "-----------------------------------\n",
      "Evaluando modelo: forest\n",
      "Con los siguientes parámetros: {'max_depth': 3, 'n_estimators': 50, 'class_weight': 'balanced'}\n",
      "MAUC validación: 0.7362176775932312\n",
      "MAUC entrenamiento: 0.8840311169624329\n",
      "-----------------------------------\n",
      "-----------------------------------\n",
      "Evaluando modelo: forest\n",
      "Con los siguientes parámetros: {'max_depth': 3, 'n_estimators': 100, 'class_weight': 'balanced'}\n",
      "MAUC validación: 0.7286503314971924\n",
      "MAUC entrenamiento: 0.8870818018913269\n",
      "-----------------------------------\n",
      "-----------------------------------\n",
      "Evaluando modelo: forest\n",
      "Con los siguientes parámetros: {'max_depth': 3, 'n_estimators': 150, 'class_weight': 'balanced'}\n",
      "MAUC validación: 0.7359862327575684\n",
      "MAUC entrenamiento: 0.8932982087135315\n",
      "-----------------------------------\n",
      "-----------------------------------\n",
      "Evaluando modelo: forest\n",
      "Con los siguientes parámetros: {'max_depth': 3, 'n_estimators': 200, 'class_weight': 'balanced'}\n",
      "MAUC validación: 0.739791214466095\n",
      "MAUC entrenamiento: 0.8931562900543213\n",
      "-----------------------------------\n",
      "-----------------------------------\n",
      "Evaluando modelo: forest\n",
      "Con los siguientes parámetros: {'max_depth': 5, 'n_estimators': 10, 'class_weight': 'balanced'}\n",
      "MAUC validación: 0.6599611639976501\n",
      "MAUC entrenamiento: 0.8701029419898987\n",
      "-----------------------------------\n",
      "-----------------------------------\n",
      "Evaluando modelo: forest\n",
      "Con los siguientes parámetros: {'max_depth': 5, 'n_estimators': 50, 'class_weight': 'balanced'}\n",
      "MAUC validación: 0.6304615139961243\n",
      "MAUC entrenamiento: 0.8864192366600037\n",
      "-----------------------------------\n",
      "-----------------------------------\n",
      "Evaluando modelo: forest\n",
      "Con los siguientes parámetros: {'max_depth': 5, 'n_estimators': 100, 'class_weight': 'balanced'}\n",
      "MAUC validación: 0.698460578918457\n",
      "MAUC entrenamiento: 0.9088878035545349\n",
      "-----------------------------------\n",
      "-----------------------------------\n",
      "Evaluando modelo: forest\n",
      "Con los siguientes parámetros: {'max_depth': 5, 'n_estimators': 150, 'class_weight': 'balanced'}\n",
      "MAUC validación: 0.68733811378479\n",
      "MAUC entrenamiento: 0.9073031544685364\n",
      "-----------------------------------\n",
      "-----------------------------------\n",
      "Evaluando modelo: forest\n",
      "Con los siguientes parámetros: {'max_depth': 5, 'n_estimators': 200, 'class_weight': 'balanced'}\n",
      "MAUC validación: 0.6640620231628418\n",
      "MAUC entrenamiento: 0.8998871445655823\n",
      "-----------------------------------\n",
      "-----------------------------------\n",
      "Evaluando modelo: forest\n",
      "Con los siguientes parámetros: {'max_depth': 7, 'n_estimators': 10, 'class_weight': 'balanced'}\n",
      "MAUC validación: 0.6349828243255615\n",
      "MAUC entrenamiento: 0.8713496327400208\n",
      "-----------------------------------\n",
      "-----------------------------------\n",
      "Evaluando modelo: forest\n",
      "Con los siguientes parámetros: {'max_depth': 7, 'n_estimators': 50, 'class_weight': 'balanced'}\n",
      "MAUC validación: 0.5912639498710632\n",
      "MAUC entrenamiento: 0.8800247311592102\n",
      "-----------------------------------\n",
      "-----------------------------------\n",
      "Evaluando modelo: forest\n",
      "Con los siguientes parámetros: {'max_depth': 7, 'n_estimators': 100, 'class_weight': 'balanced'}\n",
      "MAUC validación: 0.6101329922676086\n",
      "MAUC entrenamiento: 0.8862043023109436\n",
      "-----------------------------------\n",
      "-----------------------------------\n",
      "Evaluando modelo: forest\n",
      "Con los siguientes parámetros: {'max_depth': 7, 'n_estimators': 150, 'class_weight': 'balanced'}\n",
      "MAUC validación: 0.6413214802742004\n",
      "MAUC entrenamiento: 0.8959525227546692\n",
      "-----------------------------------\n",
      "-----------------------------------\n",
      "Evaluando modelo: forest\n",
      "Con los siguientes parámetros: {'max_depth': 7, 'n_estimators': 200, 'class_weight': 'balanced'}\n",
      "MAUC validación: 0.6112337112426758\n",
      "MAUC entrenamiento: 0.8865041136741638\n",
      "-----------------------------------\n",
      "-----------------------------------\n",
      "Evaluando modelo: knn\n",
      "Con los siguientes parámetros: {'n_neighbors': 3}\n",
      "MAUC validación: 0.5\n",
      "MAUC entrenamiento: 0.5579884052276611\n",
      "-----------------------------------\n",
      "-----------------------------------\n",
      "Evaluando modelo: knn\n",
      "Con los siguientes parámetros: {'n_neighbors': 5}\n",
      "MAUC validación: 0.5\n",
      "MAUC entrenamiento: 0.5\n",
      "-----------------------------------\n",
      "-----------------------------------\n",
      "Evaluando modelo: knn\n",
      "Con los siguientes parámetros: {'n_neighbors': 7}\n",
      "MAUC validación: 0.5\n",
      "MAUC entrenamiento: 0.5\n",
      "-----------------------------------\n",
      "-----------------------------------\n",
      "Evaluando modelo: tree\n",
      "Con los siguientes parámetros: {'max_depth': 3, 'class_weight': 'balanced'}\n",
      "MAUC validación: 0.7947481274604797\n",
      "MAUC entrenamiento: 0.8680004477500916\n",
      "-----------------------------------\n",
      "-----------------------------------\n",
      "Evaluando modelo: tree\n",
      "Con los siguientes parámetros: {'max_depth': 5, 'class_weight': 'balanced'}\n",
      "MAUC validación: 0.7693222165107727\n",
      "MAUC entrenamiento: 0.8937190175056458\n",
      "-----------------------------------\n",
      "-----------------------------------\n",
      "Evaluando modelo: tree\n",
      "Con los siguientes parámetros: {'max_depth': 7, 'class_weight': 'balanced'}\n",
      "MAUC validación: 0.7446511387825012\n",
      "MAUC entrenamiento: 0.9014603495597839\n",
      "-----------------------------------\n",
      "###########################################################\n",
      "Probando hiperparámetros: n_comp: 12,umbral: 0.0005\n",
      "###########################################################\n",
      "-----------------------------------\n",
      "Evaluando modelo: svc\n",
      "Con los siguientes parámetros: {'kernel': 'linear', 'gamma': 'auto', 'C': 0.1, 'class_weight': 'balanced'}\n",
      "MAUC validación: 0.8682792782783508\n",
      "MAUC entrenamiento: 0.8731732368469238\n",
      "-----------------------------------\n",
      "-----------------------------------\n",
      "Evaluando modelo: svc\n",
      "Con los siguientes parámetros: {'kernel': 'linear', 'gamma': 'auto', 'C': 1.0, 'class_weight': 'balanced'}\n",
      "MAUC validación: 0.8682792782783508\n",
      "MAUC entrenamiento: 0.8731732368469238\n",
      "-----------------------------------\n",
      "-----------------------------------\n",
      "Evaluando modelo: svc\n",
      "Con los siguientes parámetros: {'kernel': 'linear', 'gamma': 0.2, 'C': 0.1, 'class_weight': 'balanced'}\n",
      "MAUC validación: 0.8682792782783508\n",
      "MAUC entrenamiento: 0.8731732368469238\n",
      "-----------------------------------\n",
      "-----------------------------------\n",
      "Evaluando modelo: svc\n",
      "Con los siguientes parámetros: {'kernel': 'linear', 'gamma': 0.2, 'C': 1.0, 'class_weight': 'balanced'}\n",
      "MAUC validación: 0.8682792782783508\n",
      "MAUC entrenamiento: 0.8731732368469238\n",
      "-----------------------------------\n",
      "-----------------------------------\n",
      "Evaluando modelo: svc\n",
      "Con los siguientes parámetros: {'kernel': 'linear', 'gamma': 0.7, 'C': 0.1, 'class_weight': 'balanced'}\n",
      "MAUC validación: 0.8682792782783508\n",
      "MAUC entrenamiento: 0.8731732368469238\n",
      "-----------------------------------\n",
      "-----------------------------------\n",
      "Evaluando modelo: svc\n",
      "Con los siguientes parámetros: {'kernel': 'linear', 'gamma': 0.7, 'C': 1.0, 'class_weight': 'balanced'}\n",
      "MAUC validación: 0.8682792782783508\n",
      "MAUC entrenamiento: 0.8731732368469238\n",
      "-----------------------------------\n",
      "-----------------------------------\n",
      "Evaluando modelo: svc\n",
      "Con los siguientes parámetros: {'kernel': 'linear', 'gamma': 1, 'C': 0.1, 'class_weight': 'balanced'}\n",
      "MAUC validación: 0.8682792782783508\n",
      "MAUC entrenamiento: 0.8731732368469238\n",
      "-----------------------------------\n",
      "-----------------------------------\n",
      "Evaluando modelo: svc\n",
      "Con los siguientes parámetros: {'kernel': 'linear', 'gamma': 1, 'C': 1.0, 'class_weight': 'balanced'}\n",
      "MAUC validación: 0.8682792782783508\n",
      "MAUC entrenamiento: 0.8731732368469238\n",
      "-----------------------------------\n",
      "-----------------------------------\n",
      "Evaluando modelo: svc\n",
      "Con los siguientes parámetros: {'kernel': 'poly', 'gamma': 'auto', 'C': 0.1, 'class_weight': 'balanced'}\n"
     ]
    },
    {
     "name": "stdout",
     "output_type": "stream",
     "text": [
      "MAUC validación: 0.759232223033905\n",
      "MAUC entrenamiento: 0.9290208220481873\n",
      "-----------------------------------\n",
      "-----------------------------------\n",
      "Evaluando modelo: svc\n",
      "Con los siguientes parámetros: {'kernel': 'poly', 'gamma': 'auto', 'C': 1.0, 'class_weight': 'balanced'}\n",
      "MAUC validación: 0.759232223033905\n",
      "MAUC entrenamiento: 0.9290208220481873\n",
      "-----------------------------------\n",
      "-----------------------------------\n",
      "Evaluando modelo: svc\n",
      "Con los siguientes parámetros: {'kernel': 'poly', 'gamma': 0.2, 'C': 0.1, 'class_weight': 'balanced'}\n",
      "MAUC validación: 0.759232223033905\n",
      "MAUC entrenamiento: 0.9290208220481873\n",
      "-----------------------------------\n",
      "-----------------------------------\n",
      "Evaluando modelo: svc\n",
      "Con los siguientes parámetros: {'kernel': 'poly', 'gamma': 0.2, 'C': 1.0, 'class_weight': 'balanced'}\n",
      "MAUC validación: 0.759232223033905\n",
      "MAUC entrenamiento: 0.9290208220481873\n",
      "-----------------------------------\n",
      "-----------------------------------\n",
      "Evaluando modelo: svc\n",
      "Con los siguientes parámetros: {'kernel': 'poly', 'gamma': 0.7, 'C': 0.1, 'class_weight': 'balanced'}\n",
      "MAUC validación: 0.759232223033905\n",
      "MAUC entrenamiento: 0.9290208220481873\n",
      "-----------------------------------\n",
      "-----------------------------------\n",
      "Evaluando modelo: svc\n",
      "Con los siguientes parámetros: {'kernel': 'poly', 'gamma': 0.7, 'C': 1.0, 'class_weight': 'balanced'}\n",
      "MAUC validación: 0.759232223033905\n",
      "MAUC entrenamiento: 0.9290208220481873\n",
      "-----------------------------------\n",
      "-----------------------------------\n",
      "Evaluando modelo: svc\n",
      "Con los siguientes parámetros: {'kernel': 'poly', 'gamma': 1, 'C': 0.1, 'class_weight': 'balanced'}\n",
      "MAUC validación: 0.759232223033905\n",
      "MAUC entrenamiento: 0.9290208220481873\n",
      "-----------------------------------\n",
      "-----------------------------------\n",
      "Evaluando modelo: svc\n",
      "Con los siguientes parámetros: {'kernel': 'poly', 'gamma': 1, 'C': 1.0, 'class_weight': 'balanced'}\n",
      "MAUC validación: 0.759232223033905\n",
      "MAUC entrenamiento: 0.9290208220481873\n",
      "-----------------------------------\n",
      "-----------------------------------\n",
      "Evaluando modelo: svc\n",
      "Con los siguientes parámetros: {'kernel': 'sigmoid', 'gamma': 'auto', 'C': 0.1, 'class_weight': 'balanced'}\n",
      "MAUC validación: 0.7979602217674255\n",
      "MAUC entrenamiento: 0.735714852809906\n",
      "-----------------------------------\n",
      "-----------------------------------\n",
      "Evaluando modelo: svc\n",
      "Con los siguientes parámetros: {'kernel': 'sigmoid', 'gamma': 'auto', 'C': 1.0, 'class_weight': 'balanced'}\n",
      "MAUC validación: 0.7524144649505615\n",
      "MAUC entrenamiento: 0.7137351036071777\n",
      "-----------------------------------\n",
      "-----------------------------------\n",
      "Evaluando modelo: svc\n",
      "Con los siguientes parámetros: {'kernel': 'sigmoid', 'gamma': 0.2, 'C': 0.1, 'class_weight': 'balanced'}\n",
      "MAUC validación: 0.7883378863334656\n",
      "MAUC entrenamiento: 0.7339415550231934\n",
      "-----------------------------------\n",
      "-----------------------------------\n",
      "Evaluando modelo: svc\n",
      "Con los siguientes parámetros: {'kernel': 'sigmoid', 'gamma': 0.2, 'C': 1.0, 'class_weight': 'balanced'}\n",
      "MAUC validación: 0.7359282970428467\n",
      "MAUC entrenamiento: 0.7074359059333801\n",
      "-----------------------------------\n",
      "-----------------------------------\n",
      "Evaluando modelo: svc\n",
      "Con los siguientes parámetros: {'kernel': 'sigmoid', 'gamma': 0.7, 'C': 0.1, 'class_weight': 'balanced'}\n",
      "MAUC validación: 0.7790167927742004\n",
      "MAUC entrenamiento: 0.7317612767219543\n",
      "-----------------------------------\n",
      "-----------------------------------\n",
      "Evaluando modelo: svc\n",
      "Con los siguientes parámetros: {'kernel': 'sigmoid', 'gamma': 0.7, 'C': 1.0, 'class_weight': 'balanced'}\n",
      "MAUC validación: 0.7380592823028564\n",
      "MAUC entrenamiento: 0.7080612778663635\n",
      "-----------------------------------\n",
      "-----------------------------------\n",
      "Evaluando modelo: svc\n",
      "Con los siguientes parámetros: {'kernel': 'sigmoid', 'gamma': 1, 'C': 0.1, 'class_weight': 'balanced'}\n",
      "MAUC validación: 0.7790167927742004\n",
      "MAUC entrenamiento: 0.7320993542671204\n",
      "-----------------------------------\n",
      "-----------------------------------\n",
      "Evaluando modelo: svc\n",
      "Con los siguientes parámetros: {'kernel': 'sigmoid', 'gamma': 1, 'C': 1.0, 'class_weight': 'balanced'}\n",
      "MAUC validación: 0.7516758441925049\n",
      "MAUC entrenamiento: 0.711291491985321\n",
      "-----------------------------------\n",
      "-----------------------------------\n",
      "Evaluando modelo: forest\n",
      "Con los siguientes parámetros: {'max_depth': 3, 'n_estimators': 10, 'class_weight': 'balanced'}\n",
      "MAUC validación: 0.8543104529380798\n",
      "MAUC entrenamiento: 0.87571120262146\n",
      "-----------------------------------\n",
      "-----------------------------------\n",
      "Evaluando modelo: forest\n",
      "Con los siguientes parámetros: {'max_depth': 3, 'n_estimators': 50, 'class_weight': 'balanced'}\n",
      "MAUC validación: 0.851099967956543\n",
      "MAUC entrenamiento: 0.8825418949127197\n",
      "-----------------------------------\n",
      "-----------------------------------\n",
      "Evaluando modelo: forest\n",
      "Con los siguientes parámetros: {'max_depth': 3, 'n_estimators': 100, 'class_weight': 'balanced'}\n",
      "MAUC validación: 0.8600818514823914\n",
      "MAUC entrenamiento: 0.8856015801429749\n",
      "-----------------------------------\n",
      "-----------------------------------\n",
      "Evaluando modelo: forest\n",
      "Con los siguientes parámetros: {'max_depth': 3, 'n_estimators': 150, 'class_weight': 'balanced'}\n",
      "MAUC validación: 0.8492361903190613\n",
      "MAUC entrenamiento: 0.8738755583763123\n",
      "-----------------------------------\n",
      "-----------------------------------\n",
      "Evaluando modelo: forest\n",
      "Con los siguientes parámetros: {'max_depth': 3, 'n_estimators': 200, 'class_weight': 'balanced'}\n",
      "MAUC validación: 0.8602064251899719\n",
      "MAUC entrenamiento: 0.8820052146911621\n",
      "-----------------------------------\n",
      "-----------------------------------\n",
      "Evaluando modelo: forest\n",
      "Con los siguientes parámetros: {'max_depth': 5, 'n_estimators': 10, 'class_weight': 'balanced'}\n",
      "MAUC validación: 0.8045752644538879\n",
      "MAUC entrenamiento: 0.8893840909004211\n",
      "-----------------------------------\n",
      "-----------------------------------\n",
      "Evaluando modelo: forest\n",
      "Con los siguientes parámetros: {'max_depth': 5, 'n_estimators': 50, 'class_weight': 'balanced'}\n",
      "MAUC validación: 0.8366711735725403\n",
      "MAUC entrenamiento: 0.918243944644928\n",
      "-----------------------------------\n",
      "-----------------------------------\n",
      "Evaluando modelo: forest\n",
      "Con los siguientes parámetros: {'max_depth': 5, 'n_estimators': 100, 'class_weight': 'balanced'}\n",
      "MAUC validación: 0.831272304058075\n",
      "MAUC entrenamiento: 0.9126567244529724\n",
      "-----------------------------------\n",
      "-----------------------------------\n",
      "Evaluando modelo: forest\n",
      "Con los siguientes parámetros: {'max_depth': 5, 'n_estimators': 150, 'class_weight': 'balanced'}\n",
      "MAUC validación: 0.859442412853241\n",
      "MAUC entrenamiento: 0.9222072958946228\n",
      "-----------------------------------\n",
      "-----------------------------------\n",
      "Evaluando modelo: forest\n",
      "Con los siguientes parámetros: {'max_depth': 5, 'n_estimators': 200, 'class_weight': 'balanced'}\n",
      "MAUC validación: 0.8494277000427246\n",
      "MAUC entrenamiento: 0.9219568371772766\n",
      "-----------------------------------\n",
      "-----------------------------------\n",
      "Evaluando modelo: forest\n",
      "Con los siguientes parámetros: {'max_depth': 7, 'n_estimators': 10, 'class_weight': 'balanced'}\n",
      "MAUC validación: 0.7996645569801331\n",
      "MAUC entrenamiento: 0.9083008170127869\n",
      "-----------------------------------\n",
      "-----------------------------------\n",
      "Evaluando modelo: forest\n",
      "Con los siguientes parámetros: {'max_depth': 7, 'n_estimators': 50, 'class_weight': 'balanced'}\n",
      "MAUC validación: 0.81678706407547\n",
      "MAUC entrenamiento: 0.9332699775695801\n",
      "-----------------------------------\n",
      "-----------------------------------\n",
      "Evaluando modelo: forest\n",
      "Con los siguientes parámetros: {'max_depth': 7, 'n_estimators': 100, 'class_weight': 'balanced'}\n",
      "MAUC validación: 0.8137673735618591\n",
      "MAUC entrenamiento: 0.9339029788970947\n",
      "-----------------------------------\n",
      "-----------------------------------\n",
      "Evaluando modelo: forest\n",
      "Con los siguientes parámetros: {'max_depth': 7, 'n_estimators': 150, 'class_weight': 'balanced'}\n",
      "MAUC validación: 0.8016324639320374\n",
      "MAUC entrenamiento: 0.9320089817047119\n",
      "-----------------------------------\n",
      "-----------------------------------\n",
      "Evaluando modelo: forest\n",
      "Con los siguientes parámetros: {'max_depth': 7, 'n_estimators': 200, 'class_weight': 'balanced'}\n",
      "MAUC validación: 0.803781270980835\n",
      "MAUC entrenamiento: 0.9326980710029602\n",
      "-----------------------------------\n",
      "-----------------------------------\n",
      "Evaluando modelo: knn\n",
      "Con los siguientes parámetros: {'n_neighbors': 3}\n",
      "MAUC validación: 0.7953939437866211\n",
      "MAUC entrenamiento: 0.8463039994239807\n",
      "-----------------------------------\n",
      "-----------------------------------\n",
      "Evaluando modelo: knn\n",
      "Con los siguientes parámetros: {'n_neighbors': 5}\n",
      "MAUC validación: 0.7967891693115234\n",
      "MAUC entrenamiento: 0.8127492070198059\n",
      "-----------------------------------\n",
      "-----------------------------------\n",
      "Evaluando modelo: knn\n",
      "Con los siguientes parámetros: {'n_neighbors': 7}\n",
      "MAUC validación: 0.7929765582084656\n"
     ]
    },
    {
     "name": "stdout",
     "output_type": "stream",
     "text": [
      "MAUC entrenamiento: 0.7996315956115723\n",
      "-----------------------------------\n",
      "-----------------------------------\n",
      "Evaluando modelo: tree\n",
      "Con los siguientes parámetros: {'max_depth': 3, 'class_weight': 'balanced'}\n",
      "MAUC validación: 0.8243314623832703\n",
      "MAUC entrenamiento: 0.8507533073425293\n",
      "-----------------------------------\n",
      "-----------------------------------\n",
      "Evaluando modelo: tree\n",
      "Con los siguientes parámetros: {'max_depth': 5, 'class_weight': 'balanced'}\n",
      "MAUC validación: 0.821304976940155\n",
      "MAUC entrenamiento: 0.8926789164543152\n",
      "-----------------------------------\n",
      "-----------------------------------\n",
      "Evaluando modelo: tree\n",
      "Con los siguientes parámetros: {'max_depth': 7, 'class_weight': 'balanced'}\n",
      "MAUC validación: 0.8240768313407898\n",
      "MAUC entrenamiento: 0.9121634364128113\n",
      "-----------------------------------\n",
      "###########################################################\n",
      "Probando hiperparámetros: n_comp: 25,umbral: 0.0005\n",
      "###########################################################\n",
      "-----------------------------------\n",
      "Evaluando modelo: svc\n",
      "Con los siguientes parámetros: {'kernel': 'linear', 'gamma': 'auto', 'C': 0.1, 'class_weight': 'balanced'}\n",
      "MAUC validación: 0.8741477131843567\n",
      "MAUC entrenamiento: 0.8985242247581482\n",
      "-----------------------------------\n",
      "-----------------------------------\n",
      "Evaluando modelo: svc\n",
      "Con los siguientes parámetros: {'kernel': 'linear', 'gamma': 'auto', 'C': 1.0, 'class_weight': 'balanced'}\n",
      "MAUC validación: 0.8741477131843567\n",
      "MAUC entrenamiento: 0.8972222208976746\n",
      "-----------------------------------\n",
      "-----------------------------------\n",
      "Evaluando modelo: svc\n",
      "Con los siguientes parámetros: {'kernel': 'linear', 'gamma': 0.2, 'C': 0.1, 'class_weight': 'balanced'}\n",
      "MAUC validación: 0.8741477131843567\n",
      "MAUC entrenamiento: 0.8985242247581482\n",
      "-----------------------------------\n",
      "-----------------------------------\n",
      "Evaluando modelo: svc\n",
      "Con los siguientes parámetros: {'kernel': 'linear', 'gamma': 0.2, 'C': 1.0, 'class_weight': 'balanced'}\n",
      "MAUC validación: 0.8741477131843567\n",
      "MAUC entrenamiento: 0.8972222208976746\n",
      "-----------------------------------\n",
      "-----------------------------------\n",
      "Evaluando modelo: svc\n",
      "Con los siguientes parámetros: {'kernel': 'linear', 'gamma': 0.7, 'C': 0.1, 'class_weight': 'balanced'}\n",
      "MAUC validación: 0.8741477131843567\n",
      "MAUC entrenamiento: 0.8985242247581482\n",
      "-----------------------------------\n",
      "-----------------------------------\n",
      "Evaluando modelo: svc\n",
      "Con los siguientes parámetros: {'kernel': 'linear', 'gamma': 0.7, 'C': 1.0, 'class_weight': 'balanced'}\n",
      "MAUC validación: 0.8741477131843567\n",
      "MAUC entrenamiento: 0.8972222208976746\n",
      "-----------------------------------\n",
      "-----------------------------------\n",
      "Evaluando modelo: svc\n",
      "Con los siguientes parámetros: {'kernel': 'linear', 'gamma': 1, 'C': 0.1, 'class_weight': 'balanced'}\n",
      "MAUC validación: 0.8741477131843567\n",
      "MAUC entrenamiento: 0.8985242247581482\n",
      "-----------------------------------\n",
      "-----------------------------------\n",
      "Evaluando modelo: svc\n",
      "Con los siguientes parámetros: {'kernel': 'linear', 'gamma': 1, 'C': 1.0, 'class_weight': 'balanced'}\n",
      "MAUC validación: 0.8741477131843567\n",
      "MAUC entrenamiento: 0.8972222208976746\n",
      "-----------------------------------\n",
      "-----------------------------------\n",
      "Evaluando modelo: svc\n",
      "Con los siguientes parámetros: {'kernel': 'poly', 'gamma': 'auto', 'C': 0.1, 'class_weight': 'balanced'}\n",
      "MAUC validación: 0.7656462788581848\n",
      "MAUC entrenamiento: 0.9316304326057434\n",
      "-----------------------------------\n",
      "-----------------------------------\n",
      "Evaluando modelo: svc\n",
      "Con los siguientes parámetros: {'kernel': 'poly', 'gamma': 'auto', 'C': 1.0, 'class_weight': 'balanced'}\n",
      "MAUC validación: 0.7656462788581848\n",
      "MAUC entrenamiento: 0.9316304326057434\n",
      "-----------------------------------\n",
      "-----------------------------------\n",
      "Evaluando modelo: svc\n",
      "Con los siguientes parámetros: {'kernel': 'poly', 'gamma': 0.2, 'C': 0.1, 'class_weight': 'balanced'}\n",
      "MAUC validación: 0.7656462788581848\n",
      "MAUC entrenamiento: 0.9316304326057434\n",
      "-----------------------------------\n",
      "-----------------------------------\n",
      "Evaluando modelo: svc\n",
      "Con los siguientes parámetros: {'kernel': 'poly', 'gamma': 0.2, 'C': 1.0, 'class_weight': 'balanced'}\n",
      "MAUC validación: 0.7656462788581848\n",
      "MAUC entrenamiento: 0.9316304326057434\n",
      "-----------------------------------\n",
      "-----------------------------------\n",
      "Evaluando modelo: svc\n",
      "Con los siguientes parámetros: {'kernel': 'poly', 'gamma': 0.7, 'C': 0.1, 'class_weight': 'balanced'}\n",
      "MAUC validación: 0.7656462788581848\n",
      "MAUC entrenamiento: 0.9316304326057434\n",
      "-----------------------------------\n",
      "-----------------------------------\n",
      "Evaluando modelo: svc\n",
      "Con los siguientes parámetros: {'kernel': 'poly', 'gamma': 0.7, 'C': 1.0, 'class_weight': 'balanced'}\n",
      "MAUC validación: 0.7656462788581848\n",
      "MAUC entrenamiento: 0.9316304326057434\n",
      "-----------------------------------\n",
      "-----------------------------------\n",
      "Evaluando modelo: svc\n",
      "Con los siguientes parámetros: {'kernel': 'poly', 'gamma': 1, 'C': 0.1, 'class_weight': 'balanced'}\n",
      "MAUC validación: 0.7656462788581848\n",
      "MAUC entrenamiento: 0.9316304326057434\n",
      "-----------------------------------\n",
      "-----------------------------------\n",
      "Evaluando modelo: svc\n",
      "Con los siguientes parámetros: {'kernel': 'poly', 'gamma': 1, 'C': 1.0, 'class_weight': 'balanced'}\n",
      "MAUC validación: 0.7656462788581848\n",
      "MAUC entrenamiento: 0.9316304326057434\n",
      "-----------------------------------\n",
      "-----------------------------------\n",
      "Evaluando modelo: svc\n",
      "Con los siguientes parámetros: {'kernel': 'sigmoid', 'gamma': 'auto', 'C': 0.1, 'class_weight': 'balanced'}\n",
      "MAUC validación: 0.7949559688568115\n",
      "MAUC entrenamiento: 0.7500022053718567\n",
      "-----------------------------------\n",
      "-----------------------------------\n",
      "Evaluando modelo: svc\n",
      "Con los siguientes parámetros: {'kernel': 'sigmoid', 'gamma': 'auto', 'C': 1.0, 'class_weight': 'balanced'}\n",
      "MAUC validación: 0.7317807078361511\n",
      "MAUC entrenamiento: 0.7346475124359131\n",
      "-----------------------------------\n",
      "-----------------------------------\n",
      "Evaluando modelo: svc\n",
      "Con los siguientes parámetros: {'kernel': 'sigmoid', 'gamma': 0.2, 'C': 0.1, 'class_weight': 'balanced'}\n",
      "MAUC validación: 0.7839028239250183\n",
      "MAUC entrenamiento: 0.7503426671028137\n",
      "-----------------------------------\n",
      "-----------------------------------\n",
      "Evaluando modelo: svc\n",
      "Con los siguientes parámetros: {'kernel': 'sigmoid', 'gamma': 0.2, 'C': 1.0, 'class_weight': 'balanced'}\n",
      "MAUC validación: 0.7661057114601135\n",
      "MAUC entrenamiento: 0.7265360951423645\n",
      "-----------------------------------\n",
      "-----------------------------------\n",
      "Evaluando modelo: svc\n",
      "Con los siguientes parámetros: {'kernel': 'sigmoid', 'gamma': 0.7, 'C': 0.1, 'class_weight': 'balanced'}\n",
      "MAUC validación: 0.7885647416114807\n",
      "MAUC entrenamiento: 0.7619132995605469\n",
      "-----------------------------------\n",
      "-----------------------------------\n",
      "Evaluando modelo: svc\n",
      "Con los siguientes parámetros: {'kernel': 'sigmoid', 'gamma': 0.7, 'C': 1.0, 'class_weight': 'balanced'}\n",
      "MAUC validación: 0.7380464673042297\n",
      "MAUC entrenamiento: 0.7360684275627136\n",
      "-----------------------------------\n",
      "-----------------------------------\n",
      "Evaluando modelo: svc\n",
      "Con los siguientes parámetros: {'kernel': 'sigmoid', 'gamma': 1, 'C': 0.1, 'class_weight': 'balanced'}\n",
      "MAUC validación: 0.780853271484375\n",
      "MAUC entrenamiento: 0.766200840473175\n",
      "-----------------------------------\n",
      "-----------------------------------\n",
      "Evaluando modelo: svc\n",
      "Con los siguientes parámetros: {'kernel': 'sigmoid', 'gamma': 1, 'C': 1.0, 'class_weight': 'balanced'}\n",
      "MAUC validación: 0.7380464673042297\n",
      "MAUC entrenamiento: 0.7360684275627136\n",
      "-----------------------------------\n",
      "-----------------------------------\n",
      "Evaluando modelo: forest\n",
      "Con los siguientes parámetros: {'max_depth': 3, 'n_estimators': 10, 'class_weight': 'balanced'}\n",
      "MAUC validación: 0.840655505657196\n",
      "MAUC entrenamiento: 0.8862752914428711\n",
      "-----------------------------------\n",
      "-----------------------------------\n",
      "Evaluando modelo: forest\n",
      "Con los siguientes parámetros: {'max_depth': 3, 'n_estimators': 50, 'class_weight': 'balanced'}\n",
      "MAUC validación: 0.8768043518066406\n",
      "MAUC entrenamiento: 0.9100484251976013\n",
      "-----------------------------------\n",
      "-----------------------------------\n",
      "Evaluando modelo: forest\n",
      "Con los siguientes parámetros: {'max_depth': 3, 'n_estimators': 100, 'class_weight': 'balanced'}\n"
     ]
    },
    {
     "name": "stdout",
     "output_type": "stream",
     "text": [
      "MAUC validación: 0.8633692860603333\n",
      "MAUC entrenamiento: 0.9088807106018066\n",
      "-----------------------------------\n",
      "-----------------------------------\n",
      "Evaluando modelo: forest\n",
      "Con los siguientes parámetros: {'max_depth': 3, 'n_estimators': 150, 'class_weight': 'balanced'}\n",
      "MAUC validación: 0.8628723621368408\n",
      "MAUC entrenamiento: 0.9056656956672668\n",
      "-----------------------------------\n",
      "-----------------------------------\n",
      "Evaluando modelo: forest\n",
      "Con los siguientes parámetros: {'max_depth': 3, 'n_estimators': 200, 'class_weight': 'balanced'}\n",
      "MAUC validación: 0.8492271304130554\n",
      "MAUC entrenamiento: 0.907885730266571\n",
      "-----------------------------------\n",
      "-----------------------------------\n",
      "Evaluando modelo: forest\n",
      "Con los siguientes parámetros: {'max_depth': 5, 'n_estimators': 10, 'class_weight': 'balanced'}\n",
      "MAUC validación: 0.850720226764679\n",
      "MAUC entrenamiento: 0.9222297072410583\n",
      "-----------------------------------\n",
      "-----------------------------------\n",
      "Evaluando modelo: forest\n",
      "Con los siguientes parámetros: {'max_depth': 5, 'n_estimators': 50, 'class_weight': 'balanced'}\n",
      "MAUC validación: 0.8367860913276672\n",
      "MAUC entrenamiento: 0.9206681847572327\n",
      "-----------------------------------\n",
      "-----------------------------------\n",
      "Evaluando modelo: forest\n",
      "Con los siguientes parámetros: {'max_depth': 5, 'n_estimators': 100, 'class_weight': 'balanced'}\n",
      "MAUC validación: 0.8435226082801819\n",
      "MAUC entrenamiento: 0.9291200041770935\n",
      "-----------------------------------\n",
      "-----------------------------------\n",
      "Evaluando modelo: forest\n",
      "Con los siguientes parámetros: {'max_depth': 5, 'n_estimators': 150, 'class_weight': 'balanced'}\n",
      "MAUC validación: 0.8429589867591858\n",
      "MAUC entrenamiento: 0.928809404373169\n",
      "-----------------------------------\n",
      "-----------------------------------\n",
      "Evaluando modelo: forest\n",
      "Con los siguientes parámetros: {'max_depth': 5, 'n_estimators': 200, 'class_weight': 'balanced'}\n",
      "MAUC validación: 0.8407516479492188\n",
      "MAUC entrenamiento: 0.9303410649299622\n",
      "-----------------------------------\n",
      "-----------------------------------\n",
      "Evaluando modelo: forest\n",
      "Con los siguientes parámetros: {'max_depth': 7, 'n_estimators': 10, 'class_weight': 'balanced'}\n",
      "MAUC validación: 0.7822458744049072\n",
      "MAUC entrenamiento: 0.9134954810142517\n",
      "-----------------------------------\n",
      "-----------------------------------\n",
      "Evaluando modelo: forest\n",
      "Con los siguientes parámetros: {'max_depth': 7, 'n_estimators': 50, 'class_weight': 'balanced'}\n",
      "MAUC validación: 0.8015956282615662\n",
      "MAUC entrenamiento: 0.9333938956260681\n",
      "-----------------------------------\n",
      "-----------------------------------\n",
      "Evaluando modelo: forest\n",
      "Con los siguientes parámetros: {'max_depth': 7, 'n_estimators': 100, 'class_weight': 'balanced'}\n",
      "MAUC validación: 0.8044419884681702\n",
      "MAUC entrenamiento: 0.932048499584198\n",
      "-----------------------------------\n",
      "-----------------------------------\n",
      "Evaluando modelo: forest\n",
      "Con los siguientes parámetros: {'max_depth': 7, 'n_estimators': 150, 'class_weight': 'balanced'}\n",
      "MAUC validación: 0.8226265907287598\n",
      "MAUC entrenamiento: 0.9394513964653015\n",
      "-----------------------------------\n",
      "-----------------------------------\n",
      "Evaluando modelo: forest\n",
      "Con los siguientes parámetros: {'max_depth': 7, 'n_estimators': 200, 'class_weight': 'balanced'}\n",
      "MAUC validación: 0.8087987899780273\n",
      "MAUC entrenamiento: 0.9363150596618652\n",
      "-----------------------------------\n",
      "-----------------------------------\n",
      "Evaluando modelo: knn\n",
      "Con los siguientes parámetros: {'n_neighbors': 3}\n",
      "MAUC validación: 0.7861456274986267\n",
      "MAUC entrenamiento: 0.8606145977973938\n",
      "-----------------------------------\n",
      "-----------------------------------\n",
      "Evaluando modelo: knn\n",
      "Con los siguientes parámetros: {'n_neighbors': 5}\n",
      "MAUC validación: 0.7963042259216309\n",
      "MAUC entrenamiento: 0.8337233662605286\n",
      "-----------------------------------\n",
      "-----------------------------------\n",
      "Evaluando modelo: knn\n",
      "Con los siguientes parámetros: {'n_neighbors': 7}\n",
      "MAUC validación: 0.8024575114250183\n",
      "MAUC entrenamiento: 0.8089478015899658\n",
      "-----------------------------------\n",
      "-----------------------------------\n",
      "Evaluando modelo: tree\n",
      "Con los siguientes parámetros: {'max_depth': 3, 'class_weight': 'balanced'}\n",
      "MAUC validación: 0.85768061876297\n",
      "MAUC entrenamiento: 0.8773977756500244\n",
      "-----------------------------------\n",
      "-----------------------------------\n",
      "Evaluando modelo: tree\n",
      "Con los siguientes parámetros: {'max_depth': 5, 'class_weight': 'balanced'}\n",
      "MAUC validación: 0.8197957873344421\n",
      "MAUC entrenamiento: 0.9109711050987244\n",
      "-----------------------------------\n",
      "-----------------------------------\n",
      "Evaluando modelo: tree\n",
      "Con los siguientes parámetros: {'max_depth': 7, 'class_weight': 'balanced'}\n",
      "MAUC validación: 0.8177902698516846\n",
      "MAUC entrenamiento: 0.9265636801719666\n",
      "-----------------------------------\n",
      "###########################################################\n",
      "Probando hiperparámetros: n_comp: 150,umbral: 0.0005\n",
      "###########################################################\n",
      "-----------------------------------\n",
      "Evaluando modelo: svc\n",
      "Con los siguientes parámetros: {'kernel': 'linear', 'gamma': 'auto', 'C': 0.1, 'class_weight': 'balanced'}\n",
      "MAUC validación: 0.754027783870697\n",
      "MAUC entrenamiento: 0.928000271320343\n",
      "-----------------------------------\n",
      "-----------------------------------\n",
      "Evaluando modelo: svc\n",
      "Con los siguientes parámetros: {'kernel': 'linear', 'gamma': 'auto', 'C': 1.0, 'class_weight': 'balanced'}\n",
      "MAUC validación: 0.754027783870697\n",
      "MAUC entrenamiento: 0.928000271320343\n",
      "-----------------------------------\n",
      "-----------------------------------\n",
      "Evaluando modelo: svc\n",
      "Con los siguientes parámetros: {'kernel': 'linear', 'gamma': 0.2, 'C': 0.1, 'class_weight': 'balanced'}\n",
      "MAUC validación: 0.754027783870697\n",
      "MAUC entrenamiento: 0.928000271320343\n",
      "-----------------------------------\n",
      "-----------------------------------\n",
      "Evaluando modelo: svc\n",
      "Con los siguientes parámetros: {'kernel': 'linear', 'gamma': 0.2, 'C': 1.0, 'class_weight': 'balanced'}\n",
      "MAUC validación: 0.754027783870697\n",
      "MAUC entrenamiento: 0.928000271320343\n",
      "-----------------------------------\n",
      "-----------------------------------\n",
      "Evaluando modelo: svc\n",
      "Con los siguientes parámetros: {'kernel': 'linear', 'gamma': 0.7, 'C': 0.1, 'class_weight': 'balanced'}\n",
      "MAUC validación: 0.754027783870697\n",
      "MAUC entrenamiento: 0.928000271320343\n",
      "-----------------------------------\n",
      "-----------------------------------\n",
      "Evaluando modelo: svc\n",
      "Con los siguientes parámetros: {'kernel': 'linear', 'gamma': 0.7, 'C': 1.0, 'class_weight': 'balanced'}\n",
      "MAUC validación: 0.754027783870697\n",
      "MAUC entrenamiento: 0.928000271320343\n",
      "-----------------------------------\n",
      "-----------------------------------\n",
      "Evaluando modelo: svc\n",
      "Con los siguientes parámetros: {'kernel': 'linear', 'gamma': 1, 'C': 0.1, 'class_weight': 'balanced'}\n",
      "MAUC validación: 0.754027783870697\n",
      "MAUC entrenamiento: 0.928000271320343\n",
      "-----------------------------------\n",
      "-----------------------------------\n",
      "Evaluando modelo: svc\n",
      "Con los siguientes parámetros: {'kernel': 'linear', 'gamma': 1, 'C': 1.0, 'class_weight': 'balanced'}\n",
      "MAUC validación: 0.754027783870697\n",
      "MAUC entrenamiento: 0.928000271320343\n",
      "-----------------------------------\n",
      "-----------------------------------\n",
      "Evaluando modelo: svc\n",
      "Con los siguientes parámetros: {'kernel': 'poly', 'gamma': 'auto', 'C': 0.1, 'class_weight': 'balanced'}\n",
      "MAUC validación: 0.6759071350097656\n",
      "MAUC entrenamiento: 0.9051229357719421\n",
      "-----------------------------------\n",
      "-----------------------------------\n",
      "Evaluando modelo: svc\n",
      "Con los siguientes parámetros: {'kernel': 'poly', 'gamma': 'auto', 'C': 1.0, 'class_weight': 'balanced'}\n",
      "MAUC validación: 0.6759071350097656\n",
      "MAUC entrenamiento: 0.9051229357719421\n",
      "-----------------------------------\n",
      "-----------------------------------\n",
      "Evaluando modelo: svc\n",
      "Con los siguientes parámetros: {'kernel': 'poly', 'gamma': 0.2, 'C': 0.1, 'class_weight': 'balanced'}\n",
      "MAUC validación: 0.6759071350097656\n",
      "MAUC entrenamiento: 0.9051229357719421\n",
      "-----------------------------------\n",
      "-----------------------------------\n",
      "Evaluando modelo: svc\n",
      "Con los siguientes parámetros: {'kernel': 'poly', 'gamma': 0.2, 'C': 1.0, 'class_weight': 'balanced'}\n",
      "MAUC validación: 0.6759071350097656\n",
      "MAUC entrenamiento: 0.9051229357719421\n",
      "-----------------------------------\n",
      "-----------------------------------\n",
      "Evaluando modelo: svc\n",
      "Con los siguientes parámetros: {'kernel': 'poly', 'gamma': 0.7, 'C': 0.1, 'class_weight': 'balanced'}\n"
     ]
    },
    {
     "name": "stdout",
     "output_type": "stream",
     "text": [
      "MAUC validación: 0.6759071350097656\n",
      "MAUC entrenamiento: 0.9051229357719421\n",
      "-----------------------------------\n",
      "-----------------------------------\n",
      "Evaluando modelo: svc\n",
      "Con los siguientes parámetros: {'kernel': 'poly', 'gamma': 0.7, 'C': 1.0, 'class_weight': 'balanced'}\n",
      "MAUC validación: 0.6759071350097656\n",
      "MAUC entrenamiento: 0.9051229357719421\n",
      "-----------------------------------\n",
      "-----------------------------------\n",
      "Evaluando modelo: svc\n",
      "Con los siguientes parámetros: {'kernel': 'poly', 'gamma': 1, 'C': 0.1, 'class_weight': 'balanced'}\n",
      "MAUC validación: 0.6759071350097656\n",
      "MAUC entrenamiento: 0.9051229357719421\n",
      "-----------------------------------\n",
      "-----------------------------------\n",
      "Evaluando modelo: svc\n",
      "Con los siguientes parámetros: {'kernel': 'poly', 'gamma': 1, 'C': 1.0, 'class_weight': 'balanced'}\n",
      "MAUC validación: 0.6759071350097656\n",
      "MAUC entrenamiento: 0.9051229357719421\n",
      "-----------------------------------\n",
      "-----------------------------------\n",
      "Evaluando modelo: svc\n",
      "Con los siguientes parámetros: {'kernel': 'sigmoid', 'gamma': 'auto', 'C': 0.1, 'class_weight': 'balanced'}\n",
      "MAUC validación: 0.8036840558052063\n",
      "MAUC entrenamiento: 0.7708970904350281\n",
      "-----------------------------------\n",
      "-----------------------------------\n",
      "Evaluando modelo: svc\n",
      "Con los siguientes parámetros: {'kernel': 'sigmoid', 'gamma': 'auto', 'C': 1.0, 'class_weight': 'balanced'}\n",
      "MAUC validación: 0.7593674063682556\n",
      "MAUC entrenamiento: 0.7298699021339417\n",
      "-----------------------------------\n",
      "-----------------------------------\n",
      "Evaluando modelo: svc\n",
      "Con los siguientes parámetros: {'kernel': 'sigmoid', 'gamma': 0.2, 'C': 0.1, 'class_weight': 'balanced'}\n",
      "MAUC validación: 0.832195520401001\n",
      "MAUC entrenamiento: 0.7536787986755371\n",
      "-----------------------------------\n",
      "-----------------------------------\n",
      "Evaluando modelo: svc\n",
      "Con los siguientes parámetros: {'kernel': 'sigmoid', 'gamma': 0.2, 'C': 1.0, 'class_weight': 'balanced'}\n",
      "MAUC validación: 0.796617329120636\n",
      "MAUC entrenamiento: 0.7468648552894592\n",
      "-----------------------------------\n",
      "-----------------------------------\n",
      "Evaluando modelo: svc\n",
      "Con los siguientes parámetros: {'kernel': 'sigmoid', 'gamma': 0.7, 'C': 0.1, 'class_weight': 'balanced'}\n",
      "MAUC validación: 0.7957893013954163\n",
      "MAUC entrenamiento: 0.7579289078712463\n",
      "-----------------------------------\n",
      "-----------------------------------\n",
      "Evaluando modelo: svc\n",
      "Con los siguientes parámetros: {'kernel': 'sigmoid', 'gamma': 0.7, 'C': 1.0, 'class_weight': 'balanced'}\n",
      "MAUC validación: 0.7811620831489563\n",
      "MAUC entrenamiento: 0.7426014542579651\n",
      "-----------------------------------\n",
      "-----------------------------------\n",
      "Evaluando modelo: svc\n",
      "Con los siguientes parámetros: {'kernel': 'sigmoid', 'gamma': 1, 'C': 0.1, 'class_weight': 'balanced'}\n",
      "MAUC validación: 0.8007664680480957\n",
      "MAUC entrenamiento: 0.7547290921211243\n",
      "-----------------------------------\n",
      "-----------------------------------\n",
      "Evaluando modelo: svc\n",
      "Con los siguientes parámetros: {'kernel': 'sigmoid', 'gamma': 1, 'C': 1.0, 'class_weight': 'balanced'}\n",
      "MAUC validación: 0.7811620831489563\n",
      "MAUC entrenamiento: 0.7429395318031311\n",
      "-----------------------------------\n",
      "-----------------------------------\n",
      "Evaluando modelo: forest\n",
      "Con los siguientes parámetros: {'max_depth': 3, 'n_estimators': 10, 'class_weight': 'balanced'}\n",
      "MAUC validación: 0.7874258160591125\n",
      "MAUC entrenamiento: 0.8709192276000977\n",
      "-----------------------------------\n",
      "-----------------------------------\n",
      "Evaluando modelo: forest\n",
      "Con los siguientes parámetros: {'max_depth': 3, 'n_estimators': 50, 'class_weight': 'balanced'}\n",
      "MAUC validación: 0.8049106597900391\n",
      "MAUC entrenamiento: 0.9033645987510681\n",
      "-----------------------------------\n",
      "-----------------------------------\n",
      "Evaluando modelo: forest\n",
      "Con los siguientes parámetros: {'max_depth': 3, 'n_estimators': 100, 'class_weight': 'balanced'}\n",
      "MAUC validación: 0.8190035223960876\n",
      "MAUC entrenamiento: 0.9069706797599792\n",
      "-----------------------------------\n",
      "-----------------------------------\n",
      "Evaluando modelo: forest\n",
      "Con los siguientes parámetros: {'max_depth': 3, 'n_estimators': 150, 'class_weight': 'balanced'}\n",
      "MAUC validación: 0.8165771961212158\n",
      "MAUC entrenamiento: 0.8999846577644348\n",
      "-----------------------------------\n",
      "-----------------------------------\n",
      "Evaluando modelo: forest\n",
      "Con los siguientes parámetros: {'max_depth': 3, 'n_estimators': 200, 'class_weight': 'balanced'}\n",
      "MAUC validación: 0.8232085108757019\n",
      "MAUC entrenamiento: 0.9098928570747375\n",
      "-----------------------------------\n",
      "-----------------------------------\n",
      "Evaluando modelo: forest\n",
      "Con los siguientes parámetros: {'max_depth': 5, 'n_estimators': 10, 'class_weight': 'balanced'}\n",
      "MAUC validación: 0.7104568481445312\n",
      "MAUC entrenamiento: 0.8881967067718506\n",
      "-----------------------------------\n",
      "-----------------------------------\n",
      "Evaluando modelo: forest\n",
      "Con los siguientes parámetros: {'max_depth': 5, 'n_estimators': 50, 'class_weight': 'balanced'}\n",
      "MAUC validación: 0.7341352105140686\n",
      "MAUC entrenamiento: 0.900762140750885\n",
      "-----------------------------------\n",
      "-----------------------------------\n",
      "Evaluando modelo: forest\n",
      "Con los siguientes parámetros: {'max_depth': 5, 'n_estimators': 100, 'class_weight': 'balanced'}\n",
      "MAUC validación: 0.7183697819709778\n",
      "MAUC entrenamiento: 0.9037255644798279\n",
      "-----------------------------------\n",
      "-----------------------------------\n",
      "Evaluando modelo: forest\n",
      "Con los siguientes parámetros: {'max_depth': 5, 'n_estimators': 150, 'class_weight': 'balanced'}\n",
      "MAUC validación: 0.7366573810577393\n",
      "MAUC entrenamiento: 0.9065015316009521\n",
      "-----------------------------------\n",
      "-----------------------------------\n",
      "Evaluando modelo: forest\n",
      "Con los siguientes parámetros: {'max_depth': 5, 'n_estimators': 200, 'class_weight': 'balanced'}\n",
      "MAUC validación: 0.72174072265625\n",
      "MAUC entrenamiento: 0.9059223532676697\n",
      "-----------------------------------\n",
      "-----------------------------------\n",
      "Evaluando modelo: forest\n",
      "Con los siguientes parámetros: {'max_depth': 7, 'n_estimators': 10, 'class_weight': 'balanced'}\n",
      "MAUC validación: 0.681361973285675\n",
      "MAUC entrenamiento: 0.8827354907989502\n",
      "-----------------------------------\n",
      "-----------------------------------\n",
      "Evaluando modelo: forest\n",
      "Con los siguientes parámetros: {'max_depth': 7, 'n_estimators': 50, 'class_weight': 'balanced'}\n",
      "MAUC validación: 0.6612107157707214\n",
      "MAUC entrenamiento: 0.8974992632865906\n",
      "-----------------------------------\n",
      "-----------------------------------\n",
      "Evaluando modelo: forest\n",
      "Con los siguientes parámetros: {'max_depth': 7, 'n_estimators': 100, 'class_weight': 'balanced'}\n",
      "MAUC validación: 0.665883481502533\n",
      "MAUC entrenamiento: 0.900970458984375\n",
      "-----------------------------------\n",
      "-----------------------------------\n",
      "Evaluando modelo: forest\n",
      "Con los siguientes parámetros: {'max_depth': 7, 'n_estimators': 150, 'class_weight': 'balanced'}\n",
      "MAUC validación: 0.6674296855926514\n",
      "MAUC entrenamiento: 0.9016032218933105\n",
      "-----------------------------------\n",
      "-----------------------------------\n",
      "Evaluando modelo: forest\n",
      "Con los siguientes parámetros: {'max_depth': 7, 'n_estimators': 200, 'class_weight': 'balanced'}\n",
      "MAUC validación: 0.6530875563621521\n",
      "MAUC entrenamiento: 0.8970522284507751\n",
      "-----------------------------------\n",
      "-----------------------------------\n",
      "Evaluando modelo: knn\n",
      "Con los siguientes parámetros: {'n_neighbors': 3}\n",
      "MAUC validación: 0.6702468395233154\n",
      "MAUC entrenamiento: 0.7859151363372803\n",
      "-----------------------------------\n",
      "-----------------------------------\n",
      "Evaluando modelo: knn\n",
      "Con los siguientes parámetros: {'n_neighbors': 5}\n",
      "MAUC validación: 0.6816179156303406\n",
      "MAUC entrenamiento: 0.7537753582000732\n",
      "-----------------------------------\n",
      "-----------------------------------\n",
      "Evaluando modelo: knn\n",
      "Con los siguientes parámetros: {'n_neighbors': 7}\n",
      "MAUC validación: 0.6367160677909851\n",
      "MAUC entrenamiento: 0.7186717987060547\n",
      "-----------------------------------\n",
      "-----------------------------------\n",
      "Evaluando modelo: tree\n",
      "Con los siguientes parámetros: {'max_depth': 3, 'class_weight': 'balanced'}\n",
      "MAUC validación: 0.8099977970123291\n",
      "MAUC entrenamiento: 0.8722226023674011\n",
      "-----------------------------------\n",
      "-----------------------------------\n",
      "Evaluando modelo: tree\n",
      "Con los siguientes parámetros: {'max_depth': 5, 'class_weight': 'balanced'}\n",
      "MAUC validación: 0.8029095530509949\n",
      "MAUC entrenamiento: 0.9125675559043884\n",
      "-----------------------------------\n",
      "-----------------------------------\n",
      "Evaluando modelo: tree\n",
      "Con los siguientes parámetros: {'max_depth': 7, 'class_weight': 'balanced'}\n"
     ]
    },
    {
     "name": "stdout",
     "output_type": "stream",
     "text": [
      "MAUC validación: 0.7524588108062744\n",
      "MAUC entrenamiento: 0.9168996214866638\n",
      "-----------------------------------\n",
      "###########################################################\n",
      "Probando hiperparámetros: n_comp: 600,umbral: 0.0005\n",
      "###########################################################\n",
      "-----------------------------------\n",
      "Evaluando modelo: svc\n",
      "Con los siguientes parámetros: {'kernel': 'linear', 'gamma': 'auto', 'C': 0.1, 'class_weight': 'balanced'}\n",
      "MAUC validación: 0.8095375895500183\n",
      "MAUC entrenamiento: 0.9455177187919617\n",
      "-----------------------------------\n",
      "-----------------------------------\n",
      "Evaluando modelo: svc\n",
      "Con los siguientes parámetros: {'kernel': 'linear', 'gamma': 'auto', 'C': 1.0, 'class_weight': 'balanced'}\n",
      "MAUC validación: 0.8095375895500183\n",
      "MAUC entrenamiento: 0.9455177187919617\n",
      "-----------------------------------\n",
      "-----------------------------------\n",
      "Evaluando modelo: svc\n",
      "Con los siguientes parámetros: {'kernel': 'linear', 'gamma': 0.2, 'C': 0.1, 'class_weight': 'balanced'}\n",
      "MAUC validación: 0.8095375895500183\n",
      "MAUC entrenamiento: 0.9455177187919617\n",
      "-----------------------------------\n",
      "-----------------------------------\n",
      "Evaluando modelo: svc\n",
      "Con los siguientes parámetros: {'kernel': 'linear', 'gamma': 0.2, 'C': 1.0, 'class_weight': 'balanced'}\n",
      "MAUC validación: 0.8095375895500183\n",
      "MAUC entrenamiento: 0.9455177187919617\n",
      "-----------------------------------\n",
      "-----------------------------------\n",
      "Evaluando modelo: svc\n",
      "Con los siguientes parámetros: {'kernel': 'linear', 'gamma': 0.7, 'C': 0.1, 'class_weight': 'balanced'}\n",
      "MAUC validación: 0.8095375895500183\n",
      "MAUC entrenamiento: 0.9455177187919617\n",
      "-----------------------------------\n",
      "-----------------------------------\n",
      "Evaluando modelo: svc\n",
      "Con los siguientes parámetros: {'kernel': 'linear', 'gamma': 0.7, 'C': 1.0, 'class_weight': 'balanced'}\n",
      "MAUC validación: 0.8095375895500183\n",
      "MAUC entrenamiento: 0.9455177187919617\n",
      "-----------------------------------\n",
      "-----------------------------------\n",
      "Evaluando modelo: svc\n",
      "Con los siguientes parámetros: {'kernel': 'linear', 'gamma': 1, 'C': 0.1, 'class_weight': 'balanced'}\n",
      "MAUC validación: 0.8095375895500183\n",
      "MAUC entrenamiento: 0.9455177187919617\n",
      "-----------------------------------\n",
      "-----------------------------------\n",
      "Evaluando modelo: svc\n",
      "Con los siguientes parámetros: {'kernel': 'linear', 'gamma': 1, 'C': 1.0, 'class_weight': 'balanced'}\n",
      "MAUC validación: 0.8095375895500183\n",
      "MAUC entrenamiento: 0.9455177187919617\n",
      "-----------------------------------\n",
      "-----------------------------------\n",
      "Evaluando modelo: svc\n",
      "Con los siguientes parámetros: {'kernel': 'poly', 'gamma': 'auto', 'C': 0.1, 'class_weight': 'balanced'}\n",
      "MAUC validación: 0.5\n",
      "MAUC entrenamiento: 0.8531022667884827\n",
      "-----------------------------------\n",
      "-----------------------------------\n",
      "Evaluando modelo: svc\n",
      "Con los siguientes parámetros: {'kernel': 'poly', 'gamma': 'auto', 'C': 1.0, 'class_weight': 'balanced'}\n",
      "MAUC validación: 0.5\n",
      "MAUC entrenamiento: 0.8531022667884827\n",
      "-----------------------------------\n",
      "-----------------------------------\n",
      "Evaluando modelo: svc\n",
      "Con los siguientes parámetros: {'kernel': 'poly', 'gamma': 0.2, 'C': 0.1, 'class_weight': 'balanced'}\n",
      "MAUC validación: 0.5\n",
      "MAUC entrenamiento: 0.8531022667884827\n",
      "-----------------------------------\n",
      "-----------------------------------\n",
      "Evaluando modelo: svc\n",
      "Con los siguientes parámetros: {'kernel': 'poly', 'gamma': 0.2, 'C': 1.0, 'class_weight': 'balanced'}\n",
      "MAUC validación: 0.5\n",
      "MAUC entrenamiento: 0.8531022667884827\n",
      "-----------------------------------\n",
      "-----------------------------------\n",
      "Evaluando modelo: svc\n",
      "Con los siguientes parámetros: {'kernel': 'poly', 'gamma': 0.7, 'C': 0.1, 'class_weight': 'balanced'}\n",
      "MAUC validación: 0.5\n",
      "MAUC entrenamiento: 0.8531022667884827\n",
      "-----------------------------------\n",
      "-----------------------------------\n",
      "Evaluando modelo: svc\n",
      "Con los siguientes parámetros: {'kernel': 'poly', 'gamma': 0.7, 'C': 1.0, 'class_weight': 'balanced'}\n",
      "MAUC validación: 0.5\n",
      "MAUC entrenamiento: 0.8531022667884827\n",
      "-----------------------------------\n",
      "-----------------------------------\n",
      "Evaluando modelo: svc\n",
      "Con los siguientes parámetros: {'kernel': 'poly', 'gamma': 1, 'C': 0.1, 'class_weight': 'balanced'}\n",
      "MAUC validación: 0.5\n",
      "MAUC entrenamiento: 0.8531022667884827\n",
      "-----------------------------------\n",
      "-----------------------------------\n",
      "Evaluando modelo: svc\n",
      "Con los siguientes parámetros: {'kernel': 'poly', 'gamma': 1, 'C': 1.0, 'class_weight': 'balanced'}\n",
      "MAUC validación: 0.5\n",
      "MAUC entrenamiento: 0.8531022667884827\n",
      "-----------------------------------\n",
      "-----------------------------------\n",
      "Evaluando modelo: svc\n",
      "Con los siguientes parámetros: {'kernel': 'sigmoid', 'gamma': 'auto', 'C': 0.1, 'class_weight': 'balanced'}\n",
      "MAUC validación: 0.8099228739738464\n",
      "MAUC entrenamiento: 0.7796814441680908\n",
      "-----------------------------------\n",
      "-----------------------------------\n",
      "Evaluando modelo: svc\n",
      "Con los siguientes parámetros: {'kernel': 'sigmoid', 'gamma': 'auto', 'C': 1.0, 'class_weight': 'balanced'}\n",
      "MAUC validación: 0.7864067554473877\n",
      "MAUC entrenamiento: 0.7489326596260071\n",
      "-----------------------------------\n",
      "-----------------------------------\n",
      "Evaluando modelo: svc\n",
      "Con los siguientes parámetros: {'kernel': 'sigmoid', 'gamma': 0.2, 'C': 0.1, 'class_weight': 'balanced'}\n",
      "MAUC validación: 0.8394692540168762\n",
      "MAUC entrenamiento: 0.7762396931648254\n",
      "-----------------------------------\n",
      "-----------------------------------\n",
      "Evaluando modelo: svc\n",
      "Con los siguientes parámetros: {'kernel': 'sigmoid', 'gamma': 0.2, 'C': 1.0, 'class_weight': 'balanced'}\n",
      "MAUC validación: 0.7969837784767151\n",
      "MAUC entrenamiento: 0.759991466999054\n",
      "-----------------------------------\n",
      "-----------------------------------\n",
      "Evaluando modelo: svc\n",
      "Con los siguientes parámetros: {'kernel': 'sigmoid', 'gamma': 0.7, 'C': 0.1, 'class_weight': 'balanced'}\n",
      "MAUC validación: 0.8430616855621338\n",
      "MAUC entrenamiento: 0.7775672078132629\n",
      "-----------------------------------\n",
      "-----------------------------------\n",
      "Evaluando modelo: svc\n",
      "Con los siguientes parámetros: {'kernel': 'sigmoid', 'gamma': 0.7, 'C': 1.0, 'class_weight': 'balanced'}\n",
      "MAUC validación: 0.8012457489967346\n",
      "MAUC entrenamiento: 0.7539046406745911\n",
      "-----------------------------------\n",
      "-----------------------------------\n",
      "Evaluando modelo: svc\n",
      "Con los siguientes parámetros: {'kernel': 'sigmoid', 'gamma': 1, 'C': 0.1, 'class_weight': 'balanced'}\n",
      "MAUC validación: 0.8410555720329285\n",
      "MAUC entrenamiento: 0.7759859561920166\n",
      "-----------------------------------\n",
      "-----------------------------------\n",
      "Evaluando modelo: svc\n",
      "Con los siguientes parámetros: {'kernel': 'sigmoid', 'gamma': 1, 'C': 1.0, 'class_weight': 'balanced'}\n",
      "MAUC validación: 0.7957219481468201\n",
      "MAUC entrenamiento: 0.735741138458252\n",
      "-----------------------------------\n",
      "-----------------------------------\n",
      "Evaluando modelo: forest\n",
      "Con los siguientes parámetros: {'max_depth': 3, 'n_estimators': 10, 'class_weight': 'balanced'}\n",
      "MAUC validación: 0.6868823170661926\n",
      "MAUC entrenamiento: 0.8345151543617249\n",
      "-----------------------------------\n",
      "-----------------------------------\n",
      "Evaluando modelo: forest\n",
      "Con los siguientes parámetros: {'max_depth': 3, 'n_estimators': 50, 'class_weight': 'balanced'}\n",
      "MAUC validación: 0.7518197894096375\n",
      "MAUC entrenamiento: 0.8782389163970947\n",
      "-----------------------------------\n",
      "-----------------------------------\n",
      "Evaluando modelo: forest\n",
      "Con los siguientes parámetros: {'max_depth': 3, 'n_estimators': 100, 'class_weight': 'balanced'}\n",
      "MAUC validación: 0.7359888553619385\n",
      "MAUC entrenamiento: 0.8904509544372559\n",
      "-----------------------------------\n",
      "-----------------------------------\n",
      "Evaluando modelo: forest\n",
      "Con los siguientes parámetros: {'max_depth': 3, 'n_estimators': 150, 'class_weight': 'balanced'}\n",
      "MAUC validación: 0.7295461297035217\n",
      "MAUC entrenamiento: 0.8868775963783264\n",
      "-----------------------------------\n",
      "-----------------------------------\n",
      "Evaluando modelo: forest\n",
      "Con los siguientes parámetros: {'max_depth': 3, 'n_estimators': 200, 'class_weight': 'balanced'}\n",
      "MAUC validación: 0.7245883941650391\n",
      "MAUC entrenamiento: 0.8893749117851257\n",
      "-----------------------------------\n",
      "-----------------------------------\n",
      "Evaluando modelo: forest\n",
      "Con los siguientes parámetros: {'max_depth': 5, 'n_estimators': 10, 'class_weight': 'balanced'}\n",
      "MAUC validación: 0.6487526297569275\n"
     ]
    },
    {
     "name": "stdout",
     "output_type": "stream",
     "text": [
      "MAUC entrenamiento: 0.8685010075569153\n",
      "-----------------------------------\n",
      "-----------------------------------\n",
      "Evaluando modelo: forest\n",
      "Con los siguientes parámetros: {'max_depth': 5, 'n_estimators': 50, 'class_weight': 'balanced'}\n",
      "MAUC validación: 0.6425818800926208\n",
      "MAUC entrenamiento: 0.887169361114502\n",
      "-----------------------------------\n",
      "-----------------------------------\n",
      "Evaluando modelo: forest\n",
      "Con los siguientes parámetros: {'max_depth': 5, 'n_estimators': 100, 'class_weight': 'balanced'}\n",
      "MAUC validación: 0.6508857607841492\n",
      "MAUC entrenamiento: 0.8951240181922913\n",
      "-----------------------------------\n",
      "-----------------------------------\n",
      "Evaluando modelo: forest\n",
      "Con los siguientes parámetros: {'max_depth': 5, 'n_estimators': 150, 'class_weight': 'balanced'}\n",
      "MAUC validación: 0.6600373387336731\n",
      "MAUC entrenamiento: 0.8983210921287537\n",
      "-----------------------------------\n",
      "-----------------------------------\n",
      "Evaluando modelo: forest\n",
      "Con los siguientes parámetros: {'max_depth': 5, 'n_estimators': 200, 'class_weight': 'balanced'}\n",
      "MAUC validación: 0.6872417330741882\n",
      "MAUC entrenamiento: 0.9057097434997559\n",
      "-----------------------------------\n",
      "-----------------------------------\n",
      "Evaluando modelo: forest\n",
      "Con los siguientes parámetros: {'max_depth': 7, 'n_estimators': 10, 'class_weight': 'balanced'}\n",
      "MAUC validación: 0.6207569241523743\n",
      "MAUC entrenamiento: 0.86720210313797\n",
      "-----------------------------------\n",
      "-----------------------------------\n",
      "Evaluando modelo: forest\n",
      "Con los siguientes parámetros: {'max_depth': 7, 'n_estimators': 50, 'class_weight': 'balanced'}\n",
      "MAUC validación: 0.6255645155906677\n",
      "MAUC entrenamiento: 0.8882393836975098\n",
      "-----------------------------------\n",
      "-----------------------------------\n",
      "Evaluando modelo: forest\n",
      "Con los siguientes parámetros: {'max_depth': 7, 'n_estimators': 100, 'class_weight': 'balanced'}\n",
      "MAUC validación: 0.6212666034698486\n",
      "MAUC entrenamiento: 0.8890056610107422\n",
      "-----------------------------------\n",
      "-----------------------------------\n",
      "Evaluando modelo: forest\n",
      "Con los siguientes parámetros: {'max_depth': 7, 'n_estimators': 150, 'class_weight': 'balanced'}\n",
      "MAUC validación: 0.6236642003059387\n",
      "MAUC entrenamiento: 0.8900650143623352\n",
      "-----------------------------------\n",
      "-----------------------------------\n",
      "Evaluando modelo: forest\n",
      "Con los siguientes parámetros: {'max_depth': 7, 'n_estimators': 200, 'class_weight': 'balanced'}\n",
      "MAUC validación: 0.6320449709892273\n",
      "MAUC entrenamiento: 0.8926317691802979\n",
      "-----------------------------------\n",
      "-----------------------------------\n",
      "Evaluando modelo: knn\n",
      "Con los siguientes parámetros: {'n_neighbors': 3}\n",
      "MAUC validación: 0.5\n",
      "MAUC entrenamiento: 0.5579884052276611\n",
      "-----------------------------------\n",
      "-----------------------------------\n",
      "Evaluando modelo: knn\n",
      "Con los siguientes parámetros: {'n_neighbors': 5}\n",
      "MAUC validación: 0.5\n",
      "MAUC entrenamiento: 0.5\n",
      "-----------------------------------\n",
      "-----------------------------------\n",
      "Evaluando modelo: knn\n",
      "Con los siguientes parámetros: {'n_neighbors': 7}\n",
      "MAUC validación: 0.5\n",
      "MAUC entrenamiento: 0.5\n",
      "-----------------------------------\n",
      "-----------------------------------\n",
      "Evaluando modelo: tree\n",
      "Con los siguientes parámetros: {'max_depth': 3, 'class_weight': 'balanced'}\n",
      "MAUC validación: 0.7613039016723633\n",
      "MAUC entrenamiento: 0.8602250218391418\n",
      "-----------------------------------\n",
      "-----------------------------------\n",
      "Evaluando modelo: tree\n",
      "Con los siguientes parámetros: {'max_depth': 5, 'class_weight': 'balanced'}\n",
      "MAUC validación: 0.7816682457923889\n",
      "MAUC entrenamiento: 0.9147370457649231\n",
      "-----------------------------------\n",
      "-----------------------------------\n",
      "Evaluando modelo: tree\n",
      "Con los siguientes parámetros: {'max_depth': 7, 'class_weight': 'balanced'}\n",
      "MAUC validación: 0.7600074410438538\n",
      "MAUC entrenamiento: 0.9198848605155945\n",
      "-----------------------------------\n",
      "###########################################################\n",
      "Probando hiperparámetros: n_comp: 12,umbral: 0.01\n",
      "###########################################################\n",
      "-----------------------------------\n",
      "Evaluando modelo: svc\n",
      "Con los siguientes parámetros: {'kernel': 'linear', 'gamma': 'auto', 'C': 0.1, 'class_weight': 'balanced'}\n",
      "MAUC validación: 0.8830523490905762\n",
      "MAUC entrenamiento: 0.8881940841674805\n",
      "-----------------------------------\n",
      "-----------------------------------\n",
      "Evaluando modelo: svc\n",
      "Con los siguientes parámetros: {'kernel': 'linear', 'gamma': 'auto', 'C': 1.0, 'class_weight': 'balanced'}\n",
      "MAUC validación: 0.8830523490905762\n",
      "MAUC entrenamiento: 0.8894961476325989\n",
      "-----------------------------------\n",
      "-----------------------------------\n",
      "Evaluando modelo: svc\n",
      "Con los siguientes parámetros: {'kernel': 'linear', 'gamma': 0.2, 'C': 0.1, 'class_weight': 'balanced'}\n",
      "MAUC validación: 0.8830523490905762\n",
      "MAUC entrenamiento: 0.8881940841674805\n",
      "-----------------------------------\n",
      "-----------------------------------\n",
      "Evaluando modelo: svc\n",
      "Con los siguientes parámetros: {'kernel': 'linear', 'gamma': 0.2, 'C': 1.0, 'class_weight': 'balanced'}\n",
      "MAUC validación: 0.8830523490905762\n",
      "MAUC entrenamiento: 0.8894961476325989\n",
      "-----------------------------------\n",
      "-----------------------------------\n",
      "Evaluando modelo: svc\n",
      "Con los siguientes parámetros: {'kernel': 'linear', 'gamma': 0.7, 'C': 0.1, 'class_weight': 'balanced'}\n",
      "MAUC validación: 0.8830523490905762\n",
      "MAUC entrenamiento: 0.8881940841674805\n",
      "-----------------------------------\n",
      "-----------------------------------\n",
      "Evaluando modelo: svc\n",
      "Con los siguientes parámetros: {'kernel': 'linear', 'gamma': 0.7, 'C': 1.0, 'class_weight': 'balanced'}\n",
      "MAUC validación: 0.8830523490905762\n",
      "MAUC entrenamiento: 0.8894961476325989\n",
      "-----------------------------------\n",
      "-----------------------------------\n",
      "Evaluando modelo: svc\n",
      "Con los siguientes parámetros: {'kernel': 'linear', 'gamma': 1, 'C': 0.1, 'class_weight': 'balanced'}\n",
      "MAUC validación: 0.8830523490905762\n",
      "MAUC entrenamiento: 0.8881940841674805\n",
      "-----------------------------------\n",
      "-----------------------------------\n",
      "Evaluando modelo: svc\n",
      "Con los siguientes parámetros: {'kernel': 'linear', 'gamma': 1, 'C': 1.0, 'class_weight': 'balanced'}\n",
      "MAUC validación: 0.8830523490905762\n",
      "MAUC entrenamiento: 0.8894961476325989\n",
      "-----------------------------------\n",
      "-----------------------------------\n",
      "Evaluando modelo: svc\n",
      "Con los siguientes parámetros: {'kernel': 'poly', 'gamma': 'auto', 'C': 0.1, 'class_weight': 'balanced'}\n",
      "MAUC validación: 0.7719510197639465\n",
      "MAUC entrenamiento: 0.9335991740226746\n",
      "-----------------------------------\n",
      "-----------------------------------\n",
      "Evaluando modelo: svc\n",
      "Con los siguientes parámetros: {'kernel': 'poly', 'gamma': 'auto', 'C': 1.0, 'class_weight': 'balanced'}\n",
      "MAUC validación: 0.7719510197639465\n",
      "MAUC entrenamiento: 0.9335991740226746\n",
      "-----------------------------------\n",
      "-----------------------------------\n",
      "Evaluando modelo: svc\n",
      "Con los siguientes parámetros: {'kernel': 'poly', 'gamma': 0.2, 'C': 0.1, 'class_weight': 'balanced'}\n",
      "MAUC validación: 0.7719510197639465\n",
      "MAUC entrenamiento: 0.9335991740226746\n",
      "-----------------------------------\n",
      "-----------------------------------\n",
      "Evaluando modelo: svc\n",
      "Con los siguientes parámetros: {'kernel': 'poly', 'gamma': 0.2, 'C': 1.0, 'class_weight': 'balanced'}\n",
      "MAUC validación: 0.7719510197639465\n",
      "MAUC entrenamiento: 0.9335991740226746\n",
      "-----------------------------------\n",
      "-----------------------------------\n",
      "Evaluando modelo: svc\n",
      "Con los siguientes parámetros: {'kernel': 'poly', 'gamma': 0.7, 'C': 0.1, 'class_weight': 'balanced'}\n",
      "MAUC validación: 0.7719510197639465\n",
      "MAUC entrenamiento: 0.9335991740226746\n",
      "-----------------------------------\n",
      "-----------------------------------\n",
      "Evaluando modelo: svc\n",
      "Con los siguientes parámetros: {'kernel': 'poly', 'gamma': 0.7, 'C': 1.0, 'class_weight': 'balanced'}\n",
      "MAUC validación: 0.7719510197639465\n",
      "MAUC entrenamiento: 0.9335991740226746\n",
      "-----------------------------------\n",
      "-----------------------------------\n",
      "Evaluando modelo: svc\n",
      "Con los siguientes parámetros: {'kernel': 'poly', 'gamma': 1, 'C': 0.1, 'class_weight': 'balanced'}\n",
      "MAUC validación: 0.7719510197639465\n",
      "MAUC entrenamiento: 0.9335991740226746\n",
      "-----------------------------------\n",
      "-----------------------------------\n",
      "Evaluando modelo: svc\n",
      "Con los siguientes parámetros: {'kernel': 'poly', 'gamma': 1, 'C': 1.0, 'class_weight': 'balanced'}\n",
      "MAUC validación: 0.7719510197639465\n"
     ]
    },
    {
     "name": "stdout",
     "output_type": "stream",
     "text": [
      "MAUC entrenamiento: 0.9335991740226746\n",
      "-----------------------------------\n",
      "-----------------------------------\n",
      "Evaluando modelo: svc\n",
      "Con los siguientes parámetros: {'kernel': 'sigmoid', 'gamma': 'auto', 'C': 0.1, 'class_weight': 'balanced'}\n",
      "MAUC validación: 0.8070090413093567\n",
      "MAUC entrenamiento: 0.7581281065940857\n",
      "-----------------------------------\n",
      "-----------------------------------\n",
      "Evaluando modelo: svc\n",
      "Con los siguientes parámetros: {'kernel': 'sigmoid', 'gamma': 'auto', 'C': 1.0, 'class_weight': 'balanced'}\n",
      "MAUC validación: 0.7432472109794617\n",
      "MAUC entrenamiento: 0.72532057762146\n",
      "-----------------------------------\n",
      "-----------------------------------\n",
      "Evaluando modelo: svc\n",
      "Con los siguientes parámetros: {'kernel': 'sigmoid', 'gamma': 0.2, 'C': 0.1, 'class_weight': 'balanced'}\n",
      "MAUC validación: 0.8048213124275208\n",
      "MAUC entrenamiento: 0.757380485534668\n",
      "-----------------------------------\n",
      "-----------------------------------\n",
      "Evaluando modelo: svc\n",
      "Con los siguientes parámetros: {'kernel': 'sigmoid', 'gamma': 0.2, 'C': 1.0, 'class_weight': 'balanced'}\n",
      "MAUC validación: 0.7469443678855896\n",
      "MAUC entrenamiento: 0.727851927280426\n",
      "-----------------------------------\n",
      "-----------------------------------\n",
      "Evaluando modelo: svc\n",
      "Con los siguientes parámetros: {'kernel': 'sigmoid', 'gamma': 0.7, 'C': 0.1, 'class_weight': 'balanced'}\n",
      "MAUC validación: 0.7898733019828796\n",
      "MAUC entrenamiento: 0.7503812313079834\n",
      "-----------------------------------\n",
      "-----------------------------------\n",
      "Evaluando modelo: svc\n",
      "Con los siguientes parámetros: {'kernel': 'sigmoid', 'gamma': 0.7, 'C': 1.0, 'class_weight': 'balanced'}\n",
      "MAUC validación: 0.7765228152275085\n",
      "MAUC entrenamiento: 0.7423184514045715\n",
      "-----------------------------------\n",
      "-----------------------------------\n",
      "Evaluando modelo: svc\n",
      "Con los siguientes parámetros: {'kernel': 'sigmoid', 'gamma': 1, 'C': 0.1, 'class_weight': 'balanced'}\n",
      "MAUC validación: 0.7953199744224548\n",
      "MAUC entrenamiento: 0.7578186988830566\n",
      "-----------------------------------\n",
      "-----------------------------------\n",
      "Evaluando modelo: svc\n",
      "Con los siguientes parámetros: {'kernel': 'sigmoid', 'gamma': 1, 'C': 1.0, 'class_weight': 'balanced'}\n",
      "MAUC validación: 0.7699759602546692\n",
      "MAUC entrenamiento: 0.7400901913642883\n",
      "-----------------------------------\n",
      "-----------------------------------\n",
      "Evaluando modelo: forest\n",
      "Con los siguientes parámetros: {'max_depth': 3, 'n_estimators': 10, 'class_weight': 'balanced'}\n",
      "MAUC validación: 0.8392603993415833\n",
      "MAUC entrenamiento: 0.8933841586112976\n",
      "-----------------------------------\n",
      "-----------------------------------\n",
      "Evaluando modelo: forest\n",
      "Con los siguientes parámetros: {'max_depth': 3, 'n_estimators': 50, 'class_weight': 'balanced'}\n",
      "MAUC validación: 0.8481375575065613\n",
      "MAUC entrenamiento: 0.9008256793022156\n",
      "-----------------------------------\n",
      "-----------------------------------\n",
      "Evaluando modelo: forest\n",
      "Con los siguientes parámetros: {'max_depth': 3, 'n_estimators': 100, 'class_weight': 'balanced'}\n",
      "MAUC validación: 0.8462837338447571\n",
      "MAUC entrenamiento: 0.9001927375793457\n",
      "-----------------------------------\n",
      "-----------------------------------\n",
      "Evaluando modelo: forest\n",
      "Con los siguientes parámetros: {'max_depth': 3, 'n_estimators': 150, 'class_weight': 'balanced'}\n",
      "MAUC validación: 0.84637850522995\n",
      "MAUC entrenamiento: 0.8992018699645996\n",
      "-----------------------------------\n",
      "-----------------------------------\n",
      "Evaluando modelo: forest\n",
      "Con los siguientes parámetros: {'max_depth': 3, 'n_estimators': 200, 'class_weight': 'balanced'}\n",
      "MAUC validación: 0.8545495867729187\n",
      "MAUC entrenamiento: 0.9061660766601562\n",
      "-----------------------------------\n",
      "-----------------------------------\n",
      "Evaluando modelo: forest\n",
      "Con los siguientes parámetros: {'max_depth': 5, 'n_estimators': 10, 'class_weight': 'balanced'}\n",
      "MAUC validación: 0.8306724429130554\n",
      "MAUC entrenamiento: 0.9135037064552307\n",
      "-----------------------------------\n",
      "-----------------------------------\n",
      "Evaluando modelo: forest\n",
      "Con los siguientes parámetros: {'max_depth': 5, 'n_estimators': 50, 'class_weight': 'balanced'}\n",
      "MAUC validación: 0.8448812365531921\n",
      "MAUC entrenamiento: 0.9270779490470886\n",
      "-----------------------------------\n",
      "-----------------------------------\n",
      "Evaluando modelo: forest\n",
      "Con los siguientes parámetros: {'max_depth': 5, 'n_estimators': 100, 'class_weight': 'balanced'}\n",
      "MAUC validación: 0.8326130509376526\n",
      "MAUC entrenamiento: 0.9257493019104004\n",
      "-----------------------------------\n",
      "-----------------------------------\n",
      "Evaluando modelo: forest\n",
      "Con los siguientes parámetros: {'max_depth': 5, 'n_estimators': 150, 'class_weight': 'balanced'}\n",
      "MAUC validación: 0.8467158675193787\n",
      "MAUC entrenamiento: 0.9327517151832581\n",
      "-----------------------------------\n",
      "-----------------------------------\n",
      "Evaluando modelo: forest\n",
      "Con los siguientes parámetros: {'max_depth': 5, 'n_estimators': 200, 'class_weight': 'balanced'}\n",
      "MAUC validación: 0.8367297053337097\n",
      "MAUC entrenamiento: 0.9301409721374512\n",
      "-----------------------------------\n",
      "-----------------------------------\n",
      "Evaluando modelo: forest\n",
      "Con los siguientes parámetros: {'max_depth': 7, 'n_estimators': 10, 'class_weight': 'balanced'}\n",
      "MAUC validación: 0.8122687339782715\n",
      "MAUC entrenamiento: 0.9272914528846741\n",
      "-----------------------------------\n",
      "-----------------------------------\n",
      "Evaluando modelo: forest\n",
      "Con los siguientes parámetros: {'max_depth': 7, 'n_estimators': 50, 'class_weight': 'balanced'}\n",
      "MAUC validación: 0.8340287208557129\n",
      "MAUC entrenamiento: 0.9440600275993347\n",
      "-----------------------------------\n",
      "-----------------------------------\n",
      "Evaluando modelo: forest\n",
      "Con los siguientes parámetros: {'max_depth': 7, 'n_estimators': 100, 'class_weight': 'balanced'}\n",
      "MAUC validación: 0.8149828910827637\n",
      "MAUC entrenamiento: 0.9391780495643616\n",
      "-----------------------------------\n",
      "-----------------------------------\n",
      "Evaluando modelo: forest\n",
      "Con los siguientes parámetros: {'max_depth': 7, 'n_estimators': 150, 'class_weight': 'balanced'}\n",
      "MAUC validación: 0.8178226947784424\n",
      "MAUC entrenamiento: 0.941577136516571\n",
      "-----------------------------------\n",
      "-----------------------------------\n",
      "Evaluando modelo: forest\n",
      "Con los siguientes parámetros: {'max_depth': 7, 'n_estimators': 200, 'class_weight': 'balanced'}\n",
      "MAUC validación: 0.8136837482452393\n",
      "MAUC entrenamiento: 0.9398667812347412\n",
      "-----------------------------------\n",
      "-----------------------------------\n",
      "Evaluando modelo: knn\n",
      "Con los siguientes parámetros: {'n_neighbors': 3}\n",
      "MAUC validación: 0.801234245300293\n",
      "MAUC entrenamiento: 0.859808623790741\n",
      "-----------------------------------\n",
      "-----------------------------------\n",
      "Evaluando modelo: knn\n",
      "Con los siguientes parámetros: {'n_neighbors': 5}\n",
      "MAUC validación: 0.7959113121032715\n",
      "MAUC entrenamiento: 0.8318597674369812\n",
      "-----------------------------------\n",
      "-----------------------------------\n",
      "Evaluando modelo: knn\n",
      "Con los siguientes parámetros: {'n_neighbors': 7}\n",
      "MAUC validación: 0.8172116875648499\n",
      "MAUC entrenamiento: 0.8232839107513428\n",
      "-----------------------------------\n",
      "-----------------------------------\n",
      "Evaluando modelo: tree\n",
      "Con los siguientes parámetros: {'max_depth': 3, 'class_weight': 'balanced'}\n",
      "MAUC validación: 0.8319880366325378\n",
      "MAUC entrenamiento: 0.8597680926322937\n",
      "-----------------------------------\n",
      "-----------------------------------\n",
      "Evaluando modelo: tree\n",
      "Con los siguientes parámetros: {'max_depth': 5, 'class_weight': 'balanced'}\n",
      "MAUC validación: 0.8217166066169739\n",
      "MAUC entrenamiento: 0.8915651440620422\n",
      "-----------------------------------\n",
      "-----------------------------------\n",
      "Evaluando modelo: tree\n",
      "Con los siguientes parámetros: {'max_depth': 7, 'class_weight': 'balanced'}\n",
      "MAUC validación: 0.7819015383720398\n",
      "MAUC entrenamiento: 0.9059259295463562\n",
      "-----------------------------------\n",
      "###########################################################\n",
      "Probando hiperparámetros: n_comp: 25,umbral: 0.01\n",
      "###########################################################\n",
      "-----------------------------------\n",
      "Evaluando modelo: svc\n",
      "Con los siguientes parámetros: {'kernel': 'linear', 'gamma': 'auto', 'C': 0.1, 'class_weight': 'balanced'}\n",
      "MAUC validación: 0.8778653740882874\n",
      "MAUC entrenamiento: 0.9159984588623047\n",
      "-----------------------------------\n",
      "-----------------------------------\n",
      "Evaluando modelo: svc\n",
      "Con los siguientes parámetros: {'kernel': 'linear', 'gamma': 'auto', 'C': 1.0, 'class_weight': 'balanced'}\n"
     ]
    },
    {
     "name": "stdout",
     "output_type": "stream",
     "text": [
      "MAUC validación: 0.8778653740882874\n",
      "MAUC entrenamiento: 0.9159984588623047\n",
      "-----------------------------------\n",
      "-----------------------------------\n",
      "Evaluando modelo: svc\n",
      "Con los siguientes parámetros: {'kernel': 'linear', 'gamma': 0.2, 'C': 0.1, 'class_weight': 'balanced'}\n",
      "MAUC validación: 0.8778653740882874\n",
      "MAUC entrenamiento: 0.9159984588623047\n",
      "-----------------------------------\n",
      "-----------------------------------\n",
      "Evaluando modelo: svc\n",
      "Con los siguientes parámetros: {'kernel': 'linear', 'gamma': 0.2, 'C': 1.0, 'class_weight': 'balanced'}\n",
      "MAUC validación: 0.8778653740882874\n",
      "MAUC entrenamiento: 0.9159984588623047\n",
      "-----------------------------------\n",
      "-----------------------------------\n",
      "Evaluando modelo: svc\n",
      "Con los siguientes parámetros: {'kernel': 'linear', 'gamma': 0.7, 'C': 0.1, 'class_weight': 'balanced'}\n",
      "MAUC validación: 0.8778653740882874\n",
      "MAUC entrenamiento: 0.9159984588623047\n",
      "-----------------------------------\n",
      "-----------------------------------\n",
      "Evaluando modelo: svc\n",
      "Con los siguientes parámetros: {'kernel': 'linear', 'gamma': 0.7, 'C': 1.0, 'class_weight': 'balanced'}\n",
      "MAUC validación: 0.8778653740882874\n",
      "MAUC entrenamiento: 0.9159984588623047\n",
      "-----------------------------------\n",
      "-----------------------------------\n",
      "Evaluando modelo: svc\n",
      "Con los siguientes parámetros: {'kernel': 'linear', 'gamma': 1, 'C': 0.1, 'class_weight': 'balanced'}\n",
      "MAUC validación: 0.8778653740882874\n",
      "MAUC entrenamiento: 0.9159984588623047\n",
      "-----------------------------------\n",
      "-----------------------------------\n",
      "Evaluando modelo: svc\n",
      "Con los siguientes parámetros: {'kernel': 'linear', 'gamma': 1, 'C': 1.0, 'class_weight': 'balanced'}\n",
      "MAUC validación: 0.8778653740882874\n",
      "MAUC entrenamiento: 0.9159984588623047\n",
      "-----------------------------------\n",
      "-----------------------------------\n",
      "Evaluando modelo: svc\n",
      "Con los siguientes parámetros: {'kernel': 'poly', 'gamma': 'auto', 'C': 0.1, 'class_weight': 'balanced'}\n",
      "MAUC validación: 0.771602213382721\n",
      "MAUC entrenamiento: 0.9331610798835754\n",
      "-----------------------------------\n",
      "-----------------------------------\n",
      "Evaluando modelo: svc\n",
      "Con los siguientes parámetros: {'kernel': 'poly', 'gamma': 'auto', 'C': 1.0, 'class_weight': 'balanced'}\n",
      "MAUC validación: 0.771602213382721\n",
      "MAUC entrenamiento: 0.9331610798835754\n",
      "-----------------------------------\n",
      "-----------------------------------\n",
      "Evaluando modelo: svc\n",
      "Con los siguientes parámetros: {'kernel': 'poly', 'gamma': 0.2, 'C': 0.1, 'class_weight': 'balanced'}\n",
      "MAUC validación: 0.771602213382721\n",
      "MAUC entrenamiento: 0.9331610798835754\n",
      "-----------------------------------\n",
      "-----------------------------------\n",
      "Evaluando modelo: svc\n",
      "Con los siguientes parámetros: {'kernel': 'poly', 'gamma': 0.2, 'C': 1.0, 'class_weight': 'balanced'}\n",
      "MAUC validación: 0.771602213382721\n",
      "MAUC entrenamiento: 0.9331610798835754\n",
      "-----------------------------------\n",
      "-----------------------------------\n",
      "Evaluando modelo: svc\n",
      "Con los siguientes parámetros: {'kernel': 'poly', 'gamma': 0.7, 'C': 0.1, 'class_weight': 'balanced'}\n",
      "MAUC validación: 0.771602213382721\n",
      "MAUC entrenamiento: 0.9331610798835754\n",
      "-----------------------------------\n",
      "-----------------------------------\n",
      "Evaluando modelo: svc\n",
      "Con los siguientes parámetros: {'kernel': 'poly', 'gamma': 0.7, 'C': 1.0, 'class_weight': 'balanced'}\n",
      "MAUC validación: 0.771602213382721\n",
      "MAUC entrenamiento: 0.9331610798835754\n",
      "-----------------------------------\n",
      "-----------------------------------\n",
      "Evaluando modelo: svc\n",
      "Con los siguientes parámetros: {'kernel': 'poly', 'gamma': 1, 'C': 0.1, 'class_weight': 'balanced'}\n",
      "MAUC validación: 0.771602213382721\n",
      "MAUC entrenamiento: 0.9331610798835754\n",
      "-----------------------------------\n",
      "-----------------------------------\n",
      "Evaluando modelo: svc\n",
      "Con los siguientes parámetros: {'kernel': 'poly', 'gamma': 1, 'C': 1.0, 'class_weight': 'balanced'}\n",
      "MAUC validación: 0.771602213382721\n",
      "MAUC entrenamiento: 0.9331610798835754\n",
      "-----------------------------------\n",
      "-----------------------------------\n",
      "Evaluando modelo: svc\n",
      "Con los siguientes parámetros: {'kernel': 'sigmoid', 'gamma': 'auto', 'C': 0.1, 'class_weight': 'balanced'}\n",
      "MAUC validación: 0.8146412968635559\n",
      "MAUC entrenamiento: 0.7614256739616394\n",
      "-----------------------------------\n",
      "-----------------------------------\n",
      "Evaluando modelo: svc\n",
      "Con los siguientes parámetros: {'kernel': 'sigmoid', 'gamma': 'auto', 'C': 1.0, 'class_weight': 'balanced'}\n",
      "MAUC validación: 0.7887945175170898\n",
      "MAUC entrenamiento: 0.7560148239135742\n",
      "-----------------------------------\n",
      "-----------------------------------\n",
      "Evaluando modelo: svc\n",
      "Con los siguientes parámetros: {'kernel': 'sigmoid', 'gamma': 0.2, 'C': 0.1, 'class_weight': 'balanced'}\n",
      "MAUC validación: 0.8295196890830994\n",
      "MAUC entrenamiento: 0.7559635043144226\n",
      "-----------------------------------\n",
      "-----------------------------------\n",
      "Evaluando modelo: svc\n",
      "Con los siguientes parámetros: {'kernel': 'sigmoid', 'gamma': 0.2, 'C': 1.0, 'class_weight': 'balanced'}\n",
      "MAUC validación: 0.8040342330932617\n",
      "MAUC entrenamiento: 0.7500367760658264\n",
      "-----------------------------------\n",
      "-----------------------------------\n",
      "Evaluando modelo: svc\n",
      "Con los siguientes parámetros: {'kernel': 'sigmoid', 'gamma': 0.7, 'C': 0.1, 'class_weight': 'balanced'}\n",
      "MAUC validación: 0.8164272904396057\n",
      "MAUC entrenamiento: 0.7721483111381531\n",
      "-----------------------------------\n",
      "-----------------------------------\n",
      "Evaluando modelo: svc\n",
      "Con los siguientes parámetros: {'kernel': 'sigmoid', 'gamma': 0.7, 'C': 1.0, 'class_weight': 'balanced'}\n",
      "MAUC validación: 0.7859632968902588\n",
      "MAUC entrenamiento: 0.7467661499977112\n",
      "-----------------------------------\n",
      "-----------------------------------\n",
      "Evaluando modelo: svc\n",
      "Con los siguientes parámetros: {'kernel': 'sigmoid', 'gamma': 1, 'C': 0.1, 'class_weight': 'balanced'}\n",
      "MAUC validación: 0.8144211769104004\n",
      "MAUC entrenamiento: 0.7730863690376282\n",
      "-----------------------------------\n",
      "-----------------------------------\n",
      "Evaluando modelo: svc\n",
      "Con los siguientes parámetros: {'kernel': 'sigmoid', 'gamma': 1, 'C': 1.0, 'class_weight': 'balanced'}\n",
      "MAUC validación: 0.779350221157074\n",
      "MAUC entrenamiento: 0.7364781498908997\n",
      "-----------------------------------\n",
      "-----------------------------------\n",
      "Evaluando modelo: forest\n",
      "Con los siguientes parámetros: {'max_depth': 3, 'n_estimators': 10, 'class_weight': 'balanced'}\n",
      "MAUC validación: 0.8263028264045715\n",
      "MAUC entrenamiento: 0.8853106498718262\n",
      "-----------------------------------\n",
      "-----------------------------------\n",
      "Evaluando modelo: forest\n",
      "Con los siguientes parámetros: {'max_depth': 3, 'n_estimators': 50, 'class_weight': 'balanced'}\n",
      "MAUC validación: 0.8592509627342224\n",
      "MAUC entrenamiento: 0.909497082233429\n",
      "-----------------------------------\n",
      "-----------------------------------\n",
      "Evaluando modelo: forest\n",
      "Con los siguientes parámetros: {'max_depth': 3, 'n_estimators': 100, 'class_weight': 'balanced'}\n",
      "MAUC validación: 0.8533942103385925\n",
      "MAUC entrenamiento: 0.9160642623901367\n",
      "-----------------------------------\n",
      "-----------------------------------\n",
      "Evaluando modelo: forest\n",
      "Con los siguientes parámetros: {'max_depth': 3, 'n_estimators': 150, 'class_weight': 'balanced'}\n",
      "MAUC validación: 0.8467146754264832\n",
      "MAUC entrenamiento: 0.9079539179801941\n",
      "-----------------------------------\n",
      "-----------------------------------\n",
      "Evaluando modelo: forest\n",
      "Con los siguientes parámetros: {'max_depth': 3, 'n_estimators': 200, 'class_weight': 'balanced'}\n",
      "MAUC validación: 0.8500016331672668\n",
      "MAUC entrenamiento: 0.9075093865394592\n",
      "-----------------------------------\n",
      "-----------------------------------\n",
      "Evaluando modelo: forest\n",
      "Con los siguientes parámetros: {'max_depth': 5, 'n_estimators': 10, 'class_weight': 'balanced'}\n",
      "MAUC validación: 0.7835243344306946\n",
      "MAUC entrenamiento: 0.8997089862823486\n",
      "-----------------------------------\n",
      "-----------------------------------\n",
      "Evaluando modelo: forest\n",
      "Con los siguientes parámetros: {'max_depth': 5, 'n_estimators': 50, 'class_weight': 'balanced'}\n",
      "MAUC validación: 0.8139684796333313\n",
      "MAUC entrenamiento: 0.9248548150062561\n",
      "-----------------------------------\n",
      "-----------------------------------\n",
      "Evaluando modelo: forest\n",
      "Con los siguientes parámetros: {'max_depth': 5, 'n_estimators': 100, 'class_weight': 'balanced'}\n",
      "MAUC validación: 0.8239262104034424\n",
      "MAUC entrenamiento: 0.9344527125358582\n",
      "-----------------------------------\n",
      "-----------------------------------\n",
      "Evaluando modelo: forest\n",
      "Con los siguientes parámetros: {'max_depth': 5, 'n_estimators': 150, 'class_weight': 'balanced'}\n"
     ]
    },
    {
     "name": "stdout",
     "output_type": "stream",
     "text": [
      "MAUC validación: 0.8219861388206482\n",
      "MAUC entrenamiento: 0.9307051301002502\n",
      "-----------------------------------\n",
      "-----------------------------------\n",
      "Evaluando modelo: forest\n",
      "Con los siguientes parámetros: {'max_depth': 5, 'n_estimators': 200, 'class_weight': 'balanced'}\n",
      "MAUC validación: 0.8051199913024902\n",
      "MAUC entrenamiento: 0.9248494505882263\n",
      "-----------------------------------\n",
      "-----------------------------------\n",
      "Evaluando modelo: forest\n",
      "Con los siguientes parámetros: {'max_depth': 7, 'n_estimators': 10, 'class_weight': 'balanced'}\n",
      "MAUC validación: 0.8039947152137756\n",
      "MAUC entrenamiento: 0.9253585934638977\n",
      "-----------------------------------\n",
      "-----------------------------------\n",
      "Evaluando modelo: forest\n",
      "Con los siguientes parámetros: {'max_depth': 7, 'n_estimators': 50, 'class_weight': 'balanced'}\n",
      "MAUC validación: 0.7586248517036438\n",
      "MAUC entrenamiento: 0.9254316687583923\n",
      "-----------------------------------\n",
      "-----------------------------------\n",
      "Evaluando modelo: forest\n",
      "Con los siguientes parámetros: {'max_depth': 7, 'n_estimators': 100, 'class_weight': 'balanced'}\n",
      "MAUC validación: 0.7963881492614746\n",
      "MAUC entrenamiento: 0.9373018741607666\n",
      "-----------------------------------\n",
      "-----------------------------------\n",
      "Evaluando modelo: forest\n",
      "Con los siguientes parámetros: {'max_depth': 7, 'n_estimators': 150, 'class_weight': 'balanced'}\n",
      "MAUC validación: 0.7743739485740662\n",
      "MAUC entrenamiento: 0.9312596917152405\n",
      "-----------------------------------\n",
      "-----------------------------------\n",
      "Evaluando modelo: forest\n",
      "Con los siguientes parámetros: {'max_depth': 7, 'n_estimators': 200, 'class_weight': 'balanced'}\n",
      "MAUC validación: 0.7798964977264404\n",
      "MAUC entrenamiento: 0.9324060082435608\n",
      "-----------------------------------\n",
      "-----------------------------------\n",
      "Evaluando modelo: knn\n",
      "Con los siguientes parámetros: {'n_neighbors': 3}\n",
      "MAUC validación: 0.7888786196708679\n",
      "MAUC entrenamiento: 0.8417096734046936\n",
      "-----------------------------------\n",
      "-----------------------------------\n",
      "Evaluando modelo: knn\n",
      "Con los siguientes parámetros: {'n_neighbors': 5}\n",
      "MAUC validación: 0.7812630534172058\n",
      "MAUC entrenamiento: 0.8267021179199219\n",
      "-----------------------------------\n",
      "-----------------------------------\n",
      "Evaluando modelo: knn\n",
      "Con los siguientes parámetros: {'n_neighbors': 7}\n",
      "MAUC validación: 0.7930634021759033\n",
      "MAUC entrenamiento: 0.8152360916137695\n",
      "-----------------------------------\n",
      "-----------------------------------\n",
      "Evaluando modelo: tree\n",
      "Con los siguientes parámetros: {'max_depth': 3, 'class_weight': 'balanced'}\n",
      "MAUC validación: 0.8390686511993408\n",
      "MAUC entrenamiento: 0.8620638847351074\n",
      "-----------------------------------\n",
      "-----------------------------------\n",
      "Evaluando modelo: tree\n",
      "Con los siguientes parámetros: {'max_depth': 5, 'class_weight': 'balanced'}\n",
      "MAUC validación: 0.7965388298034668\n",
      "MAUC entrenamiento: 0.8859941363334656\n",
      "-----------------------------------\n",
      "-----------------------------------\n",
      "Evaluando modelo: tree\n",
      "Con los siguientes parámetros: {'max_depth': 7, 'class_weight': 'balanced'}\n",
      "MAUC validación: 0.7751188278198242\n",
      "MAUC entrenamiento: 0.9086530804634094\n",
      "-----------------------------------\n",
      "###########################################################\n",
      "Probando hiperparámetros: n_comp: 150,umbral: 0.01\n",
      "###########################################################\n",
      "-----------------------------------\n",
      "Evaluando modelo: svc\n",
      "Con los siguientes parámetros: {'kernel': 'linear', 'gamma': 'auto', 'C': 0.1, 'class_weight': 'balanced'}\n",
      "MAUC validación: 0.7950019836425781\n",
      "MAUC entrenamiento: 0.9400022029876709\n",
      "-----------------------------------\n",
      "-----------------------------------\n",
      "Evaluando modelo: svc\n",
      "Con los siguientes parámetros: {'kernel': 'linear', 'gamma': 'auto', 'C': 1.0, 'class_weight': 'balanced'}\n",
      "MAUC validación: 0.7950019836425781\n",
      "MAUC entrenamiento: 0.9400022029876709\n",
      "-----------------------------------\n",
      "-----------------------------------\n",
      "Evaluando modelo: svc\n",
      "Con los siguientes parámetros: {'kernel': 'linear', 'gamma': 0.2, 'C': 0.1, 'class_weight': 'balanced'}\n",
      "MAUC validación: 0.7950019836425781\n",
      "MAUC entrenamiento: 0.9400022029876709\n",
      "-----------------------------------\n",
      "-----------------------------------\n",
      "Evaluando modelo: svc\n",
      "Con los siguientes parámetros: {'kernel': 'linear', 'gamma': 0.2, 'C': 1.0, 'class_weight': 'balanced'}\n",
      "MAUC validación: 0.7950019836425781\n",
      "MAUC entrenamiento: 0.9400022029876709\n",
      "-----------------------------------\n",
      "-----------------------------------\n",
      "Evaluando modelo: svc\n",
      "Con los siguientes parámetros: {'kernel': 'linear', 'gamma': 0.7, 'C': 0.1, 'class_weight': 'balanced'}\n",
      "MAUC validación: 0.7950019836425781\n",
      "MAUC entrenamiento: 0.9400022029876709\n",
      "-----------------------------------\n",
      "-----------------------------------\n",
      "Evaluando modelo: svc\n",
      "Con los siguientes parámetros: {'kernel': 'linear', 'gamma': 0.7, 'C': 1.0, 'class_weight': 'balanced'}\n",
      "MAUC validación: 0.7950019836425781\n",
      "MAUC entrenamiento: 0.9400022029876709\n",
      "-----------------------------------\n",
      "-----------------------------------\n",
      "Evaluando modelo: svc\n",
      "Con los siguientes parámetros: {'kernel': 'linear', 'gamma': 1, 'C': 0.1, 'class_weight': 'balanced'}\n",
      "MAUC validación: 0.7950019836425781\n",
      "MAUC entrenamiento: 0.9400022029876709\n",
      "-----------------------------------\n",
      "-----------------------------------\n",
      "Evaluando modelo: svc\n",
      "Con los siguientes parámetros: {'kernel': 'linear', 'gamma': 1, 'C': 1.0, 'class_weight': 'balanced'}\n",
      "MAUC validación: 0.7950019836425781\n",
      "MAUC entrenamiento: 0.9400022029876709\n",
      "-----------------------------------\n",
      "-----------------------------------\n",
      "Evaluando modelo: svc\n",
      "Con los siguientes parámetros: {'kernel': 'poly', 'gamma': 'auto', 'C': 0.1, 'class_weight': 'balanced'}\n",
      "MAUC validación: 0.6197123527526855\n",
      "MAUC entrenamiento: 0.8890771269798279\n",
      "-----------------------------------\n",
      "-----------------------------------\n",
      "Evaluando modelo: svc\n",
      "Con los siguientes parámetros: {'kernel': 'poly', 'gamma': 'auto', 'C': 1.0, 'class_weight': 'balanced'}\n",
      "MAUC validación: 0.6197123527526855\n",
      "MAUC entrenamiento: 0.8890771269798279\n",
      "-----------------------------------\n",
      "-----------------------------------\n",
      "Evaluando modelo: svc\n",
      "Con los siguientes parámetros: {'kernel': 'poly', 'gamma': 0.2, 'C': 0.1, 'class_weight': 'balanced'}\n",
      "MAUC validación: 0.6197123527526855\n",
      "MAUC entrenamiento: 0.8890771269798279\n",
      "-----------------------------------\n",
      "-----------------------------------\n",
      "Evaluando modelo: svc\n",
      "Con los siguientes parámetros: {'kernel': 'poly', 'gamma': 0.2, 'C': 1.0, 'class_weight': 'balanced'}\n",
      "MAUC validación: 0.6197123527526855\n",
      "MAUC entrenamiento: 0.8890771269798279\n",
      "-----------------------------------\n",
      "-----------------------------------\n",
      "Evaluando modelo: svc\n",
      "Con los siguientes parámetros: {'kernel': 'poly', 'gamma': 0.7, 'C': 0.1, 'class_weight': 'balanced'}\n",
      "MAUC validación: 0.6197123527526855\n",
      "MAUC entrenamiento: 0.8890771269798279\n",
      "-----------------------------------\n",
      "-----------------------------------\n",
      "Evaluando modelo: svc\n",
      "Con los siguientes parámetros: {'kernel': 'poly', 'gamma': 0.7, 'C': 1.0, 'class_weight': 'balanced'}\n",
      "MAUC validación: 0.6197123527526855\n",
      "MAUC entrenamiento: 0.8890771269798279\n",
      "-----------------------------------\n",
      "-----------------------------------\n",
      "Evaluando modelo: svc\n",
      "Con los siguientes parámetros: {'kernel': 'poly', 'gamma': 1, 'C': 0.1, 'class_weight': 'balanced'}\n",
      "MAUC validación: 0.6197123527526855\n",
      "MAUC entrenamiento: 0.8890771269798279\n",
      "-----------------------------------\n",
      "-----------------------------------\n",
      "Evaluando modelo: svc\n",
      "Con los siguientes parámetros: {'kernel': 'poly', 'gamma': 1, 'C': 1.0, 'class_weight': 'balanced'}\n",
      "MAUC validación: 0.6197123527526855\n",
      "MAUC entrenamiento: 0.8890771269798279\n",
      "-----------------------------------\n",
      "-----------------------------------\n",
      "Evaluando modelo: svc\n",
      "Con los siguientes parámetros: {'kernel': 'sigmoid', 'gamma': 'auto', 'C': 0.1, 'class_weight': 'balanced'}\n",
      "MAUC validación: 0.8389957547187805\n",
      "MAUC entrenamiento: 0.7784506678581238\n",
      "-----------------------------------\n",
      "-----------------------------------\n",
      "Evaluando modelo: svc\n",
      "Con los siguientes parámetros: {'kernel': 'sigmoid', 'gamma': 'auto', 'C': 1.0, 'class_weight': 'balanced'}\n",
      "MAUC validación: 0.8237841129302979\n",
      "MAUC entrenamiento: 0.7602090835571289\n",
      "-----------------------------------\n",
      "-----------------------------------\n",
      "Evaluando modelo: svc\n",
      "Con los siguientes parámetros: {'kernel': 'sigmoid', 'gamma': 0.2, 'C': 0.1, 'class_weight': 'balanced'}\n"
     ]
    },
    {
     "name": "stdout",
     "output_type": "stream",
     "text": [
      "MAUC validación: 0.849759578704834\n",
      "MAUC entrenamiento: 0.7820817828178406\n",
      "-----------------------------------\n",
      "-----------------------------------\n",
      "Evaluando modelo: svc\n",
      "Con los siguientes parámetros: {'kernel': 'sigmoid', 'gamma': 0.2, 'C': 1.0, 'class_weight': 'balanced'}\n",
      "MAUC validación: 0.8034155368804932\n",
      "MAUC entrenamiento: 0.7548014521598816\n",
      "-----------------------------------\n",
      "-----------------------------------\n",
      "Evaluando modelo: svc\n",
      "Con los siguientes parámetros: {'kernel': 'sigmoid', 'gamma': 0.7, 'C': 0.1, 'class_weight': 'balanced'}\n",
      "MAUC validación: 0.8315752148628235\n",
      "MAUC entrenamiento: 0.7720740437507629\n",
      "-----------------------------------\n",
      "-----------------------------------\n",
      "Evaluando modelo: svc\n",
      "Con los siguientes parámetros: {'kernel': 'sigmoid', 'gamma': 0.7, 'C': 1.0, 'class_weight': 'balanced'}\n",
      "MAUC validación: 0.8267664909362793\n",
      "MAUC entrenamiento: 0.7636011242866516\n",
      "-----------------------------------\n",
      "-----------------------------------\n",
      "Evaluando modelo: svc\n",
      "Con los siguientes parámetros: {'kernel': 'sigmoid', 'gamma': 1, 'C': 0.1, 'class_weight': 'balanced'}\n",
      "MAUC validación: 0.8199557662010193\n",
      "MAUC entrenamiento: 0.767655074596405\n",
      "-----------------------------------\n",
      "-----------------------------------\n",
      "Evaluando modelo: svc\n",
      "Con los siguientes parámetros: {'kernel': 'sigmoid', 'gamma': 1, 'C': 1.0, 'class_weight': 'balanced'}\n",
      "MAUC validación: 0.8278558254241943\n",
      "MAUC entrenamiento: 0.7614724040031433\n",
      "-----------------------------------\n",
      "-----------------------------------\n",
      "Evaluando modelo: forest\n",
      "Con los siguientes parámetros: {'max_depth': 3, 'n_estimators': 10, 'class_weight': 'balanced'}\n",
      "MAUC validación: 0.7091629505157471\n",
      "MAUC entrenamiento: 0.8606011867523193\n",
      "-----------------------------------\n",
      "-----------------------------------\n",
      "Evaluando modelo: forest\n",
      "Con los siguientes parámetros: {'max_depth': 3, 'n_estimators': 50, 'class_weight': 'balanced'}\n",
      "MAUC validación: 0.7364649772644043\n",
      "MAUC entrenamiento: 0.8827239871025085\n",
      "-----------------------------------\n",
      "-----------------------------------\n",
      "Evaluando modelo: forest\n",
      "Con los siguientes parámetros: {'max_depth': 3, 'n_estimators': 100, 'class_weight': 'balanced'}\n",
      "MAUC validación: 0.74923175573349\n",
      "MAUC entrenamiento: 0.8911779522895813\n",
      "-----------------------------------\n",
      "-----------------------------------\n",
      "Evaluando modelo: forest\n",
      "Con los siguientes parámetros: {'max_depth': 3, 'n_estimators': 150, 'class_weight': 'balanced'}\n",
      "MAUC validación: 0.7148414254188538\n",
      "MAUC entrenamiento: 0.8865554928779602\n",
      "-----------------------------------\n",
      "-----------------------------------\n",
      "Evaluando modelo: forest\n",
      "Con los siguientes parámetros: {'max_depth': 3, 'n_estimators': 200, 'class_weight': 'balanced'}\n",
      "MAUC validación: 0.7382329106330872\n",
      "MAUC entrenamiento: 0.890786349773407\n",
      "-----------------------------------\n",
      "-----------------------------------\n",
      "Evaluando modelo: forest\n",
      "Con los siguientes parámetros: {'max_depth': 5, 'n_estimators': 10, 'class_weight': 'balanced'}\n",
      "MAUC validación: 0.6444623470306396\n",
      "MAUC entrenamiento: 0.8607873916625977\n",
      "-----------------------------------\n",
      "-----------------------------------\n",
      "Evaluando modelo: forest\n",
      "Con los siguientes parámetros: {'max_depth': 5, 'n_estimators': 50, 'class_weight': 'balanced'}\n",
      "MAUC validación: 0.642005980014801\n",
      "MAUC entrenamiento: 0.8827369809150696\n",
      "-----------------------------------\n",
      "-----------------------------------\n",
      "Evaluando modelo: forest\n",
      "Con los siguientes parámetros: {'max_depth': 5, 'n_estimators': 100, 'class_weight': 'balanced'}\n",
      "MAUC validación: 0.6289347410202026\n",
      "MAUC entrenamiento: 0.8828638195991516\n",
      "-----------------------------------\n",
      "-----------------------------------\n",
      "Evaluando modelo: forest\n",
      "Con los siguientes parámetros: {'max_depth': 5, 'n_estimators': 150, 'class_weight': 'balanced'}\n",
      "MAUC validación: 0.6010417342185974\n",
      "MAUC entrenamiento: 0.8735291361808777\n",
      "-----------------------------------\n",
      "-----------------------------------\n",
      "Evaluando modelo: forest\n",
      "Con los siguientes parámetros: {'max_depth': 5, 'n_estimators': 200, 'class_weight': 'balanced'}\n",
      "MAUC validación: 0.6354694962501526\n",
      "MAUC entrenamiento: 0.8853166103363037\n",
      "-----------------------------------\n",
      "-----------------------------------\n",
      "Evaluando modelo: forest\n",
      "Con los siguientes parámetros: {'max_depth': 7, 'n_estimators': 10, 'class_weight': 'balanced'}\n",
      "MAUC validación: 0.586040735244751\n",
      "MAUC entrenamiento: 0.8517243266105652\n",
      "-----------------------------------\n",
      "-----------------------------------\n",
      "Evaluando modelo: forest\n",
      "Con los siguientes parámetros: {'max_depth': 7, 'n_estimators': 50, 'class_weight': 'balanced'}\n",
      "MAUC validación: 0.5721476674079895\n",
      "MAUC entrenamiento: 0.8716354370117188\n",
      "-----------------------------------\n",
      "-----------------------------------\n",
      "Evaluando modelo: forest\n",
      "Con los siguientes parámetros: {'max_depth': 7, 'n_estimators': 100, 'class_weight': 'balanced'}\n",
      "MAUC validación: 0.5761716365814209\n",
      "MAUC entrenamiento: 0.8767090439796448\n",
      "-----------------------------------\n",
      "-----------------------------------\n",
      "Evaluando modelo: forest\n",
      "Con los siguientes parámetros: {'max_depth': 7, 'n_estimators': 150, 'class_weight': 'balanced'}\n",
      "MAUC validación: 0.5951960682868958\n",
      "MAUC entrenamiento: 0.8797125816345215\n",
      "-----------------------------------\n",
      "-----------------------------------\n",
      "Evaluando modelo: forest\n",
      "Con los siguientes parámetros: {'max_depth': 7, 'n_estimators': 200, 'class_weight': 'balanced'}\n",
      "MAUC validación: 0.5809195637702942\n",
      "MAUC entrenamiento: 0.8775415420532227\n",
      "-----------------------------------\n",
      "-----------------------------------\n",
      "Evaluando modelo: knn\n",
      "Con los siguientes parámetros: {'n_neighbors': 3}\n",
      "MAUC validación: 0.6505749821662903\n",
      "MAUC entrenamiento: 0.7686581015586853\n",
      "-----------------------------------\n",
      "-----------------------------------\n",
      "Evaluando modelo: knn\n",
      "Con los siguientes parámetros: {'n_neighbors': 5}\n",
      "MAUC validación: 0.6397098302841187\n",
      "MAUC entrenamiento: 0.7215208411216736\n",
      "-----------------------------------\n",
      "-----------------------------------\n",
      "Evaluando modelo: knn\n",
      "Con los siguientes parámetros: {'n_neighbors': 7}\n",
      "MAUC validación: 0.6182858347892761\n",
      "MAUC entrenamiento: 0.6801931262016296\n",
      "-----------------------------------\n",
      "-----------------------------------\n",
      "Evaluando modelo: tree\n",
      "Con los siguientes parámetros: {'max_depth': 3, 'class_weight': 'balanced'}\n",
      "MAUC validación: 0.8332203030586243\n",
      "MAUC entrenamiento: 0.8633963465690613\n",
      "-----------------------------------\n",
      "-----------------------------------\n",
      "Evaluando modelo: tree\n",
      "Con los siguientes parámetros: {'max_depth': 5, 'class_weight': 'balanced'}\n",
      "MAUC validación: 0.8192713856697083\n",
      "MAUC entrenamiento: 0.898395299911499\n",
      "-----------------------------------\n",
      "-----------------------------------\n",
      "Evaluando modelo: tree\n",
      "Con los siguientes parámetros: {'max_depth': 7, 'class_weight': 'balanced'}\n",
      "MAUC validación: 0.7659160494804382\n",
      "MAUC entrenamiento: 0.9102162718772888\n",
      "-----------------------------------\n",
      "###########################################################\n",
      "Probando hiperparámetros: n_comp: 600,umbral: 0.01\n",
      "###########################################################\n",
      "-----------------------------------\n",
      "Evaluando modelo: svc\n",
      "Con los siguientes parámetros: {'kernel': 'linear', 'gamma': 'auto', 'C': 0.1, 'class_weight': 'balanced'}\n",
      "MAUC validación: 0.8373439908027649\n",
      "MAUC entrenamiento: 0.953045129776001\n",
      "-----------------------------------\n",
      "-----------------------------------\n",
      "Evaluando modelo: svc\n",
      "Con los siguientes parámetros: {'kernel': 'linear', 'gamma': 'auto', 'C': 1.0, 'class_weight': 'balanced'}\n",
      "MAUC validación: 0.8373439908027649\n",
      "MAUC entrenamiento: 0.953045129776001\n",
      "-----------------------------------\n",
      "-----------------------------------\n",
      "Evaluando modelo: svc\n",
      "Con los siguientes parámetros: {'kernel': 'linear', 'gamma': 0.2, 'C': 0.1, 'class_weight': 'balanced'}\n",
      "MAUC validación: 0.8373439908027649\n",
      "MAUC entrenamiento: 0.953045129776001\n",
      "-----------------------------------\n",
      "-----------------------------------\n",
      "Evaluando modelo: svc\n",
      "Con los siguientes parámetros: {'kernel': 'linear', 'gamma': 0.2, 'C': 1.0, 'class_weight': 'balanced'}\n",
      "MAUC validación: 0.8373439908027649\n",
      "MAUC entrenamiento: 0.953045129776001\n",
      "-----------------------------------\n",
      "-----------------------------------\n",
      "Evaluando modelo: svc\n",
      "Con los siguientes parámetros: {'kernel': 'linear', 'gamma': 0.7, 'C': 0.1, 'class_weight': 'balanced'}\n"
     ]
    },
    {
     "name": "stdout",
     "output_type": "stream",
     "text": [
      "MAUC validación: 0.8373439908027649\n",
      "MAUC entrenamiento: 0.953045129776001\n",
      "-----------------------------------\n",
      "-----------------------------------\n",
      "Evaluando modelo: svc\n",
      "Con los siguientes parámetros: {'kernel': 'linear', 'gamma': 0.7, 'C': 1.0, 'class_weight': 'balanced'}\n",
      "MAUC validación: 0.8373439908027649\n",
      "MAUC entrenamiento: 0.953045129776001\n",
      "-----------------------------------\n",
      "-----------------------------------\n",
      "Evaluando modelo: svc\n",
      "Con los siguientes parámetros: {'kernel': 'linear', 'gamma': 1, 'C': 0.1, 'class_weight': 'balanced'}\n",
      "MAUC validación: 0.8373439908027649\n",
      "MAUC entrenamiento: 0.953045129776001\n",
      "-----------------------------------\n",
      "-----------------------------------\n",
      "Evaluando modelo: svc\n",
      "Con los siguientes parámetros: {'kernel': 'linear', 'gamma': 1, 'C': 1.0, 'class_weight': 'balanced'}\n",
      "MAUC validación: 0.8373439908027649\n",
      "MAUC entrenamiento: 0.953045129776001\n",
      "-----------------------------------\n",
      "-----------------------------------\n",
      "Evaluando modelo: svc\n",
      "Con los siguientes parámetros: {'kernel': 'poly', 'gamma': 'auto', 'C': 0.1, 'class_weight': 'balanced'}\n",
      "MAUC validación: 0.5061728358268738\n",
      "MAUC entrenamiento: 0.8549962043762207\n",
      "-----------------------------------\n",
      "-----------------------------------\n",
      "Evaluando modelo: svc\n",
      "Con los siguientes parámetros: {'kernel': 'poly', 'gamma': 'auto', 'C': 1.0, 'class_weight': 'balanced'}\n",
      "MAUC validación: 0.5061728358268738\n",
      "MAUC entrenamiento: 0.8549962043762207\n",
      "-----------------------------------\n",
      "-----------------------------------\n",
      "Evaluando modelo: svc\n",
      "Con los siguientes parámetros: {'kernel': 'poly', 'gamma': 0.2, 'C': 0.1, 'class_weight': 'balanced'}\n",
      "MAUC validación: 0.5061728358268738\n",
      "MAUC entrenamiento: 0.8549962043762207\n",
      "-----------------------------------\n",
      "-----------------------------------\n",
      "Evaluando modelo: svc\n",
      "Con los siguientes parámetros: {'kernel': 'poly', 'gamma': 0.2, 'C': 1.0, 'class_weight': 'balanced'}\n",
      "MAUC validación: 0.5061728358268738\n",
      "MAUC entrenamiento: 0.8549962043762207\n",
      "-----------------------------------\n",
      "-----------------------------------\n",
      "Evaluando modelo: svc\n",
      "Con los siguientes parámetros: {'kernel': 'poly', 'gamma': 0.7, 'C': 0.1, 'class_weight': 'balanced'}\n",
      "MAUC validación: 0.5061728358268738\n",
      "MAUC entrenamiento: 0.8549962043762207\n",
      "-----------------------------------\n",
      "-----------------------------------\n",
      "Evaluando modelo: svc\n",
      "Con los siguientes parámetros: {'kernel': 'poly', 'gamma': 0.7, 'C': 1.0, 'class_weight': 'balanced'}\n",
      "MAUC validación: 0.5061728358268738\n",
      "MAUC entrenamiento: 0.8549962043762207\n",
      "-----------------------------------\n",
      "-----------------------------------\n",
      "Evaluando modelo: svc\n",
      "Con los siguientes parámetros: {'kernel': 'poly', 'gamma': 1, 'C': 0.1, 'class_weight': 'balanced'}\n",
      "MAUC validación: 0.5061728358268738\n",
      "MAUC entrenamiento: 0.8549962043762207\n",
      "-----------------------------------\n",
      "-----------------------------------\n",
      "Evaluando modelo: svc\n",
      "Con los siguientes parámetros: {'kernel': 'poly', 'gamma': 1, 'C': 1.0, 'class_weight': 'balanced'}\n",
      "MAUC validación: 0.5061728358268738\n",
      "MAUC entrenamiento: 0.8549962043762207\n",
      "-----------------------------------\n",
      "-----------------------------------\n",
      "Evaluando modelo: svc\n",
      "Con los siguientes parámetros: {'kernel': 'sigmoid', 'gamma': 'auto', 'C': 0.1, 'class_weight': 'balanced'}\n",
      "MAUC validación: 0.7859808802604675\n",
      "MAUC entrenamiento: 0.7683078646659851\n",
      "-----------------------------------\n",
      "-----------------------------------\n",
      "Evaluando modelo: svc\n",
      "Con los siguientes parámetros: {'kernel': 'sigmoid', 'gamma': 'auto', 'C': 1.0, 'class_weight': 'balanced'}\n",
      "MAUC validación: 0.7716620564460754\n",
      "MAUC entrenamiento: 0.7321138978004456\n",
      "-----------------------------------\n",
      "-----------------------------------\n",
      "Evaluando modelo: svc\n",
      "Con los siguientes parámetros: {'kernel': 'sigmoid', 'gamma': 0.2, 'C': 0.1, 'class_weight': 'balanced'}\n",
      "MAUC validación: 0.8199262619018555\n",
      "MAUC entrenamiento: 0.7677912712097168\n",
      "-----------------------------------\n",
      "-----------------------------------\n",
      "Evaluando modelo: svc\n",
      "Con los siguientes parámetros: {'kernel': 'sigmoid', 'gamma': 0.2, 'C': 1.0, 'class_weight': 'balanced'}\n",
      "MAUC validación: 0.7766034603118896\n",
      "MAUC entrenamiento: 0.7618319392204285\n",
      "-----------------------------------\n",
      "-----------------------------------\n",
      "Evaluando modelo: svc\n",
      "Con los siguientes parámetros: {'kernel': 'sigmoid', 'gamma': 0.7, 'C': 0.1, 'class_weight': 'balanced'}\n",
      "MAUC validación: 0.8231083750724792\n",
      "MAUC entrenamiento: 0.7726602554321289\n",
      "-----------------------------------\n",
      "-----------------------------------\n",
      "Evaluando modelo: svc\n",
      "Con los siguientes parámetros: {'kernel': 'sigmoid', 'gamma': 0.7, 'C': 1.0, 'class_weight': 'balanced'}\n",
      "MAUC validación: 0.7941370606422424\n",
      "MAUC entrenamiento: 0.7608797550201416\n",
      "-----------------------------------\n",
      "-----------------------------------\n",
      "Evaluando modelo: svc\n",
      "Con los siguientes parámetros: {'kernel': 'sigmoid', 'gamma': 1, 'C': 0.1, 'class_weight': 'balanced'}\n",
      "MAUC validación: 0.824073314666748\n",
      "MAUC entrenamiento: 0.7751761078834534\n",
      "-----------------------------------\n",
      "-----------------------------------\n",
      "Evaluando modelo: svc\n",
      "Con los siguientes parámetros: {'kernel': 'sigmoid', 'gamma': 1, 'C': 1.0, 'class_weight': 'balanced'}\n",
      "MAUC validación: 0.8074472546577454\n",
      "MAUC entrenamiento: 0.754938542842865\n",
      "-----------------------------------\n",
      "-----------------------------------\n",
      "Evaluando modelo: forest\n",
      "Con los siguientes parámetros: {'max_depth': 3, 'n_estimators': 10, 'class_weight': 'balanced'}\n",
      "MAUC validación: 0.6503503918647766\n",
      "MAUC entrenamiento: 0.8209257125854492\n",
      "-----------------------------------\n",
      "-----------------------------------\n",
      "Evaluando modelo: forest\n",
      "Con los siguientes parámetros: {'max_depth': 3, 'n_estimators': 50, 'class_weight': 'balanced'}\n",
      "MAUC validación: 0.6445470452308655\n",
      "MAUC entrenamiento: 0.8663610816001892\n",
      "-----------------------------------\n",
      "-----------------------------------\n",
      "Evaluando modelo: forest\n",
      "Con los siguientes parámetros: {'max_depth': 3, 'n_estimators': 100, 'class_weight': 'balanced'}\n",
      "MAUC validación: 0.6298732757568359\n",
      "MAUC entrenamiento: 0.8721455931663513\n",
      "-----------------------------------\n",
      "-----------------------------------\n",
      "Evaluando modelo: forest\n",
      "Con los siguientes parámetros: {'max_depth': 3, 'n_estimators': 150, 'class_weight': 'balanced'}\n",
      "MAUC validación: 0.6367157101631165\n",
      "MAUC entrenamiento: 0.8793709874153137\n",
      "-----------------------------------\n",
      "-----------------------------------\n",
      "Evaluando modelo: forest\n",
      "Con los siguientes parámetros: {'max_depth': 3, 'n_estimators': 200, 'class_weight': 'balanced'}\n",
      "MAUC validación: 0.6249971389770508\n",
      "MAUC entrenamiento: 0.8770069479942322\n",
      "-----------------------------------\n",
      "-----------------------------------\n",
      "Evaluando modelo: forest\n",
      "Con los siguientes parámetros: {'max_depth': 5, 'n_estimators': 10, 'class_weight': 'balanced'}\n",
      "MAUC validación: 0.569088876247406\n",
      "MAUC entrenamiento: 0.8301029205322266\n",
      "-----------------------------------\n",
      "-----------------------------------\n",
      "Evaluando modelo: forest\n",
      "Con los siguientes parámetros: {'max_depth': 5, 'n_estimators': 50, 'class_weight': 'balanced'}\n",
      "MAUC validación: 0.6012201309204102\n",
      "MAUC entrenamiento: 0.8815839886665344\n",
      "-----------------------------------\n",
      "-----------------------------------\n",
      "Evaluando modelo: forest\n",
      "Con los siguientes parámetros: {'max_depth': 5, 'n_estimators': 100, 'class_weight': 'balanced'}\n",
      "MAUC validación: 0.5739492774009705\n",
      "MAUC entrenamiento: 0.8739457726478577\n",
      "-----------------------------------\n",
      "-----------------------------------\n",
      "Evaluando modelo: forest\n",
      "Con los siguientes parámetros: {'max_depth': 5, 'n_estimators': 150, 'class_weight': 'balanced'}\n",
      "MAUC validación: 0.589161217212677\n",
      "MAUC entrenamiento: 0.878222644329071\n",
      "-----------------------------------\n",
      "-----------------------------------\n",
      "Evaluando modelo: forest\n",
      "Con los siguientes parámetros: {'max_depth': 5, 'n_estimators': 200, 'class_weight': 'balanced'}\n",
      "MAUC validación: 0.5788217186927795\n",
      "MAUC entrenamiento: 0.8738272190093994\n",
      "-----------------------------------\n",
      "-----------------------------------\n",
      "Evaluando modelo: forest\n",
      "Con los siguientes parámetros: {'max_depth': 7, 'n_estimators': 10, 'class_weight': 'balanced'}\n",
      "MAUC validación: 0.5711200833320618\n",
      "MAUC entrenamiento: 0.8486537337303162\n",
      "-----------------------------------\n",
      "-----------------------------------\n",
      "Evaluando modelo: forest\n",
      "Con los siguientes parámetros: {'max_depth': 7, 'n_estimators': 50, 'class_weight': 'balanced'}\n"
     ]
    },
    {
     "name": "stdout",
     "output_type": "stream",
     "text": [
      "MAUC validación: 0.5648417472839355\n",
      "MAUC entrenamiento: 0.8705049157142639\n",
      "-----------------------------------\n",
      "-----------------------------------\n",
      "Evaluando modelo: forest\n",
      "Con los siguientes parámetros: {'max_depth': 7, 'n_estimators': 100, 'class_weight': 'balanced'}\n",
      "MAUC validación: 0.5688657164573669\n",
      "MAUC entrenamiento: 0.8730153441429138\n",
      "-----------------------------------\n",
      "-----------------------------------\n",
      "Evaluando modelo: forest\n",
      "Con los siguientes parámetros: {'max_depth': 7, 'n_estimators': 150, 'class_weight': 'balanced'}\n",
      "MAUC validación: 0.5647762417793274\n",
      "MAUC entrenamiento: 0.8723721504211426\n",
      "-----------------------------------\n",
      "-----------------------------------\n",
      "Evaluando modelo: forest\n",
      "Con los siguientes parámetros: {'max_depth': 7, 'n_estimators': 200, 'class_weight': 'balanced'}\n",
      "MAUC validación: 0.577121913433075\n",
      "MAUC entrenamiento: 0.8761599659919739\n",
      "-----------------------------------\n",
      "-----------------------------------\n",
      "Evaluando modelo: knn\n",
      "Con los siguientes parámetros: {'n_neighbors': 3}\n",
      "MAUC validación: 0.5061728358268738\n",
      "MAUC entrenamiento: 0.5102328658103943\n",
      "-----------------------------------\n",
      "-----------------------------------\n",
      "Evaluando modelo: knn\n",
      "Con los siguientes parámetros: {'n_neighbors': 5}\n",
      "MAUC validación: 0.5\n",
      "MAUC entrenamiento: 0.501893937587738\n",
      "-----------------------------------\n",
      "-----------------------------------\n",
      "Evaluando modelo: knn\n",
      "Con los siguientes parámetros: {'n_neighbors': 7}\n",
      "MAUC validación: 0.5\n",
      "MAUC entrenamiento: 0.501893937587738\n",
      "-----------------------------------\n",
      "-----------------------------------\n",
      "Evaluando modelo: tree\n",
      "Con los siguientes parámetros: {'max_depth': 3, 'class_weight': 'balanced'}\n",
      "MAUC validación: 0.8138906359672546\n",
      "MAUC entrenamiento: 0.8711822628974915\n",
      "-----------------------------------\n",
      "-----------------------------------\n",
      "Evaluando modelo: tree\n",
      "Con los siguientes parámetros: {'max_depth': 5, 'class_weight': 'balanced'}\n",
      "MAUC validación: 0.7608222365379333\n",
      "MAUC entrenamiento: 0.880088746547699\n",
      "-----------------------------------\n",
      "-----------------------------------\n",
      "Evaluando modelo: tree\n",
      "Con los siguientes parámetros: {'max_depth': 7, 'class_weight': 'balanced'}\n",
      "MAUC validación: 0.7423142790794373\n",
      "MAUC entrenamiento: 0.8917748332023621\n",
      "-----------------------------------\n",
      "###########################################################\n",
      "Probando hiperparámetros: n_comp: 12,umbral: 0.1\n",
      "###########################################################\n",
      "-----------------------------------\n",
      "Evaluando modelo: svc\n",
      "Con los siguientes parámetros: {'kernel': 'linear', 'gamma': 'auto', 'C': 0.1, 'class_weight': 'balanced'}\n",
      "MAUC validación: 0.886864960193634\n",
      "MAUC entrenamiento: 0.8985800743103027\n",
      "-----------------------------------\n",
      "-----------------------------------\n",
      "Evaluando modelo: svc\n",
      "Con los siguientes parámetros: {'kernel': 'linear', 'gamma': 'auto', 'C': 1.0, 'class_weight': 'balanced'}\n",
      "MAUC validación: 0.886864960193634\n",
      "MAUC entrenamiento: 0.8985800743103027\n",
      "-----------------------------------\n",
      "-----------------------------------\n",
      "Evaluando modelo: svc\n",
      "Con los siguientes parámetros: {'kernel': 'linear', 'gamma': 0.2, 'C': 0.1, 'class_weight': 'balanced'}\n",
      "MAUC validación: 0.886864960193634\n",
      "MAUC entrenamiento: 0.8985800743103027\n",
      "-----------------------------------\n",
      "-----------------------------------\n",
      "Evaluando modelo: svc\n",
      "Con los siguientes parámetros: {'kernel': 'linear', 'gamma': 0.2, 'C': 1.0, 'class_weight': 'balanced'}\n",
      "MAUC validación: 0.886864960193634\n",
      "MAUC entrenamiento: 0.8985800743103027\n",
      "-----------------------------------\n",
      "-----------------------------------\n",
      "Evaluando modelo: svc\n",
      "Con los siguientes parámetros: {'kernel': 'linear', 'gamma': 0.7, 'C': 0.1, 'class_weight': 'balanced'}\n",
      "MAUC validación: 0.886864960193634\n",
      "MAUC entrenamiento: 0.8985800743103027\n",
      "-----------------------------------\n",
      "-----------------------------------\n",
      "Evaluando modelo: svc\n",
      "Con los siguientes parámetros: {'kernel': 'linear', 'gamma': 0.7, 'C': 1.0, 'class_weight': 'balanced'}\n",
      "MAUC validación: 0.886864960193634\n",
      "MAUC entrenamiento: 0.8985800743103027\n",
      "-----------------------------------\n",
      "-----------------------------------\n",
      "Evaluando modelo: svc\n",
      "Con los siguientes parámetros: {'kernel': 'linear', 'gamma': 1, 'C': 0.1, 'class_weight': 'balanced'}\n",
      "MAUC validación: 0.886864960193634\n",
      "MAUC entrenamiento: 0.8985800743103027\n",
      "-----------------------------------\n",
      "-----------------------------------\n",
      "Evaluando modelo: svc\n",
      "Con los siguientes parámetros: {'kernel': 'linear', 'gamma': 1, 'C': 1.0, 'class_weight': 'balanced'}\n",
      "MAUC validación: 0.886864960193634\n",
      "MAUC entrenamiento: 0.8985800743103027\n",
      "-----------------------------------\n",
      "-----------------------------------\n",
      "Evaluando modelo: svc\n",
      "Con los siguientes parámetros: {'kernel': 'poly', 'gamma': 'auto', 'C': 0.1, 'class_weight': 'balanced'}\n",
      "MAUC validación: 0.739753007888794\n",
      "MAUC entrenamiento: 0.9231436848640442\n",
      "-----------------------------------\n",
      "-----------------------------------\n",
      "Evaluando modelo: svc\n",
      "Con los siguientes parámetros: {'kernel': 'poly', 'gamma': 'auto', 'C': 1.0, 'class_weight': 'balanced'}\n",
      "MAUC validación: 0.739753007888794\n",
      "MAUC entrenamiento: 0.9231436848640442\n",
      "-----------------------------------\n",
      "-----------------------------------\n",
      "Evaluando modelo: svc\n",
      "Con los siguientes parámetros: {'kernel': 'poly', 'gamma': 0.2, 'C': 0.1, 'class_weight': 'balanced'}\n",
      "MAUC validación: 0.739753007888794\n",
      "MAUC entrenamiento: 0.9231436848640442\n",
      "-----------------------------------\n",
      "-----------------------------------\n",
      "Evaluando modelo: svc\n",
      "Con los siguientes parámetros: {'kernel': 'poly', 'gamma': 0.2, 'C': 1.0, 'class_weight': 'balanced'}\n",
      "MAUC validación: 0.739753007888794\n",
      "MAUC entrenamiento: 0.9231436848640442\n",
      "-----------------------------------\n",
      "-----------------------------------\n",
      "Evaluando modelo: svc\n",
      "Con los siguientes parámetros: {'kernel': 'poly', 'gamma': 0.7, 'C': 0.1, 'class_weight': 'balanced'}\n",
      "MAUC validación: 0.739753007888794\n",
      "MAUC entrenamiento: 0.9231436848640442\n",
      "-----------------------------------\n",
      "-----------------------------------\n",
      "Evaluando modelo: svc\n",
      "Con los siguientes parámetros: {'kernel': 'poly', 'gamma': 0.7, 'C': 1.0, 'class_weight': 'balanced'}\n",
      "MAUC validación: 0.739753007888794\n",
      "MAUC entrenamiento: 0.9231436848640442\n",
      "-----------------------------------\n",
      "-----------------------------------\n",
      "Evaluando modelo: svc\n",
      "Con los siguientes parámetros: {'kernel': 'poly', 'gamma': 1, 'C': 0.1, 'class_weight': 'balanced'}\n",
      "MAUC validación: 0.739753007888794\n",
      "MAUC entrenamiento: 0.9231436848640442\n",
      "-----------------------------------\n",
      "-----------------------------------\n",
      "Evaluando modelo: svc\n",
      "Con los siguientes parámetros: {'kernel': 'poly', 'gamma': 1, 'C': 1.0, 'class_weight': 'balanced'}\n",
      "MAUC validación: 0.739753007888794\n",
      "MAUC entrenamiento: 0.9231436848640442\n",
      "-----------------------------------\n",
      "-----------------------------------\n",
      "Evaluando modelo: svc\n",
      "Con los siguientes parámetros: {'kernel': 'sigmoid', 'gamma': 'auto', 'C': 0.1, 'class_weight': 'balanced'}\n",
      "MAUC validación: 0.7567033767700195\n",
      "MAUC entrenamiento: 0.7253898978233337\n",
      "-----------------------------------\n",
      "-----------------------------------\n",
      "Evaluando modelo: svc\n",
      "Con los siguientes parámetros: {'kernel': 'sigmoid', 'gamma': 'auto', 'C': 1.0, 'class_weight': 'balanced'}\n",
      "MAUC validación: 0.7085259556770325\n",
      "MAUC entrenamiento: 0.7058658599853516\n",
      "-----------------------------------\n",
      "-----------------------------------\n",
      "Evaluando modelo: svc\n",
      "Con los siguientes parámetros: {'kernel': 'sigmoid', 'gamma': 0.2, 'C': 0.1, 'class_weight': 'balanced'}\n",
      "MAUC validación: 0.7807939052581787\n",
      "MAUC entrenamiento: 0.7433528900146484\n",
      "-----------------------------------\n",
      "-----------------------------------\n",
      "Evaluando modelo: svc\n",
      "Con los siguientes parámetros: {'kernel': 'sigmoid', 'gamma': 0.2, 'C': 1.0, 'class_weight': 'balanced'}\n",
      "MAUC validación: 0.7142848372459412\n",
      "MAUC entrenamiento: 0.7010841965675354\n",
      "-----------------------------------\n",
      "-----------------------------------\n",
      "Evaluando modelo: svc\n",
      "Con los siguientes parámetros: {'kernel': 'sigmoid', 'gamma': 0.7, 'C': 0.1, 'class_weight': 'balanced'}\n",
      "MAUC validación: 0.7737335562705994\n",
      "MAUC entrenamiento: 0.7358075976371765\n",
      "-----------------------------------\n",
      "-----------------------------------\n",
      "Evaluando modelo: svc\n",
      "Con los siguientes parámetros: {'kernel': 'sigmoid', 'gamma': 0.7, 'C': 1.0, 'class_weight': 'balanced'}\n",
      "MAUC validación: 0.7148295044898987\n",
      "MAUC entrenamiento: 0.7004836201667786\n",
      "-----------------------------------\n",
      "-----------------------------------\n",
      "Evaluando modelo: svc\n",
      "Con los siguientes parámetros: {'kernel': 'sigmoid', 'gamma': 1, 'C': 0.1, 'class_weight': 'balanced'}\n"
     ]
    },
    {
     "name": "stdout",
     "output_type": "stream",
     "text": [
      "MAUC validación: 0.7671976089477539\n",
      "MAUC entrenamiento: 0.7320518493652344\n",
      "-----------------------------------\n",
      "-----------------------------------\n",
      "Evaluando modelo: svc\n",
      "Con los siguientes parámetros: {'kernel': 'sigmoid', 'gamma': 1, 'C': 1.0, 'class_weight': 'balanced'}\n",
      "MAUC validación: 0.7246334552764893\n",
      "MAUC entrenamiento: 0.7047025561332703\n",
      "-----------------------------------\n",
      "-----------------------------------\n",
      "Evaluando modelo: forest\n",
      "Con los siguientes parámetros: {'max_depth': 3, 'n_estimators': 10, 'class_weight': 'balanced'}\n",
      "MAUC validación: 0.8182580471038818\n",
      "MAUC entrenamiento: 0.8762741088867188\n",
      "-----------------------------------\n",
      "-----------------------------------\n",
      "Evaluando modelo: forest\n",
      "Con los siguientes parámetros: {'max_depth': 3, 'n_estimators': 50, 'class_weight': 'balanced'}\n",
      "MAUC validación: 0.8466193079948425\n",
      "MAUC entrenamiento: 0.8981888890266418\n",
      "-----------------------------------\n",
      "-----------------------------------\n",
      "Evaluando modelo: forest\n",
      "Con los siguientes parámetros: {'max_depth': 3, 'n_estimators': 100, 'class_weight': 'balanced'}\n",
      "MAUC validación: 0.8457103371620178\n",
      "MAUC entrenamiento: 0.9015082716941833\n",
      "-----------------------------------\n",
      "-----------------------------------\n",
      "Evaluando modelo: forest\n",
      "Con los siguientes parámetros: {'max_depth': 3, 'n_estimators': 150, 'class_weight': 'balanced'}\n",
      "MAUC validación: 0.8580183386802673\n",
      "MAUC entrenamiento: 0.9120612144470215\n",
      "-----------------------------------\n",
      "-----------------------------------\n",
      "Evaluando modelo: forest\n",
      "Con los siguientes parámetros: {'max_depth': 3, 'n_estimators': 200, 'class_weight': 'balanced'}\n",
      "MAUC validación: 0.8436760902404785\n",
      "MAUC entrenamiento: 0.9013309478759766\n",
      "-----------------------------------\n",
      "-----------------------------------\n",
      "Evaluando modelo: forest\n",
      "Con los siguientes parámetros: {'max_depth': 5, 'n_estimators': 10, 'class_weight': 'balanced'}\n",
      "MAUC validación: 0.8293442130088806\n",
      "MAUC entrenamiento: 0.9119627475738525\n",
      "-----------------------------------\n",
      "-----------------------------------\n",
      "Evaluando modelo: forest\n",
      "Con los siguientes parámetros: {'max_depth': 5, 'n_estimators': 50, 'class_weight': 'balanced'}\n",
      "MAUC validación: 0.8242130279541016\n",
      "MAUC entrenamiento: 0.9264782071113586\n",
      "-----------------------------------\n",
      "-----------------------------------\n",
      "Evaluando modelo: forest\n",
      "Con los siguientes parámetros: {'max_depth': 5, 'n_estimators': 100, 'class_weight': 'balanced'}\n",
      "MAUC validación: 0.8304335474967957\n",
      "MAUC entrenamiento: 0.9285883903503418\n",
      "-----------------------------------\n",
      "-----------------------------------\n",
      "Evaluando modelo: forest\n",
      "Con los siguientes parámetros: {'max_depth': 5, 'n_estimators': 150, 'class_weight': 'balanced'}\n",
      "MAUC validación: 0.8352293372154236\n",
      "MAUC entrenamiento: 0.9321876168251038\n",
      "-----------------------------------\n",
      "-----------------------------------\n",
      "Evaluando modelo: forest\n",
      "Con los siguientes parámetros: {'max_depth': 5, 'n_estimators': 200, 'class_weight': 'balanced'}\n",
      "MAUC validación: 0.8363478779792786\n",
      "MAUC entrenamiento: 0.9348239898681641\n",
      "-----------------------------------\n",
      "-----------------------------------\n",
      "Evaluando modelo: forest\n",
      "Con los siguientes parámetros: {'max_depth': 7, 'n_estimators': 10, 'class_weight': 'balanced'}\n",
      "MAUC validación: 0.7674277424812317\n",
      "MAUC entrenamiento: 0.9005959033966064\n",
      "-----------------------------------\n",
      "-----------------------------------\n",
      "Evaluando modelo: forest\n",
      "Con los siguientes parámetros: {'max_depth': 7, 'n_estimators': 50, 'class_weight': 'balanced'}\n",
      "MAUC validación: 0.799626886844635\n",
      "MAUC entrenamiento: 0.9327232837677002\n",
      "-----------------------------------\n",
      "-----------------------------------\n",
      "Evaluando modelo: forest\n",
      "Con los siguientes parámetros: {'max_depth': 7, 'n_estimators': 100, 'class_weight': 'balanced'}\n",
      "MAUC validación: 0.8065844178199768\n",
      "MAUC entrenamiento: 0.9364913105964661\n",
      "-----------------------------------\n",
      "-----------------------------------\n",
      "Evaluando modelo: forest\n",
      "Con los siguientes parámetros: {'max_depth': 7, 'n_estimators': 150, 'class_weight': 'balanced'}\n",
      "MAUC validación: 0.797869861125946\n",
      "MAUC entrenamiento: 0.9342252612113953\n",
      "-----------------------------------\n",
      "-----------------------------------\n",
      "Evaluando modelo: forest\n",
      "Con los siguientes parámetros: {'max_depth': 7, 'n_estimators': 200, 'class_weight': 'balanced'}\n",
      "MAUC validación: 0.7900050282478333\n",
      "MAUC entrenamiento: 0.9305728077888489\n",
      "-----------------------------------\n",
      "-----------------------------------\n",
      "Evaluando modelo: knn\n",
      "Con los siguientes parámetros: {'n_neighbors': 3}\n",
      "MAUC validación: 0.7937425971031189\n",
      "MAUC entrenamiento: 0.8446707129478455\n",
      "-----------------------------------\n",
      "-----------------------------------\n",
      "Evaluando modelo: knn\n",
      "Con los siguientes parámetros: {'n_neighbors': 5}\n",
      "MAUC validación: 0.8135039210319519\n",
      "MAUC entrenamiento: 0.8332666754722595\n",
      "-----------------------------------\n",
      "-----------------------------------\n",
      "Evaluando modelo: knn\n",
      "Con los siguientes parámetros: {'n_neighbors': 7}\n",
      "MAUC validación: 0.7937803268432617\n",
      "MAUC entrenamiento: 0.8241038918495178\n",
      "-----------------------------------\n",
      "-----------------------------------\n",
      "Evaluando modelo: tree\n",
      "Con los siguientes parámetros: {'max_depth': 3, 'class_weight': 'balanced'}\n",
      "MAUC validación: 0.8190208077430725\n",
      "MAUC entrenamiento: 0.862926721572876\n",
      "-----------------------------------\n",
      "-----------------------------------\n",
      "Evaluando modelo: tree\n",
      "Con los siguientes parámetros: {'max_depth': 5, 'class_weight': 'balanced'}\n",
      "MAUC validación: 0.8556105494499207\n",
      "MAUC entrenamiento: 0.9096954464912415\n",
      "-----------------------------------\n",
      "-----------------------------------\n",
      "Evaluando modelo: tree\n",
      "Con los siguientes parámetros: {'max_depth': 7, 'class_weight': 'balanced'}\n",
      "MAUC validación: 0.8123152256011963\n",
      "MAUC entrenamiento: 0.9183071255683899\n",
      "-----------------------------------\n",
      "###########################################################\n",
      "Probando hiperparámetros: n_comp: 25,umbral: 0.1\n",
      "###########################################################\n",
      "-----------------------------------\n",
      "Evaluando modelo: svc\n",
      "Con los siguientes parámetros: {'kernel': 'linear', 'gamma': 'auto', 'C': 0.1, 'class_weight': 'balanced'}\n",
      "MAUC validación: 0.884754478931427\n",
      "MAUC entrenamiento: 0.9158934950828552\n",
      "-----------------------------------\n",
      "-----------------------------------\n",
      "Evaluando modelo: svc\n",
      "Con los siguientes parámetros: {'kernel': 'linear', 'gamma': 'auto', 'C': 1.0, 'class_weight': 'balanced'}\n",
      "MAUC validación: 0.8826711773872375\n",
      "MAUC entrenamiento: 0.9158934950828552\n",
      "-----------------------------------\n",
      "-----------------------------------\n",
      "Evaluando modelo: svc\n",
      "Con los siguientes parámetros: {'kernel': 'linear', 'gamma': 0.2, 'C': 0.1, 'class_weight': 'balanced'}\n",
      "MAUC validación: 0.884754478931427\n",
      "MAUC entrenamiento: 0.9158934950828552\n",
      "-----------------------------------\n",
      "-----------------------------------\n",
      "Evaluando modelo: svc\n",
      "Con los siguientes parámetros: {'kernel': 'linear', 'gamma': 0.2, 'C': 1.0, 'class_weight': 'balanced'}\n",
      "MAUC validación: 0.8826711773872375\n",
      "MAUC entrenamiento: 0.9158934950828552\n",
      "-----------------------------------\n",
      "-----------------------------------\n",
      "Evaluando modelo: svc\n",
      "Con los siguientes parámetros: {'kernel': 'linear', 'gamma': 0.7, 'C': 0.1, 'class_weight': 'balanced'}\n",
      "MAUC validación: 0.884754478931427\n",
      "MAUC entrenamiento: 0.9158934950828552\n",
      "-----------------------------------\n",
      "-----------------------------------\n",
      "Evaluando modelo: svc\n",
      "Con los siguientes parámetros: {'kernel': 'linear', 'gamma': 0.7, 'C': 1.0, 'class_weight': 'balanced'}\n",
      "MAUC validación: 0.8826711773872375\n",
      "MAUC entrenamiento: 0.9158934950828552\n",
      "-----------------------------------\n",
      "-----------------------------------\n",
      "Evaluando modelo: svc\n",
      "Con los siguientes parámetros: {'kernel': 'linear', 'gamma': 1, 'C': 0.1, 'class_weight': 'balanced'}\n",
      "MAUC validación: 0.884754478931427\n",
      "MAUC entrenamiento: 0.9158934950828552\n",
      "-----------------------------------\n",
      "-----------------------------------\n",
      "Evaluando modelo: svc\n",
      "Con los siguientes parámetros: {'kernel': 'linear', 'gamma': 1, 'C': 1.0, 'class_weight': 'balanced'}\n",
      "MAUC validación: 0.8826711773872375\n",
      "MAUC entrenamiento: 0.9158934950828552\n",
      "-----------------------------------\n",
      "-----------------------------------\n",
      "Evaluando modelo: svc\n",
      "Con los siguientes parámetros: {'kernel': 'poly', 'gamma': 'auto', 'C': 0.1, 'class_weight': 'balanced'}\n",
      "MAUC validación: 0.8009020686149597\n",
      "MAUC entrenamiento: 0.9421682953834534\n",
      "-----------------------------------\n",
      "-----------------------------------\n",
      "Evaluando modelo: svc\n",
      "Con los siguientes parámetros: {'kernel': 'poly', 'gamma': 'auto', 'C': 1.0, 'class_weight': 'balanced'}\n",
      "MAUC validación: 0.8009020686149597\n",
      "MAUC entrenamiento: 0.9421682953834534\n",
      "-----------------------------------\n",
      "-----------------------------------\n",
      "Evaluando modelo: svc\n",
      "Con los siguientes parámetros: {'kernel': 'poly', 'gamma': 0.2, 'C': 0.1, 'class_weight': 'balanced'}\n",
      "MAUC validación: 0.8009020686149597\n",
      "MAUC entrenamiento: 0.9421682953834534\n",
      "-----------------------------------\n",
      "-----------------------------------\n",
      "Evaluando modelo: svc\n",
      "Con los siguientes parámetros: {'kernel': 'poly', 'gamma': 0.2, 'C': 1.0, 'class_weight': 'balanced'}\n"
     ]
    },
    {
     "name": "stdout",
     "output_type": "stream",
     "text": [
      "MAUC validación: 0.8009020686149597\n",
      "MAUC entrenamiento: 0.9421682953834534\n",
      "-----------------------------------\n",
      "-----------------------------------\n",
      "Evaluando modelo: svc\n",
      "Con los siguientes parámetros: {'kernel': 'poly', 'gamma': 0.7, 'C': 0.1, 'class_weight': 'balanced'}\n",
      "MAUC validación: 0.8009020686149597\n",
      "MAUC entrenamiento: 0.9421682953834534\n",
      "-----------------------------------\n",
      "-----------------------------------\n",
      "Evaluando modelo: svc\n",
      "Con los siguientes parámetros: {'kernel': 'poly', 'gamma': 0.7, 'C': 1.0, 'class_weight': 'balanced'}\n",
      "MAUC validación: 0.8009020686149597\n",
      "MAUC entrenamiento: 0.9421682953834534\n",
      "-----------------------------------\n",
      "-----------------------------------\n",
      "Evaluando modelo: svc\n",
      "Con los siguientes parámetros: {'kernel': 'poly', 'gamma': 1, 'C': 0.1, 'class_weight': 'balanced'}\n",
      "MAUC validación: 0.8009020686149597\n",
      "MAUC entrenamiento: 0.9421682953834534\n",
      "-----------------------------------\n",
      "-----------------------------------\n",
      "Evaluando modelo: svc\n",
      "Con los siguientes parámetros: {'kernel': 'poly', 'gamma': 1, 'C': 1.0, 'class_weight': 'balanced'}\n",
      "MAUC validación: 0.8009020686149597\n",
      "MAUC entrenamiento: 0.9421682953834534\n",
      "-----------------------------------\n",
      "-----------------------------------\n",
      "Evaluando modelo: svc\n",
      "Con los siguientes parámetros: {'kernel': 'sigmoid', 'gamma': 'auto', 'C': 0.1, 'class_weight': 'balanced'}\n",
      "MAUC validación: 0.7831997871398926\n",
      "MAUC entrenamiento: 0.7530701160430908\n",
      "-----------------------------------\n",
      "-----------------------------------\n",
      "Evaluando modelo: svc\n",
      "Con los siguientes parámetros: {'kernel': 'sigmoid', 'gamma': 'auto', 'C': 1.0, 'class_weight': 'balanced'}\n",
      "MAUC validación: 0.7307682633399963\n",
      "MAUC entrenamiento: 0.7030646204948425\n",
      "-----------------------------------\n",
      "-----------------------------------\n",
      "Evaluando modelo: svc\n",
      "Con los siguientes parámetros: {'kernel': 'sigmoid', 'gamma': 0.2, 'C': 0.1, 'class_weight': 'balanced'}\n",
      "MAUC validación: 0.795405387878418\n",
      "MAUC entrenamiento: 0.7535359263420105\n",
      "-----------------------------------\n",
      "-----------------------------------\n",
      "Evaluando modelo: svc\n",
      "Con los siguientes parámetros: {'kernel': 'sigmoid', 'gamma': 0.2, 'C': 1.0, 'class_weight': 'balanced'}\n",
      "MAUC validación: 0.7201665043830872\n",
      "MAUC entrenamiento: 0.7036449313163757\n",
      "-----------------------------------\n",
      "-----------------------------------\n",
      "Evaluando modelo: svc\n",
      "Con los siguientes parámetros: {'kernel': 'sigmoid', 'gamma': 0.7, 'C': 0.1, 'class_weight': 'balanced'}\n",
      "MAUC validación: 0.7882663607597351\n",
      "MAUC entrenamiento: 0.7427671551704407\n",
      "-----------------------------------\n",
      "-----------------------------------\n",
      "Evaluando modelo: svc\n",
      "Con los siguientes parámetros: {'kernel': 'sigmoid', 'gamma': 0.7, 'C': 1.0, 'class_weight': 'balanced'}\n",
      "MAUC validación: 0.7298517823219299\n",
      "MAUC entrenamiento: 0.7013099789619446\n",
      "-----------------------------------\n",
      "-----------------------------------\n",
      "Evaluando modelo: svc\n",
      "Con los siguientes parámetros: {'kernel': 'sigmoid', 'gamma': 1, 'C': 0.1, 'class_weight': 'balanced'}\n",
      "MAUC validación: 0.7915343642234802\n",
      "MAUC entrenamiento: 0.7528706192970276\n",
      "-----------------------------------\n",
      "-----------------------------------\n",
      "Evaluando modelo: svc\n",
      "Con los siguientes parámetros: {'kernel': 'sigmoid', 'gamma': 1, 'C': 1.0, 'class_weight': 'balanced'}\n",
      "MAUC validación: 0.755537211894989\n",
      "MAUC entrenamiento: 0.7073222994804382\n",
      "-----------------------------------\n",
      "-----------------------------------\n",
      "Evaluando modelo: forest\n",
      "Con los siguientes parámetros: {'max_depth': 3, 'n_estimators': 10, 'class_weight': 'balanced'}\n",
      "MAUC validación: 0.8235049247741699\n",
      "MAUC entrenamiento: 0.8821107745170593\n",
      "-----------------------------------\n",
      "-----------------------------------\n",
      "Evaluando modelo: forest\n",
      "Con los siguientes parámetros: {'max_depth': 3, 'n_estimators': 50, 'class_weight': 'balanced'}\n",
      "MAUC validación: 0.8065820336341858\n",
      "MAUC entrenamiento: 0.9023613333702087\n",
      "-----------------------------------\n",
      "-----------------------------------\n",
      "Evaluando modelo: forest\n",
      "Con los siguientes parámetros: {'max_depth': 3, 'n_estimators': 100, 'class_weight': 'balanced'}\n",
      "MAUC validación: 0.8334906101226807\n",
      "MAUC entrenamiento: 0.9145247340202332\n",
      "-----------------------------------\n",
      "-----------------------------------\n",
      "Evaluando modelo: forest\n",
      "Con los siguientes parámetros: {'max_depth': 3, 'n_estimators': 150, 'class_weight': 'balanced'}\n",
      "MAUC validación: 0.8271064758300781\n",
      "MAUC entrenamiento: 0.9123191237449646\n",
      "-----------------------------------\n",
      "-----------------------------------\n",
      "Evaluando modelo: forest\n",
      "Con los siguientes parámetros: {'max_depth': 3, 'n_estimators': 200, 'class_weight': 'balanced'}\n",
      "MAUC validación: 0.836050808429718\n",
      "MAUC entrenamiento: 0.9116633534431458\n",
      "-----------------------------------\n",
      "-----------------------------------\n",
      "Evaluando modelo: forest\n",
      "Con los siguientes parámetros: {'max_depth': 5, 'n_estimators': 10, 'class_weight': 'balanced'}\n",
      "MAUC validación: 0.7820056080818176\n",
      "MAUC entrenamiento: 0.9008522033691406\n",
      "-----------------------------------\n",
      "-----------------------------------\n",
      "Evaluando modelo: forest\n",
      "Con los siguientes parámetros: {'max_depth': 5, 'n_estimators': 50, 'class_weight': 'balanced'}\n",
      "MAUC validación: 0.8114571571350098\n",
      "MAUC entrenamiento: 0.9262182712554932\n",
      "-----------------------------------\n",
      "-----------------------------------\n",
      "Evaluando modelo: forest\n",
      "Con los siguientes parámetros: {'max_depth': 5, 'n_estimators': 100, 'class_weight': 'balanced'}\n",
      "MAUC validación: 0.8066613078117371\n",
      "MAUC entrenamiento: 0.9301318526268005\n",
      "-----------------------------------\n",
      "-----------------------------------\n",
      "Evaluando modelo: forest\n",
      "Con los siguientes parámetros: {'max_depth': 5, 'n_estimators': 150, 'class_weight': 'balanced'}\n",
      "MAUC validación: 0.8381156921386719\n",
      "MAUC entrenamiento: 0.939191997051239\n",
      "-----------------------------------\n",
      "-----------------------------------\n",
      "Evaluando modelo: forest\n",
      "Con los siguientes parámetros: {'max_depth': 5, 'n_estimators': 200, 'class_weight': 'balanced'}\n",
      "MAUC validación: 0.809840977191925\n",
      "MAUC entrenamiento: 0.9322335124015808\n",
      "-----------------------------------\n",
      "-----------------------------------\n",
      "Evaluando modelo: forest\n",
      "Con los siguientes parámetros: {'max_depth': 7, 'n_estimators': 10, 'class_weight': 'balanced'}\n",
      "MAUC validación: 0.7569155097007751\n",
      "MAUC entrenamiento: 0.9076030850410461\n",
      "-----------------------------------\n",
      "-----------------------------------\n",
      "Evaluando modelo: forest\n",
      "Con los siguientes parámetros: {'max_depth': 7, 'n_estimators': 50, 'class_weight': 'balanced'}\n",
      "MAUC validación: 0.7667303085327148\n",
      "MAUC entrenamiento: 0.9291606545448303\n",
      "-----------------------------------\n",
      "-----------------------------------\n",
      "Evaluando modelo: forest\n",
      "Con los siguientes parámetros: {'max_depth': 7, 'n_estimators': 100, 'class_weight': 'balanced'}\n",
      "MAUC validación: 0.7652491927146912\n",
      "MAUC entrenamiento: 0.9276745915412903\n",
      "-----------------------------------\n",
      "-----------------------------------\n",
      "Evaluando modelo: forest\n",
      "Con los siguientes parámetros: {'max_depth': 7, 'n_estimators': 150, 'class_weight': 'balanced'}\n",
      "MAUC validación: 0.7921776175498962\n",
      "MAUC entrenamiento: 0.9344422817230225\n",
      "-----------------------------------\n",
      "-----------------------------------\n",
      "Evaluando modelo: forest\n",
      "Con los siguientes parámetros: {'max_depth': 7, 'n_estimators': 200, 'class_weight': 'balanced'}\n",
      "MAUC validación: 0.8014363646507263\n",
      "MAUC entrenamiento: 0.9374373555183411\n",
      "-----------------------------------\n",
      "-----------------------------------\n",
      "Evaluando modelo: knn\n",
      "Con los siguientes parámetros: {'n_neighbors': 3}\n",
      "MAUC validación: 0.8226559162139893\n",
      "MAUC entrenamiento: 0.8652095198631287\n",
      "-----------------------------------\n",
      "-----------------------------------\n",
      "Evaluando modelo: knn\n",
      "Con los siguientes parámetros: {'n_neighbors': 5}\n",
      "MAUC validación: 0.8100614547729492\n",
      "MAUC entrenamiento: 0.843011200428009\n",
      "-----------------------------------\n",
      "-----------------------------------\n",
      "Evaluando modelo: knn\n",
      "Con los siguientes parámetros: {'n_neighbors': 7}\n",
      "MAUC validación: 0.8064110279083252\n",
      "MAUC entrenamiento: 0.8169395327568054\n",
      "-----------------------------------\n",
      "-----------------------------------\n",
      "Evaluando modelo: tree\n",
      "Con los siguientes parámetros: {'max_depth': 3, 'class_weight': 'balanced'}\n",
      "MAUC validación: 0.8178545832633972\n",
      "MAUC entrenamiento: 0.8583692908287048\n"
     ]
    },
    {
     "name": "stdout",
     "output_type": "stream",
     "text": [
      "-----------------------------------\n",
      "-----------------------------------\n",
      "Evaluando modelo: tree\n",
      "Con los siguientes parámetros: {'max_depth': 5, 'class_weight': 'balanced'}\n",
      "MAUC validación: 0.794492781162262\n",
      "MAUC entrenamiento: 0.9005217552185059\n",
      "-----------------------------------\n",
      "-----------------------------------\n",
      "Evaluando modelo: tree\n",
      "Con los siguientes parámetros: {'max_depth': 7, 'class_weight': 'balanced'}\n",
      "MAUC validación: 0.780046284198761\n",
      "MAUC entrenamiento: 0.9136481285095215\n",
      "-----------------------------------\n",
      "###########################################################\n",
      "Probando hiperparámetros: n_comp: 150,umbral: 0.1\n",
      "###########################################################\n",
      "-----------------------------------\n",
      "Evaluando modelo: svc\n",
      "Con los siguientes parámetros: {'kernel': 'linear', 'gamma': 'auto', 'C': 0.1, 'class_weight': 'balanced'}\n",
      "MAUC validación: 0.7956838011741638\n",
      "MAUC entrenamiento: 0.9405258297920227\n",
      "-----------------------------------\n",
      "-----------------------------------\n",
      "Evaluando modelo: svc\n",
      "Con los siguientes parámetros: {'kernel': 'linear', 'gamma': 'auto', 'C': 1.0, 'class_weight': 'balanced'}\n",
      "MAUC validación: 0.7956838011741638\n",
      "MAUC entrenamiento: 0.9405258297920227\n",
      "-----------------------------------\n",
      "-----------------------------------\n",
      "Evaluando modelo: svc\n",
      "Con los siguientes parámetros: {'kernel': 'linear', 'gamma': 0.2, 'C': 0.1, 'class_weight': 'balanced'}\n",
      "MAUC validación: 0.7956838011741638\n",
      "MAUC entrenamiento: 0.9405258297920227\n",
      "-----------------------------------\n",
      "-----------------------------------\n",
      "Evaluando modelo: svc\n",
      "Con los siguientes parámetros: {'kernel': 'linear', 'gamma': 0.2, 'C': 1.0, 'class_weight': 'balanced'}\n",
      "MAUC validación: 0.7956838011741638\n",
      "MAUC entrenamiento: 0.9405258297920227\n",
      "-----------------------------------\n",
      "-----------------------------------\n",
      "Evaluando modelo: svc\n",
      "Con los siguientes parámetros: {'kernel': 'linear', 'gamma': 0.7, 'C': 0.1, 'class_weight': 'balanced'}\n",
      "MAUC validación: 0.7956838011741638\n",
      "MAUC entrenamiento: 0.9405258297920227\n",
      "-----------------------------------\n",
      "-----------------------------------\n",
      "Evaluando modelo: svc\n",
      "Con los siguientes parámetros: {'kernel': 'linear', 'gamma': 0.7, 'C': 1.0, 'class_weight': 'balanced'}\n",
      "MAUC validación: 0.7956838011741638\n",
      "MAUC entrenamiento: 0.9405258297920227\n",
      "-----------------------------------\n",
      "-----------------------------------\n",
      "Evaluando modelo: svc\n",
      "Con los siguientes parámetros: {'kernel': 'linear', 'gamma': 1, 'C': 0.1, 'class_weight': 'balanced'}\n",
      "MAUC validación: 0.7956838011741638\n",
      "MAUC entrenamiento: 0.9405258297920227\n",
      "-----------------------------------\n",
      "-----------------------------------\n",
      "Evaluando modelo: svc\n",
      "Con los siguientes parámetros: {'kernel': 'linear', 'gamma': 1, 'C': 1.0, 'class_weight': 'balanced'}\n",
      "MAUC validación: 0.7956838011741638\n",
      "MAUC entrenamiento: 0.9405258297920227\n",
      "-----------------------------------\n",
      "-----------------------------------\n",
      "Evaluando modelo: svc\n",
      "Con los siguientes parámetros: {'kernel': 'poly', 'gamma': 'auto', 'C': 0.1, 'class_weight': 'balanced'}\n",
      "MAUC validación: 0.6879493594169617\n",
      "MAUC entrenamiento: 0.9098380208015442\n",
      "-----------------------------------\n",
      "-----------------------------------\n",
      "Evaluando modelo: svc\n",
      "Con los siguientes parámetros: {'kernel': 'poly', 'gamma': 'auto', 'C': 1.0, 'class_weight': 'balanced'}\n",
      "MAUC validación: 0.6879493594169617\n",
      "MAUC entrenamiento: 0.9098380208015442\n",
      "-----------------------------------\n",
      "-----------------------------------\n",
      "Evaluando modelo: svc\n",
      "Con los siguientes parámetros: {'kernel': 'poly', 'gamma': 0.2, 'C': 0.1, 'class_weight': 'balanced'}\n",
      "MAUC validación: 0.6879493594169617\n",
      "MAUC entrenamiento: 0.9098380208015442\n",
      "-----------------------------------\n",
      "-----------------------------------\n",
      "Evaluando modelo: svc\n",
      "Con los siguientes parámetros: {'kernel': 'poly', 'gamma': 0.2, 'C': 1.0, 'class_weight': 'balanced'}\n",
      "MAUC validación: 0.6879493594169617\n",
      "MAUC entrenamiento: 0.9098380208015442\n",
      "-----------------------------------\n",
      "-----------------------------------\n",
      "Evaluando modelo: svc\n",
      "Con los siguientes parámetros: {'kernel': 'poly', 'gamma': 0.7, 'C': 0.1, 'class_weight': 'balanced'}\n",
      "MAUC validación: 0.6879493594169617\n",
      "MAUC entrenamiento: 0.9098380208015442\n",
      "-----------------------------------\n",
      "-----------------------------------\n",
      "Evaluando modelo: svc\n",
      "Con los siguientes parámetros: {'kernel': 'poly', 'gamma': 0.7, 'C': 1.0, 'class_weight': 'balanced'}\n",
      "MAUC validación: 0.6879493594169617\n",
      "MAUC entrenamiento: 0.9098380208015442\n",
      "-----------------------------------\n",
      "-----------------------------------\n",
      "Evaluando modelo: svc\n",
      "Con los siguientes parámetros: {'kernel': 'poly', 'gamma': 1, 'C': 0.1, 'class_weight': 'balanced'}\n",
      "MAUC validación: 0.6879493594169617\n",
      "MAUC entrenamiento: 0.9098380208015442\n",
      "-----------------------------------\n",
      "-----------------------------------\n",
      "Evaluando modelo: svc\n",
      "Con los siguientes parámetros: {'kernel': 'poly', 'gamma': 1, 'C': 1.0, 'class_weight': 'balanced'}\n",
      "MAUC validación: 0.6879493594169617\n",
      "MAUC entrenamiento: 0.9098380208015442\n",
      "-----------------------------------\n",
      "-----------------------------------\n",
      "Evaluando modelo: svc\n",
      "Con los siguientes parámetros: {'kernel': 'sigmoid', 'gamma': 'auto', 'C': 0.1, 'class_weight': 'balanced'}\n",
      "MAUC validación: 0.7896865010261536\n",
      "MAUC entrenamiento: 0.7387520670890808\n",
      "-----------------------------------\n",
      "-----------------------------------\n",
      "Evaluando modelo: svc\n",
      "Con los siguientes parámetros: {'kernel': 'sigmoid', 'gamma': 'auto', 'C': 1.0, 'class_weight': 'balanced'}\n",
      "MAUC validación: 0.7191116213798523\n",
      "MAUC entrenamiento: 0.7160632014274597\n",
      "-----------------------------------\n",
      "-----------------------------------\n",
      "Evaluando modelo: svc\n",
      "Con los siguientes parámetros: {'kernel': 'sigmoid', 'gamma': 0.2, 'C': 0.1, 'class_weight': 'balanced'}\n",
      "MAUC validación: 0.7922067642211914\n",
      "MAUC entrenamiento: 0.7459049224853516\n",
      "-----------------------------------\n",
      "-----------------------------------\n",
      "Evaluando modelo: svc\n",
      "Con los siguientes parámetros: {'kernel': 'sigmoid', 'gamma': 0.2, 'C': 1.0, 'class_weight': 'balanced'}\n",
      "MAUC validación: 0.6966646313667297\n",
      "MAUC entrenamiento: 0.7068454623222351\n",
      "-----------------------------------\n",
      "-----------------------------------\n",
      "Evaluando modelo: svc\n",
      "Con los siguientes parámetros: {'kernel': 'sigmoid', 'gamma': 0.7, 'C': 0.1, 'class_weight': 'balanced'}\n",
      "MAUC validación: 0.7859361171722412\n",
      "MAUC entrenamiento: 0.741946280002594\n",
      "-----------------------------------\n",
      "-----------------------------------\n",
      "Evaluando modelo: svc\n",
      "Con los siguientes parámetros: {'kernel': 'sigmoid', 'gamma': 0.7, 'C': 1.0, 'class_weight': 'balanced'}\n",
      "MAUC validación: 0.7152411341667175\n",
      "MAUC entrenamiento: 0.7088765501976013\n",
      "-----------------------------------\n",
      "-----------------------------------\n",
      "Evaluando modelo: svc\n",
      "Con los siguientes parámetros: {'kernel': 'sigmoid', 'gamma': 1, 'C': 0.1, 'class_weight': 'balanced'}\n",
      "MAUC validación: 0.7843613028526306\n",
      "MAUC entrenamiento: 0.7387845516204834\n",
      "-----------------------------------\n",
      "-----------------------------------\n",
      "Evaluando modelo: svc\n",
      "Con los siguientes parámetros: {'kernel': 'sigmoid', 'gamma': 1, 'C': 1.0, 'class_weight': 'balanced'}\n",
      "MAUC validación: 0.7124879360198975\n",
      "MAUC entrenamiento: 0.710226833820343\n",
      "-----------------------------------\n",
      "-----------------------------------\n",
      "Evaluando modelo: forest\n",
      "Con los siguientes parámetros: {'max_depth': 3, 'n_estimators': 10, 'class_weight': 'balanced'}\n",
      "MAUC validación: 0.7259857654571533\n",
      "MAUC entrenamiento: 0.8467731475830078\n",
      "-----------------------------------\n",
      "-----------------------------------\n",
      "Evaluando modelo: forest\n",
      "Con los siguientes parámetros: {'max_depth': 3, 'n_estimators': 50, 'class_weight': 'balanced'}\n",
      "MAUC validación: 0.6915402412414551\n",
      "MAUC entrenamiento: 0.8870576024055481\n",
      "-----------------------------------\n",
      "-----------------------------------\n",
      "Evaluando modelo: forest\n",
      "Con los siguientes parámetros: {'max_depth': 3, 'n_estimators': 100, 'class_weight': 'balanced'}\n",
      "MAUC validación: 0.7367939352989197\n",
      "MAUC entrenamiento: 0.9079650044441223\n",
      "-----------------------------------\n",
      "-----------------------------------\n",
      "Evaluando modelo: forest\n",
      "Con los siguientes parámetros: {'max_depth': 3, 'n_estimators': 150, 'class_weight': 'balanced'}\n"
     ]
    },
    {
     "name": "stdout",
     "output_type": "stream",
     "text": [
      "MAUC validación: 0.6875761151313782\n",
      "MAUC entrenamiento: 0.9009416699409485\n",
      "-----------------------------------\n",
      "-----------------------------------\n",
      "Evaluando modelo: forest\n",
      "Con los siguientes parámetros: {'max_depth': 3, 'n_estimators': 200, 'class_weight': 'balanced'}\n",
      "MAUC validación: 0.6738638877868652\n",
      "MAUC entrenamiento: 0.8934135437011719\n",
      "-----------------------------------\n",
      "-----------------------------------\n",
      "Evaluando modelo: forest\n",
      "Con los siguientes parámetros: {'max_depth': 5, 'n_estimators': 10, 'class_weight': 'balanced'}\n",
      "MAUC validación: 0.6861414909362793\n",
      "MAUC entrenamiento: 0.8796388506889343\n",
      "-----------------------------------\n",
      "-----------------------------------\n",
      "Evaluando modelo: forest\n",
      "Con los siguientes parámetros: {'max_depth': 5, 'n_estimators': 50, 'class_weight': 'balanced'}\n",
      "MAUC validación: 0.626271665096283\n",
      "MAUC entrenamiento: 0.8859742283821106\n",
      "-----------------------------------\n",
      "-----------------------------------\n",
      "Evaluando modelo: forest\n",
      "Con los siguientes parámetros: {'max_depth': 5, 'n_estimators': 100, 'class_weight': 'balanced'}\n",
      "MAUC validación: 0.5884308218955994\n",
      "MAUC entrenamiento: 0.8787543773651123\n",
      "-----------------------------------\n",
      "-----------------------------------\n",
      "Evaluando modelo: forest\n",
      "Con los siguientes parámetros: {'max_depth': 5, 'n_estimators': 150, 'class_weight': 'balanced'}\n",
      "MAUC validación: 0.5835873484611511\n",
      "MAUC entrenamiento: 0.8780782222747803\n",
      "-----------------------------------\n",
      "-----------------------------------\n",
      "Evaluando modelo: forest\n",
      "Con los siguientes parámetros: {'max_depth': 5, 'n_estimators': 200, 'class_weight': 'balanced'}\n",
      "MAUC validación: 0.5731465816497803\n",
      "MAUC entrenamiento: 0.8751380443572998\n",
      "-----------------------------------\n",
      "-----------------------------------\n",
      "Evaluando modelo: forest\n",
      "Con los siguientes parámetros: {'max_depth': 7, 'n_estimators': 10, 'class_weight': 'balanced'}\n",
      "MAUC validación: 0.5417163372039795\n",
      "MAUC entrenamiento: 0.8392939567565918\n",
      "-----------------------------------\n",
      "-----------------------------------\n",
      "Evaluando modelo: forest\n",
      "Con los siguientes parámetros: {'max_depth': 7, 'n_estimators': 50, 'class_weight': 'balanced'}\n",
      "MAUC validación: 0.5416882634162903\n",
      "MAUC entrenamiento: 0.8631955981254578\n",
      "-----------------------------------\n",
      "-----------------------------------\n",
      "Evaluando modelo: forest\n",
      "Con los siguientes parámetros: {'max_depth': 7, 'n_estimators': 100, 'class_weight': 'balanced'}\n",
      "MAUC validación: 0.5390233993530273\n",
      "MAUC entrenamiento: 0.865166962146759\n",
      "-----------------------------------\n",
      "-----------------------------------\n",
      "Evaluando modelo: forest\n",
      "Con los siguientes parámetros: {'max_depth': 7, 'n_estimators': 150, 'class_weight': 'balanced'}\n",
      "MAUC validación: 0.5539681911468506\n",
      "MAUC entrenamiento: 0.8697709441184998\n",
      "-----------------------------------\n",
      "-----------------------------------\n",
      "Evaluando modelo: forest\n",
      "Con los siguientes parámetros: {'max_depth': 7, 'n_estimators': 200, 'class_weight': 'balanced'}\n",
      "MAUC validación: 0.5372365117073059\n",
      "MAUC entrenamiento: 0.8646280765533447\n",
      "-----------------------------------\n",
      "-----------------------------------\n",
      "Evaluando modelo: knn\n",
      "Con los siguientes parámetros: {'n_neighbors': 3}\n",
      "MAUC validación: 0.7651073336601257\n",
      "MAUC entrenamiento: 0.8295972943305969\n",
      "-----------------------------------\n",
      "-----------------------------------\n",
      "Evaluando modelo: knn\n",
      "Con los siguientes parámetros: {'n_neighbors': 5}\n",
      "MAUC validación: 0.7949085235595703\n",
      "MAUC entrenamiento: 0.8206885457038879\n",
      "-----------------------------------\n",
      "-----------------------------------\n",
      "Evaluando modelo: knn\n",
      "Con los siguientes parámetros: {'n_neighbors': 7}\n",
      "MAUC validación: 0.7740595936775208\n",
      "MAUC entrenamiento: 0.8019394278526306\n",
      "-----------------------------------\n",
      "-----------------------------------\n",
      "Evaluando modelo: tree\n",
      "Con los siguientes parámetros: {'max_depth': 3, 'class_weight': 'balanced'}\n",
      "MAUC validación: 0.8031162619590759\n",
      "MAUC entrenamiento: 0.8574700355529785\n",
      "-----------------------------------\n",
      "-----------------------------------\n",
      "Evaluando modelo: tree\n",
      "Con los siguientes parámetros: {'max_depth': 5, 'class_weight': 'balanced'}\n",
      "MAUC validación: 0.8184582591056824\n",
      "MAUC entrenamiento: 0.9074897170066833\n",
      "-----------------------------------\n",
      "-----------------------------------\n",
      "Evaluando modelo: tree\n",
      "Con los siguientes parámetros: {'max_depth': 7, 'class_weight': 'balanced'}\n",
      "MAUC validación: 0.7659721374511719\n",
      "MAUC entrenamiento: 0.9138641357421875\n",
      "-----------------------------------\n",
      "###########################################################\n",
      "Probando hiperparámetros: n_comp: 600,umbral: 0.1\n",
      "###########################################################\n",
      "-----------------------------------\n",
      "Evaluando modelo: svc\n",
      "Con los siguientes parámetros: {'kernel': 'linear', 'gamma': 'auto', 'C': 0.1, 'class_weight': 'balanced'}\n",
      "MAUC validación: 0.8481038212776184\n",
      "MAUC entrenamiento: 0.9561259150505066\n",
      "-----------------------------------\n",
      "-----------------------------------\n",
      "Evaluando modelo: svc\n",
      "Con los siguientes parámetros: {'kernel': 'linear', 'gamma': 'auto', 'C': 1.0, 'class_weight': 'balanced'}\n",
      "MAUC validación: 0.8481038212776184\n",
      "MAUC entrenamiento: 0.9561259150505066\n",
      "-----------------------------------\n",
      "-----------------------------------\n",
      "Evaluando modelo: svc\n",
      "Con los siguientes parámetros: {'kernel': 'linear', 'gamma': 0.2, 'C': 0.1, 'class_weight': 'balanced'}\n",
      "MAUC validación: 0.8481038212776184\n",
      "MAUC entrenamiento: 0.9561259150505066\n",
      "-----------------------------------\n",
      "-----------------------------------\n",
      "Evaluando modelo: svc\n",
      "Con los siguientes parámetros: {'kernel': 'linear', 'gamma': 0.2, 'C': 1.0, 'class_weight': 'balanced'}\n",
      "MAUC validación: 0.8481038212776184\n",
      "MAUC entrenamiento: 0.9561259150505066\n",
      "-----------------------------------\n",
      "-----------------------------------\n",
      "Evaluando modelo: svc\n",
      "Con los siguientes parámetros: {'kernel': 'linear', 'gamma': 0.7, 'C': 0.1, 'class_weight': 'balanced'}\n",
      "MAUC validación: 0.8481038212776184\n",
      "MAUC entrenamiento: 0.9561259150505066\n",
      "-----------------------------------\n",
      "-----------------------------------\n",
      "Evaluando modelo: svc\n",
      "Con los siguientes parámetros: {'kernel': 'linear', 'gamma': 0.7, 'C': 1.0, 'class_weight': 'balanced'}\n",
      "MAUC validación: 0.8481038212776184\n",
      "MAUC entrenamiento: 0.9561259150505066\n",
      "-----------------------------------\n",
      "-----------------------------------\n",
      "Evaluando modelo: svc\n",
      "Con los siguientes parámetros: {'kernel': 'linear', 'gamma': 1, 'C': 0.1, 'class_weight': 'balanced'}\n",
      "MAUC validación: 0.8481038212776184\n",
      "MAUC entrenamiento: 0.9561259150505066\n",
      "-----------------------------------\n",
      "-----------------------------------\n",
      "Evaluando modelo: svc\n",
      "Con los siguientes parámetros: {'kernel': 'linear', 'gamma': 1, 'C': 1.0, 'class_weight': 'balanced'}\n",
      "MAUC validación: 0.8481038212776184\n",
      "MAUC entrenamiento: 0.9561259150505066\n",
      "-----------------------------------\n",
      "-----------------------------------\n",
      "Evaluando modelo: svc\n",
      "Con los siguientes parámetros: {'kernel': 'poly', 'gamma': 'auto', 'C': 0.1, 'class_weight': 'balanced'}\n",
      "MAUC validación: 0.5393089652061462\n",
      "MAUC entrenamiento: 0.864600658416748\n",
      "-----------------------------------\n",
      "-----------------------------------\n",
      "Evaluando modelo: svc\n",
      "Con los siguientes parámetros: {'kernel': 'poly', 'gamma': 'auto', 'C': 1.0, 'class_weight': 'balanced'}\n",
      "MAUC validación: 0.5393089652061462\n",
      "MAUC entrenamiento: 0.864600658416748\n",
      "-----------------------------------\n",
      "-----------------------------------\n",
      "Evaluando modelo: svc\n",
      "Con los siguientes parámetros: {'kernel': 'poly', 'gamma': 0.2, 'C': 0.1, 'class_weight': 'balanced'}\n",
      "MAUC validación: 0.5393089652061462\n",
      "MAUC entrenamiento: 0.864600658416748\n",
      "-----------------------------------\n",
      "-----------------------------------\n",
      "Evaluando modelo: svc\n",
      "Con los siguientes parámetros: {'kernel': 'poly', 'gamma': 0.2, 'C': 1.0, 'class_weight': 'balanced'}\n",
      "MAUC validación: 0.5393089652061462\n",
      "MAUC entrenamiento: 0.864600658416748\n",
      "-----------------------------------\n",
      "-----------------------------------\n",
      "Evaluando modelo: svc\n",
      "Con los siguientes parámetros: {'kernel': 'poly', 'gamma': 0.7, 'C': 0.1, 'class_weight': 'balanced'}\n",
      "MAUC validación: 0.5393089652061462\n",
      "MAUC entrenamiento: 0.864600658416748\n",
      "-----------------------------------\n",
      "-----------------------------------\n",
      "Evaluando modelo: svc\n",
      "Con los siguientes parámetros: {'kernel': 'poly', 'gamma': 0.7, 'C': 1.0, 'class_weight': 'balanced'}\n"
     ]
    },
    {
     "name": "stdout",
     "output_type": "stream",
     "text": [
      "MAUC validación: 0.5393089652061462\n",
      "MAUC entrenamiento: 0.864600658416748\n",
      "-----------------------------------\n",
      "-----------------------------------\n",
      "Evaluando modelo: svc\n",
      "Con los siguientes parámetros: {'kernel': 'poly', 'gamma': 1, 'C': 0.1, 'class_weight': 'balanced'}\n",
      "MAUC validación: 0.5393089652061462\n",
      "MAUC entrenamiento: 0.864600658416748\n",
      "-----------------------------------\n",
      "-----------------------------------\n",
      "Evaluando modelo: svc\n",
      "Con los siguientes parámetros: {'kernel': 'poly', 'gamma': 1, 'C': 1.0, 'class_weight': 'balanced'}\n",
      "MAUC validación: 0.5393089652061462\n",
      "MAUC entrenamiento: 0.864600658416748\n",
      "-----------------------------------\n",
      "-----------------------------------\n",
      "Evaluando modelo: svc\n",
      "Con los siguientes parámetros: {'kernel': 'sigmoid', 'gamma': 'auto', 'C': 0.1, 'class_weight': 'balanced'}\n",
      "MAUC validación: 0.7712593674659729\n",
      "MAUC entrenamiento: 0.7425305247306824\n",
      "-----------------------------------\n",
      "-----------------------------------\n",
      "Evaluando modelo: svc\n",
      "Con los siguientes parámetros: {'kernel': 'sigmoid', 'gamma': 'auto', 'C': 1.0, 'class_weight': 'balanced'}\n",
      "MAUC validación: 0.7192721366882324\n",
      "MAUC entrenamiento: 0.6994375586509705\n",
      "-----------------------------------\n",
      "-----------------------------------\n",
      "Evaluando modelo: svc\n",
      "Con los siguientes parámetros: {'kernel': 'sigmoid', 'gamma': 0.2, 'C': 0.1, 'class_weight': 'balanced'}\n",
      "MAUC validación: 0.7954036593437195\n",
      "MAUC entrenamiento: 0.7444999814033508\n",
      "-----------------------------------\n",
      "-----------------------------------\n",
      "Evaluando modelo: svc\n",
      "Con los siguientes parámetros: {'kernel': 'sigmoid', 'gamma': 0.2, 'C': 1.0, 'class_weight': 'balanced'}\n",
      "MAUC validación: 0.7272858619689941\n",
      "MAUC entrenamiento: 0.7047512531280518\n",
      "-----------------------------------\n",
      "-----------------------------------\n",
      "Evaluando modelo: svc\n",
      "Con los siguientes parámetros: {'kernel': 'sigmoid', 'gamma': 0.7, 'C': 0.1, 'class_weight': 'balanced'}\n",
      "MAUC validación: 0.7783764004707336\n",
      "MAUC entrenamiento: 0.7417130470275879\n",
      "-----------------------------------\n",
      "-----------------------------------\n",
      "Evaluando modelo: svc\n",
      "Con los siguientes parámetros: {'kernel': 'sigmoid', 'gamma': 0.7, 'C': 1.0, 'class_weight': 'balanced'}\n",
      "MAUC validación: 0.7442288994789124\n",
      "MAUC entrenamiento: 0.7033420205116272\n",
      "-----------------------------------\n",
      "-----------------------------------\n",
      "Evaluando modelo: svc\n",
      "Con los siguientes parámetros: {'kernel': 'sigmoid', 'gamma': 1, 'C': 0.1, 'class_weight': 'balanced'}\n",
      "MAUC validación: 0.7747929692268372\n",
      "MAUC entrenamiento: 0.752369225025177\n",
      "-----------------------------------\n",
      "-----------------------------------\n",
      "Evaluando modelo: svc\n",
      "Con los siguientes parámetros: {'kernel': 'sigmoid', 'gamma': 1, 'C': 1.0, 'class_weight': 'balanced'}\n",
      "MAUC validación: 0.7545774579048157\n",
      "MAUC entrenamiento: 0.7136213779449463\n",
      "-----------------------------------\n",
      "-----------------------------------\n",
      "Evaluando modelo: forest\n",
      "Con los siguientes parámetros: {'max_depth': 3, 'n_estimators': 10, 'class_weight': 'balanced'}\n",
      "MAUC validación: 0.6071942448616028\n",
      "MAUC entrenamiento: 0.7989792823791504\n",
      "-----------------------------------\n",
      "-----------------------------------\n",
      "Evaluando modelo: forest\n",
      "Con los siguientes parámetros: {'max_depth': 3, 'n_estimators': 50, 'class_weight': 'balanced'}\n",
      "MAUC validación: 0.5202445983886719\n",
      "MAUC entrenamiento: 0.8338711857795715\n",
      "-----------------------------------\n",
      "-----------------------------------\n",
      "Evaluando modelo: forest\n",
      "Con los siguientes parámetros: {'max_depth': 3, 'n_estimators': 100, 'class_weight': 'balanced'}\n",
      "MAUC validación: 0.5244142413139343\n",
      "MAUC entrenamiento: 0.8547640442848206\n",
      "-----------------------------------\n",
      "-----------------------------------\n",
      "Evaluando modelo: forest\n",
      "Con los siguientes parámetros: {'max_depth': 3, 'n_estimators': 150, 'class_weight': 'balanced'}\n",
      "MAUC validación: 0.5207539200782776\n",
      "MAUC entrenamiento: 0.8577966690063477\n",
      "-----------------------------------\n",
      "-----------------------------------\n",
      "Evaluando modelo: forest\n",
      "Con los siguientes parámetros: {'max_depth': 3, 'n_estimators': 200, 'class_weight': 'balanced'}\n",
      "MAUC validación: 0.5175438523292542\n",
      "MAUC entrenamiento: 0.858522355556488\n",
      "-----------------------------------\n",
      "-----------------------------------\n",
      "Evaluando modelo: forest\n",
      "Con los siguientes parámetros: {'max_depth': 5, 'n_estimators': 10, 'class_weight': 'balanced'}\n",
      "MAUC validación: 0.5551889538764954\n",
      "MAUC entrenamiento: 0.8223959803581238\n",
      "-----------------------------------\n",
      "-----------------------------------\n",
      "Evaluando modelo: forest\n",
      "Con los siguientes parámetros: {'max_depth': 5, 'n_estimators': 50, 'class_weight': 'balanced'}\n",
      "MAUC validación: 0.5256834030151367\n",
      "MAUC entrenamiento: 0.8594992756843567\n",
      "-----------------------------------\n",
      "-----------------------------------\n",
      "Evaluando modelo: forest\n",
      "Con los siguientes parámetros: {'max_depth': 5, 'n_estimators': 100, 'class_weight': 'balanced'}\n",
      "MAUC validación: 0.5\n",
      "MAUC entrenamiento: 0.8531022667884827\n",
      "-----------------------------------\n",
      "-----------------------------------\n",
      "Evaluando modelo: forest\n",
      "Con los siguientes parámetros: {'max_depth': 5, 'n_estimators': 150, 'class_weight': 'balanced'}\n",
      "MAUC validación: 0.5\n",
      "MAUC entrenamiento: 0.8531022667884827\n",
      "-----------------------------------\n",
      "-----------------------------------\n",
      "Evaluando modelo: forest\n",
      "Con los siguientes parámetros: {'max_depth': 5, 'n_estimators': 200, 'class_weight': 'balanced'}\n",
      "MAUC validación: 0.5\n",
      "MAUC entrenamiento: 0.8531022667884827\n",
      "-----------------------------------\n",
      "-----------------------------------\n",
      "Evaluando modelo: forest\n",
      "Con los siguientes parámetros: {'max_depth': 7, 'n_estimators': 10, 'class_weight': 'balanced'}\n",
      "MAUC validación: 0.5482922196388245\n",
      "MAUC entrenamiento: 0.8355283141136169\n",
      "-----------------------------------\n",
      "-----------------------------------\n",
      "Evaluando modelo: forest\n",
      "Con los siguientes parámetros: {'max_depth': 7, 'n_estimators': 50, 'class_weight': 'balanced'}\n",
      "MAUC validación: 0.5141898989677429\n",
      "MAUC entrenamiento: 0.8557593822479248\n",
      "-----------------------------------\n",
      "-----------------------------------\n",
      "Evaluando modelo: forest\n",
      "Con los siguientes parámetros: {'max_depth': 7, 'n_estimators': 100, 'class_weight': 'balanced'}\n",
      "MAUC validación: 0.5\n",
      "MAUC entrenamiento: 0.8531022667884827\n",
      "-----------------------------------\n",
      "-----------------------------------\n",
      "Evaluando modelo: forest\n",
      "Con los siguientes parámetros: {'max_depth': 7, 'n_estimators': 150, 'class_weight': 'balanced'}\n",
      "MAUC validación: 0.5\n",
      "MAUC entrenamiento: 0.8531022667884827\n",
      "-----------------------------------\n",
      "-----------------------------------\n",
      "Evaluando modelo: forest\n",
      "Con los siguientes parámetros: {'max_depth': 7, 'n_estimators': 200, 'class_weight': 'balanced'}\n",
      "MAUC validación: 0.5\n",
      "MAUC entrenamiento: 0.8531022667884827\n",
      "-----------------------------------\n",
      "-----------------------------------\n",
      "Evaluando modelo: knn\n",
      "Con los siguientes parámetros: {'n_neighbors': 3}\n",
      "MAUC validación: 0.744379997253418\n",
      "MAUC entrenamiento: 0.8088173866271973\n",
      "-----------------------------------\n",
      "-----------------------------------\n",
      "Evaluando modelo: knn\n",
      "Con los siguientes parámetros: {'n_neighbors': 5}\n",
      "MAUC validación: 0.7260596752166748\n",
      "MAUC entrenamiento: 0.7815921306610107\n",
      "-----------------------------------\n",
      "-----------------------------------\n",
      "Evaluando modelo: knn\n",
      "Con los siguientes parámetros: {'n_neighbors': 7}\n",
      "MAUC validación: 0.7293665409088135\n",
      "MAUC entrenamiento: 0.782636821269989\n",
      "-----------------------------------\n",
      "-----------------------------------\n",
      "Evaluando modelo: tree\n",
      "Con los siguientes parámetros: {'max_depth': 3, 'class_weight': 'balanced'}\n",
      "MAUC validación: 0.7924375534057617\n",
      "MAUC entrenamiento: 0.856039822101593\n",
      "-----------------------------------\n",
      "-----------------------------------\n",
      "Evaluando modelo: tree\n",
      "Con los siguientes parámetros: {'max_depth': 5, 'class_weight': 'balanced'}\n",
      "MAUC validación: 0.7493636012077332\n",
      "MAUC entrenamiento: 0.8876968026161194\n",
      "-----------------------------------\n",
      "-----------------------------------\n",
      "Evaluando modelo: tree\n",
      "Con los siguientes parámetros: {'max_depth': 7, 'class_weight': 'balanced'}\n",
      "MAUC validación: 0.7259059548377991\n",
      "MAUC entrenamiento: 0.9039618968963623\n",
      "-----------------------------------\n"
     ]
    }
   ],
   "source": [
    "for umbral in [0,0.0005,0.01,0.1]:\n",
    "  ######################## Low Variance ########################   \n",
    "  low_var = getter_delete_low_variance(X_train_pp,umbral=umbral)\n",
    "  X_train_lv = low_var.transform(X_train_pp)\n",
    "  X_test_lv = low_var.transform(X_test_pp)\n",
    "  X_train_lv_df = pd.DataFrame(data=X_train_lv[0:,0:],\n",
    "                index=[i for i in range(X_train_lv.shape[0])],\n",
    "                columns=['f'+str(i) for i in range(X_train_lv.shape[1])])\n",
    "  X_test_lv_df = pd.DataFrame(data=X_test_lv[0:,0:],\n",
    "                  index=[i for i in range(X_test_lv.shape[0])],\n",
    "                  columns=['f'+str(i) for i in range(X_test_lv.shape[1])])\n",
    "  ######################## End Low Variance ########################   \n",
    "\n",
    "  ######################## Data Standarization ########################   \n",
    "  normalizer = get_normalizer(X_train_lv_df)\n",
    "  X_train_norm = normalizer.transform(X_train_lv_df)\n",
    "  X_test_norm = normalizer.transform(X_test_lv_df)\n",
    "  ######################## End Data Standarization ########################  \n",
    "    \n",
    "  for n_comp in [12,25,150,600]:\n",
    "\n",
    "    print(\"###########################################################\")\n",
    "    print(f'Probando hiperparámetros: n_comp: {n_comp},umbral: {umbral}')\n",
    "    print(\"###########################################################\")\n",
    "    \n",
    "    ######################## PCA ########################   \n",
    "    pca = PCA(n_components=(n_comp))\n",
    "    pca.fit(X_train_norm)\n",
    "    X_train_pca = pca.transform(X_train_norm)\n",
    "    X_test_pca = pca.transform(X_test_norm)\n",
    "    ######################## End PCA ########################  \n",
    "    \n",
    "    X_train, X_val, y_train, y_val = train_test_split(X_train_pca, Y_train,test_size=0.3,random_state=42)\n",
    "    \n",
    "    models = {\"svc\": svm.SVC,\"forest\": RandomForestClassifier,\"knn\":KNeighborsClassifier,\"tree\":DecisionTreeClassifier}\n",
    "\n",
    "    # En tipo de kernel no se considera rbf ya que, siempre da malos resultados\n",
    "    grid = {\"kernel\":[\"linear\",\"poly\",\"sigmoid\"],\"max_depth\":[3,5,7],\n",
    "            \"n_neighbors\":[3,5,7],\"gamma\":[\"auto\",0.2,0.7,1],\"C\":np.linspace(0.1,1,2),\n",
    "            \"n_estimators\":[10,50,100,150,200],\"class_weight\":[\"balanced\"]}\n",
    "\n",
    "    param_per_model = {\"svc\": [\"kernel\",\"gamma\",\"C\",\"class_weight\"],\"forest\":[\"max_depth\",\"n_estimators\",\"class_weight\"],\n",
    "                       \"knn\":[\"n_neighbors\"],\"tree\":[\"max_depth\",\"class_weight\"]}\n",
    "    grid_per_model = {}\n",
    "\n",
    "    for model_params, params in param_per_model.items():\n",
    "      lista_params = []\n",
    "      for param in params:\n",
    "        lista_params.append(grid[param])\n",
    "      combinations = list(itertools.product(*lista_params))\n",
    "      grid_per_model[model_params] = [dict(zip(params, combination)) for combination in combinations]\n",
    "\n",
    "    for name, model in models.items():\n",
    "      for params in grid_per_model[name]:\n",
    "        print('-----------------------------------')\n",
    "        print(f'Evaluando modelo: {name}')\n",
    "        print(f'Con los siguientes parámetros: {params}')\n",
    "        evaluar_modelo(X_train,y_train,model=models[name],X_val=X_val,\n",
    "                         y_val=y_val,X_test=X_test_pca,params=params,\n",
    "                         test=test_dm,submit=False,X=X_train_pca,Y=Y_train)\n",
    "        print('-----------------------------------')"
   ]
  },
  {
   "cell_type": "markdown",
   "metadata": {},
   "source": [
    "## 9. Importancia de las variables por atributo"
   ]
  },
  {
   "cell_type": "code",
   "execution_count": null,
   "metadata": {},
   "outputs": [],
   "source": [
    "normalizer_fi = get_normalizer(X_train_pp)\n",
    "X_train_norm_fi = normalizer_fi.transform(X_train_pp)\n",
    "X_test_norm_fi = normalizer_fi.transform(X_test_pp)"
   ]
  },
  {
   "cell_type": "code",
   "execution_count": 106,
   "metadata": {},
   "outputs": [
    {
     "name": "stderr",
     "output_type": "stream",
     "text": [
      "C:\\Users\\linco\\AppData\\Roaming\\Python\\Python38\\site-packages\\xgboost\\sklearn.py:1224: UserWarning: The use of label encoder in XGBClassifier is deprecated and will be removed in a future release. To remove this warning, do the following: 1) Pass option use_label_encoder=False when constructing XGBClassifier object; and 2) Encode your labels (y) as integers starting with 0, i.e. 0, 1, 2, ..., [num_class - 1].\n",
      "  warnings.warn(label_encoder_deprecation_msg, UserWarning)\n"
     ]
    },
    {
     "name": "stdout",
     "output_type": "stream",
     "text": [
      "[00:11:37] WARNING: C:/Users/Administrator/workspace/xgboost-win64_release_1.5.1/src/learner.cc:1115: Starting in XGBoost 1.3.0, the default evaluation metric used with the objective 'binary:logistic' was changed from 'error' to 'logloss'. Explicitly set eval_metric if you'd like to restore the old behavior.\n"
     ]
    }
   ],
   "source": [
    "model = XGBClassifier(use_label_encoder=False)\n",
    "model.fit(X_train_norm_fi, Y_train[\"Cirrhosis\"])\n",
    "importances = pd.DataFrame(data={\n",
    "    'Attribute': X_train_pp.columns,\n",
    "    'Importance': model.feature_importances_\n",
    "})\n",
    "importances = importances.sort_values(by='Importance', ascending=False)\n",
    "plt.bar(x=importances[0:10]['Attribute'], height=importances[0:10]['Importance'], color='#087E8B')\n",
    "plt.title('Importancia de los perfiles microbiómicos para detectar la Cirrosis ', size=20)\n",
    "plt.xticks(rotation='vertical')\n",
    "plt.show()"
   ]
  },
  {
   "cell_type": "code",
   "execution_count": 108,
   "metadata": {},
   "outputs": [
    {
     "name": "stdout",
     "output_type": "stream",
     "text": [
      "[00:17:19] WARNING: C:/Users/Administrator/workspace/xgboost-win64_release_1.5.1/src/learner.cc:1115: Starting in XGBoost 1.3.0, the default evaluation metric used with the objective 'binary:logistic' was changed from 'error' to 'logloss'. Explicitly set eval_metric if you'd like to restore the old behavior.\n"
     ]
    },
    {
     "data": {
      "image/png": "[encoded data removed]",
      "text/plain": [
       "<Figure size 432x288 with 1 Axes>"
      ]
     },
     "metadata": {
      "needs_background": "light"
     },
     "output_type": "display_data"
    }
   ],
   "source": [
    "model = XGBClassifier(use_label_encoder=False)\n",
    "model.fit(X_train_norm_fi, Y_train[\"Obesity\"])\n",
    "importances = pd.DataFrame(data={\n",
    "    'Attribute': X_train_pp.columns,\n",
    "    'Importance': model.feature_importances_\n",
    "})\n",
    "importances = importances.sort_values(by='Importance', ascending=False)\n",
    "plt.bar(x=importances[0:10]['Attribute'], height=importances[0:10]['Importance'], color='#087E8B')\n",
    "plt.title('Importancia de los perfiles microbiómicos para detectar la Obesidad', size=20)\n",
    "plt.xticks(rotation='vertical')\n",
    "plt.show()"
   ]
  },
  {
   "cell_type": "code",
   "execution_count": 130,
   "metadata": {},
   "outputs": [
    {
     "name": "stdout",
     "output_type": "stream",
     "text": [
      "['-']\n",
      "['female' 'male']\n",
      "['female' 'male']\n"
     ]
    }
   ],
   "source": [
    "print(train_abundance[(train_abundance[\"Obesity\"]==1.0)].gender.unique())\n",
    "print(train_abundance[(train_abundance[\"Cirrhosis\"]==1.0)].gender.unique())\n",
    "print(train_abundance[(train_abundance[\"Diabetes\"]==1.0)].gender.unique())"
   ]
  },
  {
   "cell_type": "code",
   "execution_count": 109,
   "metadata": {},
   "outputs": [
    {
     "name": "stdout",
     "output_type": "stream",
     "text": [
      "[00:20:16] WARNING: C:/Users/Administrator/workspace/xgboost-win64_release_1.5.1/src/learner.cc:1115: Starting in XGBoost 1.3.0, the default evaluation metric used with the objective 'binary:logistic' was changed from 'error' to 'logloss'. Explicitly set eval_metric if you'd like to restore the old behavior.\n"
     ]
    },
    {
     "data": {
      "image/png": "[encoded data removed]",
      "text/plain": [
       "<Figure size 432x288 with 1 Axes>"
      ]
     },
     "metadata": {
      "needs_background": "light"
     },
     "output_type": "display_data"
    }
   ],
   "source": [
    "model = XGBClassifier(use_label_encoder=False)\n",
    "model.fit(X_train_norm_fi, Y_train[\"Diabetes\"])\n",
    "importances = pd.DataFrame(data={\n",
    "    'Attribute': X_train_pp.columns,\n",
    "    'Importance': model.feature_importances_\n",
    "})\n",
    "importances = importances.sort_values(by='Importance', ascending=False)\n",
    "plt.bar(x=importances[0:10]['Attribute'], height=importances[0:10]['Importance'], color='#087E8B')\n",
    "plt.title('Importancia de los perfiles microbiómicos para detectar la Diabetes', size=20)\n",
    "plt.xticks(rotation='vertical')\n",
    "plt.show()"
   ]
  },
  {
   "cell_type": "markdown",
   "metadata": {},
   "source": [
    "Fuente: https://towardsdatascience.com/3-essential-ways-to-calculate-feature-importance-in-python-2f9149592155"
   ]
  },
  {
   "cell_type": "markdown",
   "metadata": {},
   "source": [
    "## 10. Submit"
   ]
  },
  {
   "cell_type": "code",
   "execution_count": 29,
   "metadata": {},
   "outputs": [],
   "source": [
    "######################## Low Variance ########################   \n",
    "low_var = getter_delete_low_variance(X_train_pp,umbral=0)\n",
    "X_train_lv = low_var.transform(X_train_pp)\n",
    "X_test_lv = low_var.transform(X_test_pp)\n",
    "X_train_lv_df = pd.DataFrame(data=X_train_lv[0:,0:],\n",
    "              index=[i for i in range(X_train_lv.shape[0])],\n",
    "              columns=['f'+str(i) for i in range(X_train_lv.shape[1])])\n",
    "X_test_lv_df = pd.DataFrame(data=X_test_lv[0:,0:],\n",
    "                index=[i for i in range(X_test_lv.shape[0])],\n",
    "                columns=['f'+str(i) for i in range(X_test_lv.shape[1])])\n",
    "######################## End Low Variance ########################   \n",
    "\n",
    "######################## Data Standarization ########################   \n",
    "normalizer = get_normalizer(X_train_lv_df)\n",
    "X_train_norm = normalizer.transform(X_train_lv_df)\n",
    "X_test_norm = normalizer.transform(X_test_lv_df)\n",
    "######################## End Data Standarization ########################  \n",
    "\n",
    "######################## PCA ########################   \n",
    "pca = PCA(n_components=(25))\n",
    "pca.fit(X_train_norm)\n",
    "X_train_pca = pca.transform(X_train_norm)\n",
    "X_test_pca = pca.transform(X_test_norm)\n",
    "######################## End PCA ########################  \n",
    "\n",
    "X_train, X_val, y_train, y_val = train_test_split(X_train_pca, Y_train,test_size=0.3,random_state=42)"
   ]
  },
  {
   "cell_type": "code",
   "execution_count": 30,
   "metadata": {},
   "outputs": [
    {
     "name": "stdout",
     "output_type": "stream",
     "text": [
      "Comienza evaluación de modelo\n",
      "OneVsRestClassifier(estimator=SVC(C=1, class_weight='balanced', gamma=1,\n",
      "                                  kernel='linear'))\n"
     ]
    }
   ],
   "source": [
    "# Usando PCA con 25 componentes y umbral 0 en lv\n",
    "params = {\"kernel\":'linear', \"gamma\":1, \"C\":1,\"class_weight\":\"balanced\"}\n",
    "print(\"Comienza evaluación de modelo\")\n",
    "print(evaluar_modelo(X_train,y_train,model=svm.SVC,X_val=X_val,\n",
    "                     y_val=y_val,X_test=X_test_pca,params=params,\n",
    "                     test=test_dm,submit=True,X=X_train_pca,Y=Y_train))"
   ]
  },
  {
   "cell_type": "markdown",
   "metadata": {},
   "source": [
    "El archivo submission_to_kaggle.csv es generado automáticamente en la pipeline y está ubicado en la carpeta submissions."
   ]
  },
  {
   "cell_type": "markdown",
   "metadata": {},
   "source": [
    "## 11. Conclusiones"
   ]
  },
  {
   "cell_type": "markdown",
   "metadata": {},
   "source": [
    "1. "
   ]
  },
  {
   "cell_type": "markdown",
   "metadata": {},
   "source": [
    "## 12. Conformidad ética"
   ]
  },
  {
   "cell_type": "markdown",
   "metadata": {},
   "source": [
    "El trabajo realizado por *Ómicron* es original y está sujeto a todas las reglas descritas en el reglamento de la evaluación."
   ]
  },
  {
   "cell_type": "markdown",
   "metadata": {},
   "source": [
    "## 13. Contribución por integrante"
   ]
  },
  {
   "cell_type": "markdown",
   "metadata": {},
   "source": [
    "1. **Fernanda Avendaño**: \n",
    "2. **Diego Quezada**: \n",
    "3. **Kevin Reyes**: "
   ]
  }
 ],
 "metadata": {
  "colab": {
   "collapsed_sections": [],
   "name": "[INF398]Taller2_II_2021.ipynb",
   "provenance": [],
   "toc_visible": true
  },
  "kernelspec": {
   "display_name": "Python 3",
   "language": "python",
   "name": "python3"
  },
  "language_info": {
   "codemirror_mode": {
    "name": "ipython",
    "version": 3
   },
   "file_extension": ".py",
   "mimetype": "text/x-python",
   "name": "python",
   "nbconvert_exporter": "python",
   "pygments_lexer": "ipython3",
   "version": "3.8.2"
  },
  "toc": {
   "base_numbering": 1,
   "nav_menu": {},
   "number_sections": true,
   "sideBar": true,
   "skip_h1_title": false,
   "title_cell": "Table of Contents",
   "title_sidebar": "Contents",
   "toc_cell": false,
   "toc_position": {},
   "toc_section_display": true,
   "toc_window_display": false
  }
 },
 "nbformat": 4,
 "nbformat_minor": 1
}
