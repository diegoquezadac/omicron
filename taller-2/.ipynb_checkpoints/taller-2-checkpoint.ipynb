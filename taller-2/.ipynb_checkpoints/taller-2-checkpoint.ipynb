{
 "cells": [
  {
   "cell_type": "markdown",
   "metadata": {
    "id": "L5rfZ_hYaQ1Z"
   },
   "source": [
    "<center><img src=\"http://www.exalumnos.usm.cl/wp-content/uploads/2015/06/Isotipo-Negro.gif\" title=\"Title text\" width=\"30%\" /></center>\n",
    "\n",
    "<hr style=\"height:2px;border:none\"/>\n",
    "<h1 align='center'> INF-398 Aprendizaje Automático </h1>\n",
    "\n",
    "<H3 align='center'> Tarea/Taller 2 </H3>\n",
    "<hr style=\"height:2px;border:none\"/>\n",
    "\n"
   ]
  },
  {
   "cell_type": "markdown",
   "metadata": {
    "id": "9KovasDMUMnW"
   },
   "source": [
    "# Temas"
   ]
  },
  {
   "cell_type": "markdown",
   "metadata": {
    "id": "HUgiKCl3UREw"
   },
   "source": [
    "* Regresión Lineal\n",
    "* Regularización\n",
    "* Selección de Características\n",
    "* Reducción de Dimensionalidad\n"
   ]
  },
  {
   "cell_type": "markdown",
   "metadata": {
    "id": "3hHigypDURhb"
   },
   "source": [
    "# Reglas & Formalidades\n",
    "\n",
    "* Pueden trabajar en equipos de 2 a 3 personas. \n",
    "* Los equipos deben ser inscritos antes del 10 de Noviembre.\n",
    "* Pueden reusar código visto en clases y/o recolectar código/ideas de otros sitios, mencionando al autor y entregando un link a la fuente. \n",
    "* Si resulta necesaria, la intervención de personas ajenas al grupo (e.g. experto) debe ser declarada y justificada.\n",
    "* Tener roles dentro del equipo está bien, pero al final del proceso, cada miembro debe entender y estar en condiciones de exponer todo el trabajo realizado. "
   ]
  },
  {
   "cell_type": "markdown",
   "metadata": {
    "id": "CQeZ0_M7Ucf-"
   },
   "source": [
    "# Entregables \n",
    "\n"
   ]
  },
  {
   "cell_type": "markdown",
   "metadata": {
    "id": "_DOvGvOZUZYV"
   },
   "source": [
    "\n",
    "> * **Video:** Se debe preparar un video explicativo de **15 a 20 minutos** donde se describe la metodología utilizada, los resultados obtenidos y las conclusiones de la experiencia. \n",
    "\n",
    "> * **Código:** Se debe enviar un jupyter notebook con el código utilizado, de modo que sea posible **reproducir los resultados** presentados. Como alternativa, se puede entregar un link Github con el código fuente, incluyendo instrucciones precisas para ejecutar los experimentos. En cualquier caso (notebook o repo) el código debe estar ordenado y seccionado apropiadamente.\n",
    "\n",
    "> * **Conformidad Ética:** Se debe incluir una breve declaración ética en que se indique que el trabajo que se está enviando es un trabajo original, desarollado por los autores en conformidad con todas reglas antes mencionadas. Se debe también mencionar brevemente cuál fue la contribución de cada miembro del equipo. La declaración puede ser parte del notebook o estar en un archivo dentro del repo.\n",
    "\n",
    "> * **Defensa en vivo (video-conferencia):** El día de clases agendado para la discusión del taller, se seleccionarán aleatoriamente algunos equipos que presentarán oralmente su trabajo ante el curso. Los autores serán evaluados considerando la discusión y debate que generen entre sus pares. Los puntos obtenidos (positivos o negativos) se sumarán a la nota final de taller."
   ]
  },
  {
   "cell_type": "markdown",
   "metadata": {
    "id": "gNyRw2PdUgaA"
   },
   "source": [
    "# Fechas"
   ]
  },
  {
   "cell_type": "markdown",
   "metadata": {
    "id": "-lmzliloUhux"
   },
   "source": [
    "> * Defensas: 26 de Noviembre, horario de clases.\n",
    "> * Fecha de entrega de vídeo: 27 de Noviembre 23:59 Hrs. (1 días después de encuentro).\n",
    "> * Fecha de entrega de Jupyter (notebook): 26 de Noviembre 08:00 (se pueden hacer actualizaciones hasta el 27 de Noviembre 23:59 Hrs.). \n"
   ]
  },
  {
   "cell_type": "markdown",
   "metadata": {
    "id": "HnZJyoJGUmf9"
   },
   "source": [
    "# Instrucciones"
   ]
  },
  {
   "cell_type": "markdown",
   "metadata": {
    "id": "MF1q0Ei3Un6K"
   },
   "source": [
    "La tarea se divide en dos secciones:\n",
    "\n",
    "\n",
    "\n",
    "> **1. Pregunta de Investigación**. Para esta parte, los autores deben elegir una hipótesis de investigación y diseñar un procedimiento experimental que permita reunir evidencia en contra o a favor de la misma. Es legítimo tomar una posición *a-priori* en base a lo que han aprendido en el curso, pero es importante analizar críticamente los resultados sin descartar hipótesis alternativas. \n",
    "\n",
    "> La metodología debe incluir al menos 3 datasets, de los cuales al menos 2 deben ser reales. Es deseable también que incluyan experimentos controlados sobre dataset sintéticos o semi-sintéticos no triviales diseñados por ustedes. Por ejemplo, para demostrar que un método logra ignorar variables irrelevantes se podrían crear variables \"fake\" manualmente. Experimentos de este último tipo que se basen en un dataset real contarán como realizados sobre \"dataset reales\".\n",
    "\n",
    "> Si no es relevante para la pregunta de investigación y en honor al tiempo, no es necesario llevar a cabo un análisis exploratorio detallado sobre cada dataset utilizado.\n",
    "\n",
    ">  **2. Desafío Kaggle**. Para esta parte, los autores enfrentarán un desafío en la plataforma Kaggle y serán calificados en base a su posición en el tablero de resultados y el puntaje obtenido.\n"
   ]
  },
  {
   "cell_type": "markdown",
   "metadata": {
    "id": "HgDmUARIUw0w"
   },
   "source": [
    "# Parte 1. Pregunta de Investigación"
   ]
  },
  {
   "cell_type": "markdown",
   "metadata": {
    "id": "fTkbRyusPMok"
   },
   "source": [
    "> **1. Regresión Lineal:** Expandir un modelo de regresión lineal con características polinomiales reduce siempre el error de entrenamiento pero no necesariamente el error de predicción.\n",
    "\n",
    "> **2. Regresión Lineal:** Al entrenar un modelo de regresión lineal con pocos ejemplos y muchas características ($d > n$), la varianza de los estimadores de mínimos cuadrados aumenta y de consecuencia aumenta también la varianza de las predicciones que hace el modelo obtenido.\n",
    "\n",
    "> **3. Regresión Lineal:** En un problema de regresión en que la respuesta (y) tiene una gran cantidad de \\emph{outliers}, entrenar el modelo lineal con una función de costo (loss) más robusta que el error cuadrático (como la función de Huber) permite mejorar el error de predicción.\n",
    "\n",
    "> **4. Regresión Lineal:** Filtrar los atributos con muchos outliers antes de entrenar un modelo lineal de regresión permite mejorar el error de predicción.\n",
    "\n",
    "> **5. Regularización:** Sabemos que entrenar un modelo lineal agregando ruido blanco a los atributos es matemáticamente equivalente a usar el regularizador $L_2$. En la práctica sin embargo, el primer método resulta mucho más efectivo. \n",
    "\n",
    "> **6. Regularización:** Al entrenar un modelo lineal sobre texto, usando bigramas y trigramas, resulta fundamental equipar el modelo con un regularizador para prevenir overfitting.\n",
    "\n",
    "> **7. Regularización:** Usar el regularizador $L_2$ en un modelo lineal de clasificación (como el \\emph{regresor logístico}) resulta más efectivo y más eficiente que usar el regularizador $L_1$.\n",
    "\n",
    "> **8. Regularización:** Combinar el regularizador $L_2$ con el regularizador $L_1$ en un modelo lineal de regresión resulta más efectivo que cualquiera de las dos técnicas por separado.\n",
    "\n",
    "> **9. Regularización:** Al momento de elegir el valor del parámetro de regularización mediante validación cruzada, la regla denominada ``one-standard-error rule'' permite obtener modelos lineales más dispersos sin deteriorar significativamente el error de predicción.  \n",
    "\n",
    "> **10. Regularización:** Al computar el ``regularization path'' para el Lasso o Ridge Regression, la curva que corresponde a cada coeficiente es monótona y, en particular, no cambia de signo. Lo mismo ocurre con el error de validación cruzada correspondiente a los diferentes modelos obtenidos. \n",
    "\n",
    "> **11. Regularización:** En situaciones de fuerte co-linealidad entre atributos, el Lasso selecciona sólo una de las variables correlacionadas mientras que Ridge Regression mantiene todas las variables en el modelo reduciendo su peso de forma equitativa.\n",
    "\n",
    "> **12. Reducción de Dimensionalidad**: Combinando el modelo lineal de regresión con PCA perdemos en términos de interpretabilidad pero mejoramos significativamente el error de predicción. \n",
    "\n",
    "> **13. Reducción de Dimensionalidad**: Entrenar un clasificador sobre una representación de menor dimensionalidad obtenida vía LDA resulta más efectivo que hacerlo sobre una representación encontrada vía PCA, aún si a la última se le permite utilizar más dimensiones.\n",
    "\n",
    "> **14. Reducción de Dimensionalidad***: Un método lineal de reducción de dimensionalidad como PCA o LDA es mucho menos efectivo que un método no-lineales como TSNE para preservar la estructura de clases original. Esto resulta evidente al visualizar las proyecciones obtenidas y también al entrenar un clasificador sobre la nueva representación.\n",
    "\n",
    "> **15. Selección de Características:** Para el modelo de regresión lineal, un filtrado individual de atributos basado en el $F$-score permite encontrar las $K$ variables que minimizan el error de predicción.\n",
    "\n",
    "> **16. Selección de Características:** Seleccionar atributos para un problema de clasificación mediante el criterio denominado $\\chi^2$ resulta más efectivo que hacerlo usando RELIEF. \n",
    "\n",
    "> **17. Selección de Características:** Seleccionar atributos para un problema de clasificación mediante el método denominado MRMR (Minimum-Redundancy-Maximum-Relevance) resulta más efectivo que hacerlo filtrando vía Información Mutual individual. \n",
    "\n",
    "> Nota: Hay varias implementaciones públicas de MRMR compatibles con Sklearn. Ver por ejemplo emph{https://github.com/smazzanti/mrmr}\n",
    "\n",
    "> **18. Selección de Características:** Cuando se utiliza Forward Stepwise Selection junto a un modelo lineal de regresión, la estrategia de elegir la variable a incorporar re-entrenando el modelo y estimando su error de predicción, resulta notablemente más efectiva que hacer la elección usando un estimador de la correlación lineal de las variables con la respuesta (y).\n",
    "\n",
    "> **19. Selección de Características:** En problemas de clasificación con datos altamente dimensionales (al menos varias decenas de atributos), el método RELIEF es más efectivo y eficiente que el método denominado MRMR (Minimum-Redundancy-Maximum-Relevance)\n",
    "\n",
    "> Nota: Hay varias implementaciones públicas de MRMR compatibles con Sklearn. Ver por ejemplo emph{https://github.com/smazzanti/mrmr}\n",
    "\n",
    "\n",
    "> **20. Selección de Características:** Al entrenar un modelo lineal sobre texto, seleccionar atributos mediante el criterio denominado $\\chi^2$ resulta mucho más efectivo que hacerlo vía RELIEF.\n",
    "\n"
   ]
  },
  {
   "cell_type": "markdown",
   "metadata": {},
   "source": [
    "# Parte 1. Pregunta de Investigación"
   ]
  },
  {
   "cell_type": "markdown",
   "metadata": {},
   "source": [
    "## 1. Introducción\n",
    "\n",
    "Para poder comprender mejor la presente investigación es axiomático comprender los siguientes conceptos:\n",
    "\n",
    "1. Norma $L_{2}$: Conocida también como regularización Ridge, es una penalización que busca reducir de manera proporcional el valor de los coeficientes del modelo, de tal forma que al disminuir estos, se minimice la correlación entre los atributos y obtener una mejor generalización y por ende disminuir el overfitting asociado. \n",
    "2. Ruido blanco: Es una perturbación generada a partir de una distribución de probabilidad centrada en 0. \n",
    "\n",
    "En la presente investigación se estudirá la diferencia en el rendimiento entre entrenar un modelo utilizando regularización $L_2$ y entrenar un modelo sobre datos a los que se les aplicó un ruido blanco. \n",
    "\n",
    "La motivación pricipal de esta investigación es descubrir los efectos que genera el ruido blanco y $L_2$ en la capacidad de generalización de modelos de regresión lineal. Una importancia práctica y evidente, en caso de que la inyección de ruido blanco demuestre un buen resultado, es proponer como un paso de preprocesamiento el agregar ruido blanco a los atributos en función de regularizar los pesos del modelo de una manera más eficiente en comparación a la aplicación de la penalización $L_2$."
   ]
  },
  {
   "cell_type": "markdown",
   "metadata": {},
   "source": [
    "## 2. Hipótesis\n",
    "\n",
    "Sabemos que entrenar un modelo lineal agregando ruido blanco a los atributos es matemáticamente equivalente a usar el regularizador $L_2$. En la práctica sin embargo, el primer método resulta mucho más efectivo. "
   ]
  },
  {
   "cell_type": "markdown",
   "metadata": {},
   "source": [
    "## 3. Metodología\n",
    "\n",
    "La metodología que nos permitirá reunir evidencia para poner a prueba la hipótesis descrita anteriormente es la siguiente:\n",
    "\n",
    "Para cada dataset, repetir $n$ veces el siguiente procedimiento:\n",
    "\n",
    "1. Definir un conjunto de entrenamiento y de prueba.\n",
    "2. Definir un conjunto de entrenamiento ruidoso.\n",
    "3. Entrenar el clasificador lineal 1 en el conjunto de entrenamiento ruidoso.\n",
    "4. Entrenar el clasificador lineal 2 en el conjunto de entrenamiento original utilizando L2.\n",
    "5. Calcular el error asociado a cada clasificador.\n",
    "6. Almacenar ambos errores."
   ]
  },
  {
   "cell_type": "markdown",
   "metadata": {},
   "source": [
    "## 4. Simulación computacional"
   ]
  },
  {
   "cell_type": "markdown",
   "metadata": {},
   "source": [
    "### 4.1 Importación de librerías"
   ]
  },
  {
   "cell_type": "code",
   "execution_count": 97,
   "metadata": {},
   "outputs": [],
   "source": [
    "import scipy.stats"
   ]
  },
  {
   "cell_type": "markdown",
   "metadata": {},
   "source": [
    "Trabajaremos con los siguientes tres datasets:\n",
    "\n",
    "1. [Electric motor Temperature](https://www.kaggle.com/wkirgsn/electric-motor-temperature): Este conjunto de datos contiene 1330816 registros de 13 características extraídas mediante sensores en pruebas del motor PMSM. En nuestra investigación buscamos predecir la temperatura del rotor (pm).\n",
    "2. [House Sales in King County, USA](https://www.kaggle.com/harlfoxem/housesalesprediction): Este conjunto de datos contiene 21613 regristros de 20 características que buscan explicar el precio de las casas en el condado de King en función de las características de las casas.\n",
    "3. [Red Wine Quality](https://www.kaggle.com/uciml/red-wine-quality-cortez-et-al-2009): Este conjunto de datos contiene 1599 registros de 11 propiedades físico-químicas que buscan explicar la calidad del vino \"Vinho Verde\"."
   ]
  },
  {
   "cell_type": "code",
   "execution_count": 98,
   "metadata": {
    "scrolled": false
   },
   "outputs": [
    {
     "ename": "FileNotFoundError",
     "evalue": "[Errno 2] No such file or directory: './datasets/electric_motor_temperature.csv'",
     "output_type": "error",
     "traceback": [
      "\u001b[1;31m---------------------------------------------------------------------------\u001b[0m",
      "\u001b[1;31mFileNotFoundError\u001b[0m                         Traceback (most recent call last)",
      "\u001b[1;32m~\\AppData\\Local\\Temp/ipykernel_12576/2139579701.py\u001b[0m in \u001b[0;36m<module>\u001b[1;34m\u001b[0m\n\u001b[1;32m----> 1\u001b[1;33m \u001b[0melectric_motor_temperature\u001b[0m \u001b[1;33m=\u001b[0m \u001b[0mpd\u001b[0m\u001b[1;33m.\u001b[0m\u001b[0mread_csv\u001b[0m\u001b[1;33m(\u001b[0m\u001b[1;34m'./datasets/electric_motor_temperature.csv'\u001b[0m\u001b[1;33m)\u001b[0m\u001b[1;33m\u001b[0m\u001b[1;33m\u001b[0m\u001b[0m\n\u001b[0m",
      "\u001b[1;32m~\\AppData\\Local\\Programs\\Python\\Python39\\lib\\site-packages\\pandas\\util\\_decorators.py\u001b[0m in \u001b[0;36mwrapper\u001b[1;34m(*args, **kwargs)\u001b[0m\n\u001b[0;32m    309\u001b[0m                     \u001b[0mstacklevel\u001b[0m\u001b[1;33m=\u001b[0m\u001b[0mstacklevel\u001b[0m\u001b[1;33m,\u001b[0m\u001b[1;33m\u001b[0m\u001b[1;33m\u001b[0m\u001b[0m\n\u001b[0;32m    310\u001b[0m                 )\n\u001b[1;32m--> 311\u001b[1;33m             \u001b[1;32mreturn\u001b[0m \u001b[0mfunc\u001b[0m\u001b[1;33m(\u001b[0m\u001b[1;33m*\u001b[0m\u001b[0margs\u001b[0m\u001b[1;33m,\u001b[0m \u001b[1;33m**\u001b[0m\u001b[0mkwargs\u001b[0m\u001b[1;33m)\u001b[0m\u001b[1;33m\u001b[0m\u001b[1;33m\u001b[0m\u001b[0m\n\u001b[0m\u001b[0;32m    312\u001b[0m \u001b[1;33m\u001b[0m\u001b[0m\n\u001b[0;32m    313\u001b[0m         \u001b[1;32mreturn\u001b[0m \u001b[0mwrapper\u001b[0m\u001b[1;33m\u001b[0m\u001b[1;33m\u001b[0m\u001b[0m\n",
      "\u001b[1;32m~\\AppData\\Local\\Programs\\Python\\Python39\\lib\\site-packages\\pandas\\io\\parsers\\readers.py\u001b[0m in \u001b[0;36mread_csv\u001b[1;34m(filepath_or_buffer, sep, delimiter, header, names, index_col, usecols, squeeze, prefix, mangle_dupe_cols, dtype, engine, converters, true_values, false_values, skipinitialspace, skiprows, skipfooter, nrows, na_values, keep_default_na, na_filter, verbose, skip_blank_lines, parse_dates, infer_datetime_format, keep_date_col, date_parser, dayfirst, cache_dates, iterator, chunksize, compression, thousands, decimal, lineterminator, quotechar, quoting, doublequote, escapechar, comment, encoding, encoding_errors, dialect, error_bad_lines, warn_bad_lines, on_bad_lines, delim_whitespace, low_memory, memory_map, float_precision, storage_options)\u001b[0m\n\u001b[0;32m    584\u001b[0m     \u001b[0mkwds\u001b[0m\u001b[1;33m.\u001b[0m\u001b[0mupdate\u001b[0m\u001b[1;33m(\u001b[0m\u001b[0mkwds_defaults\u001b[0m\u001b[1;33m)\u001b[0m\u001b[1;33m\u001b[0m\u001b[1;33m\u001b[0m\u001b[0m\n\u001b[0;32m    585\u001b[0m \u001b[1;33m\u001b[0m\u001b[0m\n\u001b[1;32m--> 586\u001b[1;33m     \u001b[1;32mreturn\u001b[0m \u001b[0m_read\u001b[0m\u001b[1;33m(\u001b[0m\u001b[0mfilepath_or_buffer\u001b[0m\u001b[1;33m,\u001b[0m \u001b[0mkwds\u001b[0m\u001b[1;33m)\u001b[0m\u001b[1;33m\u001b[0m\u001b[1;33m\u001b[0m\u001b[0m\n\u001b[0m\u001b[0;32m    587\u001b[0m \u001b[1;33m\u001b[0m\u001b[0m\n\u001b[0;32m    588\u001b[0m \u001b[1;33m\u001b[0m\u001b[0m\n",
      "\u001b[1;32m~\\AppData\\Local\\Programs\\Python\\Python39\\lib\\site-packages\\pandas\\io\\parsers\\readers.py\u001b[0m in \u001b[0;36m_read\u001b[1;34m(filepath_or_buffer, kwds)\u001b[0m\n\u001b[0;32m    480\u001b[0m \u001b[1;33m\u001b[0m\u001b[0m\n\u001b[0;32m    481\u001b[0m     \u001b[1;31m# Create the parser.\u001b[0m\u001b[1;33m\u001b[0m\u001b[1;33m\u001b[0m\u001b[0m\n\u001b[1;32m--> 482\u001b[1;33m     \u001b[0mparser\u001b[0m \u001b[1;33m=\u001b[0m \u001b[0mTextFileReader\u001b[0m\u001b[1;33m(\u001b[0m\u001b[0mfilepath_or_buffer\u001b[0m\u001b[1;33m,\u001b[0m \u001b[1;33m**\u001b[0m\u001b[0mkwds\u001b[0m\u001b[1;33m)\u001b[0m\u001b[1;33m\u001b[0m\u001b[1;33m\u001b[0m\u001b[0m\n\u001b[0m\u001b[0;32m    483\u001b[0m \u001b[1;33m\u001b[0m\u001b[0m\n\u001b[0;32m    484\u001b[0m     \u001b[1;32mif\u001b[0m \u001b[0mchunksize\u001b[0m \u001b[1;32mor\u001b[0m \u001b[0miterator\u001b[0m\u001b[1;33m:\u001b[0m\u001b[1;33m\u001b[0m\u001b[1;33m\u001b[0m\u001b[0m\n",
      "\u001b[1;32m~\\AppData\\Local\\Programs\\Python\\Python39\\lib\\site-packages\\pandas\\io\\parsers\\readers.py\u001b[0m in \u001b[0;36m__init__\u001b[1;34m(self, f, engine, **kwds)\u001b[0m\n\u001b[0;32m    809\u001b[0m             \u001b[0mself\u001b[0m\u001b[1;33m.\u001b[0m\u001b[0moptions\u001b[0m\u001b[1;33m[\u001b[0m\u001b[1;34m\"has_index_names\"\u001b[0m\u001b[1;33m]\u001b[0m \u001b[1;33m=\u001b[0m \u001b[0mkwds\u001b[0m\u001b[1;33m[\u001b[0m\u001b[1;34m\"has_index_names\"\u001b[0m\u001b[1;33m]\u001b[0m\u001b[1;33m\u001b[0m\u001b[1;33m\u001b[0m\u001b[0m\n\u001b[0;32m    810\u001b[0m \u001b[1;33m\u001b[0m\u001b[0m\n\u001b[1;32m--> 811\u001b[1;33m         \u001b[0mself\u001b[0m\u001b[1;33m.\u001b[0m\u001b[0m_engine\u001b[0m \u001b[1;33m=\u001b[0m \u001b[0mself\u001b[0m\u001b[1;33m.\u001b[0m\u001b[0m_make_engine\u001b[0m\u001b[1;33m(\u001b[0m\u001b[0mself\u001b[0m\u001b[1;33m.\u001b[0m\u001b[0mengine\u001b[0m\u001b[1;33m)\u001b[0m\u001b[1;33m\u001b[0m\u001b[1;33m\u001b[0m\u001b[0m\n\u001b[0m\u001b[0;32m    812\u001b[0m \u001b[1;33m\u001b[0m\u001b[0m\n\u001b[0;32m    813\u001b[0m     \u001b[1;32mdef\u001b[0m \u001b[0mclose\u001b[0m\u001b[1;33m(\u001b[0m\u001b[0mself\u001b[0m\u001b[1;33m)\u001b[0m\u001b[1;33m:\u001b[0m\u001b[1;33m\u001b[0m\u001b[1;33m\u001b[0m\u001b[0m\n",
      "\u001b[1;32m~\\AppData\\Local\\Programs\\Python\\Python39\\lib\\site-packages\\pandas\\io\\parsers\\readers.py\u001b[0m in \u001b[0;36m_make_engine\u001b[1;34m(self, engine)\u001b[0m\n\u001b[0;32m   1038\u001b[0m             )\n\u001b[0;32m   1039\u001b[0m         \u001b[1;31m# error: Too many arguments for \"ParserBase\"\u001b[0m\u001b[1;33m\u001b[0m\u001b[1;33m\u001b[0m\u001b[0m\n\u001b[1;32m-> 1040\u001b[1;33m         \u001b[1;32mreturn\u001b[0m \u001b[0mmapping\u001b[0m\u001b[1;33m[\u001b[0m\u001b[0mengine\u001b[0m\u001b[1;33m]\u001b[0m\u001b[1;33m(\u001b[0m\u001b[0mself\u001b[0m\u001b[1;33m.\u001b[0m\u001b[0mf\u001b[0m\u001b[1;33m,\u001b[0m \u001b[1;33m**\u001b[0m\u001b[0mself\u001b[0m\u001b[1;33m.\u001b[0m\u001b[0moptions\u001b[0m\u001b[1;33m)\u001b[0m  \u001b[1;31m# type: ignore[call-arg]\u001b[0m\u001b[1;33m\u001b[0m\u001b[1;33m\u001b[0m\u001b[0m\n\u001b[0m\u001b[0;32m   1041\u001b[0m \u001b[1;33m\u001b[0m\u001b[0m\n\u001b[0;32m   1042\u001b[0m     \u001b[1;32mdef\u001b[0m \u001b[0m_failover_to_python\u001b[0m\u001b[1;33m(\u001b[0m\u001b[0mself\u001b[0m\u001b[1;33m)\u001b[0m\u001b[1;33m:\u001b[0m\u001b[1;33m\u001b[0m\u001b[1;33m\u001b[0m\u001b[0m\n",
      "\u001b[1;32m~\\AppData\\Local\\Programs\\Python\\Python39\\lib\\site-packages\\pandas\\io\\parsers\\c_parser_wrapper.py\u001b[0m in \u001b[0;36m__init__\u001b[1;34m(self, src, **kwds)\u001b[0m\n\u001b[0;32m     49\u001b[0m \u001b[1;33m\u001b[0m\u001b[0m\n\u001b[0;32m     50\u001b[0m         \u001b[1;31m# open handles\u001b[0m\u001b[1;33m\u001b[0m\u001b[1;33m\u001b[0m\u001b[0m\n\u001b[1;32m---> 51\u001b[1;33m         \u001b[0mself\u001b[0m\u001b[1;33m.\u001b[0m\u001b[0m_open_handles\u001b[0m\u001b[1;33m(\u001b[0m\u001b[0msrc\u001b[0m\u001b[1;33m,\u001b[0m \u001b[0mkwds\u001b[0m\u001b[1;33m)\u001b[0m\u001b[1;33m\u001b[0m\u001b[1;33m\u001b[0m\u001b[0m\n\u001b[0m\u001b[0;32m     52\u001b[0m         \u001b[1;32massert\u001b[0m \u001b[0mself\u001b[0m\u001b[1;33m.\u001b[0m\u001b[0mhandles\u001b[0m \u001b[1;32mis\u001b[0m \u001b[1;32mnot\u001b[0m \u001b[1;32mNone\u001b[0m\u001b[1;33m\u001b[0m\u001b[1;33m\u001b[0m\u001b[0m\n\u001b[0;32m     53\u001b[0m \u001b[1;33m\u001b[0m\u001b[0m\n",
      "\u001b[1;32m~\\AppData\\Local\\Programs\\Python\\Python39\\lib\\site-packages\\pandas\\io\\parsers\\base_parser.py\u001b[0m in \u001b[0;36m_open_handles\u001b[1;34m(self, src, kwds)\u001b[0m\n\u001b[0;32m    220\u001b[0m         \u001b[0mLet\u001b[0m \u001b[0mthe\u001b[0m \u001b[0mreaders\u001b[0m \u001b[0mopen\u001b[0m \u001b[0mIOHandles\u001b[0m \u001b[0mafter\u001b[0m \u001b[0mthey\u001b[0m \u001b[0mare\u001b[0m \u001b[0mdone\u001b[0m \u001b[1;32mwith\u001b[0m \u001b[0mtheir\u001b[0m \u001b[0mpotential\u001b[0m \u001b[0mraises\u001b[0m\u001b[1;33m.\u001b[0m\u001b[1;33m\u001b[0m\u001b[1;33m\u001b[0m\u001b[0m\n\u001b[0;32m    221\u001b[0m         \"\"\"\n\u001b[1;32m--> 222\u001b[1;33m         self.handles = get_handle(\n\u001b[0m\u001b[0;32m    223\u001b[0m             \u001b[0msrc\u001b[0m\u001b[1;33m,\u001b[0m\u001b[1;33m\u001b[0m\u001b[1;33m\u001b[0m\u001b[0m\n\u001b[0;32m    224\u001b[0m             \u001b[1;34m\"r\"\u001b[0m\u001b[1;33m,\u001b[0m\u001b[1;33m\u001b[0m\u001b[1;33m\u001b[0m\u001b[0m\n",
      "\u001b[1;32m~\\AppData\\Local\\Programs\\Python\\Python39\\lib\\site-packages\\pandas\\io\\common.py\u001b[0m in \u001b[0;36mget_handle\u001b[1;34m(path_or_buf, mode, encoding, compression, memory_map, is_text, errors, storage_options)\u001b[0m\n\u001b[0;32m    700\u001b[0m         \u001b[1;32mif\u001b[0m \u001b[0mioargs\u001b[0m\u001b[1;33m.\u001b[0m\u001b[0mencoding\u001b[0m \u001b[1;32mand\u001b[0m \u001b[1;34m\"b\"\u001b[0m \u001b[1;32mnot\u001b[0m \u001b[1;32min\u001b[0m \u001b[0mioargs\u001b[0m\u001b[1;33m.\u001b[0m\u001b[0mmode\u001b[0m\u001b[1;33m:\u001b[0m\u001b[1;33m\u001b[0m\u001b[1;33m\u001b[0m\u001b[0m\n\u001b[0;32m    701\u001b[0m             \u001b[1;31m# Encoding\u001b[0m\u001b[1;33m\u001b[0m\u001b[1;33m\u001b[0m\u001b[0m\n\u001b[1;32m--> 702\u001b[1;33m             handle = open(\n\u001b[0m\u001b[0;32m    703\u001b[0m                 \u001b[0mhandle\u001b[0m\u001b[1;33m,\u001b[0m\u001b[1;33m\u001b[0m\u001b[1;33m\u001b[0m\u001b[0m\n\u001b[0;32m    704\u001b[0m                 \u001b[0mioargs\u001b[0m\u001b[1;33m.\u001b[0m\u001b[0mmode\u001b[0m\u001b[1;33m,\u001b[0m\u001b[1;33m\u001b[0m\u001b[1;33m\u001b[0m\u001b[0m\n",
      "\u001b[1;31mFileNotFoundError\u001b[0m: [Errno 2] No such file or directory: './datasets/electric_motor_temperature.csv'"
     ]
    }
   ],
   "source": [
    "electric_motor_temperature = pd.read_csv('./datasets/electric_motor_temperature.csv')"
   ]
  },
  {
   "cell_type": "code",
   "execution_count": 99,
   "metadata": {
    "scrolled": true
   },
   "outputs": [
    {
     "ename": "FileNotFoundError",
     "evalue": "[Errno 2] No such file or directory: './datasets/house_sales.csv'",
     "output_type": "error",
     "traceback": [
      "\u001b[1;31m---------------------------------------------------------------------------\u001b[0m",
      "\u001b[1;31mFileNotFoundError\u001b[0m                         Traceback (most recent call last)",
      "\u001b[1;32m~\\AppData\\Local\\Temp/ipykernel_12576/1065844781.py\u001b[0m in \u001b[0;36m<module>\u001b[1;34m\u001b[0m\n\u001b[1;32m----> 1\u001b[1;33m \u001b[0mhouse_sales\u001b[0m \u001b[1;33m=\u001b[0m \u001b[0mpd\u001b[0m\u001b[1;33m.\u001b[0m\u001b[0mread_csv\u001b[0m\u001b[1;33m(\u001b[0m\u001b[1;34m'./datasets/house_sales.csv'\u001b[0m\u001b[1;33m)\u001b[0m\u001b[1;33m\u001b[0m\u001b[1;33m\u001b[0m\u001b[0m\n\u001b[0m",
      "\u001b[1;32m~\\AppData\\Local\\Programs\\Python\\Python39\\lib\\site-packages\\pandas\\util\\_decorators.py\u001b[0m in \u001b[0;36mwrapper\u001b[1;34m(*args, **kwargs)\u001b[0m\n\u001b[0;32m    309\u001b[0m                     \u001b[0mstacklevel\u001b[0m\u001b[1;33m=\u001b[0m\u001b[0mstacklevel\u001b[0m\u001b[1;33m,\u001b[0m\u001b[1;33m\u001b[0m\u001b[1;33m\u001b[0m\u001b[0m\n\u001b[0;32m    310\u001b[0m                 )\n\u001b[1;32m--> 311\u001b[1;33m             \u001b[1;32mreturn\u001b[0m \u001b[0mfunc\u001b[0m\u001b[1;33m(\u001b[0m\u001b[1;33m*\u001b[0m\u001b[0margs\u001b[0m\u001b[1;33m,\u001b[0m \u001b[1;33m**\u001b[0m\u001b[0mkwargs\u001b[0m\u001b[1;33m)\u001b[0m\u001b[1;33m\u001b[0m\u001b[1;33m\u001b[0m\u001b[0m\n\u001b[0m\u001b[0;32m    312\u001b[0m \u001b[1;33m\u001b[0m\u001b[0m\n\u001b[0;32m    313\u001b[0m         \u001b[1;32mreturn\u001b[0m \u001b[0mwrapper\u001b[0m\u001b[1;33m\u001b[0m\u001b[1;33m\u001b[0m\u001b[0m\n",
      "\u001b[1;32m~\\AppData\\Local\\Programs\\Python\\Python39\\lib\\site-packages\\pandas\\io\\parsers\\readers.py\u001b[0m in \u001b[0;36mread_csv\u001b[1;34m(filepath_or_buffer, sep, delimiter, header, names, index_col, usecols, squeeze, prefix, mangle_dupe_cols, dtype, engine, converters, true_values, false_values, skipinitialspace, skiprows, skipfooter, nrows, na_values, keep_default_na, na_filter, verbose, skip_blank_lines, parse_dates, infer_datetime_format, keep_date_col, date_parser, dayfirst, cache_dates, iterator, chunksize, compression, thousands, decimal, lineterminator, quotechar, quoting, doublequote, escapechar, comment, encoding, encoding_errors, dialect, error_bad_lines, warn_bad_lines, on_bad_lines, delim_whitespace, low_memory, memory_map, float_precision, storage_options)\u001b[0m\n\u001b[0;32m    584\u001b[0m     \u001b[0mkwds\u001b[0m\u001b[1;33m.\u001b[0m\u001b[0mupdate\u001b[0m\u001b[1;33m(\u001b[0m\u001b[0mkwds_defaults\u001b[0m\u001b[1;33m)\u001b[0m\u001b[1;33m\u001b[0m\u001b[1;33m\u001b[0m\u001b[0m\n\u001b[0;32m    585\u001b[0m \u001b[1;33m\u001b[0m\u001b[0m\n\u001b[1;32m--> 586\u001b[1;33m     \u001b[1;32mreturn\u001b[0m \u001b[0m_read\u001b[0m\u001b[1;33m(\u001b[0m\u001b[0mfilepath_or_buffer\u001b[0m\u001b[1;33m,\u001b[0m \u001b[0mkwds\u001b[0m\u001b[1;33m)\u001b[0m\u001b[1;33m\u001b[0m\u001b[1;33m\u001b[0m\u001b[0m\n\u001b[0m\u001b[0;32m    587\u001b[0m \u001b[1;33m\u001b[0m\u001b[0m\n\u001b[0;32m    588\u001b[0m \u001b[1;33m\u001b[0m\u001b[0m\n",
      "\u001b[1;32m~\\AppData\\Local\\Programs\\Python\\Python39\\lib\\site-packages\\pandas\\io\\parsers\\readers.py\u001b[0m in \u001b[0;36m_read\u001b[1;34m(filepath_or_buffer, kwds)\u001b[0m\n\u001b[0;32m    480\u001b[0m \u001b[1;33m\u001b[0m\u001b[0m\n\u001b[0;32m    481\u001b[0m     \u001b[1;31m# Create the parser.\u001b[0m\u001b[1;33m\u001b[0m\u001b[1;33m\u001b[0m\u001b[0m\n\u001b[1;32m--> 482\u001b[1;33m     \u001b[0mparser\u001b[0m \u001b[1;33m=\u001b[0m \u001b[0mTextFileReader\u001b[0m\u001b[1;33m(\u001b[0m\u001b[0mfilepath_or_buffer\u001b[0m\u001b[1;33m,\u001b[0m \u001b[1;33m**\u001b[0m\u001b[0mkwds\u001b[0m\u001b[1;33m)\u001b[0m\u001b[1;33m\u001b[0m\u001b[1;33m\u001b[0m\u001b[0m\n\u001b[0m\u001b[0;32m    483\u001b[0m \u001b[1;33m\u001b[0m\u001b[0m\n\u001b[0;32m    484\u001b[0m     \u001b[1;32mif\u001b[0m \u001b[0mchunksize\u001b[0m \u001b[1;32mor\u001b[0m \u001b[0miterator\u001b[0m\u001b[1;33m:\u001b[0m\u001b[1;33m\u001b[0m\u001b[1;33m\u001b[0m\u001b[0m\n",
      "\u001b[1;32m~\\AppData\\Local\\Programs\\Python\\Python39\\lib\\site-packages\\pandas\\io\\parsers\\readers.py\u001b[0m in \u001b[0;36m__init__\u001b[1;34m(self, f, engine, **kwds)\u001b[0m\n\u001b[0;32m    809\u001b[0m             \u001b[0mself\u001b[0m\u001b[1;33m.\u001b[0m\u001b[0moptions\u001b[0m\u001b[1;33m[\u001b[0m\u001b[1;34m\"has_index_names\"\u001b[0m\u001b[1;33m]\u001b[0m \u001b[1;33m=\u001b[0m \u001b[0mkwds\u001b[0m\u001b[1;33m[\u001b[0m\u001b[1;34m\"has_index_names\"\u001b[0m\u001b[1;33m]\u001b[0m\u001b[1;33m\u001b[0m\u001b[1;33m\u001b[0m\u001b[0m\n\u001b[0;32m    810\u001b[0m \u001b[1;33m\u001b[0m\u001b[0m\n\u001b[1;32m--> 811\u001b[1;33m         \u001b[0mself\u001b[0m\u001b[1;33m.\u001b[0m\u001b[0m_engine\u001b[0m \u001b[1;33m=\u001b[0m \u001b[0mself\u001b[0m\u001b[1;33m.\u001b[0m\u001b[0m_make_engine\u001b[0m\u001b[1;33m(\u001b[0m\u001b[0mself\u001b[0m\u001b[1;33m.\u001b[0m\u001b[0mengine\u001b[0m\u001b[1;33m)\u001b[0m\u001b[1;33m\u001b[0m\u001b[1;33m\u001b[0m\u001b[0m\n\u001b[0m\u001b[0;32m    812\u001b[0m \u001b[1;33m\u001b[0m\u001b[0m\n\u001b[0;32m    813\u001b[0m     \u001b[1;32mdef\u001b[0m \u001b[0mclose\u001b[0m\u001b[1;33m(\u001b[0m\u001b[0mself\u001b[0m\u001b[1;33m)\u001b[0m\u001b[1;33m:\u001b[0m\u001b[1;33m\u001b[0m\u001b[1;33m\u001b[0m\u001b[0m\n",
      "\u001b[1;32m~\\AppData\\Local\\Programs\\Python\\Python39\\lib\\site-packages\\pandas\\io\\parsers\\readers.py\u001b[0m in \u001b[0;36m_make_engine\u001b[1;34m(self, engine)\u001b[0m\n\u001b[0;32m   1038\u001b[0m             )\n\u001b[0;32m   1039\u001b[0m         \u001b[1;31m# error: Too many arguments for \"ParserBase\"\u001b[0m\u001b[1;33m\u001b[0m\u001b[1;33m\u001b[0m\u001b[0m\n\u001b[1;32m-> 1040\u001b[1;33m         \u001b[1;32mreturn\u001b[0m \u001b[0mmapping\u001b[0m\u001b[1;33m[\u001b[0m\u001b[0mengine\u001b[0m\u001b[1;33m]\u001b[0m\u001b[1;33m(\u001b[0m\u001b[0mself\u001b[0m\u001b[1;33m.\u001b[0m\u001b[0mf\u001b[0m\u001b[1;33m,\u001b[0m \u001b[1;33m**\u001b[0m\u001b[0mself\u001b[0m\u001b[1;33m.\u001b[0m\u001b[0moptions\u001b[0m\u001b[1;33m)\u001b[0m  \u001b[1;31m# type: ignore[call-arg]\u001b[0m\u001b[1;33m\u001b[0m\u001b[1;33m\u001b[0m\u001b[0m\n\u001b[0m\u001b[0;32m   1041\u001b[0m \u001b[1;33m\u001b[0m\u001b[0m\n\u001b[0;32m   1042\u001b[0m     \u001b[1;32mdef\u001b[0m \u001b[0m_failover_to_python\u001b[0m\u001b[1;33m(\u001b[0m\u001b[0mself\u001b[0m\u001b[1;33m)\u001b[0m\u001b[1;33m:\u001b[0m\u001b[1;33m\u001b[0m\u001b[1;33m\u001b[0m\u001b[0m\n",
      "\u001b[1;32m~\\AppData\\Local\\Programs\\Python\\Python39\\lib\\site-packages\\pandas\\io\\parsers\\c_parser_wrapper.py\u001b[0m in \u001b[0;36m__init__\u001b[1;34m(self, src, **kwds)\u001b[0m\n\u001b[0;32m     49\u001b[0m \u001b[1;33m\u001b[0m\u001b[0m\n\u001b[0;32m     50\u001b[0m         \u001b[1;31m# open handles\u001b[0m\u001b[1;33m\u001b[0m\u001b[1;33m\u001b[0m\u001b[0m\n\u001b[1;32m---> 51\u001b[1;33m         \u001b[0mself\u001b[0m\u001b[1;33m.\u001b[0m\u001b[0m_open_handles\u001b[0m\u001b[1;33m(\u001b[0m\u001b[0msrc\u001b[0m\u001b[1;33m,\u001b[0m \u001b[0mkwds\u001b[0m\u001b[1;33m)\u001b[0m\u001b[1;33m\u001b[0m\u001b[1;33m\u001b[0m\u001b[0m\n\u001b[0m\u001b[0;32m     52\u001b[0m         \u001b[1;32massert\u001b[0m \u001b[0mself\u001b[0m\u001b[1;33m.\u001b[0m\u001b[0mhandles\u001b[0m \u001b[1;32mis\u001b[0m \u001b[1;32mnot\u001b[0m \u001b[1;32mNone\u001b[0m\u001b[1;33m\u001b[0m\u001b[1;33m\u001b[0m\u001b[0m\n\u001b[0;32m     53\u001b[0m \u001b[1;33m\u001b[0m\u001b[0m\n",
      "\u001b[1;32m~\\AppData\\Local\\Programs\\Python\\Python39\\lib\\site-packages\\pandas\\io\\parsers\\base_parser.py\u001b[0m in \u001b[0;36m_open_handles\u001b[1;34m(self, src, kwds)\u001b[0m\n\u001b[0;32m    220\u001b[0m         \u001b[0mLet\u001b[0m \u001b[0mthe\u001b[0m \u001b[0mreaders\u001b[0m \u001b[0mopen\u001b[0m \u001b[0mIOHandles\u001b[0m \u001b[0mafter\u001b[0m \u001b[0mthey\u001b[0m \u001b[0mare\u001b[0m \u001b[0mdone\u001b[0m \u001b[1;32mwith\u001b[0m \u001b[0mtheir\u001b[0m \u001b[0mpotential\u001b[0m \u001b[0mraises\u001b[0m\u001b[1;33m.\u001b[0m\u001b[1;33m\u001b[0m\u001b[1;33m\u001b[0m\u001b[0m\n\u001b[0;32m    221\u001b[0m         \"\"\"\n\u001b[1;32m--> 222\u001b[1;33m         self.handles = get_handle(\n\u001b[0m\u001b[0;32m    223\u001b[0m             \u001b[0msrc\u001b[0m\u001b[1;33m,\u001b[0m\u001b[1;33m\u001b[0m\u001b[1;33m\u001b[0m\u001b[0m\n\u001b[0;32m    224\u001b[0m             \u001b[1;34m\"r\"\u001b[0m\u001b[1;33m,\u001b[0m\u001b[1;33m\u001b[0m\u001b[1;33m\u001b[0m\u001b[0m\n",
      "\u001b[1;32m~\\AppData\\Local\\Programs\\Python\\Python39\\lib\\site-packages\\pandas\\io\\common.py\u001b[0m in \u001b[0;36mget_handle\u001b[1;34m(path_or_buf, mode, encoding, compression, memory_map, is_text, errors, storage_options)\u001b[0m\n\u001b[0;32m    700\u001b[0m         \u001b[1;32mif\u001b[0m \u001b[0mioargs\u001b[0m\u001b[1;33m.\u001b[0m\u001b[0mencoding\u001b[0m \u001b[1;32mand\u001b[0m \u001b[1;34m\"b\"\u001b[0m \u001b[1;32mnot\u001b[0m \u001b[1;32min\u001b[0m \u001b[0mioargs\u001b[0m\u001b[1;33m.\u001b[0m\u001b[0mmode\u001b[0m\u001b[1;33m:\u001b[0m\u001b[1;33m\u001b[0m\u001b[1;33m\u001b[0m\u001b[0m\n\u001b[0;32m    701\u001b[0m             \u001b[1;31m# Encoding\u001b[0m\u001b[1;33m\u001b[0m\u001b[1;33m\u001b[0m\u001b[0m\n\u001b[1;32m--> 702\u001b[1;33m             handle = open(\n\u001b[0m\u001b[0;32m    703\u001b[0m                 \u001b[0mhandle\u001b[0m\u001b[1;33m,\u001b[0m\u001b[1;33m\u001b[0m\u001b[1;33m\u001b[0m\u001b[0m\n\u001b[0;32m    704\u001b[0m                 \u001b[0mioargs\u001b[0m\u001b[1;33m.\u001b[0m\u001b[0mmode\u001b[0m\u001b[1;33m,\u001b[0m\u001b[1;33m\u001b[0m\u001b[1;33m\u001b[0m\u001b[0m\n",
      "\u001b[1;31mFileNotFoundError\u001b[0m: [Errno 2] No such file or directory: './datasets/house_sales.csv'"
     ]
    }
   ],
   "source": [
    "house_sales = pd.read_csv('./datasets/house_sales.csv')"
   ]
  },
  {
   "cell_type": "code",
   "execution_count": 100,
   "metadata": {
    "scrolled": true
   },
   "outputs": [
    {
     "ename": "FileNotFoundError",
     "evalue": "[Errno 2] No such file or directory: './datasets/wine_quality.csv'",
     "output_type": "error",
     "traceback": [
      "\u001b[1;31m---------------------------------------------------------------------------\u001b[0m",
      "\u001b[1;31mFileNotFoundError\u001b[0m                         Traceback (most recent call last)",
      "\u001b[1;32m~\\AppData\\Local\\Temp/ipykernel_12576/1489288203.py\u001b[0m in \u001b[0;36m<module>\u001b[1;34m\u001b[0m\n\u001b[1;32m----> 1\u001b[1;33m \u001b[0mwine_quality\u001b[0m \u001b[1;33m=\u001b[0m \u001b[0mpd\u001b[0m\u001b[1;33m.\u001b[0m\u001b[0mread_csv\u001b[0m\u001b[1;33m(\u001b[0m\u001b[1;34m'./datasets/wine_quality.csv'\u001b[0m\u001b[1;33m)\u001b[0m\u001b[1;33m\u001b[0m\u001b[1;33m\u001b[0m\u001b[0m\n\u001b[0m",
      "\u001b[1;32m~\\AppData\\Local\\Programs\\Python\\Python39\\lib\\site-packages\\pandas\\util\\_decorators.py\u001b[0m in \u001b[0;36mwrapper\u001b[1;34m(*args, **kwargs)\u001b[0m\n\u001b[0;32m    309\u001b[0m                     \u001b[0mstacklevel\u001b[0m\u001b[1;33m=\u001b[0m\u001b[0mstacklevel\u001b[0m\u001b[1;33m,\u001b[0m\u001b[1;33m\u001b[0m\u001b[1;33m\u001b[0m\u001b[0m\n\u001b[0;32m    310\u001b[0m                 )\n\u001b[1;32m--> 311\u001b[1;33m             \u001b[1;32mreturn\u001b[0m \u001b[0mfunc\u001b[0m\u001b[1;33m(\u001b[0m\u001b[1;33m*\u001b[0m\u001b[0margs\u001b[0m\u001b[1;33m,\u001b[0m \u001b[1;33m**\u001b[0m\u001b[0mkwargs\u001b[0m\u001b[1;33m)\u001b[0m\u001b[1;33m\u001b[0m\u001b[1;33m\u001b[0m\u001b[0m\n\u001b[0m\u001b[0;32m    312\u001b[0m \u001b[1;33m\u001b[0m\u001b[0m\n\u001b[0;32m    313\u001b[0m         \u001b[1;32mreturn\u001b[0m \u001b[0mwrapper\u001b[0m\u001b[1;33m\u001b[0m\u001b[1;33m\u001b[0m\u001b[0m\n",
      "\u001b[1;32m~\\AppData\\Local\\Programs\\Python\\Python39\\lib\\site-packages\\pandas\\io\\parsers\\readers.py\u001b[0m in \u001b[0;36mread_csv\u001b[1;34m(filepath_or_buffer, sep, delimiter, header, names, index_col, usecols, squeeze, prefix, mangle_dupe_cols, dtype, engine, converters, true_values, false_values, skipinitialspace, skiprows, skipfooter, nrows, na_values, keep_default_na, na_filter, verbose, skip_blank_lines, parse_dates, infer_datetime_format, keep_date_col, date_parser, dayfirst, cache_dates, iterator, chunksize, compression, thousands, decimal, lineterminator, quotechar, quoting, doublequote, escapechar, comment, encoding, encoding_errors, dialect, error_bad_lines, warn_bad_lines, on_bad_lines, delim_whitespace, low_memory, memory_map, float_precision, storage_options)\u001b[0m\n\u001b[0;32m    584\u001b[0m     \u001b[0mkwds\u001b[0m\u001b[1;33m.\u001b[0m\u001b[0mupdate\u001b[0m\u001b[1;33m(\u001b[0m\u001b[0mkwds_defaults\u001b[0m\u001b[1;33m)\u001b[0m\u001b[1;33m\u001b[0m\u001b[1;33m\u001b[0m\u001b[0m\n\u001b[0;32m    585\u001b[0m \u001b[1;33m\u001b[0m\u001b[0m\n\u001b[1;32m--> 586\u001b[1;33m     \u001b[1;32mreturn\u001b[0m \u001b[0m_read\u001b[0m\u001b[1;33m(\u001b[0m\u001b[0mfilepath_or_buffer\u001b[0m\u001b[1;33m,\u001b[0m \u001b[0mkwds\u001b[0m\u001b[1;33m)\u001b[0m\u001b[1;33m\u001b[0m\u001b[1;33m\u001b[0m\u001b[0m\n\u001b[0m\u001b[0;32m    587\u001b[0m \u001b[1;33m\u001b[0m\u001b[0m\n\u001b[0;32m    588\u001b[0m \u001b[1;33m\u001b[0m\u001b[0m\n",
      "\u001b[1;32m~\\AppData\\Local\\Programs\\Python\\Python39\\lib\\site-packages\\pandas\\io\\parsers\\readers.py\u001b[0m in \u001b[0;36m_read\u001b[1;34m(filepath_or_buffer, kwds)\u001b[0m\n\u001b[0;32m    480\u001b[0m \u001b[1;33m\u001b[0m\u001b[0m\n\u001b[0;32m    481\u001b[0m     \u001b[1;31m# Create the parser.\u001b[0m\u001b[1;33m\u001b[0m\u001b[1;33m\u001b[0m\u001b[0m\n\u001b[1;32m--> 482\u001b[1;33m     \u001b[0mparser\u001b[0m \u001b[1;33m=\u001b[0m \u001b[0mTextFileReader\u001b[0m\u001b[1;33m(\u001b[0m\u001b[0mfilepath_or_buffer\u001b[0m\u001b[1;33m,\u001b[0m \u001b[1;33m**\u001b[0m\u001b[0mkwds\u001b[0m\u001b[1;33m)\u001b[0m\u001b[1;33m\u001b[0m\u001b[1;33m\u001b[0m\u001b[0m\n\u001b[0m\u001b[0;32m    483\u001b[0m \u001b[1;33m\u001b[0m\u001b[0m\n\u001b[0;32m    484\u001b[0m     \u001b[1;32mif\u001b[0m \u001b[0mchunksize\u001b[0m \u001b[1;32mor\u001b[0m \u001b[0miterator\u001b[0m\u001b[1;33m:\u001b[0m\u001b[1;33m\u001b[0m\u001b[1;33m\u001b[0m\u001b[0m\n",
      "\u001b[1;32m~\\AppData\\Local\\Programs\\Python\\Python39\\lib\\site-packages\\pandas\\io\\parsers\\readers.py\u001b[0m in \u001b[0;36m__init__\u001b[1;34m(self, f, engine, **kwds)\u001b[0m\n\u001b[0;32m    809\u001b[0m             \u001b[0mself\u001b[0m\u001b[1;33m.\u001b[0m\u001b[0moptions\u001b[0m\u001b[1;33m[\u001b[0m\u001b[1;34m\"has_index_names\"\u001b[0m\u001b[1;33m]\u001b[0m \u001b[1;33m=\u001b[0m \u001b[0mkwds\u001b[0m\u001b[1;33m[\u001b[0m\u001b[1;34m\"has_index_names\"\u001b[0m\u001b[1;33m]\u001b[0m\u001b[1;33m\u001b[0m\u001b[1;33m\u001b[0m\u001b[0m\n\u001b[0;32m    810\u001b[0m \u001b[1;33m\u001b[0m\u001b[0m\n\u001b[1;32m--> 811\u001b[1;33m         \u001b[0mself\u001b[0m\u001b[1;33m.\u001b[0m\u001b[0m_engine\u001b[0m \u001b[1;33m=\u001b[0m \u001b[0mself\u001b[0m\u001b[1;33m.\u001b[0m\u001b[0m_make_engine\u001b[0m\u001b[1;33m(\u001b[0m\u001b[0mself\u001b[0m\u001b[1;33m.\u001b[0m\u001b[0mengine\u001b[0m\u001b[1;33m)\u001b[0m\u001b[1;33m\u001b[0m\u001b[1;33m\u001b[0m\u001b[0m\n\u001b[0m\u001b[0;32m    812\u001b[0m \u001b[1;33m\u001b[0m\u001b[0m\n\u001b[0;32m    813\u001b[0m     \u001b[1;32mdef\u001b[0m \u001b[0mclose\u001b[0m\u001b[1;33m(\u001b[0m\u001b[0mself\u001b[0m\u001b[1;33m)\u001b[0m\u001b[1;33m:\u001b[0m\u001b[1;33m\u001b[0m\u001b[1;33m\u001b[0m\u001b[0m\n",
      "\u001b[1;32m~\\AppData\\Local\\Programs\\Python\\Python39\\lib\\site-packages\\pandas\\io\\parsers\\readers.py\u001b[0m in \u001b[0;36m_make_engine\u001b[1;34m(self, engine)\u001b[0m\n\u001b[0;32m   1038\u001b[0m             )\n\u001b[0;32m   1039\u001b[0m         \u001b[1;31m# error: Too many arguments for \"ParserBase\"\u001b[0m\u001b[1;33m\u001b[0m\u001b[1;33m\u001b[0m\u001b[0m\n\u001b[1;32m-> 1040\u001b[1;33m         \u001b[1;32mreturn\u001b[0m \u001b[0mmapping\u001b[0m\u001b[1;33m[\u001b[0m\u001b[0mengine\u001b[0m\u001b[1;33m]\u001b[0m\u001b[1;33m(\u001b[0m\u001b[0mself\u001b[0m\u001b[1;33m.\u001b[0m\u001b[0mf\u001b[0m\u001b[1;33m,\u001b[0m \u001b[1;33m**\u001b[0m\u001b[0mself\u001b[0m\u001b[1;33m.\u001b[0m\u001b[0moptions\u001b[0m\u001b[1;33m)\u001b[0m  \u001b[1;31m# type: ignore[call-arg]\u001b[0m\u001b[1;33m\u001b[0m\u001b[1;33m\u001b[0m\u001b[0m\n\u001b[0m\u001b[0;32m   1041\u001b[0m \u001b[1;33m\u001b[0m\u001b[0m\n\u001b[0;32m   1042\u001b[0m     \u001b[1;32mdef\u001b[0m \u001b[0m_failover_to_python\u001b[0m\u001b[1;33m(\u001b[0m\u001b[0mself\u001b[0m\u001b[1;33m)\u001b[0m\u001b[1;33m:\u001b[0m\u001b[1;33m\u001b[0m\u001b[1;33m\u001b[0m\u001b[0m\n",
      "\u001b[1;32m~\\AppData\\Local\\Programs\\Python\\Python39\\lib\\site-packages\\pandas\\io\\parsers\\c_parser_wrapper.py\u001b[0m in \u001b[0;36m__init__\u001b[1;34m(self, src, **kwds)\u001b[0m\n\u001b[0;32m     49\u001b[0m \u001b[1;33m\u001b[0m\u001b[0m\n\u001b[0;32m     50\u001b[0m         \u001b[1;31m# open handles\u001b[0m\u001b[1;33m\u001b[0m\u001b[1;33m\u001b[0m\u001b[0m\n\u001b[1;32m---> 51\u001b[1;33m         \u001b[0mself\u001b[0m\u001b[1;33m.\u001b[0m\u001b[0m_open_handles\u001b[0m\u001b[1;33m(\u001b[0m\u001b[0msrc\u001b[0m\u001b[1;33m,\u001b[0m \u001b[0mkwds\u001b[0m\u001b[1;33m)\u001b[0m\u001b[1;33m\u001b[0m\u001b[1;33m\u001b[0m\u001b[0m\n\u001b[0m\u001b[0;32m     52\u001b[0m         \u001b[1;32massert\u001b[0m \u001b[0mself\u001b[0m\u001b[1;33m.\u001b[0m\u001b[0mhandles\u001b[0m \u001b[1;32mis\u001b[0m \u001b[1;32mnot\u001b[0m \u001b[1;32mNone\u001b[0m\u001b[1;33m\u001b[0m\u001b[1;33m\u001b[0m\u001b[0m\n\u001b[0;32m     53\u001b[0m \u001b[1;33m\u001b[0m\u001b[0m\n",
      "\u001b[1;32m~\\AppData\\Local\\Programs\\Python\\Python39\\lib\\site-packages\\pandas\\io\\parsers\\base_parser.py\u001b[0m in \u001b[0;36m_open_handles\u001b[1;34m(self, src, kwds)\u001b[0m\n\u001b[0;32m    220\u001b[0m         \u001b[0mLet\u001b[0m \u001b[0mthe\u001b[0m \u001b[0mreaders\u001b[0m \u001b[0mopen\u001b[0m \u001b[0mIOHandles\u001b[0m \u001b[0mafter\u001b[0m \u001b[0mthey\u001b[0m \u001b[0mare\u001b[0m \u001b[0mdone\u001b[0m \u001b[1;32mwith\u001b[0m \u001b[0mtheir\u001b[0m \u001b[0mpotential\u001b[0m \u001b[0mraises\u001b[0m\u001b[1;33m.\u001b[0m\u001b[1;33m\u001b[0m\u001b[1;33m\u001b[0m\u001b[0m\n\u001b[0;32m    221\u001b[0m         \"\"\"\n\u001b[1;32m--> 222\u001b[1;33m         self.handles = get_handle(\n\u001b[0m\u001b[0;32m    223\u001b[0m             \u001b[0msrc\u001b[0m\u001b[1;33m,\u001b[0m\u001b[1;33m\u001b[0m\u001b[1;33m\u001b[0m\u001b[0m\n\u001b[0;32m    224\u001b[0m             \u001b[1;34m\"r\"\u001b[0m\u001b[1;33m,\u001b[0m\u001b[1;33m\u001b[0m\u001b[1;33m\u001b[0m\u001b[0m\n",
      "\u001b[1;32m~\\AppData\\Local\\Programs\\Python\\Python39\\lib\\site-packages\\pandas\\io\\common.py\u001b[0m in \u001b[0;36mget_handle\u001b[1;34m(path_or_buf, mode, encoding, compression, memory_map, is_text, errors, storage_options)\u001b[0m\n\u001b[0;32m    700\u001b[0m         \u001b[1;32mif\u001b[0m \u001b[0mioargs\u001b[0m\u001b[1;33m.\u001b[0m\u001b[0mencoding\u001b[0m \u001b[1;32mand\u001b[0m \u001b[1;34m\"b\"\u001b[0m \u001b[1;32mnot\u001b[0m \u001b[1;32min\u001b[0m \u001b[0mioargs\u001b[0m\u001b[1;33m.\u001b[0m\u001b[0mmode\u001b[0m\u001b[1;33m:\u001b[0m\u001b[1;33m\u001b[0m\u001b[1;33m\u001b[0m\u001b[0m\n\u001b[0;32m    701\u001b[0m             \u001b[1;31m# Encoding\u001b[0m\u001b[1;33m\u001b[0m\u001b[1;33m\u001b[0m\u001b[0m\n\u001b[1;32m--> 702\u001b[1;33m             handle = open(\n\u001b[0m\u001b[0;32m    703\u001b[0m                 \u001b[0mhandle\u001b[0m\u001b[1;33m,\u001b[0m\u001b[1;33m\u001b[0m\u001b[1;33m\u001b[0m\u001b[0m\n\u001b[0;32m    704\u001b[0m                 \u001b[0mioargs\u001b[0m\u001b[1;33m.\u001b[0m\u001b[0mmode\u001b[0m\u001b[1;33m,\u001b[0m\u001b[1;33m\u001b[0m\u001b[1;33m\u001b[0m\u001b[0m\n",
      "\u001b[1;31mFileNotFoundError\u001b[0m: [Errno 2] No such file or directory: './datasets/wine_quality.csv'"
     ]
    }
   ],
   "source": [
    "wine_quality = pd.read_csv('./datasets/wine_quality.csv')"
   ]
  },
  {
   "cell_type": "markdown",
   "metadata": {},
   "source": [
    "### 4.3 Breve exploración"
   ]
  },
  {
   "cell_type": "markdown",
   "metadata": {},
   "source": [
    "Mediante el método ``head`` podemos observar una muestra de datos de cada dataset:"
   ]
  },
  {
   "cell_type": "code",
   "execution_count": null,
   "metadata": {},
   "outputs": [],
   "source": [
    "electric_motor_temperature"
   ]
  },
  {
   "cell_type": "code",
   "execution_count": null,
   "metadata": {},
   "outputs": [],
   "source": [
    "wine_quality.head()"
   ]
  },
  {
   "cell_type": "code",
   "execution_count": null,
   "metadata": {},
   "outputs": [],
   "source": [
    "house_sales.head()"
   ]
  },
  {
   "cell_type": "markdown",
   "metadata": {},
   "source": [
    "En ningún dataset hay presencia de valores NaN:"
   ]
  },
  {
   "cell_type": "code",
   "execution_count": null,
   "metadata": {},
   "outputs": [],
   "source": [
    "print(wine_quality.isnull().values.any(),house_sales.isnull().values.any(),house_sales.isnull().values.any())"
   ]
  },
  {
   "cell_type": "markdown",
   "metadata": {},
   "source": [
    "### 4.2 Generación de muestra"
   ]
  },
  {
   "cell_type": "markdown",
   "metadata": {},
   "source": [
    "A continuación se define el conjunto de features y target a utilizar para cada uno de los datasets:"
   ]
  },
  {
   "cell_type": "code",
   "execution_count": 101,
   "metadata": {},
   "outputs": [],
   "source": [
    "data = {\n",
    "            'electric_motor_temperature': (['u_q', 'coolant', 'stator_winding', 'u_d', 'stator_tooth',\n",
    "                                           'motor_speed', 'i_d', 'i_q', 'stator_yoke', 'ambient', 'torque',\n",
    "                                           'profile_id'],'pm'),\n",
    "            'house_sales': (['bedrooms', 'bathrooms', 'sqft_living','sqft_lot','floors',\n",
    "                            'waterfront', 'view', 'condition', 'grade','sqft_above', 'sqft_basement',\n",
    "                            'yr_built', 'yr_renovated', 'zipcode','lat', 'long', 'sqft_living15', 'sqft_lot15'],'price'),\n",
    "            'wine_quality': (['fixed acidity', 'volatile acidity', 'citric acid', 'residual sugar',\n",
    "                              'chlorides', 'free sulfur dioxide', 'total sulfur dioxide', 'density',\n",
    "                              'pH', 'sulphates', 'alcohol'],'quality')\n",
    "           }"
   ]
  },
  {
   "cell_type": "code",
   "execution_count": 102,
   "metadata": {
    "scrolled": true
   },
   "outputs": [
    {
     "data": {
      "text/plain": [
       "array([9, 5, 1, 1, 9, 4, 3, 2, 9, 7])"
      ]
     },
     "execution_count": 102,
     "metadata": {},
     "output_type": "execute_result"
    }
   ],
   "source": [
    "np.random.seed(21)\n",
    "np.random.randint(low=1, high=10,size=10)"
   ]
  },
  {
   "cell_type": "markdown",
   "metadata": {},
   "source": [
    "La función ``add_noise`` es la encargada de aplicar un ruido gaussiano a las columnas ``features`` del dataframe ``dataset``:"
   ]
  },
  {
   "cell_type": "code",
   "execution_count": 103,
   "metadata": {},
   "outputs": [],
   "source": [
    "def add_noise(dataset,features,sigmas):\n",
    "    for i,feature in enumerate(features):\n",
    "        dataset[feature] = dataset[feature].apply(lambda x: x + sigmas[i]*np.random.randn())    \n",
    "    return dataset"
   ]
  },
  {
   "cell_type": "markdown",
   "metadata": {},
   "source": [
    "La función ``generate_sample`` es la encargada de generar los datos de errores indicados en el paso 5 de nuestra metodología:"
   ]
  },
  {
   "cell_type": "code",
   "execution_count": 104,
   "metadata": {},
   "outputs": [],
   "source": [
    "def generate_sample(datasets,data,n=5,constant=True):\n",
    "    errors = dict()\n",
    "    for name,dataset in datasets.items():\n",
    "        errors[name] = []\n",
    "        np.random.seed(21)\n",
    "        if(constant):\n",
    "            sigmas = np.ones(len(data[name][0]))\n",
    "        else:\n",
    "            sigmas = np.random.randint(low=1, high=10,size=len(data[name][0]))\n",
    "        for i in range(n):\n",
    "            # Step 1\n",
    "            X_train, X_val, y_train, y_val = train_test_split(dataset[data[name][0]],\n",
    "                                                              dataset[data[name][1]],\n",
    "                                                              test_size=0.3,\n",
    "                                                              random_state=i)\n",
    "            # Step 2\n",
    "            X_train_noisy = add_noise(X_train.copy(),data[name][0],sigmas)\n",
    "            # Step 3\n",
    "            noisy_model = LinearRegression()\n",
    "            noisy_model = noisy_model.fit(X_train_noisy,y_train)\n",
    "            # Step 4\n",
    "            l2_model = Ridge(alpha=1)\n",
    "            l2_model = l2_model.fit(X_train,y_train)\n",
    "            # Step 5\n",
    "            noisy_predict = noisy_model.predict(X_val)\n",
    "            l2_predict = l2_model.predict(X_val)\n",
    "            noisy_error = mean_absolute_percentage_error(y_val,noisy_predict)\n",
    "            l2_error = mean_absolute_percentage_error(y_val,l2_predict)\n",
    "            # Step 6\n",
    "            errors[name].append((noisy_error, l2_error))\n",
    "        \n",
    "    return errors"
   ]
  },
  {
   "cell_type": "code",
   "execution_count": 105,
   "metadata": {
    "scrolled": true
   },
   "outputs": [
    {
     "ename": "NameError",
     "evalue": "name 'electric_motor_temperature' is not defined",
     "output_type": "error",
     "traceback": [
      "\u001b[1;31m---------------------------------------------------------------------------\u001b[0m",
      "\u001b[1;31mNameError\u001b[0m                                 Traceback (most recent call last)",
      "\u001b[1;32m~\\AppData\\Local\\Temp/ipykernel_12576/490196142.py\u001b[0m in \u001b[0;36m<module>\u001b[1;34m\u001b[0m\n\u001b[1;32m----> 1\u001b[1;33m datasets = {'electric_motor_temperature':electric_motor_temperature,\n\u001b[0m\u001b[0;32m      2\u001b[0m             \u001b[1;34m'wine_quality'\u001b[0m\u001b[1;33m:\u001b[0m \u001b[0mwine_quality\u001b[0m\u001b[1;33m,\u001b[0m\u001b[1;33m\u001b[0m\u001b[1;33m\u001b[0m\u001b[0m\n\u001b[0;32m      3\u001b[0m             'house_sales':house_sales}\n",
      "\u001b[1;31mNameError\u001b[0m: name 'electric_motor_temperature' is not defined"
     ]
    }
   ],
   "source": [
    "datasets = {'electric_motor_temperature':electric_motor_temperature,\n",
    "            'wine_quality': wine_quality,\n",
    "            'house_sales':house_sales}"
   ]
  },
  {
   "cell_type": "markdown",
   "metadata": {},
   "source": [
    "Primero realizaremos el experimento aplicando el mismo ruido a cada uno de los atributos:"
   ]
  },
  {
   "cell_type": "code",
   "execution_count": null,
   "metadata": {},
   "outputs": [],
   "source": [
    "errors_1 = generate_sample(datasets,data,n=5,constant=True)"
   ]
  },
  {
   "cell_type": "markdown",
   "metadata": {},
   "source": [
    "Luego, realizaremos el experimento aplicando un ruido con distinta desviación estandar a cada feature:"
   ]
  },
  {
   "cell_type": "code",
   "execution_count": null,
   "metadata": {},
   "outputs": [],
   "source": [
    "errors_2 = generate_sample(datasets,data,n=5,constant=False)"
   ]
  },
  {
   "cell_type": "markdown",
   "metadata": {},
   "source": [
    "Finalmente, obtenemos el error promedio por dataset para cada uno de los modelos:"
   ]
  },
  {
   "cell_type": "code",
   "execution_count": 107,
   "metadata": {},
   "outputs": [],
   "source": [
    "def get_mean_error_per_dataset(errors,datasets):\n",
    "    mean_errors = list()\n",
    "    for dataset in datasets.keys():\n",
    "        mean_errors.append([np.mean([error for error in errors[dataset][0]]),\n",
    "                            np.mean([error for error in errors[dataset][1]])])\n",
    "    return mean_errors"
   ]
  },
  {
   "cell_type": "code",
   "execution_count": null,
   "metadata": {},
   "outputs": [],
   "source": [
    "mean_errors_1 = get_mean_error_per_dataset(errors_1,datasets)\n",
    "mean_errors_2 = get_mean_error_per_dataset(errors_2,datasets)"
   ]
  },
  {
   "cell_type": "code",
   "execution_count": null,
   "metadata": {},
   "outputs": [],
   "source": [
    "mean_errors_1"
   ]
  },
  {
   "cell_type": "code",
   "execution_count": null,
   "metadata": {},
   "outputs": [],
   "source": [
    "mean_errors_2"
   ]
  },
  {
   "cell_type": "markdown",
   "metadata": {},
   "source": [
    "### 4.3 Conclusiones"
   ]
  },
  {
   "cell_type": "markdown",
   "metadata": {},
   "source": [
    "1. Solo para el primer dataset, en promedio el modelo entrenado con $L_2$ se desempeña mejor que el modelo con features ruidosos"
   ]
  },
  {
   "cell_type": "code",
   "execution_count": null,
   "metadata": {},
   "outputs": [],
   "source": [
    "print([error[0] > error[1] for error in mean_errors_1])"
   ]
  },
  {
   "cell_type": "code",
   "execution_count": null,
   "metadata": {},
   "outputs": [],
   "source": [
    "print([error[0] > error[1] for error in mean_errors_2])"
   ]
  },
  {
   "cell_type": "markdown",
   "metadata": {},
   "source": [
    "2. El ruido blanco presenta un mejor desempeño el promedio, por lo que para los datasets seleccionados la hipótesis se acepta.\n",
    "3. No se observan diferencias al aplicar un ruido blanco con una desviación estándar constante o bien con una desviación estándar distinta por feature."
   ]
  },
  {
   "cell_type": "markdown",
   "metadata": {
    "id": "Mro0DvciPO8t"
   },
   "source": [
    "# Parte 2. Desafío Kaggle \n",
    "\n",
    "Una de las paradojas más bizarras e interesantes de esta pandemia ha sido la masificación del concepto nómade digital: una persona, generalmente joven, que se pasa la vida viajando y trabajando de manera remota, a veces desde lugares inusuales y paradisíacos. En palabras de la multitud de personas que durante el último año se han sumado a este estilo de vida, la razón es tan simple como envidiable: \"Si tenemos que trabajar en línea, ¿porqué no hacerlo desde un país exótico?\".  \n",
    "\n",
    "Para esta parte del taller, tendrán que constuir un modelo capaz de predecir el precio de un paquete de viajes orientado a nómades digitales a partir de una serie de detalles como el destino o itinerario, los hoteles y comidas incluídas, los vuelos involucrados, etc. \n",
    "\n",
    "Para acceder a loss detalles del desafío ingrese al siguiente link: https://www.kaggle.com/c/nomades-digitales/\n",
    "\n"
   ]
  },
  {
   "cell_type": "markdown",
   "metadata": {
    "id": "VVzSTfeQkrBl"
   },
   "source": [
    "## 1. Importación de librerías"
   ]
  },
  {
   "cell_type": "code",
   "execution_count": 1,
   "metadata": {},
   "outputs": [],
   "source": [
    "# Fundamentals\n",
    "import numpy as np\n",
    "import spacy\n",
    "import json\n",
    "import pandas as pd\n",
    "import datetime as dt\n",
    "import re\n",
    "from scipy import stats"
   ]
  },
  {
   "cell_type": "code",
   "execution_count": 3,
   "metadata": {},
   "outputs": [],
   "source": [
    "# Visualization\n",
    "import matplotlib.pyplot as plt\n",
    "import seaborn as sns"
   ]
  },
  {
   "cell_type": "code",
   "execution_count": 4,
   "metadata": {},
   "outputs": [],
   "source": [
    "# Sklearn\n",
    "from sklearn.preprocessing import StandardScaler\n",
    "from sklearn.model_selection import train_test_split\n",
    "from sklearn.linear_model import LinearRegression\n",
    "from sklearn import preprocessing\n",
    "from sklearn.metrics import mean_absolute_percentage_error\n",
    "from sklearn.linear_model import Ridge\n",
    "from sklearn.compose import ColumnTransformer\n",
    "from sklearn.preprocessing import StandardScaler\n",
    "from sklearn.preprocessing import Normalizer\n",
    "from sklearn import svm\n",
    "from sklearn import linear_model\n",
    "from sklearn.preprocessing import PolynomialFeatures\n",
    "from sklearn.pipeline import Pipeline\n",
    "from sklearn.linear_model import SGDRegressor\n",
    "from sklearn.feature_selection import SelectKBest\n",
    "from sklearn.feature_selection import f_regression\n",
    "from sklearn.feature_selection import mutual_info_regression\n",
    "from sklearn.linear_model import LassoCV\n",
    "from sklearn.feature_selection import SequentialFeatureSelector\n",
    "from sklearn.feature_selection import SelectFromModel\n",
    "from sklearn.feature_selection import RFECV\n",
    "from sklearn.decomposition import PCA\n",
    "from sklearn.feature_selection import VarianceThreshold"
   ]
  },
  {
   "cell_type": "markdown",
   "metadata": {},
   "source": [
    "## 2. Descripción Dataset"
   ]
  },
  {
   "cell_type": "markdown",
   "metadata": {},
   "source": [
    "## 3. Recopilación de datos"
   ]
  },
  {
   "cell_type": "code",
   "execution_count": 5,
   "metadata": {},
   "outputs": [],
   "source": [
    "# Import train and test sets\n",
    "train = pd.read_csv(\"./datasets/travel_packages_train.csv\")\n",
    "test = pd.read_csv(\"./datasets/travel_packages_test.csv\")"
   ]
  },
  {
   "cell_type": "code",
   "execution_count": 6,
   "metadata": {},
   "outputs": [],
   "source": [
    "# Fix columns names\n",
    "train = train.rename(columns = {\"Unnamed: 0\": \"Index\"})\n",
    "train.columns = train.columns.str.lower().str.replace(' ','_')\n",
    "test = test.rename(columns = {\"Unnamed: 0\": \"Index\"})\n",
    "test.columns = test.columns.str.lower().str.replace(' ','_')"
   ]
  },
  {
   "cell_type": "markdown",
   "metadata": {},
   "source": [
    "## 4. Exploración de datos"
   ]
  },
  {
   "cell_type": "code",
   "execution_count": 7,
   "metadata": {},
   "outputs": [
    {
     "data": {
      "text/plain": [
       "(15750, 15)"
      ]
     },
     "execution_count": 7,
     "metadata": {},
     "output_type": "execute_result"
    }
   ],
   "source": [
    "train.shape"
   ]
  },
  {
   "cell_type": "code",
   "execution_count": 8,
   "metadata": {},
   "outputs": [
    {
     "name": "stdout",
     "output_type": "stream",
     "text": [
      "Index(['index', 'package_name', 'package_type', 'destination', 'itinerary',\n",
      "       'places_covered', 'travel_date', 'hotel_details', 'start_city',\n",
      "       'airline', 'flight_stops', 'meals', 'sightseeing_places_covered',\n",
      "       'cancellation_rules', 'ppprice'],\n",
      "      dtype='object')\n"
     ]
    }
   ],
   "source": [
    "# Column names\n",
    "print(train.columns)"
   ]
  },
  {
   "cell_type": "code",
   "execution_count": 9,
   "metadata": {},
   "outputs": [
    {
     "name": "stdout",
     "output_type": "stream",
     "text": [
      "index                         15750\n",
      "package_name                   2171\n",
      "package_type                      5\n",
      "destination                     563\n",
      "itinerary                       964\n",
      "places_covered                  563\n",
      "travel_date                     481\n",
      "hotel_details                  5158\n",
      "start_city                        2\n",
      "airline                         272\n",
      "flight_stops                      3\n",
      "meals                             4\n",
      "sightseeing_places_covered     1650\n",
      "cancellation_rules                8\n",
      "ppprice                         701\n",
      "dtype: int64\n"
     ]
    }
   ],
   "source": [
    "# Number of uniques values per column\n",
    "print(train.nunique(axis=0))"
   ]
  },
  {
   "cell_type": "markdown",
   "metadata": {},
   "source": [
    "## 5 Preprocesamiento de datos"
   ]
  },
  {
   "cell_type": "markdown",
   "metadata": {},
   "source": [
    "### 5.1 Data Cleaning"
   ]
  },
  {
   "cell_type": "code",
   "execution_count": 10,
   "metadata": {},
   "outputs": [
    {
     "data": {
      "text/plain": [
       "False"
      ]
     },
     "execution_count": 10,
     "metadata": {},
     "output_type": "execute_result"
    }
   ],
   "source": [
    "train.isnull().values.any()"
   ]
  },
  {
   "cell_type": "code",
   "execution_count": 11,
   "metadata": {},
   "outputs": [
    {
     "data": {
      "text/plain": [
       "False"
      ]
     },
     "execution_count": 11,
     "metadata": {},
     "output_type": "execute_result"
    }
   ],
   "source": [
    "test.isnull().values.any()"
   ]
  },
  {
   "cell_type": "code",
   "execution_count": 12,
   "metadata": {},
   "outputs": [
    {
     "data": {
      "text/html": [
       "<div>\n",
       "<style scoped>\n",
       "    .dataframe tbody tr th:only-of-type {\n",
       "        vertical-align: middle;\n",
       "    }\n",
       "\n",
       "    .dataframe tbody tr th {\n",
       "        vertical-align: top;\n",
       "    }\n",
       "\n",
       "    .dataframe thead th {\n",
       "        text-align: right;\n",
       "    }\n",
       "</style>\n",
       "<table border=\"1\" class=\"dataframe\">\n",
       "  <thead>\n",
       "    <tr style=\"text-align: right;\">\n",
       "      <th></th>\n",
       "      <th>index</th>\n",
       "      <th>package_name</th>\n",
       "      <th>package_type</th>\n",
       "      <th>destination</th>\n",
       "      <th>itinerary</th>\n",
       "      <th>places_covered</th>\n",
       "      <th>travel_date</th>\n",
       "      <th>hotel_details</th>\n",
       "      <th>start_city</th>\n",
       "      <th>airline</th>\n",
       "      <th>flight_stops</th>\n",
       "      <th>meals</th>\n",
       "      <th>sightseeing_places_covered</th>\n",
       "      <th>cancellation_rules</th>\n",
       "      <th>ppprice</th>\n",
       "    </tr>\n",
       "  </thead>\n",
       "  <tbody>\n",
       "    <tr>\n",
       "      <th>0</th>\n",
       "      <td>7919</td>\n",
       "      <td>North East - Gangtok and Lachung</td>\n",
       "      <td>Deluxe</td>\n",
       "      <td>Gangtok|Lachung|Gangtok</td>\n",
       "      <td>1N Gangtok . 2N Lachung . 1N Gangtok</td>\n",
       "      <td>Gangtok|Lachung|Gangtok</td>\n",
       "      <td>10-01-2022</td>\n",
       "      <td>Summit Denzong Hotel &amp; Spa:4.5|Summit Alpine R...</td>\n",
       "      <td>New Delhi</td>\n",
       "      <td>Spicejet|Spicejet</td>\n",
       "      <td>1</td>\n",
       "      <td>3</td>\n",
       "      <td>Singhik View Point | Chungthang | Yumthang Va...</td>\n",
       "      <td>Cancellation any time after making the 1st pay...</td>\n",
       "      <td>284.0</td>\n",
       "    </tr>\n",
       "    <tr>\n",
       "      <th>1</th>\n",
       "      <td>982</td>\n",
       "      <td>Spiritual Haridwar from Delhi</td>\n",
       "      <td>Budget</td>\n",
       "      <td>Haridwar</td>\n",
       "      <td>2N Haridwar</td>\n",
       "      <td>Haridwar</td>\n",
       "      <td>21-11-2021</td>\n",
       "      <td>Not Available</td>\n",
       "      <td>Mumbai</td>\n",
       "      <td>Not Available</td>\n",
       "      <td>2</td>\n",
       "      <td>2</td>\n",
       "      <td>Har Ki Pauri</td>\n",
       "      <td>Cancellation any time after making the 1st pay...</td>\n",
       "      <td>129.0</td>\n",
       "    </tr>\n",
       "    <tr>\n",
       "      <th>2</th>\n",
       "      <td>3211</td>\n",
       "      <td>Rajasthan Adventure Special with Guided Leopar...</td>\n",
       "      <td>Premium</td>\n",
       "      <td>Jodhpur|Jaisalmer</td>\n",
       "      <td>2N Jodhpur . 2N Jaisalmer</td>\n",
       "      <td>Jodhpur|Jaisalmer</td>\n",
       "      <td>06-08-2021</td>\n",
       "      <td>Indana Palace Jodhpur:4.3|Jaisalmer Marriott R...</td>\n",
       "      <td>New Delhi</td>\n",
       "      <td>IndiGo</td>\n",
       "      <td>0</td>\n",
       "      <td>5</td>\n",
       "      <td>Hanwant Mahal | Candlelight Dinner in Jodhpur...</td>\n",
       "      <td>Cancellation any time after making the 1st pay...</td>\n",
       "      <td>311.0</td>\n",
       "    </tr>\n",
       "    <tr>\n",
       "      <th>3</th>\n",
       "      <td>3509</td>\n",
       "      <td>Bhutan 5N - Thimphu(2) Paro(3)</td>\n",
       "      <td>Premium</td>\n",
       "      <td>Thimpu|Paro</td>\n",
       "      <td>2N Thimpu . 3N Paro</td>\n",
       "      <td>Thimpu|Paro</td>\n",
       "      <td>27-02-2021</td>\n",
       "      <td>Terma Linca Resort and Spa:4.5|Zhiwa Ling Hote...</td>\n",
       "      <td>New Delhi</td>\n",
       "      <td>Not Available</td>\n",
       "      <td>0</td>\n",
       "      <td>5</td>\n",
       "      <td>Simtokha Dzong | Memorial Chorten | Buddha Do...</td>\n",
       "      <td>Cancellation any time after making the 1st pay...</td>\n",
       "      <td>517.0</td>\n",
       "    </tr>\n",
       "    <tr>\n",
       "      <th>4</th>\n",
       "      <td>4820</td>\n",
       "      <td>Splendid North East - Pelling Special (Value a...</td>\n",
       "      <td>Deluxe</td>\n",
       "      <td>Gangtok|Pelling|Darjeeling</td>\n",
       "      <td>2N Gangtok . 1N Pelling . 2N Darjeeling</td>\n",
       "      <td>Gangtok|Pelling|Darjeeling</td>\n",
       "      <td>16-06-2021</td>\n",
       "      <td>Lemon Tree Hotel  Gangtok:4.3|The Elgin Mount ...</td>\n",
       "      <td>New Delhi</td>\n",
       "      <td>Go Air</td>\n",
       "      <td>1</td>\n",
       "      <td>3</td>\n",
       "      <td>Changu Lake - Excursion | Baba Mandir | Tashi...</td>\n",
       "      <td>Cancellation any time after making the 1st pay...</td>\n",
       "      <td>336.0</td>\n",
       "    </tr>\n",
       "  </tbody>\n",
       "</table>\n",
       "</div>"
      ],
      "text/plain": [
       "   index                                       package_name package_type  \\\n",
       "0   7919                   North East - Gangtok and Lachung       Deluxe   \n",
       "1    982                      Spiritual Haridwar from Delhi       Budget   \n",
       "2   3211  Rajasthan Adventure Special with Guided Leopar...      Premium   \n",
       "3   3509                     Bhutan 5N - Thimphu(2) Paro(3)      Premium   \n",
       "4   4820  Splendid North East - Pelling Special (Value a...       Deluxe   \n",
       "\n",
       "                  destination                                itinerary  \\\n",
       "0     Gangtok|Lachung|Gangtok     1N Gangtok . 2N Lachung . 1N Gangtok   \n",
       "1                    Haridwar                              2N Haridwar   \n",
       "2           Jodhpur|Jaisalmer                2N Jodhpur . 2N Jaisalmer   \n",
       "3                 Thimpu|Paro                      2N Thimpu . 3N Paro   \n",
       "4  Gangtok|Pelling|Darjeeling  2N Gangtok . 1N Pelling . 2N Darjeeling   \n",
       "\n",
       "               places_covered travel_date  \\\n",
       "0     Gangtok|Lachung|Gangtok  10-01-2022   \n",
       "1                    Haridwar  21-11-2021   \n",
       "2           Jodhpur|Jaisalmer  06-08-2021   \n",
       "3                 Thimpu|Paro  27-02-2021   \n",
       "4  Gangtok|Pelling|Darjeeling  16-06-2021   \n",
       "\n",
       "                                       hotel_details start_city  \\\n",
       "0  Summit Denzong Hotel & Spa:4.5|Summit Alpine R...  New Delhi   \n",
       "1                                      Not Available     Mumbai   \n",
       "2  Indana Palace Jodhpur:4.3|Jaisalmer Marriott R...  New Delhi   \n",
       "3  Terma Linca Resort and Spa:4.5|Zhiwa Ling Hote...  New Delhi   \n",
       "4  Lemon Tree Hotel  Gangtok:4.3|The Elgin Mount ...  New Delhi   \n",
       "\n",
       "             airline  flight_stops  meals  \\\n",
       "0  Spicejet|Spicejet             1      3   \n",
       "1      Not Available             2      2   \n",
       "2             IndiGo             0      5   \n",
       "3      Not Available             0      5   \n",
       "4             Go Air             1      3   \n",
       "\n",
       "                          sightseeing_places_covered  \\\n",
       "0   Singhik View Point | Chungthang | Yumthang Va...   \n",
       "1                                      Har Ki Pauri    \n",
       "2   Hanwant Mahal | Candlelight Dinner in Jodhpur...   \n",
       "3   Simtokha Dzong | Memorial Chorten | Buddha Do...   \n",
       "4   Changu Lake - Excursion | Baba Mandir | Tashi...   \n",
       "\n",
       "                                  cancellation_rules  ppprice  \n",
       "0  Cancellation any time after making the 1st pay...    284.0  \n",
       "1  Cancellation any time after making the 1st pay...    129.0  \n",
       "2  Cancellation any time after making the 1st pay...    311.0  \n",
       "3  Cancellation any time after making the 1st pay...    517.0  \n",
       "4  Cancellation any time after making the 1st pay...    336.0  "
      ]
     },
     "execution_count": 12,
     "metadata": {},
     "output_type": "execute_result"
    }
   ],
   "source": [
    "train.head()"
   ]
  },
  {
   "cell_type": "markdown",
   "metadata": {},
   "source": [
    "### 5.2 Data integration"
   ]
  },
  {
   "cell_type": "code",
   "execution_count": 13,
   "metadata": {},
   "outputs": [],
   "source": [
    "# Read file with distances\n",
    "with open('distances.json', 'r') as fp:\n",
    "    distancias = json.load(fp)"
   ]
  },
  {
   "cell_type": "code",
   "execution_count": 14,
   "metadata": {},
   "outputs": [
    {
     "name": "stdout",
     "output_type": "stream",
     "text": [
      "3220.07333299853\n"
     ]
    },
    {
     "name": "stderr",
     "output_type": "stream",
     "text": [
      "C:\\Users\\ferna\\AppData\\Local\\Temp/ipykernel_12576/337716454.py:5: RuntimeWarning: Mean of empty slice\n",
      "  if(np.isnan(np.nanmean(np.array(list(destinos.values()), dtype=np.float64)))):\n"
     ]
    }
   ],
   "source": [
    "# Get average distance between two places\n",
    "promedio = 0\n",
    "for origen, destinos in distancias.items():\n",
    "    \n",
    "    if(np.isnan(np.nanmean(np.array(list(destinos.values()), dtype=np.float64)))):\n",
    "        continue\n",
    "    else:\n",
    "        promedio = (promedio + np.nanmean(np.array(list(destinos.values()), dtype=np.float64)))/2\n",
    "\n",
    "for origen, destinos in distancias.items():\n",
    "    # Distancia promedio del origen a todos los destinos\n",
    "    for destino, distancia in destinos.items():\n",
    "        if(distancia == None or np.isnan(distancia)):\n",
    "            distancias[origen][destino] = promedio\n",
    "print(promedio)"
   ]
  },
  {
   "cell_type": "markdown",
   "metadata": {},
   "source": [
    "### 5.3 Data transformation"
   ]
  },
  {
   "cell_type": "code",
   "execution_count": 15,
   "metadata": {},
   "outputs": [],
   "source": [
    "# Transform travel_date format to datetime\n",
    "train['date'] = pd.to_datetime(train['travel_date'])\n",
    "test['date'] = pd.to_datetime(test['travel_date'])"
   ]
  },
  {
   "cell_type": "code",
   "execution_count": 16,
   "metadata": {},
   "outputs": [],
   "source": [
    "# Transform datetime to ordinal representation\n",
    "train['date'] = train['date'].map(dt.datetime.toordinal)\n",
    "test['date'] = test['date'].map(dt.datetime.toordinal)"
   ]
  },
  {
   "cell_type": "code",
   "execution_count": 17,
   "metadata": {},
   "outputs": [],
   "source": [
    "# Get number of places included in package\n",
    "train[\"number_places\"] = train.apply(lambda row: len(row.places_covered.split(\"|\")),axis=1)\n",
    "test[\"number_places\"] = test.apply(lambda row: len(row.places_covered.split(\"|\")),axis=1)"
   ]
  },
  {
   "cell_type": "code",
   "execution_count": 18,
   "metadata": {},
   "outputs": [],
   "source": [
    "# Get number of sightseeings (visits to tourist places)\n",
    "train[\"number_sightseeing\"] = train.apply(lambda row: len(row.sightseeing_places_covered.split(\"|\")),axis=1)\n",
    "test[\"number_sightseeing\"] = test.apply(lambda row: len(row.sightseeing_places_covered.split(\"|\")),axis=1)"
   ]
  },
  {
   "cell_type": "code",
   "execution_count": 19,
   "metadata": {},
   "outputs": [],
   "source": [
    "#train[\"number_destination\"] = train.apply(lambda row: len(row.destination.split(\"|\")),axis=1)\n",
    "#test[\"number_destination\"] = test.apply(lambda row: len(row.destination.split(\"|\")),axis=1)"
   ]
  },
  {
   "cell_type": "code",
   "execution_count": 20,
   "metadata": {},
   "outputs": [],
   "source": [
    "# Encode package type as numbers\n",
    "package_codes = {'Budget': 1, 'Standard': 2, 'Premium': 3, 'Deluxe': 4,'Luxury':5}\n",
    "train[\"package_code\"] = train.apply(lambda row: package_codes[row.package_type],axis=1)\n",
    "test[\"package_code\"] = test.apply(lambda row: package_codes[row.package_type],axis=1)"
   ]
  },
  {
   "cell_type": "code",
   "execution_count": 21,
   "metadata": {},
   "outputs": [],
   "source": [
    "# Get meal quality score based on the package\n",
    "train[\"meals_score\"] = train[\"meals\"] * train[\"package_code\"]\n",
    "test[\"meals_score\"] = test[\"meals\"] * train[\"package_code\"]"
   ]
  },
  {
   "cell_type": "code",
   "execution_count": 22,
   "metadata": {},
   "outputs": [],
   "source": [
    "# Get number of nights\n",
    "train[\"nights\"] = train.apply(lambda row: sum(map(int,re.findall(\"(\\d+)N\",row.itinerary))),axis=1)\n",
    "test[\"nights\"] = test.apply(lambda row: sum(map(int,re.findall(\"(\\d+)N\",row.itinerary))),axis=1)"
   ]
  },
  {
   "cell_type": "code",
   "execution_count": 23,
   "metadata": {},
   "outputs": [],
   "source": [
    "# Get number of hotels with spa\n",
    "train[\"spa\"] = train.apply(lambda row: int(\"spa\" in row.hotel_details.lower()),axis=1)\n",
    "test[\"spa\"] = test.apply(lambda row: int(\"spa\" in row.hotel_details.lower()),axis=1)"
   ]
  },
  {
   "cell_type": "markdown",
   "metadata": {},
   "source": [
    "Extraemos las aerolineas presentes en el dataset:"
   ]
  },
  {
   "cell_type": "code",
   "execution_count": 24,
   "metadata": {},
   "outputs": [],
   "source": [
    "airline_df = pd.concat([train[\"airline\"],test[\"airline\"]])\n",
    "airlines = []\n",
    "for airline in np.unique(airline_df.values):\n",
    "    airlines_flattened = np.array(airline.split('|')).flatten()\n",
    "    for airline_flattened in airlines_flattened:\n",
    "        airlines.append(airline_flattened)\n",
    "airlines = list(set(airlines))"
   ]
  },
  {
   "cell_type": "markdown",
   "metadata": {},
   "source": [
    "Se buscó en internet la el precio promedio x km de viaje en cada aerolinea (en USD):"
   ]
  },
  {
   "cell_type": "code",
   "execution_count": 25,
   "metadata": {},
   "outputs": [],
   "source": [
    "cost_per_km = {'Qatar Airways': 0.11,\n",
    " 'Singapore Airlines': 0.11,\n",
    " 'Sichuan Airlines': 0.13,\n",
    " 'China Southern': 0.11,\n",
    " 'Thai Vietjet Air': 0.11,\n",
    " 'Kenya Airways': 0.2,\n",
    " 'Air Austral': 0.22,\n",
    " 'AirAsia X': 0.07,\n",
    " 'Ethiopian Airlines': 0.14,\n",
    " 'AirAsia': 0.13,\n",
    " 'EgyptAir': 0.15,\n",
    " 'Air Seychelles': 0.15,\n",
    " 'Malaysia Airlines': 0.13,\n",
    " 'Airconnect': 0.13,\n",
    " 'Air India': 0.15,\n",
    " 'British Airways': 0.2,\n",
    " 'Kuwait Airways': 0.11,\n",
    " 'Malindo Air': 0.13,\n",
    " 'Gulf Air': 0.11,\n",
    " 'Jetstar Asia': 0.13,\n",
    " 'Scoot': 0.11,\n",
    " 'Uzbekistan Airways': 0.13,\n",
    " 'Philippine Airlines': 0.12,\n",
    " 'Brussels Airlines': 0.21,\n",
    " 'Spicejet': 0.14,\n",
    " 'AirAsia Indonesia': 0.08,\n",
    " 'Go Air': 0.13,\n",
    " 'Emirates':0.14,#nan\n",
    " 'Air India Express': 0.08,\n",
    " 'Norwegian': 0.17,\n",
    " 'Swiss': 0.21,\n",
    " 'Thai Airways': 0.13,\n",
    " 'Bangkok Airways': 0.31,\n",
    " 'Lufthansa': 0.22,\n",
    " 'Cathay Pacific': 0.11,\n",
    " 'South African Airways': 0.19,\n",
    " 'Jetstar Airways': 0.13,\n",
    " 'IndiGo': 0.12,\n",
    " 'Vistara': 0.13,\n",
    " 'Oman Air': 0.1,\n",
    " 'Srilankan Airlines': 0.11,\n",
    " 'Garuda Indonesia': 0.12,\n",
    " 'Air Mauritius': 0.17,\n",
    " 'China Eastern': 0.12,\n",
    " 'Not Available':0.14,# nan\n",
    " 'Etihad Airways': 0.1,\n",
    " 'Qantas Airways': 0.1,\n",
    " 'Aeroflot': 0.13,\n",
    " 'Thai AirAsia': 0.18,\n",
    " 'Silkair': 0.21,\n",
    " 'Saudia': 0.12,\n",
    " 'Turkish Airlines': 0.16,\n",
    " 'Air New Zealand': 0.13,\n",
    " 'Virgin Atlantic': 0.13,\n",
    " 'Air Baltic': 0.19,\n",
    " 'Finnair': 0.1}"
   ]
  },
  {
   "cell_type": "markdown",
   "metadata": {},
   "source": [
    "Se reemplazaron los valores nan, por el promedio de los valores validos:"
   ]
  },
  {
   "cell_type": "code",
   "execution_count": 26,
   "metadata": {},
   "outputs": [
    {
     "data": {
      "text/plain": [
       "0.14089285714285713"
      ]
     },
     "execution_count": 26,
     "metadata": {},
     "output_type": "execute_result"
    }
   ],
   "source": [
    "np.nanmean(np.array(list(cost_per_km.values()),dtype=np.float64))"
   ]
  },
  {
   "cell_type": "code",
   "execution_count": 27,
   "metadata": {},
   "outputs": [],
   "source": [
    "def count_spa(itinerary, hotel_details, nights):\n",
    "    try:\n",
    "        return sum(np.array(list(map(int,re.findall(\"(\\d+)N\",itinerary)))) * np.array((list((\"spa\" in s) for s in hotel_details.lower().split(\"|\")))))\n",
    "    except:\n",
    "        return nights/2\n",
    "def weighted_mean_rate(itinerary, hotel_details):\n",
    "    itinerario = np.array(list(map(int,re.findall(\"(\\d+)N\",itinerary))))\n",
    "    rates = np.array(list(map(float,re.findall(\"(\\d\\.\\d)\",hotel_details))))\n",
    "    try:\n",
    "        return sum(itinerario * rates)/sum(itinerario)\n",
    "    except:\n",
    "        return np.mean(rates) if len(rates)>0 else 4.2 # check"
   ]
  },
  {
   "cell_type": "markdown",
   "metadata": {},
   "source": [
    "Contamos las noches en un hotel con spa (estimado):"
   ]
  },
  {
   "cell_type": "code",
   "execution_count": 28,
   "metadata": {},
   "outputs": [],
   "source": [
    "# Get number of nights with spa (estimated sometimes)\n",
    "train[\"nights_with_spa\"] = train.apply(lambda row: count_spa(row.itinerary, row.hotel_details, row.nights),axis=1)\n",
    "test[\"nights_with_spa\"] = test.apply(lambda row: count_spa(row.itinerary, row.hotel_details, row.nights),axis=1)"
   ]
  },
  {
   "cell_type": "markdown",
   "metadata": {},
   "source": [
    "Se obtiene el promedio ponderado de las calificaciones de los hoteles por la cantidad de noches que se está en cada uno:"
   ]
  },
  {
   "cell_type": "code",
   "execution_count": 29,
   "metadata": {},
   "outputs": [
    {
     "name": "stderr",
     "output_type": "stream",
     "text": [
      "C:\\Users\\ferna\\AppData\\Local\\Temp/ipykernel_12576/2262468470.py:4: SettingWithCopyWarning: \n",
      "A value is trying to be set on a copy of a slice from a DataFrame\n",
      "\n",
      "See the caveats in the documentation: https://pandas.pydata.org/pandas-docs/stable/user_guide/indexing.html#returning-a-view-versus-a-copy\n",
      "  train.hotels_score[train.hotels_score == 0] = train[\"hotels_score\"][train[\"hotels_score\"]!=0].mean()\n",
      "C:\\Users\\ferna\\AppData\\Local\\Temp/ipykernel_12576/2262468470.py:5: SettingWithCopyWarning: \n",
      "A value is trying to be set on a copy of a slice from a DataFrame\n",
      "\n",
      "See the caveats in the documentation: https://pandas.pydata.org/pandas-docs/stable/user_guide/indexing.html#returning-a-view-versus-a-copy\n",
      "  test.hotels_score[test.hotels_score == 0] = train[\"hotels_score\"][train[\"hotels_score\"]!=0].mean()\n"
     ]
    }
   ],
   "source": [
    "# Get hotel quality mean weighted by number of nights in hotels \n",
    "train[\"hotels_score\"] = train.apply(lambda row: weighted_mean_rate(row.itinerary, row.hotel_details),axis=1)\n",
    "test[\"hotels_score\"] = test.apply(lambda row: weighted_mean_rate(row.itinerary, row.hotel_details),axis=1)\n",
    "train.hotels_score[train.hotels_score == 0] = train[\"hotels_score\"][train[\"hotels_score\"]!=0].mean()\n",
    "test.hotels_score[test.hotels_score == 0] = train[\"hotels_score\"][train[\"hotels_score\"]!=0].mean()"
   ]
  },
  {
   "cell_type": "code",
   "execution_count": 30,
   "metadata": {},
   "outputs": [
    {
     "data": {
      "text/plain": [
       "count    15750.000000\n",
       "mean         4.128094\n",
       "std          0.298292\n",
       "min          1.500000\n",
       "25%          4.000000\n",
       "50%          4.200000\n",
       "75%          4.250000\n",
       "max          5.000000\n",
       "Name: hotels_score, dtype: float64"
      ]
     },
     "execution_count": 30,
     "metadata": {},
     "output_type": "execute_result"
    }
   ],
   "source": [
    "train[\"hotels_score\"].describe()"
   ]
  },
  {
   "cell_type": "code",
   "execution_count": 31,
   "metadata": {},
   "outputs": [],
   "source": [
    "# Encode start city\n",
    "train = train.join(pd.get_dummies(train['start_city']))\n",
    "test = test.join(pd.get_dummies(test['start_city']))"
   ]
  },
  {
   "cell_type": "markdown",
   "metadata": {},
   "source": [
    "Se utiliza one-hot-encoding para las reglas de cancelación:"
   ]
  },
  {
   "cell_type": "code",
   "execution_count": 32,
   "metadata": {},
   "outputs": [],
   "source": [
    "# Encode package of cancellation rules\n",
    "cancellation_rules_code = dict(zip(train[\"cancellation_rules\"].unique(), ['a','b','c','d','e','f','g','h']))\n",
    "\n",
    "train[\"cancellation_rule_package\"] = train.apply(lambda row: cancellation_rules_code.get(row.cancellation_rules,\"i\"),axis=1)\n",
    "test[\"cancellation_rule_package\"] = test.apply(lambda row: cancellation_rules_code.get(row.cancellation_rules,\"i\"),axis=1)\n",
    "\n",
    "train = train.join(pd.get_dummies(train['cancellation_rule_package']))\n",
    "train[\"i\"] = 0\n",
    "\n",
    "test = test.join(pd.get_dummies(test['cancellation_rule_package']))\n",
    "test[\"e\"] = 0\n",
    "test[\"g\"] = 0"
   ]
  },
  {
   "cell_type": "markdown",
   "metadata": {},
   "source": [
    "Se obtuvo la distancia entre cada uno de los vuelos con ayuda de la distance matrix API de google maps:"
   ]
  },
  {
   "cell_type": "code",
   "execution_count": 33,
   "metadata": {},
   "outputs": [],
   "source": [
    "def total_distance(row, distances):\n",
    "    destinations = np.append(np.append(row.start_city,np.array(row.destination.split(\"|\"))),row.start_city)\n",
    "    distance = 0\n",
    "    distances_list = []\n",
    "    for i in range(len(destinations)-1):\n",
    "        current_distance = distances[destinations[i]][destinations[i+1]] if ((destinations[i] in distances and destinations[i+1] in distances[destinations[i]])) else distances[destinations[i+1]][destinations[i]]\n",
    "        distances_list.append(current_distance)\n",
    "        distance = distance + current_distance\n",
    "    return distance"
   ]
  },
  {
   "cell_type": "code",
   "execution_count": 35,
   "metadata": {},
   "outputs": [],
   "source": [
    "def cost_por_km(row):\n",
    "    mean_cost_airlines = np.mean(np.array([cost_per_km[i] for i in row.airline.split(\"|\")],dtype=np.float64))\n",
    "    return mean_cost_airlines"
   ]
  },
  {
   "cell_type": "markdown",
   "metadata": {},
   "source": [
    "Se calcula la distancia total en base a todos los lugares visitados, considerando la ciudad de origen"
   ]
  },
  {
   "cell_type": "code",
   "execution_count": 36,
   "metadata": {},
   "outputs": [],
   "source": [
    "# Get total distance\n",
    "train[\"total_distance\"] = train.apply(lambda row: total_distance(row,distancias),axis=1)\n",
    "test[\"total_distance\"] = test.apply(lambda row: total_distance(row,distancias),axis=1)"
   ]
  },
  {
   "cell_type": "code",
   "execution_count": 37,
   "metadata": {},
   "outputs": [],
   "source": [
    "# Get mean cost per km\n",
    "train[\"cost_per_km\"] = train.apply(lambda row: cost_por_km(row),axis=1)\n",
    "test[\"cost_per_km\"] = test.apply(lambda row: cost_por_km(row),axis=1)"
   ]
  },
  {
   "cell_type": "code",
   "execution_count": 38,
   "metadata": {},
   "outputs": [],
   "source": [
    "# Get mean total cost of airlines\n",
    "train[\"cost_airlines\"] = train[\"total_distance\"] * train[\"cost_per_km\"]\n",
    "test[\"cost_airlines\"] = test[\"total_distance\"] * test[\"cost_per_km\"]"
   ]
  },
  {
   "cell_type": "code",
   "execution_count": 39,
   "metadata": {},
   "outputs": [],
   "source": [
    "# Get mean total cost of airlines\n",
    "train[\"cost_airlines_by_type\"] = train[\"total_distance\"] * train[\"cost_per_km\"] * train[\"package_code\"]\n",
    "test[\"cost_airlines_by_type\"] = test[\"total_distance\"] * test[\"cost_per_km\"] * train[\"package_code\"]"
   ]
  },
  {
   "cell_type": "markdown",
   "metadata": {},
   "source": [
    "Se codifica la fecha en coordenadas polares para capturar la relación ciclica del año (365 días)"
   ]
  },
  {
   "cell_type": "code",
   "execution_count": 40,
   "metadata": {},
   "outputs": [],
   "source": [
    "# Encode the date due to its cyclical nature\n",
    "train[\"sin_date\"] = train.apply(lambda row: np.sin(2*np.pi*(int(row.travel_date.split(\"-\")[0])+(int(row.travel_date.split(\"-\")[1])*30))/365),axis=1)\n",
    "train[\"cos_date\"] = train.apply(lambda row: np.cos(2*np.pi*(int(row.travel_date.split(\"-\")[0])+(int(row.travel_date.split(\"-\")[1])*30))/365),axis=1)\n",
    "\n",
    "test[\"sin_date\"] = test.apply(lambda row: np.sin(2*np.pi*(int(row.travel_date.split(\"-\")[0])+(int(row.travel_date.split(\"-\")[1])*30))/365),axis=1)\n",
    "test[\"cos_date\"] = test.apply(lambda row: np.cos(2*np.pi*(int(row.travel_date.split(\"-\")[0])+(int(row.travel_date.split(\"-\")[1])*30))/365),axis=1)"
   ]
  },
  {
   "cell_type": "markdown",
   "metadata": {},
   "source": [
    "### Análisis distribucional"
   ]
  },
  {
   "cell_type": "code",
   "execution_count": 44,
   "metadata": {},
   "outputs": [],
   "source": [
    "# Funciones de transformación para conseguir distribuciones normales\n",
    "def cubo(x):\n",
    "    return np.power(x,3)\n",
    "def log_cubo(x):\n",
    "    return np.log(np.power(x,3))\n",
    "def test_transformations(variable, alpha=0, bins=20, plot=False, only_boxcox=False, title=\"Histogram\"):\n",
    "  # Recibe como input una columna de un dataframe, por ejemplo: df[\"number_places\"]\n",
    "  if plot:\n",
    "    fig, ax = plt.subplots(figsize=(4,3))\n",
    "    ax = plt.hist(variable, bins=bins, color='b', edgecolor='w')\n",
    "    #ax = plt.distplot(variable, bins=bins, color='b', edgecolor='w')\n",
    "    plt.title(title)\n",
    "    plt.show\n",
    "\n",
    "  try:\n",
    "    variable_boxcox = stats.boxcox(variable,alpha)\n",
    "    if plot:\n",
    "      fig, ax = plt.subplots(figsize=(4,3))\n",
    "      ax = plt.hist(variable_boxcox, bins=bins, color='b', edgecolor='w')\n",
    "      plt.title('Box cox '+ str(alpha))\n",
    "      plt.show\n",
    "    if only_boxcox:\n",
    "      return variable_boxcox\n",
    "  except:\n",
    "    print(\"Datos negativos, no es posible aplicar boxcox\")\n",
    "  \n",
    "  variable_tr = variable.transform([np.sqrt, np.exp, np.log, np.reciprocal, np.square, cubo])\n",
    "  if plot:\n",
    "    variable_tr.hist(bins=20, layout=(3,3), edgecolor='k', figsize=(10,8))\n",
    "    plt.suptitle(\"Transformed Output\")\n",
    "    plt.show()\n",
    "  try:\n",
    "    variable_tr['boxcox'] = variable_boxcox\n",
    "  except:\n",
    "    print(\"\")\n",
    "  return variable_tr"
   ]
  },
  {
   "cell_type": "code",
   "execution_count": 45,
   "metadata": {},
   "outputs": [],
   "source": [
    "numerical_features = ['number_places','package_code', \n",
    "                      'meals_score','nights','nights_with_spa','hotels_score', \n",
    "                      'meals','flight_stops','total_distance','ppprice']"
   ]
  },
  {
   "cell_type": "code",
   "execution_count": 46,
   "metadata": {},
   "outputs": [
    {
     "data": {
      "image/png": "[encoded data removed]",
      "text/plain": [
       "<Figure size 1800x1800 with 110 Axes>"
      ]
     },
     "metadata": {
      "needs_background": "light"
     },
     "output_type": "display_data"
    }
   ],
   "source": [
    "pairplot = sns.pairplot(train[numerical_features])"
   ]
  },
  {
   "cell_type": "markdown",
   "metadata": {},
   "source": [
    "Se aplican transformaciones para llevar las distribuciones de las variables a una distribución normal:"
   ]
  },
  {
   "cell_type": "code",
   "execution_count": 47,
   "metadata": {},
   "outputs": [],
   "source": [
    "# Transformación para conseguir distribución normal en meals score\n",
    "train[\"norm_meals_score\"] = test_transformations(train['meals_score'],0.25,bins=15, plot=False)[\"sqrt\"]\n",
    "test[\"norm_meals_score\"] = test_transformations(test['meals_score'],0.25,bins=15, plot=False)[\"sqrt\"]"
   ]
  },
  {
   "cell_type": "code",
   "execution_count": 48,
   "metadata": {},
   "outputs": [],
   "source": [
    "# Transformación para conseguir distribución normal en package_code SIRVE\n",
    "#train[\"sqrt_package_code\"] = test_transformations(train['package_code'],0.67,bins=15, plot=False)[\"sqrt\"]"
   ]
  },
  {
   "cell_type": "code",
   "execution_count": 49,
   "metadata": {},
   "outputs": [],
   "source": [
    "# Transformación para conseguir distribución normal en nights\n",
    "train[\"norm_nights\"] = test_transformations(train['nights'],0.03,bins=15, plot=False)[\"boxcox\"]\n",
    "test[\"norm_nights\"] = test_transformations(test['nights'],0.03,bins=15, plot=False)[\"boxcox\"]"
   ]
  },
  {
   "cell_type": "code",
   "execution_count": 50,
   "metadata": {},
   "outputs": [],
   "source": [
    "# Transformación para conseguir distribución normal en nights_with_spa\n",
    "#train[\"boxcox_nights_with_spa\"] = test_transformations(train['nights_with_spa'],0.03,bins=15, plot=True)[\"sqrt\"]"
   ]
  },
  {
   "cell_type": "code",
   "execution_count": 51,
   "metadata": {},
   "outputs": [],
   "source": [
    "# Transformación para conseguir distribución normal en hotels score SIRVE\n",
    "#train[\"boxcox_hotels_score\"] = test_transformations(train['hotels_score'],1.2,bins=15, plot=True)[\"boxcox\"]"
   ]
  },
  {
   "cell_type": "code",
   "execution_count": 52,
   "metadata": {},
   "outputs": [],
   "source": [
    "# Transformación para conseguir distribución normal en norm_meals\n",
    "#train[\"norm_meals\"] = test_transformations(train['meals'],1.2,bins=15, plot=True)[\"boxcox\"]"
   ]
  },
  {
   "cell_type": "code",
   "execution_count": 53,
   "metadata": {},
   "outputs": [],
   "source": [
    "# Transformación para conseguir distribución normal en flight_stops\n",
    "#train[\"norm_flight_stops\"] = test_transformations(train['flight_stops'],1.2,bins=15, plot=True)[\"boxcox\"]"
   ]
  },
  {
   "cell_type": "code",
   "execution_count": 54,
   "metadata": {},
   "outputs": [],
   "source": [
    "# Transformación para conseguir distribución normal en total_distance\n",
    "train[\"norm_total_distance\"] = test_transformations(train['total_distance'],0.08,bins=15, plot=False, only_boxcox=True)\n",
    "test[\"norm_total_distance\"] = test_transformations(test['total_distance'],0.08,bins=15, plot=False, only_boxcox=True)"
   ]
  },
  {
   "cell_type": "code",
   "execution_count": 55,
   "metadata": {},
   "outputs": [],
   "source": [
    "# Transformación para conseguir distribución normal en total_distance\n",
    "train[\"norm_cost_airlines\"] = test_transformations(train['cost_airlines'],0.28,bins=15, plot=False, only_boxcox=True)\n",
    "test[\"norm_cost_airlines\"] = test_transformations(test['cost_airlines'],0.28,bins=15, plot=False, only_boxcox=True)"
   ]
  },
  {
   "cell_type": "code",
   "execution_count": 56,
   "metadata": {},
   "outputs": [
    {
     "data": {
      "image/png": "[encoded data removed]",
      "text/plain": [
       "<Figure size 288x216 with 1 Axes>"
      ]
     },
     "metadata": {
      "needs_background": "light"
     },
     "output_type": "display_data"
    },
    {
     "data": {
      "image/png": "[encoded data removed]",
      "text/plain": [
       "<Figure size 288x216 with 1 Axes>"
      ]
     },
     "metadata": {
      "needs_background": "light"
     },
     "output_type": "display_data"
    },
    {
     "data": {
      "image/png": "[encoded data removed]",
      "text/plain": [
       "<Figure size 288x216 with 1 Axes>"
      ]
     },
     "metadata": {
      "needs_background": "light"
     },
     "output_type": "display_data"
    },
    {
     "data": {
      "image/png": "[encoded data removed]",
      "text/plain": [
       "<Figure size 288x216 with 1 Axes>"
      ]
     },
     "metadata": {
      "needs_background": "light"
     },
     "output_type": "display_data"
    }
   ],
   "source": [
    "# Transformación para conseguir distribución normal en total_distance\n",
    "train[\"norm_cost_airlines_by_type\"] = test_transformations(train['cost_airlines_by_type'],0.15,bins=15, plot=True, only_boxcox=True, title=\"cost_airlines_by_type train\")\n",
    "test[\"norm_cost_airlines_by_type\"] = test_transformations(test['cost_airlines_by_type'],0.15,bins=15, plot=True, only_boxcox=True, title=\"cost_airlines_by_type test\")"
   ]
  },
  {
   "cell_type": "markdown",
   "metadata": {},
   "source": [
    "### Transformaciones polinomiales"
   ]
  },
  {
   "cell_type": "code",
   "execution_count": 57,
   "metadata": {},
   "outputs": [],
   "source": [
    "# Transformación polinomio grado 2\n",
    "train[\"number_places_2\"] = train[\"number_places\"]**2\n",
    "train[\"package_code_2\"] = train[\"package_code\"]**2\n",
    "train[\"meals_score_2\"] = train[\"meals_score\"]**2\n",
    "train[\"nights_2\"] = train[\"nights\"]**2\n",
    "train[\"flight_stops_2\"] = train[\"flight_stops\"]**2\n",
    "test[\"number_places_2\"] = test[\"number_places\"]**2\n",
    "test[\"package_code_2\"] = test[\"package_code\"]**2\n",
    "test[\"meals_score_2\"] = test[\"meals_score\"]**2\n",
    "test[\"nights_2\"] = test[\"nights\"]**2\n",
    "test[\"flight_stops_2\"] = test[\"flight_stops\"]**2"
   ]
  },
  {
   "cell_type": "markdown",
   "metadata": {},
   "source": [
    "## 6. Data Analysis"
   ]
  },
  {
   "cell_type": "markdown",
   "metadata": {},
   "source": [
    "Se proceden a seleccionar aquellas variables independientes que estén correlacionadas con la variable dependiente:"
   ]
  },
  {
   "cell_type": "code",
   "execution_count": 58,
   "metadata": {},
   "outputs": [
    {
     "name": "stdout",
     "output_type": "stream",
     "text": [
      "['flight_stops' 'ppprice' 'spa' 'nights_with_spa' 'a' 'b'\n",
      " 'norm_meals_score' 'norm_nights' 'norm_total_distance'\n",
      " 'norm_cost_airlines' 'norm_cost_airlines_by_type' 'number_places_2'\n",
      " 'meals_score_2']\n"
     ]
    },
    {
     "data": {
      "text/html": [
       "<div>\n",
       "<style scoped>\n",
       "    .dataframe tbody tr th:only-of-type {\n",
       "        vertical-align: middle;\n",
       "    }\n",
       "\n",
       "    .dataframe tbody tr th {\n",
       "        vertical-align: top;\n",
       "    }\n",
       "\n",
       "    .dataframe thead th {\n",
       "        text-align: right;\n",
       "    }\n",
       "</style>\n",
       "<table border=\"1\" class=\"dataframe\">\n",
       "  <thead>\n",
       "    <tr style=\"text-align: right;\">\n",
       "      <th></th>\n",
       "      <th>flight_stops</th>\n",
       "      <th>ppprice</th>\n",
       "      <th>spa</th>\n",
       "      <th>nights_with_spa</th>\n",
       "      <th>a</th>\n",
       "      <th>b</th>\n",
       "      <th>norm_meals_score</th>\n",
       "      <th>norm_nights</th>\n",
       "      <th>norm_total_distance</th>\n",
       "      <th>norm_cost_airlines</th>\n",
       "      <th>norm_cost_airlines_by_type</th>\n",
       "      <th>number_places_2</th>\n",
       "      <th>meals_score_2</th>\n",
       "    </tr>\n",
       "  </thead>\n",
       "  <tbody>\n",
       "    <tr>\n",
       "      <th>0</th>\n",
       "      <td>1</td>\n",
       "      <td>284.0</td>\n",
       "      <td>1</td>\n",
       "      <td>1.0</td>\n",
       "      <td>1</td>\n",
       "      <td>0</td>\n",
       "      <td>3.464102</td>\n",
       "      <td>1.415525</td>\n",
       "      <td>11.418240</td>\n",
       "      <td>16.386941</td>\n",
       "      <td>13.965649</td>\n",
       "      <td>9</td>\n",
       "      <td>144</td>\n",
       "    </tr>\n",
       "    <tr>\n",
       "      <th>1</th>\n",
       "      <td>2</td>\n",
       "      <td>129.0</td>\n",
       "      <td>0</td>\n",
       "      <td>0.0</td>\n",
       "      <td>1</td>\n",
       "      <td>0</td>\n",
       "      <td>1.414214</td>\n",
       "      <td>0.700404</td>\n",
       "      <td>11.367295</td>\n",
       "      <td>16.238549</td>\n",
       "      <td>10.025115</td>\n",
       "      <td>1</td>\n",
       "      <td>4</td>\n",
       "    </tr>\n",
       "    <tr>\n",
       "      <th>2</th>\n",
       "      <td>0</td>\n",
       "      <td>311.0</td>\n",
       "      <td>1</td>\n",
       "      <td>2.0</td>\n",
       "      <td>1</td>\n",
       "      <td>0</td>\n",
       "      <td>3.872983</td>\n",
       "      <td>1.415525</td>\n",
       "      <td>10.119394</td>\n",
       "      <td>12.150689</td>\n",
       "      <td>10.723336</td>\n",
       "      <td>4</td>\n",
       "      <td>225</td>\n",
       "    </tr>\n",
       "    <tr>\n",
       "      <th>3</th>\n",
       "      <td>0</td>\n",
       "      <td>517.0</td>\n",
       "      <td>1</td>\n",
       "      <td>2.0</td>\n",
       "      <td>1</td>\n",
       "      <td>0</td>\n",
       "      <td>3.872983</td>\n",
       "      <td>1.648925</td>\n",
       "      <td>13.198658</td>\n",
       "      <td>22.088731</td>\n",
       "      <td>15.941844</td>\n",
       "      <td>4</td>\n",
       "      <td>225</td>\n",
       "    </tr>\n",
       "    <tr>\n",
       "      <th>4</th>\n",
       "      <td>1</td>\n",
       "      <td>336.0</td>\n",
       "      <td>0</td>\n",
       "      <td>0.0</td>\n",
       "      <td>1</td>\n",
       "      <td>0</td>\n",
       "      <td>3.464102</td>\n",
       "      <td>1.648925</td>\n",
       "      <td>11.368946</td>\n",
       "      <td>15.836422</td>\n",
       "      <td>13.658790</td>\n",
       "      <td>9</td>\n",
       "      <td>144</td>\n",
       "    </tr>\n",
       "  </tbody>\n",
       "</table>\n",
       "</div>"
      ],
      "text/plain": [
       "   flight_stops  ppprice  spa  nights_with_spa  a  b  norm_meals_score  \\\n",
       "0             1    284.0    1              1.0  1  0          3.464102   \n",
       "1             2    129.0    0              0.0  1  0          1.414214   \n",
       "2             0    311.0    1              2.0  1  0          3.872983   \n",
       "3             0    517.0    1              2.0  1  0          3.872983   \n",
       "4             1    336.0    0              0.0  1  0          3.464102   \n",
       "\n",
       "   norm_nights  norm_total_distance  norm_cost_airlines  \\\n",
       "0     1.415525            11.418240           16.386941   \n",
       "1     0.700404            11.367295           16.238549   \n",
       "2     1.415525            10.119394           12.150689   \n",
       "3     1.648925            13.198658           22.088731   \n",
       "4     1.648925            11.368946           15.836422   \n",
       "\n",
       "   norm_cost_airlines_by_type  number_places_2  meals_score_2  \n",
       "0                   13.965649                9            144  \n",
       "1                   10.025115                1              4  \n",
       "2                   10.723336                4            225  \n",
       "3                   15.941844                4            225  \n",
       "4                   13.658790                9            144  "
      ]
     },
     "execution_count": 58,
     "metadata": {},
     "output_type": "execute_result"
    }
   ],
   "source": [
    "high_corr = (train.corr()[\"ppprice\"][np.abs(train.corr()[\"ppprice\"])>0.2]).index.values\n",
    "remover = ['flight_stops_2','meals','number_places',\n",
    "           'meals_score','nights','total_distance',\n",
    "           'nights_2','cost_airlines','cost_airlines_by_type']\n",
    "for deleted in remover:\n",
    "  high_corr = np.delete(high_corr,np.where(high_corr == deleted))\n",
    "print(high_corr)\n",
    "train_high_corr = train[high_corr]\n",
    "train_high_corr.head()"
   ]
  },
  {
   "cell_type": "code",
   "execution_count": 59,
   "metadata": {},
   "outputs": [
    {
     "data": {
      "text/html": [
       "<style type=\"text/css\">\n",
       "#T_cfea4_row0_col0, #T_cfea4_row1_col1, #T_cfea4_row2_col2, #T_cfea4_row3_col3, #T_cfea4_row4_col4, #T_cfea4_row5_col5, #T_cfea4_row6_col6, #T_cfea4_row7_col7, #T_cfea4_row8_col8, #T_cfea4_row9_col9, #T_cfea4_row10_col10, #T_cfea4_row11_col11, #T_cfea4_row12_col12 {\n",
       "  background-color: #b40426;\n",
       "  color: #f1f1f1;\n",
       "}\n",
       "#T_cfea4_row0_col1, #T_cfea4_row0_col2, #T_cfea4_row0_col3, #T_cfea4_row0_col6, #T_cfea4_row0_col10, #T_cfea4_row0_col12, #T_cfea4_row4_col5, #T_cfea4_row5_col4, #T_cfea4_row5_col7, #T_cfea4_row5_col8, #T_cfea4_row5_col9, #T_cfea4_row5_col11, #T_cfea4_row6_col0 {\n",
       "  background-color: #3b4cc0;\n",
       "  color: #f1f1f1;\n",
       "}\n",
       "#T_cfea4_row0_col4, #T_cfea4_row3_col7, #T_cfea4_row12_col5 {\n",
       "  background-color: #d4dbe6;\n",
       "  color: #000000;\n",
       "}\n",
       "#T_cfea4_row0_col5, #T_cfea4_row4_col12, #T_cfea4_row6_col5 {\n",
       "  background-color: #d2dbe8;\n",
       "  color: #000000;\n",
       "}\n",
       "#T_cfea4_row0_col7 {\n",
       "  background-color: #a5c3fe;\n",
       "  color: #000000;\n",
       "}\n",
       "#T_cfea4_row0_col8, #T_cfea4_row12_col11 {\n",
       "  background-color: #7ea1fa;\n",
       "  color: #f1f1f1;\n",
       "}\n",
       "#T_cfea4_row0_col9 {\n",
       "  background-color: #7b9ff9;\n",
       "  color: #f1f1f1;\n",
       "}\n",
       "#T_cfea4_row0_col11 {\n",
       "  background-color: #86a9fc;\n",
       "  color: #f1f1f1;\n",
       "}\n",
       "#T_cfea4_row1_col0, #T_cfea4_row6_col2 {\n",
       "  background-color: #abc8fd;\n",
       "  color: #000000;\n",
       "}\n",
       "#T_cfea4_row1_col2, #T_cfea4_row8_col5 {\n",
       "  background-color: #bad0f8;\n",
       "  color: #000000;\n",
       "}\n",
       "#T_cfea4_row1_col3, #T_cfea4_row2_col0, #T_cfea4_row10_col0 {\n",
       "  background-color: #b7cff9;\n",
       "  color: #000000;\n",
       "}\n",
       "#T_cfea4_row1_col4, #T_cfea4_row1_col12, #T_cfea4_row10_col12, #T_cfea4_row11_col4 {\n",
       "  background-color: #f2cab5;\n",
       "  color: #000000;\n",
       "}\n",
       "#T_cfea4_row1_col5 {\n",
       "  background-color: #a6c4fe;\n",
       "  color: #000000;\n",
       "}\n",
       "#T_cfea4_row1_col6, #T_cfea4_row7_col1 {\n",
       "  background-color: #f4c6af;\n",
       "  color: #000000;\n",
       "}\n",
       "#T_cfea4_row1_col7 {\n",
       "  background-color: #f7b79b;\n",
       "  color: #000000;\n",
       "}\n",
       "#T_cfea4_row1_col8 {\n",
       "  background-color: #bed2f6;\n",
       "  color: #000000;\n",
       "}\n",
       "#T_cfea4_row1_col9, #T_cfea4_row7_col10, #T_cfea4_row9_col5, #T_cfea4_row10_col5, #T_cfea4_row12_col10 {\n",
       "  background-color: #bbd1f8;\n",
       "  color: #000000;\n",
       "}\n",
       "#T_cfea4_row1_col10, #T_cfea4_row1_col11, #T_cfea4_row8_col1, #T_cfea4_row11_col1 {\n",
       "  background-color: #d1dae9;\n",
       "  color: #000000;\n",
       "}\n",
       "#T_cfea4_row2_col1, #T_cfea4_row9_col12 {\n",
       "  background-color: #c5d6f2;\n",
       "  color: #000000;\n",
       "}\n",
       "#T_cfea4_row2_col3 {\n",
       "  background-color: #d85646;\n",
       "  color: #f1f1f1;\n",
       "}\n",
       "#T_cfea4_row2_col4, #T_cfea4_row9_col4 {\n",
       "  background-color: #e5d8d1;\n",
       "  color: #000000;\n",
       "}\n",
       "#T_cfea4_row2_col5, #T_cfea4_row3_col5 {\n",
       "  background-color: #c3d5f4;\n",
       "  color: #000000;\n",
       "}\n",
       "#T_cfea4_row2_col6 {\n",
       "  background-color: #efcebd;\n",
       "  color: #000000;\n",
       "}\n",
       "#T_cfea4_row2_col7 {\n",
       "  background-color: #cedaeb;\n",
       "  color: #000000;\n",
       "}\n",
       "#T_cfea4_row2_col8 {\n",
       "  background-color: #6687ed;\n",
       "  color: #f1f1f1;\n",
       "}\n",
       "#T_cfea4_row2_col9 {\n",
       "  background-color: #5f7fe8;\n",
       "  color: #f1f1f1;\n",
       "}\n",
       "#T_cfea4_row2_col10, #T_cfea4_row11_col3 {\n",
       "  background-color: #84a7fc;\n",
       "  color: #f1f1f1;\n",
       "}\n",
       "#T_cfea4_row2_col11 {\n",
       "  background-color: #aec9fc;\n",
       "  color: #000000;\n",
       "}\n",
       "#T_cfea4_row2_col12 {\n",
       "  background-color: #edd2c3;\n",
       "  color: #000000;\n",
       "}\n",
       "#T_cfea4_row3_col0 {\n",
       "  background-color: #c0d4f5;\n",
       "  color: #000000;\n",
       "}\n",
       "#T_cfea4_row3_col1, #T_cfea4_row4_col11 {\n",
       "  background-color: #cad8ef;\n",
       "  color: #000000;\n",
       "}\n",
       "#T_cfea4_row3_col2 {\n",
       "  background-color: #d65244;\n",
       "  color: #f1f1f1;\n",
       "}\n",
       "#T_cfea4_row3_col4, #T_cfea4_row8_col0, #T_cfea4_row9_col0, #T_cfea4_row10_col4 {\n",
       "  background-color: #e4d9d2;\n",
       "  color: #000000;\n",
       "}\n",
       "#T_cfea4_row3_col6 {\n",
       "  background-color: #ead4c8;\n",
       "  color: #000000;\n",
       "}\n",
       "#T_cfea4_row3_col8 {\n",
       "  background-color: #6485ec;\n",
       "  color: #f1f1f1;\n",
       "}\n",
       "#T_cfea4_row3_col9 {\n",
       "  background-color: #5d7ce6;\n",
       "  color: #f1f1f1;\n",
       "}\n",
       "#T_cfea4_row3_col10, #T_cfea4_row7_col5 {\n",
       "  background-color: #7a9df8;\n",
       "  color: #f1f1f1;\n",
       "}\n",
       "#T_cfea4_row3_col11, #T_cfea4_row11_col10 {\n",
       "  background-color: #9fbfff;\n",
       "  color: #000000;\n",
       "}\n",
       "#T_cfea4_row3_col12 {\n",
       "  background-color: #e8d6cc;\n",
       "  color: #000000;\n",
       "}\n",
       "#T_cfea4_row4_col0, #T_cfea4_row11_col0 {\n",
       "  background-color: #dadce0;\n",
       "  color: #000000;\n",
       "}\n",
       "#T_cfea4_row4_col1, #T_cfea4_row6_col1 {\n",
       "  background-color: #c9d7f0;\n",
       "  color: #000000;\n",
       "}\n",
       "#T_cfea4_row4_col2, #T_cfea4_row4_col10 {\n",
       "  background-color: #9abbff;\n",
       "  color: #000000;\n",
       "}\n",
       "#T_cfea4_row4_col3 {\n",
       "  background-color: #8caffe;\n",
       "  color: #000000;\n",
       "}\n",
       "#T_cfea4_row4_col6, #T_cfea4_row10_col1 {\n",
       "  background-color: #d9dce1;\n",
       "  color: #000000;\n",
       "}\n",
       "#T_cfea4_row4_col7 {\n",
       "  background-color: #f5c1a9;\n",
       "  color: #000000;\n",
       "}\n",
       "#T_cfea4_row4_col8 {\n",
       "  background-color: #8fb1fe;\n",
       "  color: #000000;\n",
       "}\n",
       "#T_cfea4_row4_col9 {\n",
       "  background-color: #89acfd;\n",
       "  color: #000000;\n",
       "}\n",
       "#T_cfea4_row5_col0, #T_cfea4_row11_col6 {\n",
       "  background-color: #d8dce2;\n",
       "  color: #000000;\n",
       "}\n",
       "#T_cfea4_row5_col1, #T_cfea4_row12_col0 {\n",
       "  background-color: #4257c9;\n",
       "  color: #f1f1f1;\n",
       "}\n",
       "#T_cfea4_row5_col2 {\n",
       "  background-color: #5875e1;\n",
       "  color: #f1f1f1;\n",
       "}\n",
       "#T_cfea4_row5_col3 {\n",
       "  background-color: #4a63d3;\n",
       "  color: #f1f1f1;\n",
       "}\n",
       "#T_cfea4_row5_col6, #T_cfea4_row5_col12, #T_cfea4_row7_col0 {\n",
       "  background-color: #d7dce3;\n",
       "  color: #000000;\n",
       "}\n",
       "#T_cfea4_row5_col10 {\n",
       "  background-color: #4e68d8;\n",
       "  color: #f1f1f1;\n",
       "}\n",
       "#T_cfea4_row6_col3, #T_cfea4_row12_col3 {\n",
       "  background-color: #90b2fe;\n",
       "  color: #000000;\n",
       "}\n",
       "#T_cfea4_row6_col4, #T_cfea4_row11_col12 {\n",
       "  background-color: #d3dbe7;\n",
       "  color: #000000;\n",
       "}\n",
       "#T_cfea4_row6_col7, #T_cfea4_row9_col11 {\n",
       "  background-color: #afcafc;\n",
       "  color: #000000;\n",
       "}\n",
       "#T_cfea4_row6_col8 {\n",
       "  background-color: #4961d2;\n",
       "  color: #f1f1f1;\n",
       "}\n",
       "#T_cfea4_row6_col9 {\n",
       "  background-color: #485fd1;\n",
       "  color: #f1f1f1;\n",
       "}\n",
       "#T_cfea4_row6_col10 {\n",
       "  background-color: #c7d7f0;\n",
       "  color: #000000;\n",
       "}\n",
       "#T_cfea4_row6_col11, #T_cfea4_row10_col2 {\n",
       "  background-color: #82a6fb;\n",
       "  color: #f1f1f1;\n",
       "}\n",
       "#T_cfea4_row6_col12, #T_cfea4_row12_col6 {\n",
       "  background-color: #be242e;\n",
       "  color: #f1f1f1;\n",
       "}\n",
       "#T_cfea4_row7_col2 {\n",
       "  background-color: #a7c5fe;\n",
       "  color: #000000;\n",
       "}\n",
       "#T_cfea4_row7_col3 {\n",
       "  background-color: #a3c2fe;\n",
       "  color: #000000;\n",
       "}\n",
       "#T_cfea4_row7_col4 {\n",
       "  background-color: #f7aa8c;\n",
       "  color: #000000;\n",
       "}\n",
       "#T_cfea4_row7_col6 {\n",
       "  background-color: #dddcdc;\n",
       "  color: #000000;\n",
       "}\n",
       "#T_cfea4_row7_col8, #T_cfea4_row8_col11 {\n",
       "  background-color: #b1cbfc;\n",
       "  color: #000000;\n",
       "}\n",
       "#T_cfea4_row7_col9, #T_cfea4_row10_col11 {\n",
       "  background-color: #adc9fd;\n",
       "  color: #000000;\n",
       "}\n",
       "#T_cfea4_row7_col11 {\n",
       "  background-color: #f5a081;\n",
       "  color: #000000;\n",
       "}\n",
       "#T_cfea4_row7_col12 {\n",
       "  background-color: #d6dce4;\n",
       "  color: #000000;\n",
       "}\n",
       "#T_cfea4_row8_col2 {\n",
       "  background-color: #7699f6;\n",
       "  color: #f1f1f1;\n",
       "}\n",
       "#T_cfea4_row8_col3 {\n",
       "  background-color: #6788ee;\n",
       "  color: #f1f1f1;\n",
       "}\n",
       "#T_cfea4_row8_col4 {\n",
       "  background-color: #e6d7cf;\n",
       "  color: #000000;\n",
       "}\n",
       "#T_cfea4_row8_col6, #T_cfea4_row9_col6 {\n",
       "  background-color: #cbd8ee;\n",
       "  color: #000000;\n",
       "}\n",
       "#T_cfea4_row8_col7, #T_cfea4_row9_col7 {\n",
       "  background-color: #dcdddd;\n",
       "  color: #000000;\n",
       "}\n",
       "#T_cfea4_row8_col9, #T_cfea4_row9_col8 {\n",
       "  background-color: #b70d28;\n",
       "  color: #f1f1f1;\n",
       "}\n",
       "#T_cfea4_row8_col10, #T_cfea4_row10_col9 {\n",
       "  background-color: #d44e41;\n",
       "  color: #f1f1f1;\n",
       "}\n",
       "#T_cfea4_row8_col12 {\n",
       "  background-color: #c4d5f3;\n",
       "  color: #000000;\n",
       "}\n",
       "#T_cfea4_row9_col1, #T_cfea4_row12_col4 {\n",
       "  background-color: #cfdaea;\n",
       "  color: #000000;\n",
       "}\n",
       "#T_cfea4_row9_col2 {\n",
       "  background-color: #7093f3;\n",
       "  color: #f1f1f1;\n",
       "}\n",
       "#T_cfea4_row9_col3 {\n",
       "  background-color: #6282ea;\n",
       "  color: #f1f1f1;\n",
       "}\n",
       "#T_cfea4_row9_col10 {\n",
       "  background-color: #d24b40;\n",
       "  color: #f1f1f1;\n",
       "}\n",
       "#T_cfea4_row10_col3 {\n",
       "  background-color: #6c8ff1;\n",
       "  color: #f1f1f1;\n",
       "}\n",
       "#T_cfea4_row10_col6 {\n",
       "  background-color: #f5c0a7;\n",
       "  color: #000000;\n",
       "}\n",
       "#T_cfea4_row10_col7 {\n",
       "  background-color: #dbdcde;\n",
       "  color: #000000;\n",
       "}\n",
       "#T_cfea4_row10_col8 {\n",
       "  background-color: #d55042;\n",
       "  color: #f1f1f1;\n",
       "}\n",
       "#T_cfea4_row11_col2, #T_cfea4_row11_col5 {\n",
       "  background-color: #a1c0ff;\n",
       "  color: #000000;\n",
       "}\n",
       "#T_cfea4_row11_col7 {\n",
       "  background-color: #f29072;\n",
       "  color: #f1f1f1;\n",
       "}\n",
       "#T_cfea4_row11_col8 {\n",
       "  background-color: #96b7ff;\n",
       "  color: #000000;\n",
       "}\n",
       "#T_cfea4_row11_col9 {\n",
       "  background-color: #93b5fe;\n",
       "  color: #000000;\n",
       "}\n",
       "#T_cfea4_row12_col1 {\n",
       "  background-color: #c6d6f1;\n",
       "  color: #000000;\n",
       "}\n",
       "#T_cfea4_row12_col2 {\n",
       "  background-color: #a9c6fd;\n",
       "  color: #000000;\n",
       "}\n",
       "#T_cfea4_row12_col7 {\n",
       "  background-color: #aac7fd;\n",
       "  color: #000000;\n",
       "}\n",
       "#T_cfea4_row12_col8 {\n",
       "  background-color: #455cce;\n",
       "  color: #f1f1f1;\n",
       "}\n",
       "#T_cfea4_row12_col9 {\n",
       "  background-color: #445acc;\n",
       "  color: #f1f1f1;\n",
       "}\n",
       "</style>\n",
       "<table id=\"T_cfea4_\">\n",
       "  <thead>\n",
       "    <tr>\n",
       "      <th class=\"blank level0\" >&nbsp;</th>\n",
       "      <th class=\"col_heading level0 col0\" >flight_stops</th>\n",
       "      <th class=\"col_heading level0 col1\" >ppprice</th>\n",
       "      <th class=\"col_heading level0 col2\" >spa</th>\n",
       "      <th class=\"col_heading level0 col3\" >nights_with_spa</th>\n",
       "      <th class=\"col_heading level0 col4\" >a</th>\n",
       "      <th class=\"col_heading level0 col5\" >b</th>\n",
       "      <th class=\"col_heading level0 col6\" >norm_meals_score</th>\n",
       "      <th class=\"col_heading level0 col7\" >norm_nights</th>\n",
       "      <th class=\"col_heading level0 col8\" >norm_total_distance</th>\n",
       "      <th class=\"col_heading level0 col9\" >norm_cost_airlines</th>\n",
       "      <th class=\"col_heading level0 col10\" >norm_cost_airlines_by_type</th>\n",
       "      <th class=\"col_heading level0 col11\" >number_places_2</th>\n",
       "      <th class=\"col_heading level0 col12\" >meals_score_2</th>\n",
       "    </tr>\n",
       "  </thead>\n",
       "  <tbody>\n",
       "    <tr>\n",
       "      <th id=\"T_cfea4_level0_row0\" class=\"row_heading level0 row0\" >flight_stops</th>\n",
       "      <td id=\"T_cfea4_row0_col0\" class=\"data row0 col0\" >1.000000</td>\n",
       "      <td id=\"T_cfea4_row0_col1\" class=\"data row0 col1\" >-0.285133</td>\n",
       "      <td id=\"T_cfea4_row0_col2\" class=\"data row0 col2\" >-0.215467</td>\n",
       "      <td id=\"T_cfea4_row0_col3\" class=\"data row0 col3\" >-0.161397</td>\n",
       "      <td id=\"T_cfea4_row0_col4\" class=\"data row0 col4\" >0.010691</td>\n",
       "      <td id=\"T_cfea4_row0_col5\" class=\"data row0 col5\" >-0.006261</td>\n",
       "      <td id=\"T_cfea4_row0_col6\" class=\"data row0 col6\" >-0.938532</td>\n",
       "      <td id=\"T_cfea4_row0_col7\" class=\"data row0 col7\" >-0.013795</td>\n",
       "      <td id=\"T_cfea4_row0_col8\" class=\"data row0 col8\" >0.091101</td>\n",
       "      <td id=\"T_cfea4_row0_col9\" class=\"data row0 col9\" >0.089422</td>\n",
       "      <td id=\"T_cfea4_row0_col10\" class=\"data row0 col10\" >-0.218540</td>\n",
       "      <td id=\"T_cfea4_row0_col11\" class=\"data row0 col11\" >0.010249</td>\n",
       "      <td id=\"T_cfea4_row0_col12\" class=\"data row0 col12\" >-0.888504</td>\n",
       "    </tr>\n",
       "    <tr>\n",
       "      <th id=\"T_cfea4_level0_row1\" class=\"row_heading level0 row1\" >ppprice</th>\n",
       "      <td id=\"T_cfea4_row1_col0\" class=\"data row1 col0\" >-0.285133</td>\n",
       "      <td id=\"T_cfea4_row1_col1\" class=\"data row1 col1\" >1.000000</td>\n",
       "      <td id=\"T_cfea4_row1_col2\" class=\"data row1 col2\" >0.247879</td>\n",
       "      <td id=\"T_cfea4_row1_col3\" class=\"data row1 col3\" >0.269723</td>\n",
       "      <td id=\"T_cfea4_row1_col4\" class=\"data row1 col4\" >0.262896</td>\n",
       "      <td id=\"T_cfea4_row1_col5\" class=\"data row1 col5\" >-0.254819</td>\n",
       "      <td id=\"T_cfea4_row1_col6\" class=\"data row1 col6\" >0.262534</td>\n",
       "      <td id=\"T_cfea4_row1_col7\" class=\"data row1 col7\" >0.509138</td>\n",
       "      <td id=\"T_cfea4_row1_col8\" class=\"data row1 col8\" >0.300347</td>\n",
       "      <td id=\"T_cfea4_row1_col9\" class=\"data row1 col9\" >0.296516</td>\n",
       "      <td id=\"T_cfea4_row1_col10\" class=\"data row1 col10\" >0.337948</td>\n",
       "      <td id=\"T_cfea4_row1_col11\" class=\"data row1 col11\" >0.299242</td>\n",
       "      <td id=\"T_cfea4_row1_col12\" class=\"data row1 col12\" >0.254621</td>\n",
       "    </tr>\n",
       "    <tr>\n",
       "      <th id=\"T_cfea4_level0_row2\" class=\"row_heading level0 row2\" >spa</th>\n",
       "      <td id=\"T_cfea4_row2_col0\" class=\"data row2 col0\" >-0.215467</td>\n",
       "      <td id=\"T_cfea4_row2_col1\" class=\"data row2 col1\" >0.247879</td>\n",
       "      <td id=\"T_cfea4_row2_col2\" class=\"data row2 col2\" >1.000000</td>\n",
       "      <td id=\"T_cfea4_row2_col3\" class=\"data row2 col3\" >0.877050</td>\n",
       "      <td id=\"T_cfea4_row2_col4\" class=\"data row2 col4\" >0.133555</td>\n",
       "      <td id=\"T_cfea4_row2_col5\" class=\"data row2 col5\" >-0.100054</td>\n",
       "      <td id=\"T_cfea4_row2_col6\" class=\"data row2 col6\" >0.195538</td>\n",
       "      <td id=\"T_cfea4_row2_col7\" class=\"data row2 col7\" >0.178803</td>\n",
       "      <td id=\"T_cfea4_row2_col8\" class=\"data row2 col8\" >0.010647</td>\n",
       "      <td id=\"T_cfea4_row2_col9\" class=\"data row2 col9\" >-0.007930</td>\n",
       "      <td id=\"T_cfea4_row2_col10\" class=\"data row2 col10\" >0.053072</td>\n",
       "      <td id=\"T_cfea4_row2_col11\" class=\"data row2 col11\" >0.157928</td>\n",
       "      <td id=\"T_cfea4_row2_col12\" class=\"data row2 col12\" >0.185505</td>\n",
       "    </tr>\n",
       "    <tr>\n",
       "      <th id=\"T_cfea4_level0_row3\" class=\"row_heading level0 row3\" >nights_with_spa</th>\n",
       "      <td id=\"T_cfea4_row3_col0\" class=\"data row3 col0\" >-0.161397</td>\n",
       "      <td id=\"T_cfea4_row3_col1\" class=\"data row3 col1\" >0.269723</td>\n",
       "      <td id=\"T_cfea4_row3_col2\" class=\"data row3 col2\" >0.877050</td>\n",
       "      <td id=\"T_cfea4_row3_col3\" class=\"data row3 col3\" >1.000000</td>\n",
       "      <td id=\"T_cfea4_row3_col4\" class=\"data row3 col4\" >0.128225</td>\n",
       "      <td id=\"T_cfea4_row3_col5\" class=\"data row3 col5\" >-0.099574</td>\n",
       "      <td id=\"T_cfea4_row3_col6\" class=\"data row3 col6\" >0.142269</td>\n",
       "      <td id=\"T_cfea4_row3_col7\" class=\"data row3 col7\" >0.204384</td>\n",
       "      <td id=\"T_cfea4_row3_col8\" class=\"data row3 col8\" >0.003626</td>\n",
       "      <td id=\"T_cfea4_row3_col9\" class=\"data row3 col9\" >-0.016060</td>\n",
       "      <td id=\"T_cfea4_row3_col10\" class=\"data row3 col10\" >0.023989</td>\n",
       "      <td id=\"T_cfea4_row3_col11\" class=\"data row3 col11\" >0.100634</td>\n",
       "      <td id=\"T_cfea4_row3_col12\" class=\"data row3 col12\" >0.140315</td>\n",
       "    </tr>\n",
       "    <tr>\n",
       "      <th id=\"T_cfea4_level0_row4\" class=\"row_heading level0 row4\" >a</th>\n",
       "      <td id=\"T_cfea4_row4_col0\" class=\"data row4 col0\" >0.010691</td>\n",
       "      <td id=\"T_cfea4_row4_col1\" class=\"data row4 col1\" >0.262896</td>\n",
       "      <td id=\"T_cfea4_row4_col2\" class=\"data row4 col2\" >0.133555</td>\n",
       "      <td id=\"T_cfea4_row4_col3\" class=\"data row4 col3\" >0.128225</td>\n",
       "      <td id=\"T_cfea4_row4_col4\" class=\"data row4 col4\" >1.000000</td>\n",
       "      <td id=\"T_cfea4_row4_col5\" class=\"data row4 col5\" >-0.856353</td>\n",
       "      <td id=\"T_cfea4_row4_col6\" class=\"data row4 col6\" >0.000803</td>\n",
       "      <td id=\"T_cfea4_row4_col7\" class=\"data row4 col7\" >0.455396</td>\n",
       "      <td id=\"T_cfea4_row4_col8\" class=\"data row4 col8\" >0.144163</td>\n",
       "      <td id=\"T_cfea4_row4_col9\" class=\"data row4 col9\" >0.132774</td>\n",
       "      <td id=\"T_cfea4_row4_col10\" class=\"data row4 col10\" >0.129009</td>\n",
       "      <td id=\"T_cfea4_row4_col11\" class=\"data row4 col11\" >0.267231</td>\n",
       "      <td id=\"T_cfea4_row4_col12\" class=\"data row4 col12\" >-0.018526</td>\n",
       "    </tr>\n",
       "    <tr>\n",
       "      <th id=\"T_cfea4_level0_row5\" class=\"row_heading level0 row5\" >b</th>\n",
       "      <td id=\"T_cfea4_row5_col0\" class=\"data row5 col0\" >-0.006261</td>\n",
       "      <td id=\"T_cfea4_row5_col1\" class=\"data row5 col1\" >-0.254819</td>\n",
       "      <td id=\"T_cfea4_row5_col2\" class=\"data row5 col2\" >-0.100054</td>\n",
       "      <td id=\"T_cfea4_row5_col3\" class=\"data row5 col3\" >-0.099574</td>\n",
       "      <td id=\"T_cfea4_row5_col4\" class=\"data row5 col4\" >-0.856353</td>\n",
       "      <td id=\"T_cfea4_row5_col5\" class=\"data row5 col5\" >1.000000</td>\n",
       "      <td id=\"T_cfea4_row5_col6\" class=\"data row5 col6\" >-0.007315</td>\n",
       "      <td id=\"T_cfea4_row5_col7\" class=\"data row5 col7\" >-0.490588</td>\n",
       "      <td id=\"T_cfea4_row5_col8\" class=\"data row5 col8\" >-0.150980</td>\n",
       "      <td id=\"T_cfea4_row5_col9\" class=\"data row5 col9\" >-0.141946</td>\n",
       "      <td id=\"T_cfea4_row5_col10\" class=\"data row5 col10\" >-0.140868</td>\n",
       "      <td id=\"T_cfea4_row5_col11\" class=\"data row5 col11\" >-0.288270</td>\n",
       "      <td id=\"T_cfea4_row5_col12\" class=\"data row5 col12\" >0.012966</td>\n",
       "    </tr>\n",
       "    <tr>\n",
       "      <th id=\"T_cfea4_level0_row6\" class=\"row_heading level0 row6\" >norm_meals_score</th>\n",
       "      <td id=\"T_cfea4_row6_col0\" class=\"data row6 col0\" >-0.938532</td>\n",
       "      <td id=\"T_cfea4_row6_col1\" class=\"data row6 col1\" >0.262534</td>\n",
       "      <td id=\"T_cfea4_row6_col2\" class=\"data row6 col2\" >0.195538</td>\n",
       "      <td id=\"T_cfea4_row6_col3\" class=\"data row6 col3\" >0.142269</td>\n",
       "      <td id=\"T_cfea4_row6_col4\" class=\"data row6 col4\" >0.000803</td>\n",
       "      <td id=\"T_cfea4_row6_col5\" class=\"data row6 col5\" >-0.007315</td>\n",
       "      <td id=\"T_cfea4_row6_col6\" class=\"data row6 col6\" >1.000000</td>\n",
       "      <td id=\"T_cfea4_row6_col7\" class=\"data row6 col7\" >0.031750</td>\n",
       "      <td id=\"T_cfea4_row6_col8\" class=\"data row6 col8\" >-0.095317</td>\n",
       "      <td id=\"T_cfea4_row6_col9\" class=\"data row6 col9\" >-0.092033</td>\n",
       "      <td id=\"T_cfea4_row6_col10\" class=\"data row6 col10\" >0.300002</td>\n",
       "      <td id=\"T_cfea4_row6_col11\" class=\"data row6 col11\" >-0.003163</td>\n",
       "      <td id=\"T_cfea4_row6_col12\" class=\"data row6 col12\" >0.944795</td>\n",
       "    </tr>\n",
       "    <tr>\n",
       "      <th id=\"T_cfea4_level0_row7\" class=\"row_heading level0 row7\" >norm_nights</th>\n",
       "      <td id=\"T_cfea4_row7_col0\" class=\"data row7 col0\" >-0.013795</td>\n",
       "      <td id=\"T_cfea4_row7_col1\" class=\"data row7 col1\" >0.509138</td>\n",
       "      <td id=\"T_cfea4_row7_col2\" class=\"data row7 col2\" >0.178803</td>\n",
       "      <td id=\"T_cfea4_row7_col3\" class=\"data row7 col3\" >0.204384</td>\n",
       "      <td id=\"T_cfea4_row7_col4\" class=\"data row7 col4\" >0.455396</td>\n",
       "      <td id=\"T_cfea4_row7_col5\" class=\"data row7 col5\" >-0.490588</td>\n",
       "      <td id=\"T_cfea4_row7_col6\" class=\"data row7 col6\" >0.031750</td>\n",
       "      <td id=\"T_cfea4_row7_col7\" class=\"data row7 col7\" >1.000000</td>\n",
       "      <td id=\"T_cfea4_row7_col8\" class=\"data row7 col8\" >0.254325</td>\n",
       "      <td id=\"T_cfea4_row7_col9\" class=\"data row7 col9\" >0.250103</td>\n",
       "      <td id=\"T_cfea4_row7_col10\" class=\"data row7 col10\" >0.247950</td>\n",
       "      <td id=\"T_cfea4_row7_col11\" class=\"data row7 col11\" >0.656511</td>\n",
       "      <td id=\"T_cfea4_row7_col12\" class=\"data row7 col12\" >0.004428</td>\n",
       "    </tr>\n",
       "    <tr>\n",
       "      <th id=\"T_cfea4_level0_row8\" class=\"row_heading level0 row8\" >norm_total_distance</th>\n",
       "      <td id=\"T_cfea4_row8_col0\" class=\"data row8 col0\" >0.091101</td>\n",
       "      <td id=\"T_cfea4_row8_col1\" class=\"data row8 col1\" >0.300347</td>\n",
       "      <td id=\"T_cfea4_row8_col2\" class=\"data row8 col2\" >0.010647</td>\n",
       "      <td id=\"T_cfea4_row8_col3\" class=\"data row8 col3\" >0.003626</td>\n",
       "      <td id=\"T_cfea4_row8_col4\" class=\"data row8 col4\" >0.144163</td>\n",
       "      <td id=\"T_cfea4_row8_col5\" class=\"data row8 col5\" >-0.150980</td>\n",
       "      <td id=\"T_cfea4_row8_col6\" class=\"data row8 col6\" >-0.095317</td>\n",
       "      <td id=\"T_cfea4_row8_col7\" class=\"data row8 col7\" >0.254325</td>\n",
       "      <td id=\"T_cfea4_row8_col8\" class=\"data row8 col8\" >1.000000</td>\n",
       "      <td id=\"T_cfea4_row8_col9\" class=\"data row8 col9\" >0.987733</td>\n",
       "      <td id=\"T_cfea4_row8_col10\" class=\"data row8 col10\" >0.887980</td>\n",
       "      <td id=\"T_cfea4_row8_col11\" class=\"data row8 col11\" >0.167548</td>\n",
       "      <td id=\"T_cfea4_row8_col12\" class=\"data row8 col12\" >-0.108539</td>\n",
       "    </tr>\n",
       "    <tr>\n",
       "      <th id=\"T_cfea4_level0_row9\" class=\"row_heading level0 row9\" >norm_cost_airlines</th>\n",
       "      <td id=\"T_cfea4_row9_col0\" class=\"data row9 col0\" >0.089422</td>\n",
       "      <td id=\"T_cfea4_row9_col1\" class=\"data row9 col1\" >0.296516</td>\n",
       "      <td id=\"T_cfea4_row9_col2\" class=\"data row9 col2\" >-0.007930</td>\n",
       "      <td id=\"T_cfea4_row9_col3\" class=\"data row9 col3\" >-0.016060</td>\n",
       "      <td id=\"T_cfea4_row9_col4\" class=\"data row9 col4\" >0.132774</td>\n",
       "      <td id=\"T_cfea4_row9_col5\" class=\"data row9 col5\" >-0.141946</td>\n",
       "      <td id=\"T_cfea4_row9_col6\" class=\"data row9 col6\" >-0.092033</td>\n",
       "      <td id=\"T_cfea4_row9_col7\" class=\"data row9 col7\" >0.250103</td>\n",
       "      <td id=\"T_cfea4_row9_col8\" class=\"data row9 col8\" >0.987733</td>\n",
       "      <td id=\"T_cfea4_row9_col9\" class=\"data row9 col9\" >1.000000</td>\n",
       "      <td id=\"T_cfea4_row9_col10\" class=\"data row9 col10\" >0.894275</td>\n",
       "      <td id=\"T_cfea4_row9_col11\" class=\"data row9 col11\" >0.162149</td>\n",
       "      <td id=\"T_cfea4_row9_col12\" class=\"data row9 col12\" >-0.104381</td>\n",
       "    </tr>\n",
       "    <tr>\n",
       "      <th id=\"T_cfea4_level0_row10\" class=\"row_heading level0 row10\" >norm_cost_airlines_by_type</th>\n",
       "      <td id=\"T_cfea4_row10_col0\" class=\"data row10 col0\" >-0.218540</td>\n",
       "      <td id=\"T_cfea4_row10_col1\" class=\"data row10 col1\" >0.337948</td>\n",
       "      <td id=\"T_cfea4_row10_col2\" class=\"data row10 col2\" >0.053072</td>\n",
       "      <td id=\"T_cfea4_row10_col3\" class=\"data row10 col3\" >0.023989</td>\n",
       "      <td id=\"T_cfea4_row10_col4\" class=\"data row10 col4\" >0.129009</td>\n",
       "      <td id=\"T_cfea4_row10_col5\" class=\"data row10 col5\" >-0.140868</td>\n",
       "      <td id=\"T_cfea4_row10_col6\" class=\"data row10 col6\" >0.300002</td>\n",
       "      <td id=\"T_cfea4_row10_col7\" class=\"data row10 col7\" >0.247950</td>\n",
       "      <td id=\"T_cfea4_row10_col8\" class=\"data row10 col8\" >0.887980</td>\n",
       "      <td id=\"T_cfea4_row10_col9\" class=\"data row10 col9\" >0.894275</td>\n",
       "      <td id=\"T_cfea4_row10_col10\" class=\"data row10 col10\" >1.000000</td>\n",
       "      <td id=\"T_cfea4_row10_col11\" class=\"data row10 col11\" >0.149972</td>\n",
       "      <td id=\"T_cfea4_row10_col12\" class=\"data row10 col12\" >0.249148</td>\n",
       "    </tr>\n",
       "    <tr>\n",
       "      <th id=\"T_cfea4_level0_row11\" class=\"row_heading level0 row11\" >number_places_2</th>\n",
       "      <td id=\"T_cfea4_row11_col0\" class=\"data row11 col0\" >0.010249</td>\n",
       "      <td id=\"T_cfea4_row11_col1\" class=\"data row11 col1\" >0.299242</td>\n",
       "      <td id=\"T_cfea4_row11_col2\" class=\"data row11 col2\" >0.157928</td>\n",
       "      <td id=\"T_cfea4_row11_col3\" class=\"data row11 col3\" >0.100634</td>\n",
       "      <td id=\"T_cfea4_row11_col4\" class=\"data row11 col4\" >0.267231</td>\n",
       "      <td id=\"T_cfea4_row11_col5\" class=\"data row11 col5\" >-0.288270</td>\n",
       "      <td id=\"T_cfea4_row11_col6\" class=\"data row11 col6\" >-0.003163</td>\n",
       "      <td id=\"T_cfea4_row11_col7\" class=\"data row11 col7\" >0.656511</td>\n",
       "      <td id=\"T_cfea4_row11_col8\" class=\"data row11 col8\" >0.167548</td>\n",
       "      <td id=\"T_cfea4_row11_col9\" class=\"data row11 col9\" >0.162149</td>\n",
       "      <td id=\"T_cfea4_row11_col10\" class=\"data row11 col10\" >0.149972</td>\n",
       "      <td id=\"T_cfea4_row11_col11\" class=\"data row11 col11\" >1.000000</td>\n",
       "      <td id=\"T_cfea4_row11_col12\" class=\"data row11 col12\" >-0.017272</td>\n",
       "    </tr>\n",
       "    <tr>\n",
       "      <th id=\"T_cfea4_level0_row12\" class=\"row_heading level0 row12\" >meals_score_2</th>\n",
       "      <td id=\"T_cfea4_row12_col0\" class=\"data row12 col0\" >-0.888504</td>\n",
       "      <td id=\"T_cfea4_row12_col1\" class=\"data row12 col1\" >0.254621</td>\n",
       "      <td id=\"T_cfea4_row12_col2\" class=\"data row12 col2\" >0.185505</td>\n",
       "      <td id=\"T_cfea4_row12_col3\" class=\"data row12 col3\" >0.140315</td>\n",
       "      <td id=\"T_cfea4_row12_col4\" class=\"data row12 col4\" >-0.018526</td>\n",
       "      <td id=\"T_cfea4_row12_col5\" class=\"data row12 col5\" >0.012966</td>\n",
       "      <td id=\"T_cfea4_row12_col6\" class=\"data row12 col6\" >0.944795</td>\n",
       "      <td id=\"T_cfea4_row12_col7\" class=\"data row12 col7\" >0.004428</td>\n",
       "      <td id=\"T_cfea4_row12_col8\" class=\"data row12 col8\" >-0.108539</td>\n",
       "      <td id=\"T_cfea4_row12_col9\" class=\"data row12 col9\" >-0.104381</td>\n",
       "      <td id=\"T_cfea4_row12_col10\" class=\"data row12 col10\" >0.249148</td>\n",
       "      <td id=\"T_cfea4_row12_col11\" class=\"data row12 col11\" >-0.017272</td>\n",
       "      <td id=\"T_cfea4_row12_col12\" class=\"data row12 col12\" >1.000000</td>\n",
       "    </tr>\n",
       "  </tbody>\n",
       "</table>\n"
      ],
      "text/plain": [
       "<pandas.io.formats.style.Styler at 0x26cf1f71e80>"
      ]
     },
     "execution_count": 59,
     "metadata": {},
     "output_type": "execute_result"
    }
   ],
   "source": [
    "matrix_corr = train_high_corr.corr()\n",
    "matrix_corr.style.background_gradient(cmap='coolwarm')"
   ]
  },
  {
   "cell_type": "markdown",
   "metadata": {},
   "source": [
    "Se eliminan aquellas variables que introduzcan multicolinearidad al modelo (dado los supuestos de la regresión lineal)"
   ]
  },
  {
   "cell_type": "code",
   "execution_count": 60,
   "metadata": {},
   "outputs": [
    {
     "name": "stdout",
     "output_type": "stream",
     "text": [
      "['flight_stops' 'ppprice' 'spa' 'nights_with_spa' 'a' 'b'\n",
      " 'norm_meals_score' 'norm_nights' 'norm_total_distance'\n",
      " 'norm_cost_airlines' 'norm_cost_airlines_by_type' 'number_places_2'\n",
      " 'meals_score_2']\n"
     ]
    },
    {
     "data": {
      "text/html": [
       "<div>\n",
       "<style scoped>\n",
       "    .dataframe tbody tr th:only-of-type {\n",
       "        vertical-align: middle;\n",
       "    }\n",
       "\n",
       "    .dataframe tbody tr th {\n",
       "        vertical-align: top;\n",
       "    }\n",
       "\n",
       "    .dataframe thead th {\n",
       "        text-align: right;\n",
       "    }\n",
       "</style>\n",
       "<table border=\"1\" class=\"dataframe\">\n",
       "  <thead>\n",
       "    <tr style=\"text-align: right;\">\n",
       "      <th></th>\n",
       "      <th>flight_stops</th>\n",
       "      <th>ppprice</th>\n",
       "      <th>spa</th>\n",
       "      <th>nights_with_spa</th>\n",
       "      <th>a</th>\n",
       "      <th>b</th>\n",
       "      <th>norm_meals_score</th>\n",
       "      <th>norm_nights</th>\n",
       "      <th>norm_total_distance</th>\n",
       "      <th>norm_cost_airlines</th>\n",
       "      <th>norm_cost_airlines_by_type</th>\n",
       "      <th>number_places_2</th>\n",
       "      <th>meals_score_2</th>\n",
       "    </tr>\n",
       "  </thead>\n",
       "  <tbody>\n",
       "    <tr>\n",
       "      <th>0</th>\n",
       "      <td>1</td>\n",
       "      <td>284.0</td>\n",
       "      <td>1</td>\n",
       "      <td>1.0</td>\n",
       "      <td>1</td>\n",
       "      <td>0</td>\n",
       "      <td>3.464102</td>\n",
       "      <td>1.415525</td>\n",
       "      <td>11.418240</td>\n",
       "      <td>16.386941</td>\n",
       "      <td>13.965649</td>\n",
       "      <td>9</td>\n",
       "      <td>144</td>\n",
       "    </tr>\n",
       "    <tr>\n",
       "      <th>1</th>\n",
       "      <td>2</td>\n",
       "      <td>129.0</td>\n",
       "      <td>0</td>\n",
       "      <td>0.0</td>\n",
       "      <td>1</td>\n",
       "      <td>0</td>\n",
       "      <td>1.414214</td>\n",
       "      <td>0.700404</td>\n",
       "      <td>11.367295</td>\n",
       "      <td>16.238549</td>\n",
       "      <td>10.025115</td>\n",
       "      <td>1</td>\n",
       "      <td>4</td>\n",
       "    </tr>\n",
       "    <tr>\n",
       "      <th>2</th>\n",
       "      <td>0</td>\n",
       "      <td>311.0</td>\n",
       "      <td>1</td>\n",
       "      <td>2.0</td>\n",
       "      <td>1</td>\n",
       "      <td>0</td>\n",
       "      <td>3.872983</td>\n",
       "      <td>1.415525</td>\n",
       "      <td>10.119394</td>\n",
       "      <td>12.150689</td>\n",
       "      <td>10.723336</td>\n",
       "      <td>4</td>\n",
       "      <td>225</td>\n",
       "    </tr>\n",
       "    <tr>\n",
       "      <th>3</th>\n",
       "      <td>0</td>\n",
       "      <td>517.0</td>\n",
       "      <td>1</td>\n",
       "      <td>2.0</td>\n",
       "      <td>1</td>\n",
       "      <td>0</td>\n",
       "      <td>3.872983</td>\n",
       "      <td>1.648925</td>\n",
       "      <td>13.198658</td>\n",
       "      <td>22.088731</td>\n",
       "      <td>15.941844</td>\n",
       "      <td>4</td>\n",
       "      <td>225</td>\n",
       "    </tr>\n",
       "    <tr>\n",
       "      <th>4</th>\n",
       "      <td>1</td>\n",
       "      <td>336.0</td>\n",
       "      <td>0</td>\n",
       "      <td>0.0</td>\n",
       "      <td>1</td>\n",
       "      <td>0</td>\n",
       "      <td>3.464102</td>\n",
       "      <td>1.648925</td>\n",
       "      <td>11.368946</td>\n",
       "      <td>15.836422</td>\n",
       "      <td>13.658790</td>\n",
       "      <td>9</td>\n",
       "      <td>144</td>\n",
       "    </tr>\n",
       "  </tbody>\n",
       "</table>\n",
       "</div>"
      ],
      "text/plain": [
       "   flight_stops  ppprice  spa  nights_with_spa  a  b  norm_meals_score  \\\n",
       "0             1    284.0    1              1.0  1  0          3.464102   \n",
       "1             2    129.0    0              0.0  1  0          1.414214   \n",
       "2             0    311.0    1              2.0  1  0          3.872983   \n",
       "3             0    517.0    1              2.0  1  0          3.872983   \n",
       "4             1    336.0    0              0.0  1  0          3.464102   \n",
       "\n",
       "   norm_nights  norm_total_distance  norm_cost_airlines  \\\n",
       "0     1.415525            11.418240           16.386941   \n",
       "1     0.700404            11.367295           16.238549   \n",
       "2     1.415525            10.119394           12.150689   \n",
       "3     1.648925            13.198658           22.088731   \n",
       "4     1.648925            11.368946           15.836422   \n",
       "\n",
       "   norm_cost_airlines_by_type  number_places_2  meals_score_2  \n",
       "0                   13.965649                9            144  \n",
       "1                   10.025115                1              4  \n",
       "2                   10.723336                4            225  \n",
       "3                   15.941844                4            225  \n",
       "4                   13.658790                9            144  "
      ]
     },
     "execution_count": 60,
     "metadata": {},
     "output_type": "execute_result"
    }
   ],
   "source": [
    "non_multicol = high_corr\n",
    "#remover = ['norm_cost_airlines','norm_total_distance','b','flight_stops']#probar añadir a la lista\n",
    "remover = []\n",
    "for deleted in remover:\n",
    "  non_multicol = np.delete(non_multicol,np.where(non_multicol == deleted))\n",
    "print(non_multicol)\n",
    "train_non_multicol = train[non_multicol]\n",
    "train_non_multicol.head()"
   ]
  },
  {
   "cell_type": "code",
   "execution_count": 61,
   "metadata": {},
   "outputs": [
    {
     "data": {
      "text/html": [
       "<style type=\"text/css\">\n",
       "#T_f7f8c_row0_col0, #T_f7f8c_row1_col1, #T_f7f8c_row2_col2, #T_f7f8c_row3_col3, #T_f7f8c_row4_col4, #T_f7f8c_row5_col5, #T_f7f8c_row6_col6, #T_f7f8c_row7_col7, #T_f7f8c_row8_col8, #T_f7f8c_row9_col9, #T_f7f8c_row10_col10, #T_f7f8c_row11_col11, #T_f7f8c_row12_col12 {\n",
       "  background-color: #b40426;\n",
       "  color: #f1f1f1;\n",
       "}\n",
       "#T_f7f8c_row0_col1, #T_f7f8c_row0_col2, #T_f7f8c_row0_col3, #T_f7f8c_row0_col6, #T_f7f8c_row0_col10, #T_f7f8c_row0_col12, #T_f7f8c_row4_col5, #T_f7f8c_row5_col4, #T_f7f8c_row5_col7, #T_f7f8c_row5_col8, #T_f7f8c_row5_col9, #T_f7f8c_row5_col11, #T_f7f8c_row6_col0 {\n",
       "  background-color: #3b4cc0;\n",
       "  color: #f1f1f1;\n",
       "}\n",
       "#T_f7f8c_row0_col4, #T_f7f8c_row3_col7, #T_f7f8c_row12_col5 {\n",
       "  background-color: #d4dbe6;\n",
       "  color: #000000;\n",
       "}\n",
       "#T_f7f8c_row0_col5, #T_f7f8c_row4_col12, #T_f7f8c_row6_col5 {\n",
       "  background-color: #d2dbe8;\n",
       "  color: #000000;\n",
       "}\n",
       "#T_f7f8c_row0_col7 {\n",
       "  background-color: #a5c3fe;\n",
       "  color: #000000;\n",
       "}\n",
       "#T_f7f8c_row0_col8, #T_f7f8c_row12_col11 {\n",
       "  background-color: #7ea1fa;\n",
       "  color: #f1f1f1;\n",
       "}\n",
       "#T_f7f8c_row0_col9 {\n",
       "  background-color: #7b9ff9;\n",
       "  color: #f1f1f1;\n",
       "}\n",
       "#T_f7f8c_row0_col11 {\n",
       "  background-color: #86a9fc;\n",
       "  color: #f1f1f1;\n",
       "}\n",
       "#T_f7f8c_row1_col0, #T_f7f8c_row6_col2 {\n",
       "  background-color: #abc8fd;\n",
       "  color: #000000;\n",
       "}\n",
       "#T_f7f8c_row1_col2, #T_f7f8c_row8_col5 {\n",
       "  background-color: #bad0f8;\n",
       "  color: #000000;\n",
       "}\n",
       "#T_f7f8c_row1_col3, #T_f7f8c_row2_col0, #T_f7f8c_row10_col0 {\n",
       "  background-color: #b7cff9;\n",
       "  color: #000000;\n",
       "}\n",
       "#T_f7f8c_row1_col4, #T_f7f8c_row1_col12, #T_f7f8c_row10_col12, #T_f7f8c_row11_col4 {\n",
       "  background-color: #f2cab5;\n",
       "  color: #000000;\n",
       "}\n",
       "#T_f7f8c_row1_col5 {\n",
       "  background-color: #a6c4fe;\n",
       "  color: #000000;\n",
       "}\n",
       "#T_f7f8c_row1_col6, #T_f7f8c_row7_col1 {\n",
       "  background-color: #f4c6af;\n",
       "  color: #000000;\n",
       "}\n",
       "#T_f7f8c_row1_col7 {\n",
       "  background-color: #f7b79b;\n",
       "  color: #000000;\n",
       "}\n",
       "#T_f7f8c_row1_col8 {\n",
       "  background-color: #bed2f6;\n",
       "  color: #000000;\n",
       "}\n",
       "#T_f7f8c_row1_col9, #T_f7f8c_row7_col10, #T_f7f8c_row9_col5, #T_f7f8c_row10_col5, #T_f7f8c_row12_col10 {\n",
       "  background-color: #bbd1f8;\n",
       "  color: #000000;\n",
       "}\n",
       "#T_f7f8c_row1_col10, #T_f7f8c_row1_col11, #T_f7f8c_row8_col1, #T_f7f8c_row11_col1 {\n",
       "  background-color: #d1dae9;\n",
       "  color: #000000;\n",
       "}\n",
       "#T_f7f8c_row2_col1, #T_f7f8c_row9_col12 {\n",
       "  background-color: #c5d6f2;\n",
       "  color: #000000;\n",
       "}\n",
       "#T_f7f8c_row2_col3 {\n",
       "  background-color: #d85646;\n",
       "  color: #f1f1f1;\n",
       "}\n",
       "#T_f7f8c_row2_col4, #T_f7f8c_row9_col4 {\n",
       "  background-color: #e5d8d1;\n",
       "  color: #000000;\n",
       "}\n",
       "#T_f7f8c_row2_col5, #T_f7f8c_row3_col5 {\n",
       "  background-color: #c3d5f4;\n",
       "  color: #000000;\n",
       "}\n",
       "#T_f7f8c_row2_col6 {\n",
       "  background-color: #efcebd;\n",
       "  color: #000000;\n",
       "}\n",
       "#T_f7f8c_row2_col7 {\n",
       "  background-color: #cedaeb;\n",
       "  color: #000000;\n",
       "}\n",
       "#T_f7f8c_row2_col8 {\n",
       "  background-color: #6687ed;\n",
       "  color: #f1f1f1;\n",
       "}\n",
       "#T_f7f8c_row2_col9 {\n",
       "  background-color: #5f7fe8;\n",
       "  color: #f1f1f1;\n",
       "}\n",
       "#T_f7f8c_row2_col10, #T_f7f8c_row11_col3 {\n",
       "  background-color: #84a7fc;\n",
       "  color: #f1f1f1;\n",
       "}\n",
       "#T_f7f8c_row2_col11 {\n",
       "  background-color: #aec9fc;\n",
       "  color: #000000;\n",
       "}\n",
       "#T_f7f8c_row2_col12 {\n",
       "  background-color: #edd2c3;\n",
       "  color: #000000;\n",
       "}\n",
       "#T_f7f8c_row3_col0 {\n",
       "  background-color: #c0d4f5;\n",
       "  color: #000000;\n",
       "}\n",
       "#T_f7f8c_row3_col1, #T_f7f8c_row4_col11 {\n",
       "  background-color: #cad8ef;\n",
       "  color: #000000;\n",
       "}\n",
       "#T_f7f8c_row3_col2 {\n",
       "  background-color: #d65244;\n",
       "  color: #f1f1f1;\n",
       "}\n",
       "#T_f7f8c_row3_col4, #T_f7f8c_row8_col0, #T_f7f8c_row9_col0, #T_f7f8c_row10_col4 {\n",
       "  background-color: #e4d9d2;\n",
       "  color: #000000;\n",
       "}\n",
       "#T_f7f8c_row3_col6 {\n",
       "  background-color: #ead4c8;\n",
       "  color: #000000;\n",
       "}\n",
       "#T_f7f8c_row3_col8 {\n",
       "  background-color: #6485ec;\n",
       "  color: #f1f1f1;\n",
       "}\n",
       "#T_f7f8c_row3_col9 {\n",
       "  background-color: #5d7ce6;\n",
       "  color: #f1f1f1;\n",
       "}\n",
       "#T_f7f8c_row3_col10, #T_f7f8c_row7_col5 {\n",
       "  background-color: #7a9df8;\n",
       "  color: #f1f1f1;\n",
       "}\n",
       "#T_f7f8c_row3_col11, #T_f7f8c_row11_col10 {\n",
       "  background-color: #9fbfff;\n",
       "  color: #000000;\n",
       "}\n",
       "#T_f7f8c_row3_col12 {\n",
       "  background-color: #e8d6cc;\n",
       "  color: #000000;\n",
       "}\n",
       "#T_f7f8c_row4_col0, #T_f7f8c_row11_col0 {\n",
       "  background-color: #dadce0;\n",
       "  color: #000000;\n",
       "}\n",
       "#T_f7f8c_row4_col1, #T_f7f8c_row6_col1 {\n",
       "  background-color: #c9d7f0;\n",
       "  color: #000000;\n",
       "}\n",
       "#T_f7f8c_row4_col2, #T_f7f8c_row4_col10 {\n",
       "  background-color: #9abbff;\n",
       "  color: #000000;\n",
       "}\n",
       "#T_f7f8c_row4_col3 {\n",
       "  background-color: #8caffe;\n",
       "  color: #000000;\n",
       "}\n",
       "#T_f7f8c_row4_col6, #T_f7f8c_row10_col1 {\n",
       "  background-color: #d9dce1;\n",
       "  color: #000000;\n",
       "}\n",
       "#T_f7f8c_row4_col7 {\n",
       "  background-color: #f5c1a9;\n",
       "  color: #000000;\n",
       "}\n",
       "#T_f7f8c_row4_col8 {\n",
       "  background-color: #8fb1fe;\n",
       "  color: #000000;\n",
       "}\n",
       "#T_f7f8c_row4_col9 {\n",
       "  background-color: #89acfd;\n",
       "  color: #000000;\n",
       "}\n",
       "#T_f7f8c_row5_col0, #T_f7f8c_row11_col6 {\n",
       "  background-color: #d8dce2;\n",
       "  color: #000000;\n",
       "}\n",
       "#T_f7f8c_row5_col1, #T_f7f8c_row12_col0 {\n",
       "  background-color: #4257c9;\n",
       "  color: #f1f1f1;\n",
       "}\n",
       "#T_f7f8c_row5_col2 {\n",
       "  background-color: #5875e1;\n",
       "  color: #f1f1f1;\n",
       "}\n",
       "#T_f7f8c_row5_col3 {\n",
       "  background-color: #4a63d3;\n",
       "  color: #f1f1f1;\n",
       "}\n",
       "#T_f7f8c_row5_col6, #T_f7f8c_row5_col12, #T_f7f8c_row7_col0 {\n",
       "  background-color: #d7dce3;\n",
       "  color: #000000;\n",
       "}\n",
       "#T_f7f8c_row5_col10 {\n",
       "  background-color: #4e68d8;\n",
       "  color: #f1f1f1;\n",
       "}\n",
       "#T_f7f8c_row6_col3, #T_f7f8c_row12_col3 {\n",
       "  background-color: #90b2fe;\n",
       "  color: #000000;\n",
       "}\n",
       "#T_f7f8c_row6_col4, #T_f7f8c_row11_col12 {\n",
       "  background-color: #d3dbe7;\n",
       "  color: #000000;\n",
       "}\n",
       "#T_f7f8c_row6_col7, #T_f7f8c_row9_col11 {\n",
       "  background-color: #afcafc;\n",
       "  color: #000000;\n",
       "}\n",
       "#T_f7f8c_row6_col8 {\n",
       "  background-color: #4961d2;\n",
       "  color: #f1f1f1;\n",
       "}\n",
       "#T_f7f8c_row6_col9 {\n",
       "  background-color: #485fd1;\n",
       "  color: #f1f1f1;\n",
       "}\n",
       "#T_f7f8c_row6_col10 {\n",
       "  background-color: #c7d7f0;\n",
       "  color: #000000;\n",
       "}\n",
       "#T_f7f8c_row6_col11, #T_f7f8c_row10_col2 {\n",
       "  background-color: #82a6fb;\n",
       "  color: #f1f1f1;\n",
       "}\n",
       "#T_f7f8c_row6_col12, #T_f7f8c_row12_col6 {\n",
       "  background-color: #be242e;\n",
       "  color: #f1f1f1;\n",
       "}\n",
       "#T_f7f8c_row7_col2 {\n",
       "  background-color: #a7c5fe;\n",
       "  color: #000000;\n",
       "}\n",
       "#T_f7f8c_row7_col3 {\n",
       "  background-color: #a3c2fe;\n",
       "  color: #000000;\n",
       "}\n",
       "#T_f7f8c_row7_col4 {\n",
       "  background-color: #f7aa8c;\n",
       "  color: #000000;\n",
       "}\n",
       "#T_f7f8c_row7_col6 {\n",
       "  background-color: #dddcdc;\n",
       "  color: #000000;\n",
       "}\n",
       "#T_f7f8c_row7_col8, #T_f7f8c_row8_col11 {\n",
       "  background-color: #b1cbfc;\n",
       "  color: #000000;\n",
       "}\n",
       "#T_f7f8c_row7_col9, #T_f7f8c_row10_col11 {\n",
       "  background-color: #adc9fd;\n",
       "  color: #000000;\n",
       "}\n",
       "#T_f7f8c_row7_col11 {\n",
       "  background-color: #f5a081;\n",
       "  color: #000000;\n",
       "}\n",
       "#T_f7f8c_row7_col12 {\n",
       "  background-color: #d6dce4;\n",
       "  color: #000000;\n",
       "}\n",
       "#T_f7f8c_row8_col2 {\n",
       "  background-color: #7699f6;\n",
       "  color: #f1f1f1;\n",
       "}\n",
       "#T_f7f8c_row8_col3 {\n",
       "  background-color: #6788ee;\n",
       "  color: #f1f1f1;\n",
       "}\n",
       "#T_f7f8c_row8_col4 {\n",
       "  background-color: #e6d7cf;\n",
       "  color: #000000;\n",
       "}\n",
       "#T_f7f8c_row8_col6, #T_f7f8c_row9_col6 {\n",
       "  background-color: #cbd8ee;\n",
       "  color: #000000;\n",
       "}\n",
       "#T_f7f8c_row8_col7, #T_f7f8c_row9_col7 {\n",
       "  background-color: #dcdddd;\n",
       "  color: #000000;\n",
       "}\n",
       "#T_f7f8c_row8_col9, #T_f7f8c_row9_col8 {\n",
       "  background-color: #b70d28;\n",
       "  color: #f1f1f1;\n",
       "}\n",
       "#T_f7f8c_row8_col10, #T_f7f8c_row10_col9 {\n",
       "  background-color: #d44e41;\n",
       "  color: #f1f1f1;\n",
       "}\n",
       "#T_f7f8c_row8_col12 {\n",
       "  background-color: #c4d5f3;\n",
       "  color: #000000;\n",
       "}\n",
       "#T_f7f8c_row9_col1, #T_f7f8c_row12_col4 {\n",
       "  background-color: #cfdaea;\n",
       "  color: #000000;\n",
       "}\n",
       "#T_f7f8c_row9_col2 {\n",
       "  background-color: #7093f3;\n",
       "  color: #f1f1f1;\n",
       "}\n",
       "#T_f7f8c_row9_col3 {\n",
       "  background-color: #6282ea;\n",
       "  color: #f1f1f1;\n",
       "}\n",
       "#T_f7f8c_row9_col10 {\n",
       "  background-color: #d24b40;\n",
       "  color: #f1f1f1;\n",
       "}\n",
       "#T_f7f8c_row10_col3 {\n",
       "  background-color: #6c8ff1;\n",
       "  color: #f1f1f1;\n",
       "}\n",
       "#T_f7f8c_row10_col6 {\n",
       "  background-color: #f5c0a7;\n",
       "  color: #000000;\n",
       "}\n",
       "#T_f7f8c_row10_col7 {\n",
       "  background-color: #dbdcde;\n",
       "  color: #000000;\n",
       "}\n",
       "#T_f7f8c_row10_col8 {\n",
       "  background-color: #d55042;\n",
       "  color: #f1f1f1;\n",
       "}\n",
       "#T_f7f8c_row11_col2, #T_f7f8c_row11_col5 {\n",
       "  background-color: #a1c0ff;\n",
       "  color: #000000;\n",
       "}\n",
       "#T_f7f8c_row11_col7 {\n",
       "  background-color: #f29072;\n",
       "  color: #f1f1f1;\n",
       "}\n",
       "#T_f7f8c_row11_col8 {\n",
       "  background-color: #96b7ff;\n",
       "  color: #000000;\n",
       "}\n",
       "#T_f7f8c_row11_col9 {\n",
       "  background-color: #93b5fe;\n",
       "  color: #000000;\n",
       "}\n",
       "#T_f7f8c_row12_col1 {\n",
       "  background-color: #c6d6f1;\n",
       "  color: #000000;\n",
       "}\n",
       "#T_f7f8c_row12_col2 {\n",
       "  background-color: #a9c6fd;\n",
       "  color: #000000;\n",
       "}\n",
       "#T_f7f8c_row12_col7 {\n",
       "  background-color: #aac7fd;\n",
       "  color: #000000;\n",
       "}\n",
       "#T_f7f8c_row12_col8 {\n",
       "  background-color: #455cce;\n",
       "  color: #f1f1f1;\n",
       "}\n",
       "#T_f7f8c_row12_col9 {\n",
       "  background-color: #445acc;\n",
       "  color: #f1f1f1;\n",
       "}\n",
       "</style>\n",
       "<table id=\"T_f7f8c_\">\n",
       "  <thead>\n",
       "    <tr>\n",
       "      <th class=\"blank level0\" >&nbsp;</th>\n",
       "      <th class=\"col_heading level0 col0\" >flight_stops</th>\n",
       "      <th class=\"col_heading level0 col1\" >ppprice</th>\n",
       "      <th class=\"col_heading level0 col2\" >spa</th>\n",
       "      <th class=\"col_heading level0 col3\" >nights_with_spa</th>\n",
       "      <th class=\"col_heading level0 col4\" >a</th>\n",
       "      <th class=\"col_heading level0 col5\" >b</th>\n",
       "      <th class=\"col_heading level0 col6\" >norm_meals_score</th>\n",
       "      <th class=\"col_heading level0 col7\" >norm_nights</th>\n",
       "      <th class=\"col_heading level0 col8\" >norm_total_distance</th>\n",
       "      <th class=\"col_heading level0 col9\" >norm_cost_airlines</th>\n",
       "      <th class=\"col_heading level0 col10\" >norm_cost_airlines_by_type</th>\n",
       "      <th class=\"col_heading level0 col11\" >number_places_2</th>\n",
       "      <th class=\"col_heading level0 col12\" >meals_score_2</th>\n",
       "    </tr>\n",
       "  </thead>\n",
       "  <tbody>\n",
       "    <tr>\n",
       "      <th id=\"T_f7f8c_level0_row0\" class=\"row_heading level0 row0\" >flight_stops</th>\n",
       "      <td id=\"T_f7f8c_row0_col0\" class=\"data row0 col0\" >1.000000</td>\n",
       "      <td id=\"T_f7f8c_row0_col1\" class=\"data row0 col1\" >-0.285133</td>\n",
       "      <td id=\"T_f7f8c_row0_col2\" class=\"data row0 col2\" >-0.215467</td>\n",
       "      <td id=\"T_f7f8c_row0_col3\" class=\"data row0 col3\" >-0.161397</td>\n",
       "      <td id=\"T_f7f8c_row0_col4\" class=\"data row0 col4\" >0.010691</td>\n",
       "      <td id=\"T_f7f8c_row0_col5\" class=\"data row0 col5\" >-0.006261</td>\n",
       "      <td id=\"T_f7f8c_row0_col6\" class=\"data row0 col6\" >-0.938532</td>\n",
       "      <td id=\"T_f7f8c_row0_col7\" class=\"data row0 col7\" >-0.013795</td>\n",
       "      <td id=\"T_f7f8c_row0_col8\" class=\"data row0 col8\" >0.091101</td>\n",
       "      <td id=\"T_f7f8c_row0_col9\" class=\"data row0 col9\" >0.089422</td>\n",
       "      <td id=\"T_f7f8c_row0_col10\" class=\"data row0 col10\" >-0.218540</td>\n",
       "      <td id=\"T_f7f8c_row0_col11\" class=\"data row0 col11\" >0.010249</td>\n",
       "      <td id=\"T_f7f8c_row0_col12\" class=\"data row0 col12\" >-0.888504</td>\n",
       "    </tr>\n",
       "    <tr>\n",
       "      <th id=\"T_f7f8c_level0_row1\" class=\"row_heading level0 row1\" >ppprice</th>\n",
       "      <td id=\"T_f7f8c_row1_col0\" class=\"data row1 col0\" >-0.285133</td>\n",
       "      <td id=\"T_f7f8c_row1_col1\" class=\"data row1 col1\" >1.000000</td>\n",
       "      <td id=\"T_f7f8c_row1_col2\" class=\"data row1 col2\" >0.247879</td>\n",
       "      <td id=\"T_f7f8c_row1_col3\" class=\"data row1 col3\" >0.269723</td>\n",
       "      <td id=\"T_f7f8c_row1_col4\" class=\"data row1 col4\" >0.262896</td>\n",
       "      <td id=\"T_f7f8c_row1_col5\" class=\"data row1 col5\" >-0.254819</td>\n",
       "      <td id=\"T_f7f8c_row1_col6\" class=\"data row1 col6\" >0.262534</td>\n",
       "      <td id=\"T_f7f8c_row1_col7\" class=\"data row1 col7\" >0.509138</td>\n",
       "      <td id=\"T_f7f8c_row1_col8\" class=\"data row1 col8\" >0.300347</td>\n",
       "      <td id=\"T_f7f8c_row1_col9\" class=\"data row1 col9\" >0.296516</td>\n",
       "      <td id=\"T_f7f8c_row1_col10\" class=\"data row1 col10\" >0.337948</td>\n",
       "      <td id=\"T_f7f8c_row1_col11\" class=\"data row1 col11\" >0.299242</td>\n",
       "      <td id=\"T_f7f8c_row1_col12\" class=\"data row1 col12\" >0.254621</td>\n",
       "    </tr>\n",
       "    <tr>\n",
       "      <th id=\"T_f7f8c_level0_row2\" class=\"row_heading level0 row2\" >spa</th>\n",
       "      <td id=\"T_f7f8c_row2_col0\" class=\"data row2 col0\" >-0.215467</td>\n",
       "      <td id=\"T_f7f8c_row2_col1\" class=\"data row2 col1\" >0.247879</td>\n",
       "      <td id=\"T_f7f8c_row2_col2\" class=\"data row2 col2\" >1.000000</td>\n",
       "      <td id=\"T_f7f8c_row2_col3\" class=\"data row2 col3\" >0.877050</td>\n",
       "      <td id=\"T_f7f8c_row2_col4\" class=\"data row2 col4\" >0.133555</td>\n",
       "      <td id=\"T_f7f8c_row2_col5\" class=\"data row2 col5\" >-0.100054</td>\n",
       "      <td id=\"T_f7f8c_row2_col6\" class=\"data row2 col6\" >0.195538</td>\n",
       "      <td id=\"T_f7f8c_row2_col7\" class=\"data row2 col7\" >0.178803</td>\n",
       "      <td id=\"T_f7f8c_row2_col8\" class=\"data row2 col8\" >0.010647</td>\n",
       "      <td id=\"T_f7f8c_row2_col9\" class=\"data row2 col9\" >-0.007930</td>\n",
       "      <td id=\"T_f7f8c_row2_col10\" class=\"data row2 col10\" >0.053072</td>\n",
       "      <td id=\"T_f7f8c_row2_col11\" class=\"data row2 col11\" >0.157928</td>\n",
       "      <td id=\"T_f7f8c_row2_col12\" class=\"data row2 col12\" >0.185505</td>\n",
       "    </tr>\n",
       "    <tr>\n",
       "      <th id=\"T_f7f8c_level0_row3\" class=\"row_heading level0 row3\" >nights_with_spa</th>\n",
       "      <td id=\"T_f7f8c_row3_col0\" class=\"data row3 col0\" >-0.161397</td>\n",
       "      <td id=\"T_f7f8c_row3_col1\" class=\"data row3 col1\" >0.269723</td>\n",
       "      <td id=\"T_f7f8c_row3_col2\" class=\"data row3 col2\" >0.877050</td>\n",
       "      <td id=\"T_f7f8c_row3_col3\" class=\"data row3 col3\" >1.000000</td>\n",
       "      <td id=\"T_f7f8c_row3_col4\" class=\"data row3 col4\" >0.128225</td>\n",
       "      <td id=\"T_f7f8c_row3_col5\" class=\"data row3 col5\" >-0.099574</td>\n",
       "      <td id=\"T_f7f8c_row3_col6\" class=\"data row3 col6\" >0.142269</td>\n",
       "      <td id=\"T_f7f8c_row3_col7\" class=\"data row3 col7\" >0.204384</td>\n",
       "      <td id=\"T_f7f8c_row3_col8\" class=\"data row3 col8\" >0.003626</td>\n",
       "      <td id=\"T_f7f8c_row3_col9\" class=\"data row3 col9\" >-0.016060</td>\n",
       "      <td id=\"T_f7f8c_row3_col10\" class=\"data row3 col10\" >0.023989</td>\n",
       "      <td id=\"T_f7f8c_row3_col11\" class=\"data row3 col11\" >0.100634</td>\n",
       "      <td id=\"T_f7f8c_row3_col12\" class=\"data row3 col12\" >0.140315</td>\n",
       "    </tr>\n",
       "    <tr>\n",
       "      <th id=\"T_f7f8c_level0_row4\" class=\"row_heading level0 row4\" >a</th>\n",
       "      <td id=\"T_f7f8c_row4_col0\" class=\"data row4 col0\" >0.010691</td>\n",
       "      <td id=\"T_f7f8c_row4_col1\" class=\"data row4 col1\" >0.262896</td>\n",
       "      <td id=\"T_f7f8c_row4_col2\" class=\"data row4 col2\" >0.133555</td>\n",
       "      <td id=\"T_f7f8c_row4_col3\" class=\"data row4 col3\" >0.128225</td>\n",
       "      <td id=\"T_f7f8c_row4_col4\" class=\"data row4 col4\" >1.000000</td>\n",
       "      <td id=\"T_f7f8c_row4_col5\" class=\"data row4 col5\" >-0.856353</td>\n",
       "      <td id=\"T_f7f8c_row4_col6\" class=\"data row4 col6\" >0.000803</td>\n",
       "      <td id=\"T_f7f8c_row4_col7\" class=\"data row4 col7\" >0.455396</td>\n",
       "      <td id=\"T_f7f8c_row4_col8\" class=\"data row4 col8\" >0.144163</td>\n",
       "      <td id=\"T_f7f8c_row4_col9\" class=\"data row4 col9\" >0.132774</td>\n",
       "      <td id=\"T_f7f8c_row4_col10\" class=\"data row4 col10\" >0.129009</td>\n",
       "      <td id=\"T_f7f8c_row4_col11\" class=\"data row4 col11\" >0.267231</td>\n",
       "      <td id=\"T_f7f8c_row4_col12\" class=\"data row4 col12\" >-0.018526</td>\n",
       "    </tr>\n",
       "    <tr>\n",
       "      <th id=\"T_f7f8c_level0_row5\" class=\"row_heading level0 row5\" >b</th>\n",
       "      <td id=\"T_f7f8c_row5_col0\" class=\"data row5 col0\" >-0.006261</td>\n",
       "      <td id=\"T_f7f8c_row5_col1\" class=\"data row5 col1\" >-0.254819</td>\n",
       "      <td id=\"T_f7f8c_row5_col2\" class=\"data row5 col2\" >-0.100054</td>\n",
       "      <td id=\"T_f7f8c_row5_col3\" class=\"data row5 col3\" >-0.099574</td>\n",
       "      <td id=\"T_f7f8c_row5_col4\" class=\"data row5 col4\" >-0.856353</td>\n",
       "      <td id=\"T_f7f8c_row5_col5\" class=\"data row5 col5\" >1.000000</td>\n",
       "      <td id=\"T_f7f8c_row5_col6\" class=\"data row5 col6\" >-0.007315</td>\n",
       "      <td id=\"T_f7f8c_row5_col7\" class=\"data row5 col7\" >-0.490588</td>\n",
       "      <td id=\"T_f7f8c_row5_col8\" class=\"data row5 col8\" >-0.150980</td>\n",
       "      <td id=\"T_f7f8c_row5_col9\" class=\"data row5 col9\" >-0.141946</td>\n",
       "      <td id=\"T_f7f8c_row5_col10\" class=\"data row5 col10\" >-0.140868</td>\n",
       "      <td id=\"T_f7f8c_row5_col11\" class=\"data row5 col11\" >-0.288270</td>\n",
       "      <td id=\"T_f7f8c_row5_col12\" class=\"data row5 col12\" >0.012966</td>\n",
       "    </tr>\n",
       "    <tr>\n",
       "      <th id=\"T_f7f8c_level0_row6\" class=\"row_heading level0 row6\" >norm_meals_score</th>\n",
       "      <td id=\"T_f7f8c_row6_col0\" class=\"data row6 col0\" >-0.938532</td>\n",
       "      <td id=\"T_f7f8c_row6_col1\" class=\"data row6 col1\" >0.262534</td>\n",
       "      <td id=\"T_f7f8c_row6_col2\" class=\"data row6 col2\" >0.195538</td>\n",
       "      <td id=\"T_f7f8c_row6_col3\" class=\"data row6 col3\" >0.142269</td>\n",
       "      <td id=\"T_f7f8c_row6_col4\" class=\"data row6 col4\" >0.000803</td>\n",
       "      <td id=\"T_f7f8c_row6_col5\" class=\"data row6 col5\" >-0.007315</td>\n",
       "      <td id=\"T_f7f8c_row6_col6\" class=\"data row6 col6\" >1.000000</td>\n",
       "      <td id=\"T_f7f8c_row6_col7\" class=\"data row6 col7\" >0.031750</td>\n",
       "      <td id=\"T_f7f8c_row6_col8\" class=\"data row6 col8\" >-0.095317</td>\n",
       "      <td id=\"T_f7f8c_row6_col9\" class=\"data row6 col9\" >-0.092033</td>\n",
       "      <td id=\"T_f7f8c_row6_col10\" class=\"data row6 col10\" >0.300002</td>\n",
       "      <td id=\"T_f7f8c_row6_col11\" class=\"data row6 col11\" >-0.003163</td>\n",
       "      <td id=\"T_f7f8c_row6_col12\" class=\"data row6 col12\" >0.944795</td>\n",
       "    </tr>\n",
       "    <tr>\n",
       "      <th id=\"T_f7f8c_level0_row7\" class=\"row_heading level0 row7\" >norm_nights</th>\n",
       "      <td id=\"T_f7f8c_row7_col0\" class=\"data row7 col0\" >-0.013795</td>\n",
       "      <td id=\"T_f7f8c_row7_col1\" class=\"data row7 col1\" >0.509138</td>\n",
       "      <td id=\"T_f7f8c_row7_col2\" class=\"data row7 col2\" >0.178803</td>\n",
       "      <td id=\"T_f7f8c_row7_col3\" class=\"data row7 col3\" >0.204384</td>\n",
       "      <td id=\"T_f7f8c_row7_col4\" class=\"data row7 col4\" >0.455396</td>\n",
       "      <td id=\"T_f7f8c_row7_col5\" class=\"data row7 col5\" >-0.490588</td>\n",
       "      <td id=\"T_f7f8c_row7_col6\" class=\"data row7 col6\" >0.031750</td>\n",
       "      <td id=\"T_f7f8c_row7_col7\" class=\"data row7 col7\" >1.000000</td>\n",
       "      <td id=\"T_f7f8c_row7_col8\" class=\"data row7 col8\" >0.254325</td>\n",
       "      <td id=\"T_f7f8c_row7_col9\" class=\"data row7 col9\" >0.250103</td>\n",
       "      <td id=\"T_f7f8c_row7_col10\" class=\"data row7 col10\" >0.247950</td>\n",
       "      <td id=\"T_f7f8c_row7_col11\" class=\"data row7 col11\" >0.656511</td>\n",
       "      <td id=\"T_f7f8c_row7_col12\" class=\"data row7 col12\" >0.004428</td>\n",
       "    </tr>\n",
       "    <tr>\n",
       "      <th id=\"T_f7f8c_level0_row8\" class=\"row_heading level0 row8\" >norm_total_distance</th>\n",
       "      <td id=\"T_f7f8c_row8_col0\" class=\"data row8 col0\" >0.091101</td>\n",
       "      <td id=\"T_f7f8c_row8_col1\" class=\"data row8 col1\" >0.300347</td>\n",
       "      <td id=\"T_f7f8c_row8_col2\" class=\"data row8 col2\" >0.010647</td>\n",
       "      <td id=\"T_f7f8c_row8_col3\" class=\"data row8 col3\" >0.003626</td>\n",
       "      <td id=\"T_f7f8c_row8_col4\" class=\"data row8 col4\" >0.144163</td>\n",
       "      <td id=\"T_f7f8c_row8_col5\" class=\"data row8 col5\" >-0.150980</td>\n",
       "      <td id=\"T_f7f8c_row8_col6\" class=\"data row8 col6\" >-0.095317</td>\n",
       "      <td id=\"T_f7f8c_row8_col7\" class=\"data row8 col7\" >0.254325</td>\n",
       "      <td id=\"T_f7f8c_row8_col8\" class=\"data row8 col8\" >1.000000</td>\n",
       "      <td id=\"T_f7f8c_row8_col9\" class=\"data row8 col9\" >0.987733</td>\n",
       "      <td id=\"T_f7f8c_row8_col10\" class=\"data row8 col10\" >0.887980</td>\n",
       "      <td id=\"T_f7f8c_row8_col11\" class=\"data row8 col11\" >0.167548</td>\n",
       "      <td id=\"T_f7f8c_row8_col12\" class=\"data row8 col12\" >-0.108539</td>\n",
       "    </tr>\n",
       "    <tr>\n",
       "      <th id=\"T_f7f8c_level0_row9\" class=\"row_heading level0 row9\" >norm_cost_airlines</th>\n",
       "      <td id=\"T_f7f8c_row9_col0\" class=\"data row9 col0\" >0.089422</td>\n",
       "      <td id=\"T_f7f8c_row9_col1\" class=\"data row9 col1\" >0.296516</td>\n",
       "      <td id=\"T_f7f8c_row9_col2\" class=\"data row9 col2\" >-0.007930</td>\n",
       "      <td id=\"T_f7f8c_row9_col3\" class=\"data row9 col3\" >-0.016060</td>\n",
       "      <td id=\"T_f7f8c_row9_col4\" class=\"data row9 col4\" >0.132774</td>\n",
       "      <td id=\"T_f7f8c_row9_col5\" class=\"data row9 col5\" >-0.141946</td>\n",
       "      <td id=\"T_f7f8c_row9_col6\" class=\"data row9 col6\" >-0.092033</td>\n",
       "      <td id=\"T_f7f8c_row9_col7\" class=\"data row9 col7\" >0.250103</td>\n",
       "      <td id=\"T_f7f8c_row9_col8\" class=\"data row9 col8\" >0.987733</td>\n",
       "      <td id=\"T_f7f8c_row9_col9\" class=\"data row9 col9\" >1.000000</td>\n",
       "      <td id=\"T_f7f8c_row9_col10\" class=\"data row9 col10\" >0.894275</td>\n",
       "      <td id=\"T_f7f8c_row9_col11\" class=\"data row9 col11\" >0.162149</td>\n",
       "      <td id=\"T_f7f8c_row9_col12\" class=\"data row9 col12\" >-0.104381</td>\n",
       "    </tr>\n",
       "    <tr>\n",
       "      <th id=\"T_f7f8c_level0_row10\" class=\"row_heading level0 row10\" >norm_cost_airlines_by_type</th>\n",
       "      <td id=\"T_f7f8c_row10_col0\" class=\"data row10 col0\" >-0.218540</td>\n",
       "      <td id=\"T_f7f8c_row10_col1\" class=\"data row10 col1\" >0.337948</td>\n",
       "      <td id=\"T_f7f8c_row10_col2\" class=\"data row10 col2\" >0.053072</td>\n",
       "      <td id=\"T_f7f8c_row10_col3\" class=\"data row10 col3\" >0.023989</td>\n",
       "      <td id=\"T_f7f8c_row10_col4\" class=\"data row10 col4\" >0.129009</td>\n",
       "      <td id=\"T_f7f8c_row10_col5\" class=\"data row10 col5\" >-0.140868</td>\n",
       "      <td id=\"T_f7f8c_row10_col6\" class=\"data row10 col6\" >0.300002</td>\n",
       "      <td id=\"T_f7f8c_row10_col7\" class=\"data row10 col7\" >0.247950</td>\n",
       "      <td id=\"T_f7f8c_row10_col8\" class=\"data row10 col8\" >0.887980</td>\n",
       "      <td id=\"T_f7f8c_row10_col9\" class=\"data row10 col9\" >0.894275</td>\n",
       "      <td id=\"T_f7f8c_row10_col10\" class=\"data row10 col10\" >1.000000</td>\n",
       "      <td id=\"T_f7f8c_row10_col11\" class=\"data row10 col11\" >0.149972</td>\n",
       "      <td id=\"T_f7f8c_row10_col12\" class=\"data row10 col12\" >0.249148</td>\n",
       "    </tr>\n",
       "    <tr>\n",
       "      <th id=\"T_f7f8c_level0_row11\" class=\"row_heading level0 row11\" >number_places_2</th>\n",
       "      <td id=\"T_f7f8c_row11_col0\" class=\"data row11 col0\" >0.010249</td>\n",
       "      <td id=\"T_f7f8c_row11_col1\" class=\"data row11 col1\" >0.299242</td>\n",
       "      <td id=\"T_f7f8c_row11_col2\" class=\"data row11 col2\" >0.157928</td>\n",
       "      <td id=\"T_f7f8c_row11_col3\" class=\"data row11 col3\" >0.100634</td>\n",
       "      <td id=\"T_f7f8c_row11_col4\" class=\"data row11 col4\" >0.267231</td>\n",
       "      <td id=\"T_f7f8c_row11_col5\" class=\"data row11 col5\" >-0.288270</td>\n",
       "      <td id=\"T_f7f8c_row11_col6\" class=\"data row11 col6\" >-0.003163</td>\n",
       "      <td id=\"T_f7f8c_row11_col7\" class=\"data row11 col7\" >0.656511</td>\n",
       "      <td id=\"T_f7f8c_row11_col8\" class=\"data row11 col8\" >0.167548</td>\n",
       "      <td id=\"T_f7f8c_row11_col9\" class=\"data row11 col9\" >0.162149</td>\n",
       "      <td id=\"T_f7f8c_row11_col10\" class=\"data row11 col10\" >0.149972</td>\n",
       "      <td id=\"T_f7f8c_row11_col11\" class=\"data row11 col11\" >1.000000</td>\n",
       "      <td id=\"T_f7f8c_row11_col12\" class=\"data row11 col12\" >-0.017272</td>\n",
       "    </tr>\n",
       "    <tr>\n",
       "      <th id=\"T_f7f8c_level0_row12\" class=\"row_heading level0 row12\" >meals_score_2</th>\n",
       "      <td id=\"T_f7f8c_row12_col0\" class=\"data row12 col0\" >-0.888504</td>\n",
       "      <td id=\"T_f7f8c_row12_col1\" class=\"data row12 col1\" >0.254621</td>\n",
       "      <td id=\"T_f7f8c_row12_col2\" class=\"data row12 col2\" >0.185505</td>\n",
       "      <td id=\"T_f7f8c_row12_col3\" class=\"data row12 col3\" >0.140315</td>\n",
       "      <td id=\"T_f7f8c_row12_col4\" class=\"data row12 col4\" >-0.018526</td>\n",
       "      <td id=\"T_f7f8c_row12_col5\" class=\"data row12 col5\" >0.012966</td>\n",
       "      <td id=\"T_f7f8c_row12_col6\" class=\"data row12 col6\" >0.944795</td>\n",
       "      <td id=\"T_f7f8c_row12_col7\" class=\"data row12 col7\" >0.004428</td>\n",
       "      <td id=\"T_f7f8c_row12_col8\" class=\"data row12 col8\" >-0.108539</td>\n",
       "      <td id=\"T_f7f8c_row12_col9\" class=\"data row12 col9\" >-0.104381</td>\n",
       "      <td id=\"T_f7f8c_row12_col10\" class=\"data row12 col10\" >0.249148</td>\n",
       "      <td id=\"T_f7f8c_row12_col11\" class=\"data row12 col11\" >-0.017272</td>\n",
       "      <td id=\"T_f7f8c_row12_col12\" class=\"data row12 col12\" >1.000000</td>\n",
       "    </tr>\n",
       "  </tbody>\n",
       "</table>\n"
      ],
      "text/plain": [
       "<pandas.io.formats.style.Styler at 0x26ce99c7550>"
      ]
     },
     "execution_count": 61,
     "metadata": {},
     "output_type": "execute_result"
    }
   ],
   "source": [
    "train_non_multicol.corr().style.background_gradient(cmap='coolwarm')"
   ]
  },
  {
   "cell_type": "markdown",
   "metadata": {},
   "source": [
    "Generamos una lista con las variables que van a ser estandarizadas"
   ]
  },
  {
   "cell_type": "code",
   "execution_count": 62,
   "metadata": {},
   "outputs": [],
   "source": [
    "delete_for_normalizing = [\"a\"]\n",
    "non_multicol_for_normalizing = non_multicol\n",
    "for deleted in delete_for_normalizing:\n",
    "  non_multicol_for_normalizing = np.delete(non_multicol_for_normalizing,np.where(non_multicol_for_normalizing==deleted))"
   ]
  },
  {
   "cell_type": "code",
   "execution_count": 63,
   "metadata": {},
   "outputs": [],
   "source": [
    "#sns.pairplot(train[non_multicol])"
   ]
  },
  {
   "cell_type": "code",
   "execution_count": 64,
   "metadata": {},
   "outputs": [],
   "source": [
    "non_multicol = np.delete(non_multicol,np.where(non_multicol==\"ppprice\"))\n",
    "non_multicol_for_normalizing = np.delete(non_multicol_for_normalizing,np.where(non_multicol_for_normalizing==\"ppprice\"))"
   ]
  },
  {
   "cell_type": "markdown",
   "metadata": {},
   "source": [
    "## 7. Selección de modelo"
   ]
  },
  {
   "cell_type": "code",
   "execution_count": 65,
   "metadata": {},
   "outputs": [],
   "source": [
    "# Se remueve 'a' y 'Mumbai' para evitar multicolinealidad al utilizar one hot encoding\n",
    "numerical_features = ['package_code', \n",
    "                      'meals_score','spa','nights','nights_with_spa','hotels_score', \n",
    "                      'b','c','New Delhi',\n",
    "                      'meals','flight_stops','total_distance',\n",
    "                      'norm_total_distance','norm_meals_score','norm_nights',\n",
    "                      'norm_cost_airlines','norm_cost_airlines_by_type']"
   ]
  },
  {
   "cell_type": "code",
   "execution_count": 66,
   "metadata": {},
   "outputs": [],
   "source": [
    "#numerical_features = non_multicol"
   ]
  },
  {
   "cell_type": "markdown",
   "metadata": {},
   "source": [
    "Se divide el conjunto de entrenamiento en train y validación:"
   ]
  },
  {
   "cell_type": "code",
   "execution_count": 67,
   "metadata": {},
   "outputs": [],
   "source": [
    "X_train, X_val, y_train, y_val = train_test_split(train[numerical_features], train['ppprice'],test_size=0.3,random_state=42)"
   ]
  },
  {
   "cell_type": "markdown",
   "metadata": {},
   "source": [
    "Se procede a estandarizar los atributos numéricos no categóricos:"
   ]
  },
  {
   "cell_type": "code",
   "execution_count": 68,
   "metadata": {},
   "outputs": [],
   "source": [
    "# Normalize data\n",
    "columns_to_normalize = ['package_code','meals_score','nights', 'nights_with_spa', 'hotels_score','meals','flight_stops','total_distance']\n",
    "#columns_to_normalize = non_multicol_for_normalizing\n",
    "\n",
    "ct = ColumnTransformer([\n",
    "        ('standardscal', StandardScaler(), columns_to_normalize)\n",
    "    ], remainder='passthrough')\n",
    "\n",
    "X_train = ct.fit_transform(X_train)\n",
    "X_val = ct.fit_transform(X_val)"
   ]
  },
  {
   "cell_type": "markdown",
   "metadata": {},
   "source": [
    "### Selección de Características"
   ]
  },
  {
   "cell_type": "markdown",
   "metadata": {},
   "source": [
    "Se calculan nuevos atributos a partir de los polinomios de los atributos del dataset:"
   ]
  },
  {
   "cell_type": "code",
   "execution_count": 69,
   "metadata": {},
   "outputs": [],
   "source": [
    "# Se crean variables polinomiales en base a las variables del dataset\n",
    "poly_features = PolynomialFeatures(degree=2).fit(X_train)\n",
    "X_train_poly = poly_features.transform(X_train)\n",
    "X_val_poly = poly_features.transform(X_val)"
   ]
  },
  {
   "cell_type": "code",
   "execution_count": 70,
   "metadata": {},
   "outputs": [
    {
     "name": "stdout",
     "output_type": "stream",
     "text": [
      "(11025, 171)\n"
     ]
    }
   ],
   "source": [
    "print(X_train_poly.shape)"
   ]
  },
  {
   "cell_type": "markdown",
   "metadata": {},
   "source": [
    "Se eliminan del dataset aquellas variables con baja varianza, ya que aportan menos información al modelo:"
   ]
  },
  {
   "cell_type": "code",
   "execution_count": 71,
   "metadata": {},
   "outputs": [],
   "source": [
    "# Se eliminan aquellas variables con baja varianza (bajo aporte de información)\n",
    "variance_selector = VarianceThreshold().fit(X_train_poly)\n",
    "X_train_poly = variance_selector.transform(X_train_poly)\n",
    "X_val_poly = variance_selector.transform(X_val_poly)"
   ]
  },
  {
   "cell_type": "code",
   "execution_count": 72,
   "metadata": {},
   "outputs": [
    {
     "name": "stdout",
     "output_type": "stream",
     "text": [
      "(11025, 169)\n"
     ]
    }
   ],
   "source": [
    "print(X_train_poly.shape)"
   ]
  },
  {
   "cell_type": "markdown",
   "metadata": {},
   "source": [
    "Se seleccionan características con métodos tipo wrapper y de filtrado:"
   ]
  },
  {
   "cell_type": "code",
   "execution_count": 73,
   "metadata": {},
   "outputs": [],
   "source": [
    "import warnings\n",
    "warnings.filterwarnings('ignore')\n",
    "lasso_cv = LassoCV().fit(X_train_poly, y_train)\n",
    "\n",
    "# Algoritmo greedy que selecciona cada vez la variable que más aporta a la predicción\n",
    "#sfs_forward = SequentialFeatureSelector(\n",
    "#    lasso_cv, n_features_to_select=10, direction=\"forward\"\n",
    "#).fit(X_train_poly, y_train)\n",
    "\n",
    "# Selecciona las mejores k características en base a una métrica de información\n",
    "select_method = [f_regression,mutual_info_regression][0]\n",
    "select_k = SelectKBest(select_method, k=15).fit(X_train_poly, y_train)\n",
    "\n",
    "# Seleccionar por importancia de la característica en base a un modelo\n",
    "#selector_by_importance = SelectFromModel(estimator=LinearRegression(),max_features=30).fit(X_train_poly, y_train)\n",
    "\n",
    "# Selecciona recursivamente y mediante CV los atributos\n",
    "#estimator = svm.SVR(kernel=\"linear\")\n",
    "#selector = RFECV(estimator, step=1, cv=5)\n",
    "#selector = selector.fit(X_train, y_train)"
   ]
  },
  {
   "cell_type": "code",
   "execution_count": 74,
   "metadata": {},
   "outputs": [],
   "source": [
    "#X_train_filter = sfs_forward.transform(X_train_poly)\n",
    "#X_val_filter = sfs_forward.transform(X_val_poly)"
   ]
  },
  {
   "cell_type": "code",
   "execution_count": 75,
   "metadata": {},
   "outputs": [],
   "source": [
    "X_train_filter = select_k.transform(X_train_poly)\n",
    "X_val_filter = select_k.transform(X_val_poly)"
   ]
  },
  {
   "cell_type": "code",
   "execution_count": 76,
   "metadata": {},
   "outputs": [],
   "source": [
    "# Selección por importancia de cada característica\n",
    "#X_train_filter = selector_by_importance.transform(X_train_poly)\n",
    "#X_val_filter = selector_by_importance.transform(X_val_poly)"
   ]
  },
  {
   "cell_type": "code",
   "execution_count": 77,
   "metadata": {},
   "outputs": [],
   "source": [
    "#X_train_filter = selector.transform(X_train_poly)\n",
    "#X_val_filter = selector.transform(X_val_poly)"
   ]
  },
  {
   "cell_type": "code",
   "execution_count": 78,
   "metadata": {},
   "outputs": [],
   "source": [
    "# mejor resultado\n",
    "sfs_forward = SequentialFeatureSelector(\n",
    "    lasso_cv, n_features_to_select=6, direction=\"forward\"\n",
    ").fit(X_train, y_train)\n",
    "X_train = sfs_forward.transform(X_train)\n",
    "X_val = sfs_forward.transform(X_val)"
   ]
  },
  {
   "cell_type": "markdown",
   "metadata": {},
   "source": [
    "### Reducción de dimensionalidad"
   ]
  },
  {
   "cell_type": "markdown",
   "metadata": {},
   "source": [
    "Se evalúa si reducir la dimensionalidad tiene un efecto positivo en los resultados:"
   ]
  },
  {
   "cell_type": "code",
   "execution_count": 79,
   "metadata": {},
   "outputs": [],
   "source": [
    "# Reducción de dimensionalidad sobre las características escogidas\n",
    "#pca = PCA(n_components=7).fit(X_train_sfs)\n",
    "#X_train_sfs_pca = pca.transform(X_train_sfs)\n",
    "#X_val_sfs_pca = pca.transform(X_val_sfs)"
   ]
  },
  {
   "cell_type": "markdown",
   "metadata": {},
   "source": [
    "### Evaluación de modelos"
   ]
  },
  {
   "cell_type": "code",
   "execution_count": 80,
   "metadata": {},
   "outputs": [
    {
     "data": {
      "text/plain": [
       "0.17408270412308982"
      ]
     },
     "execution_count": 80,
     "metadata": {},
     "output_type": "execute_result"
    }
   ],
   "source": [
    "# Mejor resultado\n",
    "poly_pipeline_better = Pipeline([('poly', PolynomialFeatures(degree=3)),\n",
    "#                          ('select_features',SelectKBest(select_method, k=40)),\n",
    "                          ('linear', Ridge(alpha=1))],memory=\"cache\")\n",
    "poly_pipeline_better = poly_pipeline_better.fit(X_train, y_train)\n",
    "y_pred = poly_pipeline_better.predict(X_val)\n",
    "mean_absolute_percentage_error(y_val,y_pred)"
   ]
  },
  {
   "cell_type": "markdown",
   "metadata": {},
   "source": [
    "Se procede a evaluar distintos modelos lineales en el dataset filtrado (luego de la selección de características):"
   ]
  },
  {
   "cell_type": "code",
   "execution_count": 81,
   "metadata": {},
   "outputs": [
    {
     "data": {
      "text/plain": [
       "0.1817350779933943"
      ]
     },
     "execution_count": 81,
     "metadata": {},
     "output_type": "execute_result"
    }
   ],
   "source": [
    "# Modelo Lineal Ridge\n",
    "lr_ridge = Ridge(alpha=0.01)\n",
    "lr_ridge = lr_ridge.fit(X_train_filter, y_train)\n",
    "y_pred = lr_ridge.predict(X_val_filter)\n",
    "mean_absolute_percentage_error(y_val,y_pred)"
   ]
  },
  {
   "cell_type": "code",
   "execution_count": 82,
   "metadata": {},
   "outputs": [
    {
     "data": {
      "text/plain": [
       "0.18783851911623564"
      ]
     },
     "execution_count": 82,
     "metadata": {},
     "output_type": "execute_result"
    }
   ],
   "source": [
    "# Modelo con características polinomiales\n",
    "poly_pipeline = Pipeline([('poly', PolynomialFeatures(degree=3)),\n",
    "                          ('select_features',SelectKBest(select_method, k=20)),\n",
    "                          ('linear', Ridge(alpha=1))],memory=\"cache\")\n",
    "poly_pipeline = poly_pipeline.fit(X_train_filter, y_train)\n",
    "y_pred = poly_pipeline.predict(X_val_filter)\n",
    "mean_absolute_percentage_error(y_val,y_pred)"
   ]
  },
  {
   "cell_type": "code",
   "execution_count": 83,
   "metadata": {},
   "outputs": [
    {
     "data": {
      "text/plain": [
       "1166630720.1947155"
      ]
     },
     "execution_count": 83,
     "metadata": {},
     "output_type": "execute_result"
    }
   ],
   "source": [
    "# Modelo Lineal SGD\n",
    "sgd = SGDRegressor(max_iter=1000, tol=1e-3)\n",
    "sgd = sgd.fit(X_train_filter,y_train)\n",
    "y_pred = sgd.predict(X_val_filter)\n",
    "mean_absolute_percentage_error(y_val,y_pred)"
   ]
  },
  {
   "cell_type": "code",
   "execution_count": 84,
   "metadata": {},
   "outputs": [
    {
     "data": {
      "text/plain": [
       "0.18345875496858455"
      ]
     },
     "execution_count": 84,
     "metadata": {},
     "output_type": "execute_result"
    }
   ],
   "source": [
    "# Modelo lineal regression\n",
    "lr = LinearRegression()\n",
    "lr = lr.fit(X_train_filter,y_train)\n",
    "y_pred = lr.predict(X_val_filter)\n",
    "mean_absolute_percentage_error(y_val,y_pred)"
   ]
  },
  {
   "cell_type": "code",
   "execution_count": 85,
   "metadata": {},
   "outputs": [
    {
     "data": {
      "text/plain": [
       "0.19920558834385085"
      ]
     },
     "execution_count": 85,
     "metadata": {},
     "output_type": "execute_result"
    }
   ],
   "source": [
    "# Modelo Lineal Lasso\n",
    "lasso = linear_model.Lasso(alpha=0.001)\n",
    "lasso = lasso.fit(X_train_filter,y_train)\n",
    "y_pred = lasso.predict(X_val_filter)\n",
    "mean_absolute_percentage_error(y_val,y_pred)"
   ]
  },
  {
   "cell_type": "code",
   "execution_count": 86,
   "metadata": {},
   "outputs": [
    {
     "data": {
      "text/plain": [
       "0.19324509312694513"
      ]
     },
     "execution_count": 86,
     "metadata": {},
     "output_type": "execute_result"
    }
   ],
   "source": [
    "# Modelo Lineal SVM\n",
    "regr = svm.SVR()\n",
    "regr = regr.fit(X_train_filter, y_train)\n",
    "y_pred = regr.predict(X_val_filter)\n",
    "mean_absolute_percentage_error(y_val,y_pred)"
   ]
  },
  {
   "cell_type": "code",
   "execution_count": 87,
   "metadata": {},
   "outputs": [
    {
     "data": {
      "text/plain": [
       "0.19207517226686355"
      ]
     },
     "execution_count": 87,
     "metadata": {},
     "output_type": "execute_result"
    }
   ],
   "source": [
    "# Modelo Lineal BayesianRidge\n",
    "reg_bay = linear_model.BayesianRidge()\n",
    "reg_bay = reg_bay.fit(X_train_filter, y_train)\n",
    "y_pred = reg_bay.predict(X_val_filter)\n",
    "mean_absolute_percentage_error(y_val,y_pred)"
   ]
  },
  {
   "cell_type": "code",
   "execution_count": 88,
   "metadata": {},
   "outputs": [
    {
     "data": {
      "text/plain": [
       "0.18303317080751805"
      ]
     },
     "execution_count": 88,
     "metadata": {},
     "output_type": "execute_result"
    }
   ],
   "source": [
    "# Modelo Lineal Ridge con cross validation\n",
    "ridge_cv = linear_model.RidgeCV(alphas=np.logspace(-6, 6, 13))\n",
    "ridge_cv = ridge_cv.fit(X_train_filter, y_train)\n",
    "y_pred = ridge_cv.predict(X_val_filter)\n",
    "mean_absolute_percentage_error(y_val,y_pred)"
   ]
  },
  {
   "cell_type": "code",
   "execution_count": 89,
   "metadata": {},
   "outputs": [
    {
     "data": {
      "text/plain": [
       "0.19510069447730702"
      ]
     },
     "execution_count": 89,
     "metadata": {},
     "output_type": "execute_result"
    }
   ],
   "source": [
    "# Modelo Lineal Lasso lars\n",
    "lasso_lars = linear_model.LassoLars(alpha=.1, normalize=False)\n",
    "lasso_lars = lasso_lars.fit(X_train_filter, y_train)\n",
    "y_pred = lasso_lars.predict(X_val_filter)\n",
    "mean_absolute_percentage_error(y_val,y_pred)"
   ]
  },
  {
   "cell_type": "markdown",
   "metadata": {},
   "source": [
    "## 7. Submit"
   ]
  },
  {
   "cell_type": "markdown",
   "metadata": {},
   "source": [
    "Se entrena el mejor modelo encontrado con el conjunto de validación sobre todos los datos de entrenamiento para realizar la predicción del conjunto de testing:"
   ]
  },
  {
   "cell_type": "code",
   "execution_count": 90,
   "metadata": {},
   "outputs": [],
   "source": [
    "ct = ColumnTransformer([\n",
    "        ('standardscal', StandardScaler(), columns_to_normalize)\n",
    "    ], remainder='passthrough')\n",
    "\n",
    "X_train_submit = ct.fit_transform(train[numerical_features])\n",
    "\n",
    "# Se aplica selección de atributos sobre X_train_submit\n",
    "X_train_submit = sfs_forward.transform(X_train_submit)\n",
    "#lr_ridge = Ridge(alpha=1.5)\n",
    "#lr_ridge = lr_ridge.fit(X_train_submit,train[\"ppprice\"])\n",
    "\n",
    "# entrenamiento del modelo con todos los datos de train\n",
    "#poly_pipeline = Pipeline([('poly', PolynomialFeatures(degree=3)),('linear', Ridge(alpha=1.5))])\n",
    "#poly_pipeline = poly_pipeline.fit(X_train_submit, train[\"ppprice\"])\n",
    "\n",
    "# Mejor resultado\n",
    "poly_pipeline_better_submit = Pipeline([('poly', PolynomialFeatures(degree=3)),\n",
    "#                          ('select_features',SelectKBest(select_method, k=40)),\n",
    "                          ('linear', Ridge(alpha=1))],memory=\"cache\")\n",
    "poly_pipeline_better_submit = poly_pipeline_better_submit.fit(X_train_submit, train[\"ppprice\"])"
   ]
  },
  {
   "cell_type": "markdown",
   "metadata": {},
   "source": [
    "Se aplican las mismas transformaciones de datos aplicadas al conjunto de entrenamiento:"
   ]
  },
  {
   "cell_type": "code",
   "execution_count": 91,
   "metadata": {},
   "outputs": [],
   "source": [
    "X_test = test[numerical_features]\n",
    "X_test = ct.fit_transform(X_test)\n",
    "X_test = sfs_forward.transform(X_test)\n",
    "#y_pred = poly_pipeline.predict(X_test)\n",
    "y_pred = poly_pipeline_better_submit.predict(X_test)"
   ]
  },
  {
   "cell_type": "code",
   "execution_count": 92,
   "metadata": {},
   "outputs": [],
   "source": [
    "test['ppprice'] = y_pred"
   ]
  },
  {
   "cell_type": "code",
   "execution_count": 93,
   "metadata": {},
   "outputs": [],
   "source": [
    "test_submit = test[['index','ppprice']]"
   ]
  },
  {
   "cell_type": "code",
   "execution_count": 94,
   "metadata": {},
   "outputs": [],
   "source": [
    "test_submit = test_submit.rename(columns={'index':'Index','ppprice':'PPPrice'})"
   ]
  },
  {
   "cell_type": "code",
   "execution_count": 95,
   "metadata": {},
   "outputs": [
    {
     "data": {
      "text/html": [
       "<div>\n",
       "<style scoped>\n",
       "    .dataframe tbody tr th:only-of-type {\n",
       "        vertical-align: middle;\n",
       "    }\n",
       "\n",
       "    .dataframe tbody tr th {\n",
       "        vertical-align: top;\n",
       "    }\n",
       "\n",
       "    .dataframe thead th {\n",
       "        text-align: right;\n",
       "    }\n",
       "</style>\n",
       "<table border=\"1\" class=\"dataframe\">\n",
       "  <thead>\n",
       "    <tr style=\"text-align: right;\">\n",
       "      <th></th>\n",
       "      <th>Index</th>\n",
       "      <th>PPPrice</th>\n",
       "    </tr>\n",
       "  </thead>\n",
       "  <tbody>\n",
       "    <tr>\n",
       "      <th>0</th>\n",
       "      <td>7798</td>\n",
       "      <td>185.480726</td>\n",
       "    </tr>\n",
       "    <tr>\n",
       "      <th>1</th>\n",
       "      <td>1788</td>\n",
       "      <td>-473.547399</td>\n",
       "    </tr>\n",
       "    <tr>\n",
       "      <th>2</th>\n",
       "      <td>2084</td>\n",
       "      <td>330.198888</td>\n",
       "    </tr>\n",
       "    <tr>\n",
       "      <th>3</th>\n",
       "      <td>18361</td>\n",
       "      <td>172.559097</td>\n",
       "    </tr>\n",
       "    <tr>\n",
       "      <th>4</th>\n",
       "      <td>13939</td>\n",
       "      <td>175.660683</td>\n",
       "    </tr>\n",
       "    <tr>\n",
       "      <th>...</th>\n",
       "      <td>...</td>\n",
       "      <td>...</td>\n",
       "    </tr>\n",
       "    <tr>\n",
       "      <th>5245</th>\n",
       "      <td>19911</td>\n",
       "      <td>-372.896851</td>\n",
       "    </tr>\n",
       "    <tr>\n",
       "      <th>5246</th>\n",
       "      <td>13668</td>\n",
       "      <td>218.529445</td>\n",
       "    </tr>\n",
       "    <tr>\n",
       "      <th>5247</th>\n",
       "      <td>12168</td>\n",
       "      <td>278.889727</td>\n",
       "    </tr>\n",
       "    <tr>\n",
       "      <th>5248</th>\n",
       "      <td>20634</td>\n",
       "      <td>70.772917</td>\n",
       "    </tr>\n",
       "    <tr>\n",
       "      <th>5249</th>\n",
       "      <td>2575</td>\n",
       "      <td>459.148385</td>\n",
       "    </tr>\n",
       "  </tbody>\n",
       "</table>\n",
       "<p>5250 rows × 2 columns</p>\n",
       "</div>"
      ],
      "text/plain": [
       "      Index     PPPrice\n",
       "0      7798  185.480726\n",
       "1      1788 -473.547399\n",
       "2      2084  330.198888\n",
       "3     18361  172.559097\n",
       "4     13939  175.660683\n",
       "...     ...         ...\n",
       "5245  19911 -372.896851\n",
       "5246  13668  218.529445\n",
       "5247  12168  278.889727\n",
       "5248  20634   70.772917\n",
       "5249   2575  459.148385\n",
       "\n",
       "[5250 rows x 2 columns]"
      ]
     },
     "execution_count": 95,
     "metadata": {},
     "output_type": "execute_result"
    }
   ],
   "source": [
    "test_submit"
   ]
  },
  {
   "cell_type": "code",
   "execution_count": 96,
   "metadata": {},
   "outputs": [],
   "source": [
    "test_submit.to_csv(\"./submissions/submission-7.csv\", index=False)"
   ]
  },
  {
   "cell_type": "markdown",
   "metadata": {},
   "source": [
    "## 8. Conclusiones"
   ]
  },
  {
   "cell_type": "markdown",
   "metadata": {},
   "source": [
    "1. Al trabajar con modelos simples se experimenta la importancia de la ingeniería de características para obtener buenos resultados ya que, la diferencia de rendimiento entre distintos modelos lineales es ínfima, por lo que, las grandes mejoras en el desempeño están totalmente correlacionadas con los atributos que se incluyen en el modelo.\n",
    "2. El hecho de eliminar variables para evitar la multicolinearidad entre las variables independientes no siempre provoca una mejora en el desempeño de la regresión lineal.\n",
    "3. A medida que la cantidad de atributos aumenta, el impacto del regularizador en el desempeño de los modelos es más significativo.\n",
    "4. Al realizar un proceso de creación de nuevas características se debe tener siempre en cuenta que se podría estar introduciendo multicolinealidad al modelo, por ejemplo, cuando aplicamos one-hot-encoding, introducimos directamente una multicolinealidad al modelo, la que se puede resolver eliminando una de las variables del one-hot-encoding."
   ]
  },
  {
   "cell_type": "markdown",
   "metadata": {},
   "source": [
    "## 9. Conformidad ética"
   ]
  },
  {
   "cell_type": "markdown",
   "metadata": {},
   "source": [
    "## 10. Contribución por integrante"
   ]
  },
  {
   "cell_type": "markdown",
   "metadata": {},
   "source": [
    "1. Codificar destinations.\n",
    "2. Verificar normalidad de los atributos."
   ]
  }
 ],
 "metadata": {
  "colab": {
   "collapsed_sections": [],
   "name": "[INF398]Taller2_II_2021.ipynb",
   "provenance": [],
   "toc_visible": true
  },
  "kernelspec": {
   "display_name": "Python 3 (ipykernel)",
   "language": "python",
   "name": "python3"
  },
  "language_info": {
   "codemirror_mode": {
    "name": "ipython",
    "version": 3
   },
   "file_extension": ".py",
   "mimetype": "text/x-python",
   "name": "python",
   "nbconvert_exporter": "python",
   "pygments_lexer": "ipython3",
   "version": "3.9.7"
  },
  "toc": {
   "base_numbering": 1,
   "nav_menu": {},
   "number_sections": true,
   "sideBar": true,
   "skip_h1_title": false,
   "title_cell": "Table of Contents",
   "title_sidebar": "Contents",
   "toc_cell": false,
   "toc_position": {},
   "toc_section_display": true,
   "toc_window_display": false
  }
 },
 "nbformat": 4,
 "nbformat_minor": 1
}
