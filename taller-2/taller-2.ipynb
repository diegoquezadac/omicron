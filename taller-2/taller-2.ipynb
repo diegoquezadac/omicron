{
 "cells": [
  {
   "cell_type": "markdown",
   "metadata": {
    "id": "L5rfZ_hYaQ1Z"
   },
   "source": [
    "<center><img src=\"http://www.exalumnos.usm.cl/wp-content/uploads/2015/06/Isotipo-Negro.gif\" title=\"Title text\" width=\"30%\" /></center>\n",
    "\n",
    "<hr style=\"height:2px;border:none\"/>\n",
    "<h1 align='center'> INF-398 Aprendizaje Automático </h1>\n",
    "\n",
    "<H3 align='center'> Tarea/Taller 2 </H3>\n",
    "<hr style=\"height:2px;border:none\"/>\n",
    "\n"
   ]
  },
  {
   "cell_type": "markdown",
   "metadata": {
    "id": "9KovasDMUMnW"
   },
   "source": [
    "# Temas"
   ]
  },
  {
   "cell_type": "markdown",
   "metadata": {
    "id": "HUgiKCl3UREw"
   },
   "source": [
    "* Regresión Lineal\n",
    "* Regularización\n",
    "* Selección de Características\n",
    "* Reducción de Dimensionalidad\n"
   ]
  },
  {
   "cell_type": "markdown",
   "metadata": {
    "id": "3hHigypDURhb"
   },
   "source": [
    "# Reglas & Formalidades\n",
    "\n",
    "* Pueden trabajar en equipos de 2 a 3 personas. \n",
    "* Los equipos deben ser inscritos antes del 10 de Noviembre.\n",
    "* Pueden reusar código visto en clases y/o recolectar código/ideas de otros sitios, mencionando al autor y entregando un link a la fuente. \n",
    "* Si resulta necesaria, la intervención de personas ajenas al grupo (e.g. experto) debe ser declarada y justificada.\n",
    "* Tener roles dentro del equipo está bien, pero al final del proceso, cada miembro debe entender y estar en condiciones de exponer todo el trabajo realizado. "
   ]
  },
  {
   "cell_type": "markdown",
   "metadata": {
    "id": "CQeZ0_M7Ucf-"
   },
   "source": [
    "# Entregables \n",
    "\n"
   ]
  },
  {
   "cell_type": "markdown",
   "metadata": {
    "id": "_DOvGvOZUZYV"
   },
   "source": [
    "\n",
    "> * **Video:** Se debe preparar un video explicativo de **15 a 20 minutos** donde se describe la metodología utilizada, los resultados obtenidos y las conclusiones de la experiencia. \n",
    "\n",
    "> * **Código:** Se debe enviar un jupyter notebook con el código utilizado, de modo que sea posible **reproducir los resultados** presentados. Como alternativa, se puede entregar un link Github con el código fuente, incluyendo instrucciones precisas para ejecutar los experimentos. En cualquier caso (notebook o repo) el código debe estar ordenado y seccionado apropiadamente.\n",
    "\n",
    "> * **Conformidad Ética:** Se debe incluir una breve declaración ética en que se indique que el trabajo que se está enviando es un trabajo original, desarollado por los autores en conformidad con todas reglas antes mencionadas. Se debe también mencionar brevemente cuál fue la contribución de cada miembro del equipo. La declaración puede ser parte del notebook o estar en un archivo dentro del repo.\n",
    "\n",
    "> * **Defensa en vivo (video-conferencia):** El día de clases agendado para la discusión del taller, se seleccionarán aleatoriamente algunos equipos que presentarán oralmente su trabajo ante el curso. Los autores serán evaluados considerando la discusión y debate que generen entre sus pares. Los puntos obtenidos (positivos o negativos) se sumarán a la nota final de taller."
   ]
  },
  {
   "cell_type": "markdown",
   "metadata": {
    "id": "gNyRw2PdUgaA"
   },
   "source": [
    "# Fechas"
   ]
  },
  {
   "cell_type": "markdown",
   "metadata": {
    "id": "-lmzliloUhux"
   },
   "source": [
    "> * Defensas: 26 de Noviembre, horario de clases.\n",
    "> * Fecha de entrega de vídeo: 27 de Noviembre 23:59 Hrs. (1 días después de encuentro).\n",
    "> * Fecha de entrega de Jupyter (notebook): 26 de Noviembre 08:00 (se pueden hacer actualizaciones hasta el 27 de Noviembre 23:59 Hrs.). \n"
   ]
  },
  {
   "cell_type": "markdown",
   "metadata": {
    "id": "HnZJyoJGUmf9"
   },
   "source": [
    "# Instrucciones"
   ]
  },
  {
   "cell_type": "markdown",
   "metadata": {
    "id": "MF1q0Ei3Un6K"
   },
   "source": [
    "La tarea se divide en dos secciones:\n",
    "\n",
    "\n",
    "\n",
    "> **1. Pregunta de Investigación**. Para esta parte, los autores deben elegir una hipótesis de investigación y diseñar un procedimiento experimental que permita reunir evidencia en contra o a favor de la misma. Es legítimo tomar una posición *a-priori* en base a lo que han aprendido en el curso, pero es importante analizar críticamente los resultados sin descartar hipótesis alternativas. \n",
    "\n",
    "> La metodología debe incluir al menos 3 datasets, de los cuales al menos 2 deben ser reales. Es deseable también que incluyan experimentos controlados sobre dataset sintéticos o semi-sintéticos no triviales diseñados por ustedes. Por ejemplo, para demostrar que un método logra ignorar variables irrelevantes se podrían crear variables \"fake\" manualmente. Experimentos de este último tipo que se basen en un dataset real contarán como realizados sobre \"dataset reales\".\n",
    "\n",
    "> Si no es relevante para la pregunta de investigación y en honor al tiempo, no es necesario llevar a cabo un análisis exploratorio detallado sobre cada dataset utilizado.\n",
    "\n",
    ">  **2. Desafío Kaggle**. Para esta parte, los autores enfrentarán un desafío en la plataforma Kaggle y serán calificados en base a su posición en el tablero de resultados y el puntaje obtenido.\n"
   ]
  },
  {
   "cell_type": "markdown",
   "metadata": {},
   "source": [
    "# Parte 1. Pregunta de Investigación"
   ]
  },
  {
   "cell_type": "markdown",
   "metadata": {},
   "source": [
    "## 1. Introducción\n",
    "\n",
    "Para poder comprender mejor la presente investigación es axiomático comprender los siguientes conceptos:\n",
    "\n",
    "1. Norma $L_{2}$: Conocida también como regularización Ridge, es una penalización que busca reducir de manera proporcional el valor de los coeficientes del modelo, de tal forma que al disminuir estos, se minimice la correlación entre los atributos y obtener una mejor generalización y por ende disminuir el overfitting asociado. \n",
    "2. Ruido blanco: Es una perturbación generada a partir de una distribución de probabilidad centrada en 0. \n",
    "\n",
    "En la presente investigación se estudirá la diferencia en el rendimiento entre entrenar un modelo utilizando regularización $L_2$ y entrenar un modelo sobre datos a los que se les aplicó un ruido blanco. \n",
    "\n",
    "La motivación pricipal de esta investigación es descubrir los efectos que genera el ruido blanco y $L_2$ en la capacidad de generalización de modelos de regresión lineal. Una importancia práctica y evidente, en caso de que la inyección de ruido blanco demuestre un buen resultado, es proponer como un paso de preprocesamiento el agregar ruido blanco a los atributos en función de regularizar los pesos del modelo de una manera más eficiente en comparación a la aplicación de la penalización $L_2$."
   ]
  },
  {
   "cell_type": "markdown",
   "metadata": {},
   "source": [
    "## 2. Hipótesis\n",
    "\n",
    "Sabemos que entrenar un modelo lineal agregando ruido blanco a los atributos es matemáticamente equivalente a usar el regularizador $L_2$. En la práctica sin embargo, el primer método resulta mucho más efectivo. "
   ]
  },
  {
   "cell_type": "markdown",
   "metadata": {},
   "source": [
    "## 3. Metodología\n",
    "\n",
    "La metodología que nos permitirá reunir evidencia para poner a prueba la hipótesis descrita anteriormente es la siguiente:\n",
    "\n",
    "Para cada dataset, repetir $n$ veces el siguiente procedimiento:\n",
    "\n",
    "1. Definir un conjunto de entrenamiento y de prueba. Para garantizar reproducibilidad se utiliza el mismo conjunto de entrenamiento y prueba a lo largo de las $n$ iteraciones para cada dataset.\n",
    "2. Definir un conjunto de entrenamiento ruidoso.\n",
    "3. Definir un valor $\\lambda$ para la regularización.\n",
    "4. Entrenar el clasificador lineal 1 en el conjunto de entrenamiento ruidoso.\n",
    "5. Entrenar el clasificador lineal 2 en el conjunto de entrenamiento original utilizando L2 con parámetro $\\lambda$.\n",
    "5. Calcular el error cuadrático medio asociado a cada clasificador.\n",
    "6. Almacenar ambos errores."
   ]
  },
  {
   "cell_type": "markdown",
   "metadata": {},
   "source": [
    "## 4. Simulación computacional"
   ]
  },
  {
   "cell_type": "markdown",
   "metadata": {},
   "source": [
    "### 4.1 Importación de librerías"
   ]
  },
  {
   "cell_type": "code",
   "execution_count": 1,
   "metadata": {},
   "outputs": [],
   "source": [
    "import scipy.stats\n",
    "import numpy as np\n",
    "import pandas as pd\n",
    "import matplotlib.pyplot as plt\n",
    "from sklearn import datasets\n",
    "from sklearn.model_selection import train_test_split\n",
    "from sklearn.linear_model import LinearRegression\n",
    "from sklearn.linear_model import Ridge\n",
    "from sklearn.metrics import mean_absolute_percentage_error"
   ]
  },
  {
   "cell_type": "code",
   "execution_count": 2,
   "metadata": {},
   "outputs": [],
   "source": [
    "%matplotlib inline"
   ]
  },
  {
   "cell_type": "markdown",
   "metadata": {},
   "source": [
    "Trabajaremos con los siguientes tres datasets:\n",
    "\n",
    "1. [Red Wine Quality](https://www.kaggle.com/uciml/red-wine-quality-cortez-et-al-2009): Este conjunto de datos contiene 1599 registros de 11 propiedades físico-químicas que buscan explicar la calidad del vino \"Vinho Verde\".\n",
    "2. [Real estate](https://www.kaggle.com/quantbruce/real-estate-price-prediction): Este conjunto de datos contiene 414 registros de 7 características que buscan predecir el valor de bienes de raíces.\n",
    "3. [Graduate Admission 2](https://www.kaggle.com/mohansacharya/graduate-admissions): Este conjunto de datos contiene 400 registros de 8 características que buscan predecir la probabilidad de admisión a programas de magíster."
   ]
  },
  {
   "cell_type": "code",
   "execution_count": 3,
   "metadata": {
    "scrolled": true
   },
   "outputs": [],
   "source": [
    "wine_quality = pd.read_csv('./datasets/wine_quality.csv')"
   ]
  },
  {
   "cell_type": "code",
   "execution_count": 4,
   "metadata": {},
   "outputs": [],
   "source": [
    "real_estate = pd.read_csv('./datasets/real_estate.csv')"
   ]
  },
  {
   "cell_type": "code",
   "execution_count": 5,
   "metadata": {},
   "outputs": [],
   "source": [
    "admission = pd.read_csv('./datasets/admission.csv')"
   ]
  },
  {
   "cell_type": "markdown",
   "metadata": {},
   "source": [
    "### 4.3 Breve exploración"
   ]
  },
  {
   "cell_type": "markdown",
   "metadata": {},
   "source": [
    "Mediante el método ``head`` podemos observar una muestra de datos de cada dataset:"
   ]
  },
  {
   "cell_type": "code",
   "execution_count": 6,
   "metadata": {},
   "outputs": [
    {
     "data": {
      "text/html": [
       "<div>\n",
       "<style scoped>\n",
       "    .dataframe tbody tr th:only-of-type {\n",
       "        vertical-align: middle;\n",
       "    }\n",
       "\n",
       "    .dataframe tbody tr th {\n",
       "        vertical-align: top;\n",
       "    }\n",
       "\n",
       "    .dataframe thead th {\n",
       "        text-align: right;\n",
       "    }\n",
       "</style>\n",
       "<table border=\"1\" class=\"dataframe\">\n",
       "  <thead>\n",
       "    <tr style=\"text-align: right;\">\n",
       "      <th></th>\n",
       "      <th>fixed acidity</th>\n",
       "      <th>volatile acidity</th>\n",
       "      <th>citric acid</th>\n",
       "      <th>residual sugar</th>\n",
       "      <th>chlorides</th>\n",
       "      <th>free sulfur dioxide</th>\n",
       "      <th>total sulfur dioxide</th>\n",
       "      <th>density</th>\n",
       "      <th>pH</th>\n",
       "      <th>sulphates</th>\n",
       "      <th>alcohol</th>\n",
       "      <th>quality</th>\n",
       "    </tr>\n",
       "  </thead>\n",
       "  <tbody>\n",
       "    <tr>\n",
       "      <th>0</th>\n",
       "      <td>7.4</td>\n",
       "      <td>0.70</td>\n",
       "      <td>0.00</td>\n",
       "      <td>1.9</td>\n",
       "      <td>0.076</td>\n",
       "      <td>11.0</td>\n",
       "      <td>34.0</td>\n",
       "      <td>0.9978</td>\n",
       "      <td>3.51</td>\n",
       "      <td>0.56</td>\n",
       "      <td>9.4</td>\n",
       "      <td>5</td>\n",
       "    </tr>\n",
       "    <tr>\n",
       "      <th>1</th>\n",
       "      <td>7.8</td>\n",
       "      <td>0.88</td>\n",
       "      <td>0.00</td>\n",
       "      <td>2.6</td>\n",
       "      <td>0.098</td>\n",
       "      <td>25.0</td>\n",
       "      <td>67.0</td>\n",
       "      <td>0.9968</td>\n",
       "      <td>3.20</td>\n",
       "      <td>0.68</td>\n",
       "      <td>9.8</td>\n",
       "      <td>5</td>\n",
       "    </tr>\n",
       "    <tr>\n",
       "      <th>2</th>\n",
       "      <td>7.8</td>\n",
       "      <td>0.76</td>\n",
       "      <td>0.04</td>\n",
       "      <td>2.3</td>\n",
       "      <td>0.092</td>\n",
       "      <td>15.0</td>\n",
       "      <td>54.0</td>\n",
       "      <td>0.9970</td>\n",
       "      <td>3.26</td>\n",
       "      <td>0.65</td>\n",
       "      <td>9.8</td>\n",
       "      <td>5</td>\n",
       "    </tr>\n",
       "    <tr>\n",
       "      <th>3</th>\n",
       "      <td>11.2</td>\n",
       "      <td>0.28</td>\n",
       "      <td>0.56</td>\n",
       "      <td>1.9</td>\n",
       "      <td>0.075</td>\n",
       "      <td>17.0</td>\n",
       "      <td>60.0</td>\n",
       "      <td>0.9980</td>\n",
       "      <td>3.16</td>\n",
       "      <td>0.58</td>\n",
       "      <td>9.8</td>\n",
       "      <td>6</td>\n",
       "    </tr>\n",
       "    <tr>\n",
       "      <th>4</th>\n",
       "      <td>7.4</td>\n",
       "      <td>0.70</td>\n",
       "      <td>0.00</td>\n",
       "      <td>1.9</td>\n",
       "      <td>0.076</td>\n",
       "      <td>11.0</td>\n",
       "      <td>34.0</td>\n",
       "      <td>0.9978</td>\n",
       "      <td>3.51</td>\n",
       "      <td>0.56</td>\n",
       "      <td>9.4</td>\n",
       "      <td>5</td>\n",
       "    </tr>\n",
       "  </tbody>\n",
       "</table>\n",
       "</div>"
      ],
      "text/plain": [
       "   fixed acidity  volatile acidity  citric acid  residual sugar  chlorides  \\\n",
       "0            7.4              0.70         0.00             1.9      0.076   \n",
       "1            7.8              0.88         0.00             2.6      0.098   \n",
       "2            7.8              0.76         0.04             2.3      0.092   \n",
       "3           11.2              0.28         0.56             1.9      0.075   \n",
       "4            7.4              0.70         0.00             1.9      0.076   \n",
       "\n",
       "   free sulfur dioxide  total sulfur dioxide  density    pH  sulphates  \\\n",
       "0                 11.0                  34.0   0.9978  3.51       0.56   \n",
       "1                 25.0                  67.0   0.9968  3.20       0.68   \n",
       "2                 15.0                  54.0   0.9970  3.26       0.65   \n",
       "3                 17.0                  60.0   0.9980  3.16       0.58   \n",
       "4                 11.0                  34.0   0.9978  3.51       0.56   \n",
       "\n",
       "   alcohol  quality  \n",
       "0      9.4        5  \n",
       "1      9.8        5  \n",
       "2      9.8        5  \n",
       "3      9.8        6  \n",
       "4      9.4        5  "
      ]
     },
     "execution_count": 6,
     "metadata": {},
     "output_type": "execute_result"
    }
   ],
   "source": [
    "wine_quality.head()"
   ]
  },
  {
   "cell_type": "code",
   "execution_count": 7,
   "metadata": {},
   "outputs": [
    {
     "data": {
      "text/html": [
       "<div>\n",
       "<style scoped>\n",
       "    .dataframe tbody tr th:only-of-type {\n",
       "        vertical-align: middle;\n",
       "    }\n",
       "\n",
       "    .dataframe tbody tr th {\n",
       "        vertical-align: top;\n",
       "    }\n",
       "\n",
       "    .dataframe thead th {\n",
       "        text-align: right;\n",
       "    }\n",
       "</style>\n",
       "<table border=\"1\" class=\"dataframe\">\n",
       "  <thead>\n",
       "    <tr style=\"text-align: right;\">\n",
       "      <th></th>\n",
       "      <th>No</th>\n",
       "      <th>X1 transaction date</th>\n",
       "      <th>X2 house age</th>\n",
       "      <th>X3 distance to the nearest MRT station</th>\n",
       "      <th>X4 number of convenience stores</th>\n",
       "      <th>X5 latitude</th>\n",
       "      <th>X6 longitude</th>\n",
       "      <th>Y house price of unit area</th>\n",
       "    </tr>\n",
       "  </thead>\n",
       "  <tbody>\n",
       "    <tr>\n",
       "      <th>0</th>\n",
       "      <td>1</td>\n",
       "      <td>2012.917</td>\n",
       "      <td>32.0</td>\n",
       "      <td>84.87882</td>\n",
       "      <td>10</td>\n",
       "      <td>24.98298</td>\n",
       "      <td>121.54024</td>\n",
       "      <td>37.9</td>\n",
       "    </tr>\n",
       "    <tr>\n",
       "      <th>1</th>\n",
       "      <td>2</td>\n",
       "      <td>2012.917</td>\n",
       "      <td>19.5</td>\n",
       "      <td>306.59470</td>\n",
       "      <td>9</td>\n",
       "      <td>24.98034</td>\n",
       "      <td>121.53951</td>\n",
       "      <td>42.2</td>\n",
       "    </tr>\n",
       "    <tr>\n",
       "      <th>2</th>\n",
       "      <td>3</td>\n",
       "      <td>2013.583</td>\n",
       "      <td>13.3</td>\n",
       "      <td>561.98450</td>\n",
       "      <td>5</td>\n",
       "      <td>24.98746</td>\n",
       "      <td>121.54391</td>\n",
       "      <td>47.3</td>\n",
       "    </tr>\n",
       "    <tr>\n",
       "      <th>3</th>\n",
       "      <td>4</td>\n",
       "      <td>2013.500</td>\n",
       "      <td>13.3</td>\n",
       "      <td>561.98450</td>\n",
       "      <td>5</td>\n",
       "      <td>24.98746</td>\n",
       "      <td>121.54391</td>\n",
       "      <td>54.8</td>\n",
       "    </tr>\n",
       "    <tr>\n",
       "      <th>4</th>\n",
       "      <td>5</td>\n",
       "      <td>2012.833</td>\n",
       "      <td>5.0</td>\n",
       "      <td>390.56840</td>\n",
       "      <td>5</td>\n",
       "      <td>24.97937</td>\n",
       "      <td>121.54245</td>\n",
       "      <td>43.1</td>\n",
       "    </tr>\n",
       "  </tbody>\n",
       "</table>\n",
       "</div>"
      ],
      "text/plain": [
       "   No  X1 transaction date  X2 house age  \\\n",
       "0   1             2012.917          32.0   \n",
       "1   2             2012.917          19.5   \n",
       "2   3             2013.583          13.3   \n",
       "3   4             2013.500          13.3   \n",
       "4   5             2012.833           5.0   \n",
       "\n",
       "   X3 distance to the nearest MRT station  X4 number of convenience stores  \\\n",
       "0                                84.87882                               10   \n",
       "1                               306.59470                                9   \n",
       "2                               561.98450                                5   \n",
       "3                               561.98450                                5   \n",
       "4                               390.56840                                5   \n",
       "\n",
       "   X5 latitude  X6 longitude  Y house price of unit area  \n",
       "0     24.98298     121.54024                        37.9  \n",
       "1     24.98034     121.53951                        42.2  \n",
       "2     24.98746     121.54391                        47.3  \n",
       "3     24.98746     121.54391                        54.8  \n",
       "4     24.97937     121.54245                        43.1  "
      ]
     },
     "execution_count": 7,
     "metadata": {},
     "output_type": "execute_result"
    }
   ],
   "source": [
    "real_estate.head()"
   ]
  },
  {
   "cell_type": "code",
   "execution_count": 8,
   "metadata": {},
   "outputs": [
    {
     "data": {
      "text/html": [
       "<div>\n",
       "<style scoped>\n",
       "    .dataframe tbody tr th:only-of-type {\n",
       "        vertical-align: middle;\n",
       "    }\n",
       "\n",
       "    .dataframe tbody tr th {\n",
       "        vertical-align: top;\n",
       "    }\n",
       "\n",
       "    .dataframe thead th {\n",
       "        text-align: right;\n",
       "    }\n",
       "</style>\n",
       "<table border=\"1\" class=\"dataframe\">\n",
       "  <thead>\n",
       "    <tr style=\"text-align: right;\">\n",
       "      <th></th>\n",
       "      <th>Serial No.</th>\n",
       "      <th>GRE Score</th>\n",
       "      <th>TOEFL Score</th>\n",
       "      <th>University Rating</th>\n",
       "      <th>SOP</th>\n",
       "      <th>LOR</th>\n",
       "      <th>CGPA</th>\n",
       "      <th>Research</th>\n",
       "      <th>Chance of Admit</th>\n",
       "    </tr>\n",
       "  </thead>\n",
       "  <tbody>\n",
       "    <tr>\n",
       "      <th>0</th>\n",
       "      <td>1</td>\n",
       "      <td>337</td>\n",
       "      <td>118</td>\n",
       "      <td>4</td>\n",
       "      <td>4.5</td>\n",
       "      <td>4.5</td>\n",
       "      <td>9.65</td>\n",
       "      <td>1</td>\n",
       "      <td>0.92</td>\n",
       "    </tr>\n",
       "    <tr>\n",
       "      <th>1</th>\n",
       "      <td>2</td>\n",
       "      <td>324</td>\n",
       "      <td>107</td>\n",
       "      <td>4</td>\n",
       "      <td>4.0</td>\n",
       "      <td>4.5</td>\n",
       "      <td>8.87</td>\n",
       "      <td>1</td>\n",
       "      <td>0.76</td>\n",
       "    </tr>\n",
       "    <tr>\n",
       "      <th>2</th>\n",
       "      <td>3</td>\n",
       "      <td>316</td>\n",
       "      <td>104</td>\n",
       "      <td>3</td>\n",
       "      <td>3.0</td>\n",
       "      <td>3.5</td>\n",
       "      <td>8.00</td>\n",
       "      <td>1</td>\n",
       "      <td>0.72</td>\n",
       "    </tr>\n",
       "    <tr>\n",
       "      <th>3</th>\n",
       "      <td>4</td>\n",
       "      <td>322</td>\n",
       "      <td>110</td>\n",
       "      <td>3</td>\n",
       "      <td>3.5</td>\n",
       "      <td>2.5</td>\n",
       "      <td>8.67</td>\n",
       "      <td>1</td>\n",
       "      <td>0.80</td>\n",
       "    </tr>\n",
       "    <tr>\n",
       "      <th>4</th>\n",
       "      <td>5</td>\n",
       "      <td>314</td>\n",
       "      <td>103</td>\n",
       "      <td>2</td>\n",
       "      <td>2.0</td>\n",
       "      <td>3.0</td>\n",
       "      <td>8.21</td>\n",
       "      <td>0</td>\n",
       "      <td>0.65</td>\n",
       "    </tr>\n",
       "  </tbody>\n",
       "</table>\n",
       "</div>"
      ],
      "text/plain": [
       "   Serial No.  GRE Score  TOEFL Score  University Rating  SOP  LOR   CGPA  \\\n",
       "0           1        337          118                  4  4.5   4.5  9.65   \n",
       "1           2        324          107                  4  4.0   4.5  8.87   \n",
       "2           3        316          104                  3  3.0   3.5  8.00   \n",
       "3           4        322          110                  3  3.5   2.5  8.67   \n",
       "4           5        314          103                  2  2.0   3.0  8.21   \n",
       "\n",
       "   Research  Chance of Admit   \n",
       "0         1              0.92  \n",
       "1         1              0.76  \n",
       "2         1              0.72  \n",
       "3         1              0.80  \n",
       "4         0              0.65  "
      ]
     },
     "execution_count": 8,
     "metadata": {},
     "output_type": "execute_result"
    }
   ],
   "source": [
    "admission.head()"
   ]
  },
  {
   "cell_type": "markdown",
   "metadata": {},
   "source": [
    "En ningún dataset hay presencia de valores NaN:"
   ]
  },
  {
   "cell_type": "code",
   "execution_count": 9,
   "metadata": {},
   "outputs": [
    {
     "name": "stdout",
     "output_type": "stream",
     "text": [
      "False False False\n"
     ]
    }
   ],
   "source": [
    "print(wine_quality.isnull().values.any(),real_estate.isnull().values.any(),admission.isnull().values.any())"
   ]
  },
  {
   "cell_type": "markdown",
   "metadata": {},
   "source": [
    "### 4.2 Generación de muestra"
   ]
  },
  {
   "cell_type": "markdown",
   "metadata": {},
   "source": [
    "A continuación se define el conjunto de features y target a utilizar para cada uno de los datasets:"
   ]
  },
  {
   "cell_type": "code",
   "execution_count": 10,
   "metadata": {},
   "outputs": [],
   "source": [
    "data = {\n",
    "            'wine_quality': (['fixed acidity', 'volatile acidity', 'citric acid', 'residual sugar',\n",
    "                              'chlorides', 'free sulfur dioxide', 'total sulfur dioxide', 'density',\n",
    "                              'pH', 'sulphates', 'alcohol'],'quality'),\n",
    "             'real_estate': (['No', 'X1 transaction date', 'X2 house age','X3 distance to the nearest MRT station',\n",
    "                              'X4 number of convenience stores', 'X5 latitude', 'X6 longitude'],\n",
    "                              'Y house price of unit area'),\n",
    "             'admission': (['GRE Score', 'TOEFL Score', 'University Rating', 'SOP','LOR ', 'CGPA', 'Research'],\n",
    "                            'Chance of Admit ')\n",
    "    }"
   ]
  },
  {
   "cell_type": "markdown",
   "metadata": {},
   "source": [
    "La función ``add_noise`` es la encargada de aplicar un ruido gaussiano a las columnas ``features`` del dataframe ``dataset``. Aplicaremos un ruido centrado en 0 y con la misma varianza a cada uno de los atributos tal como se indica en (1):"
   ]
  },
  {
   "cell_type": "code",
   "execution_count": 11,
   "metadata": {},
   "outputs": [],
   "source": [
    "def add_noise(dataset,features,sigma):\n",
    "    for i,feature in enumerate(features):\n",
    "        dataset[feature] = dataset[feature].apply(lambda x: x + sigma*np.random.randn())\n",
    "    return dataset"
   ]
  },
  {
   "cell_type": "markdown",
   "metadata": {},
   "source": [
    "La función ``generate_sample`` es la encargada de generar los datos de errores indicados en el paso 5 de nuestra metodología:"
   ]
  },
  {
   "cell_type": "code",
   "execution_count": 12,
   "metadata": {},
   "outputs": [],
   "source": [
    "from sklearn.metrics import mean_squared_error"
   ]
  },
  {
   "cell_type": "code",
   "execution_count": 13,
   "metadata": {},
   "outputs": [],
   "source": [
    "def generate_sample(datasets,data,x_limits,n=5):\n",
    "    errors = dict()\n",
    "    sigma = 2\n",
    "    for i,(name,dataset) in enumerate(datasets.items()):\n",
    "        alphas = np.linspace(0,x_limits[i],n)\n",
    "        training_data = {'sigmas':[],'lambdas':[],'noisy_error':[],'l2_error':[]}  \n",
    "        # Step 1\n",
    "        X_train, X_val, y_train, y_val = train_test_split(dataset[data[name][0]],\n",
    "                                                          dataset[data[name][1]],\n",
    "                                                          test_size=0.6,\n",
    "                                                          random_state=21)\n",
    "        for i in range(n):\n",
    "            # Step 2\n",
    "            X_train_noisy = add_noise(X_train.copy(),data[name][0],sigma)\n",
    "            # Step 3\n",
    "            alpha = alphas[i]\n",
    "            # Step 4\n",
    "            noisy_model = LinearRegression()\n",
    "            noisy_model = noisy_model.fit(X_train_noisy,y_train)\n",
    "            # Step 5\n",
    "            l2_model = Ridge(alpha=alpha)\n",
    "            l2_model = l2_model.fit(X_train,y_train)\n",
    "            # Step 6\n",
    "            noisy_predict = noisy_model.predict(X_val)\n",
    "            l2_predict = l2_model.predict(X_val)\n",
    "            noisy_error = mean_squared_error(y_val,noisy_predict)\n",
    "            l2_error = mean_squared_error(y_val,l2_predict)\n",
    "            # Step 7\n",
    "            training_data['sigmas'].append(sigma)\n",
    "            training_data['lambdas'].append(alpha)\n",
    "            training_data['noisy_error'].append(noisy_error)\n",
    "            training_data['l2_error'].append(l2_error)\n",
    "        errors[name] = training_data\n",
    "    return errors"
   ]
  },
  {
   "cell_type": "code",
   "execution_count": 14,
   "metadata": {
    "scrolled": true
   },
   "outputs": [],
   "source": [
    "datasets_dict = {\n",
    "             'wine_quality': wine_quality,\n",
    "             'real_estate': real_estate,\n",
    "             'admission': admission\n",
    "            }"
   ]
  },
  {
   "cell_type": "markdown",
   "metadata": {},
   "source": [
    "A continuación se generan los datos asociados a la simulación computacional:"
   ]
  },
  {
   "cell_type": "code",
   "execution_count": 15,
   "metadata": {},
   "outputs": [],
   "source": [
    "errors = generate_sample(datasets_dict,data,x_limits=[10000,2000,2000],n=100)"
   ]
  },
  {
   "cell_type": "markdown",
   "metadata": {},
   "source": [
    "Luego, obtenemos el error promedio por dataset para cada uno de los modelos (noisy y l2):"
   ]
  },
  {
   "cell_type": "code",
   "execution_count": 16,
   "metadata": {},
   "outputs": [],
   "source": [
    "def get_mean_error_per_dataset(errors,datasets):\n",
    "    mean_errors = list()\n",
    "    for dataset in datasets.keys():\n",
    "        mean_errors.append([np.mean(errors[dataset]['noisy_error']),\n",
    "                            np.mean(errors[dataset]['l2_error'])])\n",
    "    return mean_errors"
   ]
  },
  {
   "cell_type": "code",
   "execution_count": 17,
   "metadata": {},
   "outputs": [],
   "source": [
    "mean_errors = get_mean_error_per_dataset(errors,datasets_dict)"
   ]
  },
  {
   "cell_type": "code",
   "execution_count": 18,
   "metadata": {},
   "outputs": [
    {
     "data": {
      "text/plain": [
       "[[0.5826319685217913, 0.5892437400838518],\n",
       " [78.71278485200281, 78.96957613779314],\n",
       " [0.00595919644294892, 0.0059768887653140436]]"
      ]
     },
     "execution_count": 18,
     "metadata": {},
     "output_type": "execute_result"
    }
   ],
   "source": [
    "mean_errors"
   ]
  },
  {
   "cell_type": "markdown",
   "metadata": {},
   "source": [
    "Finalmente, se presentan gráficos en donde se evidencian los valores de $\\lambda$ tal que el desempeño entre el modelo con regularización $L_2$ y el modelo con los features ruidosos es igual (la diferencia de sus errores es 0):"
   ]
  },
  {
   "cell_type": "code",
   "execution_count": 19,
   "metadata": {},
   "outputs": [],
   "source": [
    "def plot_scatter(x,y,title=\"\",figsize=(10,4),xlabel=\"x\",ylabel=\"y\"):\n",
    "    fig = plt.figure(figsize=figsize)\n",
    "    ax = plt.axes()\n",
    "    ax.plot(x,y,'o')\n",
    "    ax.set_title(title)\n",
    "    ax.set_xlabel(xlabel)\n",
    "    ax.set_ylabel(ylabel)\n",
    "    plt.grid(color='gray', linestyle='solid')\n",
    "    plt.show()"
   ]
  },
  {
   "cell_type": "code",
   "execution_count": 20,
   "metadata": {},
   "outputs": [
    {
     "data": {
      "image/png": "[encoded data removed]",
      "text/plain": [
       "<Figure size 720x288 with 1 Axes>"
      ]
     },
     "metadata": {
      "needs_background": "light"
     },
     "output_type": "display_data"
    }
   ],
   "source": [
    "dataset = 'wine_quality'\n",
    "plot_scatter(errors[dataset]['lambdas'],\n",
    "             np.array(errors[dataset]['noisy_error']) - np.array(errors[dataset]['l2_error']),\n",
    "             title=\"Wine Quality\",\n",
    "             xlabel=\"Lambda\",\n",
    "             ylabel=\"Diferencia de errores\")"
   ]
  },
  {
   "cell_type": "code",
   "execution_count": 21,
   "metadata": {},
   "outputs": [
    {
     "data": {
      "image/png": "[encoded data removed]",
      "text/plain": [
       "<Figure size 720x288 with 1 Axes>"
      ]
     },
     "metadata": {
      "needs_background": "light"
     },
     "output_type": "display_data"
    }
   ],
   "source": [
    "dataset = 'real_estate'\n",
    "plot_scatter(errors[dataset]['lambdas'],\n",
    "             np.array(errors[dataset]['noisy_error']) - np.array(errors[dataset]['l2_error']),\n",
    "             title=\"Real state\",\n",
    "             xlabel=\"Lambda\",\n",
    "             ylabel=\"Diferencia de errores\")"
   ]
  },
  {
   "cell_type": "code",
   "execution_count": 22,
   "metadata": {},
   "outputs": [
    {
     "data": {
      "image/png": "[encoded data removed]",
      "text/plain": [
       "<Figure size 720x288 with 1 Axes>"
      ]
     },
     "metadata": {
      "needs_background": "light"
     },
     "output_type": "display_data"
    }
   ],
   "source": [
    "dataset = 'admission'\n",
    "plot_scatter(errors[dataset]['lambdas'],\n",
    "             np.array(errors[dataset]['noisy_error']) - np.array(errors[dataset]['l2_error']),\n",
    "             title=\"Graduate Admission 2\",\n",
    "             xlabel=\"Lambda\",\n",
    "             ylabel=\"Diferencia de errores\")"
   ]
  },
  {
   "cell_type": "markdown",
   "metadata": {},
   "source": [
    "### 4.3 Conclusiones"
   ]
  },
  {
   "cell_type": "markdown",
   "metadata": {},
   "source": [
    "1. Si bien el modelo entrenado con regularización $L_2$ tiene un MSE mayor para los tres datasets, la diferencia es mínima por lo que el desempeño en promedio es bastante similar."
   ]
  },
  {
   "cell_type": "code",
   "execution_count": 23,
   "metadata": {},
   "outputs": [
    {
     "name": "stdout",
     "output_type": "stream",
     "text": [
      "[True, True, True]\n"
     ]
    }
   ],
   "source": [
    "print([error[0] < error[1] for error in mean_errors])"
   ]
  },
  {
   "cell_type": "code",
   "execution_count": 24,
   "metadata": {},
   "outputs": [
    {
     "name": "stdout",
     "output_type": "stream",
     "text": [
      "[0.006611771562060498, 0.25679128579032806, 1.7692322365123886e-05]\n"
     ]
    }
   ],
   "source": [
    "print([error[1] - error[0] for error in mean_errors])"
   ]
  },
  {
   "cell_type": "markdown",
   "metadata": {},
   "source": [
    "2. Experimentamente se comprueba lo planteado en (2): en los tres datasets existen valores $\\lambda$ tal que la efectividad de los modelos, medida a través del MSE, es igual."
   ]
  },
  {
   "cell_type": "markdown",
   "metadata": {},
   "source": [
    "### 4.4 Referencias\n",
    "1. Bishop CM. Training with Noise is Equivalent to Tikhonov Regularization. Neural Computation 7 No. 1 (1995)."
   ]
  },
  {
   "cell_type": "markdown",
   "metadata": {
    "id": "Mro0DvciPO8t"
   },
   "source": [
    "# Parte 2. Desafío Kaggle \n",
    "\n",
    "Una de las paradojas más bizarras e interesantes de esta pandemia ha sido la masificación del concepto nómade digital: una persona, generalmente joven, que se pasa la vida viajando y trabajando de manera remota, a veces desde lugares inusuales y paradisíacos. En palabras de la multitud de personas que durante el último año se han sumado a este estilo de vida, la razón es tan simple como envidiable: \"Si tenemos que trabajar en línea, ¿porqué no hacerlo desde un país exótico?\".  \n",
    "\n",
    "Para esta parte del taller, tendrán que constuir un modelo capaz de predecir el precio de un paquete de viajes orientado a nómades digitales a partir de una serie de detalles como el destino o itinerario, los hoteles y comidas incluídas, los vuelos involucrados, etc. \n",
    "\n",
    "Para acceder a loss detalles del desafío ingrese al siguiente link: https://www.kaggle.com/c/nomades-digitales/\n",
    "\n"
   ]
  },
  {
   "cell_type": "markdown",
   "metadata": {
    "id": "VVzSTfeQkrBl"
   },
   "source": [
    "## 1. Importación de librerías"
   ]
  },
  {
   "cell_type": "code",
   "execution_count": null,
   "metadata": {},
   "outputs": [],
   "source": [
    "# Fundamentals\n",
    "import spacy\n",
    "import json\n",
    "import datetime as dt\n",
    "import re\n",
    "from scipy import stats"
   ]
  },
  {
   "cell_type": "code",
   "execution_count": null,
   "metadata": {},
   "outputs": [],
   "source": [
    "# Visualization\n",
    "import matplotlib.pyplot as plt\n",
    "import seaborn as sns"
   ]
  },
  {
   "cell_type": "code",
   "execution_count": null,
   "metadata": {},
   "outputs": [],
   "source": [
    "# Sklearn\n",
    "from sklearn.preprocessing import StandardScaler\n",
    "from sklearn import preprocessing\n",
    "from sklearn.compose import ColumnTransformer\n",
    "from sklearn.preprocessing import StandardScaler\n",
    "from sklearn.preprocessing import Normalizer\n",
    "from sklearn import svm\n",
    "from sklearn import linear_model\n",
    "from sklearn.preprocessing import PolynomialFeatures\n",
    "from sklearn.pipeline import Pipeline\n",
    "from sklearn.linear_model import SGDRegressor\n",
    "from sklearn.feature_selection import SelectKBest\n",
    "from sklearn.feature_selection import f_regression\n",
    "from sklearn.feature_selection import mutual_info_regression\n",
    "from sklearn.linear_model import LassoCV\n",
    "from sklearn.feature_selection import SequentialFeatureSelector\n",
    "from sklearn.feature_selection import SelectFromModel\n",
    "from sklearn.feature_selection import RFECV\n",
    "from sklearn.decomposition import PCA\n",
    "from sklearn.feature_selection import VarianceThreshold"
   ]
  },
  {
   "cell_type": "markdown",
   "metadata": {},
   "source": [
    "## 2. Descripción Dataset"
   ]
  },
  {
   "cell_type": "markdown",
   "metadata": {},
   "source": [
    "## 3. Recopilación de datos"
   ]
  },
  {
   "cell_type": "code",
   "execution_count": null,
   "metadata": {},
   "outputs": [],
   "source": [
    "# Import train and test sets\n",
    "train = pd.read_csv(\"./datasets/travel_packages_train.csv\")\n",
    "test = pd.read_csv(\"./datasets/travel_packages_test.csv\")"
   ]
  },
  {
   "cell_type": "code",
   "execution_count": null,
   "metadata": {},
   "outputs": [],
   "source": [
    "# Fix columns names\n",
    "train = train.rename(columns = {\"Unnamed: 0\": \"Index\"})\n",
    "train.columns = train.columns.str.lower().str.replace(' ','_')\n",
    "test = test.rename(columns = {\"Unnamed: 0\": \"Index\"})\n",
    "test.columns = test.columns.str.lower().str.replace(' ','_')"
   ]
  },
  {
   "cell_type": "markdown",
   "metadata": {},
   "source": [
    "## 4. Exploración de datos"
   ]
  },
  {
   "cell_type": "code",
   "execution_count": null,
   "metadata": {},
   "outputs": [],
   "source": [
    "train.shape"
   ]
  },
  {
   "cell_type": "code",
   "execution_count": null,
   "metadata": {},
   "outputs": [],
   "source": [
    "# Column names\n",
    "print(train.columns)"
   ]
  },
  {
   "cell_type": "code",
   "execution_count": null,
   "metadata": {},
   "outputs": [],
   "source": [
    "# Number of uniques values per column\n",
    "print(train.nunique(axis=0))"
   ]
  },
  {
   "cell_type": "markdown",
   "metadata": {},
   "source": [
    "## 5 Preprocesamiento de datos"
   ]
  },
  {
   "cell_type": "markdown",
   "metadata": {},
   "source": [
    "### 5.1 Data Cleaning"
   ]
  },
  {
   "cell_type": "code",
   "execution_count": null,
   "metadata": {},
   "outputs": [],
   "source": [
    "train.isnull().values.any()"
   ]
  },
  {
   "cell_type": "code",
   "execution_count": null,
   "metadata": {},
   "outputs": [],
   "source": [
    "test.isnull().values.any()"
   ]
  },
  {
   "cell_type": "code",
   "execution_count": null,
   "metadata": {},
   "outputs": [],
   "source": [
    "train.head()"
   ]
  },
  {
   "cell_type": "markdown",
   "metadata": {},
   "source": [
    "### 5.2 Data integration"
   ]
  },
  {
   "cell_type": "code",
   "execution_count": null,
   "metadata": {},
   "outputs": [],
   "source": [
    "# Read file with distances\n",
    "with open('distances.json', 'r') as fp:\n",
    "    distancias = json.load(fp)"
   ]
  },
  {
   "cell_type": "code",
   "execution_count": null,
   "metadata": {},
   "outputs": [],
   "source": [
    "# Get average distance between two places\n",
    "promedio = 0\n",
    "for origen, destinos in distancias.items():\n",
    "    \n",
    "    if(np.isnan(np.nanmean(np.array(list(destinos.values()), dtype=np.float64)))):\n",
    "        continue\n",
    "    else:\n",
    "        promedio = (promedio + np.nanmean(np.array(list(destinos.values()), dtype=np.float64)))/2\n",
    "\n",
    "for origen, destinos in distancias.items():\n",
    "    # Distancia promedio del origen a todos los destinos\n",
    "    for destino, distancia in destinos.items():\n",
    "        if(distancia == None or np.isnan(distancia)):\n",
    "            distancias[origen][destino] = promedio\n",
    "print(promedio)"
   ]
  },
  {
   "cell_type": "markdown",
   "metadata": {},
   "source": [
    "### 5.3 Data transformation"
   ]
  },
  {
   "cell_type": "code",
   "execution_count": null,
   "metadata": {},
   "outputs": [],
   "source": [
    "# Transform travel_date format to datetime\n",
    "train['date'] = pd.to_datetime(train['travel_date'])\n",
    "test['date'] = pd.to_datetime(test['travel_date'])"
   ]
  },
  {
   "cell_type": "code",
   "execution_count": null,
   "metadata": {},
   "outputs": [],
   "source": [
    "# Transform datetime to ordinal representation\n",
    "train['date'] = train['date'].map(dt.datetime.toordinal)\n",
    "test['date'] = test['date'].map(dt.datetime.toordinal)"
   ]
  },
  {
   "cell_type": "code",
   "execution_count": null,
   "metadata": {},
   "outputs": [],
   "source": [
    "# Get number of places included in package\n",
    "train[\"number_places\"] = train.apply(lambda row: len(row.places_covered.split(\"|\")),axis=1)\n",
    "test[\"number_places\"] = test.apply(lambda row: len(row.places_covered.split(\"|\")),axis=1)"
   ]
  },
  {
   "cell_type": "code",
   "execution_count": null,
   "metadata": {},
   "outputs": [],
   "source": [
    "# Get number of sightseeings (visits to tourist places)\n",
    "train[\"number_sightseeing\"] = train.apply(lambda row: len(row.sightseeing_places_covered.split(\"|\")),axis=1)\n",
    "test[\"number_sightseeing\"] = test.apply(lambda row: len(row.sightseeing_places_covered.split(\"|\")),axis=1)"
   ]
  },
  {
   "cell_type": "code",
   "execution_count": null,
   "metadata": {},
   "outputs": [],
   "source": [
    "#train[\"number_destination\"] = train.apply(lambda row: len(row.destination.split(\"|\")),axis=1)\n",
    "#test[\"number_destination\"] = test.apply(lambda row: len(row.destination.split(\"|\")),axis=1)"
   ]
  },
  {
   "cell_type": "code",
   "execution_count": null,
   "metadata": {},
   "outputs": [],
   "source": [
    "# Encode package type as numbers\n",
    "package_codes = {'Budget': 1, 'Standard': 2, 'Premium': 3, 'Deluxe': 4,'Luxury':5}\n",
    "train[\"package_code\"] = train.apply(lambda row: package_codes[row.package_type],axis=1)\n",
    "test[\"package_code\"] = test.apply(lambda row: package_codes[row.package_type],axis=1)"
   ]
  },
  {
   "cell_type": "code",
   "execution_count": null,
   "metadata": {},
   "outputs": [],
   "source": [
    "# Get meal quality score based on the package\n",
    "train[\"meals_score\"] = train[\"meals\"] * train[\"package_code\"]\n",
    "test[\"meals_score\"] = test[\"meals\"] * train[\"package_code\"]"
   ]
  },
  {
   "cell_type": "code",
   "execution_count": null,
   "metadata": {},
   "outputs": [],
   "source": [
    "# Get number of nights\n",
    "train[\"nights\"] = train.apply(lambda row: sum(map(int,re.findall(\"(\\d+)N\",row.itinerary))),axis=1)\n",
    "test[\"nights\"] = test.apply(lambda row: sum(map(int,re.findall(\"(\\d+)N\",row.itinerary))),axis=1)"
   ]
  },
  {
   "cell_type": "code",
   "execution_count": null,
   "metadata": {},
   "outputs": [],
   "source": [
    "# Get number of hotels with spa\n",
    "train[\"spa\"] = train.apply(lambda row: int(\"spa\" in row.hotel_details.lower()),axis=1)\n",
    "test[\"spa\"] = test.apply(lambda row: int(\"spa\" in row.hotel_details.lower()),axis=1)"
   ]
  },
  {
   "cell_type": "markdown",
   "metadata": {},
   "source": [
    "Extraemos las aerolineas presentes en el dataset:"
   ]
  },
  {
   "cell_type": "code",
   "execution_count": null,
   "metadata": {},
   "outputs": [],
   "source": [
    "airline_df = pd.concat([train[\"airline\"],test[\"airline\"]])\n",
    "airlines = []\n",
    "for airline in np.unique(airline_df.values):\n",
    "    airlines_flattened = np.array(airline.split('|')).flatten()\n",
    "    for airline_flattened in airlines_flattened:\n",
    "        airlines.append(airline_flattened)\n",
    "airlines = list(set(airlines))"
   ]
  },
  {
   "cell_type": "markdown",
   "metadata": {},
   "source": [
    "Se buscó en internet la el precio promedio x km de viaje en cada aerolinea (en USD):"
   ]
  },
  {
   "cell_type": "code",
   "execution_count": null,
   "metadata": {},
   "outputs": [],
   "source": [
    "cost_per_km = {'Qatar Airways': 0.11,\n",
    " 'Singapore Airlines': 0.11,\n",
    " 'Sichuan Airlines': 0.13,\n",
    " 'China Southern': 0.11,\n",
    " 'Thai Vietjet Air': 0.11,\n",
    " 'Kenya Airways': 0.2,\n",
    " 'Air Austral': 0.22,\n",
    " 'AirAsia X': 0.07,\n",
    " 'Ethiopian Airlines': 0.14,\n",
    " 'AirAsia': 0.13,\n",
    " 'EgyptAir': 0.15,\n",
    " 'Air Seychelles': 0.15,\n",
    " 'Malaysia Airlines': 0.13,\n",
    " 'Airconnect': 0.13,\n",
    " 'Air India': 0.15,\n",
    " 'British Airways': 0.2,\n",
    " 'Kuwait Airways': 0.11,\n",
    " 'Malindo Air': 0.13,\n",
    " 'Gulf Air': 0.11,\n",
    " 'Jetstar Asia': 0.13,\n",
    " 'Scoot': 0.11,\n",
    " 'Uzbekistan Airways': 0.13,\n",
    " 'Philippine Airlines': 0.12,\n",
    " 'Brussels Airlines': 0.21,\n",
    " 'Spicejet': 0.14,\n",
    " 'AirAsia Indonesia': 0.08,\n",
    " 'Go Air': 0.13,\n",
    " 'Emirates':0.14,#nan\n",
    " 'Air India Express': 0.08,\n",
    " 'Norwegian': 0.17,\n",
    " 'Swiss': 0.21,\n",
    " 'Thai Airways': 0.13,\n",
    " 'Bangkok Airways': 0.31,\n",
    " 'Lufthansa': 0.22,\n",
    " 'Cathay Pacific': 0.11,\n",
    " 'South African Airways': 0.19,\n",
    " 'Jetstar Airways': 0.13,\n",
    " 'IndiGo': 0.12,\n",
    " 'Vistara': 0.13,\n",
    " 'Oman Air': 0.1,\n",
    " 'Srilankan Airlines': 0.11,\n",
    " 'Garuda Indonesia': 0.12,\n",
    " 'Air Mauritius': 0.17,\n",
    " 'China Eastern': 0.12,\n",
    " 'Not Available':0.14,# nan\n",
    " 'Etihad Airways': 0.1,\n",
    " 'Qantas Airways': 0.1,\n",
    " 'Aeroflot': 0.13,\n",
    " 'Thai AirAsia': 0.18,\n",
    " 'Silkair': 0.21,\n",
    " 'Saudia': 0.12,\n",
    " 'Turkish Airlines': 0.16,\n",
    " 'Air New Zealand': 0.13,\n",
    " 'Virgin Atlantic': 0.13,\n",
    " 'Air Baltic': 0.19,\n",
    " 'Finnair': 0.1}"
   ]
  },
  {
   "cell_type": "markdown",
   "metadata": {},
   "source": [
    "Se reemplazaron los valores nan, por el promedio de los valores validos:"
   ]
  },
  {
   "cell_type": "code",
   "execution_count": null,
   "metadata": {},
   "outputs": [],
   "source": [
    "np.nanmean(np.array(list(cost_per_km.values()),dtype=np.float64))"
   ]
  },
  {
   "cell_type": "code",
   "execution_count": null,
   "metadata": {},
   "outputs": [],
   "source": [
    "def count_spa(itinerary, hotel_details, nights):\n",
    "    try:\n",
    "        return sum(np.array(list(map(int,re.findall(\"(\\d+)N\",itinerary)))) * np.array((list((\"spa\" in s) for s in hotel_details.lower().split(\"|\")))))\n",
    "    except:\n",
    "        return nights/2\n",
    "def weighted_mean_rate(itinerary, hotel_details):\n",
    "    itinerario = np.array(list(map(int,re.findall(\"(\\d+)N\",itinerary))))\n",
    "    rates = np.array(list(map(float,re.findall(\"(\\d\\.\\d)\",hotel_details))))\n",
    "    try:\n",
    "        return sum(itinerario * rates)/sum(itinerario)\n",
    "    except:\n",
    "        return np.mean(rates) if len(rates)>0 else 4.2 # check"
   ]
  },
  {
   "cell_type": "markdown",
   "metadata": {},
   "source": [
    "Contamos las noches en un hotel con spa (estimado):"
   ]
  },
  {
   "cell_type": "code",
   "execution_count": null,
   "metadata": {},
   "outputs": [],
   "source": [
    "# Get number of nights with spa (estimated sometimes)\n",
    "train[\"nights_with_spa\"] = train.apply(lambda row: count_spa(row.itinerary, row.hotel_details, row.nights),axis=1)\n",
    "test[\"nights_with_spa\"] = test.apply(lambda row: count_spa(row.itinerary, row.hotel_details, row.nights),axis=1)"
   ]
  },
  {
   "cell_type": "markdown",
   "metadata": {},
   "source": [
    "Se obtiene el promedio ponderado de las calificaciones de los hoteles por la cantidad de noches que se está en cada uno:"
   ]
  },
  {
   "cell_type": "code",
   "execution_count": null,
   "metadata": {},
   "outputs": [],
   "source": [
    "# Get hotel quality mean weighted by number of nights in hotels \n",
    "train[\"hotels_score\"] = train.apply(lambda row: weighted_mean_rate(row.itinerary, row.hotel_details),axis=1)\n",
    "test[\"hotels_score\"] = test.apply(lambda row: weighted_mean_rate(row.itinerary, row.hotel_details),axis=1)\n",
    "train.hotels_score[train.hotels_score == 0] = train[\"hotels_score\"][train[\"hotels_score\"]!=0].mean()\n",
    "test.hotels_score[test.hotels_score == 0] = train[\"hotels_score\"][train[\"hotels_score\"]!=0].mean()"
   ]
  },
  {
   "cell_type": "code",
   "execution_count": null,
   "metadata": {},
   "outputs": [],
   "source": [
    "train[\"hotels_score\"].describe()"
   ]
  },
  {
   "cell_type": "code",
   "execution_count": null,
   "metadata": {},
   "outputs": [],
   "source": [
    "# Encode start city\n",
    "train = train.join(pd.get_dummies(train['start_city']))\n",
    "test = test.join(pd.get_dummies(test['start_city']))"
   ]
  },
  {
   "cell_type": "markdown",
   "metadata": {},
   "source": [
    "Se utiliza one-hot-encoding para las reglas de cancelación:"
   ]
  },
  {
   "cell_type": "code",
   "execution_count": null,
   "metadata": {},
   "outputs": [],
   "source": [
    "# Encode package of cancellation rules\n",
    "cancellation_rules_code = dict(zip(train[\"cancellation_rules\"].unique(), ['a','b','c','d','e','f','g','h']))\n",
    "\n",
    "train[\"cancellation_rule_package\"] = train.apply(lambda row: cancellation_rules_code.get(row.cancellation_rules,\"i\"),axis=1)\n",
    "test[\"cancellation_rule_package\"] = test.apply(lambda row: cancellation_rules_code.get(row.cancellation_rules,\"i\"),axis=1)\n",
    "\n",
    "train = train.join(pd.get_dummies(train['cancellation_rule_package']))\n",
    "train[\"i\"] = 0\n",
    "\n",
    "test = test.join(pd.get_dummies(test['cancellation_rule_package']))\n",
    "test[\"e\"] = 0\n",
    "test[\"g\"] = 0"
   ]
  },
  {
   "cell_type": "markdown",
   "metadata": {},
   "source": [
    "Se obtuvo la distancia entre cada uno de los vuelos con ayuda de la distance matrix API de google maps:"
   ]
  },
  {
   "cell_type": "code",
   "execution_count": null,
   "metadata": {},
   "outputs": [],
   "source": [
    "def total_distance(row, distances):\n",
    "    destinations = np.append(np.append(row.start_city,np.array(row.destination.split(\"|\"))),row.start_city)\n",
    "    distance = 0\n",
    "    distances_list = []\n",
    "    for i in range(len(destinations)-1):\n",
    "        current_distance = distances[destinations[i]][destinations[i+1]] if ((destinations[i] in distances and destinations[i+1] in distances[destinations[i]])) else distances[destinations[i+1]][destinations[i]]\n",
    "        distances_list.append(current_distance)\n",
    "        distance = distance + current_distance\n",
    "    return distance"
   ]
  },
  {
   "cell_type": "code",
   "execution_count": null,
   "metadata": {},
   "outputs": [],
   "source": [
    "def cost_por_km(row):\n",
    "    mean_cost_airlines = np.mean(np.array([cost_per_km[i] for i in row.airline.split(\"|\")],dtype=np.float64))\n",
    "    return mean_cost_airlines"
   ]
  },
  {
   "cell_type": "markdown",
   "metadata": {},
   "source": [
    "Se calcula la distancia total en base a todos los lugares visitados, considerando la ciudad de origen"
   ]
  },
  {
   "cell_type": "code",
   "execution_count": null,
   "metadata": {},
   "outputs": [],
   "source": [
    "# Get total distance\n",
    "train[\"total_distance\"] = train.apply(lambda row: total_distance(row,distancias),axis=1)\n",
    "test[\"total_distance\"] = test.apply(lambda row: total_distance(row,distancias),axis=1)"
   ]
  },
  {
   "cell_type": "code",
   "execution_count": null,
   "metadata": {},
   "outputs": [],
   "source": [
    "# Get mean cost per km\n",
    "train[\"cost_per_km\"] = train.apply(lambda row: cost_por_km(row),axis=1)\n",
    "test[\"cost_per_km\"] = test.apply(lambda row: cost_por_km(row),axis=1)"
   ]
  },
  {
   "cell_type": "code",
   "execution_count": null,
   "metadata": {},
   "outputs": [],
   "source": [
    "# Get mean total cost of airlines\n",
    "train[\"cost_airlines\"] = train[\"total_distance\"] * train[\"cost_per_km\"]\n",
    "test[\"cost_airlines\"] = test[\"total_distance\"] * test[\"cost_per_km\"]"
   ]
  },
  {
   "cell_type": "code",
   "execution_count": null,
   "metadata": {},
   "outputs": [],
   "source": [
    "# Get mean total cost of airlines\n",
    "train[\"cost_airlines_by_type\"] = train[\"total_distance\"] * train[\"cost_per_km\"] * train[\"package_code\"]\n",
    "test[\"cost_airlines_by_type\"] = test[\"total_distance\"] * test[\"cost_per_km\"] * train[\"package_code\"]"
   ]
  },
  {
   "cell_type": "markdown",
   "metadata": {},
   "source": [
    "Se codifica la fecha en coordenadas polares para capturar la relación ciclica del año (365 días)"
   ]
  },
  {
   "cell_type": "code",
   "execution_count": null,
   "metadata": {},
   "outputs": [],
   "source": [
    "# Encode the date due to its cyclical nature\n",
    "train[\"sin_date\"] = train.apply(lambda row: np.sin(2*np.pi*(int(row.travel_date.split(\"-\")[0])+(int(row.travel_date.split(\"-\")[1])*30))/365),axis=1)\n",
    "train[\"cos_date\"] = train.apply(lambda row: np.cos(2*np.pi*(int(row.travel_date.split(\"-\")[0])+(int(row.travel_date.split(\"-\")[1])*30))/365),axis=1)\n",
    "\n",
    "test[\"sin_date\"] = test.apply(lambda row: np.sin(2*np.pi*(int(row.travel_date.split(\"-\")[0])+(int(row.travel_date.split(\"-\")[1])*30))/365),axis=1)\n",
    "test[\"cos_date\"] = test.apply(lambda row: np.cos(2*np.pi*(int(row.travel_date.split(\"-\")[0])+(int(row.travel_date.split(\"-\")[1])*30))/365),axis=1)"
   ]
  },
  {
   "cell_type": "markdown",
   "metadata": {},
   "source": [
    "### Análisis distribucional"
   ]
  },
  {
   "cell_type": "code",
   "execution_count": null,
   "metadata": {},
   "outputs": [],
   "source": [
    "# Funciones de transformación para conseguir distribuciones normales\n",
    "def cubo(x):\n",
    "  return np.power(x,3)\n",
    "def log_cubo(x):\n",
    "  return np.log(np.power(x,3))\n",
    "def test_transformations(variable, alpha=0, bins=20, plot=False, only_boxcox=False, title=\"Histogram\"):\n",
    "  # Recibe como input una columna de un dataframe, por ejemplo: df[\"number_places\"]\n",
    "  if plot:\n",
    "    fig, ax = plt.subplots(figsize=(4,3))\n",
    "    ax = plt.hist(variable, bins=bins, color='b', edgecolor='w')\n",
    "    #ax = plt.displot(variable, bins=bins, color='b', edgecolor='w')\n",
    "    plt.title(title)\n",
    "    plt.show\n",
    "\n",
    "  try:\n",
    "    variable_boxcox = stats.boxcox(variable,alpha)\n",
    "    if plot:\n",
    "      fig, ax = plt.subplots(figsize=(4,3))\n",
    "      ax = plt.hist(variable_boxcox, bins=bins, color='b', edgecolor='w')\n",
    "      plt.title('Box cox '+ str(alpha))\n",
    "      plt.show\n",
    "    if only_boxcox:\n",
    "      return variable_boxcox\n",
    "  except:\n",
    "    print(\"Datos negativos, no es posible aplicar boxcox\")\n",
    "  \n",
    "  variable_tr = variable.transform([np.sqrt, np.exp, np.log, np.reciprocal, np.square, cubo])\n",
    "  if plot:\n",
    "    variable_tr.hist(bins=20, layout=(3,3), edgecolor='k', figsize=(10,8))\n",
    "    plt.suptitle(\"Transformed Output\")\n",
    "    plt.show()\n",
    "  try:\n",
    "    variable_tr['boxcox'] = variable_boxcox\n",
    "  except:\n",
    "    print(\"\")\n",
    "  return variable_tr"
   ]
  },
  {
   "cell_type": "code",
   "execution_count": null,
   "metadata": {},
   "outputs": [],
   "source": [
    "numerical_features = ['number_places','package_code', \n",
    "                      'meals_score','nights','nights_with_spa','hotels_score', \n",
    "                      'meals','flight_stops','total_distance','ppprice']"
   ]
  },
  {
   "cell_type": "code",
   "execution_count": null,
   "metadata": {},
   "outputs": [],
   "source": [
    "pairplot = sns.pairplot(train[numerical_features])"
   ]
  },
  {
   "cell_type": "markdown",
   "metadata": {},
   "source": [
    "Se aplican transformaciones para llevar las distribuciones de las variables a una distribución normal:"
   ]
  },
  {
   "cell_type": "code",
   "execution_count": null,
   "metadata": {},
   "outputs": [],
   "source": [
    "# Transformación para conseguir distribución normal en meals score\n",
    "train[\"norm_meals_score\"] = test_transformations(train['meals_score'],0.25,bins=15, plot=False)[\"sqrt\"]\n",
    "test[\"norm_meals_score\"] = test_transformations(test['meals_score'],0.25,bins=15, plot=False)[\"sqrt\"]"
   ]
  },
  {
   "cell_type": "code",
   "execution_count": null,
   "metadata": {},
   "outputs": [],
   "source": [
    "# Transformación para conseguir distribución normal en package_code SIRVE\n",
    "#train[\"sqrt_package_code\"] = test_transformations(train['package_code'],0.67,bins=15, plot=False)[\"sqrt\"]"
   ]
  },
  {
   "cell_type": "code",
   "execution_count": null,
   "metadata": {},
   "outputs": [],
   "source": [
    "# Transformación para conseguir distribución normal en nights\n",
    "train[\"norm_nights\"] = test_transformations(train['nights'],0.03,bins=15, plot=False)[\"boxcox\"]\n",
    "test[\"norm_nights\"] = test_transformations(test['nights'],0.03,bins=15, plot=False)[\"boxcox\"]"
   ]
  },
  {
   "cell_type": "code",
   "execution_count": null,
   "metadata": {},
   "outputs": [],
   "source": [
    "# Transformación para conseguir distribución normal en nights_with_spa\n",
    "#train[\"boxcox_nights_with_spa\"] = test_transformations(train['nights_with_spa'],0.03,bins=15, plot=True)[\"sqrt\"]"
   ]
  },
  {
   "cell_type": "code",
   "execution_count": null,
   "metadata": {},
   "outputs": [],
   "source": [
    "# Transformación para conseguir distribución normal en hotels score SIRVE\n",
    "#train[\"boxcox_hotels_score\"] = test_transformations(train['hotels_score'],1.2,bins=15, plot=True)[\"boxcox\"]"
   ]
  },
  {
   "cell_type": "code",
   "execution_count": null,
   "metadata": {},
   "outputs": [],
   "source": [
    "# Transformación para conseguir distribución normal en norm_meals\n",
    "#train[\"norm_meals\"] = test_transformations(train['meals'],1.2,bins=15, plot=True)[\"boxcox\"]"
   ]
  },
  {
   "cell_type": "code",
   "execution_count": null,
   "metadata": {},
   "outputs": [],
   "source": [
    "# Transformación para conseguir distribución normal en flight_stops\n",
    "#train[\"norm_flight_stops\"] = test_transformations(train['flight_stops'],1.2,bins=15, plot=True)[\"boxcox\"]"
   ]
  },
  {
   "cell_type": "code",
   "execution_count": null,
   "metadata": {},
   "outputs": [],
   "source": [
    "# Transformación para conseguir distribución normal en total_distance\n",
    "train[\"norm_total_distance\"] = test_transformations(train['total_distance'],0.08,bins=15, plot=False, only_boxcox=True)\n",
    "test[\"norm_total_distance\"] = test_transformations(test['total_distance'],0.08,bins=15, plot=False, only_boxcox=True)"
   ]
  },
  {
   "cell_type": "code",
   "execution_count": null,
   "metadata": {},
   "outputs": [],
   "source": [
    "# Transformación para conseguir distribución normal en total_distance\n",
    "train[\"norm_cost_airlines\"] = test_transformations(train['cost_airlines'],0.28,bins=15, plot=False, only_boxcox=True)\n",
    "test[\"norm_cost_airlines\"] = test_transformations(test['cost_airlines'],0.28,bins=15, plot=False, only_boxcox=True)"
   ]
  },
  {
   "cell_type": "code",
   "execution_count": null,
   "metadata": {},
   "outputs": [],
   "source": [
    "# Transformación para conseguir distribución normal en total_distance\n",
    "train[\"norm_cost_airlines_by_type\"] = test_transformations(train['cost_airlines_by_type'],0.15,bins=15, plot=True, only_boxcox=True, title=\"cost_airlines_by_type train\")\n",
    "test[\"norm_cost_airlines_by_type\"] = test_transformations(test['cost_airlines_by_type'],0.15,bins=15, plot=True, only_boxcox=True, title=\"cost_airlines_by_type test\")"
   ]
  },
  {
   "cell_type": "markdown",
   "metadata": {},
   "source": [
    "### Transformaciones polinomiales"
   ]
  },
  {
   "cell_type": "code",
   "execution_count": null,
   "metadata": {},
   "outputs": [],
   "source": [
    "# Transformación polinomio grado 2\n",
    "train[\"number_places_2\"] = train[\"number_places\"]**2\n",
    "train[\"package_code_2\"] = train[\"package_code\"]**2\n",
    "train[\"meals_score_2\"] = train[\"meals_score\"]**2\n",
    "train[\"nights_2\"] = train[\"nights\"]**2\n",
    "train[\"flight_stops_2\"] = train[\"flight_stops\"]**2\n",
    "test[\"number_places_2\"] = test[\"number_places\"]**2\n",
    "test[\"package_code_2\"] = test[\"package_code\"]**2\n",
    "test[\"meals_score_2\"] = test[\"meals_score\"]**2\n",
    "test[\"nights_2\"] = test[\"nights\"]**2\n",
    "test[\"flight_stops_2\"] = test[\"flight_stops\"]**2"
   ]
  },
  {
   "cell_type": "markdown",
   "metadata": {},
   "source": [
    "## 6. Data Analysis"
   ]
  },
  {
   "cell_type": "markdown",
   "metadata": {},
   "source": [
    "Se proceden a seleccionar aquellas variables independientes que estén correlacionadas con la variable dependiente:"
   ]
  },
  {
   "cell_type": "code",
   "execution_count": null,
   "metadata": {},
   "outputs": [],
   "source": [
    "high_corr = (train.corr()[\"ppprice\"][np.abs(train.corr()[\"ppprice\"])>0.2]).index.values\n",
    "remover = ['flight_stops_2','meals','number_places',\n",
    "           'meals_score','nights','total_distance',\n",
    "           'nights_2','cost_airlines','cost_airlines_by_type']\n",
    "for deleted in remover:\n",
    "  high_corr = np.delete(high_corr,np.where(high_corr == deleted))\n",
    "print(high_corr)\n",
    "train_high_corr = train[high_corr]\n",
    "train_high_corr.head()"
   ]
  },
  {
   "cell_type": "code",
   "execution_count": null,
   "metadata": {},
   "outputs": [],
   "source": [
    "matrix_corr = train_high_corr.corr()\n",
    "matrix_corr.style.background_gradient(cmap='coolwarm')"
   ]
  },
  {
   "cell_type": "markdown",
   "metadata": {},
   "source": [
    "Se eliminan aquellas variables que introduzcan multicolinearidad al modelo (dado los supuestos de la regresión lineal)"
   ]
  },
  {
   "cell_type": "code",
   "execution_count": null,
   "metadata": {},
   "outputs": [],
   "source": [
    "non_multicol = high_corr\n",
    "#remover = ['norm_cost_airlines','norm_total_distance','b','flight_stops']#probar añadir a la lista\n",
    "remover = []\n",
    "for deleted in remover:\n",
    "  non_multicol = np.delete(non_multicol,np.where(non_multicol == deleted))\n",
    "print(non_multicol)\n",
    "train_non_multicol = train[non_multicol]\n",
    "train_non_multicol.head()"
   ]
  },
  {
   "cell_type": "code",
   "execution_count": null,
   "metadata": {},
   "outputs": [],
   "source": [
    "train_non_multicol.corr().style.background_gradient(cmap='coolwarm')"
   ]
  },
  {
   "cell_type": "markdown",
   "metadata": {},
   "source": [
    "Generamos una lista con las variables que van a ser estandarizadas"
   ]
  },
  {
   "cell_type": "code",
   "execution_count": null,
   "metadata": {},
   "outputs": [],
   "source": [
    "delete_for_normalizing = [\"a\"]\n",
    "non_multicol_for_normalizing = non_multicol\n",
    "for deleted in delete_for_normalizing:\n",
    "  non_multicol_for_normalizing = np.delete(non_multicol_for_normalizing,np.where(non_multicol_for_normalizing==deleted))"
   ]
  },
  {
   "cell_type": "code",
   "execution_count": null,
   "metadata": {},
   "outputs": [],
   "source": [
    "#sns.pairplot(train[non_multicol])"
   ]
  },
  {
   "cell_type": "code",
   "execution_count": null,
   "metadata": {},
   "outputs": [],
   "source": [
    "non_multicol = np.delete(non_multicol,np.where(non_multicol==\"ppprice\"))\n",
    "non_multicol_for_normalizing = np.delete(non_multicol_for_normalizing,np.where(non_multicol_for_normalizing==\"ppprice\"))"
   ]
  },
  {
   "cell_type": "markdown",
   "metadata": {},
   "source": [
    "## 7. Selección de modelo"
   ]
  },
  {
   "cell_type": "code",
   "execution_count": null,
   "metadata": {},
   "outputs": [],
   "source": [
    "# Se remueve 'a' y 'Mumbai' para evitar multicolinealidad al utilizar one hot encoding\n",
    "numerical_features = ['date','package_code', \n",
    "                      'meals_score','spa','nights','nights_with_spa','hotels_score', \n",
    "                      'b','c','New Delhi',\n",
    "                      'meals','flight_stops','total_distance',\n",
    "                      'norm_total_distance','norm_meals_score','norm_nights',\n",
    "                      'norm_cost_airlines','norm_cost_airlines_by_type']"
   ]
  },
  {
   "cell_type": "code",
   "execution_count": null,
   "metadata": {},
   "outputs": [],
   "source": [
    "#numerical_features = non_multicol"
   ]
  },
  {
   "cell_type": "markdown",
   "metadata": {},
   "source": [
    "Se divide el conjunto de entrenamiento en train y validación:"
   ]
  },
  {
   "cell_type": "code",
   "execution_count": null,
   "metadata": {},
   "outputs": [],
   "source": [
    "X_train, X_val, y_train, y_val = train_test_split(train[numerical_features], train['ppprice'],test_size=0.3,random_state=42)"
   ]
  },
  {
   "cell_type": "markdown",
   "metadata": {},
   "source": [
    "Se procede a estandarizar los atributos numéricos no categóricos:"
   ]
  },
  {
   "cell_type": "code",
   "execution_count": null,
   "metadata": {},
   "outputs": [],
   "source": [
    "# Normalize data\n",
    "columns_to_normalize = ['package_code','meals_score','nights', 'nights_with_spa', 'hotels_score','meals','flight_stops','total_distance']\n",
    "#columns_to_normalize = non_multicol_for_normalizing\n",
    "\n",
    "ct = ColumnTransformer([\n",
    "        ('standardscal', StandardScaler(), columns_to_normalize)\n",
    "    ], remainder='passthrough')\n",
    "\n",
    "X_train = ct.fit_transform(X_train)\n",
    "X_val = ct.fit_transform(X_val)"
   ]
  },
  {
   "cell_type": "markdown",
   "metadata": {},
   "source": [
    "### Selección de Características"
   ]
  },
  {
   "cell_type": "markdown",
   "metadata": {},
   "source": [
    "Se calculan nuevos atributos a partir de los polinomios de los atributos del dataset:"
   ]
  },
  {
   "cell_type": "code",
   "execution_count": null,
   "metadata": {},
   "outputs": [],
   "source": [
    "# Se crean variables polinomiales en base a las variables del dataset\n",
    "poly_features = PolynomialFeatures(degree=2).fit(X_train)\n",
    "X_train_poly = poly_features.transform(X_train)\n",
    "X_val_poly = poly_features.transform(X_val)"
   ]
  },
  {
   "cell_type": "code",
   "execution_count": null,
   "metadata": {},
   "outputs": [],
   "source": [
    "print(X_train_poly.shape)"
   ]
  },
  {
   "cell_type": "markdown",
   "metadata": {},
   "source": [
    "Se eliminan del dataset aquellas variables con baja varianza, ya que aportan menos información al modelo:"
   ]
  },
  {
   "cell_type": "code",
   "execution_count": null,
   "metadata": {},
   "outputs": [],
   "source": [
    "# Se eliminan aquellas variables con baja varianza (bajo aporte de información)\n",
    "variance_selector = VarianceThreshold().fit(X_train_poly)\n",
    "X_train_poly = variance_selector.transform(X_train_poly)\n",
    "X_val_poly = variance_selector.transform(X_val_poly)"
   ]
  },
  {
   "cell_type": "code",
   "execution_count": null,
   "metadata": {},
   "outputs": [],
   "source": [
    "print(X_train_poly.shape)"
   ]
  },
  {
   "cell_type": "markdown",
   "metadata": {},
   "source": [
    "Se seleccionan características con métodos tipo wrapper y de filtrado:"
   ]
  },
  {
   "cell_type": "code",
   "execution_count": null,
   "metadata": {},
   "outputs": [],
   "source": [
    "import warnings\n",
    "warnings.filterwarnings('ignore')\n",
    "lasso_cv_poly = LassoCV().fit(X_train_poly, y_train)\n",
    "\n",
    "# Algoritmo greedy que selecciona cada vez la variable que más aporta a la predicción\n",
    "#sfs_forward = SequentialFeatureSelector(\n",
    "#    lasso_cv_poly, n_features_to_select=10, direction=\"forward\"\n",
    "#).fit(X_train_poly, y_train)\n",
    "\n",
    "# Selecciona las mejores k características en base a una métrica de información\n",
    "select_method = [f_regression,mutual_info_regression][0]\n",
    "select_k = SelectKBest(select_method, k=15).fit(X_train_poly, y_train)\n",
    "\n",
    "# Seleccionar por importancia de la característica en base a un modelo\n",
    "#selector_by_importance = SelectFromModel(estimator=LinearRegression(),max_features=30).fit(X_train_poly, y_train)\n",
    "\n",
    "# Selecciona recursivamente y mediante CV los atributos\n",
    "#estimator = svm.SVR(kernel=\"linear\")\n",
    "#selector = RFECV(estimator, step=1, cv=5)\n",
    "#selector = selector.fit(X_train, y_train)"
   ]
  },
  {
   "cell_type": "code",
   "execution_count": null,
   "metadata": {},
   "outputs": [],
   "source": [
    "#X_train_filter = sfs_forward.transform(X_train_poly)\n",
    "#X_val_filter = sfs_forward.transform(X_val_poly)"
   ]
  },
  {
   "cell_type": "code",
   "execution_count": null,
   "metadata": {},
   "outputs": [],
   "source": [
    "X_train_filter = select_k.transform(X_train_poly)\n",
    "X_val_filter = select_k.transform(X_val_poly)"
   ]
  },
  {
   "cell_type": "code",
   "execution_count": null,
   "metadata": {},
   "outputs": [],
   "source": [
    "# Selección por importancia de cada característica\n",
    "#X_train_filter = selector_by_importance.transform(X_train_poly)\n",
    "#X_val_filter = selector_by_importance.transform(X_val_poly)"
   ]
  },
  {
   "cell_type": "code",
   "execution_count": null,
   "metadata": {},
   "outputs": [],
   "source": [
    "#X_train_filter = selector.transform(X_train_poly)\n",
    "#X_val_filter = selector.transform(X_val_poly)"
   ]
  },
  {
   "cell_type": "code",
   "execution_count": null,
   "metadata": {},
   "outputs": [],
   "source": [
    "lasso_cv = LassoCV().fit(X_train, y_train)\n",
    "# mejor resultado\n",
    "sfs_forward = SequentialFeatureSelector(\n",
    "    lasso_cv, n_features_to_select=7, direction=\"forward\"\n",
    ").fit(X_train, y_train)\n",
    "X_train = sfs_forward.transform(X_train)\n",
    "X_val = sfs_forward.transform(X_val)"
   ]
  },
  {
   "cell_type": "markdown",
   "metadata": {},
   "source": [
    "### Reducción de dimensionalidad"
   ]
  },
  {
   "cell_type": "markdown",
   "metadata": {},
   "source": [
    "Se evalúa si reducir la dimensionalidad tiene un efecto positivo en los resultados:"
   ]
  },
  {
   "cell_type": "code",
   "execution_count": null,
   "metadata": {},
   "outputs": [],
   "source": [
    "# Reducción de dimensionalidad sobre las características escogidas\n",
    "#pca = PCA(n_components=7).fit(X_train_sfs)\n",
    "#X_train_sfs_pca = pca.transform(X_train_sfs)\n",
    "#X_val_sfs_pca = pca.transform(X_val_sfs)"
   ]
  },
  {
   "cell_type": "markdown",
   "metadata": {},
   "source": [
    "### Evaluación de modelos"
   ]
  },
  {
   "cell_type": "code",
   "execution_count": null,
   "metadata": {},
   "outputs": [],
   "source": [
    "# Mejor resultado\n",
    "poly_pipeline_better = Pipeline([('poly', PolynomialFeatures(degree=2)),\n",
    "                          ('select_features',SelectKBest(select_method, k=30)),\n",
    "                          ('linear', linear_model.RidgeCV(alphas=np.logspace(-2, 2, 13)))])\n",
    "poly_pipeline_better = poly_pipeline_better.fit(X_train, y_train)\n",
    "y_pred = poly_pipeline_better.predict(X_val)\n",
    "y_pred_train = poly_pipeline_better.predict(X_train)\n",
    "print(mean_absolute_percentage_error(y_val,y_pred))\n",
    "print(mean_absolute_percentage_error(y_train,y_pred_train))"
   ]
  },
  {
   "cell_type": "markdown",
   "metadata": {},
   "source": [
    "Se procede a evaluar distintos modelos lineales en el dataset filtrado (luego de la selección de características):"
   ]
  },
  {
   "cell_type": "code",
   "execution_count": null,
   "metadata": {},
   "outputs": [],
   "source": [
    "# Modelo Lineal Ridge\n",
    "lr_ridge = Ridge(alpha=0.01)\n",
    "lr_ridge = lr_ridge.fit(X_train_filter, y_train)\n",
    "y_pred = lr_ridge.predict(X_val_filter)\n",
    "y_pred_train = lr_ridge.predict(X_train_filter)\n",
    "print(mean_absolute_percentage_error(y_val,y_pred))\n",
    "print(mean_absolute_percentage_error(y_train,y_pred_train))"
   ]
  },
  {
   "cell_type": "code",
   "execution_count": null,
   "metadata": {},
   "outputs": [],
   "source": [
    "# Modelo con características polinomiales\n",
    "poly_pipeline = Pipeline([('poly', PolynomialFeatures(degree=3)),\n",
    "                          ('select_features',SelectKBest(select_method, k=20)),\n",
    "                          ('linear', Ridge(alpha=1))])\n",
    "poly_pipeline = poly_pipeline.fit(X_train_filter, y_train)\n",
    "y_pred = poly_pipeline.predict(X_val_filter)\n",
    "mean_absolute_percentage_error(y_val,y_pred)"
   ]
  },
  {
   "cell_type": "code",
   "execution_count": null,
   "metadata": {},
   "outputs": [],
   "source": [
    "# Modelo Lineal SGD\n",
    "sgd = SGDRegressor(max_iter=1000, tol=1e-3)\n",
    "sgd = sgd.fit(X_train_filter,y_train)\n",
    "y_pred = sgd.predict(X_val_filter)\n",
    "mean_absolute_percentage_error(y_val,y_pred)"
   ]
  },
  {
   "cell_type": "code",
   "execution_count": null,
   "metadata": {},
   "outputs": [],
   "source": [
    "# Modelo lineal regression\n",
    "lr = LinearRegression()\n",
    "lr = lr.fit(X_train_filter,y_train)\n",
    "y_pred = lr.predict(X_val_filter)\n",
    "mean_absolute_percentage_error(y_val,y_pred)"
   ]
  },
  {
   "cell_type": "code",
   "execution_count": null,
   "metadata": {},
   "outputs": [],
   "source": [
    "# Modelo Lineal Lasso\n",
    "lasso = linear_model.Lasso(alpha=0.001)\n",
    "lasso = lasso.fit(X_train_filter,y_train)\n",
    "y_pred = lasso.predict(X_val_filter)\n",
    "mean_absolute_percentage_error(y_val,y_pred)"
   ]
  },
  {
   "cell_type": "code",
   "execution_count": null,
   "metadata": {},
   "outputs": [],
   "source": [
    "# Modelo Lineal SVM\n",
    "regr = svm.SVR()\n",
    "regr = regr.fit(X_train_filter, y_train)\n",
    "y_pred = regr.predict(X_val_filter)\n",
    "mean_absolute_percentage_error(y_val,y_pred)"
   ]
  },
  {
   "cell_type": "code",
   "execution_count": null,
   "metadata": {},
   "outputs": [],
   "source": [
    "# Modelo Lineal BayesianRidge\n",
    "reg_bay = linear_model.BayesianRidge()\n",
    "reg_bay = reg_bay.fit(X_train_filter, y_train)\n",
    "y_pred = reg_bay.predict(X_val_filter)\n",
    "mean_absolute_percentage_error(y_val,y_pred)"
   ]
  },
  {
   "cell_type": "code",
   "execution_count": null,
   "metadata": {},
   "outputs": [],
   "source": [
    "# Modelo Lineal Ridge con cross validation\n",
    "ridge_cv = linear_model.RidgeCV(alphas=np.logspace(-6, 6, 13))\n",
    "ridge_cv = ridge_cv.fit(X_train_filter, y_train)\n",
    "y_pred = ridge_cv.predict(X_val_filter)\n",
    "mean_absolute_percentage_error(y_val,y_pred)"
   ]
  },
  {
   "cell_type": "code",
   "execution_count": null,
   "metadata": {},
   "outputs": [],
   "source": [
    "# Modelo Lineal Lasso lars\n",
    "lasso_lars = linear_model.LassoLars(alpha=.1, normalize=False)\n",
    "lasso_lars = lasso_lars.fit(X_train_filter, y_train)\n",
    "y_pred = lasso_lars.predict(X_val_filter)\n",
    "mean_absolute_percentage_error(y_val,y_pred)"
   ]
  },
  {
   "cell_type": "markdown",
   "metadata": {},
   "source": [
    "## 7. Submit"
   ]
  },
  {
   "cell_type": "markdown",
   "metadata": {},
   "source": [
    "Se entrena el mejor modelo encontrado con el conjunto de validación sobre todos los datos de entrenamiento para realizar la predicción del conjunto de testing:"
   ]
  },
  {
   "cell_type": "code",
   "execution_count": null,
   "metadata": {},
   "outputs": [],
   "source": [
    "#ct = ColumnTransformer([\n",
    "#        ('standardscal', StandardScaler(), columns_to_normalize)\n",
    "#    ], remainder='passthrough')\n",
    "\n",
    "X_train_submit = ct.fit_transform(train[numerical_features])\n",
    "\n",
    "# Se aplica selección de atributos sobre X_train_submit\n",
    "X_train_submit = sfs_forward.transform(X_train_submit)\n",
    "\n",
    "# Mejores resultados\n",
    "poly_pipeline_better = Pipeline([('poly', PolynomialFeatures(degree=2)),\n",
    "                          ('select_features',SelectKBest(select_method, k=31)),\n",
    "                          ('linear', linear_model.RidgeCV(alphas=np.logspace(-2, 2, 13)))])\n",
    "poly_pipeline_better = poly_pipeline_better.fit(X_train_submit, train[\"ppprice\"])\n",
    "\n",
    "\n",
    "#lr_ridge = Ridge(alpha=1.5)\n",
    "#lr_ridge = lr_ridge.fit(X_train_submit,train[\"ppprice\"])\n",
    "\n",
    "# entrenamiento del modelo con todos los datos de train\n",
    "#poly_pipeline = Pipeline([('poly', PolynomialFeatures(degree=3)),('linear', Ridge(alpha=1.5))])\n",
    "#poly_pipeline = poly_pipeline.fit(X_train_submit, train[\"ppprice\"])\n"
   ]
  },
  {
   "cell_type": "markdown",
   "metadata": {},
   "source": [
    "Se aplican las mismas transformaciones de datos aplicadas al conjunto de entrenamiento:"
   ]
  },
  {
   "cell_type": "code",
   "execution_count": null,
   "metadata": {},
   "outputs": [],
   "source": [
    "X_test = test[numerical_features]\n",
    "X_test = ct.fit_transform(X_test)\n",
    "X_test = sfs_forward.transform(X_test)\n",
    "y_pred = poly_pipeline_better.predict(X_test)\n",
    "#y_pred = lr_ridge.predict(X_test)"
   ]
  },
  {
   "cell_type": "code",
   "execution_count": null,
   "metadata": {},
   "outputs": [],
   "source": [
    "test['ppprice'] = y_pred"
   ]
  },
  {
   "cell_type": "code",
   "execution_count": null,
   "metadata": {},
   "outputs": [],
   "source": [
    "test_submit = test[['index','ppprice']]"
   ]
  },
  {
   "cell_type": "code",
   "execution_count": null,
   "metadata": {},
   "outputs": [],
   "source": [
    "test_submit = test_submit.rename(columns={'index':'Index','ppprice':'PPPrice'})"
   ]
  },
  {
   "cell_type": "code",
   "execution_count": null,
   "metadata": {},
   "outputs": [],
   "source": [
    "test_submit"
   ]
  },
  {
   "cell_type": "code",
   "execution_count": null,
   "metadata": {},
   "outputs": [],
   "source": [
    "test_submit.to_csv(\"./submissions/submission-9.csv\", index=False)"
   ]
  },
  {
   "cell_type": "markdown",
   "metadata": {},
   "source": [
    "## 8. Conclusiones"
   ]
  },
  {
   "cell_type": "markdown",
   "metadata": {},
   "source": [
    "1. Al trabajar con modelos simples se experimenta la importancia de la ingeniería de características para obtener buenos resultados ya que, la diferencia de rendimiento entre distintos modelos lineales es ínfima, por lo que, las grandes mejoras en el desempeño están totalmente correlacionadas con los atributos que se incluyen en el modelo.\n",
    "2. El hecho de eliminar variables para evitar la multicolinearidad entre las variables independientes no siempre provoca una mejora en el desempeño de la regresión lineal.\n",
    "3. A medida que la cantidad de atributos aumenta, el impacto del regularizador en el desempeño de los modelos es más significativo.\n",
    "4. Al realizar un proceso de creación de nuevas características se debe tener siempre en cuenta que se podría estar introduciendo multicolinealidad al modelo, por ejemplo, cuando aplicamos one-hot-encoding, introducimos directamente una multicolinealidad al modelo, la que se puede resolver eliminando una de las variables del one-hot-encoding."
   ]
  },
  {
   "cell_type": "markdown",
   "metadata": {},
   "source": [
    "## 9. Conformidad ética"
   ]
  },
  {
   "cell_type": "markdown",
   "metadata": {},
   "source": [
    "## 10. Contribución por integrante"
   ]
  },
  {
   "cell_type": "markdown",
   "metadata": {},
   "source": [
    "1. Codificar destinations.\n",
    "2. Verificar normalidad de los atributos."
   ]
  }
 ],
 "metadata": {
  "colab": {
   "collapsed_sections": [],
   "name": "[INF398]Taller2_II_2021.ipynb",
   "provenance": [],
   "toc_visible": true
  },
  "kernelspec": {
   "display_name": "Python 3",
   "language": "python",
   "name": "python3"
  },
  "language_info": {
   "codemirror_mode": {
    "name": "ipython",
    "version": 3
   },
   "file_extension": ".py",
   "mimetype": "text/x-python",
   "name": "python",
   "nbconvert_exporter": "python",
   "pygments_lexer": "ipython3",
   "version": "3.8.8"
  },
  "toc": {
   "base_numbering": 1,
   "nav_menu": {},
   "number_sections": true,
   "sideBar": true,
   "skip_h1_title": false,
   "title_cell": "Table of Contents",
   "title_sidebar": "Contents",
   "toc_cell": false,
   "toc_position": {},
   "toc_section_display": true,
   "toc_window_display": false
  }
 },
 "nbformat": 4,
 "nbformat_minor": 1
}
